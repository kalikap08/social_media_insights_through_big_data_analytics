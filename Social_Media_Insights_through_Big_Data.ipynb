{
  "metadata": {
    "kernelspec": {
      "display_name": "data_science",
      "language": "python",
      "name": "python3"
    },
    "language_info": {
      "codemirror_mode": {
        "name": "ipython",
        "version": 3
      },
      "file_extension": ".py",
      "mimetype": "text/x-python",
      "name": "python",
      "nbconvert_exporter": "python",
      "pygments_lexer": "ipython3",
      "version": "3.10.14"
    },
    "kaggle": {
      "accelerator": "none",
      "dataSources": [
        {
          "sourceId": 8460631,
          "sourceType": "datasetVersion",
          "datasetId": 5043355
        }
      ],
      "isInternetEnabled": true,
      "language": "python",
      "sourceType": "notebook",
      "isGpuEnabled": false
    },
    "colab": {
      "provenance": [],
      "include_colab_link": true
    }
  },
  "nbformat_minor": 0,
  "nbformat": 4,
  "cells": [
    {
      "cell_type": "markdown",
      "metadata": {
        "id": "view-in-github",
        "colab_type": "text"
      },
      "source": [
        "<a href=\"https://colab.research.google.com/github/kalikap08/social_media_insights_through_big_data_analytics/blob/main/Social_Media_Insights_through_Big_Data.ipynb\" target=\"_parent\"><img src=\"https://colab.research.google.com/assets/colab-badge.svg\" alt=\"Open In Colab\"/></a>"
      ]
    },
    {
      "source": [
        "import kagglehub\n",
        "emirhanai_social_media_usage_and_emotional_well_being_path = kagglehub.dataset_download('emirhanai/social-media-usage-and-emotional-well-being')\n",
        "\n",
        "print('Data source import complete.')\n"
      ],
      "metadata": {
        "id": "ExffDaXsFBge",
        "outputId": "35040b63-3cb3-4d6c-b8de-0490c5760ad1",
        "colab": {
          "base_uri": "https://localhost:8080/"
        }
      },
      "cell_type": "code",
      "outputs": [
        {
          "output_type": "stream",
          "name": "stdout",
          "text": [
            "Downloading from https://www.kaggle.com/api/v1/datasets/download/emirhanai/social-media-usage-and-emotional-well-being?dataset_version_number=1...\n"
          ]
        },
        {
          "output_type": "stream",
          "name": "stderr",
          "text": [
            "100%|██████████| 8.34k/8.34k [00:00<00:00, 4.05MB/s]"
          ]
        },
        {
          "output_type": "stream",
          "name": "stdout",
          "text": [
            "Extracting files...\n",
            "Data source import complete.\n"
          ]
        },
        {
          "output_type": "stream",
          "name": "stderr",
          "text": [
            "\n"
          ]
        }
      ],
      "execution_count": null
    },
    {
      "cell_type": "markdown",
      "source": [
        "<h1><b><p style=\"background-image: url(https://i.postimg.cc/0Qwf8YX6/2927262.jpg);font-family:camtasia;font-size:110%;color:white;text-align:center;border-radius:15px 50px; padding:7px; border:solid 2px #09375b; box-shadow: 10px 10px 10px #042b4c\">Project Title: Social Media insights through Big Data Analytics</p></b></h1>\n",
        "\n",
        "# About Dataset\n",
        "Files:\n",
        "\n",
        "    train.csv: Data for training models.\n",
        "    test.csv: Data for testing models.\n",
        "    val.csv: Data for validation purposes.\n",
        "\n",
        "__Dataset Overview:__\n",
        "\n",
        "  🌐 Source: __Dataset is taken from [Kaggle](https://www.kaggle.com/datasets/emirhanai/social-media-usage-and-emotional-well-being/data)__\n",
        "\n",
        "\n"
      ],
      "metadata": {
        "id": "1fRMtuSbFBge"
      }
    },
    {
      "cell_type": "markdown",
      "source": [
        "# Importing Libraries"
      ],
      "metadata": {
        "id": "Tboh-uOFFBgg"
      }
    },
    {
      "cell_type": "code",
      "source": [
        "import pandas as pd\n",
        "import numpy as np\n",
        "import matplotlib.pyplot as plt\n",
        "import seaborn as sns\n",
        "import plotly.express as px"
      ],
      "metadata": {
        "id": "FeDwF_atFBgh"
      },
      "execution_count": null,
      "outputs": []
    },
    {
      "cell_type": "code",
      "source": [
        "# Ignore Warnings\n",
        "import warnings\n",
        "warnings.filterwarnings(\"ignore\")"
      ],
      "metadata": {
        "id": "MF1lvBcRFBgh"
      },
      "execution_count": null,
      "outputs": []
    },
    {
      "cell_type": "markdown",
      "source": [
        "# Data Loading"
      ],
      "metadata": {
        "id": "nMSoeb-fFBgh"
      }
    },
    {
      "cell_type": "code",
      "source": [
        "from google.colab import files\n",
        "uploaded = files.upload()  # Select 'data.zip'\n",
        "\n"
      ],
      "metadata": {
        "id": "HvmKnTUJFBgh",
        "outputId": "928da1cf-a9bf-4b1f-900d-afab81d3b8ef",
        "colab": {
          "base_uri": "https://localhost:8080/",
          "height": 74
        }
      },
      "execution_count": null,
      "outputs": [
        {
          "output_type": "display_data",
          "data": {
            "text/plain": [
              "<IPython.core.display.HTML object>"
            ],
            "text/html": [
              "\n",
              "     <input type=\"file\" id=\"files-84d7e9bf-3598-4889-a022-214c1225e8be\" name=\"files[]\" multiple disabled\n",
              "        style=\"border:none\" />\n",
              "     <output id=\"result-84d7e9bf-3598-4889-a022-214c1225e8be\">\n",
              "      Upload widget is only available when the cell has been executed in the\n",
              "      current browser session. Please rerun this cell to enable.\n",
              "      </output>\n",
              "      <script>// Copyright 2017 Google LLC\n",
              "//\n",
              "// Licensed under the Apache License, Version 2.0 (the \"License\");\n",
              "// you may not use this file except in compliance with the License.\n",
              "// You may obtain a copy of the License at\n",
              "//\n",
              "//      http://www.apache.org/licenses/LICENSE-2.0\n",
              "//\n",
              "// Unless required by applicable law or agreed to in writing, software\n",
              "// distributed under the License is distributed on an \"AS IS\" BASIS,\n",
              "// WITHOUT WARRANTIES OR CONDITIONS OF ANY KIND, either express or implied.\n",
              "// See the License for the specific language governing permissions and\n",
              "// limitations under the License.\n",
              "\n",
              "/**\n",
              " * @fileoverview Helpers for google.colab Python module.\n",
              " */\n",
              "(function(scope) {\n",
              "function span(text, styleAttributes = {}) {\n",
              "  const element = document.createElement('span');\n",
              "  element.textContent = text;\n",
              "  for (const key of Object.keys(styleAttributes)) {\n",
              "    element.style[key] = styleAttributes[key];\n",
              "  }\n",
              "  return element;\n",
              "}\n",
              "\n",
              "// Max number of bytes which will be uploaded at a time.\n",
              "const MAX_PAYLOAD_SIZE = 100 * 1024;\n",
              "\n",
              "function _uploadFiles(inputId, outputId) {\n",
              "  const steps = uploadFilesStep(inputId, outputId);\n",
              "  const outputElement = document.getElementById(outputId);\n",
              "  // Cache steps on the outputElement to make it available for the next call\n",
              "  // to uploadFilesContinue from Python.\n",
              "  outputElement.steps = steps;\n",
              "\n",
              "  return _uploadFilesContinue(outputId);\n",
              "}\n",
              "\n",
              "// This is roughly an async generator (not supported in the browser yet),\n",
              "// where there are multiple asynchronous steps and the Python side is going\n",
              "// to poll for completion of each step.\n",
              "// This uses a Promise to block the python side on completion of each step,\n",
              "// then passes the result of the previous step as the input to the next step.\n",
              "function _uploadFilesContinue(outputId) {\n",
              "  const outputElement = document.getElementById(outputId);\n",
              "  const steps = outputElement.steps;\n",
              "\n",
              "  const next = steps.next(outputElement.lastPromiseValue);\n",
              "  return Promise.resolve(next.value.promise).then((value) => {\n",
              "    // Cache the last promise value to make it available to the next\n",
              "    // step of the generator.\n",
              "    outputElement.lastPromiseValue = value;\n",
              "    return next.value.response;\n",
              "  });\n",
              "}\n",
              "\n",
              "/**\n",
              " * Generator function which is called between each async step of the upload\n",
              " * process.\n",
              " * @param {string} inputId Element ID of the input file picker element.\n",
              " * @param {string} outputId Element ID of the output display.\n",
              " * @return {!Iterable<!Object>} Iterable of next steps.\n",
              " */\n",
              "function* uploadFilesStep(inputId, outputId) {\n",
              "  const inputElement = document.getElementById(inputId);\n",
              "  inputElement.disabled = false;\n",
              "\n",
              "  const outputElement = document.getElementById(outputId);\n",
              "  outputElement.innerHTML = '';\n",
              "\n",
              "  const pickedPromise = new Promise((resolve) => {\n",
              "    inputElement.addEventListener('change', (e) => {\n",
              "      resolve(e.target.files);\n",
              "    });\n",
              "  });\n",
              "\n",
              "  const cancel = document.createElement('button');\n",
              "  inputElement.parentElement.appendChild(cancel);\n",
              "  cancel.textContent = 'Cancel upload';\n",
              "  const cancelPromise = new Promise((resolve) => {\n",
              "    cancel.onclick = () => {\n",
              "      resolve(null);\n",
              "    };\n",
              "  });\n",
              "\n",
              "  // Wait for the user to pick the files.\n",
              "  const files = yield {\n",
              "    promise: Promise.race([pickedPromise, cancelPromise]),\n",
              "    response: {\n",
              "      action: 'starting',\n",
              "    }\n",
              "  };\n",
              "\n",
              "  cancel.remove();\n",
              "\n",
              "  // Disable the input element since further picks are not allowed.\n",
              "  inputElement.disabled = true;\n",
              "\n",
              "  if (!files) {\n",
              "    return {\n",
              "      response: {\n",
              "        action: 'complete',\n",
              "      }\n",
              "    };\n",
              "  }\n",
              "\n",
              "  for (const file of files) {\n",
              "    const li = document.createElement('li');\n",
              "    li.append(span(file.name, {fontWeight: 'bold'}));\n",
              "    li.append(span(\n",
              "        `(${file.type || 'n/a'}) - ${file.size} bytes, ` +\n",
              "        `last modified: ${\n",
              "            file.lastModifiedDate ? file.lastModifiedDate.toLocaleDateString() :\n",
              "                                    'n/a'} - `));\n",
              "    const percent = span('0% done');\n",
              "    li.appendChild(percent);\n",
              "\n",
              "    outputElement.appendChild(li);\n",
              "\n",
              "    const fileDataPromise = new Promise((resolve) => {\n",
              "      const reader = new FileReader();\n",
              "      reader.onload = (e) => {\n",
              "        resolve(e.target.result);\n",
              "      };\n",
              "      reader.readAsArrayBuffer(file);\n",
              "    });\n",
              "    // Wait for the data to be ready.\n",
              "    let fileData = yield {\n",
              "      promise: fileDataPromise,\n",
              "      response: {\n",
              "        action: 'continue',\n",
              "      }\n",
              "    };\n",
              "\n",
              "    // Use a chunked sending to avoid message size limits. See b/62115660.\n",
              "    let position = 0;\n",
              "    do {\n",
              "      const length = Math.min(fileData.byteLength - position, MAX_PAYLOAD_SIZE);\n",
              "      const chunk = new Uint8Array(fileData, position, length);\n",
              "      position += length;\n",
              "\n",
              "      const base64 = btoa(String.fromCharCode.apply(null, chunk));\n",
              "      yield {\n",
              "        response: {\n",
              "          action: 'append',\n",
              "          file: file.name,\n",
              "          data: base64,\n",
              "        },\n",
              "      };\n",
              "\n",
              "      let percentDone = fileData.byteLength === 0 ?\n",
              "          100 :\n",
              "          Math.round((position / fileData.byteLength) * 100);\n",
              "      percent.textContent = `${percentDone}% done`;\n",
              "\n",
              "    } while (position < fileData.byteLength);\n",
              "  }\n",
              "\n",
              "  // All done.\n",
              "  yield {\n",
              "    response: {\n",
              "      action: 'complete',\n",
              "    }\n",
              "  };\n",
              "}\n",
              "\n",
              "scope.google = scope.google || {};\n",
              "scope.google.colab = scope.google.colab || {};\n",
              "scope.google.colab._files = {\n",
              "  _uploadFiles,\n",
              "  _uploadFilesContinue,\n",
              "};\n",
              "})(self);\n",
              "</script> "
            ]
          },
          "metadata": {}
        },
        {
          "output_type": "stream",
          "name": "stdout",
          "text": [
            "Saving socialmedia_data.zip to socialmedia_data.zip\n"
          ]
        }
      ]
    },
    {
      "cell_type": "code",
      "source": [
        "import zipfile\n",
        "import os\n",
        "\n",
        "with zipfile.ZipFile(\"socialmedia_data.zip\", \"r\") as zip_ref:\n",
        "    zip_ref.extractall(\"/content/\")  # Extract files here\n",
        "\n",
        "print(\"Extracted files:\", os.listdir(\"/content/\"))\n"
      ],
      "metadata": {
        "id": "D47jqZMIHebh",
        "outputId": "18ad9d62-2ddc-46c0-e644-829511394a88",
        "colab": {
          "base_uri": "https://localhost:8080/"
        }
      },
      "execution_count": null,
      "outputs": [
        {
          "output_type": "stream",
          "name": "stdout",
          "text": [
            "Extracted files: ['.config', 'train.csv', 'val.csv', 'socialmedia_data.zip', 'test.csv', 'sample_data']\n"
          ]
        }
      ]
    },
    {
      "cell_type": "code",
      "source": [
        "train_df = pd.read_csv(\"/content/train.csv\", on_bad_lines=\"skip\")\n",
        "test_df = pd.read_csv(\"/content/test.csv\", on_bad_lines=\"skip\")\n",
        "val_df = pd.read_csv(\"/content/val.csv\", on_bad_lines=\"skip\")\n",
        "\n",
        "print(\"✅ All files loaded!\")\n"
      ],
      "metadata": {
        "id": "h3ePNDhUHsez",
        "outputId": "4433fb53-37b3-4390-88eb-6b3ec8894d88",
        "colab": {
          "base_uri": "https://localhost:8080/"
        }
      },
      "execution_count": null,
      "outputs": [
        {
          "output_type": "stream",
          "name": "stdout",
          "text": [
            "✅ All files loaded!\n"
          ]
        }
      ]
    },
    {
      "cell_type": "code",
      "source": [
        "# viwing the traing data, test data and validation data\n",
        "print(\"Training Data:\")\n",
        "display(train_df.head())\n",
        "print(\"----------------------------------------------------------------------\")\n",
        "print(\"Testing Data:\")\n",
        "display(test_df.head())\n",
        "print(\"----------------------------------------------------------------------\")\n",
        "print(\"Validation Data:\")\n",
        "display(val_df.head())"
      ],
      "metadata": {
        "id": "aBT2ky9KFBgi",
        "outputId": "bb80e15b-8fbd-4c38-935e-2e9f5214ad52",
        "colab": {
          "base_uri": "https://localhost:8080/",
          "height": 692
        }
      },
      "execution_count": null,
      "outputs": [
        {
          "output_type": "stream",
          "name": "stdout",
          "text": [
            "Training Data:\n"
          ]
        },
        {
          "output_type": "display_data",
          "data": {
            "text/plain": [
              "  User_ID  Age  Gender   Platform  Daily_Usage_Time (minutes)  Posts_Per_Day  \\\n",
              "0     NaN  NaN     NaN        NaN                         NaN            NaN   \n",
              "1       1   25  Female  Instagram                       120.0            3.0   \n",
              "2     NaN  NaN     NaN        NaN                         NaN            NaN   \n",
              "3       2   30    Male    Twitter                        90.0            5.0   \n",
              "4     NaN  NaN     NaN        NaN                         NaN            NaN   \n",
              "\n",
              "   Likes_Received_Per_Day  Comments_Received_Per_Day  Messages_Sent_Per_Day  \\\n",
              "0                     NaN                        NaN                    NaN   \n",
              "1                    45.0                       10.0                   12.0   \n",
              "2                     NaN                        NaN                    NaN   \n",
              "3                    20.0                       25.0                   30.0   \n",
              "4                     NaN                        NaN                    NaN   \n",
              "\n",
              "  Dominant_Emotion  \n",
              "0              NaN  \n",
              "1        Happiness  \n",
              "2              NaN  \n",
              "3            Anger  \n",
              "4              NaN  "
            ],
            "text/html": [
              "\n",
              "  <div id=\"df-a8529594-9fe3-4f07-8f0f-3fe3d131dd98\" class=\"colab-df-container\">\n",
              "    <div>\n",
              "<style scoped>\n",
              "    .dataframe tbody tr th:only-of-type {\n",
              "        vertical-align: middle;\n",
              "    }\n",
              "\n",
              "    .dataframe tbody tr th {\n",
              "        vertical-align: top;\n",
              "    }\n",
              "\n",
              "    .dataframe thead th {\n",
              "        text-align: right;\n",
              "    }\n",
              "</style>\n",
              "<table border=\"1\" class=\"dataframe\">\n",
              "  <thead>\n",
              "    <tr style=\"text-align: right;\">\n",
              "      <th></th>\n",
              "      <th>User_ID</th>\n",
              "      <th>Age</th>\n",
              "      <th>Gender</th>\n",
              "      <th>Platform</th>\n",
              "      <th>Daily_Usage_Time (minutes)</th>\n",
              "      <th>Posts_Per_Day</th>\n",
              "      <th>Likes_Received_Per_Day</th>\n",
              "      <th>Comments_Received_Per_Day</th>\n",
              "      <th>Messages_Sent_Per_Day</th>\n",
              "      <th>Dominant_Emotion</th>\n",
              "    </tr>\n",
              "  </thead>\n",
              "  <tbody>\n",
              "    <tr>\n",
              "      <th>0</th>\n",
              "      <td>NaN</td>\n",
              "      <td>NaN</td>\n",
              "      <td>NaN</td>\n",
              "      <td>NaN</td>\n",
              "      <td>NaN</td>\n",
              "      <td>NaN</td>\n",
              "      <td>NaN</td>\n",
              "      <td>NaN</td>\n",
              "      <td>NaN</td>\n",
              "      <td>NaN</td>\n",
              "    </tr>\n",
              "    <tr>\n",
              "      <th>1</th>\n",
              "      <td>1</td>\n",
              "      <td>25</td>\n",
              "      <td>Female</td>\n",
              "      <td>Instagram</td>\n",
              "      <td>120.0</td>\n",
              "      <td>3.0</td>\n",
              "      <td>45.0</td>\n",
              "      <td>10.0</td>\n",
              "      <td>12.0</td>\n",
              "      <td>Happiness</td>\n",
              "    </tr>\n",
              "    <tr>\n",
              "      <th>2</th>\n",
              "      <td>NaN</td>\n",
              "      <td>NaN</td>\n",
              "      <td>NaN</td>\n",
              "      <td>NaN</td>\n",
              "      <td>NaN</td>\n",
              "      <td>NaN</td>\n",
              "      <td>NaN</td>\n",
              "      <td>NaN</td>\n",
              "      <td>NaN</td>\n",
              "      <td>NaN</td>\n",
              "    </tr>\n",
              "    <tr>\n",
              "      <th>3</th>\n",
              "      <td>2</td>\n",
              "      <td>30</td>\n",
              "      <td>Male</td>\n",
              "      <td>Twitter</td>\n",
              "      <td>90.0</td>\n",
              "      <td>5.0</td>\n",
              "      <td>20.0</td>\n",
              "      <td>25.0</td>\n",
              "      <td>30.0</td>\n",
              "      <td>Anger</td>\n",
              "    </tr>\n",
              "    <tr>\n",
              "      <th>4</th>\n",
              "      <td>NaN</td>\n",
              "      <td>NaN</td>\n",
              "      <td>NaN</td>\n",
              "      <td>NaN</td>\n",
              "      <td>NaN</td>\n",
              "      <td>NaN</td>\n",
              "      <td>NaN</td>\n",
              "      <td>NaN</td>\n",
              "      <td>NaN</td>\n",
              "      <td>NaN</td>\n",
              "    </tr>\n",
              "  </tbody>\n",
              "</table>\n",
              "</div>\n",
              "    <div class=\"colab-df-buttons\">\n",
              "\n",
              "  <div class=\"colab-df-container\">\n",
              "    <button class=\"colab-df-convert\" onclick=\"convertToInteractive('df-a8529594-9fe3-4f07-8f0f-3fe3d131dd98')\"\n",
              "            title=\"Convert this dataframe to an interactive table.\"\n",
              "            style=\"display:none;\">\n",
              "\n",
              "  <svg xmlns=\"http://www.w3.org/2000/svg\" height=\"24px\" viewBox=\"0 -960 960 960\">\n",
              "    <path d=\"M120-120v-720h720v720H120Zm60-500h600v-160H180v160Zm220 220h160v-160H400v160Zm0 220h160v-160H400v160ZM180-400h160v-160H180v160Zm440 0h160v-160H620v160ZM180-180h160v-160H180v160Zm440 0h160v-160H620v160Z\"/>\n",
              "  </svg>\n",
              "    </button>\n",
              "\n",
              "  <style>\n",
              "    .colab-df-container {\n",
              "      display:flex;\n",
              "      gap: 12px;\n",
              "    }\n",
              "\n",
              "    .colab-df-convert {\n",
              "      background-color: #E8F0FE;\n",
              "      border: none;\n",
              "      border-radius: 50%;\n",
              "      cursor: pointer;\n",
              "      display: none;\n",
              "      fill: #1967D2;\n",
              "      height: 32px;\n",
              "      padding: 0 0 0 0;\n",
              "      width: 32px;\n",
              "    }\n",
              "\n",
              "    .colab-df-convert:hover {\n",
              "      background-color: #E2EBFA;\n",
              "      box-shadow: 0px 1px 2px rgba(60, 64, 67, 0.3), 0px 1px 3px 1px rgba(60, 64, 67, 0.15);\n",
              "      fill: #174EA6;\n",
              "    }\n",
              "\n",
              "    .colab-df-buttons div {\n",
              "      margin-bottom: 4px;\n",
              "    }\n",
              "\n",
              "    [theme=dark] .colab-df-convert {\n",
              "      background-color: #3B4455;\n",
              "      fill: #D2E3FC;\n",
              "    }\n",
              "\n",
              "    [theme=dark] .colab-df-convert:hover {\n",
              "      background-color: #434B5C;\n",
              "      box-shadow: 0px 1px 3px 1px rgba(0, 0, 0, 0.15);\n",
              "      filter: drop-shadow(0px 1px 2px rgba(0, 0, 0, 0.3));\n",
              "      fill: #FFFFFF;\n",
              "    }\n",
              "  </style>\n",
              "\n",
              "    <script>\n",
              "      const buttonEl =\n",
              "        document.querySelector('#df-a8529594-9fe3-4f07-8f0f-3fe3d131dd98 button.colab-df-convert');\n",
              "      buttonEl.style.display =\n",
              "        google.colab.kernel.accessAllowed ? 'block' : 'none';\n",
              "\n",
              "      async function convertToInteractive(key) {\n",
              "        const element = document.querySelector('#df-a8529594-9fe3-4f07-8f0f-3fe3d131dd98');\n",
              "        const dataTable =\n",
              "          await google.colab.kernel.invokeFunction('convertToInteractive',\n",
              "                                                    [key], {});\n",
              "        if (!dataTable) return;\n",
              "\n",
              "        const docLinkHtml = 'Like what you see? Visit the ' +\n",
              "          '<a target=\"_blank\" href=https://colab.research.google.com/notebooks/data_table.ipynb>data table notebook</a>'\n",
              "          + ' to learn more about interactive tables.';\n",
              "        element.innerHTML = '';\n",
              "        dataTable['output_type'] = 'display_data';\n",
              "        await google.colab.output.renderOutput(dataTable, element);\n",
              "        const docLink = document.createElement('div');\n",
              "        docLink.innerHTML = docLinkHtml;\n",
              "        element.appendChild(docLink);\n",
              "      }\n",
              "    </script>\n",
              "  </div>\n",
              "\n",
              "\n",
              "<div id=\"df-dd9b3980-699f-49c9-bb05-8e74066387a1\">\n",
              "  <button class=\"colab-df-quickchart\" onclick=\"quickchart('df-dd9b3980-699f-49c9-bb05-8e74066387a1')\"\n",
              "            title=\"Suggest charts\"\n",
              "            style=\"display:none;\">\n",
              "\n",
              "<svg xmlns=\"http://www.w3.org/2000/svg\" height=\"24px\"viewBox=\"0 0 24 24\"\n",
              "     width=\"24px\">\n",
              "    <g>\n",
              "        <path d=\"M19 3H5c-1.1 0-2 .9-2 2v14c0 1.1.9 2 2 2h14c1.1 0 2-.9 2-2V5c0-1.1-.9-2-2-2zM9 17H7v-7h2v7zm4 0h-2V7h2v10zm4 0h-2v-4h2v4z\"/>\n",
              "    </g>\n",
              "</svg>\n",
              "  </button>\n",
              "\n",
              "<style>\n",
              "  .colab-df-quickchart {\n",
              "      --bg-color: #E8F0FE;\n",
              "      --fill-color: #1967D2;\n",
              "      --hover-bg-color: #E2EBFA;\n",
              "      --hover-fill-color: #174EA6;\n",
              "      --disabled-fill-color: #AAA;\n",
              "      --disabled-bg-color: #DDD;\n",
              "  }\n",
              "\n",
              "  [theme=dark] .colab-df-quickchart {\n",
              "      --bg-color: #3B4455;\n",
              "      --fill-color: #D2E3FC;\n",
              "      --hover-bg-color: #434B5C;\n",
              "      --hover-fill-color: #FFFFFF;\n",
              "      --disabled-bg-color: #3B4455;\n",
              "      --disabled-fill-color: #666;\n",
              "  }\n",
              "\n",
              "  .colab-df-quickchart {\n",
              "    background-color: var(--bg-color);\n",
              "    border: none;\n",
              "    border-radius: 50%;\n",
              "    cursor: pointer;\n",
              "    display: none;\n",
              "    fill: var(--fill-color);\n",
              "    height: 32px;\n",
              "    padding: 0;\n",
              "    width: 32px;\n",
              "  }\n",
              "\n",
              "  .colab-df-quickchart:hover {\n",
              "    background-color: var(--hover-bg-color);\n",
              "    box-shadow: 0 1px 2px rgba(60, 64, 67, 0.3), 0 1px 3px 1px rgba(60, 64, 67, 0.15);\n",
              "    fill: var(--button-hover-fill-color);\n",
              "  }\n",
              "\n",
              "  .colab-df-quickchart-complete:disabled,\n",
              "  .colab-df-quickchart-complete:disabled:hover {\n",
              "    background-color: var(--disabled-bg-color);\n",
              "    fill: var(--disabled-fill-color);\n",
              "    box-shadow: none;\n",
              "  }\n",
              "\n",
              "  .colab-df-spinner {\n",
              "    border: 2px solid var(--fill-color);\n",
              "    border-color: transparent;\n",
              "    border-bottom-color: var(--fill-color);\n",
              "    animation:\n",
              "      spin 1s steps(1) infinite;\n",
              "  }\n",
              "\n",
              "  @keyframes spin {\n",
              "    0% {\n",
              "      border-color: transparent;\n",
              "      border-bottom-color: var(--fill-color);\n",
              "      border-left-color: var(--fill-color);\n",
              "    }\n",
              "    20% {\n",
              "      border-color: transparent;\n",
              "      border-left-color: var(--fill-color);\n",
              "      border-top-color: var(--fill-color);\n",
              "    }\n",
              "    30% {\n",
              "      border-color: transparent;\n",
              "      border-left-color: var(--fill-color);\n",
              "      border-top-color: var(--fill-color);\n",
              "      border-right-color: var(--fill-color);\n",
              "    }\n",
              "    40% {\n",
              "      border-color: transparent;\n",
              "      border-right-color: var(--fill-color);\n",
              "      border-top-color: var(--fill-color);\n",
              "    }\n",
              "    60% {\n",
              "      border-color: transparent;\n",
              "      border-right-color: var(--fill-color);\n",
              "    }\n",
              "    80% {\n",
              "      border-color: transparent;\n",
              "      border-right-color: var(--fill-color);\n",
              "      border-bottom-color: var(--fill-color);\n",
              "    }\n",
              "    90% {\n",
              "      border-color: transparent;\n",
              "      border-bottom-color: var(--fill-color);\n",
              "    }\n",
              "  }\n",
              "</style>\n",
              "\n",
              "  <script>\n",
              "    async function quickchart(key) {\n",
              "      const quickchartButtonEl =\n",
              "        document.querySelector('#' + key + ' button');\n",
              "      quickchartButtonEl.disabled = true;  // To prevent multiple clicks.\n",
              "      quickchartButtonEl.classList.add('colab-df-spinner');\n",
              "      try {\n",
              "        const charts = await google.colab.kernel.invokeFunction(\n",
              "            'suggestCharts', [key], {});\n",
              "      } catch (error) {\n",
              "        console.error('Error during call to suggestCharts:', error);\n",
              "      }\n",
              "      quickchartButtonEl.classList.remove('colab-df-spinner');\n",
              "      quickchartButtonEl.classList.add('colab-df-quickchart-complete');\n",
              "    }\n",
              "    (() => {\n",
              "      let quickchartButtonEl =\n",
              "        document.querySelector('#df-dd9b3980-699f-49c9-bb05-8e74066387a1 button');\n",
              "      quickchartButtonEl.style.display =\n",
              "        google.colab.kernel.accessAllowed ? 'block' : 'none';\n",
              "    })();\n",
              "  </script>\n",
              "</div>\n",
              "\n",
              "    </div>\n",
              "  </div>\n"
            ],
            "application/vnd.google.colaboratory.intrinsic+json": {
              "type": "dataframe",
              "summary": "{\n  \"name\": \"display(val_df\",\n  \"rows\": 5,\n  \"fields\": [\n    {\n      \"column\": \"User_ID\",\n      \"properties\": {\n        \"dtype\": \"category\",\n        \"num_unique_values\": 2,\n        \"samples\": [\n          \"2\",\n          \"1\"\n        ],\n        \"semantic_type\": \"\",\n        \"description\": \"\"\n      }\n    },\n    {\n      \"column\": \"Age\",\n      \"properties\": {\n        \"dtype\": \"category\",\n        \"num_unique_values\": 2,\n        \"samples\": [\n          \"30\",\n          \"25\"\n        ],\n        \"semantic_type\": \"\",\n        \"description\": \"\"\n      }\n    },\n    {\n      \"column\": \"Gender\",\n      \"properties\": {\n        \"dtype\": \"category\",\n        \"num_unique_values\": 2,\n        \"samples\": [\n          \"Male\",\n          \"Female\"\n        ],\n        \"semantic_type\": \"\",\n        \"description\": \"\"\n      }\n    },\n    {\n      \"column\": \"Platform\",\n      \"properties\": {\n        \"dtype\": \"category\",\n        \"num_unique_values\": 2,\n        \"samples\": [\n          \"Twitter\",\n          \"Instagram\"\n        ],\n        \"semantic_type\": \"\",\n        \"description\": \"\"\n      }\n    },\n    {\n      \"column\": \"Daily_Usage_Time (minutes)\",\n      \"properties\": {\n        \"dtype\": \"number\",\n        \"std\": 21.213203435596427,\n        \"min\": 90.0,\n        \"max\": 120.0,\n        \"num_unique_values\": 2,\n        \"samples\": [\n          90.0,\n          120.0\n        ],\n        \"semantic_type\": \"\",\n        \"description\": \"\"\n      }\n    },\n    {\n      \"column\": \"Posts_Per_Day\",\n      \"properties\": {\n        \"dtype\": \"number\",\n        \"std\": 1.4142135623730951,\n        \"min\": 3.0,\n        \"max\": 5.0,\n        \"num_unique_values\": 2,\n        \"samples\": [\n          5.0,\n          3.0\n        ],\n        \"semantic_type\": \"\",\n        \"description\": \"\"\n      }\n    },\n    {\n      \"column\": \"Likes_Received_Per_Day\",\n      \"properties\": {\n        \"dtype\": \"number\",\n        \"std\": 17.67766952966369,\n        \"min\": 20.0,\n        \"max\": 45.0,\n        \"num_unique_values\": 2,\n        \"samples\": [\n          20.0,\n          45.0\n        ],\n        \"semantic_type\": \"\",\n        \"description\": \"\"\n      }\n    },\n    {\n      \"column\": \"Comments_Received_Per_Day\",\n      \"properties\": {\n        \"dtype\": \"number\",\n        \"std\": 10.606601717798213,\n        \"min\": 10.0,\n        \"max\": 25.0,\n        \"num_unique_values\": 2,\n        \"samples\": [\n          25.0,\n          10.0\n        ],\n        \"semantic_type\": \"\",\n        \"description\": \"\"\n      }\n    },\n    {\n      \"column\": \"Messages_Sent_Per_Day\",\n      \"properties\": {\n        \"dtype\": \"number\",\n        \"std\": 12.727922061357855,\n        \"min\": 12.0,\n        \"max\": 30.0,\n        \"num_unique_values\": 2,\n        \"samples\": [\n          30.0,\n          12.0\n        ],\n        \"semantic_type\": \"\",\n        \"description\": \"\"\n      }\n    },\n    {\n      \"column\": \"Dominant_Emotion\",\n      \"properties\": {\n        \"dtype\": \"category\",\n        \"num_unique_values\": 2,\n        \"samples\": [\n          \"Anger\",\n          \"Happiness\"\n        ],\n        \"semantic_type\": \"\",\n        \"description\": \"\"\n      }\n    }\n  ]\n}"
            }
          },
          "metadata": {}
        },
        {
          "output_type": "stream",
          "name": "stdout",
          "text": [
            "----------------------------------------------------------------------\n",
            "Testing Data:\n"
          ]
        },
        {
          "output_type": "display_data",
          "data": {
            "text/plain": [
              "   User_ID  Age      Gender  Platform  Daily_Usage_Time (minutes)  \\\n",
              "0      NaN  NaN         NaN       NaN                         NaN   \n",
              "1    500.0   27      Female  Snapchat                       120.0   \n",
              "2      NaN  NaN         NaN       NaN                         NaN   \n",
              "3    488.0   21  Non-binary  Snapchat                        60.0   \n",
              "4      NaN  NaN         NaN       NaN                         NaN   \n",
              "\n",
              "   Posts_Per_Day  Likes_Received_Per_Day  Comments_Received_Per_Day  \\\n",
              "0            NaN                     NaN                        NaN   \n",
              "1            4.0                    40.0                       18.0   \n",
              "2            NaN                     NaN                        NaN   \n",
              "3            1.0                    18.0                        7.0   \n",
              "4            NaN                     NaN                        NaN   \n",
              "\n",
              "   Messages_Sent_Per_Day Dominant_Emotion  \n",
              "0                    NaN              NaN  \n",
              "1                   22.0          Neutral  \n",
              "2                    NaN              NaN  \n",
              "3                   12.0          Neutral  \n",
              "4                    NaN              NaN  "
            ],
            "text/html": [
              "\n",
              "  <div id=\"df-7b6efbcb-25bb-4d01-82e9-1509486b3d21\" class=\"colab-df-container\">\n",
              "    <div>\n",
              "<style scoped>\n",
              "    .dataframe tbody tr th:only-of-type {\n",
              "        vertical-align: middle;\n",
              "    }\n",
              "\n",
              "    .dataframe tbody tr th {\n",
              "        vertical-align: top;\n",
              "    }\n",
              "\n",
              "    .dataframe thead th {\n",
              "        text-align: right;\n",
              "    }\n",
              "</style>\n",
              "<table border=\"1\" class=\"dataframe\">\n",
              "  <thead>\n",
              "    <tr style=\"text-align: right;\">\n",
              "      <th></th>\n",
              "      <th>User_ID</th>\n",
              "      <th>Age</th>\n",
              "      <th>Gender</th>\n",
              "      <th>Platform</th>\n",
              "      <th>Daily_Usage_Time (minutes)</th>\n",
              "      <th>Posts_Per_Day</th>\n",
              "      <th>Likes_Received_Per_Day</th>\n",
              "      <th>Comments_Received_Per_Day</th>\n",
              "      <th>Messages_Sent_Per_Day</th>\n",
              "      <th>Dominant_Emotion</th>\n",
              "    </tr>\n",
              "  </thead>\n",
              "  <tbody>\n",
              "    <tr>\n",
              "      <th>0</th>\n",
              "      <td>NaN</td>\n",
              "      <td>NaN</td>\n",
              "      <td>NaN</td>\n",
              "      <td>NaN</td>\n",
              "      <td>NaN</td>\n",
              "      <td>NaN</td>\n",
              "      <td>NaN</td>\n",
              "      <td>NaN</td>\n",
              "      <td>NaN</td>\n",
              "      <td>NaN</td>\n",
              "    </tr>\n",
              "    <tr>\n",
              "      <th>1</th>\n",
              "      <td>500.0</td>\n",
              "      <td>27</td>\n",
              "      <td>Female</td>\n",
              "      <td>Snapchat</td>\n",
              "      <td>120.0</td>\n",
              "      <td>4.0</td>\n",
              "      <td>40.0</td>\n",
              "      <td>18.0</td>\n",
              "      <td>22.0</td>\n",
              "      <td>Neutral</td>\n",
              "    </tr>\n",
              "    <tr>\n",
              "      <th>2</th>\n",
              "      <td>NaN</td>\n",
              "      <td>NaN</td>\n",
              "      <td>NaN</td>\n",
              "      <td>NaN</td>\n",
              "      <td>NaN</td>\n",
              "      <td>NaN</td>\n",
              "      <td>NaN</td>\n",
              "      <td>NaN</td>\n",
              "      <td>NaN</td>\n",
              "      <td>NaN</td>\n",
              "    </tr>\n",
              "    <tr>\n",
              "      <th>3</th>\n",
              "      <td>488.0</td>\n",
              "      <td>21</td>\n",
              "      <td>Non-binary</td>\n",
              "      <td>Snapchat</td>\n",
              "      <td>60.0</td>\n",
              "      <td>1.0</td>\n",
              "      <td>18.0</td>\n",
              "      <td>7.0</td>\n",
              "      <td>12.0</td>\n",
              "      <td>Neutral</td>\n",
              "    </tr>\n",
              "    <tr>\n",
              "      <th>4</th>\n",
              "      <td>NaN</td>\n",
              "      <td>NaN</td>\n",
              "      <td>NaN</td>\n",
              "      <td>NaN</td>\n",
              "      <td>NaN</td>\n",
              "      <td>NaN</td>\n",
              "      <td>NaN</td>\n",
              "      <td>NaN</td>\n",
              "      <td>NaN</td>\n",
              "      <td>NaN</td>\n",
              "    </tr>\n",
              "  </tbody>\n",
              "</table>\n",
              "</div>\n",
              "    <div class=\"colab-df-buttons\">\n",
              "\n",
              "  <div class=\"colab-df-container\">\n",
              "    <button class=\"colab-df-convert\" onclick=\"convertToInteractive('df-7b6efbcb-25bb-4d01-82e9-1509486b3d21')\"\n",
              "            title=\"Convert this dataframe to an interactive table.\"\n",
              "            style=\"display:none;\">\n",
              "\n",
              "  <svg xmlns=\"http://www.w3.org/2000/svg\" height=\"24px\" viewBox=\"0 -960 960 960\">\n",
              "    <path d=\"M120-120v-720h720v720H120Zm60-500h600v-160H180v160Zm220 220h160v-160H400v160Zm0 220h160v-160H400v160ZM180-400h160v-160H180v160Zm440 0h160v-160H620v160ZM180-180h160v-160H180v160Zm440 0h160v-160H620v160Z\"/>\n",
              "  </svg>\n",
              "    </button>\n",
              "\n",
              "  <style>\n",
              "    .colab-df-container {\n",
              "      display:flex;\n",
              "      gap: 12px;\n",
              "    }\n",
              "\n",
              "    .colab-df-convert {\n",
              "      background-color: #E8F0FE;\n",
              "      border: none;\n",
              "      border-radius: 50%;\n",
              "      cursor: pointer;\n",
              "      display: none;\n",
              "      fill: #1967D2;\n",
              "      height: 32px;\n",
              "      padding: 0 0 0 0;\n",
              "      width: 32px;\n",
              "    }\n",
              "\n",
              "    .colab-df-convert:hover {\n",
              "      background-color: #E2EBFA;\n",
              "      box-shadow: 0px 1px 2px rgba(60, 64, 67, 0.3), 0px 1px 3px 1px rgba(60, 64, 67, 0.15);\n",
              "      fill: #174EA6;\n",
              "    }\n",
              "\n",
              "    .colab-df-buttons div {\n",
              "      margin-bottom: 4px;\n",
              "    }\n",
              "\n",
              "    [theme=dark] .colab-df-convert {\n",
              "      background-color: #3B4455;\n",
              "      fill: #D2E3FC;\n",
              "    }\n",
              "\n",
              "    [theme=dark] .colab-df-convert:hover {\n",
              "      background-color: #434B5C;\n",
              "      box-shadow: 0px 1px 3px 1px rgba(0, 0, 0, 0.15);\n",
              "      filter: drop-shadow(0px 1px 2px rgba(0, 0, 0, 0.3));\n",
              "      fill: #FFFFFF;\n",
              "    }\n",
              "  </style>\n",
              "\n",
              "    <script>\n",
              "      const buttonEl =\n",
              "        document.querySelector('#df-7b6efbcb-25bb-4d01-82e9-1509486b3d21 button.colab-df-convert');\n",
              "      buttonEl.style.display =\n",
              "        google.colab.kernel.accessAllowed ? 'block' : 'none';\n",
              "\n",
              "      async function convertToInteractive(key) {\n",
              "        const element = document.querySelector('#df-7b6efbcb-25bb-4d01-82e9-1509486b3d21');\n",
              "        const dataTable =\n",
              "          await google.colab.kernel.invokeFunction('convertToInteractive',\n",
              "                                                    [key], {});\n",
              "        if (!dataTable) return;\n",
              "\n",
              "        const docLinkHtml = 'Like what you see? Visit the ' +\n",
              "          '<a target=\"_blank\" href=https://colab.research.google.com/notebooks/data_table.ipynb>data table notebook</a>'\n",
              "          + ' to learn more about interactive tables.';\n",
              "        element.innerHTML = '';\n",
              "        dataTable['output_type'] = 'display_data';\n",
              "        await google.colab.output.renderOutput(dataTable, element);\n",
              "        const docLink = document.createElement('div');\n",
              "        docLink.innerHTML = docLinkHtml;\n",
              "        element.appendChild(docLink);\n",
              "      }\n",
              "    </script>\n",
              "  </div>\n",
              "\n",
              "\n",
              "<div id=\"df-20f3c001-04fb-4618-af1f-3b3ea2b6082e\">\n",
              "  <button class=\"colab-df-quickchart\" onclick=\"quickchart('df-20f3c001-04fb-4618-af1f-3b3ea2b6082e')\"\n",
              "            title=\"Suggest charts\"\n",
              "            style=\"display:none;\">\n",
              "\n",
              "<svg xmlns=\"http://www.w3.org/2000/svg\" height=\"24px\"viewBox=\"0 0 24 24\"\n",
              "     width=\"24px\">\n",
              "    <g>\n",
              "        <path d=\"M19 3H5c-1.1 0-2 .9-2 2v14c0 1.1.9 2 2 2h14c1.1 0 2-.9 2-2V5c0-1.1-.9-2-2-2zM9 17H7v-7h2v7zm4 0h-2V7h2v10zm4 0h-2v-4h2v4z\"/>\n",
              "    </g>\n",
              "</svg>\n",
              "  </button>\n",
              "\n",
              "<style>\n",
              "  .colab-df-quickchart {\n",
              "      --bg-color: #E8F0FE;\n",
              "      --fill-color: #1967D2;\n",
              "      --hover-bg-color: #E2EBFA;\n",
              "      --hover-fill-color: #174EA6;\n",
              "      --disabled-fill-color: #AAA;\n",
              "      --disabled-bg-color: #DDD;\n",
              "  }\n",
              "\n",
              "  [theme=dark] .colab-df-quickchart {\n",
              "      --bg-color: #3B4455;\n",
              "      --fill-color: #D2E3FC;\n",
              "      --hover-bg-color: #434B5C;\n",
              "      --hover-fill-color: #FFFFFF;\n",
              "      --disabled-bg-color: #3B4455;\n",
              "      --disabled-fill-color: #666;\n",
              "  }\n",
              "\n",
              "  .colab-df-quickchart {\n",
              "    background-color: var(--bg-color);\n",
              "    border: none;\n",
              "    border-radius: 50%;\n",
              "    cursor: pointer;\n",
              "    display: none;\n",
              "    fill: var(--fill-color);\n",
              "    height: 32px;\n",
              "    padding: 0;\n",
              "    width: 32px;\n",
              "  }\n",
              "\n",
              "  .colab-df-quickchart:hover {\n",
              "    background-color: var(--hover-bg-color);\n",
              "    box-shadow: 0 1px 2px rgba(60, 64, 67, 0.3), 0 1px 3px 1px rgba(60, 64, 67, 0.15);\n",
              "    fill: var(--button-hover-fill-color);\n",
              "  }\n",
              "\n",
              "  .colab-df-quickchart-complete:disabled,\n",
              "  .colab-df-quickchart-complete:disabled:hover {\n",
              "    background-color: var(--disabled-bg-color);\n",
              "    fill: var(--disabled-fill-color);\n",
              "    box-shadow: none;\n",
              "  }\n",
              "\n",
              "  .colab-df-spinner {\n",
              "    border: 2px solid var(--fill-color);\n",
              "    border-color: transparent;\n",
              "    border-bottom-color: var(--fill-color);\n",
              "    animation:\n",
              "      spin 1s steps(1) infinite;\n",
              "  }\n",
              "\n",
              "  @keyframes spin {\n",
              "    0% {\n",
              "      border-color: transparent;\n",
              "      border-bottom-color: var(--fill-color);\n",
              "      border-left-color: var(--fill-color);\n",
              "    }\n",
              "    20% {\n",
              "      border-color: transparent;\n",
              "      border-left-color: var(--fill-color);\n",
              "      border-top-color: var(--fill-color);\n",
              "    }\n",
              "    30% {\n",
              "      border-color: transparent;\n",
              "      border-left-color: var(--fill-color);\n",
              "      border-top-color: var(--fill-color);\n",
              "      border-right-color: var(--fill-color);\n",
              "    }\n",
              "    40% {\n",
              "      border-color: transparent;\n",
              "      border-right-color: var(--fill-color);\n",
              "      border-top-color: var(--fill-color);\n",
              "    }\n",
              "    60% {\n",
              "      border-color: transparent;\n",
              "      border-right-color: var(--fill-color);\n",
              "    }\n",
              "    80% {\n",
              "      border-color: transparent;\n",
              "      border-right-color: var(--fill-color);\n",
              "      border-bottom-color: var(--fill-color);\n",
              "    }\n",
              "    90% {\n",
              "      border-color: transparent;\n",
              "      border-bottom-color: var(--fill-color);\n",
              "    }\n",
              "  }\n",
              "</style>\n",
              "\n",
              "  <script>\n",
              "    async function quickchart(key) {\n",
              "      const quickchartButtonEl =\n",
              "        document.querySelector('#' + key + ' button');\n",
              "      quickchartButtonEl.disabled = true;  // To prevent multiple clicks.\n",
              "      quickchartButtonEl.classList.add('colab-df-spinner');\n",
              "      try {\n",
              "        const charts = await google.colab.kernel.invokeFunction(\n",
              "            'suggestCharts', [key], {});\n",
              "      } catch (error) {\n",
              "        console.error('Error during call to suggestCharts:', error);\n",
              "      }\n",
              "      quickchartButtonEl.classList.remove('colab-df-spinner');\n",
              "      quickchartButtonEl.classList.add('colab-df-quickchart-complete');\n",
              "    }\n",
              "    (() => {\n",
              "      let quickchartButtonEl =\n",
              "        document.querySelector('#df-20f3c001-04fb-4618-af1f-3b3ea2b6082e button');\n",
              "      quickchartButtonEl.style.display =\n",
              "        google.colab.kernel.accessAllowed ? 'block' : 'none';\n",
              "    })();\n",
              "  </script>\n",
              "</div>\n",
              "\n",
              "    </div>\n",
              "  </div>\n"
            ],
            "application/vnd.google.colaboratory.intrinsic+json": {
              "type": "dataframe",
              "summary": "{\n  \"name\": \"display(val_df\",\n  \"rows\": 5,\n  \"fields\": [\n    {\n      \"column\": \"User_ID\",\n      \"properties\": {\n        \"dtype\": \"number\",\n        \"std\": 8.48528137423857,\n        \"min\": 488.0,\n        \"max\": 500.0,\n        \"num_unique_values\": 2,\n        \"samples\": [\n          488.0,\n          500.0\n        ],\n        \"semantic_type\": \"\",\n        \"description\": \"\"\n      }\n    },\n    {\n      \"column\": \"Age\",\n      \"properties\": {\n        \"dtype\": \"category\",\n        \"num_unique_values\": 2,\n        \"samples\": [\n          \"21\",\n          \"27\"\n        ],\n        \"semantic_type\": \"\",\n        \"description\": \"\"\n      }\n    },\n    {\n      \"column\": \"Gender\",\n      \"properties\": {\n        \"dtype\": \"category\",\n        \"num_unique_values\": 2,\n        \"samples\": [\n          \"Non-binary\",\n          \"Female\"\n        ],\n        \"semantic_type\": \"\",\n        \"description\": \"\"\n      }\n    },\n    {\n      \"column\": \"Platform\",\n      \"properties\": {\n        \"dtype\": \"category\",\n        \"num_unique_values\": 1,\n        \"samples\": [\n          \"Snapchat\"\n        ],\n        \"semantic_type\": \"\",\n        \"description\": \"\"\n      }\n    },\n    {\n      \"column\": \"Daily_Usage_Time (minutes)\",\n      \"properties\": {\n        \"dtype\": \"number\",\n        \"std\": 42.42640687119285,\n        \"min\": 60.0,\n        \"max\": 120.0,\n        \"num_unique_values\": 2,\n        \"samples\": [\n          60.0\n        ],\n        \"semantic_type\": \"\",\n        \"description\": \"\"\n      }\n    },\n    {\n      \"column\": \"Posts_Per_Day\",\n      \"properties\": {\n        \"dtype\": \"number\",\n        \"std\": 2.1213203435596424,\n        \"min\": 1.0,\n        \"max\": 4.0,\n        \"num_unique_values\": 2,\n        \"samples\": [\n          1.0\n        ],\n        \"semantic_type\": \"\",\n        \"description\": \"\"\n      }\n    },\n    {\n      \"column\": \"Likes_Received_Per_Day\",\n      \"properties\": {\n        \"dtype\": \"number\",\n        \"std\": 15.556349186104045,\n        \"min\": 18.0,\n        \"max\": 40.0,\n        \"num_unique_values\": 2,\n        \"samples\": [\n          18.0\n        ],\n        \"semantic_type\": \"\",\n        \"description\": \"\"\n      }\n    },\n    {\n      \"column\": \"Comments_Received_Per_Day\",\n      \"properties\": {\n        \"dtype\": \"number\",\n        \"std\": 7.7781745930520225,\n        \"min\": 7.0,\n        \"max\": 18.0,\n        \"num_unique_values\": 2,\n        \"samples\": [\n          7.0\n        ],\n        \"semantic_type\": \"\",\n        \"description\": \"\"\n      }\n    },\n    {\n      \"column\": \"Messages_Sent_Per_Day\",\n      \"properties\": {\n        \"dtype\": \"number\",\n        \"std\": 7.0710678118654755,\n        \"min\": 12.0,\n        \"max\": 22.0,\n        \"num_unique_values\": 2,\n        \"samples\": [\n          12.0\n        ],\n        \"semantic_type\": \"\",\n        \"description\": \"\"\n      }\n    },\n    {\n      \"column\": \"Dominant_Emotion\",\n      \"properties\": {\n        \"dtype\": \"category\",\n        \"num_unique_values\": 1,\n        \"samples\": [\n          \"Neutral\"\n        ],\n        \"semantic_type\": \"\",\n        \"description\": \"\"\n      }\n    }\n  ]\n}"
            }
          },
          "metadata": {}
        },
        {
          "output_type": "stream",
          "name": "stdout",
          "text": [
            "----------------------------------------------------------------------\n",
            "Validation Data:\n"
          ]
        },
        {
          "output_type": "display_data",
          "data": {
            "text/plain": [
              "   User_ID  Age  Gender   Platform Daily_Usage_Time (minutes)  Posts_Per_Day  \\\n",
              "0      NaN  NaN     NaN        NaN                        NaN            NaN   \n",
              "1     10.0   31    Male  Instagram                        170            5.0   \n",
              "2      NaN  NaN     NaN        NaN                        NaN            NaN   \n",
              "3    877.0   32  Female  Instagram                        155            6.0   \n",
              "4      NaN  NaN     NaN        NaN                        NaN            NaN   \n",
              "\n",
              "   Likes_Received_Per_Day  Comments_Received_Per_Day Messages_Sent_Per_Day  \\\n",
              "0                     NaN                        NaN                   NaN   \n",
              "1                    80.0                       20.0                    35   \n",
              "2                     NaN                        NaN                   NaN   \n",
              "3                    75.0                       25.0                    38   \n",
              "4                     NaN                        NaN                   NaN   \n",
              "\n",
              "  Dominant_Emotion Unnamed: 10  \n",
              "0              NaN         NaN  \n",
              "1        Happiness         NaN  \n",
              "2              NaN         NaN  \n",
              "3        Happiness         NaN  \n",
              "4              NaN         NaN  "
            ],
            "text/html": [
              "\n",
              "  <div id=\"df-0632dc7b-c4c9-4196-818c-05b5356fe5b1\" class=\"colab-df-container\">\n",
              "    <div>\n",
              "<style scoped>\n",
              "    .dataframe tbody tr th:only-of-type {\n",
              "        vertical-align: middle;\n",
              "    }\n",
              "\n",
              "    .dataframe tbody tr th {\n",
              "        vertical-align: top;\n",
              "    }\n",
              "\n",
              "    .dataframe thead th {\n",
              "        text-align: right;\n",
              "    }\n",
              "</style>\n",
              "<table border=\"1\" class=\"dataframe\">\n",
              "  <thead>\n",
              "    <tr style=\"text-align: right;\">\n",
              "      <th></th>\n",
              "      <th>User_ID</th>\n",
              "      <th>Age</th>\n",
              "      <th>Gender</th>\n",
              "      <th>Platform</th>\n",
              "      <th>Daily_Usage_Time (minutes)</th>\n",
              "      <th>Posts_Per_Day</th>\n",
              "      <th>Likes_Received_Per_Day</th>\n",
              "      <th>Comments_Received_Per_Day</th>\n",
              "      <th>Messages_Sent_Per_Day</th>\n",
              "      <th>Dominant_Emotion</th>\n",
              "      <th>Unnamed: 10</th>\n",
              "    </tr>\n",
              "  </thead>\n",
              "  <tbody>\n",
              "    <tr>\n",
              "      <th>0</th>\n",
              "      <td>NaN</td>\n",
              "      <td>NaN</td>\n",
              "      <td>NaN</td>\n",
              "      <td>NaN</td>\n",
              "      <td>NaN</td>\n",
              "      <td>NaN</td>\n",
              "      <td>NaN</td>\n",
              "      <td>NaN</td>\n",
              "      <td>NaN</td>\n",
              "      <td>NaN</td>\n",
              "      <td>NaN</td>\n",
              "    </tr>\n",
              "    <tr>\n",
              "      <th>1</th>\n",
              "      <td>10.0</td>\n",
              "      <td>31</td>\n",
              "      <td>Male</td>\n",
              "      <td>Instagram</td>\n",
              "      <td>170</td>\n",
              "      <td>5.0</td>\n",
              "      <td>80.0</td>\n",
              "      <td>20.0</td>\n",
              "      <td>35</td>\n",
              "      <td>Happiness</td>\n",
              "      <td>NaN</td>\n",
              "    </tr>\n",
              "    <tr>\n",
              "      <th>2</th>\n",
              "      <td>NaN</td>\n",
              "      <td>NaN</td>\n",
              "      <td>NaN</td>\n",
              "      <td>NaN</td>\n",
              "      <td>NaN</td>\n",
              "      <td>NaN</td>\n",
              "      <td>NaN</td>\n",
              "      <td>NaN</td>\n",
              "      <td>NaN</td>\n",
              "      <td>NaN</td>\n",
              "      <td>NaN</td>\n",
              "    </tr>\n",
              "    <tr>\n",
              "      <th>3</th>\n",
              "      <td>877.0</td>\n",
              "      <td>32</td>\n",
              "      <td>Female</td>\n",
              "      <td>Instagram</td>\n",
              "      <td>155</td>\n",
              "      <td>6.0</td>\n",
              "      <td>75.0</td>\n",
              "      <td>25.0</td>\n",
              "      <td>38</td>\n",
              "      <td>Happiness</td>\n",
              "      <td>NaN</td>\n",
              "    </tr>\n",
              "    <tr>\n",
              "      <th>4</th>\n",
              "      <td>NaN</td>\n",
              "      <td>NaN</td>\n",
              "      <td>NaN</td>\n",
              "      <td>NaN</td>\n",
              "      <td>NaN</td>\n",
              "      <td>NaN</td>\n",
              "      <td>NaN</td>\n",
              "      <td>NaN</td>\n",
              "      <td>NaN</td>\n",
              "      <td>NaN</td>\n",
              "      <td>NaN</td>\n",
              "    </tr>\n",
              "  </tbody>\n",
              "</table>\n",
              "</div>\n",
              "    <div class=\"colab-df-buttons\">\n",
              "\n",
              "  <div class=\"colab-df-container\">\n",
              "    <button class=\"colab-df-convert\" onclick=\"convertToInteractive('df-0632dc7b-c4c9-4196-818c-05b5356fe5b1')\"\n",
              "            title=\"Convert this dataframe to an interactive table.\"\n",
              "            style=\"display:none;\">\n",
              "\n",
              "  <svg xmlns=\"http://www.w3.org/2000/svg\" height=\"24px\" viewBox=\"0 -960 960 960\">\n",
              "    <path d=\"M120-120v-720h720v720H120Zm60-500h600v-160H180v160Zm220 220h160v-160H400v160Zm0 220h160v-160H400v160ZM180-400h160v-160H180v160Zm440 0h160v-160H620v160ZM180-180h160v-160H180v160Zm440 0h160v-160H620v160Z\"/>\n",
              "  </svg>\n",
              "    </button>\n",
              "\n",
              "  <style>\n",
              "    .colab-df-container {\n",
              "      display:flex;\n",
              "      gap: 12px;\n",
              "    }\n",
              "\n",
              "    .colab-df-convert {\n",
              "      background-color: #E8F0FE;\n",
              "      border: none;\n",
              "      border-radius: 50%;\n",
              "      cursor: pointer;\n",
              "      display: none;\n",
              "      fill: #1967D2;\n",
              "      height: 32px;\n",
              "      padding: 0 0 0 0;\n",
              "      width: 32px;\n",
              "    }\n",
              "\n",
              "    .colab-df-convert:hover {\n",
              "      background-color: #E2EBFA;\n",
              "      box-shadow: 0px 1px 2px rgba(60, 64, 67, 0.3), 0px 1px 3px 1px rgba(60, 64, 67, 0.15);\n",
              "      fill: #174EA6;\n",
              "    }\n",
              "\n",
              "    .colab-df-buttons div {\n",
              "      margin-bottom: 4px;\n",
              "    }\n",
              "\n",
              "    [theme=dark] .colab-df-convert {\n",
              "      background-color: #3B4455;\n",
              "      fill: #D2E3FC;\n",
              "    }\n",
              "\n",
              "    [theme=dark] .colab-df-convert:hover {\n",
              "      background-color: #434B5C;\n",
              "      box-shadow: 0px 1px 3px 1px rgba(0, 0, 0, 0.15);\n",
              "      filter: drop-shadow(0px 1px 2px rgba(0, 0, 0, 0.3));\n",
              "      fill: #FFFFFF;\n",
              "    }\n",
              "  </style>\n",
              "\n",
              "    <script>\n",
              "      const buttonEl =\n",
              "        document.querySelector('#df-0632dc7b-c4c9-4196-818c-05b5356fe5b1 button.colab-df-convert');\n",
              "      buttonEl.style.display =\n",
              "        google.colab.kernel.accessAllowed ? 'block' : 'none';\n",
              "\n",
              "      async function convertToInteractive(key) {\n",
              "        const element = document.querySelector('#df-0632dc7b-c4c9-4196-818c-05b5356fe5b1');\n",
              "        const dataTable =\n",
              "          await google.colab.kernel.invokeFunction('convertToInteractive',\n",
              "                                                    [key], {});\n",
              "        if (!dataTable) return;\n",
              "\n",
              "        const docLinkHtml = 'Like what you see? Visit the ' +\n",
              "          '<a target=\"_blank\" href=https://colab.research.google.com/notebooks/data_table.ipynb>data table notebook</a>'\n",
              "          + ' to learn more about interactive tables.';\n",
              "        element.innerHTML = '';\n",
              "        dataTable['output_type'] = 'display_data';\n",
              "        await google.colab.output.renderOutput(dataTable, element);\n",
              "        const docLink = document.createElement('div');\n",
              "        docLink.innerHTML = docLinkHtml;\n",
              "        element.appendChild(docLink);\n",
              "      }\n",
              "    </script>\n",
              "  </div>\n",
              "\n",
              "\n",
              "<div id=\"df-51b817e3-ffb4-4389-a8c9-afa3c31ff043\">\n",
              "  <button class=\"colab-df-quickchart\" onclick=\"quickchart('df-51b817e3-ffb4-4389-a8c9-afa3c31ff043')\"\n",
              "            title=\"Suggest charts\"\n",
              "            style=\"display:none;\">\n",
              "\n",
              "<svg xmlns=\"http://www.w3.org/2000/svg\" height=\"24px\"viewBox=\"0 0 24 24\"\n",
              "     width=\"24px\">\n",
              "    <g>\n",
              "        <path d=\"M19 3H5c-1.1 0-2 .9-2 2v14c0 1.1.9 2 2 2h14c1.1 0 2-.9 2-2V5c0-1.1-.9-2-2-2zM9 17H7v-7h2v7zm4 0h-2V7h2v10zm4 0h-2v-4h2v4z\"/>\n",
              "    </g>\n",
              "</svg>\n",
              "  </button>\n",
              "\n",
              "<style>\n",
              "  .colab-df-quickchart {\n",
              "      --bg-color: #E8F0FE;\n",
              "      --fill-color: #1967D2;\n",
              "      --hover-bg-color: #E2EBFA;\n",
              "      --hover-fill-color: #174EA6;\n",
              "      --disabled-fill-color: #AAA;\n",
              "      --disabled-bg-color: #DDD;\n",
              "  }\n",
              "\n",
              "  [theme=dark] .colab-df-quickchart {\n",
              "      --bg-color: #3B4455;\n",
              "      --fill-color: #D2E3FC;\n",
              "      --hover-bg-color: #434B5C;\n",
              "      --hover-fill-color: #FFFFFF;\n",
              "      --disabled-bg-color: #3B4455;\n",
              "      --disabled-fill-color: #666;\n",
              "  }\n",
              "\n",
              "  .colab-df-quickchart {\n",
              "    background-color: var(--bg-color);\n",
              "    border: none;\n",
              "    border-radius: 50%;\n",
              "    cursor: pointer;\n",
              "    display: none;\n",
              "    fill: var(--fill-color);\n",
              "    height: 32px;\n",
              "    padding: 0;\n",
              "    width: 32px;\n",
              "  }\n",
              "\n",
              "  .colab-df-quickchart:hover {\n",
              "    background-color: var(--hover-bg-color);\n",
              "    box-shadow: 0 1px 2px rgba(60, 64, 67, 0.3), 0 1px 3px 1px rgba(60, 64, 67, 0.15);\n",
              "    fill: var(--button-hover-fill-color);\n",
              "  }\n",
              "\n",
              "  .colab-df-quickchart-complete:disabled,\n",
              "  .colab-df-quickchart-complete:disabled:hover {\n",
              "    background-color: var(--disabled-bg-color);\n",
              "    fill: var(--disabled-fill-color);\n",
              "    box-shadow: none;\n",
              "  }\n",
              "\n",
              "  .colab-df-spinner {\n",
              "    border: 2px solid var(--fill-color);\n",
              "    border-color: transparent;\n",
              "    border-bottom-color: var(--fill-color);\n",
              "    animation:\n",
              "      spin 1s steps(1) infinite;\n",
              "  }\n",
              "\n",
              "  @keyframes spin {\n",
              "    0% {\n",
              "      border-color: transparent;\n",
              "      border-bottom-color: var(--fill-color);\n",
              "      border-left-color: var(--fill-color);\n",
              "    }\n",
              "    20% {\n",
              "      border-color: transparent;\n",
              "      border-left-color: var(--fill-color);\n",
              "      border-top-color: var(--fill-color);\n",
              "    }\n",
              "    30% {\n",
              "      border-color: transparent;\n",
              "      border-left-color: var(--fill-color);\n",
              "      border-top-color: var(--fill-color);\n",
              "      border-right-color: var(--fill-color);\n",
              "    }\n",
              "    40% {\n",
              "      border-color: transparent;\n",
              "      border-right-color: var(--fill-color);\n",
              "      border-top-color: var(--fill-color);\n",
              "    }\n",
              "    60% {\n",
              "      border-color: transparent;\n",
              "      border-right-color: var(--fill-color);\n",
              "    }\n",
              "    80% {\n",
              "      border-color: transparent;\n",
              "      border-right-color: var(--fill-color);\n",
              "      border-bottom-color: var(--fill-color);\n",
              "    }\n",
              "    90% {\n",
              "      border-color: transparent;\n",
              "      border-bottom-color: var(--fill-color);\n",
              "    }\n",
              "  }\n",
              "</style>\n",
              "\n",
              "  <script>\n",
              "    async function quickchart(key) {\n",
              "      const quickchartButtonEl =\n",
              "        document.querySelector('#' + key + ' button');\n",
              "      quickchartButtonEl.disabled = true;  // To prevent multiple clicks.\n",
              "      quickchartButtonEl.classList.add('colab-df-spinner');\n",
              "      try {\n",
              "        const charts = await google.colab.kernel.invokeFunction(\n",
              "            'suggestCharts', [key], {});\n",
              "      } catch (error) {\n",
              "        console.error('Error during call to suggestCharts:', error);\n",
              "      }\n",
              "      quickchartButtonEl.classList.remove('colab-df-spinner');\n",
              "      quickchartButtonEl.classList.add('colab-df-quickchart-complete');\n",
              "    }\n",
              "    (() => {\n",
              "      let quickchartButtonEl =\n",
              "        document.querySelector('#df-51b817e3-ffb4-4389-a8c9-afa3c31ff043 button');\n",
              "      quickchartButtonEl.style.display =\n",
              "        google.colab.kernel.accessAllowed ? 'block' : 'none';\n",
              "    })();\n",
              "  </script>\n",
              "</div>\n",
              "\n",
              "    </div>\n",
              "  </div>\n"
            ],
            "application/vnd.google.colaboratory.intrinsic+json": {
              "type": "dataframe",
              "repr_error": "Out of range float values are not JSON compliant: nan"
            }
          },
          "metadata": {}
        }
      ]
    },
    {
      "cell_type": "code",
      "source": [
        "# training data info\n",
        "print(\"Traing Data Info:\")\n",
        "train_df.info()"
      ],
      "metadata": {
        "id": "uczR5e4AFBgi",
        "outputId": "bf8f751e-3401-4842-f289-63ad3d5ba43c",
        "colab": {
          "base_uri": "https://localhost:8080/"
        }
      },
      "execution_count": null,
      "outputs": [
        {
          "output_type": "stream",
          "name": "stdout",
          "text": [
            "Traing Data Info:\n",
            "<class 'pandas.core.frame.DataFrame'>\n",
            "RangeIndex: 2004 entries, 0 to 2003\n",
            "Data columns (total 10 columns):\n",
            " #   Column                      Non-Null Count  Dtype  \n",
            "---  ------                      --------------  -----  \n",
            " 0   User_ID                     1001 non-null   object \n",
            " 1   Age                         1001 non-null   object \n",
            " 2   Gender                      1000 non-null   object \n",
            " 3   Platform                    1000 non-null   object \n",
            " 4   Daily_Usage_Time (minutes)  1000 non-null   float64\n",
            " 5   Posts_Per_Day               1000 non-null   float64\n",
            " 6   Likes_Received_Per_Day      1000 non-null   float64\n",
            " 7   Comments_Received_Per_Day   1000 non-null   float64\n",
            " 8   Messages_Sent_Per_Day       1000 non-null   float64\n",
            " 9   Dominant_Emotion            1000 non-null   object \n",
            "dtypes: float64(5), object(5)\n",
            "memory usage: 156.7+ KB\n"
          ]
        }
      ]
    },
    {
      "cell_type": "code",
      "source": [
        "# testing data info\n",
        "print(\"Testing Data Info:\")\n",
        "test_df.info()"
      ],
      "metadata": {
        "id": "mF786VGwFBgi",
        "outputId": "2eb8b579-df37-499c-f249-557ae5a3a5b4",
        "colab": {
          "base_uri": "https://localhost:8080/"
        }
      },
      "execution_count": null,
      "outputs": [
        {
          "output_type": "stream",
          "name": "stdout",
          "text": [
            "Testing Data Info:\n",
            "<class 'pandas.core.frame.DataFrame'>\n",
            "RangeIndex: 206 entries, 0 to 205\n",
            "Data columns (total 10 columns):\n",
            " #   Column                      Non-Null Count  Dtype  \n",
            "---  ------                      --------------  -----  \n",
            " 0   User_ID                     103 non-null    float64\n",
            " 1   Age                         103 non-null    object \n",
            " 2   Gender                      103 non-null    object \n",
            " 3   Platform                    103 non-null    object \n",
            " 4   Daily_Usage_Time (minutes)  103 non-null    float64\n",
            " 5   Posts_Per_Day               103 non-null    float64\n",
            " 6   Likes_Received_Per_Day      103 non-null    float64\n",
            " 7   Comments_Received_Per_Day   103 non-null    float64\n",
            " 8   Messages_Sent_Per_Day       103 non-null    float64\n",
            " 9   Dominant_Emotion            103 non-null    object \n",
            "dtypes: float64(6), object(4)\n",
            "memory usage: 16.2+ KB\n"
          ]
        }
      ]
    },
    {
      "cell_type": "code",
      "source": [
        "# validation data info\n",
        "print(\"Validation Data Info:\")\n",
        "val_df.info()"
      ],
      "metadata": {
        "id": "a5fO-Vr_FBgi",
        "outputId": "885940c0-c686-4e34-c755-d2ec71be85a6",
        "colab": {
          "base_uri": "https://localhost:8080/"
        }
      },
      "execution_count": null,
      "outputs": [
        {
          "output_type": "stream",
          "name": "stdout",
          "text": [
            "Validation Data Info:\n",
            "<class 'pandas.core.frame.DataFrame'>\n",
            "RangeIndex: 296 entries, 0 to 295\n",
            "Data columns (total 11 columns):\n",
            " #   Column                      Non-Null Count  Dtype  \n",
            "---  ------                      --------------  -----  \n",
            " 0   User_ID                     148 non-null    float64\n",
            " 1   Age                         148 non-null    object \n",
            " 2   Gender                      148 non-null    object \n",
            " 3   Platform                    148 non-null    object \n",
            " 4   Daily_Usage_Time (minutes)  148 non-null    object \n",
            " 5   Posts_Per_Day               148 non-null    float64\n",
            " 6   Likes_Received_Per_Day      148 non-null    float64\n",
            " 7   Comments_Received_Per_Day   148 non-null    float64\n",
            " 8   Messages_Sent_Per_Day       148 non-null    object \n",
            " 9   Dominant_Emotion            145 non-null    object \n",
            " 10  Unnamed: 10                 3 non-null      object \n",
            "dtypes: float64(4), object(7)\n",
            "memory usage: 25.6+ KB\n"
          ]
        }
      ]
    },
    {
      "cell_type": "markdown",
      "source": [
        "* Shape of the training, testing, and validation data."
      ],
      "metadata": {
        "id": "1LKi_v0ZFBgi"
      }
    },
    {
      "cell_type": "code",
      "source": [
        "print(f\"There are {train_df.shape[0]} rows and {train_df.shape[1]} columns in the training data.\")\n",
        "print(f\"There are {test_df.shape[0]} rows and {test_df.shape[1]} columns in the testing data.\")\n",
        "print(f\"There are {val_df.shape[0]} rows and {val_df.shape[1]} columns in the validation data.\")"
      ],
      "metadata": {
        "id": "yGTmBqgjFBgi",
        "outputId": "248b188f-bf2f-41a5-da9f-68da34062f9e",
        "colab": {
          "base_uri": "https://localhost:8080/"
        }
      },
      "execution_count": null,
      "outputs": [
        {
          "output_type": "stream",
          "name": "stdout",
          "text": [
            "There are 2004 rows and 10 columns in the training data.\n",
            "There are 206 rows and 10 columns in the testing data.\n",
            "There are 296 rows and 11 columns in the validation data.\n"
          ]
        }
      ]
    },
    {
      "cell_type": "code",
      "source": [
        "# checking for null values\n",
        "print(\"Training Data:\")\n",
        "display(train_df.isnull().sum())\n",
        "print(\"----------------------------------------------------------------------\")\n",
        "print(\"Testing Data:\")\n",
        "display(test_df.isnull().sum())\n",
        "print(\"----------------------------------------------------------------------\")\n",
        "print(\"Validation Data:\")\n",
        "display(val_df.isnull().sum())"
      ],
      "metadata": {
        "id": "jS-Y-3xzFBgi",
        "outputId": "46cb2fb1-f1f8-47c2-fec4-a4b3aac6a34c",
        "colab": {
          "base_uri": "https://localhost:8080/",
          "height": 1000
        }
      },
      "execution_count": null,
      "outputs": [
        {
          "output_type": "stream",
          "name": "stdout",
          "text": [
            "Training Data:\n"
          ]
        },
        {
          "output_type": "display_data",
          "data": {
            "text/plain": [
              "User_ID                       1003\n",
              "Age                           1003\n",
              "Gender                        1004\n",
              "Platform                      1004\n",
              "Daily_Usage_Time (minutes)    1004\n",
              "Posts_Per_Day                 1004\n",
              "Likes_Received_Per_Day        1004\n",
              "Comments_Received_Per_Day     1004\n",
              "Messages_Sent_Per_Day         1004\n",
              "Dominant_Emotion              1004\n",
              "dtype: int64"
            ],
            "text/html": [
              "<div>\n",
              "<style scoped>\n",
              "    .dataframe tbody tr th:only-of-type {\n",
              "        vertical-align: middle;\n",
              "    }\n",
              "\n",
              "    .dataframe tbody tr th {\n",
              "        vertical-align: top;\n",
              "    }\n",
              "\n",
              "    .dataframe thead th {\n",
              "        text-align: right;\n",
              "    }\n",
              "</style>\n",
              "<table border=\"1\" class=\"dataframe\">\n",
              "  <thead>\n",
              "    <tr style=\"text-align: right;\">\n",
              "      <th></th>\n",
              "      <th>0</th>\n",
              "    </tr>\n",
              "  </thead>\n",
              "  <tbody>\n",
              "    <tr>\n",
              "      <th>User_ID</th>\n",
              "      <td>1003</td>\n",
              "    </tr>\n",
              "    <tr>\n",
              "      <th>Age</th>\n",
              "      <td>1003</td>\n",
              "    </tr>\n",
              "    <tr>\n",
              "      <th>Gender</th>\n",
              "      <td>1004</td>\n",
              "    </tr>\n",
              "    <tr>\n",
              "      <th>Platform</th>\n",
              "      <td>1004</td>\n",
              "    </tr>\n",
              "    <tr>\n",
              "      <th>Daily_Usage_Time (minutes)</th>\n",
              "      <td>1004</td>\n",
              "    </tr>\n",
              "    <tr>\n",
              "      <th>Posts_Per_Day</th>\n",
              "      <td>1004</td>\n",
              "    </tr>\n",
              "    <tr>\n",
              "      <th>Likes_Received_Per_Day</th>\n",
              "      <td>1004</td>\n",
              "    </tr>\n",
              "    <tr>\n",
              "      <th>Comments_Received_Per_Day</th>\n",
              "      <td>1004</td>\n",
              "    </tr>\n",
              "    <tr>\n",
              "      <th>Messages_Sent_Per_Day</th>\n",
              "      <td>1004</td>\n",
              "    </tr>\n",
              "    <tr>\n",
              "      <th>Dominant_Emotion</th>\n",
              "      <td>1004</td>\n",
              "    </tr>\n",
              "  </tbody>\n",
              "</table>\n",
              "</div><br><label><b>dtype:</b> int64</label>"
            ]
          },
          "metadata": {}
        },
        {
          "output_type": "stream",
          "name": "stdout",
          "text": [
            "----------------------------------------------------------------------\n",
            "Testing Data:\n"
          ]
        },
        {
          "output_type": "display_data",
          "data": {
            "text/plain": [
              "User_ID                       103\n",
              "Age                           103\n",
              "Gender                        103\n",
              "Platform                      103\n",
              "Daily_Usage_Time (minutes)    103\n",
              "Posts_Per_Day                 103\n",
              "Likes_Received_Per_Day        103\n",
              "Comments_Received_Per_Day     103\n",
              "Messages_Sent_Per_Day         103\n",
              "Dominant_Emotion              103\n",
              "dtype: int64"
            ],
            "text/html": [
              "<div>\n",
              "<style scoped>\n",
              "    .dataframe tbody tr th:only-of-type {\n",
              "        vertical-align: middle;\n",
              "    }\n",
              "\n",
              "    .dataframe tbody tr th {\n",
              "        vertical-align: top;\n",
              "    }\n",
              "\n",
              "    .dataframe thead th {\n",
              "        text-align: right;\n",
              "    }\n",
              "</style>\n",
              "<table border=\"1\" class=\"dataframe\">\n",
              "  <thead>\n",
              "    <tr style=\"text-align: right;\">\n",
              "      <th></th>\n",
              "      <th>0</th>\n",
              "    </tr>\n",
              "  </thead>\n",
              "  <tbody>\n",
              "    <tr>\n",
              "      <th>User_ID</th>\n",
              "      <td>103</td>\n",
              "    </tr>\n",
              "    <tr>\n",
              "      <th>Age</th>\n",
              "      <td>103</td>\n",
              "    </tr>\n",
              "    <tr>\n",
              "      <th>Gender</th>\n",
              "      <td>103</td>\n",
              "    </tr>\n",
              "    <tr>\n",
              "      <th>Platform</th>\n",
              "      <td>103</td>\n",
              "    </tr>\n",
              "    <tr>\n",
              "      <th>Daily_Usage_Time (minutes)</th>\n",
              "      <td>103</td>\n",
              "    </tr>\n",
              "    <tr>\n",
              "      <th>Posts_Per_Day</th>\n",
              "      <td>103</td>\n",
              "    </tr>\n",
              "    <tr>\n",
              "      <th>Likes_Received_Per_Day</th>\n",
              "      <td>103</td>\n",
              "    </tr>\n",
              "    <tr>\n",
              "      <th>Comments_Received_Per_Day</th>\n",
              "      <td>103</td>\n",
              "    </tr>\n",
              "    <tr>\n",
              "      <th>Messages_Sent_Per_Day</th>\n",
              "      <td>103</td>\n",
              "    </tr>\n",
              "    <tr>\n",
              "      <th>Dominant_Emotion</th>\n",
              "      <td>103</td>\n",
              "    </tr>\n",
              "  </tbody>\n",
              "</table>\n",
              "</div><br><label><b>dtype:</b> int64</label>"
            ]
          },
          "metadata": {}
        },
        {
          "output_type": "stream",
          "name": "stdout",
          "text": [
            "----------------------------------------------------------------------\n",
            "Validation Data:\n"
          ]
        },
        {
          "output_type": "display_data",
          "data": {
            "text/plain": [
              "User_ID                       148\n",
              "Age                           148\n",
              "Gender                        148\n",
              "Platform                      148\n",
              "Daily_Usage_Time (minutes)    148\n",
              "Posts_Per_Day                 148\n",
              "Likes_Received_Per_Day        148\n",
              "Comments_Received_Per_Day     148\n",
              "Messages_Sent_Per_Day         148\n",
              "Dominant_Emotion              151\n",
              "Unnamed: 10                   293\n",
              "dtype: int64"
            ],
            "text/html": [
              "<div>\n",
              "<style scoped>\n",
              "    .dataframe tbody tr th:only-of-type {\n",
              "        vertical-align: middle;\n",
              "    }\n",
              "\n",
              "    .dataframe tbody tr th {\n",
              "        vertical-align: top;\n",
              "    }\n",
              "\n",
              "    .dataframe thead th {\n",
              "        text-align: right;\n",
              "    }\n",
              "</style>\n",
              "<table border=\"1\" class=\"dataframe\">\n",
              "  <thead>\n",
              "    <tr style=\"text-align: right;\">\n",
              "      <th></th>\n",
              "      <th>0</th>\n",
              "    </tr>\n",
              "  </thead>\n",
              "  <tbody>\n",
              "    <tr>\n",
              "      <th>User_ID</th>\n",
              "      <td>148</td>\n",
              "    </tr>\n",
              "    <tr>\n",
              "      <th>Age</th>\n",
              "      <td>148</td>\n",
              "    </tr>\n",
              "    <tr>\n",
              "      <th>Gender</th>\n",
              "      <td>148</td>\n",
              "    </tr>\n",
              "    <tr>\n",
              "      <th>Platform</th>\n",
              "      <td>148</td>\n",
              "    </tr>\n",
              "    <tr>\n",
              "      <th>Daily_Usage_Time (minutes)</th>\n",
              "      <td>148</td>\n",
              "    </tr>\n",
              "    <tr>\n",
              "      <th>Posts_Per_Day</th>\n",
              "      <td>148</td>\n",
              "    </tr>\n",
              "    <tr>\n",
              "      <th>Likes_Received_Per_Day</th>\n",
              "      <td>148</td>\n",
              "    </tr>\n",
              "    <tr>\n",
              "      <th>Comments_Received_Per_Day</th>\n",
              "      <td>148</td>\n",
              "    </tr>\n",
              "    <tr>\n",
              "      <th>Messages_Sent_Per_Day</th>\n",
              "      <td>148</td>\n",
              "    </tr>\n",
              "    <tr>\n",
              "      <th>Dominant_Emotion</th>\n",
              "      <td>151</td>\n",
              "    </tr>\n",
              "    <tr>\n",
              "      <th>Unnamed: 10</th>\n",
              "      <td>293</td>\n",
              "    </tr>\n",
              "  </tbody>\n",
              "</table>\n",
              "</div><br><label><b>dtype:</b> int64</label>"
            ]
          },
          "metadata": {}
        }
      ]
    },
    {
      "cell_type": "markdown",
      "source": [
        "# Exploratory Data Analysis (EDA)"
      ],
      "metadata": {
        "id": "qtRwuKeyFBgi"
      }
    },
    {
      "cell_type": "code",
      "source": [
        "train_df.head()"
      ],
      "metadata": {
        "id": "940JTivnFBgi",
        "outputId": "aa420a62-effe-431d-f940-9fc455e48687",
        "colab": {
          "base_uri": "https://localhost:8080/",
          "height": 206
        }
      },
      "execution_count": null,
      "outputs": [
        {
          "output_type": "execute_result",
          "data": {
            "text/plain": [
              "  User_ID  Age  Gender   Platform  Daily_Usage_Time (minutes)  Posts_Per_Day  \\\n",
              "0     NaN  NaN     NaN        NaN                         NaN            NaN   \n",
              "1       1   25  Female  Instagram                       120.0            3.0   \n",
              "2     NaN  NaN     NaN        NaN                         NaN            NaN   \n",
              "3       2   30    Male    Twitter                        90.0            5.0   \n",
              "4     NaN  NaN     NaN        NaN                         NaN            NaN   \n",
              "\n",
              "   Likes_Received_Per_Day  Comments_Received_Per_Day  Messages_Sent_Per_Day  \\\n",
              "0                     NaN                        NaN                    NaN   \n",
              "1                    45.0                       10.0                   12.0   \n",
              "2                     NaN                        NaN                    NaN   \n",
              "3                    20.0                       25.0                   30.0   \n",
              "4                     NaN                        NaN                    NaN   \n",
              "\n",
              "  Dominant_Emotion  \n",
              "0              NaN  \n",
              "1        Happiness  \n",
              "2              NaN  \n",
              "3            Anger  \n",
              "4              NaN  "
            ],
            "text/html": [
              "\n",
              "  <div id=\"df-6e262758-2f05-48e0-a4ef-d8a9a75c51d3\" class=\"colab-df-container\">\n",
              "    <div>\n",
              "<style scoped>\n",
              "    .dataframe tbody tr th:only-of-type {\n",
              "        vertical-align: middle;\n",
              "    }\n",
              "\n",
              "    .dataframe tbody tr th {\n",
              "        vertical-align: top;\n",
              "    }\n",
              "\n",
              "    .dataframe thead th {\n",
              "        text-align: right;\n",
              "    }\n",
              "</style>\n",
              "<table border=\"1\" class=\"dataframe\">\n",
              "  <thead>\n",
              "    <tr style=\"text-align: right;\">\n",
              "      <th></th>\n",
              "      <th>User_ID</th>\n",
              "      <th>Age</th>\n",
              "      <th>Gender</th>\n",
              "      <th>Platform</th>\n",
              "      <th>Daily_Usage_Time (minutes)</th>\n",
              "      <th>Posts_Per_Day</th>\n",
              "      <th>Likes_Received_Per_Day</th>\n",
              "      <th>Comments_Received_Per_Day</th>\n",
              "      <th>Messages_Sent_Per_Day</th>\n",
              "      <th>Dominant_Emotion</th>\n",
              "    </tr>\n",
              "  </thead>\n",
              "  <tbody>\n",
              "    <tr>\n",
              "      <th>0</th>\n",
              "      <td>NaN</td>\n",
              "      <td>NaN</td>\n",
              "      <td>NaN</td>\n",
              "      <td>NaN</td>\n",
              "      <td>NaN</td>\n",
              "      <td>NaN</td>\n",
              "      <td>NaN</td>\n",
              "      <td>NaN</td>\n",
              "      <td>NaN</td>\n",
              "      <td>NaN</td>\n",
              "    </tr>\n",
              "    <tr>\n",
              "      <th>1</th>\n",
              "      <td>1</td>\n",
              "      <td>25</td>\n",
              "      <td>Female</td>\n",
              "      <td>Instagram</td>\n",
              "      <td>120.0</td>\n",
              "      <td>3.0</td>\n",
              "      <td>45.0</td>\n",
              "      <td>10.0</td>\n",
              "      <td>12.0</td>\n",
              "      <td>Happiness</td>\n",
              "    </tr>\n",
              "    <tr>\n",
              "      <th>2</th>\n",
              "      <td>NaN</td>\n",
              "      <td>NaN</td>\n",
              "      <td>NaN</td>\n",
              "      <td>NaN</td>\n",
              "      <td>NaN</td>\n",
              "      <td>NaN</td>\n",
              "      <td>NaN</td>\n",
              "      <td>NaN</td>\n",
              "      <td>NaN</td>\n",
              "      <td>NaN</td>\n",
              "    </tr>\n",
              "    <tr>\n",
              "      <th>3</th>\n",
              "      <td>2</td>\n",
              "      <td>30</td>\n",
              "      <td>Male</td>\n",
              "      <td>Twitter</td>\n",
              "      <td>90.0</td>\n",
              "      <td>5.0</td>\n",
              "      <td>20.0</td>\n",
              "      <td>25.0</td>\n",
              "      <td>30.0</td>\n",
              "      <td>Anger</td>\n",
              "    </tr>\n",
              "    <tr>\n",
              "      <th>4</th>\n",
              "      <td>NaN</td>\n",
              "      <td>NaN</td>\n",
              "      <td>NaN</td>\n",
              "      <td>NaN</td>\n",
              "      <td>NaN</td>\n",
              "      <td>NaN</td>\n",
              "      <td>NaN</td>\n",
              "      <td>NaN</td>\n",
              "      <td>NaN</td>\n",
              "      <td>NaN</td>\n",
              "    </tr>\n",
              "  </tbody>\n",
              "</table>\n",
              "</div>\n",
              "    <div class=\"colab-df-buttons\">\n",
              "\n",
              "  <div class=\"colab-df-container\">\n",
              "    <button class=\"colab-df-convert\" onclick=\"convertToInteractive('df-6e262758-2f05-48e0-a4ef-d8a9a75c51d3')\"\n",
              "            title=\"Convert this dataframe to an interactive table.\"\n",
              "            style=\"display:none;\">\n",
              "\n",
              "  <svg xmlns=\"http://www.w3.org/2000/svg\" height=\"24px\" viewBox=\"0 -960 960 960\">\n",
              "    <path d=\"M120-120v-720h720v720H120Zm60-500h600v-160H180v160Zm220 220h160v-160H400v160Zm0 220h160v-160H400v160ZM180-400h160v-160H180v160Zm440 0h160v-160H620v160ZM180-180h160v-160H180v160Zm440 0h160v-160H620v160Z\"/>\n",
              "  </svg>\n",
              "    </button>\n",
              "\n",
              "  <style>\n",
              "    .colab-df-container {\n",
              "      display:flex;\n",
              "      gap: 12px;\n",
              "    }\n",
              "\n",
              "    .colab-df-convert {\n",
              "      background-color: #E8F0FE;\n",
              "      border: none;\n",
              "      border-radius: 50%;\n",
              "      cursor: pointer;\n",
              "      display: none;\n",
              "      fill: #1967D2;\n",
              "      height: 32px;\n",
              "      padding: 0 0 0 0;\n",
              "      width: 32px;\n",
              "    }\n",
              "\n",
              "    .colab-df-convert:hover {\n",
              "      background-color: #E2EBFA;\n",
              "      box-shadow: 0px 1px 2px rgba(60, 64, 67, 0.3), 0px 1px 3px 1px rgba(60, 64, 67, 0.15);\n",
              "      fill: #174EA6;\n",
              "    }\n",
              "\n",
              "    .colab-df-buttons div {\n",
              "      margin-bottom: 4px;\n",
              "    }\n",
              "\n",
              "    [theme=dark] .colab-df-convert {\n",
              "      background-color: #3B4455;\n",
              "      fill: #D2E3FC;\n",
              "    }\n",
              "\n",
              "    [theme=dark] .colab-df-convert:hover {\n",
              "      background-color: #434B5C;\n",
              "      box-shadow: 0px 1px 3px 1px rgba(0, 0, 0, 0.15);\n",
              "      filter: drop-shadow(0px 1px 2px rgba(0, 0, 0, 0.3));\n",
              "      fill: #FFFFFF;\n",
              "    }\n",
              "  </style>\n",
              "\n",
              "    <script>\n",
              "      const buttonEl =\n",
              "        document.querySelector('#df-6e262758-2f05-48e0-a4ef-d8a9a75c51d3 button.colab-df-convert');\n",
              "      buttonEl.style.display =\n",
              "        google.colab.kernel.accessAllowed ? 'block' : 'none';\n",
              "\n",
              "      async function convertToInteractive(key) {\n",
              "        const element = document.querySelector('#df-6e262758-2f05-48e0-a4ef-d8a9a75c51d3');\n",
              "        const dataTable =\n",
              "          await google.colab.kernel.invokeFunction('convertToInteractive',\n",
              "                                                    [key], {});\n",
              "        if (!dataTable) return;\n",
              "\n",
              "        const docLinkHtml = 'Like what you see? Visit the ' +\n",
              "          '<a target=\"_blank\" href=https://colab.research.google.com/notebooks/data_table.ipynb>data table notebook</a>'\n",
              "          + ' to learn more about interactive tables.';\n",
              "        element.innerHTML = '';\n",
              "        dataTable['output_type'] = 'display_data';\n",
              "        await google.colab.output.renderOutput(dataTable, element);\n",
              "        const docLink = document.createElement('div');\n",
              "        docLink.innerHTML = docLinkHtml;\n",
              "        element.appendChild(docLink);\n",
              "      }\n",
              "    </script>\n",
              "  </div>\n",
              "\n",
              "\n",
              "<div id=\"df-114307a6-f594-41f1-90d3-225737918e1c\">\n",
              "  <button class=\"colab-df-quickchart\" onclick=\"quickchart('df-114307a6-f594-41f1-90d3-225737918e1c')\"\n",
              "            title=\"Suggest charts\"\n",
              "            style=\"display:none;\">\n",
              "\n",
              "<svg xmlns=\"http://www.w3.org/2000/svg\" height=\"24px\"viewBox=\"0 0 24 24\"\n",
              "     width=\"24px\">\n",
              "    <g>\n",
              "        <path d=\"M19 3H5c-1.1 0-2 .9-2 2v14c0 1.1.9 2 2 2h14c1.1 0 2-.9 2-2V5c0-1.1-.9-2-2-2zM9 17H7v-7h2v7zm4 0h-2V7h2v10zm4 0h-2v-4h2v4z\"/>\n",
              "    </g>\n",
              "</svg>\n",
              "  </button>\n",
              "\n",
              "<style>\n",
              "  .colab-df-quickchart {\n",
              "      --bg-color: #E8F0FE;\n",
              "      --fill-color: #1967D2;\n",
              "      --hover-bg-color: #E2EBFA;\n",
              "      --hover-fill-color: #174EA6;\n",
              "      --disabled-fill-color: #AAA;\n",
              "      --disabled-bg-color: #DDD;\n",
              "  }\n",
              "\n",
              "  [theme=dark] .colab-df-quickchart {\n",
              "      --bg-color: #3B4455;\n",
              "      --fill-color: #D2E3FC;\n",
              "      --hover-bg-color: #434B5C;\n",
              "      --hover-fill-color: #FFFFFF;\n",
              "      --disabled-bg-color: #3B4455;\n",
              "      --disabled-fill-color: #666;\n",
              "  }\n",
              "\n",
              "  .colab-df-quickchart {\n",
              "    background-color: var(--bg-color);\n",
              "    border: none;\n",
              "    border-radius: 50%;\n",
              "    cursor: pointer;\n",
              "    display: none;\n",
              "    fill: var(--fill-color);\n",
              "    height: 32px;\n",
              "    padding: 0;\n",
              "    width: 32px;\n",
              "  }\n",
              "\n",
              "  .colab-df-quickchart:hover {\n",
              "    background-color: var(--hover-bg-color);\n",
              "    box-shadow: 0 1px 2px rgba(60, 64, 67, 0.3), 0 1px 3px 1px rgba(60, 64, 67, 0.15);\n",
              "    fill: var(--button-hover-fill-color);\n",
              "  }\n",
              "\n",
              "  .colab-df-quickchart-complete:disabled,\n",
              "  .colab-df-quickchart-complete:disabled:hover {\n",
              "    background-color: var(--disabled-bg-color);\n",
              "    fill: var(--disabled-fill-color);\n",
              "    box-shadow: none;\n",
              "  }\n",
              "\n",
              "  .colab-df-spinner {\n",
              "    border: 2px solid var(--fill-color);\n",
              "    border-color: transparent;\n",
              "    border-bottom-color: var(--fill-color);\n",
              "    animation:\n",
              "      spin 1s steps(1) infinite;\n",
              "  }\n",
              "\n",
              "  @keyframes spin {\n",
              "    0% {\n",
              "      border-color: transparent;\n",
              "      border-bottom-color: var(--fill-color);\n",
              "      border-left-color: var(--fill-color);\n",
              "    }\n",
              "    20% {\n",
              "      border-color: transparent;\n",
              "      border-left-color: var(--fill-color);\n",
              "      border-top-color: var(--fill-color);\n",
              "    }\n",
              "    30% {\n",
              "      border-color: transparent;\n",
              "      border-left-color: var(--fill-color);\n",
              "      border-top-color: var(--fill-color);\n",
              "      border-right-color: var(--fill-color);\n",
              "    }\n",
              "    40% {\n",
              "      border-color: transparent;\n",
              "      border-right-color: var(--fill-color);\n",
              "      border-top-color: var(--fill-color);\n",
              "    }\n",
              "    60% {\n",
              "      border-color: transparent;\n",
              "      border-right-color: var(--fill-color);\n",
              "    }\n",
              "    80% {\n",
              "      border-color: transparent;\n",
              "      border-right-color: var(--fill-color);\n",
              "      border-bottom-color: var(--fill-color);\n",
              "    }\n",
              "    90% {\n",
              "      border-color: transparent;\n",
              "      border-bottom-color: var(--fill-color);\n",
              "    }\n",
              "  }\n",
              "</style>\n",
              "\n",
              "  <script>\n",
              "    async function quickchart(key) {\n",
              "      const quickchartButtonEl =\n",
              "        document.querySelector('#' + key + ' button');\n",
              "      quickchartButtonEl.disabled = true;  // To prevent multiple clicks.\n",
              "      quickchartButtonEl.classList.add('colab-df-spinner');\n",
              "      try {\n",
              "        const charts = await google.colab.kernel.invokeFunction(\n",
              "            'suggestCharts', [key], {});\n",
              "      } catch (error) {\n",
              "        console.error('Error during call to suggestCharts:', error);\n",
              "      }\n",
              "      quickchartButtonEl.classList.remove('colab-df-spinner');\n",
              "      quickchartButtonEl.classList.add('colab-df-quickchart-complete');\n",
              "    }\n",
              "    (() => {\n",
              "      let quickchartButtonEl =\n",
              "        document.querySelector('#df-114307a6-f594-41f1-90d3-225737918e1c button');\n",
              "      quickchartButtonEl.style.display =\n",
              "        google.colab.kernel.accessAllowed ? 'block' : 'none';\n",
              "    })();\n",
              "  </script>\n",
              "</div>\n",
              "\n",
              "    </div>\n",
              "  </div>\n"
            ],
            "application/vnd.google.colaboratory.intrinsic+json": {
              "type": "dataframe",
              "variable_name": "train_df",
              "summary": "{\n  \"name\": \"train_df\",\n  \"rows\": 2004,\n  \"fields\": [\n    {\n      \"column\": \"User_ID\",\n      \"properties\": {\n        \"dtype\": \"category\",\n        \"num_unique_values\": 1001,\n        \"samples\": [\n          \"522\",\n          \"941\",\n          \"741\"\n        ],\n        \"semantic_type\": \"\",\n        \"description\": \"\"\n      }\n    },\n    {\n      \"column\": \"Age\",\n      \"properties\": {\n        \"dtype\": \"category\",\n        \"num_unique_values\": 19,\n        \"samples\": [\n          \"25\",\n          \"21\",\n          \"26\"\n        ],\n        \"semantic_type\": \"\",\n        \"description\": \"\"\n      }\n    },\n    {\n      \"column\": \"Gender\",\n      \"properties\": {\n        \"dtype\": \"category\",\n        \"num_unique_values\": 18,\n        \"samples\": [\n          \"Female\",\n          \"Male\",\n          \"22\"\n        ],\n        \"semantic_type\": \"\",\n        \"description\": \"\"\n      }\n    },\n    {\n      \"column\": \"Platform\",\n      \"properties\": {\n        \"dtype\": \"category\",\n        \"num_unique_values\": 7,\n        \"samples\": [\n          \"Instagram\",\n          \"Twitter\",\n          \"Telegram\"\n        ],\n        \"semantic_type\": \"\",\n        \"description\": \"\"\n      }\n    },\n    {\n      \"column\": \"Daily_Usage_Time (minutes)\",\n      \"properties\": {\n        \"dtype\": \"number\",\n        \"std\": 38.85044217067388,\n        \"min\": 40.0,\n        \"max\": 200.0,\n        \"num_unique_values\": 30,\n        \"samples\": [\n          175.0,\n          40.0,\n          160.0\n        ],\n        \"semantic_type\": \"\",\n        \"description\": \"\"\n      }\n    },\n    {\n      \"column\": \"Posts_Per_Day\",\n      \"properties\": {\n        \"dtype\": \"number\",\n        \"std\": 1.9145821018239513,\n        \"min\": 1.0,\n        \"max\": 8.0,\n        \"num_unique_values\": 8,\n        \"samples\": [\n          5.0,\n          4.0,\n          3.0\n        ],\n        \"semantic_type\": \"\",\n        \"description\": \"\"\n      }\n    },\n    {\n      \"column\": \"Likes_Received_Per_Day\",\n      \"properties\": {\n        \"dtype\": \"number\",\n        \"std\": 26.393867322395803,\n        \"min\": 5.0,\n        \"max\": 110.0,\n        \"num_unique_values\": 49,\n        \"samples\": [\n          40.0,\n          21.0,\n          23.0\n        ],\n        \"semantic_type\": \"\",\n        \"description\": \"\"\n      }\n    },\n    {\n      \"column\": \"Comments_Received_Per_Day\",\n      \"properties\": {\n        \"dtype\": \"number\",\n        \"std\": 8.819493322320875,\n        \"min\": 2.0,\n        \"max\": 40.0,\n        \"num_unique_values\": 30,\n        \"samples\": [\n          28.0,\n          26.0,\n          40.0\n        ],\n        \"semantic_type\": \"\",\n        \"description\": \"\"\n      }\n    },\n    {\n      \"column\": \"Messages_Sent_Per_Day\",\n      \"properties\": {\n        \"dtype\": \"number\",\n        \"std\": 8.51627423976746,\n        \"min\": 8.0,\n        \"max\": 50.0,\n        \"num_unique_values\": 29,\n        \"samples\": [\n          29.0,\n          21.0,\n          28.0\n        ],\n        \"semantic_type\": \"\",\n        \"description\": \"\"\n      }\n    },\n    {\n      \"column\": \"Dominant_Emotion\",\n      \"properties\": {\n        \"dtype\": \"category\",\n        \"num_unique_values\": 6,\n        \"samples\": [\n          \"Happiness\",\n          \"Anger\",\n          \"Sadness\"\n        ],\n        \"semantic_type\": \"\",\n        \"description\": \"\"\n      }\n    }\n  ]\n}"
            }
          },
          "metadata": {},
          "execution_count": 17
        }
      ]
    },
    {
      "cell_type": "markdown",
      "source": [
        "* Coloum in our data:"
      ],
      "metadata": {
        "id": "5qKJp4FOFBgi"
      }
    },
    {
      "cell_type": "code",
      "source": [
        "# list of coloums in the training data\n",
        "train_df.columns"
      ],
      "metadata": {
        "id": "VU_Fu8R0FBgj",
        "outputId": "08783a81-4162-44da-ccba-e4377c7d2772",
        "colab": {
          "base_uri": "https://localhost:8080/"
        }
      },
      "execution_count": null,
      "outputs": [
        {
          "output_type": "execute_result",
          "data": {
            "text/plain": [
              "Index(['User_ID', 'Age', 'Gender', 'Platform', 'Daily_Usage_Time (minutes)',\n",
              "       'Posts_Per_Day', 'Likes_Received_Per_Day', 'Comments_Received_Per_Day',\n",
              "       'Messages_Sent_Per_Day', 'Dominant_Emotion'],\n",
              "      dtype='object')"
            ]
          },
          "metadata": {},
          "execution_count": 18
        }
      ]
    },
    {
      "cell_type": "markdown",
      "source": [
        "### Describe the training data"
      ],
      "metadata": {
        "id": "ROoFLGw0FBgj"
      }
    },
    {
      "cell_type": "code",
      "source": [
        "train_df.describe()"
      ],
      "metadata": {
        "id": "XryNp_QlFBgj",
        "outputId": "0de25637-82c9-4025-a669-239ced4cd697",
        "colab": {
          "base_uri": "https://localhost:8080/",
          "height": 300
        }
      },
      "execution_count": null,
      "outputs": [
        {
          "output_type": "execute_result",
          "data": {
            "text/plain": [
              "       Daily_Usage_Time (minutes)  Posts_Per_Day  Likes_Received_Per_Day  \\\n",
              "count                 1000.000000    1000.000000             1000.000000   \n",
              "mean                    95.950000       3.321000               39.898000   \n",
              "std                     38.850442       1.914582               26.393867   \n",
              "min                     40.000000       1.000000                5.000000   \n",
              "25%                     65.000000       2.000000               20.000000   \n",
              "50%                     85.000000       3.000000               33.000000   \n",
              "75%                    120.000000       4.000000               55.000000   \n",
              "max                    200.000000       8.000000              110.000000   \n",
              "\n",
              "       Comments_Received_Per_Day  Messages_Sent_Per_Day  \n",
              "count                1000.000000            1000.000000  \n",
              "mean                   15.611000              22.560000  \n",
              "std                     8.819493               8.516274  \n",
              "min                     2.000000               8.000000  \n",
              "25%                     8.000000              17.750000  \n",
              "50%                    14.000000              22.000000  \n",
              "75%                    22.000000              28.000000  \n",
              "max                    40.000000              50.000000  "
            ],
            "text/html": [
              "\n",
              "  <div id=\"df-bed5ec6e-f6a5-4256-a568-95ef630e8395\" class=\"colab-df-container\">\n",
              "    <div>\n",
              "<style scoped>\n",
              "    .dataframe tbody tr th:only-of-type {\n",
              "        vertical-align: middle;\n",
              "    }\n",
              "\n",
              "    .dataframe tbody tr th {\n",
              "        vertical-align: top;\n",
              "    }\n",
              "\n",
              "    .dataframe thead th {\n",
              "        text-align: right;\n",
              "    }\n",
              "</style>\n",
              "<table border=\"1\" class=\"dataframe\">\n",
              "  <thead>\n",
              "    <tr style=\"text-align: right;\">\n",
              "      <th></th>\n",
              "      <th>Daily_Usage_Time (minutes)</th>\n",
              "      <th>Posts_Per_Day</th>\n",
              "      <th>Likes_Received_Per_Day</th>\n",
              "      <th>Comments_Received_Per_Day</th>\n",
              "      <th>Messages_Sent_Per_Day</th>\n",
              "    </tr>\n",
              "  </thead>\n",
              "  <tbody>\n",
              "    <tr>\n",
              "      <th>count</th>\n",
              "      <td>1000.000000</td>\n",
              "      <td>1000.000000</td>\n",
              "      <td>1000.000000</td>\n",
              "      <td>1000.000000</td>\n",
              "      <td>1000.000000</td>\n",
              "    </tr>\n",
              "    <tr>\n",
              "      <th>mean</th>\n",
              "      <td>95.950000</td>\n",
              "      <td>3.321000</td>\n",
              "      <td>39.898000</td>\n",
              "      <td>15.611000</td>\n",
              "      <td>22.560000</td>\n",
              "    </tr>\n",
              "    <tr>\n",
              "      <th>std</th>\n",
              "      <td>38.850442</td>\n",
              "      <td>1.914582</td>\n",
              "      <td>26.393867</td>\n",
              "      <td>8.819493</td>\n",
              "      <td>8.516274</td>\n",
              "    </tr>\n",
              "    <tr>\n",
              "      <th>min</th>\n",
              "      <td>40.000000</td>\n",
              "      <td>1.000000</td>\n",
              "      <td>5.000000</td>\n",
              "      <td>2.000000</td>\n",
              "      <td>8.000000</td>\n",
              "    </tr>\n",
              "    <tr>\n",
              "      <th>25%</th>\n",
              "      <td>65.000000</td>\n",
              "      <td>2.000000</td>\n",
              "      <td>20.000000</td>\n",
              "      <td>8.000000</td>\n",
              "      <td>17.750000</td>\n",
              "    </tr>\n",
              "    <tr>\n",
              "      <th>50%</th>\n",
              "      <td>85.000000</td>\n",
              "      <td>3.000000</td>\n",
              "      <td>33.000000</td>\n",
              "      <td>14.000000</td>\n",
              "      <td>22.000000</td>\n",
              "    </tr>\n",
              "    <tr>\n",
              "      <th>75%</th>\n",
              "      <td>120.000000</td>\n",
              "      <td>4.000000</td>\n",
              "      <td>55.000000</td>\n",
              "      <td>22.000000</td>\n",
              "      <td>28.000000</td>\n",
              "    </tr>\n",
              "    <tr>\n",
              "      <th>max</th>\n",
              "      <td>200.000000</td>\n",
              "      <td>8.000000</td>\n",
              "      <td>110.000000</td>\n",
              "      <td>40.000000</td>\n",
              "      <td>50.000000</td>\n",
              "    </tr>\n",
              "  </tbody>\n",
              "</table>\n",
              "</div>\n",
              "    <div class=\"colab-df-buttons\">\n",
              "\n",
              "  <div class=\"colab-df-container\">\n",
              "    <button class=\"colab-df-convert\" onclick=\"convertToInteractive('df-bed5ec6e-f6a5-4256-a568-95ef630e8395')\"\n",
              "            title=\"Convert this dataframe to an interactive table.\"\n",
              "            style=\"display:none;\">\n",
              "\n",
              "  <svg xmlns=\"http://www.w3.org/2000/svg\" height=\"24px\" viewBox=\"0 -960 960 960\">\n",
              "    <path d=\"M120-120v-720h720v720H120Zm60-500h600v-160H180v160Zm220 220h160v-160H400v160Zm0 220h160v-160H400v160ZM180-400h160v-160H180v160Zm440 0h160v-160H620v160ZM180-180h160v-160H180v160Zm440 0h160v-160H620v160Z\"/>\n",
              "  </svg>\n",
              "    </button>\n",
              "\n",
              "  <style>\n",
              "    .colab-df-container {\n",
              "      display:flex;\n",
              "      gap: 12px;\n",
              "    }\n",
              "\n",
              "    .colab-df-convert {\n",
              "      background-color: #E8F0FE;\n",
              "      border: none;\n",
              "      border-radius: 50%;\n",
              "      cursor: pointer;\n",
              "      display: none;\n",
              "      fill: #1967D2;\n",
              "      height: 32px;\n",
              "      padding: 0 0 0 0;\n",
              "      width: 32px;\n",
              "    }\n",
              "\n",
              "    .colab-df-convert:hover {\n",
              "      background-color: #E2EBFA;\n",
              "      box-shadow: 0px 1px 2px rgba(60, 64, 67, 0.3), 0px 1px 3px 1px rgba(60, 64, 67, 0.15);\n",
              "      fill: #174EA6;\n",
              "    }\n",
              "\n",
              "    .colab-df-buttons div {\n",
              "      margin-bottom: 4px;\n",
              "    }\n",
              "\n",
              "    [theme=dark] .colab-df-convert {\n",
              "      background-color: #3B4455;\n",
              "      fill: #D2E3FC;\n",
              "    }\n",
              "\n",
              "    [theme=dark] .colab-df-convert:hover {\n",
              "      background-color: #434B5C;\n",
              "      box-shadow: 0px 1px 3px 1px rgba(0, 0, 0, 0.15);\n",
              "      filter: drop-shadow(0px 1px 2px rgba(0, 0, 0, 0.3));\n",
              "      fill: #FFFFFF;\n",
              "    }\n",
              "  </style>\n",
              "\n",
              "    <script>\n",
              "      const buttonEl =\n",
              "        document.querySelector('#df-bed5ec6e-f6a5-4256-a568-95ef630e8395 button.colab-df-convert');\n",
              "      buttonEl.style.display =\n",
              "        google.colab.kernel.accessAllowed ? 'block' : 'none';\n",
              "\n",
              "      async function convertToInteractive(key) {\n",
              "        const element = document.querySelector('#df-bed5ec6e-f6a5-4256-a568-95ef630e8395');\n",
              "        const dataTable =\n",
              "          await google.colab.kernel.invokeFunction('convertToInteractive',\n",
              "                                                    [key], {});\n",
              "        if (!dataTable) return;\n",
              "\n",
              "        const docLinkHtml = 'Like what you see? Visit the ' +\n",
              "          '<a target=\"_blank\" href=https://colab.research.google.com/notebooks/data_table.ipynb>data table notebook</a>'\n",
              "          + ' to learn more about interactive tables.';\n",
              "        element.innerHTML = '';\n",
              "        dataTable['output_type'] = 'display_data';\n",
              "        await google.colab.output.renderOutput(dataTable, element);\n",
              "        const docLink = document.createElement('div');\n",
              "        docLink.innerHTML = docLinkHtml;\n",
              "        element.appendChild(docLink);\n",
              "      }\n",
              "    </script>\n",
              "  </div>\n",
              "\n",
              "\n",
              "<div id=\"df-fbb5f465-b088-4258-b009-160697d77637\">\n",
              "  <button class=\"colab-df-quickchart\" onclick=\"quickchart('df-fbb5f465-b088-4258-b009-160697d77637')\"\n",
              "            title=\"Suggest charts\"\n",
              "            style=\"display:none;\">\n",
              "\n",
              "<svg xmlns=\"http://www.w3.org/2000/svg\" height=\"24px\"viewBox=\"0 0 24 24\"\n",
              "     width=\"24px\">\n",
              "    <g>\n",
              "        <path d=\"M19 3H5c-1.1 0-2 .9-2 2v14c0 1.1.9 2 2 2h14c1.1 0 2-.9 2-2V5c0-1.1-.9-2-2-2zM9 17H7v-7h2v7zm4 0h-2V7h2v10zm4 0h-2v-4h2v4z\"/>\n",
              "    </g>\n",
              "</svg>\n",
              "  </button>\n",
              "\n",
              "<style>\n",
              "  .colab-df-quickchart {\n",
              "      --bg-color: #E8F0FE;\n",
              "      --fill-color: #1967D2;\n",
              "      --hover-bg-color: #E2EBFA;\n",
              "      --hover-fill-color: #174EA6;\n",
              "      --disabled-fill-color: #AAA;\n",
              "      --disabled-bg-color: #DDD;\n",
              "  }\n",
              "\n",
              "  [theme=dark] .colab-df-quickchart {\n",
              "      --bg-color: #3B4455;\n",
              "      --fill-color: #D2E3FC;\n",
              "      --hover-bg-color: #434B5C;\n",
              "      --hover-fill-color: #FFFFFF;\n",
              "      --disabled-bg-color: #3B4455;\n",
              "      --disabled-fill-color: #666;\n",
              "  }\n",
              "\n",
              "  .colab-df-quickchart {\n",
              "    background-color: var(--bg-color);\n",
              "    border: none;\n",
              "    border-radius: 50%;\n",
              "    cursor: pointer;\n",
              "    display: none;\n",
              "    fill: var(--fill-color);\n",
              "    height: 32px;\n",
              "    padding: 0;\n",
              "    width: 32px;\n",
              "  }\n",
              "\n",
              "  .colab-df-quickchart:hover {\n",
              "    background-color: var(--hover-bg-color);\n",
              "    box-shadow: 0 1px 2px rgba(60, 64, 67, 0.3), 0 1px 3px 1px rgba(60, 64, 67, 0.15);\n",
              "    fill: var(--button-hover-fill-color);\n",
              "  }\n",
              "\n",
              "  .colab-df-quickchart-complete:disabled,\n",
              "  .colab-df-quickchart-complete:disabled:hover {\n",
              "    background-color: var(--disabled-bg-color);\n",
              "    fill: var(--disabled-fill-color);\n",
              "    box-shadow: none;\n",
              "  }\n",
              "\n",
              "  .colab-df-spinner {\n",
              "    border: 2px solid var(--fill-color);\n",
              "    border-color: transparent;\n",
              "    border-bottom-color: var(--fill-color);\n",
              "    animation:\n",
              "      spin 1s steps(1) infinite;\n",
              "  }\n",
              "\n",
              "  @keyframes spin {\n",
              "    0% {\n",
              "      border-color: transparent;\n",
              "      border-bottom-color: var(--fill-color);\n",
              "      border-left-color: var(--fill-color);\n",
              "    }\n",
              "    20% {\n",
              "      border-color: transparent;\n",
              "      border-left-color: var(--fill-color);\n",
              "      border-top-color: var(--fill-color);\n",
              "    }\n",
              "    30% {\n",
              "      border-color: transparent;\n",
              "      border-left-color: var(--fill-color);\n",
              "      border-top-color: var(--fill-color);\n",
              "      border-right-color: var(--fill-color);\n",
              "    }\n",
              "    40% {\n",
              "      border-color: transparent;\n",
              "      border-right-color: var(--fill-color);\n",
              "      border-top-color: var(--fill-color);\n",
              "    }\n",
              "    60% {\n",
              "      border-color: transparent;\n",
              "      border-right-color: var(--fill-color);\n",
              "    }\n",
              "    80% {\n",
              "      border-color: transparent;\n",
              "      border-right-color: var(--fill-color);\n",
              "      border-bottom-color: var(--fill-color);\n",
              "    }\n",
              "    90% {\n",
              "      border-color: transparent;\n",
              "      border-bottom-color: var(--fill-color);\n",
              "    }\n",
              "  }\n",
              "</style>\n",
              "\n",
              "  <script>\n",
              "    async function quickchart(key) {\n",
              "      const quickchartButtonEl =\n",
              "        document.querySelector('#' + key + ' button');\n",
              "      quickchartButtonEl.disabled = true;  // To prevent multiple clicks.\n",
              "      quickchartButtonEl.classList.add('colab-df-spinner');\n",
              "      try {\n",
              "        const charts = await google.colab.kernel.invokeFunction(\n",
              "            'suggestCharts', [key], {});\n",
              "      } catch (error) {\n",
              "        console.error('Error during call to suggestCharts:', error);\n",
              "      }\n",
              "      quickchartButtonEl.classList.remove('colab-df-spinner');\n",
              "      quickchartButtonEl.classList.add('colab-df-quickchart-complete');\n",
              "    }\n",
              "    (() => {\n",
              "      let quickchartButtonEl =\n",
              "        document.querySelector('#df-fbb5f465-b088-4258-b009-160697d77637 button');\n",
              "      quickchartButtonEl.style.display =\n",
              "        google.colab.kernel.accessAllowed ? 'block' : 'none';\n",
              "    })();\n",
              "  </script>\n",
              "</div>\n",
              "\n",
              "    </div>\n",
              "  </div>\n"
            ],
            "application/vnd.google.colaboratory.intrinsic+json": {
              "type": "dataframe",
              "summary": "{\n  \"name\": \"train_df\",\n  \"rows\": 8,\n  \"fields\": [\n    {\n      \"column\": \"Daily_Usage_Time (minutes)\",\n      \"properties\": {\n        \"dtype\": \"number\",\n        \"std\": 325.1361687346772,\n        \"min\": 38.85044217067388,\n        \"max\": 1000.0,\n        \"num_unique_values\": 8,\n        \"samples\": [\n          95.95,\n          85.0,\n          1000.0\n        ],\n        \"semantic_type\": \"\",\n        \"description\": \"\"\n      }\n    },\n    {\n      \"column\": \"Posts_Per_Day\",\n      \"properties\": {\n        \"dtype\": \"number\",\n        \"std\": 352.38621519287557,\n        \"min\": 1.0,\n        \"max\": 1000.0,\n        \"num_unique_values\": 8,\n        \"samples\": [\n          3.321,\n          3.0,\n          1000.0\n        ],\n        \"semantic_type\": \"\",\n        \"description\": \"\"\n      }\n    },\n    {\n      \"column\": \"Likes_Received_Per_Day\",\n      \"properties\": {\n        \"dtype\": \"number\",\n        \"std\": 340.4080108053681,\n        \"min\": 5.0,\n        \"max\": 1000.0,\n        \"num_unique_values\": 8,\n        \"samples\": [\n          39.898,\n          33.0,\n          1000.0\n        ],\n        \"semantic_type\": \"\",\n        \"description\": \"\"\n      }\n    },\n    {\n      \"column\": \"Comments_Received_Per_Day\",\n      \"properties\": {\n        \"dtype\": \"number\",\n        \"std\": 348.1661142371464,\n        \"min\": 2.0,\n        \"max\": 1000.0,\n        \"num_unique_values\": 8,\n        \"samples\": [\n          15.611,\n          14.0,\n          1000.0\n        ],\n        \"semantic_type\": \"\",\n        \"description\": \"\"\n      }\n    },\n    {\n      \"column\": \"Messages_Sent_Per_Day\",\n      \"properties\": {\n        \"dtype\": \"number\",\n        \"std\": 345.88347840411194,\n        \"min\": 8.0,\n        \"max\": 1000.0,\n        \"num_unique_values\": 8,\n        \"samples\": [\n          22.56,\n          22.0,\n          1000.0\n        ],\n        \"semantic_type\": \"\",\n        \"description\": \"\"\n      }\n    }\n  ]\n}"
            }
          },
          "metadata": {},
          "execution_count": 19
        }
      ]
    },
    {
      "cell_type": "markdown",
      "source": [
        "### Age Distribution"
      ],
      "metadata": {
        "id": "uyXOw7UkFBgj"
      }
    },
    {
      "cell_type": "code",
      "source": [
        "train_df['Age'].isnull().sum()"
      ],
      "metadata": {
        "id": "3A1BYSLlFBgj",
        "outputId": "57cfb09d-6789-4f1e-90cf-a909ecf4e38f",
        "colab": {
          "base_uri": "https://localhost:8080/"
        }
      },
      "execution_count": null,
      "outputs": [
        {
          "output_type": "execute_result",
          "data": {
            "text/plain": [
              "1003"
            ]
          },
          "metadata": {},
          "execution_count": 20
        }
      ]
    },
    {
      "cell_type": "code",
      "source": [
        "train_df['Age'].unique()"
      ],
      "metadata": {
        "id": "0Wh34a5qFBgj"
      },
      "execution_count": null,
      "outputs": []
    },
    {
      "cell_type": "code",
      "source": [
        "# removing the Male, Female, Non-binary, and işte mevcut veri kümesini 1000 satıra tamamlıyorum:\n",
        "\n",
        "# Replace non-numeric values with NaN\n",
        "train_df['Age'] = pd.to_numeric(train_df['Age'], errors='coerce')\n",
        "\n",
        "# Handle NaN values\n",
        "train_df['Age'].fillna(train_df['Age'].median(), inplace=True)\n"
      ],
      "metadata": {
        "id": "mY3HB0LXFBgj"
      },
      "execution_count": null,
      "outputs": []
    },
    {
      "cell_type": "code",
      "source": [
        "train_df['Age'].unique()"
      ],
      "metadata": {
        "id": "uf6nHA3eFBgj",
        "outputId": "5d1ae5b6-c198-427c-dae4-d9684fb45193",
        "colab": {
          "base_uri": "https://localhost:8080/"
        }
      },
      "execution_count": null,
      "outputs": [
        {
          "output_type": "execute_result",
          "data": {
            "text/plain": [
              "array([27., 25., 30., 22., 28., 33., 21., 24., 29., 31., 23., 26., 34.,\n",
              "       35., 32.])"
            ]
          },
          "metadata": {},
          "execution_count": 22
        }
      ]
    },
    {
      "cell_type": "code",
      "source": [
        "plt = px.histogram(train_df, x='Age', title='Age Distribution')\n",
        "plt.show()"
      ],
      "metadata": {
        "id": "1QRO1vjFFBgj",
        "outputId": "4d0ff2b2-7c3a-4869-af56-2c280513f70a",
        "colab": {
          "base_uri": "https://localhost:8080/",
          "height": 542
        }
      },
      "execution_count": null,
      "outputs": [
        {
          "output_type": "display_data",
          "data": {
            "text/html": [
              "<html>\n",
              "<head><meta charset=\"utf-8\" /></head>\n",
              "<body>\n",
              "    <div>            <script src=\"https://cdnjs.cloudflare.com/ajax/libs/mathjax/2.7.5/MathJax.js?config=TeX-AMS-MML_SVG\"></script><script type=\"text/javascript\">if (window.MathJax && window.MathJax.Hub && window.MathJax.Hub.Config) {window.MathJax.Hub.Config({SVG: {font: \"STIX-Web\"}});}</script>                <script type=\"text/javascript\">window.PlotlyConfig = {MathJaxConfig: 'local'};</script>\n",
              "        <script charset=\"utf-8\" src=\"https://cdn.plot.ly/plotly-2.35.2.min.js\"></script>                <div id=\"9035dc37-13a7-422b-8fbc-857b73291358\" class=\"plotly-graph-div\" style=\"height:525px; width:100%;\"></div>            <script type=\"text/javascript\">                                    window.PLOTLYENV=window.PLOTLYENV || {};                                    if (document.getElementById(\"9035dc37-13a7-422b-8fbc-857b73291358\")) {                    Plotly.newPlot(                        \"9035dc37-13a7-422b-8fbc-857b73291358\",                        [{\"alignmentgroup\":\"True\",\"bingroup\":\"x\",\"hovertemplate\":\"Age=%{x}\\u003cbr\\u003ecount=%{y}\\u003cextra\\u003e\\u003c\\u002fextra\\u003e\",\"legendgroup\":\"\",\"marker\":{\"color\":\"#636efa\",\"pattern\":{\"shape\":\"\"}},\"name\":\"\",\"offsetgroup\":\"\",\"orientation\":\"v\",\"showlegend\":false,\"x\":[27.0,25.0,27.0,30.0,27.0,22.0,27.0,28.0,27.0,33.0,27.0,21.0,27.0,27.0,27.0,24.0,27.0,29.0,27.0,31.0,27.0,23.0,27.0,26.0,27.0,34.0,27.0,22.0,27.0,28.0,27.0,21.0,27.0,35.0,27.0,27.0,27.0,23.0,27.0,32.0,27.0,26.0,27.0,24.0,27.0,29.0,27.0,33.0,27.0,22.0,27.0,31.0,27.0,27.0,27.0,25.0,27.0,30.0,27.0,26.0,27.0,34.0,27.0,28.0,27.0,23.0,27.0,21.0,27.0,29.0,27.0,24.0,27.0,33.0,27.0,27.0,27.0,22.0,27.0,28.0,27.0,31.0,27.0,25.0,27.0,29.0,27.0,23.0,27.0,35.0,27.0,30.0,27.0,21.0,27.0,26.0,27.0,32.0,27.0,28.0,27.0,27.0,27.0,24.0,27.0,29.0,27.0,33.0,27.0,31.0,27.0,22.0,27.0,25.0,27.0,29.0,27.0,28.0,27.0,27.0,27.0,30.0,27.0,23.0,27.0,34.0,27.0,26.0,27.0,25.0,27.0,29.0,27.0,28.0,27.0,31.0,27.0,27.0,27.0,22.0,27.0,24.0,27.0,35.0,27.0,21.0,27.0,29.0,27.0,25.0,27.0,28.0,27.0,32.0,27.0,26.0,27.0,33.0,27.0,27.0,27.0,31.0,27.0,24.0,27.0,34.0,27.0,22.0,27.0,29.0,27.0,28.0,27.0,31.0,27.0,21.0,27.0,25.0,27.0,30.0,27.0,27.0,27.0,32.0,27.0,24.0,27.0,29.0,27.0,26.0,27.0,33.0,27.0,22.0,27.0,35.0,27.0,28.0,27.0,27.0,27.0,25.0,27.0,30.0,27.0,22.0,27.0,28.0,27.0,33.0,27.0,21.0,27.0,27.0,27.0,24.0,27.0,29.0,27.0,31.0,27.0,23.0,27.0,26.0,27.0,34.0,27.0,22.0,27.0,28.0,27.0,21.0,27.0,35.0,27.0,27.0,27.0,23.0,27.0,32.0,27.0,26.0,27.0,24.0,27.0,29.0,27.0,33.0,27.0,22.0,27.0,31.0,27.0,27.0,27.0,25.0,27.0,30.0,27.0,26.0,27.0,34.0,27.0,28.0,27.0,23.0,27.0,21.0,27.0,29.0,27.0,24.0,27.0,33.0,27.0,27.0,27.0,22.0,27.0,28.0,27.0,31.0,27.0,25.0,27.0,29.0,27.0,23.0,27.0,35.0,27.0,30.0,27.0,21.0,27.0,26.0,27.0,32.0,27.0,28.0,27.0,27.0,27.0,24.0,27.0,29.0,27.0,33.0,27.0,31.0,27.0,22.0,27.0,25.0,27.0,29.0,27.0,28.0,27.0,27.0,27.0,30.0,27.0,23.0,27.0,34.0,27.0,26.0,27.0,25.0,27.0,29.0,27.0,28.0,27.0,31.0,27.0,27.0,27.0,22.0,27.0,24.0,27.0,35.0,27.0,21.0,27.0,29.0,27.0,25.0,27.0,28.0,27.0,32.0,27.0,26.0,27.0,33.0,27.0,27.0,27.0,31.0,27.0,24.0,27.0,34.0,27.0,22.0,27.0,29.0,27.0,28.0,27.0,31.0,27.0,21.0,27.0,25.0,27.0,30.0,27.0,27.0,27.0,32.0,27.0,24.0,27.0,29.0,27.0,26.0,27.0,33.0,27.0,22.0,27.0,35.0,27.0,28.0,27.0,27.0,27.0,25.0,27.0,30.0,27.0,22.0,27.0,28.0,27.0,33.0,27.0,21.0,27.0,27.0,27.0,24.0,27.0,29.0,27.0,31.0,27.0,23.0,27.0,26.0,27.0,34.0,27.0,22.0,27.0,28.0,27.0,21.0,27.0,35.0,27.0,27.0,27.0,23.0,27.0,32.0,27.0,26.0,27.0,24.0,27.0,29.0,27.0,33.0,27.0,22.0,27.0,31.0,27.0,27.0,27.0,25.0,27.0,30.0,27.0,26.0,27.0,34.0,27.0,28.0,27.0,23.0,27.0,21.0,27.0,29.0,27.0,24.0,27.0,33.0,27.0,27.0,27.0,22.0,27.0,28.0,27.0,31.0,27.0,25.0,27.0,29.0,27.0,23.0,27.0,35.0,27.0,30.0,27.0,21.0,27.0,26.0,27.0,32.0,27.0,28.0,27.0,27.0,27.0,27.0,27.0,27.0,27.0,27.0,27.0,27.0,27.0,27.0,27.0,27.0,27.0,27.0,27.0,27.0,27.0,27.0,27.0,27.0,27.0,27.0,27.0,27.0,27.0,27.0,27.0,27.0,27.0,27.0,27.0,27.0,27.0,27.0,27.0,27.0,27.0,27.0,27.0,27.0,27.0,27.0,27.0,27.0,27.0,27.0,27.0,27.0,27.0,27.0,27.0,27.0,27.0,27.0,27.0,27.0,27.0,27.0,27.0,27.0,27.0,27.0,27.0,27.0,27.0,27.0,27.0,27.0,27.0,27.0,27.0,27.0,27.0,27.0,27.0,25.0,27.0,30.0,27.0,27.0,27.0,32.0,27.0,24.0,27.0,29.0,27.0,26.0,27.0,33.0,27.0,22.0,27.0,35.0,27.0,28.0,27.0,27.0,27.0,25.0,27.0,30.0,27.0,22.0,27.0,28.0,27.0,33.0,27.0,21.0,27.0,27.0,27.0,24.0,27.0,29.0,27.0,31.0,27.0,23.0,27.0,26.0,27.0,34.0,27.0,22.0,27.0,28.0,27.0,21.0,27.0,35.0,27.0,27.0,27.0,23.0,27.0,32.0,27.0,26.0,27.0,24.0,27.0,29.0,27.0,33.0,27.0,22.0,27.0,31.0,27.0,27.0,27.0,25.0,27.0,30.0,27.0,26.0,27.0,34.0,27.0,28.0,27.0,23.0,27.0,21.0,27.0,29.0,27.0,24.0,27.0,33.0,27.0,27.0,27.0,22.0,27.0,28.0,27.0,31.0,27.0,25.0,27.0,29.0,27.0,23.0,27.0,35.0,27.0,30.0,27.0,21.0,27.0,26.0,27.0,32.0,27.0,28.0,27.0,27.0,27.0,24.0,27.0,29.0,27.0,33.0,27.0,31.0,27.0,22.0,27.0,25.0,27.0,29.0,27.0,28.0,27.0,27.0,27.0,30.0,27.0,23.0,27.0,34.0,27.0,26.0,27.0,25.0,27.0,29.0,27.0,28.0,27.0,31.0,27.0,27.0,27.0,22.0,27.0,24.0,27.0,35.0,27.0,21.0,27.0,29.0,27.0,25.0,27.0,28.0,27.0,32.0,27.0,26.0,27.0,33.0,27.0,27.0,27.0,31.0,27.0,24.0,27.0,34.0,27.0,22.0,27.0,29.0,27.0,28.0,27.0,31.0,27.0,21.0,27.0,25.0,27.0,30.0,27.0,27.0,27.0,32.0,27.0,24.0,27.0,29.0,27.0,26.0,27.0,33.0,27.0,22.0,27.0,35.0,27.0,28.0,27.0,27.0,27.0,25.0,27.0,30.0,27.0,22.0,27.0,28.0,27.0,33.0,27.0,21.0,27.0,27.0,27.0,24.0,27.0,29.0,27.0,31.0,27.0,23.0,27.0,26.0,27.0,34.0,27.0,22.0,27.0,28.0,27.0,21.0,27.0,35.0,27.0,27.0,27.0,23.0,27.0,32.0,27.0,26.0,27.0,24.0,27.0,29.0,27.0,33.0,27.0,22.0,27.0,31.0,27.0,27.0,27.0,25.0,27.0,30.0,27.0,26.0,27.0,34.0,27.0,28.0,27.0,23.0,27.0,21.0,27.0,29.0,27.0,24.0,27.0,33.0,27.0,27.0,27.0,22.0,27.0,28.0,27.0,31.0,27.0,25.0,27.0,29.0,27.0,23.0,27.0,35.0,27.0,30.0,27.0,21.0,27.0,26.0,27.0,32.0,27.0,28.0,27.0,27.0,27.0,24.0,27.0,29.0,27.0,33.0,27.0,31.0,27.0,22.0,27.0,25.0,27.0,29.0,27.0,28.0,27.0,27.0,27.0,30.0,27.0,23.0,27.0,34.0,27.0,26.0,27.0,25.0,27.0,29.0,27.0,28.0,27.0,31.0,27.0,27.0,27.0,22.0,27.0,24.0,27.0,35.0,27.0,21.0,27.0,29.0,27.0,25.0,27.0,28.0,27.0,32.0,27.0,26.0,27.0,33.0,27.0,27.0,27.0,31.0,27.0,24.0,27.0,34.0,27.0,22.0,27.0,29.0,27.0,28.0,27.0,31.0,27.0,21.0,27.0,25.0,27.0,30.0,27.0,27.0,27.0,32.0,27.0,24.0,27.0,29.0,27.0,26.0,27.0,33.0,27.0,22.0,27.0,35.0,27.0,28.0,27.0,27.0,27.0,25.0,27.0,30.0,27.0,22.0,27.0,28.0,27.0,33.0,27.0,21.0,27.0,27.0,27.0,24.0,27.0,29.0,27.0,31.0,27.0,23.0,27.0,26.0,27.0,34.0,27.0,22.0,27.0,28.0,27.0,21.0,27.0,35.0,27.0,27.0,27.0,23.0,27.0,32.0,27.0,26.0,27.0,24.0,27.0,29.0,27.0,33.0,27.0,22.0,27.0,31.0,27.0,27.0,27.0,25.0,27.0,30.0,27.0,26.0,27.0,34.0,27.0,28.0,27.0,23.0,27.0,21.0,27.0,29.0,27.0,24.0,27.0,33.0,27.0,27.0,27.0,22.0,27.0,28.0,27.0,31.0,27.0,25.0,27.0,29.0,27.0,23.0,27.0,35.0,27.0,30.0,27.0,21.0,27.0,26.0,27.0,32.0,27.0,28.0,27.0,27.0,27.0,24.0,27.0,29.0,27.0,33.0,27.0,31.0,27.0,22.0,27.0,25.0,27.0,29.0,27.0,28.0,27.0,27.0,27.0,30.0,27.0,23.0,27.0,34.0,27.0,26.0,27.0,25.0,27.0,29.0,27.0,28.0,27.0,31.0,27.0,27.0,27.0,22.0,27.0,24.0,27.0,35.0,27.0,21.0,27.0,29.0,27.0,25.0,27.0,28.0,27.0,32.0,27.0,26.0,27.0,33.0,27.0,27.0,27.0,31.0,27.0,24.0,27.0,34.0,27.0,22.0,27.0,29.0,27.0,28.0,27.0,31.0,27.0,21.0,27.0,25.0,27.0,30.0,27.0,27.0,27.0,32.0,27.0,24.0,27.0,29.0,27.0,26.0,27.0,33.0,27.0,22.0,27.0,35.0,27.0,28.0,27.0,27.0,27.0,25.0,27.0,30.0,27.0,22.0,27.0,28.0,27.0,33.0,27.0,21.0,27.0,27.0,27.0,24.0,27.0,29.0,27.0,31.0,27.0,23.0,27.0,26.0,27.0,34.0,27.0,22.0,27.0,28.0,27.0,21.0,27.0,35.0,27.0,27.0,27.0,23.0,27.0,32.0,27.0,26.0,27.0,24.0,27.0,29.0,27.0,33.0,27.0,22.0,27.0,31.0,27.0,27.0,27.0,25.0,27.0,30.0,27.0,26.0,27.0,34.0,27.0,28.0,27.0,23.0,27.0,21.0,27.0,29.0,27.0,24.0,27.0,33.0,27.0,27.0,27.0,22.0,27.0,28.0,27.0,31.0,27.0,27.0,27.0,27.0,27.0,25.0,27.0,29.0,27.0,23.0,27.0,35.0,27.0,30.0,27.0,21.0,27.0,26.0,27.0,32.0,27.0,28.0,27.0,27.0,27.0,24.0,27.0,29.0,27.0,33.0,27.0,31.0,27.0,22.0,27.0,25.0,27.0,29.0,27.0,28.0,27.0,27.0,27.0,30.0,27.0,23.0,27.0,34.0,27.0,26.0,27.0,25.0,27.0,29.0,27.0,28.0,27.0,31.0,27.0,27.0,27.0,22.0,27.0,24.0,27.0,35.0,27.0,21.0,27.0,29.0,27.0,25.0,27.0,28.0,27.0,32.0,27.0,26.0,27.0,33.0,27.0,27.0,27.0,31.0,27.0,24.0,27.0,34.0,27.0,22.0,27.0,29.0,27.0,28.0,27.0,31.0,27.0,21.0,27.0,25.0,27.0,30.0,27.0,27.0,27.0,32.0,27.0,24.0,27.0,29.0,27.0,26.0,27.0,33.0,27.0,22.0,27.0,35.0,27.0,28.0,27.0,27.0,27.0,25.0,27.0,30.0,27.0,22.0,27.0,28.0,27.0,33.0,27.0,21.0,27.0,27.0,27.0,24.0,27.0,29.0,27.0,31.0,27.0,23.0,27.0,26.0,27.0,34.0,27.0,22.0,27.0,28.0,27.0,21.0,27.0,35.0,27.0,27.0,27.0,23.0,27.0,32.0,27.0,26.0,27.0,24.0,27.0,29.0,27.0,33.0,27.0,22.0,27.0,31.0,27.0,27.0,27.0,25.0,27.0,30.0,27.0,26.0,27.0,34.0,27.0,28.0,27.0,23.0,27.0,21.0,27.0,29.0,27.0,24.0,27.0,33.0,27.0,27.0,27.0,22.0,27.0,28.0,27.0,31.0,27.0,25.0,27.0,29.0,27.0,23.0,27.0,35.0,27.0,30.0,27.0,21.0,27.0,26.0,27.0,32.0,27.0,28.0,27.0,27.0,27.0,27.0,27.0,27.0,27.0,27.0,27.0,27.0,27.0,27.0,27.0,27.0,27.0,27.0,27.0,27.0,27.0,27.0,27.0,27.0,27.0,27.0,27.0,27.0,27.0,27.0,27.0,27.0,27.0,27.0,27.0,27.0,27.0,27.0,27.0,27.0,27.0,27.0,27.0,27.0,27.0,27.0,27.0,27.0,27.0,27.0,27.0,27.0,27.0,27.0,27.0,27.0,27.0,27.0,27.0,27.0,27.0,27.0,27.0,27.0,27.0,27.0,27.0,27.0,27.0,27.0,27.0,27.0,27.0,27.0,27.0,27.0,27.0,27.0,27.0,25.0,27.0,30.0,27.0,27.0,27.0,32.0,27.0,24.0,27.0,29.0,27.0,26.0,27.0,33.0,27.0,22.0,27.0,35.0,27.0,28.0,27.0,27.0,27.0,25.0,27.0,30.0,27.0,22.0,27.0,28.0,27.0,33.0,27.0,21.0,27.0,27.0,27.0,24.0,27.0,29.0,27.0,31.0,27.0,23.0,27.0,26.0,27.0,34.0,27.0,22.0,27.0,28.0,27.0,21.0,27.0,35.0,27.0,27.0,27.0,23.0,27.0,32.0,27.0,26.0,27.0,24.0,27.0,29.0,27.0,33.0,27.0,22.0,27.0,31.0,27.0,27.0,27.0,25.0,27.0,30.0,27.0,26.0,27.0,34.0,27.0,28.0,27.0,23.0,27.0,21.0,27.0,29.0,27.0,24.0,27.0,33.0,27.0,27.0,27.0,22.0,27.0,28.0,27.0,31.0,27.0,25.0,27.0,29.0,27.0,23.0,27.0,35.0,27.0,30.0,27.0,21.0,27.0,26.0,27.0,32.0,27.0,28.0,27.0,27.0,27.0,24.0,27.0,29.0,27.0,33.0,27.0,31.0,27.0,22.0,27.0,25.0,27.0,29.0,27.0,28.0,27.0,27.0,27.0,30.0,27.0,23.0,27.0,34.0,27.0,26.0,27.0,25.0,27.0,29.0,27.0,28.0,27.0,31.0,27.0,27.0,27.0,22.0,27.0,24.0,27.0,35.0,27.0,21.0,27.0,29.0,27.0,25.0,27.0,28.0,27.0,32.0,27.0,26.0,27.0,33.0,27.0,27.0,27.0,31.0,27.0,24.0,27.0,34.0,27.0,22.0,27.0,29.0,27.0,28.0,27.0,31.0,27.0,21.0,27.0,25.0,27.0,30.0,27.0,27.0,27.0,32.0,27.0,24.0,27.0,29.0,27.0,26.0,27.0,33.0,27.0,22.0,27.0,35.0,27.0,28.0,27.0,27.0,27.0,25.0,27.0,30.0,27.0,22.0,27.0,28.0,27.0,33.0,27.0,21.0,27.0,27.0,27.0,24.0,27.0,29.0,27.0,31.0,27.0,23.0,27.0,26.0,27.0,34.0,27.0,22.0,27.0,28.0,27.0,21.0,27.0,35.0,27.0,27.0,27.0,23.0,27.0,32.0,27.0,26.0,27.0,24.0,27.0,29.0,27.0,33.0,27.0,22.0,27.0,31.0,27.0,27.0,27.0,25.0,27.0,30.0,27.0,26.0,27.0,34.0,27.0,28.0,27.0,23.0,27.0,21.0,27.0,29.0,27.0,24.0,27.0,33.0,27.0,27.0,27.0,22.0,27.0,28.0,27.0,31.0,27.0,25.0,27.0,29.0,27.0,23.0,27.0,35.0,27.0,30.0,27.0,21.0,27.0,26.0,27.0,32.0,27.0,28.0,27.0,27.0,27.0,24.0,27.0,29.0,27.0,33.0,27.0,31.0,27.0,22.0,27.0,25.0,27.0,29.0,27.0,28.0,27.0,27.0,27.0,30.0,27.0,23.0,27.0,34.0,27.0,26.0,27.0,25.0,27.0,29.0,27.0,28.0,27.0,31.0,27.0,27.0,27.0,22.0,27.0,24.0,27.0,35.0,27.0,21.0,27.0,29.0,27.0,25.0,27.0,28.0,27.0,32.0,27.0,26.0,27.0,33.0,27.0,27.0,27.0,31.0,27.0,24.0,27.0,34.0,27.0,22.0,27.0,29.0,27.0,28.0,27.0,31.0,27.0,21.0,27.0,25.0,27.0,30.0,27.0,27.0,27.0,32.0,27.0,24.0,27.0,29.0,27.0,26.0,27.0,33.0,27.0,22.0,27.0,35.0,27.0,28.0,27.0,27.0],\"xaxis\":\"x\",\"yaxis\":\"y\",\"type\":\"histogram\"}],                        {\"template\":{\"data\":{\"histogram2dcontour\":[{\"type\":\"histogram2dcontour\",\"colorbar\":{\"outlinewidth\":0,\"ticks\":\"\"},\"colorscale\":[[0.0,\"#0d0887\"],[0.1111111111111111,\"#46039f\"],[0.2222222222222222,\"#7201a8\"],[0.3333333333333333,\"#9c179e\"],[0.4444444444444444,\"#bd3786\"],[0.5555555555555556,\"#d8576b\"],[0.6666666666666666,\"#ed7953\"],[0.7777777777777778,\"#fb9f3a\"],[0.8888888888888888,\"#fdca26\"],[1.0,\"#f0f921\"]]}],\"choropleth\":[{\"type\":\"choropleth\",\"colorbar\":{\"outlinewidth\":0,\"ticks\":\"\"}}],\"histogram2d\":[{\"type\":\"histogram2d\",\"colorbar\":{\"outlinewidth\":0,\"ticks\":\"\"},\"colorscale\":[[0.0,\"#0d0887\"],[0.1111111111111111,\"#46039f\"],[0.2222222222222222,\"#7201a8\"],[0.3333333333333333,\"#9c179e\"],[0.4444444444444444,\"#bd3786\"],[0.5555555555555556,\"#d8576b\"],[0.6666666666666666,\"#ed7953\"],[0.7777777777777778,\"#fb9f3a\"],[0.8888888888888888,\"#fdca26\"],[1.0,\"#f0f921\"]]}],\"heatmap\":[{\"type\":\"heatmap\",\"colorbar\":{\"outlinewidth\":0,\"ticks\":\"\"},\"colorscale\":[[0.0,\"#0d0887\"],[0.1111111111111111,\"#46039f\"],[0.2222222222222222,\"#7201a8\"],[0.3333333333333333,\"#9c179e\"],[0.4444444444444444,\"#bd3786\"],[0.5555555555555556,\"#d8576b\"],[0.6666666666666666,\"#ed7953\"],[0.7777777777777778,\"#fb9f3a\"],[0.8888888888888888,\"#fdca26\"],[1.0,\"#f0f921\"]]}],\"heatmapgl\":[{\"type\":\"heatmapgl\",\"colorbar\":{\"outlinewidth\":0,\"ticks\":\"\"},\"colorscale\":[[0.0,\"#0d0887\"],[0.1111111111111111,\"#46039f\"],[0.2222222222222222,\"#7201a8\"],[0.3333333333333333,\"#9c179e\"],[0.4444444444444444,\"#bd3786\"],[0.5555555555555556,\"#d8576b\"],[0.6666666666666666,\"#ed7953\"],[0.7777777777777778,\"#fb9f3a\"],[0.8888888888888888,\"#fdca26\"],[1.0,\"#f0f921\"]]}],\"contourcarpet\":[{\"type\":\"contourcarpet\",\"colorbar\":{\"outlinewidth\":0,\"ticks\":\"\"}}],\"contour\":[{\"type\":\"contour\",\"colorbar\":{\"outlinewidth\":0,\"ticks\":\"\"},\"colorscale\":[[0.0,\"#0d0887\"],[0.1111111111111111,\"#46039f\"],[0.2222222222222222,\"#7201a8\"],[0.3333333333333333,\"#9c179e\"],[0.4444444444444444,\"#bd3786\"],[0.5555555555555556,\"#d8576b\"],[0.6666666666666666,\"#ed7953\"],[0.7777777777777778,\"#fb9f3a\"],[0.8888888888888888,\"#fdca26\"],[1.0,\"#f0f921\"]]}],\"surface\":[{\"type\":\"surface\",\"colorbar\":{\"outlinewidth\":0,\"ticks\":\"\"},\"colorscale\":[[0.0,\"#0d0887\"],[0.1111111111111111,\"#46039f\"],[0.2222222222222222,\"#7201a8\"],[0.3333333333333333,\"#9c179e\"],[0.4444444444444444,\"#bd3786\"],[0.5555555555555556,\"#d8576b\"],[0.6666666666666666,\"#ed7953\"],[0.7777777777777778,\"#fb9f3a\"],[0.8888888888888888,\"#fdca26\"],[1.0,\"#f0f921\"]]}],\"mesh3d\":[{\"type\":\"mesh3d\",\"colorbar\":{\"outlinewidth\":0,\"ticks\":\"\"}}],\"scatter\":[{\"fillpattern\":{\"fillmode\":\"overlay\",\"size\":10,\"solidity\":0.2},\"type\":\"scatter\"}],\"parcoords\":[{\"type\":\"parcoords\",\"line\":{\"colorbar\":{\"outlinewidth\":0,\"ticks\":\"\"}}}],\"scatterpolargl\":[{\"type\":\"scatterpolargl\",\"marker\":{\"colorbar\":{\"outlinewidth\":0,\"ticks\":\"\"}}}],\"bar\":[{\"error_x\":{\"color\":\"#2a3f5f\"},\"error_y\":{\"color\":\"#2a3f5f\"},\"marker\":{\"line\":{\"color\":\"#E5ECF6\",\"width\":0.5},\"pattern\":{\"fillmode\":\"overlay\",\"size\":10,\"solidity\":0.2}},\"type\":\"bar\"}],\"scattergeo\":[{\"type\":\"scattergeo\",\"marker\":{\"colorbar\":{\"outlinewidth\":0,\"ticks\":\"\"}}}],\"scatterpolar\":[{\"type\":\"scatterpolar\",\"marker\":{\"colorbar\":{\"outlinewidth\":0,\"ticks\":\"\"}}}],\"histogram\":[{\"marker\":{\"pattern\":{\"fillmode\":\"overlay\",\"size\":10,\"solidity\":0.2}},\"type\":\"histogram\"}],\"scattergl\":[{\"type\":\"scattergl\",\"marker\":{\"colorbar\":{\"outlinewidth\":0,\"ticks\":\"\"}}}],\"scatter3d\":[{\"type\":\"scatter3d\",\"line\":{\"colorbar\":{\"outlinewidth\":0,\"ticks\":\"\"}},\"marker\":{\"colorbar\":{\"outlinewidth\":0,\"ticks\":\"\"}}}],\"scattermapbox\":[{\"type\":\"scattermapbox\",\"marker\":{\"colorbar\":{\"outlinewidth\":0,\"ticks\":\"\"}}}],\"scatterternary\":[{\"type\":\"scatterternary\",\"marker\":{\"colorbar\":{\"outlinewidth\":0,\"ticks\":\"\"}}}],\"scattercarpet\":[{\"type\":\"scattercarpet\",\"marker\":{\"colorbar\":{\"outlinewidth\":0,\"ticks\":\"\"}}}],\"carpet\":[{\"aaxis\":{\"endlinecolor\":\"#2a3f5f\",\"gridcolor\":\"white\",\"linecolor\":\"white\",\"minorgridcolor\":\"white\",\"startlinecolor\":\"#2a3f5f\"},\"baxis\":{\"endlinecolor\":\"#2a3f5f\",\"gridcolor\":\"white\",\"linecolor\":\"white\",\"minorgridcolor\":\"white\",\"startlinecolor\":\"#2a3f5f\"},\"type\":\"carpet\"}],\"table\":[{\"cells\":{\"fill\":{\"color\":\"#EBF0F8\"},\"line\":{\"color\":\"white\"}},\"header\":{\"fill\":{\"color\":\"#C8D4E3\"},\"line\":{\"color\":\"white\"}},\"type\":\"table\"}],\"barpolar\":[{\"marker\":{\"line\":{\"color\":\"#E5ECF6\",\"width\":0.5},\"pattern\":{\"fillmode\":\"overlay\",\"size\":10,\"solidity\":0.2}},\"type\":\"barpolar\"}],\"pie\":[{\"automargin\":true,\"type\":\"pie\"}]},\"layout\":{\"autotypenumbers\":\"strict\",\"colorway\":[\"#636efa\",\"#EF553B\",\"#00cc96\",\"#ab63fa\",\"#FFA15A\",\"#19d3f3\",\"#FF6692\",\"#B6E880\",\"#FF97FF\",\"#FECB52\"],\"font\":{\"color\":\"#2a3f5f\"},\"hovermode\":\"closest\",\"hoverlabel\":{\"align\":\"left\"},\"paper_bgcolor\":\"white\",\"plot_bgcolor\":\"#E5ECF6\",\"polar\":{\"bgcolor\":\"#E5ECF6\",\"angularaxis\":{\"gridcolor\":\"white\",\"linecolor\":\"white\",\"ticks\":\"\"},\"radialaxis\":{\"gridcolor\":\"white\",\"linecolor\":\"white\",\"ticks\":\"\"}},\"ternary\":{\"bgcolor\":\"#E5ECF6\",\"aaxis\":{\"gridcolor\":\"white\",\"linecolor\":\"white\",\"ticks\":\"\"},\"baxis\":{\"gridcolor\":\"white\",\"linecolor\":\"white\",\"ticks\":\"\"},\"caxis\":{\"gridcolor\":\"white\",\"linecolor\":\"white\",\"ticks\":\"\"}},\"coloraxis\":{\"colorbar\":{\"outlinewidth\":0,\"ticks\":\"\"}},\"colorscale\":{\"sequential\":[[0.0,\"#0d0887\"],[0.1111111111111111,\"#46039f\"],[0.2222222222222222,\"#7201a8\"],[0.3333333333333333,\"#9c179e\"],[0.4444444444444444,\"#bd3786\"],[0.5555555555555556,\"#d8576b\"],[0.6666666666666666,\"#ed7953\"],[0.7777777777777778,\"#fb9f3a\"],[0.8888888888888888,\"#fdca26\"],[1.0,\"#f0f921\"]],\"sequentialminus\":[[0.0,\"#0d0887\"],[0.1111111111111111,\"#46039f\"],[0.2222222222222222,\"#7201a8\"],[0.3333333333333333,\"#9c179e\"],[0.4444444444444444,\"#bd3786\"],[0.5555555555555556,\"#d8576b\"],[0.6666666666666666,\"#ed7953\"],[0.7777777777777778,\"#fb9f3a\"],[0.8888888888888888,\"#fdca26\"],[1.0,\"#f0f921\"]],\"diverging\":[[0,\"#8e0152\"],[0.1,\"#c51b7d\"],[0.2,\"#de77ae\"],[0.3,\"#f1b6da\"],[0.4,\"#fde0ef\"],[0.5,\"#f7f7f7\"],[0.6,\"#e6f5d0\"],[0.7,\"#b8e186\"],[0.8,\"#7fbc41\"],[0.9,\"#4d9221\"],[1,\"#276419\"]]},\"xaxis\":{\"gridcolor\":\"white\",\"linecolor\":\"white\",\"ticks\":\"\",\"title\":{\"standoff\":15},\"zerolinecolor\":\"white\",\"automargin\":true,\"zerolinewidth\":2},\"yaxis\":{\"gridcolor\":\"white\",\"linecolor\":\"white\",\"ticks\":\"\",\"title\":{\"standoff\":15},\"zerolinecolor\":\"white\",\"automargin\":true,\"zerolinewidth\":2},\"scene\":{\"xaxis\":{\"backgroundcolor\":\"#E5ECF6\",\"gridcolor\":\"white\",\"linecolor\":\"white\",\"showbackground\":true,\"ticks\":\"\",\"zerolinecolor\":\"white\",\"gridwidth\":2},\"yaxis\":{\"backgroundcolor\":\"#E5ECF6\",\"gridcolor\":\"white\",\"linecolor\":\"white\",\"showbackground\":true,\"ticks\":\"\",\"zerolinecolor\":\"white\",\"gridwidth\":2},\"zaxis\":{\"backgroundcolor\":\"#E5ECF6\",\"gridcolor\":\"white\",\"linecolor\":\"white\",\"showbackground\":true,\"ticks\":\"\",\"zerolinecolor\":\"white\",\"gridwidth\":2}},\"shapedefaults\":{\"line\":{\"color\":\"#2a3f5f\"}},\"annotationdefaults\":{\"arrowcolor\":\"#2a3f5f\",\"arrowhead\":0,\"arrowwidth\":1},\"geo\":{\"bgcolor\":\"white\",\"landcolor\":\"#E5ECF6\",\"subunitcolor\":\"white\",\"showland\":true,\"showlakes\":true,\"lakecolor\":\"white\"},\"title\":{\"x\":0.05},\"mapbox\":{\"style\":\"light\"}}},\"xaxis\":{\"anchor\":\"y\",\"domain\":[0.0,1.0],\"title\":{\"text\":\"Age\"}},\"yaxis\":{\"anchor\":\"x\",\"domain\":[0.0,1.0],\"title\":{\"text\":\"count\"}},\"legend\":{\"tracegroupgap\":0},\"title\":{\"text\":\"Age Distribution\"},\"barmode\":\"relative\"},                        {\"responsive\": true}                    ).then(function(){\n",
              "                            \n",
              "var gd = document.getElementById('9035dc37-13a7-422b-8fbc-857b73291358');\n",
              "var x = new MutationObserver(function (mutations, observer) {{\n",
              "        var display = window.getComputedStyle(gd).display;\n",
              "        if (!display || display === 'none') {{\n",
              "            console.log([gd, 'removed!']);\n",
              "            Plotly.purge(gd);\n",
              "            observer.disconnect();\n",
              "        }}\n",
              "}});\n",
              "\n",
              "// Listen for the removal of the full notebook cells\n",
              "var notebookContainer = gd.closest('#notebook-container');\n",
              "if (notebookContainer) {{\n",
              "    x.observe(notebookContainer, {childList: true});\n",
              "}}\n",
              "\n",
              "// Listen for the clearing of the current output cell\n",
              "var outputEl = gd.closest('.output');\n",
              "if (outputEl) {{\n",
              "    x.observe(outputEl, {childList: true});\n",
              "}}\n",
              "\n",
              "                        })                };                            </script>        </div>\n",
              "</body>\n",
              "</html>"
            ]
          },
          "metadata": {}
        }
      ]
    },
    {
      "cell_type": "markdown",
      "source": [
        "### Gender Distribution"
      ],
      "metadata": {
        "id": "6rRZbMQmFBgj"
      }
    },
    {
      "cell_type": "code",
      "source": [
        "train_df['Gender'].unique()"
      ],
      "metadata": {
        "id": "R1nArqxsFBgj",
        "outputId": "54830184-6f7e-40e6-c17a-a85db1f01fd0",
        "colab": {
          "base_uri": "https://localhost:8080/"
        }
      },
      "execution_count": null,
      "outputs": [
        {
          "output_type": "execute_result",
          "data": {
            "text/plain": [
              "array([nan, 'Female', 'Male', 'Non-binary', '27', '24', '29', '33', '31',\n",
              "       '22', '25', '28', '30', '23', '34', '26', '35', '21', '32'],\n",
              "      dtype=object)"
            ]
          },
          "metadata": {},
          "execution_count": 24
        }
      ]
    },
    {
      "cell_type": "code",
      "source": [
        "# Function to replace numeric values with NaN\n",
        "def clean_gender_column(gender_value):\n",
        "    try:\n",
        "        # Try converting the value to float, if it succeeds it's a numeric value\n",
        "        float(gender_value)\n",
        "        return np.nan\n",
        "    except ValueError:\n",
        "        # If conversion fails, it's a valid gender entry\n",
        "        return gender_value\n",
        "\n",
        "# Apply the function to the Gender column\n",
        "train_df['Gender'] = train_df['Gender'].apply(clean_gender_column)\n",
        "\n",
        "# Fill NaN values with a placeholder or drop them\n",
        "# Here we fill NaN values with 'Unknown'\n",
        "train_df['Gender'].fillna('Unknown', inplace=True)\n",
        "\n",
        "# Verify the unique values after cleaning\n",
        "print(train_df['Gender'].unique())\n"
      ],
      "metadata": {
        "id": "wCYbR4nFFBgj",
        "outputId": "4138c27a-ce2f-4ed7-c69f-e7a059da7abd",
        "colab": {
          "base_uri": "https://localhost:8080/"
        }
      },
      "execution_count": null,
      "outputs": [
        {
          "output_type": "stream",
          "name": "stdout",
          "text": [
            "['Unknown' 'Female' 'Male' 'Non-binary']\n"
          ]
        }
      ]
    },
    {
      "cell_type": "code",
      "source": [
        "train_df['Gender'].unique()"
      ],
      "metadata": {
        "id": "lXdvUVDqFBgj",
        "outputId": "f2ca1e3a-d7b8-4699-84c8-5d5dc9f02e42",
        "colab": {
          "base_uri": "https://localhost:8080/"
        }
      },
      "execution_count": null,
      "outputs": [
        {
          "output_type": "execute_result",
          "data": {
            "text/plain": [
              "array(['Unknown', 'Female', 'Male', 'Non-binary'], dtype=object)"
            ]
          },
          "metadata": {},
          "execution_count": 26
        }
      ]
    },
    {
      "cell_type": "code",
      "source": [
        "train_df['Gender'].value_counts()"
      ],
      "metadata": {
        "id": "L22dM1_qFBgj",
        "outputId": "5e98710b-c2af-4ed2-82ce-68c6cff8a3ef",
        "colab": {
          "base_uri": "https://localhost:8080/",
          "height": 241
        }
      },
      "execution_count": null,
      "outputs": [
        {
          "output_type": "execute_result",
          "data": {
            "text/plain": [
              "Gender\n",
              "Unknown       1080\n",
              "Female         344\n",
              "Male           332\n",
              "Non-binary     248\n",
              "Name: count, dtype: int64"
            ],
            "text/html": [
              "<div>\n",
              "<style scoped>\n",
              "    .dataframe tbody tr th:only-of-type {\n",
              "        vertical-align: middle;\n",
              "    }\n",
              "\n",
              "    .dataframe tbody tr th {\n",
              "        vertical-align: top;\n",
              "    }\n",
              "\n",
              "    .dataframe thead th {\n",
              "        text-align: right;\n",
              "    }\n",
              "</style>\n",
              "<table border=\"1\" class=\"dataframe\">\n",
              "  <thead>\n",
              "    <tr style=\"text-align: right;\">\n",
              "      <th></th>\n",
              "      <th>count</th>\n",
              "    </tr>\n",
              "    <tr>\n",
              "      <th>Gender</th>\n",
              "      <th></th>\n",
              "    </tr>\n",
              "  </thead>\n",
              "  <tbody>\n",
              "    <tr>\n",
              "      <th>Unknown</th>\n",
              "      <td>1080</td>\n",
              "    </tr>\n",
              "    <tr>\n",
              "      <th>Female</th>\n",
              "      <td>344</td>\n",
              "    </tr>\n",
              "    <tr>\n",
              "      <th>Male</th>\n",
              "      <td>332</td>\n",
              "    </tr>\n",
              "    <tr>\n",
              "      <th>Non-binary</th>\n",
              "      <td>248</td>\n",
              "    </tr>\n",
              "  </tbody>\n",
              "</table>\n",
              "</div><br><label><b>dtype:</b> int64</label>"
            ]
          },
          "metadata": {},
          "execution_count": 27
        }
      ]
    },
    {
      "cell_type": "code",
      "source": [
        "plt = px.histogram(train_df, x='Gender', title='Gender Distribution')\n",
        "plt.show()"
      ],
      "metadata": {
        "id": "j3cAIIMvFBgm",
        "outputId": "443ebb26-bf3e-49bf-fb79-644f6788800b",
        "colab": {
          "base_uri": "https://localhost:8080/",
          "height": 542
        }
      },
      "execution_count": null,
      "outputs": [
        {
          "output_type": "display_data",
          "data": {
            "text/html": [
              "<html>\n",
              "<head><meta charset=\"utf-8\" /></head>\n",
              "<body>\n",
              "    <div>            <script src=\"https://cdnjs.cloudflare.com/ajax/libs/mathjax/2.7.5/MathJax.js?config=TeX-AMS-MML_SVG\"></script><script type=\"text/javascript\">if (window.MathJax && window.MathJax.Hub && window.MathJax.Hub.Config) {window.MathJax.Hub.Config({SVG: {font: \"STIX-Web\"}});}</script>                <script type=\"text/javascript\">window.PlotlyConfig = {MathJaxConfig: 'local'};</script>\n",
              "        <script charset=\"utf-8\" src=\"https://cdn.plot.ly/plotly-2.35.2.min.js\"></script>                <div id=\"32907597-4cdb-49fa-80cf-3b56ec0c029e\" class=\"plotly-graph-div\" style=\"height:525px; width:100%;\"></div>            <script type=\"text/javascript\">                                    window.PLOTLYENV=window.PLOTLYENV || {};                                    if (document.getElementById(\"32907597-4cdb-49fa-80cf-3b56ec0c029e\")) {                    Plotly.newPlot(                        \"32907597-4cdb-49fa-80cf-3b56ec0c029e\",                        [{\"alignmentgroup\":\"True\",\"bingroup\":\"x\",\"hovertemplate\":\"Gender=%{x}\\u003cbr\\u003ecount=%{y}\\u003cextra\\u003e\\u003c\\u002fextra\\u003e\",\"legendgroup\":\"\",\"marker\":{\"color\":\"#636efa\",\"pattern\":{\"shape\":\"\"}},\"name\":\"\",\"offsetgroup\":\"\",\"orientation\":\"v\",\"showlegend\":false,\"x\":[\"Unknown\",\"Female\",\"Unknown\",\"Male\",\"Unknown\",\"Non-binary\",\"Unknown\",\"Female\",\"Unknown\",\"Male\",\"Unknown\",\"Male\",\"Unknown\",\"Female\",\"Unknown\",\"Non-binary\",\"Unknown\",\"Female\",\"Unknown\",\"Male\",\"Unknown\",\"Female\",\"Unknown\",\"Non-binary\",\"Unknown\",\"Male\",\"Unknown\",\"Female\",\"Unknown\",\"Male\",\"Unknown\",\"Non-binary\",\"Unknown\",\"Female\",\"Unknown\",\"Male\",\"Unknown\",\"Non-binary\",\"Unknown\",\"Female\",\"Unknown\",\"Male\",\"Unknown\",\"Female\",\"Unknown\",\"Male\",\"Unknown\",\"Non-binary\",\"Unknown\",\"Female\",\"Unknown\",\"Male\",\"Unknown\",\"Non-binary\",\"Unknown\",\"Female\",\"Unknown\",\"Male\",\"Unknown\",\"Non-binary\",\"Unknown\",\"Female\",\"Unknown\",\"Male\",\"Unknown\",\"Non-binary\",\"Unknown\",\"Female\",\"Unknown\",\"Male\",\"Unknown\",\"Non-binary\",\"Unknown\",\"Female\",\"Unknown\",\"Male\",\"Unknown\",\"Female\",\"Unknown\",\"Non-binary\",\"Unknown\",\"Male\",\"Unknown\",\"Female\",\"Unknown\",\"Male\",\"Unknown\",\"Non-binary\",\"Unknown\",\"Female\",\"Unknown\",\"Male\",\"Unknown\",\"Female\",\"Unknown\",\"Non-binary\",\"Unknown\",\"Male\",\"Unknown\",\"Female\",\"Unknown\",\"Male\",\"Unknown\",\"Female\",\"Unknown\",\"Non-binary\",\"Unknown\",\"Female\",\"Unknown\",\"Male\",\"Unknown\",\"Female\",\"Unknown\",\"Male\",\"Unknown\",\"Non-binary\",\"Unknown\",\"Female\",\"Unknown\",\"Male\",\"Unknown\",\"Female\",\"Unknown\",\"Male\",\"Unknown\",\"Non-binary\",\"Unknown\",\"Female\",\"Unknown\",\"Male\",\"Unknown\",\"Non-binary\",\"Unknown\",\"Male\",\"Unknown\",\"Female\",\"Unknown\",\"Male\",\"Unknown\",\"Non-binary\",\"Unknown\",\"Female\",\"Unknown\",\"Male\",\"Unknown\",\"Non-binary\",\"Unknown\",\"Female\",\"Unknown\",\"Male\",\"Unknown\",\"Non-binary\",\"Unknown\",\"Female\",\"Unknown\",\"Male\",\"Unknown\",\"Non-binary\",\"Unknown\",\"Female\",\"Unknown\",\"Male\",\"Unknown\",\"Non-binary\",\"Unknown\",\"Female\",\"Unknown\",\"Male\",\"Unknown\",\"Non-binary\",\"Unknown\",\"Female\",\"Unknown\",\"Male\",\"Unknown\",\"Non-binary\",\"Unknown\",\"Female\",\"Unknown\",\"Male\",\"Unknown\",\"Non-binary\",\"Unknown\",\"Female\",\"Unknown\",\"Male\",\"Unknown\",\"Female\",\"Unknown\",\"Male\",\"Unknown\",\"Non-binary\",\"Unknown\",\"Female\",\"Unknown\",\"Male\",\"Unknown\",\"Non-binary\",\"Unknown\",\"Female\",\"Unknown\",\"Female\",\"Unknown\",\"Male\",\"Unknown\",\"Non-binary\",\"Unknown\",\"Female\",\"Unknown\",\"Male\",\"Unknown\",\"Male\",\"Unknown\",\"Female\",\"Unknown\",\"Non-binary\",\"Unknown\",\"Female\",\"Unknown\",\"Male\",\"Unknown\",\"Female\",\"Unknown\",\"Non-binary\",\"Unknown\",\"Male\",\"Unknown\",\"Female\",\"Unknown\",\"Male\",\"Unknown\",\"Non-binary\",\"Unknown\",\"Female\",\"Unknown\",\"Male\",\"Unknown\",\"Non-binary\",\"Unknown\",\"Female\",\"Unknown\",\"Male\",\"Unknown\",\"Female\",\"Unknown\",\"Male\",\"Unknown\",\"Non-binary\",\"Unknown\",\"Female\",\"Unknown\",\"Male\",\"Unknown\",\"Non-binary\",\"Unknown\",\"Female\",\"Unknown\",\"Male\",\"Unknown\",\"Non-binary\",\"Unknown\",\"Female\",\"Unknown\",\"Male\",\"Unknown\",\"Non-binary\",\"Unknown\",\"Female\",\"Unknown\",\"Male\",\"Unknown\",\"Non-binary\",\"Unknown\",\"Female\",\"Unknown\",\"Male\",\"Unknown\",\"Female\",\"Unknown\",\"Non-binary\",\"Unknown\",\"Male\",\"Unknown\",\"Female\",\"Unknown\",\"Male\",\"Unknown\",\"Non-binary\",\"Unknown\",\"Female\",\"Unknown\",\"Male\",\"Unknown\",\"Female\",\"Unknown\",\"Non-binary\",\"Unknown\",\"Male\",\"Unknown\",\"Female\",\"Unknown\",\"Male\",\"Unknown\",\"Female\",\"Unknown\",\"Non-binary\",\"Unknown\",\"Female\",\"Unknown\",\"Male\",\"Unknown\",\"Female\",\"Unknown\",\"Male\",\"Unknown\",\"Non-binary\",\"Unknown\",\"Female\",\"Unknown\",\"Male\",\"Unknown\",\"Female\",\"Unknown\",\"Male\",\"Unknown\",\"Non-binary\",\"Unknown\",\"Female\",\"Unknown\",\"Male\",\"Unknown\",\"Non-binary\",\"Unknown\",\"Male\",\"Unknown\",\"Female\",\"Unknown\",\"Male\",\"Unknown\",\"Non-binary\",\"Unknown\",\"Female\",\"Unknown\",\"Male\",\"Unknown\",\"Non-binary\",\"Unknown\",\"Female\",\"Unknown\",\"Male\",\"Unknown\",\"Non-binary\",\"Unknown\",\"Female\",\"Unknown\",\"Male\",\"Unknown\",\"Non-binary\",\"Unknown\",\"Female\",\"Unknown\",\"Male\",\"Unknown\",\"Non-binary\",\"Unknown\",\"Female\",\"Unknown\",\"Male\",\"Unknown\",\"Non-binary\",\"Unknown\",\"Female\",\"Unknown\",\"Male\",\"Unknown\",\"Non-binary\",\"Unknown\",\"Female\",\"Unknown\",\"Male\",\"Unknown\",\"Non-binary\",\"Unknown\",\"Female\",\"Unknown\",\"Male\",\"Unknown\",\"Female\",\"Unknown\",\"Male\",\"Unknown\",\"Non-binary\",\"Unknown\",\"Female\",\"Unknown\",\"Male\",\"Unknown\",\"Non-binary\",\"Unknown\",\"Female\",\"Unknown\",\"Female\",\"Unknown\",\"Male\",\"Unknown\",\"Non-binary\",\"Unknown\",\"Female\",\"Unknown\",\"Male\",\"Unknown\",\"Male\",\"Unknown\",\"Female\",\"Unknown\",\"Non-binary\",\"Unknown\",\"Female\",\"Unknown\",\"Male\",\"Unknown\",\"Female\",\"Unknown\",\"Non-binary\",\"Unknown\",\"Male\",\"Unknown\",\"Female\",\"Unknown\",\"Male\",\"Unknown\",\"Non-binary\",\"Unknown\",\"Female\",\"Unknown\",\"Male\",\"Unknown\",\"Non-binary\",\"Unknown\",\"Female\",\"Unknown\",\"Male\",\"Unknown\",\"Female\",\"Unknown\",\"Male\",\"Unknown\",\"Non-binary\",\"Unknown\",\"Female\",\"Unknown\",\"Male\",\"Unknown\",\"Non-binary\",\"Unknown\",\"Female\",\"Unknown\",\"Male\",\"Unknown\",\"Non-binary\",\"Unknown\",\"Female\",\"Unknown\",\"Male\",\"Unknown\",\"Non-binary\",\"Unknown\",\"Female\",\"Unknown\",\"Male\",\"Unknown\",\"Non-binary\",\"Unknown\",\"Female\",\"Unknown\",\"Male\",\"Unknown\",\"Female\",\"Unknown\",\"Non-binary\",\"Unknown\",\"Male\",\"Unknown\",\"Female\",\"Unknown\",\"Male\",\"Unknown\",\"Non-binary\",\"Unknown\",\"Female\",\"Unknown\",\"Male\",\"Unknown\",\"Female\",\"Unknown\",\"Non-binary\",\"Unknown\",\"Male\",\"Unknown\",\"Female\",\"Unknown\",\"Unknown\",\"Unknown\",\"Unknown\",\"Unknown\",\"Unknown\",\"Unknown\",\"Unknown\",\"Unknown\",\"Unknown\",\"Unknown\",\"Unknown\",\"Unknown\",\"Unknown\",\"Unknown\",\"Unknown\",\"Unknown\",\"Unknown\",\"Unknown\",\"Unknown\",\"Unknown\",\"Unknown\",\"Unknown\",\"Unknown\",\"Unknown\",\"Unknown\",\"Unknown\",\"Unknown\",\"Unknown\",\"Unknown\",\"Unknown\",\"Unknown\",\"Unknown\",\"Unknown\",\"Unknown\",\"Unknown\",\"Unknown\",\"Unknown\",\"Unknown\",\"Unknown\",\"Unknown\",\"Unknown\",\"Unknown\",\"Unknown\",\"Unknown\",\"Unknown\",\"Unknown\",\"Unknown\",\"Unknown\",\"Unknown\",\"Unknown\",\"Unknown\",\"Unknown\",\"Unknown\",\"Unknown\",\"Unknown\",\"Unknown\",\"Unknown\",\"Unknown\",\"Unknown\",\"Unknown\",\"Unknown\",\"Unknown\",\"Unknown\",\"Unknown\",\"Unknown\",\"Unknown\",\"Unknown\",\"Unknown\",\"Unknown\",\"Unknown\",\"Unknown\",\"Unknown\",\"Unknown\",\"Unknown\",\"Unknown\",\"Unknown\",\"Female\",\"Unknown\",\"Male\",\"Unknown\",\"Non-binary\",\"Unknown\",\"Female\",\"Unknown\",\"Male\",\"Unknown\",\"Female\",\"Unknown\",\"Male\",\"Unknown\",\"Non-binary\",\"Unknown\",\"Female\",\"Unknown\",\"Male\",\"Unknown\",\"Non-binary\",\"Unknown\",\"Female\",\"Unknown\",\"Female\",\"Unknown\",\"Male\",\"Unknown\",\"Non-binary\",\"Unknown\",\"Female\",\"Unknown\",\"Male\",\"Unknown\",\"Male\",\"Unknown\",\"Female\",\"Unknown\",\"Non-binary\",\"Unknown\",\"Female\",\"Unknown\",\"Male\",\"Unknown\",\"Female\",\"Unknown\",\"Non-binary\",\"Unknown\",\"Male\",\"Unknown\",\"Female\",\"Unknown\",\"Male\",\"Unknown\",\"Non-binary\",\"Unknown\",\"Female\",\"Unknown\",\"Male\",\"Unknown\",\"Non-binary\",\"Unknown\",\"Female\",\"Unknown\",\"Male\",\"Unknown\",\"Female\",\"Unknown\",\"Male\",\"Unknown\",\"Non-binary\",\"Unknown\",\"Female\",\"Unknown\",\"Male\",\"Unknown\",\"Non-binary\",\"Unknown\",\"Female\",\"Unknown\",\"Male\",\"Unknown\",\"Non-binary\",\"Unknown\",\"Female\",\"Unknown\",\"Male\",\"Unknown\",\"Non-binary\",\"Unknown\",\"Female\",\"Unknown\",\"Male\",\"Unknown\",\"Non-binary\",\"Unknown\",\"Female\",\"Unknown\",\"Male\",\"Unknown\",\"Female\",\"Unknown\",\"Non-binary\",\"Unknown\",\"Male\",\"Unknown\",\"Female\",\"Unknown\",\"Male\",\"Unknown\",\"Non-binary\",\"Unknown\",\"Female\",\"Unknown\",\"Male\",\"Unknown\",\"Female\",\"Unknown\",\"Non-binary\",\"Unknown\",\"Male\",\"Unknown\",\"Female\",\"Unknown\",\"Male\",\"Unknown\",\"Female\",\"Unknown\",\"Non-binary\",\"Unknown\",\"Female\",\"Unknown\",\"Male\",\"Unknown\",\"Female\",\"Unknown\",\"Male\",\"Unknown\",\"Non-binary\",\"Unknown\",\"Female\",\"Unknown\",\"Male\",\"Unknown\",\"Female\",\"Unknown\",\"Male\",\"Unknown\",\"Non-binary\",\"Unknown\",\"Female\",\"Unknown\",\"Male\",\"Unknown\",\"Non-binary\",\"Unknown\",\"Male\",\"Unknown\",\"Female\",\"Unknown\",\"Male\",\"Unknown\",\"Non-binary\",\"Unknown\",\"Female\",\"Unknown\",\"Male\",\"Unknown\",\"Non-binary\",\"Unknown\",\"Female\",\"Unknown\",\"Male\",\"Unknown\",\"Non-binary\",\"Unknown\",\"Female\",\"Unknown\",\"Male\",\"Unknown\",\"Non-binary\",\"Unknown\",\"Female\",\"Unknown\",\"Male\",\"Unknown\",\"Non-binary\",\"Unknown\",\"Female\",\"Unknown\",\"Male\",\"Unknown\",\"Non-binary\",\"Unknown\",\"Female\",\"Unknown\",\"Male\",\"Unknown\",\"Non-binary\",\"Unknown\",\"Female\",\"Unknown\",\"Male\",\"Unknown\",\"Non-binary\",\"Unknown\",\"Female\",\"Unknown\",\"Male\",\"Unknown\",\"Female\",\"Unknown\",\"Male\",\"Unknown\",\"Non-binary\",\"Unknown\",\"Female\",\"Unknown\",\"Male\",\"Unknown\",\"Non-binary\",\"Unknown\",\"Female\",\"Unknown\",\"Female\",\"Unknown\",\"Male\",\"Unknown\",\"Non-binary\",\"Unknown\",\"Female\",\"Unknown\",\"Male\",\"Unknown\",\"Male\",\"Unknown\",\"Female\",\"Unknown\",\"Non-binary\",\"Unknown\",\"Female\",\"Unknown\",\"Male\",\"Unknown\",\"Female\",\"Unknown\",\"Non-binary\",\"Unknown\",\"Male\",\"Unknown\",\"Female\",\"Unknown\",\"Male\",\"Unknown\",\"Non-binary\",\"Unknown\",\"Female\",\"Unknown\",\"Male\",\"Unknown\",\"Non-binary\",\"Unknown\",\"Female\",\"Unknown\",\"Male\",\"Unknown\",\"Female\",\"Unknown\",\"Male\",\"Unknown\",\"Non-binary\",\"Unknown\",\"Female\",\"Unknown\",\"Male\",\"Unknown\",\"Non-binary\",\"Unknown\",\"Female\",\"Unknown\",\"Male\",\"Unknown\",\"Non-binary\",\"Unknown\",\"Female\",\"Unknown\",\"Male\",\"Unknown\",\"Non-binary\",\"Unknown\",\"Female\",\"Unknown\",\"Male\",\"Unknown\",\"Non-binary\",\"Unknown\",\"Female\",\"Unknown\",\"Male\",\"Unknown\",\"Female\",\"Unknown\",\"Non-binary\",\"Unknown\",\"Male\",\"Unknown\",\"Female\",\"Unknown\",\"Male\",\"Unknown\",\"Non-binary\",\"Unknown\",\"Female\",\"Unknown\",\"Male\",\"Unknown\",\"Female\",\"Unknown\",\"Non-binary\",\"Unknown\",\"Male\",\"Unknown\",\"Female\",\"Unknown\",\"Male\",\"Unknown\",\"Female\",\"Unknown\",\"Non-binary\",\"Unknown\",\"Female\",\"Unknown\",\"Male\",\"Unknown\",\"Female\",\"Unknown\",\"Male\",\"Unknown\",\"Non-binary\",\"Unknown\",\"Female\",\"Unknown\",\"Male\",\"Unknown\",\"Female\",\"Unknown\",\"Male\",\"Unknown\",\"Non-binary\",\"Unknown\",\"Female\",\"Unknown\",\"Male\",\"Unknown\",\"Non-binary\",\"Unknown\",\"Male\",\"Unknown\",\"Female\",\"Unknown\",\"Male\",\"Unknown\",\"Non-binary\",\"Unknown\",\"Female\",\"Unknown\",\"Male\",\"Unknown\",\"Non-binary\",\"Unknown\",\"Female\",\"Unknown\",\"Male\",\"Unknown\",\"Non-binary\",\"Unknown\",\"Female\",\"Unknown\",\"Male\",\"Unknown\",\"Non-binary\",\"Unknown\",\"Female\",\"Unknown\",\"Male\",\"Unknown\",\"Non-binary\",\"Unknown\",\"Female\",\"Unknown\",\"Male\",\"Unknown\",\"Non-binary\",\"Unknown\",\"Female\",\"Unknown\",\"Male\",\"Unknown\",\"Non-binary\",\"Unknown\",\"Female\",\"Unknown\",\"Male\",\"Unknown\",\"Non-binary\",\"Unknown\",\"Female\",\"Unknown\",\"Male\",\"Unknown\",\"Female\",\"Unknown\",\"Male\",\"Unknown\",\"Non-binary\",\"Unknown\",\"Female\",\"Unknown\",\"Male\",\"Unknown\",\"Non-binary\",\"Unknown\",\"Female\",\"Unknown\",\"Female\",\"Unknown\",\"Male\",\"Unknown\",\"Non-binary\",\"Unknown\",\"Female\",\"Unknown\",\"Male\",\"Unknown\",\"Male\",\"Unknown\",\"Female\",\"Unknown\",\"Non-binary\",\"Unknown\",\"Female\",\"Unknown\",\"Male\",\"Unknown\",\"Female\",\"Unknown\",\"Non-binary\",\"Unknown\",\"Male\",\"Unknown\",\"Female\",\"Unknown\",\"Male\",\"Unknown\",\"Non-binary\",\"Unknown\",\"Female\",\"Unknown\",\"Male\",\"Unknown\",\"Non-binary\",\"Unknown\",\"Female\",\"Unknown\",\"Male\",\"Unknown\",\"Female\",\"Unknown\",\"Male\",\"Unknown\",\"Non-binary\",\"Unknown\",\"Female\",\"Unknown\",\"Male\",\"Unknown\",\"Non-binary\",\"Unknown\",\"Female\",\"Unknown\",\"Male\",\"Unknown\",\"Non-binary\",\"Unknown\",\"Female\",\"Unknown\",\"Male\",\"Unknown\",\"Non-binary\",\"Unknown\",\"Female\",\"Unknown\",\"Male\",\"Unknown\",\"Non-binary\",\"Unknown\",\"Female\",\"Unknown\",\"Male\",\"Unknown\",\"Female\",\"Unknown\",\"Non-binary\",\"Unknown\",\"Male\",\"Unknown\",\"Female\",\"Unknown\",\"Male\",\"Unknown\",\"Non-binary\",\"Unknown\",\"Female\",\"Unknown\",\"Male\",\"Unknown\",\"Female\",\"Unknown\",\"Non-binary\",\"Unknown\",\"Male\",\"Unknown\",\"Female\",\"Unknown\",\"Male\",\"Unknown\",\"Female\",\"Unknown\",\"Non-binary\",\"Unknown\",\"Female\",\"Unknown\",\"Male\",\"Unknown\",\"Female\",\"Unknown\",\"Male\",\"Unknown\",\"Non-binary\",\"Unknown\",\"Female\",\"Unknown\",\"Male\",\"Unknown\",\"Female\",\"Unknown\",\"Male\",\"Unknown\",\"Non-binary\",\"Unknown\",\"Female\",\"Unknown\",\"Male\",\"Unknown\",\"Non-binary\",\"Unknown\",\"Male\",\"Unknown\",\"Female\",\"Unknown\",\"Male\",\"Unknown\",\"Non-binary\",\"Unknown\",\"Female\",\"Unknown\",\"Male\",\"Unknown\",\"Non-binary\",\"Unknown\",\"Female\",\"Unknown\",\"Male\",\"Unknown\",\"Non-binary\",\"Unknown\",\"Female\",\"Unknown\",\"Male\",\"Unknown\",\"Non-binary\",\"Unknown\",\"Female\",\"Unknown\",\"Male\",\"Unknown\",\"Non-binary\",\"Unknown\",\"Female\",\"Unknown\",\"Male\",\"Unknown\",\"Non-binary\",\"Unknown\",\"Female\",\"Unknown\",\"Male\",\"Unknown\",\"Non-binary\",\"Unknown\",\"Female\",\"Unknown\",\"Male\",\"Unknown\",\"Non-binary\",\"Unknown\",\"Female\",\"Unknown\",\"Male\",\"Unknown\",\"Female\",\"Unknown\",\"Male\",\"Unknown\",\"Non-binary\",\"Unknown\",\"Female\",\"Unknown\",\"Male\",\"Unknown\",\"Non-binary\",\"Unknown\",\"Female\",\"Unknown\",\"Female\",\"Unknown\",\"Male\",\"Unknown\",\"Non-binary\",\"Unknown\",\"Female\",\"Unknown\",\"Male\",\"Unknown\",\"Male\",\"Unknown\",\"Female\",\"Unknown\",\"Non-binary\",\"Unknown\",\"Female\",\"Unknown\",\"Male\",\"Unknown\",\"Female\",\"Unknown\",\"Non-binary\",\"Unknown\",\"Male\",\"Unknown\",\"Female\",\"Unknown\",\"Male\",\"Unknown\",\"Non-binary\",\"Unknown\",\"Female\",\"Unknown\",\"Male\",\"Unknown\",\"Non-binary\",\"Unknown\",\"Female\",\"Unknown\",\"Male\",\"Unknown\",\"Female\",\"Unknown\",\"Male\",\"Unknown\",\"Non-binary\",\"Unknown\",\"Female\",\"Unknown\",\"Male\",\"Unknown\",\"Non-binary\",\"Unknown\",\"Female\",\"Unknown\",\"Male\",\"Unknown\",\"Non-binary\",\"Unknown\",\"Female\",\"Unknown\",\"Male\",\"Unknown\",\"Non-binary\",\"Unknown\",\"Female\",\"Unknown\",\"Male\",\"Unknown\",\"Non-binary\",\"Unknown\",\"Female\",\"Unknown\",\"Male\",\"Unknown\",\"Female\",\"Unknown\",\"Non-binary\",\"Unknown\",\"Male\",\"Unknown\",\"Unknown\",\"Unknown\",\"Unknown\",\"Unknown\",\"Female\",\"Unknown\",\"Male\",\"Unknown\",\"Non-binary\",\"Unknown\",\"Female\",\"Unknown\",\"Male\",\"Unknown\",\"Female\",\"Unknown\",\"Non-binary\",\"Unknown\",\"Male\",\"Unknown\",\"Female\",\"Unknown\",\"Male\",\"Unknown\",\"Female\",\"Unknown\",\"Non-binary\",\"Unknown\",\"Female\",\"Unknown\",\"Male\",\"Unknown\",\"Female\",\"Unknown\",\"Male\",\"Unknown\",\"Non-binary\",\"Unknown\",\"Female\",\"Unknown\",\"Male\",\"Unknown\",\"Female\",\"Unknown\",\"Male\",\"Unknown\",\"Non-binary\",\"Unknown\",\"Female\",\"Unknown\",\"Male\",\"Unknown\",\"Non-binary\",\"Unknown\",\"Male\",\"Unknown\",\"Female\",\"Unknown\",\"Male\",\"Unknown\",\"Non-binary\",\"Unknown\",\"Female\",\"Unknown\",\"Male\",\"Unknown\",\"Non-binary\",\"Unknown\",\"Female\",\"Unknown\",\"Male\",\"Unknown\",\"Non-binary\",\"Unknown\",\"Female\",\"Unknown\",\"Male\",\"Unknown\",\"Non-binary\",\"Unknown\",\"Female\",\"Unknown\",\"Male\",\"Unknown\",\"Non-binary\",\"Unknown\",\"Female\",\"Unknown\",\"Male\",\"Unknown\",\"Non-binary\",\"Unknown\",\"Female\",\"Unknown\",\"Male\",\"Unknown\",\"Non-binary\",\"Unknown\",\"Female\",\"Unknown\",\"Male\",\"Unknown\",\"Non-binary\",\"Unknown\",\"Female\",\"Unknown\",\"Male\",\"Unknown\",\"Female\",\"Unknown\",\"Male\",\"Unknown\",\"Non-binary\",\"Unknown\",\"Female\",\"Unknown\",\"Male\",\"Unknown\",\"Non-binary\",\"Unknown\",\"Female\",\"Unknown\",\"Female\",\"Unknown\",\"Male\",\"Unknown\",\"Non-binary\",\"Unknown\",\"Female\",\"Unknown\",\"Male\",\"Unknown\",\"Male\",\"Unknown\",\"Female\",\"Unknown\",\"Non-binary\",\"Unknown\",\"Female\",\"Unknown\",\"Male\",\"Unknown\",\"Female\",\"Unknown\",\"Non-binary\",\"Unknown\",\"Male\",\"Unknown\",\"Female\",\"Unknown\",\"Male\",\"Unknown\",\"Non-binary\",\"Unknown\",\"Female\",\"Unknown\",\"Male\",\"Unknown\",\"Non-binary\",\"Unknown\",\"Female\",\"Unknown\",\"Male\",\"Unknown\",\"Female\",\"Unknown\",\"Male\",\"Unknown\",\"Non-binary\",\"Unknown\",\"Female\",\"Unknown\",\"Male\",\"Unknown\",\"Non-binary\",\"Unknown\",\"Female\",\"Unknown\",\"Male\",\"Unknown\",\"Non-binary\",\"Unknown\",\"Female\",\"Unknown\",\"Male\",\"Unknown\",\"Non-binary\",\"Unknown\",\"Female\",\"Unknown\",\"Male\",\"Unknown\",\"Non-binary\",\"Unknown\",\"Female\",\"Unknown\",\"Male\",\"Unknown\",\"Female\",\"Unknown\",\"Non-binary\",\"Unknown\",\"Male\",\"Unknown\",\"Female\",\"Unknown\",\"Male\",\"Unknown\",\"Non-binary\",\"Unknown\",\"Female\",\"Unknown\",\"Male\",\"Unknown\",\"Female\",\"Unknown\",\"Non-binary\",\"Unknown\",\"Male\",\"Unknown\",\"Female\",\"Unknown\",\"Unknown\",\"Unknown\",\"Unknown\",\"Unknown\",\"Unknown\",\"Unknown\",\"Unknown\",\"Unknown\",\"Unknown\",\"Unknown\",\"Unknown\",\"Unknown\",\"Unknown\",\"Unknown\",\"Unknown\",\"Unknown\",\"Unknown\",\"Unknown\",\"Unknown\",\"Unknown\",\"Unknown\",\"Unknown\",\"Unknown\",\"Unknown\",\"Unknown\",\"Unknown\",\"Unknown\",\"Unknown\",\"Unknown\",\"Unknown\",\"Unknown\",\"Unknown\",\"Unknown\",\"Unknown\",\"Unknown\",\"Unknown\",\"Unknown\",\"Unknown\",\"Unknown\",\"Unknown\",\"Unknown\",\"Unknown\",\"Unknown\",\"Unknown\",\"Unknown\",\"Unknown\",\"Unknown\",\"Unknown\",\"Unknown\",\"Unknown\",\"Unknown\",\"Unknown\",\"Unknown\",\"Unknown\",\"Unknown\",\"Unknown\",\"Unknown\",\"Unknown\",\"Unknown\",\"Unknown\",\"Unknown\",\"Unknown\",\"Unknown\",\"Unknown\",\"Unknown\",\"Unknown\",\"Unknown\",\"Unknown\",\"Unknown\",\"Unknown\",\"Unknown\",\"Unknown\",\"Unknown\",\"Unknown\",\"Unknown\",\"Unknown\",\"Female\",\"Unknown\",\"Male\",\"Unknown\",\"Non-binary\",\"Unknown\",\"Female\",\"Unknown\",\"Male\",\"Unknown\",\"Female\",\"Unknown\",\"Male\",\"Unknown\",\"Non-binary\",\"Unknown\",\"Female\",\"Unknown\",\"Male\",\"Unknown\",\"Non-binary\",\"Unknown\",\"Female\",\"Unknown\",\"Female\",\"Unknown\",\"Male\",\"Unknown\",\"Non-binary\",\"Unknown\",\"Female\",\"Unknown\",\"Male\",\"Unknown\",\"Male\",\"Unknown\",\"Female\",\"Unknown\",\"Non-binary\",\"Unknown\",\"Female\",\"Unknown\",\"Male\",\"Unknown\",\"Female\",\"Unknown\",\"Non-binary\",\"Unknown\",\"Male\",\"Unknown\",\"Female\",\"Unknown\",\"Male\",\"Unknown\",\"Non-binary\",\"Unknown\",\"Female\",\"Unknown\",\"Male\",\"Unknown\",\"Non-binary\",\"Unknown\",\"Female\",\"Unknown\",\"Male\",\"Unknown\",\"Female\",\"Unknown\",\"Male\",\"Unknown\",\"Non-binary\",\"Unknown\",\"Female\",\"Unknown\",\"Male\",\"Unknown\",\"Non-binary\",\"Unknown\",\"Female\",\"Unknown\",\"Male\",\"Unknown\",\"Non-binary\",\"Unknown\",\"Female\",\"Unknown\",\"Male\",\"Unknown\",\"Non-binary\",\"Unknown\",\"Female\",\"Unknown\",\"Male\",\"Unknown\",\"Non-binary\",\"Unknown\",\"Female\",\"Unknown\",\"Male\",\"Unknown\",\"Female\",\"Unknown\",\"Non-binary\",\"Unknown\",\"Male\",\"Unknown\",\"Female\",\"Unknown\",\"Male\",\"Unknown\",\"Non-binary\",\"Unknown\",\"Female\",\"Unknown\",\"Male\",\"Unknown\",\"Female\",\"Unknown\",\"Non-binary\",\"Unknown\",\"Male\",\"Unknown\",\"Female\",\"Unknown\",\"Male\",\"Unknown\",\"Female\",\"Unknown\",\"Non-binary\",\"Unknown\",\"Female\",\"Unknown\",\"Male\",\"Unknown\",\"Female\",\"Unknown\",\"Male\",\"Unknown\",\"Non-binary\",\"Unknown\",\"Female\",\"Unknown\",\"Male\",\"Unknown\",\"Female\",\"Unknown\",\"Male\",\"Unknown\",\"Non-binary\",\"Unknown\",\"Female\",\"Unknown\",\"Male\",\"Unknown\",\"Non-binary\",\"Unknown\",\"Male\",\"Unknown\",\"Female\",\"Unknown\",\"Male\",\"Unknown\",\"Non-binary\",\"Unknown\",\"Female\",\"Unknown\",\"Male\",\"Unknown\",\"Non-binary\",\"Unknown\",\"Female\",\"Unknown\",\"Male\",\"Unknown\",\"Non-binary\",\"Unknown\",\"Female\",\"Unknown\",\"Male\",\"Unknown\",\"Non-binary\",\"Unknown\",\"Female\",\"Unknown\",\"Male\",\"Unknown\",\"Non-binary\",\"Unknown\",\"Female\",\"Unknown\",\"Male\",\"Unknown\",\"Non-binary\",\"Unknown\",\"Female\",\"Unknown\",\"Male\",\"Unknown\",\"Non-binary\",\"Unknown\",\"Female\",\"Unknown\",\"Male\",\"Unknown\",\"Non-binary\",\"Unknown\",\"Female\",\"Unknown\",\"Male\",\"Unknown\",\"Female\",\"Unknown\",\"Male\",\"Unknown\",\"Non-binary\",\"Unknown\",\"Female\",\"Unknown\",\"Male\",\"Unknown\",\"Non-binary\",\"Unknown\",\"Female\",\"Unknown\",\"Female\",\"Unknown\",\"Male\",\"Unknown\",\"Non-binary\",\"Unknown\",\"Female\",\"Unknown\",\"Male\",\"Unknown\",\"Male\",\"Unknown\",\"Female\",\"Unknown\",\"Non-binary\",\"Unknown\",\"Female\",\"Unknown\",\"Male\",\"Unknown\",\"Female\",\"Unknown\",\"Non-binary\",\"Unknown\",\"Male\",\"Unknown\",\"Female\",\"Unknown\",\"Male\",\"Unknown\",\"Non-binary\",\"Unknown\",\"Female\",\"Unknown\",\"Male\",\"Unknown\",\"Non-binary\",\"Unknown\",\"Female\",\"Unknown\",\"Male\",\"Unknown\",\"Female\",\"Unknown\",\"Male\",\"Unknown\",\"Non-binary\",\"Unknown\",\"Female\",\"Unknown\",\"Male\",\"Unknown\",\"Non-binary\",\"Unknown\",\"Female\",\"Unknown\",\"Male\",\"Unknown\",\"Non-binary\",\"Unknown\",\"Female\",\"Unknown\",\"Male\",\"Unknown\",\"Non-binary\",\"Unknown\",\"Female\",\"Unknown\",\"Male\",\"Unknown\",\"Non-binary\",\"Unknown\",\"Female\",\"Unknown\",\"Male\",\"Unknown\",\"Female\",\"Unknown\",\"Non-binary\",\"Unknown\",\"Male\",\"Unknown\",\"Female\",\"Unknown\",\"Male\",\"Unknown\",\"Non-binary\",\"Unknown\",\"Female\",\"Unknown\",\"Male\",\"Unknown\",\"Female\",\"Unknown\",\"Non-binary\",\"Unknown\",\"Male\",\"Unknown\",\"Female\",\"Unknown\",\"Male\",\"Unknown\",\"Female\",\"Unknown\",\"Non-binary\",\"Unknown\",\"Female\",\"Unknown\",\"Male\",\"Unknown\",\"Female\",\"Unknown\",\"Male\",\"Unknown\",\"Non-binary\",\"Unknown\",\"Female\",\"Unknown\",\"Male\",\"Unknown\",\"Female\",\"Unknown\",\"Male\",\"Unknown\",\"Non-binary\",\"Unknown\",\"Female\",\"Unknown\",\"Male\",\"Unknown\",\"Non-binary\",\"Unknown\",\"Male\",\"Unknown\",\"Female\",\"Unknown\",\"Male\",\"Unknown\",\"Non-binary\",\"Unknown\",\"Female\",\"Unknown\",\"Male\",\"Unknown\",\"Non-binary\",\"Unknown\",\"Female\",\"Unknown\",\"Male\",\"Unknown\",\"Non-binary\",\"Unknown\",\"Female\",\"Unknown\",\"Male\",\"Unknown\",\"Non-binary\",\"Unknown\",\"Female\",\"Unknown\",\"Male\",\"Unknown\",\"Non-binary\",\"Unknown\",\"Female\",\"Unknown\",\"Male\",\"Unknown\",\"Non-binary\",\"Unknown\",\"Female\",\"Unknown\",\"Male\",\"Unknown\",\"Non-binary\",\"Unknown\",\"Female\",\"Unknown\",\"Male\",\"Unknown\",\"Non-binary\",\"Unknown\",\"Female\",\"Unknown\",\"Male\",\"Unknown\",\"Female\",\"Unknown\",\"Male\",\"Unknown\",\"Non-binary\",\"Unknown\",\"Female\",\"Unknown\",\"Male\",\"Unknown\",\"Non-binary\",\"Unknown\",\"Female\"],\"xaxis\":\"x\",\"yaxis\":\"y\",\"type\":\"histogram\"}],                        {\"template\":{\"data\":{\"histogram2dcontour\":[{\"type\":\"histogram2dcontour\",\"colorbar\":{\"outlinewidth\":0,\"ticks\":\"\"},\"colorscale\":[[0.0,\"#0d0887\"],[0.1111111111111111,\"#46039f\"],[0.2222222222222222,\"#7201a8\"],[0.3333333333333333,\"#9c179e\"],[0.4444444444444444,\"#bd3786\"],[0.5555555555555556,\"#d8576b\"],[0.6666666666666666,\"#ed7953\"],[0.7777777777777778,\"#fb9f3a\"],[0.8888888888888888,\"#fdca26\"],[1.0,\"#f0f921\"]]}],\"choropleth\":[{\"type\":\"choropleth\",\"colorbar\":{\"outlinewidth\":0,\"ticks\":\"\"}}],\"histogram2d\":[{\"type\":\"histogram2d\",\"colorbar\":{\"outlinewidth\":0,\"ticks\":\"\"},\"colorscale\":[[0.0,\"#0d0887\"],[0.1111111111111111,\"#46039f\"],[0.2222222222222222,\"#7201a8\"],[0.3333333333333333,\"#9c179e\"],[0.4444444444444444,\"#bd3786\"],[0.5555555555555556,\"#d8576b\"],[0.6666666666666666,\"#ed7953\"],[0.7777777777777778,\"#fb9f3a\"],[0.8888888888888888,\"#fdca26\"],[1.0,\"#f0f921\"]]}],\"heatmap\":[{\"type\":\"heatmap\",\"colorbar\":{\"outlinewidth\":0,\"ticks\":\"\"},\"colorscale\":[[0.0,\"#0d0887\"],[0.1111111111111111,\"#46039f\"],[0.2222222222222222,\"#7201a8\"],[0.3333333333333333,\"#9c179e\"],[0.4444444444444444,\"#bd3786\"],[0.5555555555555556,\"#d8576b\"],[0.6666666666666666,\"#ed7953\"],[0.7777777777777778,\"#fb9f3a\"],[0.8888888888888888,\"#fdca26\"],[1.0,\"#f0f921\"]]}],\"heatmapgl\":[{\"type\":\"heatmapgl\",\"colorbar\":{\"outlinewidth\":0,\"ticks\":\"\"},\"colorscale\":[[0.0,\"#0d0887\"],[0.1111111111111111,\"#46039f\"],[0.2222222222222222,\"#7201a8\"],[0.3333333333333333,\"#9c179e\"],[0.4444444444444444,\"#bd3786\"],[0.5555555555555556,\"#d8576b\"],[0.6666666666666666,\"#ed7953\"],[0.7777777777777778,\"#fb9f3a\"],[0.8888888888888888,\"#fdca26\"],[1.0,\"#f0f921\"]]}],\"contourcarpet\":[{\"type\":\"contourcarpet\",\"colorbar\":{\"outlinewidth\":0,\"ticks\":\"\"}}],\"contour\":[{\"type\":\"contour\",\"colorbar\":{\"outlinewidth\":0,\"ticks\":\"\"},\"colorscale\":[[0.0,\"#0d0887\"],[0.1111111111111111,\"#46039f\"],[0.2222222222222222,\"#7201a8\"],[0.3333333333333333,\"#9c179e\"],[0.4444444444444444,\"#bd3786\"],[0.5555555555555556,\"#d8576b\"],[0.6666666666666666,\"#ed7953\"],[0.7777777777777778,\"#fb9f3a\"],[0.8888888888888888,\"#fdca26\"],[1.0,\"#f0f921\"]]}],\"surface\":[{\"type\":\"surface\",\"colorbar\":{\"outlinewidth\":0,\"ticks\":\"\"},\"colorscale\":[[0.0,\"#0d0887\"],[0.1111111111111111,\"#46039f\"],[0.2222222222222222,\"#7201a8\"],[0.3333333333333333,\"#9c179e\"],[0.4444444444444444,\"#bd3786\"],[0.5555555555555556,\"#d8576b\"],[0.6666666666666666,\"#ed7953\"],[0.7777777777777778,\"#fb9f3a\"],[0.8888888888888888,\"#fdca26\"],[1.0,\"#f0f921\"]]}],\"mesh3d\":[{\"type\":\"mesh3d\",\"colorbar\":{\"outlinewidth\":0,\"ticks\":\"\"}}],\"scatter\":[{\"fillpattern\":{\"fillmode\":\"overlay\",\"size\":10,\"solidity\":0.2},\"type\":\"scatter\"}],\"parcoords\":[{\"type\":\"parcoords\",\"line\":{\"colorbar\":{\"outlinewidth\":0,\"ticks\":\"\"}}}],\"scatterpolargl\":[{\"type\":\"scatterpolargl\",\"marker\":{\"colorbar\":{\"outlinewidth\":0,\"ticks\":\"\"}}}],\"bar\":[{\"error_x\":{\"color\":\"#2a3f5f\"},\"error_y\":{\"color\":\"#2a3f5f\"},\"marker\":{\"line\":{\"color\":\"#E5ECF6\",\"width\":0.5},\"pattern\":{\"fillmode\":\"overlay\",\"size\":10,\"solidity\":0.2}},\"type\":\"bar\"}],\"scattergeo\":[{\"type\":\"scattergeo\",\"marker\":{\"colorbar\":{\"outlinewidth\":0,\"ticks\":\"\"}}}],\"scatterpolar\":[{\"type\":\"scatterpolar\",\"marker\":{\"colorbar\":{\"outlinewidth\":0,\"ticks\":\"\"}}}],\"histogram\":[{\"marker\":{\"pattern\":{\"fillmode\":\"overlay\",\"size\":10,\"solidity\":0.2}},\"type\":\"histogram\"}],\"scattergl\":[{\"type\":\"scattergl\",\"marker\":{\"colorbar\":{\"outlinewidth\":0,\"ticks\":\"\"}}}],\"scatter3d\":[{\"type\":\"scatter3d\",\"line\":{\"colorbar\":{\"outlinewidth\":0,\"ticks\":\"\"}},\"marker\":{\"colorbar\":{\"outlinewidth\":0,\"ticks\":\"\"}}}],\"scattermapbox\":[{\"type\":\"scattermapbox\",\"marker\":{\"colorbar\":{\"outlinewidth\":0,\"ticks\":\"\"}}}],\"scatterternary\":[{\"type\":\"scatterternary\",\"marker\":{\"colorbar\":{\"outlinewidth\":0,\"ticks\":\"\"}}}],\"scattercarpet\":[{\"type\":\"scattercarpet\",\"marker\":{\"colorbar\":{\"outlinewidth\":0,\"ticks\":\"\"}}}],\"carpet\":[{\"aaxis\":{\"endlinecolor\":\"#2a3f5f\",\"gridcolor\":\"white\",\"linecolor\":\"white\",\"minorgridcolor\":\"white\",\"startlinecolor\":\"#2a3f5f\"},\"baxis\":{\"endlinecolor\":\"#2a3f5f\",\"gridcolor\":\"white\",\"linecolor\":\"white\",\"minorgridcolor\":\"white\",\"startlinecolor\":\"#2a3f5f\"},\"type\":\"carpet\"}],\"table\":[{\"cells\":{\"fill\":{\"color\":\"#EBF0F8\"},\"line\":{\"color\":\"white\"}},\"header\":{\"fill\":{\"color\":\"#C8D4E3\"},\"line\":{\"color\":\"white\"}},\"type\":\"table\"}],\"barpolar\":[{\"marker\":{\"line\":{\"color\":\"#E5ECF6\",\"width\":0.5},\"pattern\":{\"fillmode\":\"overlay\",\"size\":10,\"solidity\":0.2}},\"type\":\"barpolar\"}],\"pie\":[{\"automargin\":true,\"type\":\"pie\"}]},\"layout\":{\"autotypenumbers\":\"strict\",\"colorway\":[\"#636efa\",\"#EF553B\",\"#00cc96\",\"#ab63fa\",\"#FFA15A\",\"#19d3f3\",\"#FF6692\",\"#B6E880\",\"#FF97FF\",\"#FECB52\"],\"font\":{\"color\":\"#2a3f5f\"},\"hovermode\":\"closest\",\"hoverlabel\":{\"align\":\"left\"},\"paper_bgcolor\":\"white\",\"plot_bgcolor\":\"#E5ECF6\",\"polar\":{\"bgcolor\":\"#E5ECF6\",\"angularaxis\":{\"gridcolor\":\"white\",\"linecolor\":\"white\",\"ticks\":\"\"},\"radialaxis\":{\"gridcolor\":\"white\",\"linecolor\":\"white\",\"ticks\":\"\"}},\"ternary\":{\"bgcolor\":\"#E5ECF6\",\"aaxis\":{\"gridcolor\":\"white\",\"linecolor\":\"white\",\"ticks\":\"\"},\"baxis\":{\"gridcolor\":\"white\",\"linecolor\":\"white\",\"ticks\":\"\"},\"caxis\":{\"gridcolor\":\"white\",\"linecolor\":\"white\",\"ticks\":\"\"}},\"coloraxis\":{\"colorbar\":{\"outlinewidth\":0,\"ticks\":\"\"}},\"colorscale\":{\"sequential\":[[0.0,\"#0d0887\"],[0.1111111111111111,\"#46039f\"],[0.2222222222222222,\"#7201a8\"],[0.3333333333333333,\"#9c179e\"],[0.4444444444444444,\"#bd3786\"],[0.5555555555555556,\"#d8576b\"],[0.6666666666666666,\"#ed7953\"],[0.7777777777777778,\"#fb9f3a\"],[0.8888888888888888,\"#fdca26\"],[1.0,\"#f0f921\"]],\"sequentialminus\":[[0.0,\"#0d0887\"],[0.1111111111111111,\"#46039f\"],[0.2222222222222222,\"#7201a8\"],[0.3333333333333333,\"#9c179e\"],[0.4444444444444444,\"#bd3786\"],[0.5555555555555556,\"#d8576b\"],[0.6666666666666666,\"#ed7953\"],[0.7777777777777778,\"#fb9f3a\"],[0.8888888888888888,\"#fdca26\"],[1.0,\"#f0f921\"]],\"diverging\":[[0,\"#8e0152\"],[0.1,\"#c51b7d\"],[0.2,\"#de77ae\"],[0.3,\"#f1b6da\"],[0.4,\"#fde0ef\"],[0.5,\"#f7f7f7\"],[0.6,\"#e6f5d0\"],[0.7,\"#b8e186\"],[0.8,\"#7fbc41\"],[0.9,\"#4d9221\"],[1,\"#276419\"]]},\"xaxis\":{\"gridcolor\":\"white\",\"linecolor\":\"white\",\"ticks\":\"\",\"title\":{\"standoff\":15},\"zerolinecolor\":\"white\",\"automargin\":true,\"zerolinewidth\":2},\"yaxis\":{\"gridcolor\":\"white\",\"linecolor\":\"white\",\"ticks\":\"\",\"title\":{\"standoff\":15},\"zerolinecolor\":\"white\",\"automargin\":true,\"zerolinewidth\":2},\"scene\":{\"xaxis\":{\"backgroundcolor\":\"#E5ECF6\",\"gridcolor\":\"white\",\"linecolor\":\"white\",\"showbackground\":true,\"ticks\":\"\",\"zerolinecolor\":\"white\",\"gridwidth\":2},\"yaxis\":{\"backgroundcolor\":\"#E5ECF6\",\"gridcolor\":\"white\",\"linecolor\":\"white\",\"showbackground\":true,\"ticks\":\"\",\"zerolinecolor\":\"white\",\"gridwidth\":2},\"zaxis\":{\"backgroundcolor\":\"#E5ECF6\",\"gridcolor\":\"white\",\"linecolor\":\"white\",\"showbackground\":true,\"ticks\":\"\",\"zerolinecolor\":\"white\",\"gridwidth\":2}},\"shapedefaults\":{\"line\":{\"color\":\"#2a3f5f\"}},\"annotationdefaults\":{\"arrowcolor\":\"#2a3f5f\",\"arrowhead\":0,\"arrowwidth\":1},\"geo\":{\"bgcolor\":\"white\",\"landcolor\":\"#E5ECF6\",\"subunitcolor\":\"white\",\"showland\":true,\"showlakes\":true,\"lakecolor\":\"white\"},\"title\":{\"x\":0.05},\"mapbox\":{\"style\":\"light\"}}},\"xaxis\":{\"anchor\":\"y\",\"domain\":[0.0,1.0],\"title\":{\"text\":\"Gender\"}},\"yaxis\":{\"anchor\":\"x\",\"domain\":[0.0,1.0],\"title\":{\"text\":\"count\"}},\"legend\":{\"tracegroupgap\":0},\"title\":{\"text\":\"Gender Distribution\"},\"barmode\":\"relative\"},                        {\"responsive\": true}                    ).then(function(){\n",
              "                            \n",
              "var gd = document.getElementById('32907597-4cdb-49fa-80cf-3b56ec0c029e');\n",
              "var x = new MutationObserver(function (mutations, observer) {{\n",
              "        var display = window.getComputedStyle(gd).display;\n",
              "        if (!display || display === 'none') {{\n",
              "            console.log([gd, 'removed!']);\n",
              "            Plotly.purge(gd);\n",
              "            observer.disconnect();\n",
              "        }}\n",
              "}});\n",
              "\n",
              "// Listen for the removal of the full notebook cells\n",
              "var notebookContainer = gd.closest('#notebook-container');\n",
              "if (notebookContainer) {{\n",
              "    x.observe(notebookContainer, {childList: true});\n",
              "}}\n",
              "\n",
              "// Listen for the clearing of the current output cell\n",
              "var outputEl = gd.closest('.output');\n",
              "if (outputEl) {{\n",
              "    x.observe(outputEl, {childList: true});\n",
              "}}\n",
              "\n",
              "                        })                };                            </script>        </div>\n",
              "</body>\n",
              "</html>"
            ]
          },
          "metadata": {}
        }
      ]
    },
    {
      "cell_type": "markdown",
      "source": [
        "### Platform Distribution"
      ],
      "metadata": {
        "id": "pxChQ5WpFBgn"
      }
    },
    {
      "cell_type": "code",
      "source": [
        "train_df['Platform'].unique()"
      ],
      "metadata": {
        "id": "Oz3Bt3QIFBgn",
        "outputId": "c08f88fd-624b-48bb-c09f-17ac45ef579c",
        "colab": {
          "base_uri": "https://localhost:8080/"
        }
      },
      "execution_count": null,
      "outputs": [
        {
          "output_type": "execute_result",
          "data": {
            "text/plain": [
              "array([nan, 'Instagram', 'Twitter', 'Facebook', 'LinkedIn', 'Whatsapp',\n",
              "       'Telegram', 'Snapchat'], dtype=object)"
            ]
          },
          "metadata": {},
          "execution_count": 29
        }
      ]
    },
    {
      "cell_type": "code",
      "source": [
        "train_df['Platform'].value_counts()"
      ],
      "metadata": {
        "id": "b7iFijzhFBgn",
        "outputId": "c4c48b02-83a8-43ce-fc49-07b49a361523",
        "colab": {
          "base_uri": "https://localhost:8080/",
          "height": 335
        }
      },
      "execution_count": null,
      "outputs": [
        {
          "output_type": "execute_result",
          "data": {
            "text/plain": [
              "Platform\n",
              "Instagram    250\n",
              "Twitter      200\n",
              "Facebook     190\n",
              "LinkedIn     120\n",
              "Whatsapp      80\n",
              "Telegram      80\n",
              "Snapchat      80\n",
              "Name: count, dtype: int64"
            ],
            "text/html": [
              "<div>\n",
              "<style scoped>\n",
              "    .dataframe tbody tr th:only-of-type {\n",
              "        vertical-align: middle;\n",
              "    }\n",
              "\n",
              "    .dataframe tbody tr th {\n",
              "        vertical-align: top;\n",
              "    }\n",
              "\n",
              "    .dataframe thead th {\n",
              "        text-align: right;\n",
              "    }\n",
              "</style>\n",
              "<table border=\"1\" class=\"dataframe\">\n",
              "  <thead>\n",
              "    <tr style=\"text-align: right;\">\n",
              "      <th></th>\n",
              "      <th>count</th>\n",
              "    </tr>\n",
              "    <tr>\n",
              "      <th>Platform</th>\n",
              "      <th></th>\n",
              "    </tr>\n",
              "  </thead>\n",
              "  <tbody>\n",
              "    <tr>\n",
              "      <th>Instagram</th>\n",
              "      <td>250</td>\n",
              "    </tr>\n",
              "    <tr>\n",
              "      <th>Twitter</th>\n",
              "      <td>200</td>\n",
              "    </tr>\n",
              "    <tr>\n",
              "      <th>Facebook</th>\n",
              "      <td>190</td>\n",
              "    </tr>\n",
              "    <tr>\n",
              "      <th>LinkedIn</th>\n",
              "      <td>120</td>\n",
              "    </tr>\n",
              "    <tr>\n",
              "      <th>Whatsapp</th>\n",
              "      <td>80</td>\n",
              "    </tr>\n",
              "    <tr>\n",
              "      <th>Telegram</th>\n",
              "      <td>80</td>\n",
              "    </tr>\n",
              "    <tr>\n",
              "      <th>Snapchat</th>\n",
              "      <td>80</td>\n",
              "    </tr>\n",
              "  </tbody>\n",
              "</table>\n",
              "</div><br><label><b>dtype:</b> int64</label>"
            ]
          },
          "metadata": {},
          "execution_count": 30
        }
      ]
    },
    {
      "cell_type": "markdown",
      "source": [
        "* Let's Impute the nan with the mode"
      ],
      "metadata": {
        "id": "Fff4U9tkFBgn"
      }
    },
    {
      "cell_type": "code",
      "source": [
        "# filling with mode\n",
        "train_df['Platform'].fillna(train_df['Platform'].mode()[0], inplace=True)"
      ],
      "metadata": {
        "id": "Ja4WreirFBgn"
      },
      "execution_count": null,
      "outputs": []
    },
    {
      "cell_type": "code",
      "source": [
        "train_df['Platform'].unique()"
      ],
      "metadata": {
        "id": "Tqwwpp-8FBgn",
        "outputId": "406c381d-7edf-4c0d-9e70-a853bc1d5650",
        "colab": {
          "base_uri": "https://localhost:8080/"
        }
      },
      "execution_count": null,
      "outputs": [
        {
          "output_type": "execute_result",
          "data": {
            "text/plain": [
              "array(['Instagram', 'Twitter', 'Facebook', 'LinkedIn', 'Whatsapp',\n",
              "       'Telegram', 'Snapchat'], dtype=object)"
            ]
          },
          "metadata": {},
          "execution_count": 32
        }
      ]
    },
    {
      "cell_type": "code",
      "source": [
        "train_df['Platform'].value_counts()"
      ],
      "metadata": {
        "id": "smEr6A_5FBgn",
        "outputId": "fdb64210-9182-43cb-9798-e7b9252f6706",
        "colab": {
          "base_uri": "https://localhost:8080/",
          "height": 335
        }
      },
      "execution_count": null,
      "outputs": [
        {
          "output_type": "execute_result",
          "data": {
            "text/plain": [
              "Platform\n",
              "Instagram    1254\n",
              "Twitter       200\n",
              "Facebook      190\n",
              "LinkedIn      120\n",
              "Whatsapp       80\n",
              "Telegram       80\n",
              "Snapchat       80\n",
              "Name: count, dtype: int64"
            ],
            "text/html": [
              "<div>\n",
              "<style scoped>\n",
              "    .dataframe tbody tr th:only-of-type {\n",
              "        vertical-align: middle;\n",
              "    }\n",
              "\n",
              "    .dataframe tbody tr th {\n",
              "        vertical-align: top;\n",
              "    }\n",
              "\n",
              "    .dataframe thead th {\n",
              "        text-align: right;\n",
              "    }\n",
              "</style>\n",
              "<table border=\"1\" class=\"dataframe\">\n",
              "  <thead>\n",
              "    <tr style=\"text-align: right;\">\n",
              "      <th></th>\n",
              "      <th>count</th>\n",
              "    </tr>\n",
              "    <tr>\n",
              "      <th>Platform</th>\n",
              "      <th></th>\n",
              "    </tr>\n",
              "  </thead>\n",
              "  <tbody>\n",
              "    <tr>\n",
              "      <th>Instagram</th>\n",
              "      <td>1254</td>\n",
              "    </tr>\n",
              "    <tr>\n",
              "      <th>Twitter</th>\n",
              "      <td>200</td>\n",
              "    </tr>\n",
              "    <tr>\n",
              "      <th>Facebook</th>\n",
              "      <td>190</td>\n",
              "    </tr>\n",
              "    <tr>\n",
              "      <th>LinkedIn</th>\n",
              "      <td>120</td>\n",
              "    </tr>\n",
              "    <tr>\n",
              "      <th>Whatsapp</th>\n",
              "      <td>80</td>\n",
              "    </tr>\n",
              "    <tr>\n",
              "      <th>Telegram</th>\n",
              "      <td>80</td>\n",
              "    </tr>\n",
              "    <tr>\n",
              "      <th>Snapchat</th>\n",
              "      <td>80</td>\n",
              "    </tr>\n",
              "  </tbody>\n",
              "</table>\n",
              "</div><br><label><b>dtype:</b> int64</label>"
            ]
          },
          "metadata": {},
          "execution_count": 33
        }
      ]
    },
    {
      "cell_type": "code",
      "source": [
        "plt = px.histogram(train_df, x='Platform', title='Platform Distribution')\n",
        "plt.show()"
      ],
      "metadata": {
        "id": "xTLSmo81FBgn",
        "outputId": "74d0f5cc-01e4-4033-c5ff-11dd4d6dec44",
        "colab": {
          "base_uri": "https://localhost:8080/",
          "height": 542
        }
      },
      "execution_count": null,
      "outputs": [
        {
          "output_type": "display_data",
          "data": {
            "text/html": [
              "<html>\n",
              "<head><meta charset=\"utf-8\" /></head>\n",
              "<body>\n",
              "    <div>            <script src=\"https://cdnjs.cloudflare.com/ajax/libs/mathjax/2.7.5/MathJax.js?config=TeX-AMS-MML_SVG\"></script><script type=\"text/javascript\">if (window.MathJax && window.MathJax.Hub && window.MathJax.Hub.Config) {window.MathJax.Hub.Config({SVG: {font: \"STIX-Web\"}});}</script>                <script type=\"text/javascript\">window.PlotlyConfig = {MathJaxConfig: 'local'};</script>\n",
              "        <script charset=\"utf-8\" src=\"https://cdn.plot.ly/plotly-2.35.2.min.js\"></script>                <div id=\"1c71544d-d97a-4b47-b514-9cfbaa7133d5\" class=\"plotly-graph-div\" style=\"height:525px; width:100%;\"></div>            <script type=\"text/javascript\">                                    window.PLOTLYENV=window.PLOTLYENV || {};                                    if (document.getElementById(\"1c71544d-d97a-4b47-b514-9cfbaa7133d5\")) {                    Plotly.newPlot(                        \"1c71544d-d97a-4b47-b514-9cfbaa7133d5\",                        [{\"alignmentgroup\":\"True\",\"bingroup\":\"x\",\"hovertemplate\":\"Platform=%{x}\\u003cbr\\u003ecount=%{y}\\u003cextra\\u003e\\u003c\\u002fextra\\u003e\",\"legendgroup\":\"\",\"marker\":{\"color\":\"#636efa\",\"pattern\":{\"shape\":\"\"}},\"name\":\"\",\"offsetgroup\":\"\",\"orientation\":\"v\",\"showlegend\":false,\"x\":[\"Instagram\",\"Instagram\",\"Instagram\",\"Twitter\",\"Instagram\",\"Facebook\",\"Instagram\",\"Instagram\",\"Instagram\",\"LinkedIn\",\"Instagram\",\"Instagram\",\"Instagram\",\"Twitter\",\"Instagram\",\"Facebook\",\"Instagram\",\"LinkedIn\",\"Instagram\",\"Instagram\",\"Instagram\",\"Twitter\",\"Instagram\",\"Facebook\",\"Instagram\",\"LinkedIn\",\"Instagram\",\"Instagram\",\"Instagram\",\"Twitter\",\"Instagram\",\"Facebook\",\"Instagram\",\"Instagram\",\"Instagram\",\"Twitter\",\"Instagram\",\"LinkedIn\",\"Instagram\",\"Instagram\",\"Instagram\",\"Facebook\",\"Instagram\",\"Twitter\",\"Instagram\",\"LinkedIn\",\"Instagram\",\"Instagram\",\"Instagram\",\"Twitter\",\"Instagram\",\"Facebook\",\"Instagram\",\"LinkedIn\",\"Instagram\",\"Instagram\",\"Instagram\",\"Twitter\",\"Instagram\",\"Facebook\",\"Instagram\",\"LinkedIn\",\"Instagram\",\"Instagram\",\"Instagram\",\"Twitter\",\"Instagram\",\"Instagram\",\"Instagram\",\"Facebook\",\"Instagram\",\"LinkedIn\",\"Instagram\",\"Instagram\",\"Instagram\",\"Twitter\",\"Instagram\",\"Instagram\",\"Instagram\",\"Facebook\",\"Instagram\",\"LinkedIn\",\"Instagram\",\"Instagram\",\"Instagram\",\"Twitter\",\"Instagram\",\"Facebook\",\"Instagram\",\"LinkedIn\",\"Instagram\",\"Instagram\",\"Instagram\",\"Twitter\",\"Instagram\",\"Facebook\",\"Instagram\",\"Instagram\",\"Instagram\",\"LinkedIn\",\"Instagram\",\"Instagram\",\"Instagram\",\"Twitter\",\"Instagram\",\"Facebook\",\"Instagram\",\"Instagram\",\"Instagram\",\"LinkedIn\",\"Instagram\",\"Whatsapp\",\"Instagram\",\"Telegram\",\"Instagram\",\"Snapchat\",\"Instagram\",\"Twitter\",\"Instagram\",\"Facebook\",\"Instagram\",\"Instagram\",\"Instagram\",\"Whatsapp\",\"Instagram\",\"Telegram\",\"Instagram\",\"Snapchat\",\"Instagram\",\"Twitter\",\"Instagram\",\"Facebook\",\"Instagram\",\"Instagram\",\"Instagram\",\"Whatsapp\",\"Instagram\",\"Telegram\",\"Instagram\",\"Snapchat\",\"Instagram\",\"Instagram\",\"Instagram\",\"Twitter\",\"Instagram\",\"Facebook\",\"Instagram\",\"Whatsapp\",\"Instagram\",\"Telegram\",\"Instagram\",\"Snapchat\",\"Instagram\",\"Instagram\",\"Instagram\",\"Twitter\",\"Instagram\",\"Facebook\",\"Instagram\",\"Whatsapp\",\"Instagram\",\"Telegram\",\"Instagram\",\"Snapchat\",\"Instagram\",\"Instagram\",\"Instagram\",\"Twitter\",\"Instagram\",\"Facebook\",\"Instagram\",\"Whatsapp\",\"Instagram\",\"Telegram\",\"Instagram\",\"Snapchat\",\"Instagram\",\"Instagram\",\"Instagram\",\"Twitter\",\"Instagram\",\"Facebook\",\"Instagram\",\"Whatsapp\",\"Instagram\",\"Telegram\",\"Instagram\",\"Snapchat\",\"Instagram\",\"Instagram\",\"Instagram\",\"Twitter\",\"Instagram\",\"Facebook\",\"Instagram\",\"Whatsapp\",\"Instagram\",\"Telegram\",\"Instagram\",\"Snapchat\",\"Instagram\",\"Instagram\",\"Instagram\",\"Twitter\",\"Instagram\",\"Facebook\",\"Instagram\",\"Instagram\",\"Instagram\",\"LinkedIn\",\"Instagram\",\"Instagram\",\"Instagram\",\"Twitter\",\"Instagram\",\"Facebook\",\"Instagram\",\"LinkedIn\",\"Instagram\",\"Instagram\",\"Instagram\",\"Twitter\",\"Instagram\",\"Facebook\",\"Instagram\",\"LinkedIn\",\"Instagram\",\"Instagram\",\"Instagram\",\"Twitter\",\"Instagram\",\"Facebook\",\"Instagram\",\"Instagram\",\"Instagram\",\"Twitter\",\"Instagram\",\"LinkedIn\",\"Instagram\",\"Instagram\",\"Instagram\",\"Facebook\",\"Instagram\",\"Twitter\",\"Instagram\",\"LinkedIn\",\"Instagram\",\"Instagram\",\"Instagram\",\"Twitter\",\"Instagram\",\"Facebook\",\"Instagram\",\"LinkedIn\",\"Instagram\",\"Instagram\",\"Instagram\",\"Twitter\",\"Instagram\",\"Facebook\",\"Instagram\",\"LinkedIn\",\"Instagram\",\"Instagram\",\"Instagram\",\"Twitter\",\"Instagram\",\"Instagram\",\"Instagram\",\"Facebook\",\"Instagram\",\"LinkedIn\",\"Instagram\",\"Instagram\",\"Instagram\",\"Twitter\",\"Instagram\",\"Instagram\",\"Instagram\",\"Facebook\",\"Instagram\",\"LinkedIn\",\"Instagram\",\"Instagram\",\"Instagram\",\"Twitter\",\"Instagram\",\"Facebook\",\"Instagram\",\"LinkedIn\",\"Instagram\",\"Instagram\",\"Instagram\",\"Twitter\",\"Instagram\",\"Facebook\",\"Instagram\",\"Instagram\",\"Instagram\",\"LinkedIn\",\"Instagram\",\"Instagram\",\"Instagram\",\"Twitter\",\"Instagram\",\"Facebook\",\"Instagram\",\"Instagram\",\"Instagram\",\"LinkedIn\",\"Instagram\",\"Whatsapp\",\"Instagram\",\"Telegram\",\"Instagram\",\"Snapchat\",\"Instagram\",\"Twitter\",\"Instagram\",\"Facebook\",\"Instagram\",\"Instagram\",\"Instagram\",\"Whatsapp\",\"Instagram\",\"Telegram\",\"Instagram\",\"Snapchat\",\"Instagram\",\"Twitter\",\"Instagram\",\"Facebook\",\"Instagram\",\"Instagram\",\"Instagram\",\"Whatsapp\",\"Instagram\",\"Telegram\",\"Instagram\",\"Snapchat\",\"Instagram\",\"Instagram\",\"Instagram\",\"Twitter\",\"Instagram\",\"Facebook\",\"Instagram\",\"Whatsapp\",\"Instagram\",\"Telegram\",\"Instagram\",\"Snapchat\",\"Instagram\",\"Instagram\",\"Instagram\",\"Twitter\",\"Instagram\",\"Facebook\",\"Instagram\",\"Whatsapp\",\"Instagram\",\"Telegram\",\"Instagram\",\"Snapchat\",\"Instagram\",\"Instagram\",\"Instagram\",\"Twitter\",\"Instagram\",\"Facebook\",\"Instagram\",\"Whatsapp\",\"Instagram\",\"Telegram\",\"Instagram\",\"Snapchat\",\"Instagram\",\"Instagram\",\"Instagram\",\"Twitter\",\"Instagram\",\"Facebook\",\"Instagram\",\"Whatsapp\",\"Instagram\",\"Telegram\",\"Instagram\",\"Snapchat\",\"Instagram\",\"Instagram\",\"Instagram\",\"Twitter\",\"Instagram\",\"Facebook\",\"Instagram\",\"Whatsapp\",\"Instagram\",\"Telegram\",\"Instagram\",\"Snapchat\",\"Instagram\",\"Instagram\",\"Instagram\",\"Twitter\",\"Instagram\",\"Facebook\",\"Instagram\",\"Instagram\",\"Instagram\",\"LinkedIn\",\"Instagram\",\"Instagram\",\"Instagram\",\"Twitter\",\"Instagram\",\"Facebook\",\"Instagram\",\"LinkedIn\",\"Instagram\",\"Instagram\",\"Instagram\",\"Twitter\",\"Instagram\",\"Facebook\",\"Instagram\",\"LinkedIn\",\"Instagram\",\"Instagram\",\"Instagram\",\"Twitter\",\"Instagram\",\"Facebook\",\"Instagram\",\"Instagram\",\"Instagram\",\"Twitter\",\"Instagram\",\"LinkedIn\",\"Instagram\",\"Instagram\",\"Instagram\",\"Facebook\",\"Instagram\",\"Twitter\",\"Instagram\",\"LinkedIn\",\"Instagram\",\"Instagram\",\"Instagram\",\"Twitter\",\"Instagram\",\"Facebook\",\"Instagram\",\"LinkedIn\",\"Instagram\",\"Instagram\",\"Instagram\",\"Twitter\",\"Instagram\",\"Facebook\",\"Instagram\",\"LinkedIn\",\"Instagram\",\"Instagram\",\"Instagram\",\"Twitter\",\"Instagram\",\"Instagram\",\"Instagram\",\"Facebook\",\"Instagram\",\"LinkedIn\",\"Instagram\",\"Instagram\",\"Instagram\",\"Twitter\",\"Instagram\",\"Instagram\",\"Instagram\",\"Facebook\",\"Instagram\",\"LinkedIn\",\"Instagram\",\"Instagram\",\"Instagram\",\"Twitter\",\"Instagram\",\"Facebook\",\"Instagram\",\"LinkedIn\",\"Instagram\",\"Instagram\",\"Instagram\",\"Twitter\",\"Instagram\",\"Facebook\",\"Instagram\",\"Instagram\",\"Instagram\",\"LinkedIn\",\"Instagram\",\"Instagram\",\"Instagram\",\"Twitter\",\"Instagram\",\"Facebook\",\"Instagram\",\"Instagram\",\"Instagram\",\"LinkedIn\",\"Instagram\",\"Whatsapp\",\"Instagram\",\"Telegram\",\"Instagram\",\"Snapchat\",\"Instagram\",\"Twitter\",\"Instagram\",\"Facebook\",\"Instagram\",\"Instagram\",\"Instagram\",\"Whatsapp\",\"Instagram\",\"Telegram\",\"Instagram\",\"Snapchat\",\"Instagram\",\"Twitter\",\"Instagram\",\"Facebook\",\"Instagram\",\"Instagram\",\"Instagram\",\"Whatsapp\",\"Instagram\",\"Telegram\",\"Instagram\",\"Snapchat\",\"Instagram\",\"Instagram\",\"Instagram\",\"Twitter\",\"Instagram\",\"Facebook\",\"Instagram\",\"Whatsapp\",\"Instagram\",\"Telegram\",\"Instagram\",\"Snapchat\",\"Instagram\",\"Instagram\",\"Instagram\",\"Twitter\",\"Instagram\",\"Facebook\",\"Instagram\",\"Whatsapp\",\"Instagram\",\"Telegram\",\"Instagram\",\"Snapchat\",\"Instagram\",\"Instagram\",\"Instagram\",\"Twitter\",\"Instagram\",\"Facebook\",\"Instagram\",\"Whatsapp\",\"Instagram\",\"Telegram\",\"Instagram\",\"Snapchat\",\"Instagram\",\"Instagram\",\"Instagram\",\"Twitter\",\"Instagram\",\"Facebook\",\"Instagram\",\"Whatsapp\",\"Instagram\",\"Telegram\",\"Instagram\",\"Snapchat\",\"Instagram\",\"Instagram\",\"Instagram\",\"Twitter\",\"Instagram\",\"Facebook\",\"Instagram\",\"Whatsapp\",\"Instagram\",\"Telegram\",\"Instagram\",\"Snapchat\",\"Instagram\",\"Instagram\",\"Instagram\",\"Twitter\",\"Instagram\",\"Facebook\",\"Instagram\",\"Instagram\",\"Instagram\",\"LinkedIn\",\"Instagram\",\"Instagram\",\"Instagram\",\"Twitter\",\"Instagram\",\"Facebook\",\"Instagram\",\"LinkedIn\",\"Instagram\",\"Instagram\",\"Instagram\",\"Twitter\",\"Instagram\",\"Facebook\",\"Instagram\",\"LinkedIn\",\"Instagram\",\"Instagram\",\"Instagram\",\"Twitter\",\"Instagram\",\"Facebook\",\"Instagram\",\"Instagram\",\"Instagram\",\"Twitter\",\"Instagram\",\"LinkedIn\",\"Instagram\",\"Instagram\",\"Instagram\",\"Facebook\",\"Instagram\",\"Twitter\",\"Instagram\",\"LinkedIn\",\"Instagram\",\"Instagram\",\"Instagram\",\"Twitter\",\"Instagram\",\"Facebook\",\"Instagram\",\"LinkedIn\",\"Instagram\",\"Instagram\",\"Instagram\",\"Twitter\",\"Instagram\",\"Facebook\",\"Instagram\",\"LinkedIn\",\"Instagram\",\"Instagram\",\"Instagram\",\"Twitter\",\"Instagram\",\"Instagram\",\"Instagram\",\"Facebook\",\"Instagram\",\"LinkedIn\",\"Instagram\",\"Instagram\",\"Instagram\",\"Twitter\",\"Instagram\",\"Instagram\",\"Instagram\",\"Facebook\",\"Instagram\",\"LinkedIn\",\"Instagram\",\"Instagram\",\"Instagram\",\"Twitter\",\"Instagram\",\"Facebook\",\"Instagram\",\"LinkedIn\",\"Instagram\",\"Instagram\",\"Instagram\",\"Twitter\",\"Instagram\",\"Facebook\",\"Instagram\",\"Instagram\",\"Instagram\",\"LinkedIn\",\"Instagram\",\"Instagram\",\"Instagram\",\"Twitter\",\"Instagram\",\"Facebook\",\"Instagram\",\"Instagram\",\"Instagram\",\"LinkedIn\",\"Instagram\",\"Whatsapp\",\"Instagram\",\"Telegram\",\"Instagram\",\"Snapchat\",\"Instagram\",\"Twitter\",\"Instagram\",\"Facebook\",\"Instagram\",\"Instagram\",\"Instagram\",\"Whatsapp\",\"Instagram\",\"Telegram\",\"Instagram\",\"Snapchat\",\"Instagram\",\"Twitter\",\"Instagram\",\"Facebook\",\"Instagram\",\"Instagram\",\"Instagram\",\"Whatsapp\",\"Instagram\",\"Telegram\",\"Instagram\",\"Snapchat\",\"Instagram\",\"Instagram\",\"Instagram\",\"Twitter\",\"Instagram\",\"Facebook\",\"Instagram\",\"Whatsapp\",\"Instagram\",\"Telegram\",\"Instagram\",\"Snapchat\",\"Instagram\",\"Instagram\",\"Instagram\",\"Twitter\",\"Instagram\",\"Facebook\",\"Instagram\",\"Whatsapp\",\"Instagram\",\"Telegram\",\"Instagram\",\"Snapchat\",\"Instagram\",\"Instagram\",\"Instagram\",\"Twitter\",\"Instagram\",\"Facebook\",\"Instagram\",\"Whatsapp\",\"Instagram\",\"Telegram\",\"Instagram\",\"Snapchat\",\"Instagram\",\"Instagram\",\"Instagram\",\"Twitter\",\"Instagram\",\"Facebook\",\"Instagram\",\"Whatsapp\",\"Instagram\",\"Telegram\",\"Instagram\",\"Snapchat\",\"Instagram\",\"Instagram\",\"Instagram\",\"Twitter\",\"Instagram\",\"Facebook\",\"Instagram\",\"Whatsapp\",\"Instagram\",\"Telegram\",\"Instagram\",\"Snapchat\",\"Instagram\",\"Instagram\",\"Instagram\",\"Twitter\",\"Instagram\",\"Facebook\",\"Instagram\",\"Instagram\",\"Instagram\",\"LinkedIn\",\"Instagram\",\"Instagram\",\"Instagram\",\"Twitter\",\"Instagram\",\"Facebook\",\"Instagram\",\"LinkedIn\",\"Instagram\",\"Instagram\",\"Instagram\",\"Twitter\",\"Instagram\",\"Facebook\",\"Instagram\",\"LinkedIn\",\"Instagram\",\"Instagram\",\"Instagram\",\"Twitter\",\"Instagram\",\"Facebook\",\"Instagram\",\"Instagram\",\"Instagram\",\"Twitter\",\"Instagram\",\"LinkedIn\",\"Instagram\",\"Instagram\",\"Instagram\",\"Facebook\",\"Instagram\",\"Twitter\",\"Instagram\",\"LinkedIn\",\"Instagram\",\"Instagram\",\"Instagram\",\"Twitter\",\"Instagram\",\"Facebook\",\"Instagram\",\"LinkedIn\",\"Instagram\",\"Instagram\",\"Instagram\",\"Twitter\",\"Instagram\",\"Facebook\",\"Instagram\",\"LinkedIn\",\"Instagram\",\"Instagram\",\"Instagram\",\"Twitter\",\"Instagram\",\"Instagram\",\"Instagram\",\"Facebook\",\"Instagram\",\"LinkedIn\",\"Instagram\",\"Instagram\",\"Instagram\",\"Twitter\",\"Instagram\",\"Instagram\",\"Instagram\",\"Facebook\",\"Instagram\",\"LinkedIn\",\"Instagram\",\"Instagram\",\"Instagram\",\"Twitter\",\"Instagram\",\"Facebook\",\"Instagram\",\"LinkedIn\",\"Instagram\",\"Instagram\",\"Instagram\",\"Twitter\",\"Instagram\",\"Facebook\",\"Instagram\",\"Instagram\",\"Instagram\",\"LinkedIn\",\"Instagram\",\"Instagram\",\"Instagram\",\"Twitter\",\"Instagram\",\"Facebook\",\"Instagram\",\"Instagram\",\"Instagram\",\"LinkedIn\",\"Instagram\",\"Whatsapp\",\"Instagram\",\"Telegram\",\"Instagram\",\"Snapchat\",\"Instagram\",\"Twitter\",\"Instagram\",\"Facebook\",\"Instagram\",\"Instagram\",\"Instagram\",\"Whatsapp\",\"Instagram\",\"Telegram\",\"Instagram\",\"Snapchat\",\"Instagram\",\"Twitter\",\"Instagram\",\"Facebook\",\"Instagram\",\"Instagram\",\"Instagram\",\"Whatsapp\",\"Instagram\",\"Telegram\",\"Instagram\",\"Snapchat\",\"Instagram\",\"Instagram\",\"Instagram\",\"Twitter\",\"Instagram\",\"Facebook\",\"Instagram\",\"Whatsapp\",\"Instagram\",\"Telegram\",\"Instagram\",\"Snapchat\",\"Instagram\",\"Instagram\",\"Instagram\",\"Twitter\",\"Instagram\",\"Facebook\",\"Instagram\",\"Whatsapp\",\"Instagram\",\"Telegram\",\"Instagram\",\"Snapchat\",\"Instagram\",\"Instagram\",\"Instagram\",\"Twitter\",\"Instagram\",\"Facebook\",\"Instagram\",\"Whatsapp\",\"Instagram\",\"Telegram\",\"Instagram\",\"Snapchat\",\"Instagram\",\"Instagram\",\"Instagram\",\"Twitter\",\"Instagram\",\"Facebook\",\"Instagram\",\"Whatsapp\",\"Instagram\",\"Telegram\",\"Instagram\",\"Snapchat\",\"Instagram\",\"Instagram\",\"Instagram\",\"Twitter\",\"Instagram\",\"Facebook\",\"Instagram\",\"Whatsapp\",\"Instagram\",\"Telegram\",\"Instagram\",\"Snapchat\",\"Instagram\",\"Instagram\",\"Instagram\",\"Twitter\",\"Instagram\",\"Facebook\",\"Instagram\",\"Instagram\",\"Instagram\",\"LinkedIn\",\"Instagram\",\"Instagram\",\"Instagram\",\"Twitter\",\"Instagram\",\"Facebook\",\"Instagram\",\"LinkedIn\",\"Instagram\",\"Instagram\",\"Instagram\",\"Twitter\",\"Instagram\",\"Facebook\",\"Instagram\",\"LinkedIn\",\"Instagram\",\"Instagram\",\"Instagram\",\"Twitter\",\"Instagram\",\"Facebook\",\"Instagram\",\"Instagram\",\"Instagram\",\"Twitter\",\"Instagram\",\"LinkedIn\",\"Instagram\",\"Instagram\",\"Instagram\",\"Facebook\",\"Instagram\",\"Twitter\",\"Instagram\",\"LinkedIn\",\"Instagram\",\"Instagram\",\"Instagram\",\"Twitter\",\"Instagram\",\"Facebook\",\"Instagram\",\"LinkedIn\",\"Instagram\",\"Instagram\",\"Instagram\",\"Twitter\",\"Instagram\",\"Facebook\",\"Instagram\",\"LinkedIn\",\"Instagram\",\"Instagram\",\"Instagram\",\"Twitter\",\"Instagram\",\"Instagram\",\"Instagram\",\"Facebook\",\"Instagram\",\"LinkedIn\",\"Instagram\",\"Instagram\",\"Instagram\",\"Twitter\",\"Instagram\",\"Instagram\",\"Instagram\",\"Facebook\",\"Instagram\",\"LinkedIn\",\"Instagram\",\"Instagram\",\"Instagram\",\"Twitter\",\"Instagram\",\"Facebook\",\"Instagram\",\"LinkedIn\",\"Instagram\",\"Instagram\",\"Instagram\",\"Twitter\",\"Instagram\",\"Facebook\",\"Instagram\",\"Instagram\",\"Instagram\",\"LinkedIn\",\"Instagram\",\"Instagram\",\"Instagram\",\"Twitter\",\"Instagram\",\"Facebook\",\"Instagram\",\"Instagram\",\"Instagram\",\"LinkedIn\",\"Instagram\",\"Whatsapp\",\"Instagram\",\"Telegram\",\"Instagram\",\"Snapchat\",\"Instagram\",\"Twitter\",\"Instagram\",\"Facebook\",\"Instagram\",\"Instagram\",\"Instagram\",\"Whatsapp\",\"Instagram\",\"Telegram\",\"Instagram\",\"Snapchat\",\"Instagram\",\"Twitter\",\"Instagram\",\"Facebook\",\"Instagram\",\"Instagram\",\"Instagram\",\"Whatsapp\",\"Instagram\",\"Telegram\",\"Instagram\",\"Snapchat\",\"Instagram\",\"Instagram\",\"Instagram\",\"Twitter\",\"Instagram\",\"Facebook\",\"Instagram\",\"Whatsapp\",\"Instagram\",\"Telegram\",\"Instagram\",\"Snapchat\",\"Instagram\",\"Instagram\",\"Instagram\",\"Twitter\",\"Instagram\",\"Facebook\",\"Instagram\",\"Whatsapp\",\"Instagram\",\"Telegram\",\"Instagram\",\"Snapchat\",\"Instagram\",\"Instagram\",\"Instagram\",\"Twitter\",\"Instagram\",\"Facebook\",\"Instagram\",\"Whatsapp\",\"Instagram\",\"Telegram\",\"Instagram\",\"Snapchat\",\"Instagram\",\"Instagram\",\"Instagram\",\"Twitter\",\"Instagram\",\"Facebook\",\"Instagram\",\"Whatsapp\",\"Instagram\",\"Telegram\",\"Instagram\",\"Snapchat\",\"Instagram\",\"Instagram\",\"Instagram\",\"Twitter\",\"Instagram\",\"Facebook\",\"Instagram\",\"Whatsapp\",\"Instagram\",\"Telegram\",\"Instagram\",\"Snapchat\",\"Instagram\",\"Instagram\",\"Instagram\",\"Twitter\",\"Instagram\",\"Facebook\",\"Instagram\",\"Instagram\",\"Instagram\",\"LinkedIn\",\"Instagram\",\"Instagram\",\"Instagram\",\"Twitter\",\"Instagram\",\"Facebook\",\"Instagram\",\"LinkedIn\",\"Instagram\",\"Instagram\",\"Instagram\",\"Twitter\",\"Instagram\",\"Facebook\",\"Instagram\",\"LinkedIn\",\"Instagram\",\"Instagram\",\"Instagram\",\"Twitter\",\"Instagram\",\"Facebook\",\"Instagram\",\"Instagram\",\"Instagram\",\"Twitter\",\"Instagram\",\"LinkedIn\",\"Instagram\",\"Instagram\",\"Instagram\",\"Facebook\",\"Instagram\",\"Twitter\",\"Instagram\",\"LinkedIn\",\"Instagram\",\"Instagram\",\"Instagram\",\"Twitter\",\"Instagram\",\"Facebook\",\"Instagram\",\"LinkedIn\",\"Instagram\",\"Instagram\",\"Instagram\",\"Twitter\",\"Instagram\",\"Facebook\",\"Instagram\",\"LinkedIn\",\"Instagram\",\"Instagram\",\"Instagram\",\"Twitter\",\"Instagram\",\"Instagram\",\"Instagram\",\"Facebook\",\"Instagram\",\"LinkedIn\",\"Instagram\",\"Instagram\",\"Instagram\",\"Twitter\",\"Instagram\",\"Instagram\",\"Instagram\",\"Facebook\",\"Instagram\",\"LinkedIn\",\"Instagram\",\"Instagram\",\"Instagram\",\"Instagram\",\"Instagram\",\"Instagram\",\"Instagram\",\"Twitter\",\"Instagram\",\"Facebook\",\"Instagram\",\"LinkedIn\",\"Instagram\",\"Instagram\",\"Instagram\",\"Twitter\",\"Instagram\",\"Facebook\",\"Instagram\",\"Instagram\",\"Instagram\",\"LinkedIn\",\"Instagram\",\"Instagram\",\"Instagram\",\"Twitter\",\"Instagram\",\"Facebook\",\"Instagram\",\"Instagram\",\"Instagram\",\"LinkedIn\",\"Instagram\",\"Whatsapp\",\"Instagram\",\"Telegram\",\"Instagram\",\"Snapchat\",\"Instagram\",\"Twitter\",\"Instagram\",\"Facebook\",\"Instagram\",\"Instagram\",\"Instagram\",\"Whatsapp\",\"Instagram\",\"Telegram\",\"Instagram\",\"Snapchat\",\"Instagram\",\"Twitter\",\"Instagram\",\"Facebook\",\"Instagram\",\"Instagram\",\"Instagram\",\"Whatsapp\",\"Instagram\",\"Telegram\",\"Instagram\",\"Snapchat\",\"Instagram\",\"Instagram\",\"Instagram\",\"Twitter\",\"Instagram\",\"Facebook\",\"Instagram\",\"Whatsapp\",\"Instagram\",\"Telegram\",\"Instagram\",\"Snapchat\",\"Instagram\",\"Instagram\",\"Instagram\",\"Twitter\",\"Instagram\",\"Facebook\",\"Instagram\",\"Whatsapp\",\"Instagram\",\"Telegram\",\"Instagram\",\"Snapchat\",\"Instagram\",\"Instagram\",\"Instagram\",\"Twitter\",\"Instagram\",\"Facebook\",\"Instagram\",\"Whatsapp\",\"Instagram\",\"Telegram\",\"Instagram\",\"Snapchat\",\"Instagram\",\"Instagram\",\"Instagram\",\"Twitter\",\"Instagram\",\"Facebook\",\"Instagram\",\"Whatsapp\",\"Instagram\",\"Telegram\",\"Instagram\",\"Snapchat\",\"Instagram\",\"Instagram\",\"Instagram\",\"Twitter\",\"Instagram\",\"Facebook\",\"Instagram\",\"Whatsapp\",\"Instagram\",\"Telegram\",\"Instagram\",\"Snapchat\",\"Instagram\",\"Instagram\",\"Instagram\",\"Twitter\",\"Instagram\",\"Facebook\",\"Instagram\",\"Instagram\",\"Instagram\",\"LinkedIn\",\"Instagram\",\"Instagram\",\"Instagram\",\"Twitter\",\"Instagram\",\"Facebook\",\"Instagram\",\"LinkedIn\",\"Instagram\",\"Instagram\",\"Instagram\",\"Twitter\",\"Instagram\",\"Facebook\",\"Instagram\",\"LinkedIn\",\"Instagram\",\"Instagram\",\"Instagram\",\"Twitter\",\"Instagram\",\"Facebook\",\"Instagram\",\"Instagram\",\"Instagram\",\"Twitter\",\"Instagram\",\"LinkedIn\",\"Instagram\",\"Instagram\",\"Instagram\",\"Facebook\",\"Instagram\",\"Twitter\",\"Instagram\",\"LinkedIn\",\"Instagram\",\"Instagram\",\"Instagram\",\"Twitter\",\"Instagram\",\"Facebook\",\"Instagram\",\"LinkedIn\",\"Instagram\",\"Instagram\",\"Instagram\",\"Twitter\",\"Instagram\",\"Facebook\",\"Instagram\",\"LinkedIn\",\"Instagram\",\"Instagram\",\"Instagram\",\"Twitter\",\"Instagram\",\"Instagram\",\"Instagram\",\"Facebook\",\"Instagram\",\"LinkedIn\",\"Instagram\",\"Instagram\",\"Instagram\",\"Twitter\",\"Instagram\",\"Instagram\",\"Instagram\",\"Facebook\",\"Instagram\",\"LinkedIn\",\"Instagram\",\"Instagram\",\"Instagram\",\"Twitter\",\"Instagram\",\"Facebook\",\"Instagram\",\"LinkedIn\",\"Instagram\",\"Instagram\",\"Instagram\",\"Twitter\",\"Instagram\",\"Facebook\",\"Instagram\",\"Instagram\",\"Instagram\",\"LinkedIn\",\"Instagram\",\"Instagram\",\"Instagram\",\"Twitter\",\"Instagram\",\"Facebook\",\"Instagram\",\"Instagram\",\"Instagram\",\"LinkedIn\",\"Instagram\",\"Whatsapp\",\"Instagram\",\"Telegram\",\"Instagram\",\"Snapchat\",\"Instagram\",\"Twitter\",\"Instagram\",\"Facebook\",\"Instagram\",\"Instagram\",\"Instagram\",\"Whatsapp\",\"Instagram\",\"Telegram\",\"Instagram\",\"Snapchat\",\"Instagram\",\"Twitter\",\"Instagram\",\"Facebook\",\"Instagram\",\"Instagram\",\"Instagram\",\"Whatsapp\",\"Instagram\",\"Telegram\",\"Instagram\",\"Snapchat\",\"Instagram\",\"Instagram\",\"Instagram\",\"Twitter\",\"Instagram\",\"Facebook\",\"Instagram\",\"Whatsapp\",\"Instagram\",\"Telegram\",\"Instagram\",\"Snapchat\",\"Instagram\",\"Instagram\",\"Instagram\",\"Twitter\",\"Instagram\",\"Facebook\",\"Instagram\",\"Whatsapp\",\"Instagram\",\"Telegram\",\"Instagram\",\"Snapchat\",\"Instagram\",\"Instagram\",\"Instagram\",\"Twitter\",\"Instagram\",\"Facebook\",\"Instagram\",\"Whatsapp\",\"Instagram\",\"Telegram\",\"Instagram\",\"Snapchat\",\"Instagram\",\"Instagram\",\"Instagram\",\"Twitter\",\"Instagram\",\"Facebook\",\"Instagram\",\"Whatsapp\",\"Instagram\",\"Telegram\",\"Instagram\",\"Snapchat\",\"Instagram\",\"Instagram\",\"Instagram\",\"Twitter\",\"Instagram\",\"Facebook\",\"Instagram\",\"Whatsapp\",\"Instagram\",\"Telegram\",\"Instagram\",\"Snapchat\",\"Instagram\",\"Instagram\",\"Instagram\",\"Twitter\",\"Instagram\",\"Facebook\",\"Instagram\",\"Instagram\",\"Instagram\",\"LinkedIn\",\"Instagram\",\"Instagram\",\"Instagram\",\"Twitter\",\"Instagram\",\"Facebook\",\"Instagram\",\"LinkedIn\",\"Instagram\",\"Instagram\",\"Instagram\",\"Twitter\",\"Instagram\",\"Facebook\",\"Instagram\",\"LinkedIn\",\"Instagram\",\"Instagram\",\"Instagram\",\"Twitter\",\"Instagram\",\"Facebook\",\"Instagram\",\"Instagram\",\"Instagram\",\"Twitter\",\"Instagram\",\"LinkedIn\",\"Instagram\",\"Instagram\",\"Instagram\",\"Facebook\",\"Instagram\",\"Twitter\",\"Instagram\",\"LinkedIn\",\"Instagram\",\"Instagram\",\"Instagram\",\"Twitter\",\"Instagram\",\"Facebook\",\"Instagram\",\"LinkedIn\",\"Instagram\",\"Instagram\",\"Instagram\",\"Twitter\",\"Instagram\",\"Facebook\",\"Instagram\",\"LinkedIn\",\"Instagram\",\"Instagram\",\"Instagram\",\"Twitter\",\"Instagram\",\"Instagram\",\"Instagram\",\"Facebook\",\"Instagram\",\"LinkedIn\",\"Instagram\",\"Instagram\",\"Instagram\",\"Twitter\",\"Instagram\",\"Instagram\",\"Instagram\",\"Facebook\",\"Instagram\",\"LinkedIn\",\"Instagram\",\"Instagram\",\"Instagram\",\"Twitter\",\"Instagram\",\"Facebook\",\"Instagram\",\"LinkedIn\",\"Instagram\",\"Instagram\",\"Instagram\",\"Twitter\",\"Instagram\",\"Facebook\",\"Instagram\",\"Instagram\",\"Instagram\",\"LinkedIn\",\"Instagram\",\"Instagram\",\"Instagram\",\"Twitter\",\"Instagram\",\"Facebook\",\"Instagram\",\"Instagram\",\"Instagram\",\"LinkedIn\",\"Instagram\",\"Whatsapp\",\"Instagram\",\"Telegram\",\"Instagram\",\"Snapchat\",\"Instagram\",\"Twitter\",\"Instagram\",\"Facebook\",\"Instagram\",\"Instagram\",\"Instagram\",\"Whatsapp\",\"Instagram\",\"Telegram\",\"Instagram\",\"Snapchat\",\"Instagram\",\"Twitter\",\"Instagram\",\"Facebook\",\"Instagram\",\"Instagram\",\"Instagram\",\"Whatsapp\",\"Instagram\",\"Telegram\",\"Instagram\",\"Snapchat\",\"Instagram\",\"Instagram\",\"Instagram\",\"Twitter\",\"Instagram\",\"Facebook\",\"Instagram\",\"Whatsapp\",\"Instagram\",\"Telegram\",\"Instagram\",\"Snapchat\",\"Instagram\",\"Instagram\",\"Instagram\",\"Twitter\",\"Instagram\",\"Facebook\",\"Instagram\",\"Whatsapp\",\"Instagram\",\"Telegram\",\"Instagram\",\"Snapchat\",\"Instagram\",\"Instagram\",\"Instagram\",\"Twitter\",\"Instagram\",\"Facebook\",\"Instagram\",\"Whatsapp\",\"Instagram\",\"Telegram\",\"Instagram\",\"Snapchat\",\"Instagram\",\"Instagram\",\"Instagram\",\"Twitter\",\"Instagram\",\"Facebook\",\"Instagram\",\"Whatsapp\",\"Instagram\",\"Telegram\",\"Instagram\",\"Snapchat\",\"Instagram\",\"Instagram\",\"Instagram\",\"Twitter\",\"Instagram\",\"Facebook\",\"Instagram\",\"Whatsapp\",\"Instagram\",\"Telegram\",\"Instagram\",\"Snapchat\",\"Instagram\",\"Instagram\",\"Instagram\",\"Twitter\",\"Instagram\",\"Facebook\",\"Instagram\",\"Instagram\",\"Instagram\",\"LinkedIn\",\"Instagram\",\"Instagram\",\"Instagram\",\"Twitter\",\"Instagram\",\"Facebook\",\"Instagram\",\"LinkedIn\",\"Instagram\",\"Instagram\",\"Instagram\",\"Twitter\",\"Instagram\",\"Facebook\",\"Instagram\",\"LinkedIn\",\"Instagram\",\"Instagram\",\"Instagram\",\"Twitter\",\"Instagram\",\"Facebook\",\"Instagram\",\"Instagram\",\"Instagram\",\"Twitter\",\"Instagram\",\"LinkedIn\",\"Instagram\",\"Instagram\",\"Instagram\",\"Facebook\",\"Instagram\",\"Twitter\",\"Instagram\",\"LinkedIn\",\"Instagram\",\"Instagram\",\"Instagram\",\"Twitter\",\"Instagram\",\"Facebook\",\"Instagram\",\"LinkedIn\",\"Instagram\",\"Instagram\",\"Instagram\",\"Twitter\",\"Instagram\",\"Facebook\",\"Instagram\",\"LinkedIn\",\"Instagram\",\"Instagram\",\"Instagram\",\"Twitter\",\"Instagram\",\"Instagram\",\"Instagram\",\"Facebook\",\"Instagram\",\"LinkedIn\",\"Instagram\",\"Instagram\",\"Instagram\",\"Twitter\",\"Instagram\",\"Instagram\",\"Instagram\",\"Facebook\",\"Instagram\",\"LinkedIn\",\"Instagram\",\"Instagram\",\"Instagram\",\"Twitter\",\"Instagram\",\"Facebook\",\"Instagram\",\"LinkedIn\",\"Instagram\",\"Instagram\",\"Instagram\",\"Twitter\",\"Instagram\",\"Facebook\",\"Instagram\",\"Instagram\",\"Instagram\",\"LinkedIn\",\"Instagram\",\"Instagram\",\"Instagram\",\"Twitter\",\"Instagram\",\"Facebook\",\"Instagram\",\"Instagram\",\"Instagram\",\"LinkedIn\",\"Instagram\",\"Whatsapp\",\"Instagram\",\"Telegram\",\"Instagram\",\"Snapchat\",\"Instagram\",\"Twitter\",\"Instagram\",\"Facebook\",\"Instagram\",\"Instagram\",\"Instagram\",\"Whatsapp\",\"Instagram\",\"Telegram\",\"Instagram\",\"Snapchat\",\"Instagram\",\"Twitter\",\"Instagram\",\"Facebook\",\"Instagram\",\"Instagram\",\"Instagram\",\"Whatsapp\",\"Instagram\",\"Telegram\",\"Instagram\",\"Snapchat\",\"Instagram\",\"Instagram\",\"Instagram\",\"Twitter\",\"Instagram\",\"Facebook\",\"Instagram\",\"Whatsapp\",\"Instagram\",\"Telegram\",\"Instagram\",\"Snapchat\",\"Instagram\",\"Instagram\",\"Instagram\",\"Twitter\",\"Instagram\",\"Facebook\",\"Instagram\",\"Whatsapp\",\"Instagram\",\"Telegram\",\"Instagram\",\"Snapchat\",\"Instagram\",\"Instagram\",\"Instagram\",\"Twitter\",\"Instagram\",\"Facebook\",\"Instagram\",\"Whatsapp\",\"Instagram\",\"Telegram\",\"Instagram\",\"Snapchat\",\"Instagram\",\"Instagram\",\"Instagram\",\"Twitter\",\"Instagram\",\"Facebook\",\"Instagram\",\"Whatsapp\",\"Instagram\",\"Telegram\",\"Instagram\",\"Snapchat\",\"Instagram\",\"Instagram\",\"Instagram\",\"Twitter\",\"Instagram\",\"Facebook\",\"Instagram\",\"Whatsapp\",\"Instagram\",\"Telegram\",\"Instagram\",\"Snapchat\"],\"xaxis\":\"x\",\"yaxis\":\"y\",\"type\":\"histogram\"}],                        {\"template\":{\"data\":{\"histogram2dcontour\":[{\"type\":\"histogram2dcontour\",\"colorbar\":{\"outlinewidth\":0,\"ticks\":\"\"},\"colorscale\":[[0.0,\"#0d0887\"],[0.1111111111111111,\"#46039f\"],[0.2222222222222222,\"#7201a8\"],[0.3333333333333333,\"#9c179e\"],[0.4444444444444444,\"#bd3786\"],[0.5555555555555556,\"#d8576b\"],[0.6666666666666666,\"#ed7953\"],[0.7777777777777778,\"#fb9f3a\"],[0.8888888888888888,\"#fdca26\"],[1.0,\"#f0f921\"]]}],\"choropleth\":[{\"type\":\"choropleth\",\"colorbar\":{\"outlinewidth\":0,\"ticks\":\"\"}}],\"histogram2d\":[{\"type\":\"histogram2d\",\"colorbar\":{\"outlinewidth\":0,\"ticks\":\"\"},\"colorscale\":[[0.0,\"#0d0887\"],[0.1111111111111111,\"#46039f\"],[0.2222222222222222,\"#7201a8\"],[0.3333333333333333,\"#9c179e\"],[0.4444444444444444,\"#bd3786\"],[0.5555555555555556,\"#d8576b\"],[0.6666666666666666,\"#ed7953\"],[0.7777777777777778,\"#fb9f3a\"],[0.8888888888888888,\"#fdca26\"],[1.0,\"#f0f921\"]]}],\"heatmap\":[{\"type\":\"heatmap\",\"colorbar\":{\"outlinewidth\":0,\"ticks\":\"\"},\"colorscale\":[[0.0,\"#0d0887\"],[0.1111111111111111,\"#46039f\"],[0.2222222222222222,\"#7201a8\"],[0.3333333333333333,\"#9c179e\"],[0.4444444444444444,\"#bd3786\"],[0.5555555555555556,\"#d8576b\"],[0.6666666666666666,\"#ed7953\"],[0.7777777777777778,\"#fb9f3a\"],[0.8888888888888888,\"#fdca26\"],[1.0,\"#f0f921\"]]}],\"heatmapgl\":[{\"type\":\"heatmapgl\",\"colorbar\":{\"outlinewidth\":0,\"ticks\":\"\"},\"colorscale\":[[0.0,\"#0d0887\"],[0.1111111111111111,\"#46039f\"],[0.2222222222222222,\"#7201a8\"],[0.3333333333333333,\"#9c179e\"],[0.4444444444444444,\"#bd3786\"],[0.5555555555555556,\"#d8576b\"],[0.6666666666666666,\"#ed7953\"],[0.7777777777777778,\"#fb9f3a\"],[0.8888888888888888,\"#fdca26\"],[1.0,\"#f0f921\"]]}],\"contourcarpet\":[{\"type\":\"contourcarpet\",\"colorbar\":{\"outlinewidth\":0,\"ticks\":\"\"}}],\"contour\":[{\"type\":\"contour\",\"colorbar\":{\"outlinewidth\":0,\"ticks\":\"\"},\"colorscale\":[[0.0,\"#0d0887\"],[0.1111111111111111,\"#46039f\"],[0.2222222222222222,\"#7201a8\"],[0.3333333333333333,\"#9c179e\"],[0.4444444444444444,\"#bd3786\"],[0.5555555555555556,\"#d8576b\"],[0.6666666666666666,\"#ed7953\"],[0.7777777777777778,\"#fb9f3a\"],[0.8888888888888888,\"#fdca26\"],[1.0,\"#f0f921\"]]}],\"surface\":[{\"type\":\"surface\",\"colorbar\":{\"outlinewidth\":0,\"ticks\":\"\"},\"colorscale\":[[0.0,\"#0d0887\"],[0.1111111111111111,\"#46039f\"],[0.2222222222222222,\"#7201a8\"],[0.3333333333333333,\"#9c179e\"],[0.4444444444444444,\"#bd3786\"],[0.5555555555555556,\"#d8576b\"],[0.6666666666666666,\"#ed7953\"],[0.7777777777777778,\"#fb9f3a\"],[0.8888888888888888,\"#fdca26\"],[1.0,\"#f0f921\"]]}],\"mesh3d\":[{\"type\":\"mesh3d\",\"colorbar\":{\"outlinewidth\":0,\"ticks\":\"\"}}],\"scatter\":[{\"fillpattern\":{\"fillmode\":\"overlay\",\"size\":10,\"solidity\":0.2},\"type\":\"scatter\"}],\"parcoords\":[{\"type\":\"parcoords\",\"line\":{\"colorbar\":{\"outlinewidth\":0,\"ticks\":\"\"}}}],\"scatterpolargl\":[{\"type\":\"scatterpolargl\",\"marker\":{\"colorbar\":{\"outlinewidth\":0,\"ticks\":\"\"}}}],\"bar\":[{\"error_x\":{\"color\":\"#2a3f5f\"},\"error_y\":{\"color\":\"#2a3f5f\"},\"marker\":{\"line\":{\"color\":\"#E5ECF6\",\"width\":0.5},\"pattern\":{\"fillmode\":\"overlay\",\"size\":10,\"solidity\":0.2}},\"type\":\"bar\"}],\"scattergeo\":[{\"type\":\"scattergeo\",\"marker\":{\"colorbar\":{\"outlinewidth\":0,\"ticks\":\"\"}}}],\"scatterpolar\":[{\"type\":\"scatterpolar\",\"marker\":{\"colorbar\":{\"outlinewidth\":0,\"ticks\":\"\"}}}],\"histogram\":[{\"marker\":{\"pattern\":{\"fillmode\":\"overlay\",\"size\":10,\"solidity\":0.2}},\"type\":\"histogram\"}],\"scattergl\":[{\"type\":\"scattergl\",\"marker\":{\"colorbar\":{\"outlinewidth\":0,\"ticks\":\"\"}}}],\"scatter3d\":[{\"type\":\"scatter3d\",\"line\":{\"colorbar\":{\"outlinewidth\":0,\"ticks\":\"\"}},\"marker\":{\"colorbar\":{\"outlinewidth\":0,\"ticks\":\"\"}}}],\"scattermapbox\":[{\"type\":\"scattermapbox\",\"marker\":{\"colorbar\":{\"outlinewidth\":0,\"ticks\":\"\"}}}],\"scatterternary\":[{\"type\":\"scatterternary\",\"marker\":{\"colorbar\":{\"outlinewidth\":0,\"ticks\":\"\"}}}],\"scattercarpet\":[{\"type\":\"scattercarpet\",\"marker\":{\"colorbar\":{\"outlinewidth\":0,\"ticks\":\"\"}}}],\"carpet\":[{\"aaxis\":{\"endlinecolor\":\"#2a3f5f\",\"gridcolor\":\"white\",\"linecolor\":\"white\",\"minorgridcolor\":\"white\",\"startlinecolor\":\"#2a3f5f\"},\"baxis\":{\"endlinecolor\":\"#2a3f5f\",\"gridcolor\":\"white\",\"linecolor\":\"white\",\"minorgridcolor\":\"white\",\"startlinecolor\":\"#2a3f5f\"},\"type\":\"carpet\"}],\"table\":[{\"cells\":{\"fill\":{\"color\":\"#EBF0F8\"},\"line\":{\"color\":\"white\"}},\"header\":{\"fill\":{\"color\":\"#C8D4E3\"},\"line\":{\"color\":\"white\"}},\"type\":\"table\"}],\"barpolar\":[{\"marker\":{\"line\":{\"color\":\"#E5ECF6\",\"width\":0.5},\"pattern\":{\"fillmode\":\"overlay\",\"size\":10,\"solidity\":0.2}},\"type\":\"barpolar\"}],\"pie\":[{\"automargin\":true,\"type\":\"pie\"}]},\"layout\":{\"autotypenumbers\":\"strict\",\"colorway\":[\"#636efa\",\"#EF553B\",\"#00cc96\",\"#ab63fa\",\"#FFA15A\",\"#19d3f3\",\"#FF6692\",\"#B6E880\",\"#FF97FF\",\"#FECB52\"],\"font\":{\"color\":\"#2a3f5f\"},\"hovermode\":\"closest\",\"hoverlabel\":{\"align\":\"left\"},\"paper_bgcolor\":\"white\",\"plot_bgcolor\":\"#E5ECF6\",\"polar\":{\"bgcolor\":\"#E5ECF6\",\"angularaxis\":{\"gridcolor\":\"white\",\"linecolor\":\"white\",\"ticks\":\"\"},\"radialaxis\":{\"gridcolor\":\"white\",\"linecolor\":\"white\",\"ticks\":\"\"}},\"ternary\":{\"bgcolor\":\"#E5ECF6\",\"aaxis\":{\"gridcolor\":\"white\",\"linecolor\":\"white\",\"ticks\":\"\"},\"baxis\":{\"gridcolor\":\"white\",\"linecolor\":\"white\",\"ticks\":\"\"},\"caxis\":{\"gridcolor\":\"white\",\"linecolor\":\"white\",\"ticks\":\"\"}},\"coloraxis\":{\"colorbar\":{\"outlinewidth\":0,\"ticks\":\"\"}},\"colorscale\":{\"sequential\":[[0.0,\"#0d0887\"],[0.1111111111111111,\"#46039f\"],[0.2222222222222222,\"#7201a8\"],[0.3333333333333333,\"#9c179e\"],[0.4444444444444444,\"#bd3786\"],[0.5555555555555556,\"#d8576b\"],[0.6666666666666666,\"#ed7953\"],[0.7777777777777778,\"#fb9f3a\"],[0.8888888888888888,\"#fdca26\"],[1.0,\"#f0f921\"]],\"sequentialminus\":[[0.0,\"#0d0887\"],[0.1111111111111111,\"#46039f\"],[0.2222222222222222,\"#7201a8\"],[0.3333333333333333,\"#9c179e\"],[0.4444444444444444,\"#bd3786\"],[0.5555555555555556,\"#d8576b\"],[0.6666666666666666,\"#ed7953\"],[0.7777777777777778,\"#fb9f3a\"],[0.8888888888888888,\"#fdca26\"],[1.0,\"#f0f921\"]],\"diverging\":[[0,\"#8e0152\"],[0.1,\"#c51b7d\"],[0.2,\"#de77ae\"],[0.3,\"#f1b6da\"],[0.4,\"#fde0ef\"],[0.5,\"#f7f7f7\"],[0.6,\"#e6f5d0\"],[0.7,\"#b8e186\"],[0.8,\"#7fbc41\"],[0.9,\"#4d9221\"],[1,\"#276419\"]]},\"xaxis\":{\"gridcolor\":\"white\",\"linecolor\":\"white\",\"ticks\":\"\",\"title\":{\"standoff\":15},\"zerolinecolor\":\"white\",\"automargin\":true,\"zerolinewidth\":2},\"yaxis\":{\"gridcolor\":\"white\",\"linecolor\":\"white\",\"ticks\":\"\",\"title\":{\"standoff\":15},\"zerolinecolor\":\"white\",\"automargin\":true,\"zerolinewidth\":2},\"scene\":{\"xaxis\":{\"backgroundcolor\":\"#E5ECF6\",\"gridcolor\":\"white\",\"linecolor\":\"white\",\"showbackground\":true,\"ticks\":\"\",\"zerolinecolor\":\"white\",\"gridwidth\":2},\"yaxis\":{\"backgroundcolor\":\"#E5ECF6\",\"gridcolor\":\"white\",\"linecolor\":\"white\",\"showbackground\":true,\"ticks\":\"\",\"zerolinecolor\":\"white\",\"gridwidth\":2},\"zaxis\":{\"backgroundcolor\":\"#E5ECF6\",\"gridcolor\":\"white\",\"linecolor\":\"white\",\"showbackground\":true,\"ticks\":\"\",\"zerolinecolor\":\"white\",\"gridwidth\":2}},\"shapedefaults\":{\"line\":{\"color\":\"#2a3f5f\"}},\"annotationdefaults\":{\"arrowcolor\":\"#2a3f5f\",\"arrowhead\":0,\"arrowwidth\":1},\"geo\":{\"bgcolor\":\"white\",\"landcolor\":\"#E5ECF6\",\"subunitcolor\":\"white\",\"showland\":true,\"showlakes\":true,\"lakecolor\":\"white\"},\"title\":{\"x\":0.05},\"mapbox\":{\"style\":\"light\"}}},\"xaxis\":{\"anchor\":\"y\",\"domain\":[0.0,1.0],\"title\":{\"text\":\"Platform\"}},\"yaxis\":{\"anchor\":\"x\",\"domain\":[0.0,1.0],\"title\":{\"text\":\"count\"}},\"legend\":{\"tracegroupgap\":0},\"title\":{\"text\":\"Platform Distribution\"},\"barmode\":\"relative\"},                        {\"responsive\": true}                    ).then(function(){\n",
              "                            \n",
              "var gd = document.getElementById('1c71544d-d97a-4b47-b514-9cfbaa7133d5');\n",
              "var x = new MutationObserver(function (mutations, observer) {{\n",
              "        var display = window.getComputedStyle(gd).display;\n",
              "        if (!display || display === 'none') {{\n",
              "            console.log([gd, 'removed!']);\n",
              "            Plotly.purge(gd);\n",
              "            observer.disconnect();\n",
              "        }}\n",
              "}});\n",
              "\n",
              "// Listen for the removal of the full notebook cells\n",
              "var notebookContainer = gd.closest('#notebook-container');\n",
              "if (notebookContainer) {{\n",
              "    x.observe(notebookContainer, {childList: true});\n",
              "}}\n",
              "\n",
              "// Listen for the clearing of the current output cell\n",
              "var outputEl = gd.closest('.output');\n",
              "if (outputEl) {{\n",
              "    x.observe(outputEl, {childList: true});\n",
              "}}\n",
              "\n",
              "                        })                };                            </script>        </div>\n",
              "</body>\n",
              "</html>"
            ]
          },
          "metadata": {}
        }
      ]
    },
    {
      "cell_type": "markdown",
      "source": [
        "### Daily Usage Time (minutes) Distribution"
      ],
      "metadata": {
        "id": "80OmjVwTFBgn"
      }
    },
    {
      "cell_type": "code",
      "source": [
        "plt = px.histogram(train_df, x='Daily_Usage_Time (minutes)', title='Daily Usage Time Distribution')\n",
        "plt.show()"
      ],
      "metadata": {
        "id": "NhY591E7FBgn",
        "outputId": "fb1d9e11-e3b7-4a58-e7d1-13453eda7378",
        "colab": {
          "base_uri": "https://localhost:8080/",
          "height": 542
        }
      },
      "execution_count": null,
      "outputs": [
        {
          "output_type": "display_data",
          "data": {
            "text/html": [
              "<html>\n",
              "<head><meta charset=\"utf-8\" /></head>\n",
              "<body>\n",
              "    <div>            <script src=\"https://cdnjs.cloudflare.com/ajax/libs/mathjax/2.7.5/MathJax.js?config=TeX-AMS-MML_SVG\"></script><script type=\"text/javascript\">if (window.MathJax && window.MathJax.Hub && window.MathJax.Hub.Config) {window.MathJax.Hub.Config({SVG: {font: \"STIX-Web\"}});}</script>                <script type=\"text/javascript\">window.PlotlyConfig = {MathJaxConfig: 'local'};</script>\n",
              "        <script charset=\"utf-8\" src=\"https://cdn.plot.ly/plotly-2.35.2.min.js\"></script>                <div id=\"e068f2fc-0d43-4502-9539-1aa02ca310e4\" class=\"plotly-graph-div\" style=\"height:525px; width:100%;\"></div>            <script type=\"text/javascript\">                                    window.PLOTLYENV=window.PLOTLYENV || {};                                    if (document.getElementById(\"e068f2fc-0d43-4502-9539-1aa02ca310e4\")) {                    Plotly.newPlot(                        \"e068f2fc-0d43-4502-9539-1aa02ca310e4\",                        [{\"alignmentgroup\":\"True\",\"bingroup\":\"x\",\"hovertemplate\":\"Daily_Usage_Time (minutes)=%{x}\\u003cbr\\u003ecount=%{y}\\u003cextra\\u003e\\u003c\\u002fextra\\u003e\",\"legendgroup\":\"\",\"marker\":{\"color\":\"#636efa\",\"pattern\":{\"shape\":\"\"}},\"name\":\"\",\"offsetgroup\":\"\",\"orientation\":\"v\",\"showlegend\":false,\"x\":[null,120.0,null,90.0,null,60.0,null,200.0,null,45.0,null,150.0,null,85.0,null,110.0,null,55.0,null,170.0,null,75.0,null,95.0,null,65.0,null,180.0,null,100.0,null,40.0,null,125.0,null,90.0,null,50.0,null,140.0,null,75.0,null,105.0,null,60.0,null,190.0,null,70.0,null,80.0,null,55.0,null,160.0,null,90.0,null,45.0,null,65.0,null,145.0,null,70.0,null,130.0,null,65.0,null,55.0,null,170.0,null,85.0,null,115.0,null,100.0,null,45.0,null,150.0,null,95.0,null,105.0,null,60.0,null,175.0,null,90.0,null,75.0,null,130.0,null,55.0,null,165.0,null,75.0,null,85.0,null,145.0,null,60.0,null,70.0,null,90.0,null,50.0,null,95.0,null,60.0,null,175.0,null,70.0,null,80.0,null,120.0,null,90.0,null,60.0,null,165.0,null,65.0,null,105.0,null,75.0,null,140.0,null,70.0,null,55.0,null,90.0,null,80.0,null,115.0,null,155.0,null,75.0,null,65.0,null,90.0,null,50.0,null,85.0,null,120.0,null,70.0,null,75.0,null,100.0,null,85.0,null,60.0,null,170.0,null,70.0,null,50.0,null,105.0,null,75.0,null,95.0,null,150.0,null,85.0,null,70.0,null,110.0,null,60.0,null,120.0,null,120.0,null,90.0,null,60.0,null,200.0,null,45.0,null,150.0,null,85.0,null,110.0,null,55.0,null,170.0,null,75.0,null,95.0,null,65.0,null,180.0,null,100.0,null,40.0,null,125.0,null,90.0,null,50.0,null,140.0,null,75.0,null,105.0,null,60.0,null,190.0,null,70.0,null,80.0,null,55.0,null,160.0,null,90.0,null,45.0,null,65.0,null,145.0,null,70.0,null,130.0,null,65.0,null,55.0,null,170.0,null,85.0,null,115.0,null,100.0,null,45.0,null,150.0,null,95.0,null,105.0,null,60.0,null,175.0,null,90.0,null,75.0,null,130.0,null,55.0,null,165.0,null,75.0,null,85.0,null,145.0,null,60.0,null,70.0,null,90.0,null,50.0,null,95.0,null,60.0,null,175.0,null,70.0,null,80.0,null,120.0,null,90.0,null,60.0,null,165.0,null,65.0,null,105.0,null,75.0,null,140.0,null,70.0,null,55.0,null,90.0,null,80.0,null,115.0,null,155.0,null,75.0,null,65.0,null,90.0,null,50.0,null,85.0,null,120.0,null,70.0,null,75.0,null,100.0,null,85.0,null,60.0,null,170.0,null,70.0,null,50.0,null,105.0,null,75.0,null,95.0,null,150.0,null,85.0,null,70.0,null,110.0,null,60.0,null,120.0,null,120.0,null,90.0,null,60.0,null,200.0,null,45.0,null,150.0,null,85.0,null,110.0,null,55.0,null,170.0,null,75.0,null,95.0,null,65.0,null,180.0,null,100.0,null,40.0,null,125.0,null,90.0,null,50.0,null,140.0,null,75.0,null,105.0,null,60.0,null,190.0,null,70.0,null,80.0,null,55.0,null,160.0,null,90.0,null,45.0,null,65.0,null,145.0,null,70.0,null,130.0,null,65.0,null,55.0,null,170.0,null,85.0,null,115.0,null,100.0,null,45.0,null,150.0,null,95.0,null,105.0,null,60.0,null,175.0,null,90.0,null,75.0,null,130.0,null,55.0,null,165.0,null,75.0,null,85.0,null,145.0,null,60.0,null,70.0,null,90.0,null,50.0,null,95.0,null,60.0,null,175.0,null,70.0,null,80.0,null,120.0,null,90.0,null,60.0,null,165.0,null,65.0,null,105.0,null,75.0,null,140.0,null,70.0,null,55.0,null,90.0,null,80.0,null,115.0,null,155.0,null,75.0,null,65.0,null,90.0,null,50.0,null,85.0,null,120.0,null,70.0,null,75.0,null,100.0,null,85.0,null,60.0,null,170.0,null,70.0,null,50.0,null,105.0,null,75.0,null,95.0,null,150.0,null,85.0,null,70.0,null,110.0,null,60.0,null,120.0,null,120.0,null,90.0,null,60.0,null,200.0,null,45.0,null,150.0,null,85.0,null,110.0,null,55.0,null,170.0,null,75.0,null,95.0,null,65.0,null,180.0,null,100.0,null,40.0,null,125.0,null,90.0,null,50.0,null,140.0,null,75.0,null,105.0,null,60.0,null,190.0,null,70.0,null,80.0,null,55.0,null,160.0,null,90.0,null,45.0,null,65.0,null,145.0,null,70.0,null,130.0,null,65.0,null,55.0,null,170.0,null,85.0,null,115.0,null,100.0,null,45.0,null,150.0,null,95.0,null,105.0,null,60.0,null,175.0,null,90.0,null,75.0,null,130.0,null,55.0,null,165.0,null,75.0,null,85.0,null,145.0,null,60.0,null,70.0,null,90.0,null,50.0,null,95.0,null,60.0,null,175.0,null,70.0,null,80.0,null,120.0,null,90.0,null,60.0,null,165.0,null,65.0,null,105.0,null,75.0,null,140.0,null,70.0,null,55.0,null,90.0,null,80.0,null,115.0,null,155.0,null,75.0,null,65.0,null,90.0,null,50.0,null,85.0,null,120.0,null,70.0,null,75.0,null,100.0,null,85.0,null,60.0,null,170.0,null,70.0,null,50.0,null,105.0,null,75.0,null,95.0,null,150.0,null,85.0,null,70.0,null,110.0,null,60.0,null,120.0,null,120.0,null,90.0,null,60.0,null,200.0,null,45.0,null,150.0,null,85.0,null,110.0,null,55.0,null,170.0,null,75.0,null,95.0,null,65.0,null,180.0,null,100.0,null,40.0,null,125.0,null,90.0,null,50.0,null,140.0,null,75.0,null,105.0,null,60.0,null,190.0,null,70.0,null,80.0,null,55.0,null,160.0,null,90.0,null,45.0,null,65.0,null,145.0,null,70.0,null,130.0,null,65.0,null,55.0,null,170.0,null,85.0,null,115.0,null,100.0,null,45.0,null,150.0,null,95.0,null,105.0,null,60.0,null,175.0,null,90.0,null,75.0,null,130.0,null,55.0,null,165.0,null,75.0,null,85.0,null,145.0,null,60.0,null,70.0,null,90.0,null,50.0,null,95.0,null,60.0,null,175.0,null,70.0,null,80.0,null,120.0,null,90.0,null,60.0,null,165.0,null,65.0,null,105.0,null,75.0,null,140.0,null,70.0,null,55.0,null,90.0,null,80.0,null,115.0,null,155.0,null,75.0,null,65.0,null,90.0,null,50.0,null,85.0,null,120.0,null,70.0,null,75.0,null,100.0,null,85.0,null,60.0,null,170.0,null,70.0,null,50.0,null,105.0,null,75.0,null,95.0,null,150.0,null,85.0,null,70.0,null,110.0,null,60.0,null,120.0,null,120.0,null,90.0,null,60.0,null,200.0,null,45.0,null,150.0,null,85.0,null,110.0,null,55.0,null,170.0,null,75.0,null,95.0,null,65.0,null,180.0,null,100.0,null,40.0,null,125.0,null,90.0,null,50.0,null,140.0,null,75.0,null,105.0,null,60.0,null,190.0,null,70.0,null,80.0,null,55.0,null,160.0,null,90.0,null,45.0,null,65.0,null,145.0,null,70.0,null,130.0,null,65.0,null,55.0,null,170.0,null,85.0,null,115.0,null,100.0,null,45.0,null,150.0,null,95.0,null,105.0,null,60.0,null,175.0,null,90.0,null,75.0,null,130.0,null,55.0,null,165.0,null,75.0,null,85.0,null,145.0,null,60.0,null,70.0,null,90.0,null,50.0,null,95.0,null,60.0,null,175.0,null,70.0,null,80.0,null,120.0,null,90.0,null,60.0,null,165.0,null,65.0,null,105.0,null,75.0,null,140.0,null,70.0,null,55.0,null,90.0,null,80.0,null,115.0,null,155.0,null,75.0,null,65.0,null,90.0,null,50.0,null,85.0,null,120.0,null,70.0,null,75.0,null,100.0,null,85.0,null,60.0,null,170.0,null,70.0,null,50.0,null,105.0,null,75.0,null,95.0,null,150.0,null,85.0,null,70.0,null,110.0,null,60.0,null,120.0,null,120.0,null,90.0,null,60.0,null,200.0,null,45.0,null,150.0,null,85.0,null,110.0,null,55.0,null,170.0,null,75.0,null,95.0,null,65.0,null,180.0,null,100.0,null,40.0,null,125.0,null,90.0,null,50.0,null,140.0,null,75.0,null,105.0,null,60.0,null,190.0,null,70.0,null,80.0,null,55.0,null,160.0,null,90.0,null,45.0,null,65.0,null,145.0,null,70.0,null,130.0,null,65.0,null,55.0,null,170.0,null,85.0,null,115.0,null,100.0,null,45.0,null,null,null,null,null,150.0,null,95.0,null,105.0,null,60.0,null,175.0,null,90.0,null,75.0,null,130.0,null,55.0,null,165.0,null,75.0,null,85.0,null,145.0,null,60.0,null,70.0,null,90.0,null,50.0,null,95.0,null,60.0,null,175.0,null,70.0,null,80.0,null,120.0,null,90.0,null,60.0,null,165.0,null,65.0,null,105.0,null,75.0,null,140.0,null,70.0,null,55.0,null,90.0,null,80.0,null,115.0,null,155.0,null,75.0,null,65.0,null,90.0,null,50.0,null,85.0,null,120.0,null,70.0,null,75.0,null,100.0,null,85.0,null,60.0,null,170.0,null,70.0,null,50.0,null,105.0,null,75.0,null,95.0,null,150.0,null,85.0,null,70.0,null,110.0,null,60.0,null,120.0,null,120.0,null,90.0,null,60.0,null,200.0,null,45.0,null,150.0,null,85.0,null,110.0,null,55.0,null,170.0,null,75.0,null,95.0,null,65.0,null,180.0,null,100.0,null,40.0,null,125.0,null,90.0,null,50.0,null,140.0,null,75.0,null,105.0,null,60.0,null,190.0,null,70.0,null,80.0,null,55.0,null,160.0,null,90.0,null,45.0,null,65.0,null,145.0,null,70.0,null,130.0,null,65.0,null,55.0,null,170.0,null,85.0,null,115.0,null,100.0,null,45.0,null,150.0,null,95.0,null,105.0,null,60.0,null,175.0,null,90.0,null,75.0,null,130.0,null,55.0,null,165.0,null,75.0,null,85.0,null,145.0,null,60.0,null,70.0,null,90.0,null,50.0,null,95.0,null,60.0,null,175.0,null,70.0,null,80.0,null,120.0,null,90.0,null,60.0,null,165.0,null,65.0,null,105.0,null,75.0,null,140.0,null,70.0,null,55.0,null,90.0,null,80.0,null,115.0,null,155.0,null,75.0,null,65.0,null,90.0,null,50.0,null,85.0,null,120.0,null,70.0,null,75.0,null,100.0,null,85.0,null,60.0,null,170.0,null,70.0,null,50.0,null,105.0,null,75.0,null,95.0,null,150.0,null,85.0,null,70.0,null,110.0,null,60.0,null,120.0,null,120.0,null,90.0,null,60.0,null,200.0,null,45.0,null,150.0,null,85.0,null,110.0,null,55.0,null,170.0,null,75.0,null,95.0,null,65.0,null,180.0,null,100.0,null,40.0,null,125.0,null,90.0,null,50.0,null,140.0,null,75.0,null,105.0,null,60.0,null,190.0,null,70.0,null,80.0,null,55.0,null,160.0,null,90.0,null,45.0,null,65.0,null,145.0,null,70.0,null,130.0,null,65.0,null,55.0,null,170.0,null,85.0,null,115.0,null,100.0,null,45.0,null,150.0,null,95.0,null,105.0,null,60.0,null,175.0,null,90.0,null,75.0,null,130.0,null,55.0,null,165.0,null,75.0,null,85.0,null,145.0,null,60.0,null,70.0,null,90.0,null,50.0,null,95.0,null,60.0,null,175.0,null,70.0,null,80.0,null,120.0,null,90.0,null,60.0,null,165.0,null,65.0,null,105.0,null,75.0,null,140.0,null,70.0,null,55.0,null,90.0,null,80.0,null,115.0,null,155.0,null,75.0,null,65.0,null,90.0,null,50.0,null,85.0,null,120.0,null,70.0,null,75.0,null,100.0,null,85.0,null,60.0,null,170.0,null,70.0,null,50.0,null,105.0,null,75.0,null,95.0,null,150.0,null,85.0,null,70.0,null,110.0,null,60.0,null,120.0,null,120.0,null,90.0,null,60.0,null,200.0,null,45.0,null,150.0,null,85.0,null,110.0,null,55.0,null,170.0,null,75.0,null,95.0,null,65.0,null,180.0,null,100.0,null,40.0,null,125.0,null,90.0,null,50.0,null,140.0,null,75.0,null,105.0,null,60.0,null,190.0,null,70.0,null,80.0,null,55.0,null,160.0,null,90.0,null,45.0,null,65.0,null,145.0,null,70.0,null,130.0,null,65.0,null,55.0,null,170.0,null,85.0,null,115.0,null,100.0,null,45.0,null,150.0,null,95.0,null,105.0,null,60.0,null,175.0,null,90.0,null,75.0,null,130.0,null,55.0,null,165.0,null,75.0,null,85.0,null,145.0,null,60.0,null,70.0,null,90.0,null,50.0,null,95.0,null,60.0,null,175.0,null,70.0,null,80.0,null,120.0,null,90.0,null,60.0,null,165.0,null,65.0,null,105.0,null,75.0,null,140.0,null,70.0,null,55.0,null,90.0,null,80.0,null,115.0,null,155.0,null,75.0,null,65.0,null,90.0,null,50.0,null,85.0,null,120.0,null,70.0,null,75.0,null,100.0,null,85.0,null,60.0,null,170.0,null,70.0,null,50.0,null,105.0,null,75.0,null,95.0,null,150.0,null,85.0,null,70.0,null,110.0,null,60.0,null,120.0],\"xaxis\":\"x\",\"yaxis\":\"y\",\"type\":\"histogram\"}],                        {\"template\":{\"data\":{\"histogram2dcontour\":[{\"type\":\"histogram2dcontour\",\"colorbar\":{\"outlinewidth\":0,\"ticks\":\"\"},\"colorscale\":[[0.0,\"#0d0887\"],[0.1111111111111111,\"#46039f\"],[0.2222222222222222,\"#7201a8\"],[0.3333333333333333,\"#9c179e\"],[0.4444444444444444,\"#bd3786\"],[0.5555555555555556,\"#d8576b\"],[0.6666666666666666,\"#ed7953\"],[0.7777777777777778,\"#fb9f3a\"],[0.8888888888888888,\"#fdca26\"],[1.0,\"#f0f921\"]]}],\"choropleth\":[{\"type\":\"choropleth\",\"colorbar\":{\"outlinewidth\":0,\"ticks\":\"\"}}],\"histogram2d\":[{\"type\":\"histogram2d\",\"colorbar\":{\"outlinewidth\":0,\"ticks\":\"\"},\"colorscale\":[[0.0,\"#0d0887\"],[0.1111111111111111,\"#46039f\"],[0.2222222222222222,\"#7201a8\"],[0.3333333333333333,\"#9c179e\"],[0.4444444444444444,\"#bd3786\"],[0.5555555555555556,\"#d8576b\"],[0.6666666666666666,\"#ed7953\"],[0.7777777777777778,\"#fb9f3a\"],[0.8888888888888888,\"#fdca26\"],[1.0,\"#f0f921\"]]}],\"heatmap\":[{\"type\":\"heatmap\",\"colorbar\":{\"outlinewidth\":0,\"ticks\":\"\"},\"colorscale\":[[0.0,\"#0d0887\"],[0.1111111111111111,\"#46039f\"],[0.2222222222222222,\"#7201a8\"],[0.3333333333333333,\"#9c179e\"],[0.4444444444444444,\"#bd3786\"],[0.5555555555555556,\"#d8576b\"],[0.6666666666666666,\"#ed7953\"],[0.7777777777777778,\"#fb9f3a\"],[0.8888888888888888,\"#fdca26\"],[1.0,\"#f0f921\"]]}],\"heatmapgl\":[{\"type\":\"heatmapgl\",\"colorbar\":{\"outlinewidth\":0,\"ticks\":\"\"},\"colorscale\":[[0.0,\"#0d0887\"],[0.1111111111111111,\"#46039f\"],[0.2222222222222222,\"#7201a8\"],[0.3333333333333333,\"#9c179e\"],[0.4444444444444444,\"#bd3786\"],[0.5555555555555556,\"#d8576b\"],[0.6666666666666666,\"#ed7953\"],[0.7777777777777778,\"#fb9f3a\"],[0.8888888888888888,\"#fdca26\"],[1.0,\"#f0f921\"]]}],\"contourcarpet\":[{\"type\":\"contourcarpet\",\"colorbar\":{\"outlinewidth\":0,\"ticks\":\"\"}}],\"contour\":[{\"type\":\"contour\",\"colorbar\":{\"outlinewidth\":0,\"ticks\":\"\"},\"colorscale\":[[0.0,\"#0d0887\"],[0.1111111111111111,\"#46039f\"],[0.2222222222222222,\"#7201a8\"],[0.3333333333333333,\"#9c179e\"],[0.4444444444444444,\"#bd3786\"],[0.5555555555555556,\"#d8576b\"],[0.6666666666666666,\"#ed7953\"],[0.7777777777777778,\"#fb9f3a\"],[0.8888888888888888,\"#fdca26\"],[1.0,\"#f0f921\"]]}],\"surface\":[{\"type\":\"surface\",\"colorbar\":{\"outlinewidth\":0,\"ticks\":\"\"},\"colorscale\":[[0.0,\"#0d0887\"],[0.1111111111111111,\"#46039f\"],[0.2222222222222222,\"#7201a8\"],[0.3333333333333333,\"#9c179e\"],[0.4444444444444444,\"#bd3786\"],[0.5555555555555556,\"#d8576b\"],[0.6666666666666666,\"#ed7953\"],[0.7777777777777778,\"#fb9f3a\"],[0.8888888888888888,\"#fdca26\"],[1.0,\"#f0f921\"]]}],\"mesh3d\":[{\"type\":\"mesh3d\",\"colorbar\":{\"outlinewidth\":0,\"ticks\":\"\"}}],\"scatter\":[{\"fillpattern\":{\"fillmode\":\"overlay\",\"size\":10,\"solidity\":0.2},\"type\":\"scatter\"}],\"parcoords\":[{\"type\":\"parcoords\",\"line\":{\"colorbar\":{\"outlinewidth\":0,\"ticks\":\"\"}}}],\"scatterpolargl\":[{\"type\":\"scatterpolargl\",\"marker\":{\"colorbar\":{\"outlinewidth\":0,\"ticks\":\"\"}}}],\"bar\":[{\"error_x\":{\"color\":\"#2a3f5f\"},\"error_y\":{\"color\":\"#2a3f5f\"},\"marker\":{\"line\":{\"color\":\"#E5ECF6\",\"width\":0.5},\"pattern\":{\"fillmode\":\"overlay\",\"size\":10,\"solidity\":0.2}},\"type\":\"bar\"}],\"scattergeo\":[{\"type\":\"scattergeo\",\"marker\":{\"colorbar\":{\"outlinewidth\":0,\"ticks\":\"\"}}}],\"scatterpolar\":[{\"type\":\"scatterpolar\",\"marker\":{\"colorbar\":{\"outlinewidth\":0,\"ticks\":\"\"}}}],\"histogram\":[{\"marker\":{\"pattern\":{\"fillmode\":\"overlay\",\"size\":10,\"solidity\":0.2}},\"type\":\"histogram\"}],\"scattergl\":[{\"type\":\"scattergl\",\"marker\":{\"colorbar\":{\"outlinewidth\":0,\"ticks\":\"\"}}}],\"scatter3d\":[{\"type\":\"scatter3d\",\"line\":{\"colorbar\":{\"outlinewidth\":0,\"ticks\":\"\"}},\"marker\":{\"colorbar\":{\"outlinewidth\":0,\"ticks\":\"\"}}}],\"scattermapbox\":[{\"type\":\"scattermapbox\",\"marker\":{\"colorbar\":{\"outlinewidth\":0,\"ticks\":\"\"}}}],\"scatterternary\":[{\"type\":\"scatterternary\",\"marker\":{\"colorbar\":{\"outlinewidth\":0,\"ticks\":\"\"}}}],\"scattercarpet\":[{\"type\":\"scattercarpet\",\"marker\":{\"colorbar\":{\"outlinewidth\":0,\"ticks\":\"\"}}}],\"carpet\":[{\"aaxis\":{\"endlinecolor\":\"#2a3f5f\",\"gridcolor\":\"white\",\"linecolor\":\"white\",\"minorgridcolor\":\"white\",\"startlinecolor\":\"#2a3f5f\"},\"baxis\":{\"endlinecolor\":\"#2a3f5f\",\"gridcolor\":\"white\",\"linecolor\":\"white\",\"minorgridcolor\":\"white\",\"startlinecolor\":\"#2a3f5f\"},\"type\":\"carpet\"}],\"table\":[{\"cells\":{\"fill\":{\"color\":\"#EBF0F8\"},\"line\":{\"color\":\"white\"}},\"header\":{\"fill\":{\"color\":\"#C8D4E3\"},\"line\":{\"color\":\"white\"}},\"type\":\"table\"}],\"barpolar\":[{\"marker\":{\"line\":{\"color\":\"#E5ECF6\",\"width\":0.5},\"pattern\":{\"fillmode\":\"overlay\",\"size\":10,\"solidity\":0.2}},\"type\":\"barpolar\"}],\"pie\":[{\"automargin\":true,\"type\":\"pie\"}]},\"layout\":{\"autotypenumbers\":\"strict\",\"colorway\":[\"#636efa\",\"#EF553B\",\"#00cc96\",\"#ab63fa\",\"#FFA15A\",\"#19d3f3\",\"#FF6692\",\"#B6E880\",\"#FF97FF\",\"#FECB52\"],\"font\":{\"color\":\"#2a3f5f\"},\"hovermode\":\"closest\",\"hoverlabel\":{\"align\":\"left\"},\"paper_bgcolor\":\"white\",\"plot_bgcolor\":\"#E5ECF6\",\"polar\":{\"bgcolor\":\"#E5ECF6\",\"angularaxis\":{\"gridcolor\":\"white\",\"linecolor\":\"white\",\"ticks\":\"\"},\"radialaxis\":{\"gridcolor\":\"white\",\"linecolor\":\"white\",\"ticks\":\"\"}},\"ternary\":{\"bgcolor\":\"#E5ECF6\",\"aaxis\":{\"gridcolor\":\"white\",\"linecolor\":\"white\",\"ticks\":\"\"},\"baxis\":{\"gridcolor\":\"white\",\"linecolor\":\"white\",\"ticks\":\"\"},\"caxis\":{\"gridcolor\":\"white\",\"linecolor\":\"white\",\"ticks\":\"\"}},\"coloraxis\":{\"colorbar\":{\"outlinewidth\":0,\"ticks\":\"\"}},\"colorscale\":{\"sequential\":[[0.0,\"#0d0887\"],[0.1111111111111111,\"#46039f\"],[0.2222222222222222,\"#7201a8\"],[0.3333333333333333,\"#9c179e\"],[0.4444444444444444,\"#bd3786\"],[0.5555555555555556,\"#d8576b\"],[0.6666666666666666,\"#ed7953\"],[0.7777777777777778,\"#fb9f3a\"],[0.8888888888888888,\"#fdca26\"],[1.0,\"#f0f921\"]],\"sequentialminus\":[[0.0,\"#0d0887\"],[0.1111111111111111,\"#46039f\"],[0.2222222222222222,\"#7201a8\"],[0.3333333333333333,\"#9c179e\"],[0.4444444444444444,\"#bd3786\"],[0.5555555555555556,\"#d8576b\"],[0.6666666666666666,\"#ed7953\"],[0.7777777777777778,\"#fb9f3a\"],[0.8888888888888888,\"#fdca26\"],[1.0,\"#f0f921\"]],\"diverging\":[[0,\"#8e0152\"],[0.1,\"#c51b7d\"],[0.2,\"#de77ae\"],[0.3,\"#f1b6da\"],[0.4,\"#fde0ef\"],[0.5,\"#f7f7f7\"],[0.6,\"#e6f5d0\"],[0.7,\"#b8e186\"],[0.8,\"#7fbc41\"],[0.9,\"#4d9221\"],[1,\"#276419\"]]},\"xaxis\":{\"gridcolor\":\"white\",\"linecolor\":\"white\",\"ticks\":\"\",\"title\":{\"standoff\":15},\"zerolinecolor\":\"white\",\"automargin\":true,\"zerolinewidth\":2},\"yaxis\":{\"gridcolor\":\"white\",\"linecolor\":\"white\",\"ticks\":\"\",\"title\":{\"standoff\":15},\"zerolinecolor\":\"white\",\"automargin\":true,\"zerolinewidth\":2},\"scene\":{\"xaxis\":{\"backgroundcolor\":\"#E5ECF6\",\"gridcolor\":\"white\",\"linecolor\":\"white\",\"showbackground\":true,\"ticks\":\"\",\"zerolinecolor\":\"white\",\"gridwidth\":2},\"yaxis\":{\"backgroundcolor\":\"#E5ECF6\",\"gridcolor\":\"white\",\"linecolor\":\"white\",\"showbackground\":true,\"ticks\":\"\",\"zerolinecolor\":\"white\",\"gridwidth\":2},\"zaxis\":{\"backgroundcolor\":\"#E5ECF6\",\"gridcolor\":\"white\",\"linecolor\":\"white\",\"showbackground\":true,\"ticks\":\"\",\"zerolinecolor\":\"white\",\"gridwidth\":2}},\"shapedefaults\":{\"line\":{\"color\":\"#2a3f5f\"}},\"annotationdefaults\":{\"arrowcolor\":\"#2a3f5f\",\"arrowhead\":0,\"arrowwidth\":1},\"geo\":{\"bgcolor\":\"white\",\"landcolor\":\"#E5ECF6\",\"subunitcolor\":\"white\",\"showland\":true,\"showlakes\":true,\"lakecolor\":\"white\"},\"title\":{\"x\":0.05},\"mapbox\":{\"style\":\"light\"}}},\"xaxis\":{\"anchor\":\"y\",\"domain\":[0.0,1.0],\"title\":{\"text\":\"Daily_Usage_Time (minutes)\"}},\"yaxis\":{\"anchor\":\"x\",\"domain\":[0.0,1.0],\"title\":{\"text\":\"count\"}},\"legend\":{\"tracegroupgap\":0},\"title\":{\"text\":\"Daily Usage Time Distribution\"},\"barmode\":\"relative\"},                        {\"responsive\": true}                    ).then(function(){\n",
              "                            \n",
              "var gd = document.getElementById('e068f2fc-0d43-4502-9539-1aa02ca310e4');\n",
              "var x = new MutationObserver(function (mutations, observer) {{\n",
              "        var display = window.getComputedStyle(gd).display;\n",
              "        if (!display || display === 'none') {{\n",
              "            console.log([gd, 'removed!']);\n",
              "            Plotly.purge(gd);\n",
              "            observer.disconnect();\n",
              "        }}\n",
              "}});\n",
              "\n",
              "// Listen for the removal of the full notebook cells\n",
              "var notebookContainer = gd.closest('#notebook-container');\n",
              "if (notebookContainer) {{\n",
              "    x.observe(notebookContainer, {childList: true});\n",
              "}}\n",
              "\n",
              "// Listen for the clearing of the current output cell\n",
              "var outputEl = gd.closest('.output');\n",
              "if (outputEl) {{\n",
              "    x.observe(outputEl, {childList: true});\n",
              "}}\n",
              "\n",
              "                        })                };                            </script>        </div>\n",
              "</body>\n",
              "</html>"
            ]
          },
          "metadata": {}
        }
      ]
    },
    {
      "cell_type": "markdown",
      "source": [
        "### Post Per Day Distribution"
      ],
      "metadata": {
        "id": "BezrDGakFBgn"
      }
    },
    {
      "cell_type": "code",
      "source": [
        "train_df['Posts_Per_Day'].unique()"
      ],
      "metadata": {
        "id": "KrorUdaJFBgn",
        "outputId": "2f70e71a-71d1-4fbe-e48d-badb6f3ee236",
        "colab": {
          "base_uri": "https://localhost:8080/"
        }
      },
      "execution_count": null,
      "outputs": [
        {
          "output_type": "execute_result",
          "data": {
            "text/plain": [
              "array([nan,  3.,  5.,  2.,  8.,  1.,  4.,  6.,  7.])"
            ]
          },
          "metadata": {},
          "execution_count": 36
        }
      ]
    },
    {
      "cell_type": "code",
      "source": [
        "# fill with mode\n",
        "train_df['Posts_Per_Day'].fillna(train_df['Posts_Per_Day'].mode()[0], inplace=True)"
      ],
      "metadata": {
        "id": "8H23WijTFBgn"
      },
      "execution_count": null,
      "outputs": []
    },
    {
      "cell_type": "code",
      "source": [
        "plt = px.histogram(train_df, x='Posts_Per_Day', title='Posts Per Day Distribution')\n",
        "plt.show()"
      ],
      "metadata": {
        "id": "ULridxqOFBgn",
        "outputId": "14984274-a254-48cb-9cb9-2132142aa3d0",
        "colab": {
          "base_uri": "https://localhost:8080/",
          "height": 542
        }
      },
      "execution_count": null,
      "outputs": [
        {
          "output_type": "display_data",
          "data": {
            "text/html": [
              "<html>\n",
              "<head><meta charset=\"utf-8\" /></head>\n",
              "<body>\n",
              "    <div>            <script src=\"https://cdnjs.cloudflare.com/ajax/libs/mathjax/2.7.5/MathJax.js?config=TeX-AMS-MML_SVG\"></script><script type=\"text/javascript\">if (window.MathJax && window.MathJax.Hub && window.MathJax.Hub.Config) {window.MathJax.Hub.Config({SVG: {font: \"STIX-Web\"}});}</script>                <script type=\"text/javascript\">window.PlotlyConfig = {MathJaxConfig: 'local'};</script>\n",
              "        <script charset=\"utf-8\" src=\"https://cdn.plot.ly/plotly-2.35.2.min.js\"></script>                <div id=\"8777225e-43f1-41da-a824-3213e2308d6f\" class=\"plotly-graph-div\" style=\"height:525px; width:100%;\"></div>            <script type=\"text/javascript\">                                    window.PLOTLYENV=window.PLOTLYENV || {};                                    if (document.getElementById(\"8777225e-43f1-41da-a824-3213e2308d6f\")) {                    Plotly.newPlot(                        \"8777225e-43f1-41da-a824-3213e2308d6f\",                        [{\"alignmentgroup\":\"True\",\"bingroup\":\"x\",\"hovertemplate\":\"Posts_Per_Day=%{x}\\u003cbr\\u003ecount=%{y}\\u003cextra\\u003e\\u003c\\u002fextra\\u003e\",\"legendgroup\":\"\",\"marker\":{\"color\":\"#636efa\",\"pattern\":{\"shape\":\"\"}},\"name\":\"\",\"offsetgroup\":\"\",\"orientation\":\"v\",\"showlegend\":false,\"x\":[2.0,3.0,2.0,5.0,2.0,2.0,2.0,8.0,2.0,1.0,2.0,4.0,2.0,3.0,2.0,6.0,2.0,2.0,2.0,5.0,2.0,4.0,2.0,3.0,2.0,1.0,2.0,7.0,2.0,6.0,2.0,1.0,2.0,4.0,2.0,3.0,2.0,1.0,2.0,5.0,2.0,2.0,2.0,4.0,2.0,2.0,2.0,8.0,2.0,3.0,2.0,2.0,2.0,1.0,2.0,6.0,2.0,4.0,2.0,1.0,2.0,2.0,2.0,5.0,2.0,3.0,2.0,6.0,2.0,2.0,2.0,1.0,2.0,7.0,2.0,4.0,2.0,3.0,2.0,2.0,2.0,1.0,2.0,6.0,2.0,4.0,2.0,2.0,2.0,1.0,2.0,7.0,2.0,3.0,2.0,2.0,2.0,5.0,2.0,1.0,2.0,6.0,2.0,3.0,2.0,2.0,2.0,4.0,2.0,1.0,2.0,2.0,2.0,3.0,2.0,2.0,2.0,4.0,2.0,1.0,2.0,6.0,2.0,3.0,2.0,2.0,2.0,4.0,2.0,6.0,2.0,1.0,2.0,5.0,2.0,2.0,2.0,3.0,2.0,2.0,2.0,4.0,2.0,1.0,2.0,3.0,2.0,2.0,2.0,4.0,2.0,3.0,2.0,6.0,2.0,2.0,2.0,1.0,2.0,4.0,2.0,2.0,2.0,3.0,2.0,5.0,2.0,1.0,2.0,2.0,2.0,4.0,2.0,3.0,2.0,1.0,2.0,6.0,2.0,2.0,2.0,1.0,2.0,4.0,2.0,3.0,2.0,2.0,2.0,5.0,2.0,4.0,2.0,1.0,2.0,3.0,2.0,2.0,2.0,4.0,2.0,5.0,2.0,4.0,2.0,2.0,2.0,8.0,2.0,1.0,2.0,5.0,2.0,3.0,2.0,6.0,2.0,2.0,2.0,7.0,2.0,4.0,2.0,3.0,2.0,1.0,2.0,8.0,2.0,6.0,2.0,1.0,2.0,5.0,2.0,3.0,2.0,1.0,2.0,6.0,2.0,2.0,2.0,4.0,2.0,2.0,2.0,8.0,2.0,3.0,2.0,2.0,2.0,1.0,2.0,6.0,2.0,4.0,2.0,1.0,2.0,2.0,2.0,7.0,2.0,3.0,2.0,6.0,2.0,2.0,2.0,1.0,2.0,7.0,2.0,4.0,2.0,3.0,2.0,2.0,2.0,1.0,2.0,6.0,2.0,4.0,2.0,2.0,2.0,1.0,2.0,7.0,2.0,3.0,2.0,2.0,2.0,5.0,2.0,1.0,2.0,6.0,2.0,3.0,2.0,2.0,2.0,4.0,2.0,1.0,2.0,2.0,2.0,3.0,2.0,2.0,2.0,4.0,2.0,1.0,2.0,6.0,2.0,3.0,2.0,2.0,2.0,4.0,2.0,6.0,2.0,1.0,2.0,5.0,2.0,2.0,2.0,3.0,2.0,2.0,2.0,4.0,2.0,1.0,2.0,3.0,2.0,2.0,2.0,4.0,2.0,3.0,2.0,6.0,2.0,2.0,2.0,1.0,2.0,4.0,2.0,2.0,2.0,3.0,2.0,5.0,2.0,1.0,2.0,2.0,2.0,4.0,2.0,3.0,2.0,1.0,2.0,6.0,2.0,2.0,2.0,1.0,2.0,4.0,2.0,3.0,2.0,2.0,2.0,5.0,2.0,4.0,2.0,1.0,2.0,3.0,2.0,2.0,2.0,4.0,2.0,5.0,2.0,4.0,2.0,2.0,2.0,8.0,2.0,1.0,2.0,5.0,2.0,3.0,2.0,6.0,2.0,2.0,2.0,7.0,2.0,4.0,2.0,3.0,2.0,1.0,2.0,8.0,2.0,6.0,2.0,1.0,2.0,5.0,2.0,3.0,2.0,1.0,2.0,6.0,2.0,2.0,2.0,4.0,2.0,2.0,2.0,8.0,2.0,3.0,2.0,2.0,2.0,1.0,2.0,6.0,2.0,4.0,2.0,1.0,2.0,2.0,2.0,7.0,2.0,3.0,2.0,6.0,2.0,2.0,2.0,1.0,2.0,7.0,2.0,4.0,2.0,3.0,2.0,2.0,2.0,1.0,2.0,6.0,2.0,4.0,2.0,2.0,2.0,1.0,2.0,7.0,2.0,3.0,2.0,2.0,2.0,5.0,2.0,1.0,2.0,6.0,2.0,3.0,2.0,2.0,2.0,4.0,2.0,1.0,2.0,2.0,2.0,3.0,2.0,2.0,2.0,4.0,2.0,1.0,2.0,6.0,2.0,3.0,2.0,2.0,2.0,4.0,2.0,6.0,2.0,1.0,2.0,5.0,2.0,2.0,2.0,3.0,2.0,2.0,2.0,4.0,2.0,1.0,2.0,3.0,2.0,2.0,2.0,4.0,2.0,3.0,2.0,6.0,2.0,2.0,2.0,1.0,2.0,4.0,2.0,2.0,2.0,3.0,2.0,5.0,2.0,1.0,2.0,2.0,2.0,4.0,2.0,3.0,2.0,1.0,2.0,6.0,2.0,2.0,2.0,1.0,2.0,4.0,2.0,3.0,2.0,2.0,2.0,5.0,2.0,4.0,2.0,1.0,2.0,3.0,2.0,2.0,2.0,4.0,2.0,5.0,2.0,4.0,2.0,2.0,2.0,8.0,2.0,1.0,2.0,5.0,2.0,3.0,2.0,6.0,2.0,2.0,2.0,7.0,2.0,4.0,2.0,3.0,2.0,1.0,2.0,8.0,2.0,6.0,2.0,1.0,2.0,5.0,2.0,3.0,2.0,1.0,2.0,6.0,2.0,2.0,2.0,4.0,2.0,2.0,2.0,8.0,2.0,3.0,2.0,2.0,2.0,1.0,2.0,6.0,2.0,4.0,2.0,1.0,2.0,2.0,2.0,7.0,2.0,3.0,2.0,6.0,2.0,2.0,2.0,1.0,2.0,7.0,2.0,4.0,2.0,3.0,2.0,2.0,2.0,1.0,2.0,6.0,2.0,4.0,2.0,2.0,2.0,1.0,2.0,7.0,2.0,3.0,2.0,2.0,2.0,5.0,2.0,1.0,2.0,6.0,2.0,3.0,2.0,2.0,2.0,4.0,2.0,1.0,2.0,2.0,2.0,3.0,2.0,2.0,2.0,4.0,2.0,1.0,2.0,6.0,2.0,3.0,2.0,2.0,2.0,4.0,2.0,6.0,2.0,1.0,2.0,5.0,2.0,2.0,2.0,3.0,2.0,2.0,2.0,4.0,2.0,1.0,2.0,3.0,2.0,2.0,2.0,4.0,2.0,3.0,2.0,6.0,2.0,2.0,2.0,1.0,2.0,4.0,2.0,2.0,2.0,3.0,2.0,5.0,2.0,1.0,2.0,2.0,2.0,4.0,2.0,3.0,2.0,1.0,2.0,6.0,2.0,2.0,2.0,1.0,2.0,4.0,2.0,3.0,2.0,2.0,2.0,5.0,2.0,4.0,2.0,1.0,2.0,3.0,2.0,2.0,2.0,4.0,2.0,5.0,2.0,4.0,2.0,2.0,2.0,8.0,2.0,1.0,2.0,5.0,2.0,3.0,2.0,6.0,2.0,2.0,2.0,7.0,2.0,4.0,2.0,3.0,2.0,1.0,2.0,8.0,2.0,6.0,2.0,1.0,2.0,5.0,2.0,3.0,2.0,1.0,2.0,6.0,2.0,2.0,2.0,4.0,2.0,2.0,2.0,8.0,2.0,3.0,2.0,2.0,2.0,1.0,2.0,6.0,2.0,4.0,2.0,1.0,2.0,2.0,2.0,7.0,2.0,3.0,2.0,6.0,2.0,2.0,2.0,1.0,2.0,7.0,2.0,4.0,2.0,3.0,2.0,2.0,2.0,1.0,2.0,6.0,2.0,4.0,2.0,2.0,2.0,1.0,2.0,7.0,2.0,3.0,2.0,2.0,2.0,5.0,2.0,1.0,2.0,6.0,2.0,3.0,2.0,2.0,2.0,4.0,2.0,1.0,2.0,2.0,2.0,3.0,2.0,2.0,2.0,4.0,2.0,1.0,2.0,6.0,2.0,3.0,2.0,2.0,2.0,4.0,2.0,6.0,2.0,1.0,2.0,5.0,2.0,2.0,2.0,3.0,2.0,2.0,2.0,4.0,2.0,1.0,2.0,3.0,2.0,2.0,2.0,4.0,2.0,3.0,2.0,6.0,2.0,2.0,2.0,1.0,2.0,4.0,2.0,2.0,2.0,3.0,2.0,5.0,2.0,1.0,2.0,2.0,2.0,4.0,2.0,3.0,2.0,1.0,2.0,6.0,2.0,2.0,2.0,1.0,2.0,4.0,2.0,3.0,2.0,2.0,2.0,5.0,2.0,4.0,2.0,1.0,2.0,3.0,2.0,2.0,2.0,4.0,2.0,5.0,2.0,4.0,2.0,2.0,2.0,8.0,2.0,1.0,2.0,5.0,2.0,3.0,2.0,6.0,2.0,2.0,2.0,7.0,2.0,4.0,2.0,3.0,2.0,1.0,2.0,8.0,2.0,6.0,2.0,1.0,2.0,5.0,2.0,3.0,2.0,1.0,2.0,6.0,2.0,2.0,2.0,4.0,2.0,2.0,2.0,8.0,2.0,3.0,2.0,2.0,2.0,1.0,2.0,6.0,2.0,4.0,2.0,1.0,2.0,2.0,2.0,7.0,2.0,3.0,2.0,6.0,2.0,2.0,2.0,1.0,2.0,7.0,2.0,4.0,2.0,3.0,2.0,2.0,2.0,1.0,2.0,6.0,2.0,4.0,2.0,2.0,2.0,1.0,2.0,7.0,2.0,3.0,2.0,2.0,2.0,5.0,2.0,1.0,2.0,6.0,2.0,3.0,2.0,2.0,2.0,4.0,2.0,1.0,2.0,2.0,2.0,3.0,2.0,2.0,2.0,4.0,2.0,1.0,2.0,6.0,2.0,3.0,2.0,2.0,2.0,4.0,2.0,6.0,2.0,1.0,2.0,5.0,2.0,2.0,2.0,3.0,2.0,2.0,2.0,4.0,2.0,1.0,2.0,3.0,2.0,2.0,2.0,4.0,2.0,3.0,2.0,6.0,2.0,2.0,2.0,1.0,2.0,4.0,2.0,2.0,2.0,3.0,2.0,5.0,2.0,1.0,2.0,2.0,2.0,4.0,2.0,3.0,2.0,1.0,2.0,6.0,2.0,2.0,2.0,1.0,2.0,4.0,2.0,3.0,2.0,2.0,2.0,5.0,2.0,4.0,2.0,1.0,2.0,3.0,2.0,2.0,2.0,4.0,2.0,5.0,2.0,4.0,2.0,2.0,2.0,8.0,2.0,1.0,2.0,5.0,2.0,3.0,2.0,6.0,2.0,2.0,2.0,7.0,2.0,4.0,2.0,3.0,2.0,1.0,2.0,8.0,2.0,6.0,2.0,1.0,2.0,5.0,2.0,3.0,2.0,1.0,2.0,6.0,2.0,2.0,2.0,4.0,2.0,2.0,2.0,8.0,2.0,3.0,2.0,2.0,2.0,1.0,2.0,6.0,2.0,4.0,2.0,1.0,2.0,2.0,2.0,7.0,2.0,3.0,2.0,6.0,2.0,2.0,2.0,1.0,2.0,7.0,2.0,4.0,2.0,3.0,2.0,2.0,2.0,1.0,2.0,2.0,2.0,2.0,2.0,6.0,2.0,4.0,2.0,2.0,2.0,1.0,2.0,7.0,2.0,3.0,2.0,2.0,2.0,5.0,2.0,1.0,2.0,6.0,2.0,3.0,2.0,2.0,2.0,4.0,2.0,1.0,2.0,2.0,2.0,3.0,2.0,2.0,2.0,4.0,2.0,1.0,2.0,6.0,2.0,3.0,2.0,2.0,2.0,4.0,2.0,6.0,2.0,1.0,2.0,5.0,2.0,2.0,2.0,3.0,2.0,2.0,2.0,4.0,2.0,1.0,2.0,3.0,2.0,2.0,2.0,4.0,2.0,3.0,2.0,6.0,2.0,2.0,2.0,1.0,2.0,4.0,2.0,2.0,2.0,3.0,2.0,5.0,2.0,1.0,2.0,2.0,2.0,4.0,2.0,3.0,2.0,1.0,2.0,6.0,2.0,2.0,2.0,1.0,2.0,4.0,2.0,3.0,2.0,2.0,2.0,5.0,2.0,4.0,2.0,1.0,2.0,3.0,2.0,2.0,2.0,4.0,2.0,5.0,2.0,4.0,2.0,2.0,2.0,8.0,2.0,1.0,2.0,5.0,2.0,3.0,2.0,6.0,2.0,2.0,2.0,7.0,2.0,4.0,2.0,3.0,2.0,1.0,2.0,8.0,2.0,6.0,2.0,1.0,2.0,5.0,2.0,3.0,2.0,1.0,2.0,6.0,2.0,2.0,2.0,4.0,2.0,2.0,2.0,8.0,2.0,3.0,2.0,2.0,2.0,1.0,2.0,6.0,2.0,4.0,2.0,1.0,2.0,2.0,2.0,7.0,2.0,3.0,2.0,6.0,2.0,2.0,2.0,1.0,2.0,7.0,2.0,4.0,2.0,3.0,2.0,2.0,2.0,1.0,2.0,6.0,2.0,4.0,2.0,2.0,2.0,1.0,2.0,7.0,2.0,3.0,2.0,2.0,2.0,5.0,2.0,1.0,2.0,6.0,2.0,3.0,2.0,2.0,2.0,4.0,2.0,1.0,2.0,2.0,2.0,3.0,2.0,2.0,2.0,4.0,2.0,1.0,2.0,6.0,2.0,3.0,2.0,2.0,2.0,4.0,2.0,6.0,2.0,1.0,2.0,5.0,2.0,2.0,2.0,3.0,2.0,2.0,2.0,4.0,2.0,1.0,2.0,3.0,2.0,2.0,2.0,4.0,2.0,3.0,2.0,6.0,2.0,2.0,2.0,1.0,2.0,4.0,2.0,2.0,2.0,3.0,2.0,5.0,2.0,1.0,2.0,2.0,2.0,4.0,2.0,3.0,2.0,1.0,2.0,6.0,2.0,2.0,2.0,1.0,2.0,4.0,2.0,3.0,2.0,2.0,2.0,5.0,2.0,4.0,2.0,1.0,2.0,3.0,2.0,2.0,2.0,4.0,2.0,5.0,2.0,4.0,2.0,2.0,2.0,8.0,2.0,1.0,2.0,5.0,2.0,3.0,2.0,6.0,2.0,2.0,2.0,7.0,2.0,4.0,2.0,3.0,2.0,1.0,2.0,8.0,2.0,6.0,2.0,1.0,2.0,5.0,2.0,3.0,2.0,1.0,2.0,6.0,2.0,2.0,2.0,4.0,2.0,2.0,2.0,8.0,2.0,3.0,2.0,2.0,2.0,1.0,2.0,6.0,2.0,4.0,2.0,1.0,2.0,2.0,2.0,7.0,2.0,3.0,2.0,6.0,2.0,2.0,2.0,1.0,2.0,7.0,2.0,4.0,2.0,3.0,2.0,2.0,2.0,1.0,2.0,6.0,2.0,4.0,2.0,2.0,2.0,1.0,2.0,7.0,2.0,3.0,2.0,2.0,2.0,5.0,2.0,1.0,2.0,6.0,2.0,3.0,2.0,2.0,2.0,4.0,2.0,1.0,2.0,2.0,2.0,3.0,2.0,2.0,2.0,4.0,2.0,1.0,2.0,6.0,2.0,3.0,2.0,2.0,2.0,4.0,2.0,6.0,2.0,1.0,2.0,5.0,2.0,2.0,2.0,3.0,2.0,2.0,2.0,4.0,2.0,1.0,2.0,3.0,2.0,2.0,2.0,4.0,2.0,3.0,2.0,6.0,2.0,2.0,2.0,1.0,2.0,4.0,2.0,2.0,2.0,3.0,2.0,5.0,2.0,1.0,2.0,2.0,2.0,4.0,2.0,3.0,2.0,1.0,2.0,6.0,2.0,2.0,2.0,1.0,2.0,4.0,2.0,3.0,2.0,2.0,2.0,5.0,2.0,4.0,2.0,1.0,2.0,3.0,2.0,2.0,2.0,4.0,2.0,5.0,2.0,4.0,2.0,2.0,2.0,8.0,2.0,1.0,2.0,5.0,2.0,3.0,2.0,6.0,2.0,2.0,2.0,7.0,2.0,4.0,2.0,3.0,2.0,1.0,2.0,8.0,2.0,6.0,2.0,1.0,2.0,5.0,2.0,3.0,2.0,1.0,2.0,6.0,2.0,2.0,2.0,4.0,2.0,2.0,2.0,8.0,2.0,3.0,2.0,2.0,2.0,1.0,2.0,6.0,2.0,4.0,2.0,1.0,2.0,2.0,2.0,7.0,2.0,3.0,2.0,6.0,2.0,2.0,2.0,1.0,2.0,7.0,2.0,4.0,2.0,3.0,2.0,2.0,2.0,1.0,2.0,6.0,2.0,4.0,2.0,2.0,2.0,1.0,2.0,7.0,2.0,3.0,2.0,2.0,2.0,5.0,2.0,1.0,2.0,6.0,2.0,3.0,2.0,2.0,2.0,4.0,2.0,1.0,2.0,2.0,2.0,3.0,2.0,2.0,2.0,4.0,2.0,1.0,2.0,6.0,2.0,3.0,2.0,2.0,2.0,4.0,2.0,6.0,2.0,1.0,2.0,5.0,2.0,2.0,2.0,3.0,2.0,2.0,2.0,4.0,2.0,1.0,2.0,3.0,2.0,2.0,2.0,4.0,2.0,3.0,2.0,6.0,2.0,2.0,2.0,1.0,2.0,4.0,2.0,2.0,2.0,3.0,2.0,5.0,2.0,1.0,2.0,2.0,2.0,4.0,2.0,3.0,2.0,1.0,2.0,6.0,2.0,2.0,2.0,1.0,2.0,4.0,2.0,3.0,2.0,2.0,2.0,5.0,2.0,4.0,2.0,1.0,2.0,3.0,2.0,2.0,2.0,4.0],\"xaxis\":\"x\",\"yaxis\":\"y\",\"type\":\"histogram\"}],                        {\"template\":{\"data\":{\"histogram2dcontour\":[{\"type\":\"histogram2dcontour\",\"colorbar\":{\"outlinewidth\":0,\"ticks\":\"\"},\"colorscale\":[[0.0,\"#0d0887\"],[0.1111111111111111,\"#46039f\"],[0.2222222222222222,\"#7201a8\"],[0.3333333333333333,\"#9c179e\"],[0.4444444444444444,\"#bd3786\"],[0.5555555555555556,\"#d8576b\"],[0.6666666666666666,\"#ed7953\"],[0.7777777777777778,\"#fb9f3a\"],[0.8888888888888888,\"#fdca26\"],[1.0,\"#f0f921\"]]}],\"choropleth\":[{\"type\":\"choropleth\",\"colorbar\":{\"outlinewidth\":0,\"ticks\":\"\"}}],\"histogram2d\":[{\"type\":\"histogram2d\",\"colorbar\":{\"outlinewidth\":0,\"ticks\":\"\"},\"colorscale\":[[0.0,\"#0d0887\"],[0.1111111111111111,\"#46039f\"],[0.2222222222222222,\"#7201a8\"],[0.3333333333333333,\"#9c179e\"],[0.4444444444444444,\"#bd3786\"],[0.5555555555555556,\"#d8576b\"],[0.6666666666666666,\"#ed7953\"],[0.7777777777777778,\"#fb9f3a\"],[0.8888888888888888,\"#fdca26\"],[1.0,\"#f0f921\"]]}],\"heatmap\":[{\"type\":\"heatmap\",\"colorbar\":{\"outlinewidth\":0,\"ticks\":\"\"},\"colorscale\":[[0.0,\"#0d0887\"],[0.1111111111111111,\"#46039f\"],[0.2222222222222222,\"#7201a8\"],[0.3333333333333333,\"#9c179e\"],[0.4444444444444444,\"#bd3786\"],[0.5555555555555556,\"#d8576b\"],[0.6666666666666666,\"#ed7953\"],[0.7777777777777778,\"#fb9f3a\"],[0.8888888888888888,\"#fdca26\"],[1.0,\"#f0f921\"]]}],\"heatmapgl\":[{\"type\":\"heatmapgl\",\"colorbar\":{\"outlinewidth\":0,\"ticks\":\"\"},\"colorscale\":[[0.0,\"#0d0887\"],[0.1111111111111111,\"#46039f\"],[0.2222222222222222,\"#7201a8\"],[0.3333333333333333,\"#9c179e\"],[0.4444444444444444,\"#bd3786\"],[0.5555555555555556,\"#d8576b\"],[0.6666666666666666,\"#ed7953\"],[0.7777777777777778,\"#fb9f3a\"],[0.8888888888888888,\"#fdca26\"],[1.0,\"#f0f921\"]]}],\"contourcarpet\":[{\"type\":\"contourcarpet\",\"colorbar\":{\"outlinewidth\":0,\"ticks\":\"\"}}],\"contour\":[{\"type\":\"contour\",\"colorbar\":{\"outlinewidth\":0,\"ticks\":\"\"},\"colorscale\":[[0.0,\"#0d0887\"],[0.1111111111111111,\"#46039f\"],[0.2222222222222222,\"#7201a8\"],[0.3333333333333333,\"#9c179e\"],[0.4444444444444444,\"#bd3786\"],[0.5555555555555556,\"#d8576b\"],[0.6666666666666666,\"#ed7953\"],[0.7777777777777778,\"#fb9f3a\"],[0.8888888888888888,\"#fdca26\"],[1.0,\"#f0f921\"]]}],\"surface\":[{\"type\":\"surface\",\"colorbar\":{\"outlinewidth\":0,\"ticks\":\"\"},\"colorscale\":[[0.0,\"#0d0887\"],[0.1111111111111111,\"#46039f\"],[0.2222222222222222,\"#7201a8\"],[0.3333333333333333,\"#9c179e\"],[0.4444444444444444,\"#bd3786\"],[0.5555555555555556,\"#d8576b\"],[0.6666666666666666,\"#ed7953\"],[0.7777777777777778,\"#fb9f3a\"],[0.8888888888888888,\"#fdca26\"],[1.0,\"#f0f921\"]]}],\"mesh3d\":[{\"type\":\"mesh3d\",\"colorbar\":{\"outlinewidth\":0,\"ticks\":\"\"}}],\"scatter\":[{\"fillpattern\":{\"fillmode\":\"overlay\",\"size\":10,\"solidity\":0.2},\"type\":\"scatter\"}],\"parcoords\":[{\"type\":\"parcoords\",\"line\":{\"colorbar\":{\"outlinewidth\":0,\"ticks\":\"\"}}}],\"scatterpolargl\":[{\"type\":\"scatterpolargl\",\"marker\":{\"colorbar\":{\"outlinewidth\":0,\"ticks\":\"\"}}}],\"bar\":[{\"error_x\":{\"color\":\"#2a3f5f\"},\"error_y\":{\"color\":\"#2a3f5f\"},\"marker\":{\"line\":{\"color\":\"#E5ECF6\",\"width\":0.5},\"pattern\":{\"fillmode\":\"overlay\",\"size\":10,\"solidity\":0.2}},\"type\":\"bar\"}],\"scattergeo\":[{\"type\":\"scattergeo\",\"marker\":{\"colorbar\":{\"outlinewidth\":0,\"ticks\":\"\"}}}],\"scatterpolar\":[{\"type\":\"scatterpolar\",\"marker\":{\"colorbar\":{\"outlinewidth\":0,\"ticks\":\"\"}}}],\"histogram\":[{\"marker\":{\"pattern\":{\"fillmode\":\"overlay\",\"size\":10,\"solidity\":0.2}},\"type\":\"histogram\"}],\"scattergl\":[{\"type\":\"scattergl\",\"marker\":{\"colorbar\":{\"outlinewidth\":0,\"ticks\":\"\"}}}],\"scatter3d\":[{\"type\":\"scatter3d\",\"line\":{\"colorbar\":{\"outlinewidth\":0,\"ticks\":\"\"}},\"marker\":{\"colorbar\":{\"outlinewidth\":0,\"ticks\":\"\"}}}],\"scattermapbox\":[{\"type\":\"scattermapbox\",\"marker\":{\"colorbar\":{\"outlinewidth\":0,\"ticks\":\"\"}}}],\"scatterternary\":[{\"type\":\"scatterternary\",\"marker\":{\"colorbar\":{\"outlinewidth\":0,\"ticks\":\"\"}}}],\"scattercarpet\":[{\"type\":\"scattercarpet\",\"marker\":{\"colorbar\":{\"outlinewidth\":0,\"ticks\":\"\"}}}],\"carpet\":[{\"aaxis\":{\"endlinecolor\":\"#2a3f5f\",\"gridcolor\":\"white\",\"linecolor\":\"white\",\"minorgridcolor\":\"white\",\"startlinecolor\":\"#2a3f5f\"},\"baxis\":{\"endlinecolor\":\"#2a3f5f\",\"gridcolor\":\"white\",\"linecolor\":\"white\",\"minorgridcolor\":\"white\",\"startlinecolor\":\"#2a3f5f\"},\"type\":\"carpet\"}],\"table\":[{\"cells\":{\"fill\":{\"color\":\"#EBF0F8\"},\"line\":{\"color\":\"white\"}},\"header\":{\"fill\":{\"color\":\"#C8D4E3\"},\"line\":{\"color\":\"white\"}},\"type\":\"table\"}],\"barpolar\":[{\"marker\":{\"line\":{\"color\":\"#E5ECF6\",\"width\":0.5},\"pattern\":{\"fillmode\":\"overlay\",\"size\":10,\"solidity\":0.2}},\"type\":\"barpolar\"}],\"pie\":[{\"automargin\":true,\"type\":\"pie\"}]},\"layout\":{\"autotypenumbers\":\"strict\",\"colorway\":[\"#636efa\",\"#EF553B\",\"#00cc96\",\"#ab63fa\",\"#FFA15A\",\"#19d3f3\",\"#FF6692\",\"#B6E880\",\"#FF97FF\",\"#FECB52\"],\"font\":{\"color\":\"#2a3f5f\"},\"hovermode\":\"closest\",\"hoverlabel\":{\"align\":\"left\"},\"paper_bgcolor\":\"white\",\"plot_bgcolor\":\"#E5ECF6\",\"polar\":{\"bgcolor\":\"#E5ECF6\",\"angularaxis\":{\"gridcolor\":\"white\",\"linecolor\":\"white\",\"ticks\":\"\"},\"radialaxis\":{\"gridcolor\":\"white\",\"linecolor\":\"white\",\"ticks\":\"\"}},\"ternary\":{\"bgcolor\":\"#E5ECF6\",\"aaxis\":{\"gridcolor\":\"white\",\"linecolor\":\"white\",\"ticks\":\"\"},\"baxis\":{\"gridcolor\":\"white\",\"linecolor\":\"white\",\"ticks\":\"\"},\"caxis\":{\"gridcolor\":\"white\",\"linecolor\":\"white\",\"ticks\":\"\"}},\"coloraxis\":{\"colorbar\":{\"outlinewidth\":0,\"ticks\":\"\"}},\"colorscale\":{\"sequential\":[[0.0,\"#0d0887\"],[0.1111111111111111,\"#46039f\"],[0.2222222222222222,\"#7201a8\"],[0.3333333333333333,\"#9c179e\"],[0.4444444444444444,\"#bd3786\"],[0.5555555555555556,\"#d8576b\"],[0.6666666666666666,\"#ed7953\"],[0.7777777777777778,\"#fb9f3a\"],[0.8888888888888888,\"#fdca26\"],[1.0,\"#f0f921\"]],\"sequentialminus\":[[0.0,\"#0d0887\"],[0.1111111111111111,\"#46039f\"],[0.2222222222222222,\"#7201a8\"],[0.3333333333333333,\"#9c179e\"],[0.4444444444444444,\"#bd3786\"],[0.5555555555555556,\"#d8576b\"],[0.6666666666666666,\"#ed7953\"],[0.7777777777777778,\"#fb9f3a\"],[0.8888888888888888,\"#fdca26\"],[1.0,\"#f0f921\"]],\"diverging\":[[0,\"#8e0152\"],[0.1,\"#c51b7d\"],[0.2,\"#de77ae\"],[0.3,\"#f1b6da\"],[0.4,\"#fde0ef\"],[0.5,\"#f7f7f7\"],[0.6,\"#e6f5d0\"],[0.7,\"#b8e186\"],[0.8,\"#7fbc41\"],[0.9,\"#4d9221\"],[1,\"#276419\"]]},\"xaxis\":{\"gridcolor\":\"white\",\"linecolor\":\"white\",\"ticks\":\"\",\"title\":{\"standoff\":15},\"zerolinecolor\":\"white\",\"automargin\":true,\"zerolinewidth\":2},\"yaxis\":{\"gridcolor\":\"white\",\"linecolor\":\"white\",\"ticks\":\"\",\"title\":{\"standoff\":15},\"zerolinecolor\":\"white\",\"automargin\":true,\"zerolinewidth\":2},\"scene\":{\"xaxis\":{\"backgroundcolor\":\"#E5ECF6\",\"gridcolor\":\"white\",\"linecolor\":\"white\",\"showbackground\":true,\"ticks\":\"\",\"zerolinecolor\":\"white\",\"gridwidth\":2},\"yaxis\":{\"backgroundcolor\":\"#E5ECF6\",\"gridcolor\":\"white\",\"linecolor\":\"white\",\"showbackground\":true,\"ticks\":\"\",\"zerolinecolor\":\"white\",\"gridwidth\":2},\"zaxis\":{\"backgroundcolor\":\"#E5ECF6\",\"gridcolor\":\"white\",\"linecolor\":\"white\",\"showbackground\":true,\"ticks\":\"\",\"zerolinecolor\":\"white\",\"gridwidth\":2}},\"shapedefaults\":{\"line\":{\"color\":\"#2a3f5f\"}},\"annotationdefaults\":{\"arrowcolor\":\"#2a3f5f\",\"arrowhead\":0,\"arrowwidth\":1},\"geo\":{\"bgcolor\":\"white\",\"landcolor\":\"#E5ECF6\",\"subunitcolor\":\"white\",\"showland\":true,\"showlakes\":true,\"lakecolor\":\"white\"},\"title\":{\"x\":0.05},\"mapbox\":{\"style\":\"light\"}}},\"xaxis\":{\"anchor\":\"y\",\"domain\":[0.0,1.0],\"title\":{\"text\":\"Posts_Per_Day\"}},\"yaxis\":{\"anchor\":\"x\",\"domain\":[0.0,1.0],\"title\":{\"text\":\"count\"}},\"legend\":{\"tracegroupgap\":0},\"title\":{\"text\":\"Posts Per Day Distribution\"},\"barmode\":\"relative\"},                        {\"responsive\": true}                    ).then(function(){\n",
              "                            \n",
              "var gd = document.getElementById('8777225e-43f1-41da-a824-3213e2308d6f');\n",
              "var x = new MutationObserver(function (mutations, observer) {{\n",
              "        var display = window.getComputedStyle(gd).display;\n",
              "        if (!display || display === 'none') {{\n",
              "            console.log([gd, 'removed!']);\n",
              "            Plotly.purge(gd);\n",
              "            observer.disconnect();\n",
              "        }}\n",
              "}});\n",
              "\n",
              "// Listen for the removal of the full notebook cells\n",
              "var notebookContainer = gd.closest('#notebook-container');\n",
              "if (notebookContainer) {{\n",
              "    x.observe(notebookContainer, {childList: true});\n",
              "}}\n",
              "\n",
              "// Listen for the clearing of the current output cell\n",
              "var outputEl = gd.closest('.output');\n",
              "if (outputEl) {{\n",
              "    x.observe(outputEl, {childList: true});\n",
              "}}\n",
              "\n",
              "                        })                };                            </script>        </div>\n",
              "</body>\n",
              "</html>"
            ]
          },
          "metadata": {}
        }
      ]
    },
    {
      "cell_type": "markdown",
      "source": [
        "### Likes Per Day Distribution"
      ],
      "metadata": {
        "id": "IyeYt5L0FBgn"
      }
    },
    {
      "cell_type": "code",
      "source": [
        "train_df['Likes_Received_Per_Day'].unique()"
      ],
      "metadata": {
        "id": "w4UxjoYzFBgn",
        "outputId": "ccf3e579-48bd-451d-cfc8-808efa4e3bee",
        "colab": {
          "base_uri": "https://localhost:8080/"
        }
      },
      "execution_count": null,
      "outputs": [
        {
          "output_type": "execute_result",
          "data": {
            "text/plain": [
              "array([ nan,  45.,  20.,  15., 100.,   5.,  60.,  30.,  25.,  10.,  80.,\n",
              "        35.,  12.,  90.,  40.,  55.,  33.,   8.,  70.,  28.,  11.,  95.,\n",
              "        18.,   9.,  85.,  38.,   6.,  13.,  75.,  27.,  88.,  22.,  78.,\n",
              "        29.,  50.,  36.,  72.,  65., 110.,  14.,  17., 105.,  43.,  37.,\n",
              "        42.,  48.,  21.,  24.,  23.,  83.])"
            ]
          },
          "metadata": {},
          "execution_count": 39
        }
      ]
    },
    {
      "cell_type": "code",
      "source": [
        "# filling wih mode\n",
        "train_df['Likes_Received_Per_Day'].fillna(train_df['Likes_Received_Per_Day'].mode()[0], inplace=True)"
      ],
      "metadata": {
        "id": "bAMA2JM5FBgo"
      },
      "execution_count": null,
      "outputs": []
    },
    {
      "cell_type": "code",
      "source": [
        "plt = px.histogram(train_df, x='Likes_Received_Per_Day', title='Posts Per Day Distribution')\n",
        "plt.show()"
      ],
      "metadata": {
        "id": "p_UO4-WJFBgo",
        "outputId": "ce263276-483f-40df-d966-6f19d7178824",
        "colab": {
          "base_uri": "https://localhost:8080/",
          "height": 542
        }
      },
      "execution_count": null,
      "outputs": [
        {
          "output_type": "display_data",
          "data": {
            "text/html": [
              "<html>\n",
              "<head><meta charset=\"utf-8\" /></head>\n",
              "<body>\n",
              "    <div>            <script src=\"https://cdnjs.cloudflare.com/ajax/libs/mathjax/2.7.5/MathJax.js?config=TeX-AMS-MML_SVG\"></script><script type=\"text/javascript\">if (window.MathJax && window.MathJax.Hub && window.MathJax.Hub.Config) {window.MathJax.Hub.Config({SVG: {font: \"STIX-Web\"}});}</script>                <script type=\"text/javascript\">window.PlotlyConfig = {MathJaxConfig: 'local'};</script>\n",
              "        <script charset=\"utf-8\" src=\"https://cdn.plot.ly/plotly-2.35.2.min.js\"></script>                <div id=\"8667b7ee-a501-4ba4-8f1f-dbdfeb86450c\" class=\"plotly-graph-div\" style=\"height:525px; width:100%;\"></div>            <script type=\"text/javascript\">                                    window.PLOTLYENV=window.PLOTLYENV || {};                                    if (document.getElementById(\"8667b7ee-a501-4ba4-8f1f-dbdfeb86450c\")) {                    Plotly.newPlot(                        \"8667b7ee-a501-4ba4-8f1f-dbdfeb86450c\",                        [{\"alignmentgroup\":\"True\",\"bingroup\":\"x\",\"hovertemplate\":\"Likes_Received_Per_Day=%{x}\\u003cbr\\u003ecount=%{y}\\u003cextra\\u003e\\u003c\\u002fextra\\u003e\",\"legendgroup\":\"\",\"marker\":{\"color\":\"#636efa\",\"pattern\":{\"shape\":\"\"}},\"name\":\"\",\"offsetgroup\":\"\",\"orientation\":\"v\",\"showlegend\":false,\"x\":[30.0,45.0,30.0,20.0,30.0,15.0,30.0,100.0,30.0,5.0,30.0,60.0,30.0,30.0,30.0,25.0,30.0,10.0,30.0,80.0,30.0,35.0,30.0,20.0,30.0,12.0,30.0,90.0,30.0,40.0,30.0,5.0,30.0,55.0,30.0,33.0,30.0,8.0,30.0,70.0,30.0,25.0,30.0,28.0,30.0,11.0,30.0,95.0,30.0,20.0,30.0,18.0,30.0,9.0,30.0,85.0,30.0,38.0,30.0,6.0,30.0,13.0,30.0,75.0,30.0,27.0,30.0,88.0,30.0,22.0,30.0,10.0,30.0,90.0,30.0,35.0,30.0,55.0,30.0,18.0,30.0,6.0,30.0,80.0,30.0,40.0,30.0,20.0,30.0,12.0,30.0,85.0,30.0,33.0,30.0,28.0,30.0,70.0,30.0,8.0,30.0,78.0,30.0,29.0,30.0,25.0,30.0,60.0,30.0,10.0,30.0,40.0,30.0,20.0,30.0,15.0,30.0,45.0,30.0,10.0,30.0,70.0,30.0,20.0,30.0,18.0,30.0,50.0,30.0,40.0,30.0,8.0,30.0,75.0,30.0,25.0,30.0,45.0,30.0,18.0,30.0,60.0,30.0,12.0,30.0,15.0,30.0,20.0,30.0,28.0,30.0,36.0,30.0,72.0,30.0,22.0,30.0,12.0,30.0,35.0,30.0,18.0,30.0,30.0,30.0,55.0,30.0,20.0,30.0,18.0,30.0,35.0,30.0,40.0,30.0,15.0,30.0,78.0,30.0,28.0,30.0,8.0,30.0,50.0,30.0,33.0,30.0,20.0,30.0,65.0,30.0,30.0,30.0,12.0,30.0,45.0,30.0,15.0,30.0,38.0,30.0,50.0,30.0,30.0,30.0,20.0,30.0,110.0,30.0,10.0,30.0,65.0,30.0,40.0,30.0,35.0,30.0,15.0,30.0,90.0,30.0,45.0,30.0,30.0,30.0,14.0,30.0,100.0,30.0,50.0,30.0,10.0,30.0,65.0,30.0,40.0,30.0,12.0,30.0,75.0,30.0,30.0,30.0,35.0,30.0,17.0,30.0,105.0,30.0,25.0,30.0,20.0,30.0,12.0,30.0,85.0,30.0,43.0,30.0,8.0,30.0,17.0,30.0,80.0,30.0,30.0,30.0,95.0,30.0,27.0,30.0,11.0,30.0,95.0,30.0,45.0,30.0,60.0,30.0,22.0,30.0,9.0,30.0,90.0,30.0,50.0,30.0,25.0,30.0,15.0,30.0,100.0,30.0,37.0,30.0,30.0,30.0,80.0,30.0,12.0,30.0,85.0,30.0,33.0,30.0,27.0,30.0,65.0,30.0,15.0,30.0,42.0,30.0,22.0,30.0,18.0,30.0,48.0,30.0,12.0,30.0,72.0,30.0,22.0,30.0,21.0,30.0,55.0,30.0,42.0,30.0,12.0,30.0,78.0,30.0,27.0,30.0,48.0,30.0,21.0,30.0,65.0,30.0,13.0,30.0,17.0,30.0,24.0,30.0,30.0,30.0,38.0,30.0,75.0,30.0,23.0,30.0,13.0,30.0,37.0,30.0,20.0,30.0,33.0,30.0,60.0,30.0,22.0,30.0,20.0,30.0,37.0,30.0,45.0,30.0,18.0,30.0,83.0,30.0,30.0,30.0,10.0,30.0,55.0,30.0,37.0,30.0,23.0,30.0,70.0,30.0,35.0,30.0,14.0,30.0,50.0,30.0,18.0,30.0,40.0,30.0,50.0,30.0,30.0,30.0,20.0,30.0,110.0,30.0,10.0,30.0,65.0,30.0,40.0,30.0,35.0,30.0,15.0,30.0,90.0,30.0,45.0,30.0,30.0,30.0,14.0,30.0,100.0,30.0,50.0,30.0,10.0,30.0,65.0,30.0,40.0,30.0,12.0,30.0,75.0,30.0,30.0,30.0,35.0,30.0,17.0,30.0,105.0,30.0,25.0,30.0,20.0,30.0,12.0,30.0,85.0,30.0,43.0,30.0,8.0,30.0,17.0,30.0,80.0,30.0,30.0,30.0,95.0,30.0,27.0,30.0,11.0,30.0,95.0,30.0,45.0,30.0,60.0,30.0,22.0,30.0,9.0,30.0,90.0,30.0,50.0,30.0,25.0,30.0,15.0,30.0,100.0,30.0,37.0,30.0,30.0,30.0,80.0,30.0,12.0,30.0,85.0,30.0,33.0,30.0,27.0,30.0,65.0,30.0,15.0,30.0,42.0,30.0,22.0,30.0,18.0,30.0,48.0,30.0,12.0,30.0,72.0,30.0,22.0,30.0,21.0,30.0,55.0,30.0,42.0,30.0,12.0,30.0,78.0,30.0,27.0,30.0,48.0,30.0,21.0,30.0,65.0,30.0,13.0,30.0,17.0,30.0,24.0,30.0,30.0,30.0,38.0,30.0,75.0,30.0,23.0,30.0,13.0,30.0,37.0,30.0,20.0,30.0,33.0,30.0,60.0,30.0,22.0,30.0,20.0,30.0,37.0,30.0,45.0,30.0,18.0,30.0,83.0,30.0,30.0,30.0,10.0,30.0,55.0,30.0,37.0,30.0,23.0,30.0,70.0,30.0,35.0,30.0,14.0,30.0,50.0,30.0,18.0,30.0,40.0,30.0,50.0,30.0,30.0,30.0,20.0,30.0,110.0,30.0,10.0,30.0,65.0,30.0,40.0,30.0,35.0,30.0,15.0,30.0,90.0,30.0,45.0,30.0,30.0,30.0,14.0,30.0,100.0,30.0,50.0,30.0,10.0,30.0,65.0,30.0,40.0,30.0,12.0,30.0,75.0,30.0,30.0,30.0,35.0,30.0,17.0,30.0,105.0,30.0,25.0,30.0,20.0,30.0,12.0,30.0,85.0,30.0,43.0,30.0,8.0,30.0,17.0,30.0,80.0,30.0,30.0,30.0,95.0,30.0,27.0,30.0,11.0,30.0,95.0,30.0,45.0,30.0,60.0,30.0,22.0,30.0,9.0,30.0,90.0,30.0,50.0,30.0,25.0,30.0,15.0,30.0,100.0,30.0,37.0,30.0,30.0,30.0,80.0,30.0,12.0,30.0,85.0,30.0,33.0,30.0,27.0,30.0,65.0,30.0,15.0,30.0,42.0,30.0,22.0,30.0,18.0,30.0,48.0,30.0,12.0,30.0,72.0,30.0,22.0,30.0,21.0,30.0,55.0,30.0,42.0,30.0,12.0,30.0,78.0,30.0,27.0,30.0,48.0,30.0,21.0,30.0,65.0,30.0,13.0,30.0,17.0,30.0,24.0,30.0,30.0,30.0,38.0,30.0,75.0,30.0,23.0,30.0,13.0,30.0,37.0,30.0,20.0,30.0,33.0,30.0,60.0,30.0,22.0,30.0,20.0,30.0,37.0,30.0,45.0,30.0,18.0,30.0,83.0,30.0,30.0,30.0,10.0,30.0,55.0,30.0,37.0,30.0,23.0,30.0,70.0,30.0,35.0,30.0,14.0,30.0,50.0,30.0,18.0,30.0,40.0,30.0,50.0,30.0,30.0,30.0,20.0,30.0,110.0,30.0,10.0,30.0,65.0,30.0,40.0,30.0,35.0,30.0,15.0,30.0,90.0,30.0,45.0,30.0,30.0,30.0,14.0,30.0,100.0,30.0,50.0,30.0,10.0,30.0,65.0,30.0,40.0,30.0,12.0,30.0,75.0,30.0,30.0,30.0,35.0,30.0,17.0,30.0,105.0,30.0,25.0,30.0,20.0,30.0,12.0,30.0,85.0,30.0,43.0,30.0,8.0,30.0,17.0,30.0,80.0,30.0,30.0,30.0,95.0,30.0,27.0,30.0,11.0,30.0,95.0,30.0,45.0,30.0,60.0,30.0,22.0,30.0,9.0,30.0,90.0,30.0,50.0,30.0,25.0,30.0,15.0,30.0,100.0,30.0,37.0,30.0,30.0,30.0,80.0,30.0,12.0,30.0,85.0,30.0,33.0,30.0,27.0,30.0,65.0,30.0,15.0,30.0,42.0,30.0,22.0,30.0,18.0,30.0,48.0,30.0,12.0,30.0,72.0,30.0,22.0,30.0,21.0,30.0,55.0,30.0,42.0,30.0,12.0,30.0,78.0,30.0,27.0,30.0,48.0,30.0,21.0,30.0,65.0,30.0,13.0,30.0,17.0,30.0,24.0,30.0,30.0,30.0,38.0,30.0,75.0,30.0,23.0,30.0,13.0,30.0,37.0,30.0,20.0,30.0,33.0,30.0,60.0,30.0,22.0,30.0,20.0,30.0,37.0,30.0,45.0,30.0,18.0,30.0,83.0,30.0,30.0,30.0,10.0,30.0,55.0,30.0,37.0,30.0,23.0,30.0,70.0,30.0,35.0,30.0,14.0,30.0,50.0,30.0,18.0,30.0,40.0,30.0,50.0,30.0,30.0,30.0,20.0,30.0,110.0,30.0,10.0,30.0,65.0,30.0,40.0,30.0,35.0,30.0,15.0,30.0,90.0,30.0,45.0,30.0,30.0,30.0,14.0,30.0,100.0,30.0,50.0,30.0,10.0,30.0,65.0,30.0,40.0,30.0,12.0,30.0,75.0,30.0,30.0,30.0,35.0,30.0,17.0,30.0,105.0,30.0,25.0,30.0,20.0,30.0,12.0,30.0,85.0,30.0,43.0,30.0,8.0,30.0,17.0,30.0,80.0,30.0,30.0,30.0,95.0,30.0,27.0,30.0,11.0,30.0,95.0,30.0,45.0,30.0,60.0,30.0,22.0,30.0,9.0,30.0,90.0,30.0,50.0,30.0,25.0,30.0,15.0,30.0,100.0,30.0,37.0,30.0,30.0,30.0,80.0,30.0,12.0,30.0,85.0,30.0,33.0,30.0,27.0,30.0,65.0,30.0,15.0,30.0,42.0,30.0,22.0,30.0,18.0,30.0,48.0,30.0,12.0,30.0,72.0,30.0,22.0,30.0,21.0,30.0,55.0,30.0,42.0,30.0,12.0,30.0,78.0,30.0,27.0,30.0,48.0,30.0,21.0,30.0,65.0,30.0,13.0,30.0,17.0,30.0,24.0,30.0,30.0,30.0,38.0,30.0,75.0,30.0,23.0,30.0,13.0,30.0,37.0,30.0,20.0,30.0,33.0,30.0,60.0,30.0,22.0,30.0,20.0,30.0,37.0,30.0,45.0,30.0,18.0,30.0,83.0,30.0,30.0,30.0,10.0,30.0,55.0,30.0,37.0,30.0,23.0,30.0,70.0,30.0,35.0,30.0,14.0,30.0,50.0,30.0,18.0,30.0,40.0,30.0,50.0,30.0,30.0,30.0,20.0,30.0,110.0,30.0,10.0,30.0,65.0,30.0,40.0,30.0,35.0,30.0,15.0,30.0,90.0,30.0,45.0,30.0,30.0,30.0,14.0,30.0,100.0,30.0,50.0,30.0,10.0,30.0,65.0,30.0,40.0,30.0,12.0,30.0,75.0,30.0,30.0,30.0,35.0,30.0,17.0,30.0,105.0,30.0,25.0,30.0,20.0,30.0,12.0,30.0,85.0,30.0,43.0,30.0,8.0,30.0,17.0,30.0,80.0,30.0,30.0,30.0,95.0,30.0,27.0,30.0,11.0,30.0,95.0,30.0,45.0,30.0,60.0,30.0,22.0,30.0,9.0,30.0,30.0,30.0,30.0,30.0,90.0,30.0,50.0,30.0,25.0,30.0,15.0,30.0,100.0,30.0,37.0,30.0,30.0,30.0,80.0,30.0,12.0,30.0,85.0,30.0,33.0,30.0,27.0,30.0,65.0,30.0,15.0,30.0,42.0,30.0,22.0,30.0,18.0,30.0,48.0,30.0,12.0,30.0,72.0,30.0,22.0,30.0,21.0,30.0,55.0,30.0,42.0,30.0,12.0,30.0,78.0,30.0,27.0,30.0,48.0,30.0,21.0,30.0,65.0,30.0,13.0,30.0,17.0,30.0,24.0,30.0,30.0,30.0,38.0,30.0,75.0,30.0,23.0,30.0,13.0,30.0,37.0,30.0,20.0,30.0,33.0,30.0,60.0,30.0,22.0,30.0,20.0,30.0,37.0,30.0,45.0,30.0,18.0,30.0,83.0,30.0,30.0,30.0,10.0,30.0,55.0,30.0,37.0,30.0,23.0,30.0,70.0,30.0,35.0,30.0,14.0,30.0,50.0,30.0,18.0,30.0,40.0,30.0,50.0,30.0,30.0,30.0,20.0,30.0,110.0,30.0,10.0,30.0,65.0,30.0,40.0,30.0,35.0,30.0,15.0,30.0,90.0,30.0,45.0,30.0,30.0,30.0,14.0,30.0,100.0,30.0,50.0,30.0,10.0,30.0,65.0,30.0,40.0,30.0,12.0,30.0,75.0,30.0,30.0,30.0,35.0,30.0,17.0,30.0,105.0,30.0,25.0,30.0,20.0,30.0,12.0,30.0,85.0,30.0,43.0,30.0,8.0,30.0,17.0,30.0,80.0,30.0,30.0,30.0,95.0,30.0,27.0,30.0,11.0,30.0,95.0,30.0,45.0,30.0,60.0,30.0,22.0,30.0,9.0,30.0,90.0,30.0,50.0,30.0,25.0,30.0,15.0,30.0,100.0,30.0,37.0,30.0,30.0,30.0,80.0,30.0,12.0,30.0,85.0,30.0,33.0,30.0,27.0,30.0,65.0,30.0,15.0,30.0,42.0,30.0,22.0,30.0,18.0,30.0,48.0,30.0,12.0,30.0,72.0,30.0,22.0,30.0,21.0,30.0,55.0,30.0,42.0,30.0,12.0,30.0,78.0,30.0,27.0,30.0,48.0,30.0,21.0,30.0,65.0,30.0,13.0,30.0,17.0,30.0,24.0,30.0,30.0,30.0,38.0,30.0,75.0,30.0,23.0,30.0,13.0,30.0,37.0,30.0,20.0,30.0,33.0,30.0,60.0,30.0,22.0,30.0,20.0,30.0,37.0,30.0,45.0,30.0,18.0,30.0,83.0,30.0,30.0,30.0,10.0,30.0,55.0,30.0,37.0,30.0,23.0,30.0,70.0,30.0,35.0,30.0,14.0,30.0,50.0,30.0,18.0,30.0,40.0,30.0,50.0,30.0,30.0,30.0,20.0,30.0,110.0,30.0,10.0,30.0,65.0,30.0,40.0,30.0,35.0,30.0,15.0,30.0,90.0,30.0,45.0,30.0,30.0,30.0,14.0,30.0,100.0,30.0,50.0,30.0,10.0,30.0,65.0,30.0,40.0,30.0,12.0,30.0,75.0,30.0,30.0,30.0,35.0,30.0,17.0,30.0,105.0,30.0,25.0,30.0,20.0,30.0,12.0,30.0,85.0,30.0,43.0,30.0,8.0,30.0,17.0,30.0,80.0,30.0,30.0,30.0,95.0,30.0,27.0,30.0,11.0,30.0,95.0,30.0,45.0,30.0,60.0,30.0,22.0,30.0,9.0,30.0,90.0,30.0,50.0,30.0,25.0,30.0,15.0,30.0,100.0,30.0,37.0,30.0,30.0,30.0,80.0,30.0,12.0,30.0,85.0,30.0,33.0,30.0,27.0,30.0,65.0,30.0,15.0,30.0,42.0,30.0,22.0,30.0,18.0,30.0,48.0,30.0,12.0,30.0,72.0,30.0,22.0,30.0,21.0,30.0,55.0,30.0,42.0,30.0,12.0,30.0,78.0,30.0,27.0,30.0,48.0,30.0,21.0,30.0,65.0,30.0,13.0,30.0,17.0,30.0,24.0,30.0,30.0,30.0,38.0,30.0,75.0,30.0,23.0,30.0,13.0,30.0,37.0,30.0,20.0,30.0,33.0,30.0,60.0,30.0,22.0,30.0,20.0,30.0,37.0,30.0,45.0,30.0,18.0,30.0,83.0,30.0,30.0,30.0,10.0,30.0,55.0,30.0,37.0,30.0,23.0,30.0,70.0,30.0,35.0,30.0,14.0,30.0,50.0,30.0,18.0,30.0,40.0,30.0,50.0,30.0,30.0,30.0,20.0,30.0,110.0,30.0,10.0,30.0,65.0,30.0,40.0,30.0,35.0,30.0,15.0,30.0,90.0,30.0,45.0,30.0,30.0,30.0,14.0,30.0,100.0,30.0,50.0,30.0,10.0,30.0,65.0,30.0,40.0,30.0,12.0,30.0,75.0,30.0,30.0,30.0,35.0,30.0,17.0,30.0,105.0,30.0,25.0,30.0,20.0,30.0,12.0,30.0,85.0,30.0,43.0,30.0,8.0,30.0,17.0,30.0,80.0,30.0,30.0,30.0,95.0,30.0,27.0,30.0,11.0,30.0,95.0,30.0,45.0,30.0,60.0,30.0,22.0,30.0,9.0,30.0,90.0,30.0,50.0,30.0,25.0,30.0,15.0,30.0,100.0,30.0,37.0,30.0,30.0,30.0,80.0,30.0,12.0,30.0,85.0,30.0,33.0,30.0,27.0,30.0,65.0,30.0,15.0,30.0,42.0,30.0,22.0,30.0,18.0,30.0,48.0,30.0,12.0,30.0,72.0,30.0,22.0,30.0,21.0,30.0,55.0,30.0,42.0,30.0,12.0,30.0,78.0,30.0,27.0,30.0,48.0,30.0,21.0,30.0,65.0,30.0,13.0,30.0,17.0,30.0,24.0,30.0,30.0,30.0,38.0,30.0,75.0,30.0,23.0,30.0,13.0,30.0,37.0,30.0,20.0,30.0,33.0,30.0,60.0,30.0,22.0,30.0,20.0,30.0,37.0,30.0,45.0,30.0,18.0,30.0,83.0,30.0,30.0,30.0,10.0,30.0,55.0,30.0,37.0,30.0,23.0,30.0,70.0,30.0,35.0,30.0,14.0,30.0,50.0,30.0,18.0,30.0,40.0],\"xaxis\":\"x\",\"yaxis\":\"y\",\"type\":\"histogram\"}],                        {\"template\":{\"data\":{\"histogram2dcontour\":[{\"type\":\"histogram2dcontour\",\"colorbar\":{\"outlinewidth\":0,\"ticks\":\"\"},\"colorscale\":[[0.0,\"#0d0887\"],[0.1111111111111111,\"#46039f\"],[0.2222222222222222,\"#7201a8\"],[0.3333333333333333,\"#9c179e\"],[0.4444444444444444,\"#bd3786\"],[0.5555555555555556,\"#d8576b\"],[0.6666666666666666,\"#ed7953\"],[0.7777777777777778,\"#fb9f3a\"],[0.8888888888888888,\"#fdca26\"],[1.0,\"#f0f921\"]]}],\"choropleth\":[{\"type\":\"choropleth\",\"colorbar\":{\"outlinewidth\":0,\"ticks\":\"\"}}],\"histogram2d\":[{\"type\":\"histogram2d\",\"colorbar\":{\"outlinewidth\":0,\"ticks\":\"\"},\"colorscale\":[[0.0,\"#0d0887\"],[0.1111111111111111,\"#46039f\"],[0.2222222222222222,\"#7201a8\"],[0.3333333333333333,\"#9c179e\"],[0.4444444444444444,\"#bd3786\"],[0.5555555555555556,\"#d8576b\"],[0.6666666666666666,\"#ed7953\"],[0.7777777777777778,\"#fb9f3a\"],[0.8888888888888888,\"#fdca26\"],[1.0,\"#f0f921\"]]}],\"heatmap\":[{\"type\":\"heatmap\",\"colorbar\":{\"outlinewidth\":0,\"ticks\":\"\"},\"colorscale\":[[0.0,\"#0d0887\"],[0.1111111111111111,\"#46039f\"],[0.2222222222222222,\"#7201a8\"],[0.3333333333333333,\"#9c179e\"],[0.4444444444444444,\"#bd3786\"],[0.5555555555555556,\"#d8576b\"],[0.6666666666666666,\"#ed7953\"],[0.7777777777777778,\"#fb9f3a\"],[0.8888888888888888,\"#fdca26\"],[1.0,\"#f0f921\"]]}],\"heatmapgl\":[{\"type\":\"heatmapgl\",\"colorbar\":{\"outlinewidth\":0,\"ticks\":\"\"},\"colorscale\":[[0.0,\"#0d0887\"],[0.1111111111111111,\"#46039f\"],[0.2222222222222222,\"#7201a8\"],[0.3333333333333333,\"#9c179e\"],[0.4444444444444444,\"#bd3786\"],[0.5555555555555556,\"#d8576b\"],[0.6666666666666666,\"#ed7953\"],[0.7777777777777778,\"#fb9f3a\"],[0.8888888888888888,\"#fdca26\"],[1.0,\"#f0f921\"]]}],\"contourcarpet\":[{\"type\":\"contourcarpet\",\"colorbar\":{\"outlinewidth\":0,\"ticks\":\"\"}}],\"contour\":[{\"type\":\"contour\",\"colorbar\":{\"outlinewidth\":0,\"ticks\":\"\"},\"colorscale\":[[0.0,\"#0d0887\"],[0.1111111111111111,\"#46039f\"],[0.2222222222222222,\"#7201a8\"],[0.3333333333333333,\"#9c179e\"],[0.4444444444444444,\"#bd3786\"],[0.5555555555555556,\"#d8576b\"],[0.6666666666666666,\"#ed7953\"],[0.7777777777777778,\"#fb9f3a\"],[0.8888888888888888,\"#fdca26\"],[1.0,\"#f0f921\"]]}],\"surface\":[{\"type\":\"surface\",\"colorbar\":{\"outlinewidth\":0,\"ticks\":\"\"},\"colorscale\":[[0.0,\"#0d0887\"],[0.1111111111111111,\"#46039f\"],[0.2222222222222222,\"#7201a8\"],[0.3333333333333333,\"#9c179e\"],[0.4444444444444444,\"#bd3786\"],[0.5555555555555556,\"#d8576b\"],[0.6666666666666666,\"#ed7953\"],[0.7777777777777778,\"#fb9f3a\"],[0.8888888888888888,\"#fdca26\"],[1.0,\"#f0f921\"]]}],\"mesh3d\":[{\"type\":\"mesh3d\",\"colorbar\":{\"outlinewidth\":0,\"ticks\":\"\"}}],\"scatter\":[{\"fillpattern\":{\"fillmode\":\"overlay\",\"size\":10,\"solidity\":0.2},\"type\":\"scatter\"}],\"parcoords\":[{\"type\":\"parcoords\",\"line\":{\"colorbar\":{\"outlinewidth\":0,\"ticks\":\"\"}}}],\"scatterpolargl\":[{\"type\":\"scatterpolargl\",\"marker\":{\"colorbar\":{\"outlinewidth\":0,\"ticks\":\"\"}}}],\"bar\":[{\"error_x\":{\"color\":\"#2a3f5f\"},\"error_y\":{\"color\":\"#2a3f5f\"},\"marker\":{\"line\":{\"color\":\"#E5ECF6\",\"width\":0.5},\"pattern\":{\"fillmode\":\"overlay\",\"size\":10,\"solidity\":0.2}},\"type\":\"bar\"}],\"scattergeo\":[{\"type\":\"scattergeo\",\"marker\":{\"colorbar\":{\"outlinewidth\":0,\"ticks\":\"\"}}}],\"scatterpolar\":[{\"type\":\"scatterpolar\",\"marker\":{\"colorbar\":{\"outlinewidth\":0,\"ticks\":\"\"}}}],\"histogram\":[{\"marker\":{\"pattern\":{\"fillmode\":\"overlay\",\"size\":10,\"solidity\":0.2}},\"type\":\"histogram\"}],\"scattergl\":[{\"type\":\"scattergl\",\"marker\":{\"colorbar\":{\"outlinewidth\":0,\"ticks\":\"\"}}}],\"scatter3d\":[{\"type\":\"scatter3d\",\"line\":{\"colorbar\":{\"outlinewidth\":0,\"ticks\":\"\"}},\"marker\":{\"colorbar\":{\"outlinewidth\":0,\"ticks\":\"\"}}}],\"scattermapbox\":[{\"type\":\"scattermapbox\",\"marker\":{\"colorbar\":{\"outlinewidth\":0,\"ticks\":\"\"}}}],\"scatterternary\":[{\"type\":\"scatterternary\",\"marker\":{\"colorbar\":{\"outlinewidth\":0,\"ticks\":\"\"}}}],\"scattercarpet\":[{\"type\":\"scattercarpet\",\"marker\":{\"colorbar\":{\"outlinewidth\":0,\"ticks\":\"\"}}}],\"carpet\":[{\"aaxis\":{\"endlinecolor\":\"#2a3f5f\",\"gridcolor\":\"white\",\"linecolor\":\"white\",\"minorgridcolor\":\"white\",\"startlinecolor\":\"#2a3f5f\"},\"baxis\":{\"endlinecolor\":\"#2a3f5f\",\"gridcolor\":\"white\",\"linecolor\":\"white\",\"minorgridcolor\":\"white\",\"startlinecolor\":\"#2a3f5f\"},\"type\":\"carpet\"}],\"table\":[{\"cells\":{\"fill\":{\"color\":\"#EBF0F8\"},\"line\":{\"color\":\"white\"}},\"header\":{\"fill\":{\"color\":\"#C8D4E3\"},\"line\":{\"color\":\"white\"}},\"type\":\"table\"}],\"barpolar\":[{\"marker\":{\"line\":{\"color\":\"#E5ECF6\",\"width\":0.5},\"pattern\":{\"fillmode\":\"overlay\",\"size\":10,\"solidity\":0.2}},\"type\":\"barpolar\"}],\"pie\":[{\"automargin\":true,\"type\":\"pie\"}]},\"layout\":{\"autotypenumbers\":\"strict\",\"colorway\":[\"#636efa\",\"#EF553B\",\"#00cc96\",\"#ab63fa\",\"#FFA15A\",\"#19d3f3\",\"#FF6692\",\"#B6E880\",\"#FF97FF\",\"#FECB52\"],\"font\":{\"color\":\"#2a3f5f\"},\"hovermode\":\"closest\",\"hoverlabel\":{\"align\":\"left\"},\"paper_bgcolor\":\"white\",\"plot_bgcolor\":\"#E5ECF6\",\"polar\":{\"bgcolor\":\"#E5ECF6\",\"angularaxis\":{\"gridcolor\":\"white\",\"linecolor\":\"white\",\"ticks\":\"\"},\"radialaxis\":{\"gridcolor\":\"white\",\"linecolor\":\"white\",\"ticks\":\"\"}},\"ternary\":{\"bgcolor\":\"#E5ECF6\",\"aaxis\":{\"gridcolor\":\"white\",\"linecolor\":\"white\",\"ticks\":\"\"},\"baxis\":{\"gridcolor\":\"white\",\"linecolor\":\"white\",\"ticks\":\"\"},\"caxis\":{\"gridcolor\":\"white\",\"linecolor\":\"white\",\"ticks\":\"\"}},\"coloraxis\":{\"colorbar\":{\"outlinewidth\":0,\"ticks\":\"\"}},\"colorscale\":{\"sequential\":[[0.0,\"#0d0887\"],[0.1111111111111111,\"#46039f\"],[0.2222222222222222,\"#7201a8\"],[0.3333333333333333,\"#9c179e\"],[0.4444444444444444,\"#bd3786\"],[0.5555555555555556,\"#d8576b\"],[0.6666666666666666,\"#ed7953\"],[0.7777777777777778,\"#fb9f3a\"],[0.8888888888888888,\"#fdca26\"],[1.0,\"#f0f921\"]],\"sequentialminus\":[[0.0,\"#0d0887\"],[0.1111111111111111,\"#46039f\"],[0.2222222222222222,\"#7201a8\"],[0.3333333333333333,\"#9c179e\"],[0.4444444444444444,\"#bd3786\"],[0.5555555555555556,\"#d8576b\"],[0.6666666666666666,\"#ed7953\"],[0.7777777777777778,\"#fb9f3a\"],[0.8888888888888888,\"#fdca26\"],[1.0,\"#f0f921\"]],\"diverging\":[[0,\"#8e0152\"],[0.1,\"#c51b7d\"],[0.2,\"#de77ae\"],[0.3,\"#f1b6da\"],[0.4,\"#fde0ef\"],[0.5,\"#f7f7f7\"],[0.6,\"#e6f5d0\"],[0.7,\"#b8e186\"],[0.8,\"#7fbc41\"],[0.9,\"#4d9221\"],[1,\"#276419\"]]},\"xaxis\":{\"gridcolor\":\"white\",\"linecolor\":\"white\",\"ticks\":\"\",\"title\":{\"standoff\":15},\"zerolinecolor\":\"white\",\"automargin\":true,\"zerolinewidth\":2},\"yaxis\":{\"gridcolor\":\"white\",\"linecolor\":\"white\",\"ticks\":\"\",\"title\":{\"standoff\":15},\"zerolinecolor\":\"white\",\"automargin\":true,\"zerolinewidth\":2},\"scene\":{\"xaxis\":{\"backgroundcolor\":\"#E5ECF6\",\"gridcolor\":\"white\",\"linecolor\":\"white\",\"showbackground\":true,\"ticks\":\"\",\"zerolinecolor\":\"white\",\"gridwidth\":2},\"yaxis\":{\"backgroundcolor\":\"#E5ECF6\",\"gridcolor\":\"white\",\"linecolor\":\"white\",\"showbackground\":true,\"ticks\":\"\",\"zerolinecolor\":\"white\",\"gridwidth\":2},\"zaxis\":{\"backgroundcolor\":\"#E5ECF6\",\"gridcolor\":\"white\",\"linecolor\":\"white\",\"showbackground\":true,\"ticks\":\"\",\"zerolinecolor\":\"white\",\"gridwidth\":2}},\"shapedefaults\":{\"line\":{\"color\":\"#2a3f5f\"}},\"annotationdefaults\":{\"arrowcolor\":\"#2a3f5f\",\"arrowhead\":0,\"arrowwidth\":1},\"geo\":{\"bgcolor\":\"white\",\"landcolor\":\"#E5ECF6\",\"subunitcolor\":\"white\",\"showland\":true,\"showlakes\":true,\"lakecolor\":\"white\"},\"title\":{\"x\":0.05},\"mapbox\":{\"style\":\"light\"}}},\"xaxis\":{\"anchor\":\"y\",\"domain\":[0.0,1.0],\"title\":{\"text\":\"Likes_Received_Per_Day\"}},\"yaxis\":{\"anchor\":\"x\",\"domain\":[0.0,1.0],\"title\":{\"text\":\"count\"}},\"legend\":{\"tracegroupgap\":0},\"title\":{\"text\":\"Posts Per Day Distribution\"},\"barmode\":\"relative\"},                        {\"responsive\": true}                    ).then(function(){\n",
              "                            \n",
              "var gd = document.getElementById('8667b7ee-a501-4ba4-8f1f-dbdfeb86450c');\n",
              "var x = new MutationObserver(function (mutations, observer) {{\n",
              "        var display = window.getComputedStyle(gd).display;\n",
              "        if (!display || display === 'none') {{\n",
              "            console.log([gd, 'removed!']);\n",
              "            Plotly.purge(gd);\n",
              "            observer.disconnect();\n",
              "        }}\n",
              "}});\n",
              "\n",
              "// Listen for the removal of the full notebook cells\n",
              "var notebookContainer = gd.closest('#notebook-container');\n",
              "if (notebookContainer) {{\n",
              "    x.observe(notebookContainer, {childList: true});\n",
              "}}\n",
              "\n",
              "// Listen for the clearing of the current output cell\n",
              "var outputEl = gd.closest('.output');\n",
              "if (outputEl) {{\n",
              "    x.observe(outputEl, {childList: true});\n",
              "}}\n",
              "\n",
              "                        })                };                            </script>        </div>\n",
              "</body>\n",
              "</html>"
            ]
          },
          "metadata": {}
        }
      ]
    },
    {
      "cell_type": "markdown",
      "source": [
        "### Comments Per Day Distribution"
      ],
      "metadata": {
        "id": "rq5sYYuyFBgo"
      }
    },
    {
      "cell_type": "code",
      "source": [
        "train_df['Comments_Received_Per_Day'].unique()"
      ],
      "metadata": {
        "id": "I0h8rHvjFBgo",
        "outputId": "eee16c65-3a77-40b0-d765-1ccffd02f7fe",
        "colab": {
          "base_uri": "https://localhost:8080/"
        }
      },
      "execution_count": null,
      "outputs": [
        {
          "output_type": "execute_result",
          "data": {
            "text/plain": [
              "array([nan, 10., 25.,  5., 30.,  2., 15., 12.,  3., 20.,  7.,  4., 23.,\n",
              "       18., 22., 14., 26.,  8., 19., 17., 11.,  6.,  9., 13., 40., 16.,\n",
              "       35., 38., 28., 36., 33.])"
            ]
          },
          "metadata": {},
          "execution_count": 42
        }
      ]
    },
    {
      "cell_type": "code",
      "source": [
        "# filling with mode\n",
        "train_df['Comments_Received_Per_Day'].fillna(train_df['Comments_Received_Per_Day'].mode()[0], inplace=True)"
      ],
      "metadata": {
        "id": "nRba-G6TFBgo"
      },
      "execution_count": null,
      "outputs": []
    },
    {
      "cell_type": "code",
      "source": [
        "train_df['Comments_Received_Per_Day'].unique()"
      ],
      "metadata": {
        "id": "T9NvAr-_FBgo",
        "outputId": "996cbba1-760b-4d93-9736-45890ecf635f",
        "colab": {
          "base_uri": "https://localhost:8080/"
        }
      },
      "execution_count": null,
      "outputs": [
        {
          "output_type": "execute_result",
          "data": {
            "text/plain": [
              "array([18., 10., 25.,  5., 30.,  2., 15., 12.,  3., 20.,  7.,  4., 23.,\n",
              "       22., 14., 26.,  8., 19., 17., 11.,  6.,  9., 13., 40., 16., 35.,\n",
              "       38., 28., 36., 33.])"
            ]
          },
          "metadata": {},
          "execution_count": 44
        }
      ]
    },
    {
      "cell_type": "code",
      "source": [
        "plt = px.histogram(train_df, x='Comments_Received_Per_Day', title='Posts Per Day Distribution')\n",
        "plt.show()"
      ],
      "metadata": {
        "id": "U_CHyFvcFBgo",
        "outputId": "61cb1268-1b9c-401d-d412-88d90b5008b8",
        "colab": {
          "base_uri": "https://localhost:8080/",
          "height": 542
        }
      },
      "execution_count": null,
      "outputs": [
        {
          "output_type": "display_data",
          "data": {
            "text/html": [
              "<html>\n",
              "<head><meta charset=\"utf-8\" /></head>\n",
              "<body>\n",
              "    <div>            <script src=\"https://cdnjs.cloudflare.com/ajax/libs/mathjax/2.7.5/MathJax.js?config=TeX-AMS-MML_SVG\"></script><script type=\"text/javascript\">if (window.MathJax && window.MathJax.Hub && window.MathJax.Hub.Config) {window.MathJax.Hub.Config({SVG: {font: \"STIX-Web\"}});}</script>                <script type=\"text/javascript\">window.PlotlyConfig = {MathJaxConfig: 'local'};</script>\n",
              "        <script charset=\"utf-8\" src=\"https://cdn.plot.ly/plotly-2.35.2.min.js\"></script>                <div id=\"6d6eebd7-f5dd-40b3-9991-303bb70b3760\" class=\"plotly-graph-div\" style=\"height:525px; width:100%;\"></div>            <script type=\"text/javascript\">                                    window.PLOTLYENV=window.PLOTLYENV || {};                                    if (document.getElementById(\"6d6eebd7-f5dd-40b3-9991-303bb70b3760\")) {                    Plotly.newPlot(                        \"6d6eebd7-f5dd-40b3-9991-303bb70b3760\",                        [{\"alignmentgroup\":\"True\",\"bingroup\":\"x\",\"hovertemplate\":\"Comments_Received_Per_Day=%{x}\\u003cbr\\u003ecount=%{y}\\u003cextra\\u003e\\u003c\\u002fextra\\u003e\",\"legendgroup\":\"\",\"marker\":{\"color\":\"#636efa\",\"pattern\":{\"shape\":\"\"}},\"name\":\"\",\"offsetgroup\":\"\",\"orientation\":\"v\",\"showlegend\":false,\"x\":[18.0,10.0,18.0,25.0,18.0,5.0,18.0,30.0,18.0,2.0,18.0,15.0,18.0,10.0,18.0,12.0,18.0,3.0,18.0,20.0,18.0,7.0,18.0,10.0,18.0,4.0,18.0,25.0,18.0,23.0,18.0,2.0,18.0,18.0,18.0,15.0,18.0,3.0,18.0,22.0,18.0,10.0,18.0,14.0,18.0,5.0,18.0,26.0,18.0,12.0,18.0,8.0,18.0,2.0,18.0,19.0,18.0,17.0,18.0,3.0,18.0,4.0,18.0,20.0,18.0,11.0,18.0,15.0,18.0,8.0,18.0,5.0,18.0,25.0,18.0,15.0,18.0,12.0,18.0,10.0,18.0,2.0,18.0,18.0,18.0,20.0,18.0,8.0,18.0,5.0,18.0,23.0,18.0,12.0,18.0,11.0,18.0,19.0,18.0,4.0,18.0,22.0,18.0,15.0,18.0,7.0,18.0,18.0,18.0,3.0,18.0,8.0,18.0,10.0,18.0,5.0,18.0,20.0,18.0,4.0,18.0,23.0,18.0,8.0,18.0,7.0,18.0,15.0,18.0,12.0,18.0,2.0,18.0,18.0,18.0,8.0,18.0,15.0,18.0,6.0,18.0,18.0,18.0,7.0,18.0,5.0,18.0,9.0,18.0,11.0,18.0,12.0,18.0,20.0,18.0,10.0,18.0,5.0,18.0,14.0,18.0,6.0,18.0,13.0,18.0,19.0,18.0,5.0,18.0,8.0,18.0,12.0,18.0,15.0,18.0,5.0,18.0,22.0,18.0,10.0,18.0,2.0,18.0,18.0,18.0,13.0,18.0,7.0,18.0,20.0,18.0,13.0,18.0,5.0,18.0,20.0,18.0,6.0,18.0,13.0,18.0,20.0,18.0,20.0,18.0,10.0,18.0,40.0,18.0,5.0,18.0,25.0,18.0,18.0,18.0,16.0,18.0,5.0,18.0,35.0,18.0,20.0,18.0,14.0,18.0,6.0,18.0,38.0,18.0,30.0,18.0,4.0,18.0,22.0,18.0,16.0,18.0,6.0,18.0,28.0,18.0,14.0,18.0,20.0,18.0,8.0,18.0,36.0,18.0,16.0,18.0,10.0,18.0,5.0,18.0,26.0,18.0,19.0,18.0,4.0,18.0,5.0,18.0,30.0,18.0,14.0,18.0,22.0,18.0,11.0,18.0,6.0,18.0,30.0,18.0,18.0,18.0,17.0,18.0,12.0,18.0,4.0,18.0,26.0,18.0,22.0,18.0,12.0,18.0,7.0,18.0,33.0,18.0,14.0,18.0,12.0,18.0,28.0,18.0,6.0,18.0,30.0,18.0,18.0,18.0,9.0,18.0,23.0,18.0,7.0,18.0,10.0,18.0,11.0,18.0,7.0,18.0,22.0,18.0,5.0,18.0,30.0,18.0,10.0,18.0,8.0,18.0,18.0,18.0,14.0,18.0,4.0,18.0,23.0,18.0,10.0,18.0,20.0,18.0,8.0,18.0,22.0,18.0,8.0,18.0,7.0,18.0,12.0,18.0,13.0,18.0,18.0,18.0,25.0,18.0,12.0,18.0,7.0,18.0,18.0,18.0,10.0,18.0,20.0,18.0,25.0,18.0,7.0,18.0,8.0,18.0,14.0,18.0,20.0,18.0,7.0,18.0,30.0,18.0,12.0,18.0,4.0,18.0,25.0,18.0,16.0,18.0,10.0,18.0,25.0,18.0,18.0,18.0,6.0,18.0,25.0,18.0,8.0,18.0,18.0,18.0,20.0,18.0,20.0,18.0,10.0,18.0,40.0,18.0,5.0,18.0,25.0,18.0,18.0,18.0,16.0,18.0,5.0,18.0,35.0,18.0,20.0,18.0,14.0,18.0,6.0,18.0,38.0,18.0,30.0,18.0,4.0,18.0,22.0,18.0,16.0,18.0,6.0,18.0,28.0,18.0,14.0,18.0,20.0,18.0,8.0,18.0,36.0,18.0,16.0,18.0,10.0,18.0,5.0,18.0,26.0,18.0,19.0,18.0,4.0,18.0,5.0,18.0,30.0,18.0,14.0,18.0,22.0,18.0,11.0,18.0,6.0,18.0,30.0,18.0,18.0,18.0,17.0,18.0,12.0,18.0,4.0,18.0,26.0,18.0,22.0,18.0,12.0,18.0,7.0,18.0,33.0,18.0,14.0,18.0,12.0,18.0,28.0,18.0,6.0,18.0,30.0,18.0,18.0,18.0,9.0,18.0,23.0,18.0,7.0,18.0,10.0,18.0,11.0,18.0,7.0,18.0,22.0,18.0,5.0,18.0,30.0,18.0,10.0,18.0,8.0,18.0,18.0,18.0,14.0,18.0,4.0,18.0,23.0,18.0,10.0,18.0,20.0,18.0,8.0,18.0,22.0,18.0,8.0,18.0,7.0,18.0,12.0,18.0,13.0,18.0,18.0,18.0,25.0,18.0,12.0,18.0,7.0,18.0,18.0,18.0,10.0,18.0,20.0,18.0,25.0,18.0,7.0,18.0,8.0,18.0,14.0,18.0,20.0,18.0,7.0,18.0,30.0,18.0,12.0,18.0,4.0,18.0,25.0,18.0,16.0,18.0,10.0,18.0,25.0,18.0,18.0,18.0,6.0,18.0,25.0,18.0,8.0,18.0,18.0,18.0,20.0,18.0,20.0,18.0,10.0,18.0,40.0,18.0,5.0,18.0,25.0,18.0,18.0,18.0,16.0,18.0,5.0,18.0,35.0,18.0,20.0,18.0,14.0,18.0,6.0,18.0,38.0,18.0,30.0,18.0,4.0,18.0,22.0,18.0,16.0,18.0,6.0,18.0,28.0,18.0,14.0,18.0,20.0,18.0,8.0,18.0,36.0,18.0,16.0,18.0,10.0,18.0,5.0,18.0,26.0,18.0,19.0,18.0,4.0,18.0,5.0,18.0,30.0,18.0,14.0,18.0,22.0,18.0,11.0,18.0,6.0,18.0,30.0,18.0,18.0,18.0,17.0,18.0,12.0,18.0,4.0,18.0,26.0,18.0,22.0,18.0,12.0,18.0,7.0,18.0,33.0,18.0,14.0,18.0,12.0,18.0,28.0,18.0,6.0,18.0,30.0,18.0,18.0,18.0,9.0,18.0,23.0,18.0,7.0,18.0,10.0,18.0,11.0,18.0,7.0,18.0,22.0,18.0,5.0,18.0,30.0,18.0,10.0,18.0,8.0,18.0,18.0,18.0,14.0,18.0,4.0,18.0,23.0,18.0,10.0,18.0,20.0,18.0,8.0,18.0,22.0,18.0,8.0,18.0,7.0,18.0,12.0,18.0,13.0,18.0,18.0,18.0,25.0,18.0,12.0,18.0,7.0,18.0,18.0,18.0,10.0,18.0,20.0,18.0,25.0,18.0,7.0,18.0,8.0,18.0,14.0,18.0,20.0,18.0,7.0,18.0,30.0,18.0,12.0,18.0,4.0,18.0,25.0,18.0,16.0,18.0,10.0,18.0,25.0,18.0,18.0,18.0,6.0,18.0,25.0,18.0,8.0,18.0,18.0,18.0,20.0,18.0,20.0,18.0,10.0,18.0,40.0,18.0,5.0,18.0,25.0,18.0,18.0,18.0,16.0,18.0,5.0,18.0,35.0,18.0,20.0,18.0,14.0,18.0,6.0,18.0,38.0,18.0,30.0,18.0,4.0,18.0,22.0,18.0,16.0,18.0,6.0,18.0,28.0,18.0,14.0,18.0,20.0,18.0,8.0,18.0,36.0,18.0,16.0,18.0,10.0,18.0,5.0,18.0,26.0,18.0,19.0,18.0,4.0,18.0,5.0,18.0,30.0,18.0,14.0,18.0,22.0,18.0,11.0,18.0,6.0,18.0,30.0,18.0,18.0,18.0,17.0,18.0,12.0,18.0,4.0,18.0,26.0,18.0,22.0,18.0,12.0,18.0,7.0,18.0,33.0,18.0,14.0,18.0,12.0,18.0,28.0,18.0,6.0,18.0,30.0,18.0,18.0,18.0,9.0,18.0,23.0,18.0,7.0,18.0,10.0,18.0,11.0,18.0,7.0,18.0,22.0,18.0,5.0,18.0,30.0,18.0,10.0,18.0,8.0,18.0,18.0,18.0,14.0,18.0,4.0,18.0,23.0,18.0,10.0,18.0,20.0,18.0,8.0,18.0,22.0,18.0,8.0,18.0,7.0,18.0,12.0,18.0,13.0,18.0,18.0,18.0,25.0,18.0,12.0,18.0,7.0,18.0,18.0,18.0,10.0,18.0,20.0,18.0,25.0,18.0,7.0,18.0,8.0,18.0,14.0,18.0,20.0,18.0,7.0,18.0,30.0,18.0,12.0,18.0,4.0,18.0,25.0,18.0,16.0,18.0,10.0,18.0,25.0,18.0,18.0,18.0,6.0,18.0,25.0,18.0,8.0,18.0,18.0,18.0,20.0,18.0,20.0,18.0,10.0,18.0,40.0,18.0,5.0,18.0,25.0,18.0,18.0,18.0,16.0,18.0,5.0,18.0,35.0,18.0,20.0,18.0,14.0,18.0,6.0,18.0,38.0,18.0,30.0,18.0,4.0,18.0,22.0,18.0,16.0,18.0,6.0,18.0,28.0,18.0,14.0,18.0,20.0,18.0,8.0,18.0,36.0,18.0,16.0,18.0,10.0,18.0,5.0,18.0,26.0,18.0,19.0,18.0,4.0,18.0,5.0,18.0,30.0,18.0,14.0,18.0,22.0,18.0,11.0,18.0,6.0,18.0,30.0,18.0,18.0,18.0,17.0,18.0,12.0,18.0,4.0,18.0,26.0,18.0,22.0,18.0,12.0,18.0,7.0,18.0,33.0,18.0,14.0,18.0,12.0,18.0,28.0,18.0,6.0,18.0,30.0,18.0,18.0,18.0,9.0,18.0,23.0,18.0,7.0,18.0,10.0,18.0,11.0,18.0,7.0,18.0,22.0,18.0,5.0,18.0,30.0,18.0,10.0,18.0,8.0,18.0,18.0,18.0,14.0,18.0,4.0,18.0,23.0,18.0,10.0,18.0,20.0,18.0,8.0,18.0,22.0,18.0,8.0,18.0,7.0,18.0,12.0,18.0,13.0,18.0,18.0,18.0,25.0,18.0,12.0,18.0,7.0,18.0,18.0,18.0,10.0,18.0,20.0,18.0,25.0,18.0,7.0,18.0,8.0,18.0,14.0,18.0,20.0,18.0,7.0,18.0,30.0,18.0,12.0,18.0,4.0,18.0,25.0,18.0,16.0,18.0,10.0,18.0,25.0,18.0,18.0,18.0,6.0,18.0,25.0,18.0,8.0,18.0,18.0,18.0,20.0,18.0,20.0,18.0,10.0,18.0,40.0,18.0,5.0,18.0,25.0,18.0,18.0,18.0,16.0,18.0,5.0,18.0,35.0,18.0,20.0,18.0,14.0,18.0,6.0,18.0,38.0,18.0,30.0,18.0,4.0,18.0,22.0,18.0,16.0,18.0,6.0,18.0,28.0,18.0,14.0,18.0,20.0,18.0,8.0,18.0,36.0,18.0,16.0,18.0,10.0,18.0,5.0,18.0,26.0,18.0,19.0,18.0,4.0,18.0,5.0,18.0,30.0,18.0,14.0,18.0,22.0,18.0,11.0,18.0,6.0,18.0,30.0,18.0,18.0,18.0,17.0,18.0,12.0,18.0,4.0,18.0,18.0,18.0,18.0,18.0,26.0,18.0,22.0,18.0,12.0,18.0,7.0,18.0,33.0,18.0,14.0,18.0,12.0,18.0,28.0,18.0,6.0,18.0,30.0,18.0,18.0,18.0,9.0,18.0,23.0,18.0,7.0,18.0,10.0,18.0,11.0,18.0,7.0,18.0,22.0,18.0,5.0,18.0,30.0,18.0,10.0,18.0,8.0,18.0,18.0,18.0,14.0,18.0,4.0,18.0,23.0,18.0,10.0,18.0,20.0,18.0,8.0,18.0,22.0,18.0,8.0,18.0,7.0,18.0,12.0,18.0,13.0,18.0,18.0,18.0,25.0,18.0,12.0,18.0,7.0,18.0,18.0,18.0,10.0,18.0,20.0,18.0,25.0,18.0,7.0,18.0,8.0,18.0,14.0,18.0,20.0,18.0,7.0,18.0,30.0,18.0,12.0,18.0,4.0,18.0,25.0,18.0,16.0,18.0,10.0,18.0,25.0,18.0,18.0,18.0,6.0,18.0,25.0,18.0,8.0,18.0,18.0,18.0,20.0,18.0,20.0,18.0,10.0,18.0,40.0,18.0,5.0,18.0,25.0,18.0,18.0,18.0,16.0,18.0,5.0,18.0,35.0,18.0,20.0,18.0,14.0,18.0,6.0,18.0,38.0,18.0,30.0,18.0,4.0,18.0,22.0,18.0,16.0,18.0,6.0,18.0,28.0,18.0,14.0,18.0,20.0,18.0,8.0,18.0,36.0,18.0,16.0,18.0,10.0,18.0,5.0,18.0,26.0,18.0,19.0,18.0,4.0,18.0,5.0,18.0,30.0,18.0,14.0,18.0,22.0,18.0,11.0,18.0,6.0,18.0,30.0,18.0,18.0,18.0,17.0,18.0,12.0,18.0,4.0,18.0,26.0,18.0,22.0,18.0,12.0,18.0,7.0,18.0,33.0,18.0,14.0,18.0,12.0,18.0,28.0,18.0,6.0,18.0,30.0,18.0,18.0,18.0,9.0,18.0,23.0,18.0,7.0,18.0,10.0,18.0,11.0,18.0,7.0,18.0,22.0,18.0,5.0,18.0,30.0,18.0,10.0,18.0,8.0,18.0,18.0,18.0,14.0,18.0,4.0,18.0,23.0,18.0,10.0,18.0,20.0,18.0,8.0,18.0,22.0,18.0,8.0,18.0,7.0,18.0,12.0,18.0,13.0,18.0,18.0,18.0,25.0,18.0,12.0,18.0,7.0,18.0,18.0,18.0,10.0,18.0,20.0,18.0,25.0,18.0,7.0,18.0,8.0,18.0,14.0,18.0,20.0,18.0,7.0,18.0,30.0,18.0,12.0,18.0,4.0,18.0,25.0,18.0,16.0,18.0,10.0,18.0,25.0,18.0,18.0,18.0,6.0,18.0,25.0,18.0,8.0,18.0,18.0,18.0,20.0,18.0,20.0,18.0,10.0,18.0,40.0,18.0,5.0,18.0,25.0,18.0,18.0,18.0,16.0,18.0,5.0,18.0,35.0,18.0,20.0,18.0,14.0,18.0,6.0,18.0,38.0,18.0,30.0,18.0,4.0,18.0,22.0,18.0,16.0,18.0,6.0,18.0,28.0,18.0,14.0,18.0,20.0,18.0,8.0,18.0,36.0,18.0,16.0,18.0,10.0,18.0,5.0,18.0,26.0,18.0,19.0,18.0,4.0,18.0,5.0,18.0,30.0,18.0,14.0,18.0,22.0,18.0,11.0,18.0,6.0,18.0,30.0,18.0,18.0,18.0,17.0,18.0,12.0,18.0,4.0,18.0,26.0,18.0,22.0,18.0,12.0,18.0,7.0,18.0,33.0,18.0,14.0,18.0,12.0,18.0,28.0,18.0,6.0,18.0,30.0,18.0,18.0,18.0,9.0,18.0,23.0,18.0,7.0,18.0,10.0,18.0,11.0,18.0,7.0,18.0,22.0,18.0,5.0,18.0,30.0,18.0,10.0,18.0,8.0,18.0,18.0,18.0,14.0,18.0,4.0,18.0,23.0,18.0,10.0,18.0,20.0,18.0,8.0,18.0,22.0,18.0,8.0,18.0,7.0,18.0,12.0,18.0,13.0,18.0,18.0,18.0,25.0,18.0,12.0,18.0,7.0,18.0,18.0,18.0,10.0,18.0,20.0,18.0,25.0,18.0,7.0,18.0,8.0,18.0,14.0,18.0,20.0,18.0,7.0,18.0,30.0,18.0,12.0,18.0,4.0,18.0,25.0,18.0,16.0,18.0,10.0,18.0,25.0,18.0,18.0,18.0,6.0,18.0,25.0,18.0,8.0,18.0,18.0,18.0,20.0,18.0,20.0,18.0,10.0,18.0,40.0,18.0,5.0,18.0,25.0,18.0,18.0,18.0,16.0,18.0,5.0,18.0,35.0,18.0,20.0,18.0,14.0,18.0,6.0,18.0,38.0,18.0,30.0,18.0,4.0,18.0,22.0,18.0,16.0,18.0,6.0,18.0,28.0,18.0,14.0,18.0,20.0,18.0,8.0,18.0,36.0,18.0,16.0,18.0,10.0,18.0,5.0,18.0,26.0,18.0,19.0,18.0,4.0,18.0,5.0,18.0,30.0,18.0,14.0,18.0,22.0,18.0,11.0,18.0,6.0,18.0,30.0,18.0,18.0,18.0,17.0,18.0,12.0,18.0,4.0,18.0,26.0,18.0,22.0,18.0,12.0,18.0,7.0,18.0,33.0,18.0,14.0,18.0,12.0,18.0,28.0,18.0,6.0,18.0,30.0,18.0,18.0,18.0,9.0,18.0,23.0,18.0,7.0,18.0,10.0,18.0,11.0,18.0,7.0,18.0,22.0,18.0,5.0,18.0,30.0,18.0,10.0,18.0,8.0,18.0,18.0,18.0,14.0,18.0,4.0,18.0,23.0,18.0,10.0,18.0,20.0,18.0,8.0,18.0,22.0,18.0,8.0,18.0,7.0,18.0,12.0,18.0,13.0,18.0,18.0,18.0,25.0,18.0,12.0,18.0,7.0,18.0,18.0,18.0,10.0,18.0,20.0,18.0,25.0,18.0,7.0,18.0,8.0,18.0,14.0,18.0,20.0,18.0,7.0,18.0,30.0,18.0,12.0,18.0,4.0,18.0,25.0,18.0,16.0,18.0,10.0,18.0,25.0,18.0,18.0,18.0,6.0,18.0,25.0,18.0,8.0,18.0,18.0],\"xaxis\":\"x\",\"yaxis\":\"y\",\"type\":\"histogram\"}],                        {\"template\":{\"data\":{\"histogram2dcontour\":[{\"type\":\"histogram2dcontour\",\"colorbar\":{\"outlinewidth\":0,\"ticks\":\"\"},\"colorscale\":[[0.0,\"#0d0887\"],[0.1111111111111111,\"#46039f\"],[0.2222222222222222,\"#7201a8\"],[0.3333333333333333,\"#9c179e\"],[0.4444444444444444,\"#bd3786\"],[0.5555555555555556,\"#d8576b\"],[0.6666666666666666,\"#ed7953\"],[0.7777777777777778,\"#fb9f3a\"],[0.8888888888888888,\"#fdca26\"],[1.0,\"#f0f921\"]]}],\"choropleth\":[{\"type\":\"choropleth\",\"colorbar\":{\"outlinewidth\":0,\"ticks\":\"\"}}],\"histogram2d\":[{\"type\":\"histogram2d\",\"colorbar\":{\"outlinewidth\":0,\"ticks\":\"\"},\"colorscale\":[[0.0,\"#0d0887\"],[0.1111111111111111,\"#46039f\"],[0.2222222222222222,\"#7201a8\"],[0.3333333333333333,\"#9c179e\"],[0.4444444444444444,\"#bd3786\"],[0.5555555555555556,\"#d8576b\"],[0.6666666666666666,\"#ed7953\"],[0.7777777777777778,\"#fb9f3a\"],[0.8888888888888888,\"#fdca26\"],[1.0,\"#f0f921\"]]}],\"heatmap\":[{\"type\":\"heatmap\",\"colorbar\":{\"outlinewidth\":0,\"ticks\":\"\"},\"colorscale\":[[0.0,\"#0d0887\"],[0.1111111111111111,\"#46039f\"],[0.2222222222222222,\"#7201a8\"],[0.3333333333333333,\"#9c179e\"],[0.4444444444444444,\"#bd3786\"],[0.5555555555555556,\"#d8576b\"],[0.6666666666666666,\"#ed7953\"],[0.7777777777777778,\"#fb9f3a\"],[0.8888888888888888,\"#fdca26\"],[1.0,\"#f0f921\"]]}],\"heatmapgl\":[{\"type\":\"heatmapgl\",\"colorbar\":{\"outlinewidth\":0,\"ticks\":\"\"},\"colorscale\":[[0.0,\"#0d0887\"],[0.1111111111111111,\"#46039f\"],[0.2222222222222222,\"#7201a8\"],[0.3333333333333333,\"#9c179e\"],[0.4444444444444444,\"#bd3786\"],[0.5555555555555556,\"#d8576b\"],[0.6666666666666666,\"#ed7953\"],[0.7777777777777778,\"#fb9f3a\"],[0.8888888888888888,\"#fdca26\"],[1.0,\"#f0f921\"]]}],\"contourcarpet\":[{\"type\":\"contourcarpet\",\"colorbar\":{\"outlinewidth\":0,\"ticks\":\"\"}}],\"contour\":[{\"type\":\"contour\",\"colorbar\":{\"outlinewidth\":0,\"ticks\":\"\"},\"colorscale\":[[0.0,\"#0d0887\"],[0.1111111111111111,\"#46039f\"],[0.2222222222222222,\"#7201a8\"],[0.3333333333333333,\"#9c179e\"],[0.4444444444444444,\"#bd3786\"],[0.5555555555555556,\"#d8576b\"],[0.6666666666666666,\"#ed7953\"],[0.7777777777777778,\"#fb9f3a\"],[0.8888888888888888,\"#fdca26\"],[1.0,\"#f0f921\"]]}],\"surface\":[{\"type\":\"surface\",\"colorbar\":{\"outlinewidth\":0,\"ticks\":\"\"},\"colorscale\":[[0.0,\"#0d0887\"],[0.1111111111111111,\"#46039f\"],[0.2222222222222222,\"#7201a8\"],[0.3333333333333333,\"#9c179e\"],[0.4444444444444444,\"#bd3786\"],[0.5555555555555556,\"#d8576b\"],[0.6666666666666666,\"#ed7953\"],[0.7777777777777778,\"#fb9f3a\"],[0.8888888888888888,\"#fdca26\"],[1.0,\"#f0f921\"]]}],\"mesh3d\":[{\"type\":\"mesh3d\",\"colorbar\":{\"outlinewidth\":0,\"ticks\":\"\"}}],\"scatter\":[{\"fillpattern\":{\"fillmode\":\"overlay\",\"size\":10,\"solidity\":0.2},\"type\":\"scatter\"}],\"parcoords\":[{\"type\":\"parcoords\",\"line\":{\"colorbar\":{\"outlinewidth\":0,\"ticks\":\"\"}}}],\"scatterpolargl\":[{\"type\":\"scatterpolargl\",\"marker\":{\"colorbar\":{\"outlinewidth\":0,\"ticks\":\"\"}}}],\"bar\":[{\"error_x\":{\"color\":\"#2a3f5f\"},\"error_y\":{\"color\":\"#2a3f5f\"},\"marker\":{\"line\":{\"color\":\"#E5ECF6\",\"width\":0.5},\"pattern\":{\"fillmode\":\"overlay\",\"size\":10,\"solidity\":0.2}},\"type\":\"bar\"}],\"scattergeo\":[{\"type\":\"scattergeo\",\"marker\":{\"colorbar\":{\"outlinewidth\":0,\"ticks\":\"\"}}}],\"scatterpolar\":[{\"type\":\"scatterpolar\",\"marker\":{\"colorbar\":{\"outlinewidth\":0,\"ticks\":\"\"}}}],\"histogram\":[{\"marker\":{\"pattern\":{\"fillmode\":\"overlay\",\"size\":10,\"solidity\":0.2}},\"type\":\"histogram\"}],\"scattergl\":[{\"type\":\"scattergl\",\"marker\":{\"colorbar\":{\"outlinewidth\":0,\"ticks\":\"\"}}}],\"scatter3d\":[{\"type\":\"scatter3d\",\"line\":{\"colorbar\":{\"outlinewidth\":0,\"ticks\":\"\"}},\"marker\":{\"colorbar\":{\"outlinewidth\":0,\"ticks\":\"\"}}}],\"scattermapbox\":[{\"type\":\"scattermapbox\",\"marker\":{\"colorbar\":{\"outlinewidth\":0,\"ticks\":\"\"}}}],\"scatterternary\":[{\"type\":\"scatterternary\",\"marker\":{\"colorbar\":{\"outlinewidth\":0,\"ticks\":\"\"}}}],\"scattercarpet\":[{\"type\":\"scattercarpet\",\"marker\":{\"colorbar\":{\"outlinewidth\":0,\"ticks\":\"\"}}}],\"carpet\":[{\"aaxis\":{\"endlinecolor\":\"#2a3f5f\",\"gridcolor\":\"white\",\"linecolor\":\"white\",\"minorgridcolor\":\"white\",\"startlinecolor\":\"#2a3f5f\"},\"baxis\":{\"endlinecolor\":\"#2a3f5f\",\"gridcolor\":\"white\",\"linecolor\":\"white\",\"minorgridcolor\":\"white\",\"startlinecolor\":\"#2a3f5f\"},\"type\":\"carpet\"}],\"table\":[{\"cells\":{\"fill\":{\"color\":\"#EBF0F8\"},\"line\":{\"color\":\"white\"}},\"header\":{\"fill\":{\"color\":\"#C8D4E3\"},\"line\":{\"color\":\"white\"}},\"type\":\"table\"}],\"barpolar\":[{\"marker\":{\"line\":{\"color\":\"#E5ECF6\",\"width\":0.5},\"pattern\":{\"fillmode\":\"overlay\",\"size\":10,\"solidity\":0.2}},\"type\":\"barpolar\"}],\"pie\":[{\"automargin\":true,\"type\":\"pie\"}]},\"layout\":{\"autotypenumbers\":\"strict\",\"colorway\":[\"#636efa\",\"#EF553B\",\"#00cc96\",\"#ab63fa\",\"#FFA15A\",\"#19d3f3\",\"#FF6692\",\"#B6E880\",\"#FF97FF\",\"#FECB52\"],\"font\":{\"color\":\"#2a3f5f\"},\"hovermode\":\"closest\",\"hoverlabel\":{\"align\":\"left\"},\"paper_bgcolor\":\"white\",\"plot_bgcolor\":\"#E5ECF6\",\"polar\":{\"bgcolor\":\"#E5ECF6\",\"angularaxis\":{\"gridcolor\":\"white\",\"linecolor\":\"white\",\"ticks\":\"\"},\"radialaxis\":{\"gridcolor\":\"white\",\"linecolor\":\"white\",\"ticks\":\"\"}},\"ternary\":{\"bgcolor\":\"#E5ECF6\",\"aaxis\":{\"gridcolor\":\"white\",\"linecolor\":\"white\",\"ticks\":\"\"},\"baxis\":{\"gridcolor\":\"white\",\"linecolor\":\"white\",\"ticks\":\"\"},\"caxis\":{\"gridcolor\":\"white\",\"linecolor\":\"white\",\"ticks\":\"\"}},\"coloraxis\":{\"colorbar\":{\"outlinewidth\":0,\"ticks\":\"\"}},\"colorscale\":{\"sequential\":[[0.0,\"#0d0887\"],[0.1111111111111111,\"#46039f\"],[0.2222222222222222,\"#7201a8\"],[0.3333333333333333,\"#9c179e\"],[0.4444444444444444,\"#bd3786\"],[0.5555555555555556,\"#d8576b\"],[0.6666666666666666,\"#ed7953\"],[0.7777777777777778,\"#fb9f3a\"],[0.8888888888888888,\"#fdca26\"],[1.0,\"#f0f921\"]],\"sequentialminus\":[[0.0,\"#0d0887\"],[0.1111111111111111,\"#46039f\"],[0.2222222222222222,\"#7201a8\"],[0.3333333333333333,\"#9c179e\"],[0.4444444444444444,\"#bd3786\"],[0.5555555555555556,\"#d8576b\"],[0.6666666666666666,\"#ed7953\"],[0.7777777777777778,\"#fb9f3a\"],[0.8888888888888888,\"#fdca26\"],[1.0,\"#f0f921\"]],\"diverging\":[[0,\"#8e0152\"],[0.1,\"#c51b7d\"],[0.2,\"#de77ae\"],[0.3,\"#f1b6da\"],[0.4,\"#fde0ef\"],[0.5,\"#f7f7f7\"],[0.6,\"#e6f5d0\"],[0.7,\"#b8e186\"],[0.8,\"#7fbc41\"],[0.9,\"#4d9221\"],[1,\"#276419\"]]},\"xaxis\":{\"gridcolor\":\"white\",\"linecolor\":\"white\",\"ticks\":\"\",\"title\":{\"standoff\":15},\"zerolinecolor\":\"white\",\"automargin\":true,\"zerolinewidth\":2},\"yaxis\":{\"gridcolor\":\"white\",\"linecolor\":\"white\",\"ticks\":\"\",\"title\":{\"standoff\":15},\"zerolinecolor\":\"white\",\"automargin\":true,\"zerolinewidth\":2},\"scene\":{\"xaxis\":{\"backgroundcolor\":\"#E5ECF6\",\"gridcolor\":\"white\",\"linecolor\":\"white\",\"showbackground\":true,\"ticks\":\"\",\"zerolinecolor\":\"white\",\"gridwidth\":2},\"yaxis\":{\"backgroundcolor\":\"#E5ECF6\",\"gridcolor\":\"white\",\"linecolor\":\"white\",\"showbackground\":true,\"ticks\":\"\",\"zerolinecolor\":\"white\",\"gridwidth\":2},\"zaxis\":{\"backgroundcolor\":\"#E5ECF6\",\"gridcolor\":\"white\",\"linecolor\":\"white\",\"showbackground\":true,\"ticks\":\"\",\"zerolinecolor\":\"white\",\"gridwidth\":2}},\"shapedefaults\":{\"line\":{\"color\":\"#2a3f5f\"}},\"annotationdefaults\":{\"arrowcolor\":\"#2a3f5f\",\"arrowhead\":0,\"arrowwidth\":1},\"geo\":{\"bgcolor\":\"white\",\"landcolor\":\"#E5ECF6\",\"subunitcolor\":\"white\",\"showland\":true,\"showlakes\":true,\"lakecolor\":\"white\"},\"title\":{\"x\":0.05},\"mapbox\":{\"style\":\"light\"}}},\"xaxis\":{\"anchor\":\"y\",\"domain\":[0.0,1.0],\"title\":{\"text\":\"Comments_Received_Per_Day\"}},\"yaxis\":{\"anchor\":\"x\",\"domain\":[0.0,1.0],\"title\":{\"text\":\"count\"}},\"legend\":{\"tracegroupgap\":0},\"title\":{\"text\":\"Posts Per Day Distribution\"},\"barmode\":\"relative\"},                        {\"responsive\": true}                    ).then(function(){\n",
              "                            \n",
              "var gd = document.getElementById('6d6eebd7-f5dd-40b3-9991-303bb70b3760');\n",
              "var x = new MutationObserver(function (mutations, observer) {{\n",
              "        var display = window.getComputedStyle(gd).display;\n",
              "        if (!display || display === 'none') {{\n",
              "            console.log([gd, 'removed!']);\n",
              "            Plotly.purge(gd);\n",
              "            observer.disconnect();\n",
              "        }}\n",
              "}});\n",
              "\n",
              "// Listen for the removal of the full notebook cells\n",
              "var notebookContainer = gd.closest('#notebook-container');\n",
              "if (notebookContainer) {{\n",
              "    x.observe(notebookContainer, {childList: true});\n",
              "}}\n",
              "\n",
              "// Listen for the clearing of the current output cell\n",
              "var outputEl = gd.closest('.output');\n",
              "if (outputEl) {{\n",
              "    x.observe(outputEl, {childList: true});\n",
              "}}\n",
              "\n",
              "                        })                };                            </script>        </div>\n",
              "</body>\n",
              "</html>"
            ]
          },
          "metadata": {}
        }
      ]
    },
    {
      "cell_type": "markdown",
      "source": [
        "### Messages Per Day Distribution"
      ],
      "metadata": {
        "id": "El7ZHZYRFBgo"
      }
    },
    {
      "cell_type": "code",
      "source": [
        "plt = px.histogram(train_df, x='Messages_Sent_Per_Day', title='Posts Per Day Distribution')\n",
        "plt.show()"
      ],
      "metadata": {
        "id": "QmDeZ6MLFBgo",
        "outputId": "9e6a7ac3-99a1-4ce7-8af9-7420928e0120",
        "colab": {
          "base_uri": "https://localhost:8080/",
          "height": 542
        }
      },
      "execution_count": null,
      "outputs": [
        {
          "output_type": "display_data",
          "data": {
            "text/html": [
              "<html>\n",
              "<head><meta charset=\"utf-8\" /></head>\n",
              "<body>\n",
              "    <div>            <script src=\"https://cdnjs.cloudflare.com/ajax/libs/mathjax/2.7.5/MathJax.js?config=TeX-AMS-MML_SVG\"></script><script type=\"text/javascript\">if (window.MathJax && window.MathJax.Hub && window.MathJax.Hub.Config) {window.MathJax.Hub.Config({SVG: {font: \"STIX-Web\"}});}</script>                <script type=\"text/javascript\">window.PlotlyConfig = {MathJaxConfig: 'local'};</script>\n",
              "        <script charset=\"utf-8\" src=\"https://cdn.plot.ly/plotly-2.35.2.min.js\"></script>                <div id=\"6c55ccf8-a216-4e31-93fa-4f8108bc1fcc\" class=\"plotly-graph-div\" style=\"height:525px; width:100%;\"></div>            <script type=\"text/javascript\">                                    window.PLOTLYENV=window.PLOTLYENV || {};                                    if (document.getElementById(\"6c55ccf8-a216-4e31-93fa-4f8108bc1fcc\")) {                    Plotly.newPlot(                        \"6c55ccf8-a216-4e31-93fa-4f8108bc1fcc\",                        [{\"alignmentgroup\":\"True\",\"bingroup\":\"x\",\"hovertemplate\":\"Messages_Sent_Per_Day=%{x}\\u003cbr\\u003ecount=%{y}\\u003cextra\\u003e\\u003c\\u002fextra\\u003e\",\"legendgroup\":\"\",\"marker\":{\"color\":\"#636efa\",\"pattern\":{\"shape\":\"\"}},\"name\":\"\",\"offsetgroup\":\"\",\"orientation\":\"v\",\"showlegend\":false,\"x\":[null,12.0,null,30.0,null,20.0,null,50.0,null,10.0,null,25.0,null,18.0,null,22.0,null,8.0,null,35.0,null,20.0,null,18.0,null,15.0,null,40.0,null,28.0,null,10.0,null,30.0,null,25.0,null,12.0,null,33.0,null,18.0,null,20.0,null,17.0,null,45.0,null,15.0,null,21.0,null,11.0,null,32.0,null,24.0,null,10.0,null,14.0,null,35.0,null,18.0,null,30.0,null,20.0,null,11.0,null,40.0,null,20.0,null,25.0,null,22.0,null,9.0,null,30.0,null,22.0,null,18.0,null,14.0,null,38.0,null,20.0,null,18.0,null,31.0,null,10.0,null,27.0,null,19.0,null,20.0,null,35.0,null,17.0,null,21.0,null,22.0,null,18.0,null,25.0,null,15.0,null,33.0,null,18.0,null,20.0,null,30.0,null,26.0,null,12.0,null,35.0,null,20.0,null,28.0,null,20.0,null,30.0,null,10.0,null,12.0,null,22.0,null,25.0,null,27.0,null,38.0,null,18.0,null,14.0,null,20.0,null,12.0,null,18.0,null,25.0,null,22.0,null,20.0,null,26.0,null,28.0,null,12.0,null,33.0,null,20.0,null,10.0,null,25.0,null,22.0,null,28.0,null,30.0,null,18.0,null,10.0,null,25.0,null,18.0,null,22.0,null,25.0,null,22.0,null,15.0,null,45.0,null,12.0,null,30.0,null,20.0,null,25.0,null,10.0,null,40.0,null,25.0,null,18.0,null,15.0,null,45.0,null,29.0,null,12.0,null,28.0,null,24.0,null,12.0,null,30.0,null,20.0,null,23.0,null,15.0,null,50.0,null,15.0,null,20.0,null,11.0,null,30.0,null,24.0,null,12.0,null,14.0,null,35.0,null,18.0,null,28.0,null,22.0,null,11.0,null,38.0,null,24.0,null,30.0,null,25.0,null,10.0,null,30.0,null,22.0,null,18.0,null,14.0,null,38.0,null,20.0,null,18.0,null,31.0,null,10.0,null,28.0,null,19.0,null,20.0,null,35.0,null,17.0,null,21.0,null,22.0,null,18.0,null,25.0,null,15.0,null,33.0,null,18.0,null,20.0,null,30.0,null,26.0,null,12.0,null,35.0,null,20.0,null,28.0,null,20.0,null,30.0,null,10.0,null,12.0,null,22.0,null,25.0,null,27.0,null,38.0,null,18.0,null,14.0,null,20.0,null,12.0,null,18.0,null,25.0,null,22.0,null,20.0,null,26.0,null,28.0,null,12.0,null,33.0,null,20.0,null,10.0,null,25.0,null,22.0,null,28.0,null,30.0,null,18.0,null,10.0,null,25.0,null,18.0,null,22.0,null,25.0,null,22.0,null,15.0,null,45.0,null,12.0,null,30.0,null,20.0,null,25.0,null,10.0,null,40.0,null,25.0,null,18.0,null,15.0,null,45.0,null,29.0,null,12.0,null,28.0,null,24.0,null,12.0,null,30.0,null,20.0,null,23.0,null,15.0,null,50.0,null,15.0,null,20.0,null,11.0,null,30.0,null,24.0,null,12.0,null,14.0,null,35.0,null,18.0,null,28.0,null,22.0,null,11.0,null,38.0,null,24.0,null,30.0,null,25.0,null,10.0,null,30.0,null,22.0,null,18.0,null,14.0,null,38.0,null,20.0,null,18.0,null,31.0,null,10.0,null,28.0,null,19.0,null,20.0,null,35.0,null,17.0,null,21.0,null,22.0,null,18.0,null,25.0,null,15.0,null,33.0,null,18.0,null,20.0,null,30.0,null,26.0,null,12.0,null,35.0,null,20.0,null,28.0,null,20.0,null,30.0,null,10.0,null,12.0,null,22.0,null,25.0,null,27.0,null,38.0,null,18.0,null,14.0,null,20.0,null,12.0,null,18.0,null,25.0,null,22.0,null,20.0,null,26.0,null,28.0,null,12.0,null,33.0,null,20.0,null,10.0,null,25.0,null,22.0,null,28.0,null,30.0,null,18.0,null,10.0,null,25.0,null,18.0,null,22.0,null,25.0,null,22.0,null,15.0,null,45.0,null,12.0,null,30.0,null,20.0,null,25.0,null,10.0,null,40.0,null,25.0,null,18.0,null,15.0,null,45.0,null,29.0,null,12.0,null,28.0,null,24.0,null,12.0,null,30.0,null,20.0,null,23.0,null,15.0,null,50.0,null,15.0,null,20.0,null,11.0,null,30.0,null,24.0,null,12.0,null,14.0,null,35.0,null,18.0,null,28.0,null,22.0,null,11.0,null,38.0,null,24.0,null,30.0,null,25.0,null,10.0,null,30.0,null,22.0,null,18.0,null,14.0,null,38.0,null,20.0,null,18.0,null,31.0,null,10.0,null,28.0,null,19.0,null,20.0,null,35.0,null,17.0,null,21.0,null,22.0,null,18.0,null,25.0,null,15.0,null,33.0,null,18.0,null,20.0,null,30.0,null,26.0,null,12.0,null,35.0,null,20.0,null,28.0,null,20.0,null,30.0,null,10.0,null,12.0,null,22.0,null,25.0,null,27.0,null,38.0,null,18.0,null,14.0,null,20.0,null,12.0,null,18.0,null,25.0,null,22.0,null,20.0,null,26.0,null,28.0,null,12.0,null,33.0,null,20.0,null,10.0,null,25.0,null,22.0,null,28.0,null,30.0,null,18.0,null,10.0,null,25.0,null,18.0,null,22.0,null,25.0,null,22.0,null,15.0,null,45.0,null,12.0,null,30.0,null,20.0,null,25.0,null,10.0,null,40.0,null,25.0,null,18.0,null,15.0,null,45.0,null,29.0,null,12.0,null,28.0,null,24.0,null,12.0,null,30.0,null,20.0,null,23.0,null,15.0,null,50.0,null,15.0,null,20.0,null,11.0,null,30.0,null,24.0,null,12.0,null,14.0,null,35.0,null,18.0,null,28.0,null,22.0,null,11.0,null,38.0,null,24.0,null,30.0,null,25.0,null,10.0,null,30.0,null,22.0,null,18.0,null,14.0,null,38.0,null,20.0,null,18.0,null,31.0,null,10.0,null,28.0,null,19.0,null,20.0,null,35.0,null,17.0,null,21.0,null,22.0,null,18.0,null,25.0,null,15.0,null,33.0,null,18.0,null,20.0,null,30.0,null,26.0,null,12.0,null,35.0,null,20.0,null,28.0,null,20.0,null,30.0,null,10.0,null,12.0,null,22.0,null,25.0,null,27.0,null,38.0,null,18.0,null,14.0,null,20.0,null,12.0,null,18.0,null,25.0,null,22.0,null,20.0,null,26.0,null,28.0,null,12.0,null,33.0,null,20.0,null,10.0,null,25.0,null,22.0,null,28.0,null,30.0,null,18.0,null,10.0,null,25.0,null,18.0,null,22.0,null,25.0,null,22.0,null,15.0,null,45.0,null,12.0,null,30.0,null,20.0,null,25.0,null,10.0,null,40.0,null,25.0,null,18.0,null,15.0,null,45.0,null,29.0,null,12.0,null,28.0,null,24.0,null,12.0,null,30.0,null,20.0,null,23.0,null,15.0,null,50.0,null,15.0,null,20.0,null,11.0,null,30.0,null,24.0,null,12.0,null,14.0,null,35.0,null,18.0,null,28.0,null,22.0,null,11.0,null,38.0,null,24.0,null,30.0,null,25.0,null,10.0,null,30.0,null,22.0,null,18.0,null,14.0,null,38.0,null,20.0,null,18.0,null,31.0,null,10.0,null,28.0,null,19.0,null,20.0,null,35.0,null,17.0,null,21.0,null,22.0,null,18.0,null,25.0,null,15.0,null,33.0,null,18.0,null,20.0,null,30.0,null,26.0,null,12.0,null,35.0,null,20.0,null,28.0,null,20.0,null,30.0,null,10.0,null,12.0,null,22.0,null,25.0,null,27.0,null,38.0,null,18.0,null,14.0,null,20.0,null,12.0,null,18.0,null,25.0,null,22.0,null,20.0,null,26.0,null,28.0,null,12.0,null,33.0,null,20.0,null,10.0,null,25.0,null,22.0,null,28.0,null,30.0,null,18.0,null,10.0,null,25.0,null,18.0,null,22.0,null,25.0,null,22.0,null,15.0,null,45.0,null,12.0,null,30.0,null,20.0,null,25.0,null,10.0,null,40.0,null,25.0,null,18.0,null,15.0,null,45.0,null,29.0,null,12.0,null,28.0,null,24.0,null,12.0,null,30.0,null,20.0,null,23.0,null,15.0,null,50.0,null,15.0,null,20.0,null,11.0,null,30.0,null,24.0,null,12.0,null,14.0,null,35.0,null,18.0,null,28.0,null,22.0,null,11.0,null,38.0,null,24.0,null,30.0,null,25.0,null,10.0,null,null,null,null,null,30.0,null,22.0,null,18.0,null,14.0,null,38.0,null,20.0,null,18.0,null,31.0,null,10.0,null,28.0,null,19.0,null,20.0,null,35.0,null,17.0,null,21.0,null,22.0,null,18.0,null,25.0,null,15.0,null,33.0,null,18.0,null,20.0,null,30.0,null,26.0,null,12.0,null,35.0,null,20.0,null,28.0,null,20.0,null,30.0,null,10.0,null,12.0,null,22.0,null,25.0,null,27.0,null,38.0,null,18.0,null,14.0,null,20.0,null,12.0,null,18.0,null,25.0,null,22.0,null,20.0,null,26.0,null,28.0,null,12.0,null,33.0,null,20.0,null,10.0,null,25.0,null,22.0,null,28.0,null,30.0,null,18.0,null,10.0,null,25.0,null,18.0,null,22.0,null,25.0,null,22.0,null,15.0,null,45.0,null,12.0,null,30.0,null,20.0,null,25.0,null,10.0,null,40.0,null,25.0,null,18.0,null,15.0,null,45.0,null,29.0,null,12.0,null,28.0,null,24.0,null,12.0,null,30.0,null,20.0,null,23.0,null,15.0,null,50.0,null,15.0,null,20.0,null,11.0,null,30.0,null,24.0,null,12.0,null,14.0,null,35.0,null,18.0,null,28.0,null,22.0,null,11.0,null,38.0,null,24.0,null,30.0,null,25.0,null,10.0,null,30.0,null,22.0,null,18.0,null,14.0,null,38.0,null,20.0,null,18.0,null,31.0,null,10.0,null,28.0,null,19.0,null,20.0,null,35.0,null,17.0,null,21.0,null,22.0,null,18.0,null,25.0,null,15.0,null,33.0,null,18.0,null,20.0,null,30.0,null,26.0,null,12.0,null,35.0,null,20.0,null,28.0,null,20.0,null,30.0,null,10.0,null,12.0,null,22.0,null,25.0,null,27.0,null,38.0,null,18.0,null,14.0,null,20.0,null,12.0,null,18.0,null,25.0,null,22.0,null,20.0,null,26.0,null,28.0,null,12.0,null,33.0,null,20.0,null,10.0,null,25.0,null,22.0,null,28.0,null,30.0,null,18.0,null,10.0,null,25.0,null,18.0,null,22.0,null,25.0,null,22.0,null,15.0,null,45.0,null,12.0,null,30.0,null,20.0,null,25.0,null,10.0,null,40.0,null,25.0,null,18.0,null,15.0,null,45.0,null,29.0,null,12.0,null,28.0,null,24.0,null,12.0,null,30.0,null,20.0,null,23.0,null,15.0,null,50.0,null,15.0,null,20.0,null,11.0,null,30.0,null,24.0,null,12.0,null,14.0,null,35.0,null,18.0,null,28.0,null,22.0,null,11.0,null,38.0,null,24.0,null,30.0,null,25.0,null,10.0,null,30.0,null,22.0,null,18.0,null,14.0,null,38.0,null,20.0,null,18.0,null,31.0,null,10.0,null,28.0,null,19.0,null,20.0,null,35.0,null,17.0,null,21.0,null,22.0,null,18.0,null,25.0,null,15.0,null,33.0,null,18.0,null,20.0,null,30.0,null,26.0,null,12.0,null,35.0,null,20.0,null,28.0,null,20.0,null,30.0,null,10.0,null,12.0,null,22.0,null,25.0,null,27.0,null,38.0,null,18.0,null,14.0,null,20.0,null,12.0,null,18.0,null,25.0,null,22.0,null,20.0,null,26.0,null,28.0,null,12.0,null,33.0,null,20.0,null,10.0,null,25.0,null,22.0,null,28.0,null,30.0,null,18.0,null,10.0,null,25.0,null,18.0,null,22.0,null,25.0,null,22.0,null,15.0,null,45.0,null,12.0,null,30.0,null,20.0,null,25.0,null,10.0,null,40.0,null,25.0,null,18.0,null,15.0,null,45.0,null,29.0,null,12.0,null,28.0,null,24.0,null,12.0,null,30.0,null,20.0,null,23.0,null,15.0,null,50.0,null,15.0,null,20.0,null,11.0,null,30.0,null,24.0,null,12.0,null,14.0,null,35.0,null,18.0,null,28.0,null,22.0,null,11.0,null,38.0,null,24.0,null,30.0,null,25.0,null,10.0,null,30.0,null,22.0,null,18.0,null,14.0,null,38.0,null,20.0,null,18.0,null,31.0,null,10.0,null,28.0,null,19.0,null,20.0,null,35.0,null,17.0,null,21.0,null,22.0,null,18.0,null,25.0,null,15.0,null,33.0,null,18.0,null,20.0,null,30.0,null,26.0,null,12.0,null,35.0,null,20.0,null,28.0,null,20.0,null,30.0,null,10.0,null,12.0,null,22.0,null,25.0,null,27.0,null,38.0,null,18.0,null,14.0,null,20.0,null,12.0,null,18.0,null,25.0,null,22.0,null,20.0,null,26.0,null,28.0,null,12.0,null,33.0,null,20.0,null,10.0,null,25.0,null,22.0,null,28.0,null,30.0,null,18.0,null,10.0,null,25.0,null,18.0,null,22.0],\"xaxis\":\"x\",\"yaxis\":\"y\",\"type\":\"histogram\"}],                        {\"template\":{\"data\":{\"histogram2dcontour\":[{\"type\":\"histogram2dcontour\",\"colorbar\":{\"outlinewidth\":0,\"ticks\":\"\"},\"colorscale\":[[0.0,\"#0d0887\"],[0.1111111111111111,\"#46039f\"],[0.2222222222222222,\"#7201a8\"],[0.3333333333333333,\"#9c179e\"],[0.4444444444444444,\"#bd3786\"],[0.5555555555555556,\"#d8576b\"],[0.6666666666666666,\"#ed7953\"],[0.7777777777777778,\"#fb9f3a\"],[0.8888888888888888,\"#fdca26\"],[1.0,\"#f0f921\"]]}],\"choropleth\":[{\"type\":\"choropleth\",\"colorbar\":{\"outlinewidth\":0,\"ticks\":\"\"}}],\"histogram2d\":[{\"type\":\"histogram2d\",\"colorbar\":{\"outlinewidth\":0,\"ticks\":\"\"},\"colorscale\":[[0.0,\"#0d0887\"],[0.1111111111111111,\"#46039f\"],[0.2222222222222222,\"#7201a8\"],[0.3333333333333333,\"#9c179e\"],[0.4444444444444444,\"#bd3786\"],[0.5555555555555556,\"#d8576b\"],[0.6666666666666666,\"#ed7953\"],[0.7777777777777778,\"#fb9f3a\"],[0.8888888888888888,\"#fdca26\"],[1.0,\"#f0f921\"]]}],\"heatmap\":[{\"type\":\"heatmap\",\"colorbar\":{\"outlinewidth\":0,\"ticks\":\"\"},\"colorscale\":[[0.0,\"#0d0887\"],[0.1111111111111111,\"#46039f\"],[0.2222222222222222,\"#7201a8\"],[0.3333333333333333,\"#9c179e\"],[0.4444444444444444,\"#bd3786\"],[0.5555555555555556,\"#d8576b\"],[0.6666666666666666,\"#ed7953\"],[0.7777777777777778,\"#fb9f3a\"],[0.8888888888888888,\"#fdca26\"],[1.0,\"#f0f921\"]]}],\"heatmapgl\":[{\"type\":\"heatmapgl\",\"colorbar\":{\"outlinewidth\":0,\"ticks\":\"\"},\"colorscale\":[[0.0,\"#0d0887\"],[0.1111111111111111,\"#46039f\"],[0.2222222222222222,\"#7201a8\"],[0.3333333333333333,\"#9c179e\"],[0.4444444444444444,\"#bd3786\"],[0.5555555555555556,\"#d8576b\"],[0.6666666666666666,\"#ed7953\"],[0.7777777777777778,\"#fb9f3a\"],[0.8888888888888888,\"#fdca26\"],[1.0,\"#f0f921\"]]}],\"contourcarpet\":[{\"type\":\"contourcarpet\",\"colorbar\":{\"outlinewidth\":0,\"ticks\":\"\"}}],\"contour\":[{\"type\":\"contour\",\"colorbar\":{\"outlinewidth\":0,\"ticks\":\"\"},\"colorscale\":[[0.0,\"#0d0887\"],[0.1111111111111111,\"#46039f\"],[0.2222222222222222,\"#7201a8\"],[0.3333333333333333,\"#9c179e\"],[0.4444444444444444,\"#bd3786\"],[0.5555555555555556,\"#d8576b\"],[0.6666666666666666,\"#ed7953\"],[0.7777777777777778,\"#fb9f3a\"],[0.8888888888888888,\"#fdca26\"],[1.0,\"#f0f921\"]]}],\"surface\":[{\"type\":\"surface\",\"colorbar\":{\"outlinewidth\":0,\"ticks\":\"\"},\"colorscale\":[[0.0,\"#0d0887\"],[0.1111111111111111,\"#46039f\"],[0.2222222222222222,\"#7201a8\"],[0.3333333333333333,\"#9c179e\"],[0.4444444444444444,\"#bd3786\"],[0.5555555555555556,\"#d8576b\"],[0.6666666666666666,\"#ed7953\"],[0.7777777777777778,\"#fb9f3a\"],[0.8888888888888888,\"#fdca26\"],[1.0,\"#f0f921\"]]}],\"mesh3d\":[{\"type\":\"mesh3d\",\"colorbar\":{\"outlinewidth\":0,\"ticks\":\"\"}}],\"scatter\":[{\"fillpattern\":{\"fillmode\":\"overlay\",\"size\":10,\"solidity\":0.2},\"type\":\"scatter\"}],\"parcoords\":[{\"type\":\"parcoords\",\"line\":{\"colorbar\":{\"outlinewidth\":0,\"ticks\":\"\"}}}],\"scatterpolargl\":[{\"type\":\"scatterpolargl\",\"marker\":{\"colorbar\":{\"outlinewidth\":0,\"ticks\":\"\"}}}],\"bar\":[{\"error_x\":{\"color\":\"#2a3f5f\"},\"error_y\":{\"color\":\"#2a3f5f\"},\"marker\":{\"line\":{\"color\":\"#E5ECF6\",\"width\":0.5},\"pattern\":{\"fillmode\":\"overlay\",\"size\":10,\"solidity\":0.2}},\"type\":\"bar\"}],\"scattergeo\":[{\"type\":\"scattergeo\",\"marker\":{\"colorbar\":{\"outlinewidth\":0,\"ticks\":\"\"}}}],\"scatterpolar\":[{\"type\":\"scatterpolar\",\"marker\":{\"colorbar\":{\"outlinewidth\":0,\"ticks\":\"\"}}}],\"histogram\":[{\"marker\":{\"pattern\":{\"fillmode\":\"overlay\",\"size\":10,\"solidity\":0.2}},\"type\":\"histogram\"}],\"scattergl\":[{\"type\":\"scattergl\",\"marker\":{\"colorbar\":{\"outlinewidth\":0,\"ticks\":\"\"}}}],\"scatter3d\":[{\"type\":\"scatter3d\",\"line\":{\"colorbar\":{\"outlinewidth\":0,\"ticks\":\"\"}},\"marker\":{\"colorbar\":{\"outlinewidth\":0,\"ticks\":\"\"}}}],\"scattermapbox\":[{\"type\":\"scattermapbox\",\"marker\":{\"colorbar\":{\"outlinewidth\":0,\"ticks\":\"\"}}}],\"scatterternary\":[{\"type\":\"scatterternary\",\"marker\":{\"colorbar\":{\"outlinewidth\":0,\"ticks\":\"\"}}}],\"scattercarpet\":[{\"type\":\"scattercarpet\",\"marker\":{\"colorbar\":{\"outlinewidth\":0,\"ticks\":\"\"}}}],\"carpet\":[{\"aaxis\":{\"endlinecolor\":\"#2a3f5f\",\"gridcolor\":\"white\",\"linecolor\":\"white\",\"minorgridcolor\":\"white\",\"startlinecolor\":\"#2a3f5f\"},\"baxis\":{\"endlinecolor\":\"#2a3f5f\",\"gridcolor\":\"white\",\"linecolor\":\"white\",\"minorgridcolor\":\"white\",\"startlinecolor\":\"#2a3f5f\"},\"type\":\"carpet\"}],\"table\":[{\"cells\":{\"fill\":{\"color\":\"#EBF0F8\"},\"line\":{\"color\":\"white\"}},\"header\":{\"fill\":{\"color\":\"#C8D4E3\"},\"line\":{\"color\":\"white\"}},\"type\":\"table\"}],\"barpolar\":[{\"marker\":{\"line\":{\"color\":\"#E5ECF6\",\"width\":0.5},\"pattern\":{\"fillmode\":\"overlay\",\"size\":10,\"solidity\":0.2}},\"type\":\"barpolar\"}],\"pie\":[{\"automargin\":true,\"type\":\"pie\"}]},\"layout\":{\"autotypenumbers\":\"strict\",\"colorway\":[\"#636efa\",\"#EF553B\",\"#00cc96\",\"#ab63fa\",\"#FFA15A\",\"#19d3f3\",\"#FF6692\",\"#B6E880\",\"#FF97FF\",\"#FECB52\"],\"font\":{\"color\":\"#2a3f5f\"},\"hovermode\":\"closest\",\"hoverlabel\":{\"align\":\"left\"},\"paper_bgcolor\":\"white\",\"plot_bgcolor\":\"#E5ECF6\",\"polar\":{\"bgcolor\":\"#E5ECF6\",\"angularaxis\":{\"gridcolor\":\"white\",\"linecolor\":\"white\",\"ticks\":\"\"},\"radialaxis\":{\"gridcolor\":\"white\",\"linecolor\":\"white\",\"ticks\":\"\"}},\"ternary\":{\"bgcolor\":\"#E5ECF6\",\"aaxis\":{\"gridcolor\":\"white\",\"linecolor\":\"white\",\"ticks\":\"\"},\"baxis\":{\"gridcolor\":\"white\",\"linecolor\":\"white\",\"ticks\":\"\"},\"caxis\":{\"gridcolor\":\"white\",\"linecolor\":\"white\",\"ticks\":\"\"}},\"coloraxis\":{\"colorbar\":{\"outlinewidth\":0,\"ticks\":\"\"}},\"colorscale\":{\"sequential\":[[0.0,\"#0d0887\"],[0.1111111111111111,\"#46039f\"],[0.2222222222222222,\"#7201a8\"],[0.3333333333333333,\"#9c179e\"],[0.4444444444444444,\"#bd3786\"],[0.5555555555555556,\"#d8576b\"],[0.6666666666666666,\"#ed7953\"],[0.7777777777777778,\"#fb9f3a\"],[0.8888888888888888,\"#fdca26\"],[1.0,\"#f0f921\"]],\"sequentialminus\":[[0.0,\"#0d0887\"],[0.1111111111111111,\"#46039f\"],[0.2222222222222222,\"#7201a8\"],[0.3333333333333333,\"#9c179e\"],[0.4444444444444444,\"#bd3786\"],[0.5555555555555556,\"#d8576b\"],[0.6666666666666666,\"#ed7953\"],[0.7777777777777778,\"#fb9f3a\"],[0.8888888888888888,\"#fdca26\"],[1.0,\"#f0f921\"]],\"diverging\":[[0,\"#8e0152\"],[0.1,\"#c51b7d\"],[0.2,\"#de77ae\"],[0.3,\"#f1b6da\"],[0.4,\"#fde0ef\"],[0.5,\"#f7f7f7\"],[0.6,\"#e6f5d0\"],[0.7,\"#b8e186\"],[0.8,\"#7fbc41\"],[0.9,\"#4d9221\"],[1,\"#276419\"]]},\"xaxis\":{\"gridcolor\":\"white\",\"linecolor\":\"white\",\"ticks\":\"\",\"title\":{\"standoff\":15},\"zerolinecolor\":\"white\",\"automargin\":true,\"zerolinewidth\":2},\"yaxis\":{\"gridcolor\":\"white\",\"linecolor\":\"white\",\"ticks\":\"\",\"title\":{\"standoff\":15},\"zerolinecolor\":\"white\",\"automargin\":true,\"zerolinewidth\":2},\"scene\":{\"xaxis\":{\"backgroundcolor\":\"#E5ECF6\",\"gridcolor\":\"white\",\"linecolor\":\"white\",\"showbackground\":true,\"ticks\":\"\",\"zerolinecolor\":\"white\",\"gridwidth\":2},\"yaxis\":{\"backgroundcolor\":\"#E5ECF6\",\"gridcolor\":\"white\",\"linecolor\":\"white\",\"showbackground\":true,\"ticks\":\"\",\"zerolinecolor\":\"white\",\"gridwidth\":2},\"zaxis\":{\"backgroundcolor\":\"#E5ECF6\",\"gridcolor\":\"white\",\"linecolor\":\"white\",\"showbackground\":true,\"ticks\":\"\",\"zerolinecolor\":\"white\",\"gridwidth\":2}},\"shapedefaults\":{\"line\":{\"color\":\"#2a3f5f\"}},\"annotationdefaults\":{\"arrowcolor\":\"#2a3f5f\",\"arrowhead\":0,\"arrowwidth\":1},\"geo\":{\"bgcolor\":\"white\",\"landcolor\":\"#E5ECF6\",\"subunitcolor\":\"white\",\"showland\":true,\"showlakes\":true,\"lakecolor\":\"white\"},\"title\":{\"x\":0.05},\"mapbox\":{\"style\":\"light\"}}},\"xaxis\":{\"anchor\":\"y\",\"domain\":[0.0,1.0],\"title\":{\"text\":\"Messages_Sent_Per_Day\"}},\"yaxis\":{\"anchor\":\"x\",\"domain\":[0.0,1.0],\"title\":{\"text\":\"count\"}},\"legend\":{\"tracegroupgap\":0},\"title\":{\"text\":\"Posts Per Day Distribution\"},\"barmode\":\"relative\"},                        {\"responsive\": true}                    ).then(function(){\n",
              "                            \n",
              "var gd = document.getElementById('6c55ccf8-a216-4e31-93fa-4f8108bc1fcc');\n",
              "var x = new MutationObserver(function (mutations, observer) {{\n",
              "        var display = window.getComputedStyle(gd).display;\n",
              "        if (!display || display === 'none') {{\n",
              "            console.log([gd, 'removed!']);\n",
              "            Plotly.purge(gd);\n",
              "            observer.disconnect();\n",
              "        }}\n",
              "}});\n",
              "\n",
              "// Listen for the removal of the full notebook cells\n",
              "var notebookContainer = gd.closest('#notebook-container');\n",
              "if (notebookContainer) {{\n",
              "    x.observe(notebookContainer, {childList: true});\n",
              "}}\n",
              "\n",
              "// Listen for the clearing of the current output cell\n",
              "var outputEl = gd.closest('.output');\n",
              "if (outputEl) {{\n",
              "    x.observe(outputEl, {childList: true});\n",
              "}}\n",
              "\n",
              "                        })                };                            </script>        </div>\n",
              "</body>\n",
              "</html>"
            ]
          },
          "metadata": {}
        }
      ]
    },
    {
      "cell_type": "markdown",
      "source": [
        "### Emotion Distribution"
      ],
      "metadata": {
        "id": "7sTjGTH-FBgo"
      }
    },
    {
      "cell_type": "code",
      "source": [
        "train_df['Dominant_Emotion'].unique()"
      ],
      "metadata": {
        "id": "og4Ys2b-FBgo",
        "outputId": "444315c5-b111-4c4a-bba3-41814bcfc3b9",
        "colab": {
          "base_uri": "https://localhost:8080/"
        }
      },
      "execution_count": null,
      "outputs": [
        {
          "output_type": "execute_result",
          "data": {
            "text/plain": [
              "array([nan, 'Happiness', 'Anger', 'Neutral', 'Anxiety', 'Boredom',\n",
              "       'Sadness'], dtype=object)"
            ]
          },
          "metadata": {},
          "execution_count": 47
        }
      ]
    },
    {
      "cell_type": "code",
      "source": [
        "# fill with mode\n",
        "train_df['Dominant_Emotion'].fillna(train_df['Dominant_Emotion'].mode()[0], inplace=True)"
      ],
      "metadata": {
        "id": "3QxCCqbaFBgo"
      },
      "execution_count": null,
      "outputs": []
    },
    {
      "cell_type": "code",
      "source": [
        "plt = px.pie(train_df, names='Dominant_Emotion', title='Dominant Emotion Distribution')\n",
        "# adding the values to the pie section\n",
        "plt.update_traces(textposition='inside', textinfo='percent+label')\n",
        "plt.show()"
      ],
      "metadata": {
        "id": "85SOwwq9FBgo",
        "outputId": "31f50ed0-a0c3-4691-8ddd-be0633731cbc",
        "colab": {
          "base_uri": "https://localhost:8080/",
          "height": 542
        }
      },
      "execution_count": null,
      "outputs": [
        {
          "output_type": "display_data",
          "data": {
            "text/html": [
              "<html>\n",
              "<head><meta charset=\"utf-8\" /></head>\n",
              "<body>\n",
              "    <div>            <script src=\"https://cdnjs.cloudflare.com/ajax/libs/mathjax/2.7.5/MathJax.js?config=TeX-AMS-MML_SVG\"></script><script type=\"text/javascript\">if (window.MathJax && window.MathJax.Hub && window.MathJax.Hub.Config) {window.MathJax.Hub.Config({SVG: {font: \"STIX-Web\"}});}</script>                <script type=\"text/javascript\">window.PlotlyConfig = {MathJaxConfig: 'local'};</script>\n",
              "        <script charset=\"utf-8\" src=\"https://cdn.plot.ly/plotly-2.35.2.min.js\"></script>                <div id=\"6916454c-22fb-4d9f-81e8-c753bd44ad4a\" class=\"plotly-graph-div\" style=\"height:525px; width:100%;\"></div>            <script type=\"text/javascript\">                                    window.PLOTLYENV=window.PLOTLYENV || {};                                    if (document.getElementById(\"6916454c-22fb-4d9f-81e8-c753bd44ad4a\")) {                    Plotly.newPlot(                        \"6916454c-22fb-4d9f-81e8-c753bd44ad4a\",                        [{\"domain\":{\"x\":[0.0,1.0],\"y\":[0.0,1.0]},\"hovertemplate\":\"Dominant_Emotion=%{label}\\u003cextra\\u003e\\u003c\\u002fextra\\u003e\",\"labels\":[\"Happiness\",\"Happiness\",\"Happiness\",\"Anger\",\"Happiness\",\"Neutral\",\"Happiness\",\"Anxiety\",\"Happiness\",\"Boredom\",\"Happiness\",\"Happiness\",\"Happiness\",\"Anger\",\"Happiness\",\"Sadness\",\"Happiness\",\"Neutral\",\"Happiness\",\"Happiness\",\"Happiness\",\"Anxiety\",\"Happiness\",\"Sadness\",\"Happiness\",\"Boredom\",\"Happiness\",\"Happiness\",\"Happiness\",\"Anger\",\"Happiness\",\"Neutral\",\"Happiness\",\"Anxiety\",\"Happiness\",\"Sadness\",\"Happiness\",\"Neutral\",\"Happiness\",\"Happiness\",\"Happiness\",\"Anxiety\",\"Happiness\",\"Anger\",\"Happiness\",\"Boredom\",\"Happiness\",\"Happiness\",\"Happiness\",\"Sadness\",\"Happiness\",\"Neutral\",\"Happiness\",\"Anxiety\",\"Happiness\",\"Happiness\",\"Happiness\",\"Anger\",\"Happiness\",\"Sadness\",\"Happiness\",\"Boredom\",\"Happiness\",\"Happiness\",\"Happiness\",\"Neutral\",\"Happiness\",\"Sadness\",\"Happiness\",\"Anxiety\",\"Happiness\",\"Boredom\",\"Happiness\",\"Happiness\",\"Happiness\",\"Anger\",\"Happiness\",\"Neutral\",\"Happiness\",\"Anxiety\",\"Happiness\",\"Sadness\",\"Happiness\",\"Happiness\",\"Happiness\",\"Anger\",\"Happiness\",\"Neutral\",\"Happiness\",\"Boredom\",\"Happiness\",\"Happiness\",\"Happiness\",\"Sadness\",\"Happiness\",\"Anxiety\",\"Happiness\",\"Neutral\",\"Happiness\",\"Boredom\",\"Happiness\",\"Happiness\",\"Happiness\",\"Anger\",\"Happiness\",\"Neutral\",\"Happiness\",\"Sadness\",\"Happiness\",\"Anxiety\",\"Happiness\",\"Anxiety\",\"Happiness\",\"Boredom\",\"Happiness\",\"Sadness\",\"Happiness\",\"Happiness\",\"Happiness\",\"Boredom\",\"Happiness\",\"Happiness\",\"Happiness\",\"Anger\",\"Happiness\",\"Neutral\",\"Happiness\",\"Anxiety\",\"Happiness\",\"Sadness\",\"Happiness\",\"Boredom\",\"Happiness\",\"Happiness\",\"Happiness\",\"Neutral\",\"Happiness\",\"Anxiety\",\"Happiness\",\"Sadness\",\"Happiness\",\"Happiness\",\"Happiness\",\"Boredom\",\"Happiness\",\"Neutral\",\"Happiness\",\"Anger\",\"Happiness\",\"Neutral\",\"Happiness\",\"Anxiety\",\"Happiness\",\"Happiness\",\"Happiness\",\"Sadness\",\"Happiness\",\"Anxiety\",\"Happiness\",\"Neutral\",\"Happiness\",\"Sadness\",\"Happiness\",\"Happiness\",\"Happiness\",\"Anger\",\"Happiness\",\"Neutral\",\"Happiness\",\"Boredom\",\"Happiness\",\"Anxiety\",\"Happiness\",\"Sadness\",\"Happiness\",\"Neutral\",\"Happiness\",\"Happiness\",\"Happiness\",\"Anxiety\",\"Happiness\",\"Boredom\",\"Happiness\",\"Anger\",\"Happiness\",\"Neutral\",\"Happiness\",\"Sadness\",\"Happiness\",\"Anxiety\",\"Happiness\",\"Boredom\",\"Happiness\",\"Neutral\",\"Happiness\",\"Happiness\",\"Happiness\",\"Anger\",\"Happiness\",\"Neutral\",\"Happiness\",\"Happiness\",\"Happiness\",\"Anger\",\"Happiness\",\"Neutral\",\"Happiness\",\"Anxiety\",\"Happiness\",\"Boredom\",\"Happiness\",\"Happiness\",\"Happiness\",\"Anger\",\"Happiness\",\"Sadness\",\"Happiness\",\"Neutral\",\"Happiness\",\"Happiness\",\"Happiness\",\"Anxiety\",\"Happiness\",\"Sadness\",\"Happiness\",\"Boredom\",\"Happiness\",\"Happiness\",\"Happiness\",\"Anger\",\"Happiness\",\"Neutral\",\"Happiness\",\"Anxiety\",\"Happiness\",\"Sadness\",\"Happiness\",\"Neutral\",\"Happiness\",\"Happiness\",\"Happiness\",\"Anxiety\",\"Happiness\",\"Anger\",\"Happiness\",\"Boredom\",\"Happiness\",\"Happiness\",\"Happiness\",\"Sadness\",\"Happiness\",\"Neutral\",\"Happiness\",\"Anxiety\",\"Happiness\",\"Happiness\",\"Happiness\",\"Anger\",\"Happiness\",\"Sadness\",\"Happiness\",\"Boredom\",\"Happiness\",\"Happiness\",\"Happiness\",\"Neutral\",\"Happiness\",\"Sadness\",\"Happiness\",\"Anxiety\",\"Happiness\",\"Boredom\",\"Happiness\",\"Happiness\",\"Happiness\",\"Anger\",\"Happiness\",\"Neutral\",\"Happiness\",\"Anxiety\",\"Happiness\",\"Sadness\",\"Happiness\",\"Happiness\",\"Happiness\",\"Anger\",\"Happiness\",\"Neutral\",\"Happiness\",\"Boredom\",\"Happiness\",\"Happiness\",\"Happiness\",\"Sadness\",\"Happiness\",\"Anxiety\",\"Happiness\",\"Neutral\",\"Happiness\",\"Boredom\",\"Happiness\",\"Happiness\",\"Happiness\",\"Anger\",\"Happiness\",\"Neutral\",\"Happiness\",\"Sadness\",\"Happiness\",\"Anxiety\",\"Happiness\",\"Anxiety\",\"Happiness\",\"Boredom\",\"Happiness\",\"Sadness\",\"Happiness\",\"Happiness\",\"Happiness\",\"Boredom\",\"Happiness\",\"Happiness\",\"Happiness\",\"Anger\",\"Happiness\",\"Neutral\",\"Happiness\",\"Anxiety\",\"Happiness\",\"Sadness\",\"Happiness\",\"Boredom\",\"Happiness\",\"Happiness\",\"Happiness\",\"Neutral\",\"Happiness\",\"Anxiety\",\"Happiness\",\"Sadness\",\"Happiness\",\"Happiness\",\"Happiness\",\"Boredom\",\"Happiness\",\"Neutral\",\"Happiness\",\"Anger\",\"Happiness\",\"Neutral\",\"Happiness\",\"Anxiety\",\"Happiness\",\"Happiness\",\"Happiness\",\"Sadness\",\"Happiness\",\"Anxiety\",\"Happiness\",\"Neutral\",\"Happiness\",\"Sadness\",\"Happiness\",\"Happiness\",\"Happiness\",\"Anger\",\"Happiness\",\"Neutral\",\"Happiness\",\"Boredom\",\"Happiness\",\"Anxiety\",\"Happiness\",\"Sadness\",\"Happiness\",\"Neutral\",\"Happiness\",\"Happiness\",\"Happiness\",\"Anxiety\",\"Happiness\",\"Boredom\",\"Happiness\",\"Anger\",\"Happiness\",\"Neutral\",\"Happiness\",\"Sadness\",\"Happiness\",\"Anxiety\",\"Happiness\",\"Boredom\",\"Happiness\",\"Neutral\",\"Happiness\",\"Happiness\",\"Happiness\",\"Anger\",\"Happiness\",\"Neutral\",\"Happiness\",\"Happiness\",\"Happiness\",\"Anger\",\"Happiness\",\"Neutral\",\"Happiness\",\"Anxiety\",\"Happiness\",\"Boredom\",\"Happiness\",\"Happiness\",\"Happiness\",\"Anger\",\"Happiness\",\"Sadness\",\"Happiness\",\"Neutral\",\"Happiness\",\"Happiness\",\"Happiness\",\"Anxiety\",\"Happiness\",\"Sadness\",\"Happiness\",\"Boredom\",\"Happiness\",\"Happiness\",\"Happiness\",\"Anger\",\"Happiness\",\"Neutral\",\"Happiness\",\"Anxiety\",\"Happiness\",\"Sadness\",\"Happiness\",\"Neutral\",\"Happiness\",\"Happiness\",\"Happiness\",\"Anxiety\",\"Happiness\",\"Anger\",\"Happiness\",\"Boredom\",\"Happiness\",\"Happiness\",\"Happiness\",\"Sadness\",\"Happiness\",\"Neutral\",\"Happiness\",\"Anxiety\",\"Happiness\",\"Happiness\",\"Happiness\",\"Anger\",\"Happiness\",\"Sadness\",\"Happiness\",\"Boredom\",\"Happiness\",\"Happiness\",\"Happiness\",\"Neutral\",\"Happiness\",\"Sadness\",\"Happiness\",\"Anxiety\",\"Happiness\",\"Boredom\",\"Happiness\",\"Happiness\",\"Happiness\",\"Anger\",\"Happiness\",\"Neutral\",\"Happiness\",\"Anxiety\",\"Happiness\",\"Sadness\",\"Happiness\",\"Happiness\",\"Happiness\",\"Anger\",\"Happiness\",\"Neutral\",\"Happiness\",\"Boredom\",\"Happiness\",\"Happiness\",\"Happiness\",\"Sadness\",\"Happiness\",\"Anxiety\",\"Happiness\",\"Neutral\",\"Happiness\",\"Boredom\",\"Happiness\",\"Happiness\",\"Happiness\",\"Anger\",\"Happiness\",\"Neutral\",\"Happiness\",\"Sadness\",\"Happiness\",\"Anxiety\",\"Happiness\",\"Anxiety\",\"Happiness\",\"Boredom\",\"Happiness\",\"Sadness\",\"Happiness\",\"Happiness\",\"Happiness\",\"Boredom\",\"Happiness\",\"Happiness\",\"Happiness\",\"Anger\",\"Happiness\",\"Neutral\",\"Happiness\",\"Anxiety\",\"Happiness\",\"Sadness\",\"Happiness\",\"Boredom\",\"Happiness\",\"Happiness\",\"Happiness\",\"Neutral\",\"Happiness\",\"Anxiety\",\"Happiness\",\"Sadness\",\"Happiness\",\"Happiness\",\"Happiness\",\"Boredom\",\"Happiness\",\"Neutral\",\"Happiness\",\"Anger\",\"Happiness\",\"Neutral\",\"Happiness\",\"Anxiety\",\"Happiness\",\"Happiness\",\"Happiness\",\"Sadness\",\"Happiness\",\"Anxiety\",\"Happiness\",\"Neutral\",\"Happiness\",\"Sadness\",\"Happiness\",\"Happiness\",\"Happiness\",\"Anger\",\"Happiness\",\"Neutral\",\"Happiness\",\"Boredom\",\"Happiness\",\"Anxiety\",\"Happiness\",\"Sadness\",\"Happiness\",\"Neutral\",\"Happiness\",\"Happiness\",\"Happiness\",\"Anxiety\",\"Happiness\",\"Boredom\",\"Happiness\",\"Anger\",\"Happiness\",\"Neutral\",\"Happiness\",\"Sadness\",\"Happiness\",\"Anxiety\",\"Happiness\",\"Boredom\",\"Happiness\",\"Neutral\",\"Happiness\",\"Happiness\",\"Happiness\",\"Anger\",\"Happiness\",\"Neutral\",\"Happiness\",\"Happiness\",\"Happiness\",\"Anger\",\"Happiness\",\"Neutral\",\"Happiness\",\"Anxiety\",\"Happiness\",\"Boredom\",\"Happiness\",\"Happiness\",\"Happiness\",\"Anger\",\"Happiness\",\"Sadness\",\"Happiness\",\"Neutral\",\"Happiness\",\"Happiness\",\"Happiness\",\"Anxiety\",\"Happiness\",\"Sadness\",\"Happiness\",\"Boredom\",\"Happiness\",\"Happiness\",\"Happiness\",\"Anger\",\"Happiness\",\"Neutral\",\"Happiness\",\"Anxiety\",\"Happiness\",\"Sadness\",\"Happiness\",\"Neutral\",\"Happiness\",\"Happiness\",\"Happiness\",\"Anxiety\",\"Happiness\",\"Anger\",\"Happiness\",\"Boredom\",\"Happiness\",\"Happiness\",\"Happiness\",\"Sadness\",\"Happiness\",\"Neutral\",\"Happiness\",\"Anxiety\",\"Happiness\",\"Happiness\",\"Happiness\",\"Anger\",\"Happiness\",\"Sadness\",\"Happiness\",\"Boredom\",\"Happiness\",\"Happiness\",\"Happiness\",\"Neutral\",\"Happiness\",\"Sadness\",\"Happiness\",\"Anxiety\",\"Happiness\",\"Boredom\",\"Happiness\",\"Happiness\",\"Happiness\",\"Anger\",\"Happiness\",\"Neutral\",\"Happiness\",\"Anxiety\",\"Happiness\",\"Sadness\",\"Happiness\",\"Happiness\",\"Happiness\",\"Anger\",\"Happiness\",\"Neutral\",\"Happiness\",\"Boredom\",\"Happiness\",\"Happiness\",\"Happiness\",\"Sadness\",\"Happiness\",\"Anxiety\",\"Happiness\",\"Neutral\",\"Happiness\",\"Boredom\",\"Happiness\",\"Happiness\",\"Happiness\",\"Anger\",\"Happiness\",\"Neutral\",\"Happiness\",\"Sadness\",\"Happiness\",\"Anxiety\",\"Happiness\",\"Anxiety\",\"Happiness\",\"Boredom\",\"Happiness\",\"Sadness\",\"Happiness\",\"Happiness\",\"Happiness\",\"Boredom\",\"Happiness\",\"Happiness\",\"Happiness\",\"Anger\",\"Happiness\",\"Neutral\",\"Happiness\",\"Anxiety\",\"Happiness\",\"Sadness\",\"Happiness\",\"Boredom\",\"Happiness\",\"Happiness\",\"Happiness\",\"Neutral\",\"Happiness\",\"Anxiety\",\"Happiness\",\"Sadness\",\"Happiness\",\"Happiness\",\"Happiness\",\"Boredom\",\"Happiness\",\"Neutral\",\"Happiness\",\"Anger\",\"Happiness\",\"Neutral\",\"Happiness\",\"Anxiety\",\"Happiness\",\"Happiness\",\"Happiness\",\"Sadness\",\"Happiness\",\"Anxiety\",\"Happiness\",\"Neutral\",\"Happiness\",\"Sadness\",\"Happiness\",\"Happiness\",\"Happiness\",\"Anger\",\"Happiness\",\"Neutral\",\"Happiness\",\"Boredom\",\"Happiness\",\"Anxiety\",\"Happiness\",\"Sadness\",\"Happiness\",\"Neutral\",\"Happiness\",\"Happiness\",\"Happiness\",\"Anxiety\",\"Happiness\",\"Boredom\",\"Happiness\",\"Anger\",\"Happiness\",\"Neutral\",\"Happiness\",\"Sadness\",\"Happiness\",\"Anxiety\",\"Happiness\",\"Boredom\",\"Happiness\",\"Neutral\",\"Happiness\",\"Happiness\",\"Happiness\",\"Anger\",\"Happiness\",\"Neutral\",\"Happiness\",\"Happiness\",\"Happiness\",\"Anger\",\"Happiness\",\"Neutral\",\"Happiness\",\"Anxiety\",\"Happiness\",\"Boredom\",\"Happiness\",\"Happiness\",\"Happiness\",\"Anger\",\"Happiness\",\"Sadness\",\"Happiness\",\"Neutral\",\"Happiness\",\"Happiness\",\"Happiness\",\"Anxiety\",\"Happiness\",\"Sadness\",\"Happiness\",\"Boredom\",\"Happiness\",\"Happiness\",\"Happiness\",\"Anger\",\"Happiness\",\"Neutral\",\"Happiness\",\"Anxiety\",\"Happiness\",\"Sadness\",\"Happiness\",\"Neutral\",\"Happiness\",\"Happiness\",\"Happiness\",\"Anxiety\",\"Happiness\",\"Anger\",\"Happiness\",\"Boredom\",\"Happiness\",\"Happiness\",\"Happiness\",\"Sadness\",\"Happiness\",\"Neutral\",\"Happiness\",\"Anxiety\",\"Happiness\",\"Happiness\",\"Happiness\",\"Anger\",\"Happiness\",\"Sadness\",\"Happiness\",\"Boredom\",\"Happiness\",\"Happiness\",\"Happiness\",\"Neutral\",\"Happiness\",\"Sadness\",\"Happiness\",\"Anxiety\",\"Happiness\",\"Boredom\",\"Happiness\",\"Happiness\",\"Happiness\",\"Anger\",\"Happiness\",\"Neutral\",\"Happiness\",\"Anxiety\",\"Happiness\",\"Sadness\",\"Happiness\",\"Happiness\",\"Happiness\",\"Anger\",\"Happiness\",\"Neutral\",\"Happiness\",\"Boredom\",\"Happiness\",\"Happiness\",\"Happiness\",\"Sadness\",\"Happiness\",\"Anxiety\",\"Happiness\",\"Neutral\",\"Happiness\",\"Boredom\",\"Happiness\",\"Happiness\",\"Happiness\",\"Anger\",\"Happiness\",\"Neutral\",\"Happiness\",\"Sadness\",\"Happiness\",\"Anxiety\",\"Happiness\",\"Anxiety\",\"Happiness\",\"Boredom\",\"Happiness\",\"Sadness\",\"Happiness\",\"Happiness\",\"Happiness\",\"Boredom\",\"Happiness\",\"Happiness\",\"Happiness\",\"Anger\",\"Happiness\",\"Neutral\",\"Happiness\",\"Anxiety\",\"Happiness\",\"Sadness\",\"Happiness\",\"Boredom\",\"Happiness\",\"Happiness\",\"Happiness\",\"Neutral\",\"Happiness\",\"Anxiety\",\"Happiness\",\"Sadness\",\"Happiness\",\"Happiness\",\"Happiness\",\"Boredom\",\"Happiness\",\"Neutral\",\"Happiness\",\"Anger\",\"Happiness\",\"Neutral\",\"Happiness\",\"Anxiety\",\"Happiness\",\"Happiness\",\"Happiness\",\"Sadness\",\"Happiness\",\"Anxiety\",\"Happiness\",\"Neutral\",\"Happiness\",\"Sadness\",\"Happiness\",\"Happiness\",\"Happiness\",\"Anger\",\"Happiness\",\"Neutral\",\"Happiness\",\"Boredom\",\"Happiness\",\"Anxiety\",\"Happiness\",\"Sadness\",\"Happiness\",\"Neutral\",\"Happiness\",\"Happiness\",\"Happiness\",\"Anxiety\",\"Happiness\",\"Boredom\",\"Happiness\",\"Anger\",\"Happiness\",\"Neutral\",\"Happiness\",\"Sadness\",\"Happiness\",\"Anxiety\",\"Happiness\",\"Boredom\",\"Happiness\",\"Neutral\",\"Happiness\",\"Happiness\",\"Happiness\",\"Anger\",\"Happiness\",\"Neutral\",\"Happiness\",\"Happiness\",\"Happiness\",\"Anger\",\"Happiness\",\"Neutral\",\"Happiness\",\"Anxiety\",\"Happiness\",\"Boredom\",\"Happiness\",\"Happiness\",\"Happiness\",\"Anger\",\"Happiness\",\"Sadness\",\"Happiness\",\"Neutral\",\"Happiness\",\"Happiness\",\"Happiness\",\"Anxiety\",\"Happiness\",\"Sadness\",\"Happiness\",\"Boredom\",\"Happiness\",\"Happiness\",\"Happiness\",\"Anger\",\"Happiness\",\"Neutral\",\"Happiness\",\"Anxiety\",\"Happiness\",\"Sadness\",\"Happiness\",\"Neutral\",\"Happiness\",\"Happiness\",\"Happiness\",\"Anxiety\",\"Happiness\",\"Anger\",\"Happiness\",\"Boredom\",\"Happiness\",\"Happiness\",\"Happiness\",\"Sadness\",\"Happiness\",\"Neutral\",\"Happiness\",\"Anxiety\",\"Happiness\",\"Happiness\",\"Happiness\",\"Anger\",\"Happiness\",\"Sadness\",\"Happiness\",\"Boredom\",\"Happiness\",\"Happiness\",\"Happiness\",\"Neutral\",\"Happiness\",\"Sadness\",\"Happiness\",\"Anxiety\",\"Happiness\",\"Boredom\",\"Happiness\",\"Happiness\",\"Happiness\",\"Anger\",\"Happiness\",\"Neutral\",\"Happiness\",\"Anxiety\",\"Happiness\",\"Sadness\",\"Happiness\",\"Happiness\",\"Happiness\",\"Anger\",\"Happiness\",\"Neutral\",\"Happiness\",\"Boredom\",\"Happiness\",\"Happiness\",\"Happiness\",\"Sadness\",\"Happiness\",\"Anxiety\",\"Happiness\",\"Neutral\",\"Happiness\",\"Boredom\",\"Happiness\",\"Happiness\",\"Happiness\",\"Anger\",\"Happiness\",\"Neutral\",\"Happiness\",\"Sadness\",\"Happiness\",\"Anxiety\",\"Happiness\",\"Anxiety\",\"Happiness\",\"Boredom\",\"Happiness\",\"Sadness\",\"Happiness\",\"Happiness\",\"Happiness\",\"Boredom\",\"Happiness\",\"Happiness\",\"Happiness\",\"Anger\",\"Happiness\",\"Neutral\",\"Happiness\",\"Anxiety\",\"Happiness\",\"Sadness\",\"Happiness\",\"Boredom\",\"Happiness\",\"Happiness\",\"Happiness\",\"Neutral\",\"Happiness\",\"Anxiety\",\"Happiness\",\"Sadness\",\"Happiness\",\"Happiness\",\"Happiness\",\"Boredom\",\"Happiness\",\"Neutral\",\"Happiness\",\"Anger\",\"Happiness\",\"Neutral\",\"Happiness\",\"Anxiety\",\"Happiness\",\"Happiness\",\"Happiness\",\"Sadness\",\"Happiness\",\"Anxiety\",\"Happiness\",\"Neutral\",\"Happiness\",\"Sadness\",\"Happiness\",\"Happiness\",\"Happiness\",\"Anger\",\"Happiness\",\"Neutral\",\"Happiness\",\"Boredom\",\"Happiness\",\"Anxiety\",\"Happiness\",\"Sadness\",\"Happiness\",\"Neutral\",\"Happiness\",\"Happiness\",\"Happiness\",\"Anxiety\",\"Happiness\",\"Boredom\",\"Happiness\",\"Anger\",\"Happiness\",\"Neutral\",\"Happiness\",\"Sadness\",\"Happiness\",\"Anxiety\",\"Happiness\",\"Boredom\",\"Happiness\",\"Neutral\",\"Happiness\",\"Happiness\",\"Happiness\",\"Anger\",\"Happiness\",\"Neutral\",\"Happiness\",\"Happiness\",\"Happiness\",\"Anger\",\"Happiness\",\"Neutral\",\"Happiness\",\"Anxiety\",\"Happiness\",\"Boredom\",\"Happiness\",\"Happiness\",\"Happiness\",\"Anger\",\"Happiness\",\"Sadness\",\"Happiness\",\"Neutral\",\"Happiness\",\"Happiness\",\"Happiness\",\"Anxiety\",\"Happiness\",\"Sadness\",\"Happiness\",\"Boredom\",\"Happiness\",\"Happiness\",\"Happiness\",\"Anger\",\"Happiness\",\"Neutral\",\"Happiness\",\"Anxiety\",\"Happiness\",\"Sadness\",\"Happiness\",\"Neutral\",\"Happiness\",\"Happiness\",\"Happiness\",\"Anxiety\",\"Happiness\",\"Anger\",\"Happiness\",\"Boredom\",\"Happiness\",\"Happiness\",\"Happiness\",\"Sadness\",\"Happiness\",\"Neutral\",\"Happiness\",\"Anxiety\",\"Happiness\",\"Happiness\",\"Happiness\",\"Anger\",\"Happiness\",\"Sadness\",\"Happiness\",\"Boredom\",\"Happiness\",\"Happiness\",\"Happiness\",\"Neutral\",\"Happiness\",\"Sadness\",\"Happiness\",\"Anxiety\",\"Happiness\",\"Boredom\",\"Happiness\",\"Happiness\",\"Happiness\",\"Anger\",\"Happiness\",\"Neutral\",\"Happiness\",\"Anxiety\",\"Happiness\",\"Sadness\",\"Happiness\",\"Happiness\",\"Happiness\",\"Happiness\",\"Happiness\",\"Happiness\",\"Happiness\",\"Anger\",\"Happiness\",\"Neutral\",\"Happiness\",\"Boredom\",\"Happiness\",\"Happiness\",\"Happiness\",\"Sadness\",\"Happiness\",\"Anxiety\",\"Happiness\",\"Neutral\",\"Happiness\",\"Boredom\",\"Happiness\",\"Happiness\",\"Happiness\",\"Anger\",\"Happiness\",\"Neutral\",\"Happiness\",\"Sadness\",\"Happiness\",\"Anxiety\",\"Happiness\",\"Anxiety\",\"Happiness\",\"Boredom\",\"Happiness\",\"Sadness\",\"Happiness\",\"Happiness\",\"Happiness\",\"Boredom\",\"Happiness\",\"Happiness\",\"Happiness\",\"Anger\",\"Happiness\",\"Neutral\",\"Happiness\",\"Anxiety\",\"Happiness\",\"Sadness\",\"Happiness\",\"Boredom\",\"Happiness\",\"Happiness\",\"Happiness\",\"Neutral\",\"Happiness\",\"Anxiety\",\"Happiness\",\"Sadness\",\"Happiness\",\"Happiness\",\"Happiness\",\"Boredom\",\"Happiness\",\"Neutral\",\"Happiness\",\"Anger\",\"Happiness\",\"Neutral\",\"Happiness\",\"Anxiety\",\"Happiness\",\"Happiness\",\"Happiness\",\"Sadness\",\"Happiness\",\"Anxiety\",\"Happiness\",\"Neutral\",\"Happiness\",\"Sadness\",\"Happiness\",\"Happiness\",\"Happiness\",\"Anger\",\"Happiness\",\"Neutral\",\"Happiness\",\"Boredom\",\"Happiness\",\"Anxiety\",\"Happiness\",\"Sadness\",\"Happiness\",\"Neutral\",\"Happiness\",\"Happiness\",\"Happiness\",\"Anxiety\",\"Happiness\",\"Boredom\",\"Happiness\",\"Anger\",\"Happiness\",\"Neutral\",\"Happiness\",\"Sadness\",\"Happiness\",\"Anxiety\",\"Happiness\",\"Boredom\",\"Happiness\",\"Neutral\",\"Happiness\",\"Happiness\",\"Happiness\",\"Anger\",\"Happiness\",\"Neutral\",\"Happiness\",\"Happiness\",\"Happiness\",\"Anger\",\"Happiness\",\"Neutral\",\"Happiness\",\"Anxiety\",\"Happiness\",\"Boredom\",\"Happiness\",\"Happiness\",\"Happiness\",\"Anger\",\"Happiness\",\"Sadness\",\"Happiness\",\"Neutral\",\"Happiness\",\"Happiness\",\"Happiness\",\"Anxiety\",\"Happiness\",\"Sadness\",\"Happiness\",\"Boredom\",\"Happiness\",\"Happiness\",\"Happiness\",\"Anger\",\"Happiness\",\"Neutral\",\"Happiness\",\"Anxiety\",\"Happiness\",\"Sadness\",\"Happiness\",\"Neutral\",\"Happiness\",\"Happiness\",\"Happiness\",\"Anxiety\",\"Happiness\",\"Anger\",\"Happiness\",\"Boredom\",\"Happiness\",\"Happiness\",\"Happiness\",\"Sadness\",\"Happiness\",\"Neutral\",\"Happiness\",\"Anxiety\",\"Happiness\",\"Happiness\",\"Happiness\",\"Anger\",\"Happiness\",\"Sadness\",\"Happiness\",\"Boredom\",\"Happiness\",\"Happiness\",\"Happiness\",\"Neutral\",\"Happiness\",\"Sadness\",\"Happiness\",\"Anxiety\",\"Happiness\",\"Boredom\",\"Happiness\",\"Happiness\",\"Happiness\",\"Anger\",\"Happiness\",\"Neutral\",\"Happiness\",\"Anxiety\",\"Happiness\",\"Sadness\",\"Happiness\",\"Happiness\",\"Happiness\",\"Anger\",\"Happiness\",\"Neutral\",\"Happiness\",\"Boredom\",\"Happiness\",\"Happiness\",\"Happiness\",\"Sadness\",\"Happiness\",\"Anxiety\",\"Happiness\",\"Neutral\",\"Happiness\",\"Boredom\",\"Happiness\",\"Happiness\",\"Happiness\",\"Anger\",\"Happiness\",\"Neutral\",\"Happiness\",\"Sadness\",\"Happiness\",\"Anxiety\",\"Happiness\",\"Anxiety\",\"Happiness\",\"Boredom\",\"Happiness\",\"Sadness\",\"Happiness\",\"Happiness\",\"Happiness\",\"Boredom\",\"Happiness\",\"Happiness\",\"Happiness\",\"Anger\",\"Happiness\",\"Neutral\",\"Happiness\",\"Anxiety\",\"Happiness\",\"Sadness\",\"Happiness\",\"Boredom\",\"Happiness\",\"Happiness\",\"Happiness\",\"Neutral\",\"Happiness\",\"Anxiety\",\"Happiness\",\"Sadness\",\"Happiness\",\"Happiness\",\"Happiness\",\"Boredom\",\"Happiness\",\"Neutral\",\"Happiness\",\"Anger\",\"Happiness\",\"Neutral\",\"Happiness\",\"Anxiety\",\"Happiness\",\"Happiness\",\"Happiness\",\"Sadness\",\"Happiness\",\"Anxiety\",\"Happiness\",\"Neutral\",\"Happiness\",\"Sadness\",\"Happiness\",\"Happiness\",\"Happiness\",\"Anger\",\"Happiness\",\"Neutral\",\"Happiness\",\"Boredom\",\"Happiness\",\"Anxiety\",\"Happiness\",\"Sadness\",\"Happiness\",\"Neutral\",\"Happiness\",\"Happiness\",\"Happiness\",\"Anxiety\",\"Happiness\",\"Boredom\",\"Happiness\",\"Anger\",\"Happiness\",\"Neutral\",\"Happiness\",\"Sadness\",\"Happiness\",\"Anxiety\",\"Happiness\",\"Boredom\",\"Happiness\",\"Neutral\",\"Happiness\",\"Happiness\",\"Happiness\",\"Anger\",\"Happiness\",\"Neutral\",\"Happiness\",\"Happiness\",\"Happiness\",\"Anger\",\"Happiness\",\"Neutral\",\"Happiness\",\"Anxiety\",\"Happiness\",\"Boredom\",\"Happiness\",\"Happiness\",\"Happiness\",\"Anger\",\"Happiness\",\"Sadness\",\"Happiness\",\"Neutral\",\"Happiness\",\"Happiness\",\"Happiness\",\"Anxiety\",\"Happiness\",\"Sadness\",\"Happiness\",\"Boredom\",\"Happiness\",\"Happiness\",\"Happiness\",\"Anger\",\"Happiness\",\"Neutral\",\"Happiness\",\"Anxiety\",\"Happiness\",\"Sadness\",\"Happiness\",\"Neutral\",\"Happiness\",\"Happiness\",\"Happiness\",\"Anxiety\",\"Happiness\",\"Anger\",\"Happiness\",\"Boredom\",\"Happiness\",\"Happiness\",\"Happiness\",\"Sadness\",\"Happiness\",\"Neutral\",\"Happiness\",\"Anxiety\",\"Happiness\",\"Happiness\",\"Happiness\",\"Anger\",\"Happiness\",\"Sadness\",\"Happiness\",\"Boredom\",\"Happiness\",\"Happiness\",\"Happiness\",\"Neutral\",\"Happiness\",\"Sadness\",\"Happiness\",\"Anxiety\",\"Happiness\",\"Boredom\",\"Happiness\",\"Happiness\",\"Happiness\",\"Anger\",\"Happiness\",\"Neutral\",\"Happiness\",\"Anxiety\",\"Happiness\",\"Sadness\",\"Happiness\",\"Happiness\",\"Happiness\",\"Anger\",\"Happiness\",\"Neutral\",\"Happiness\",\"Boredom\",\"Happiness\",\"Happiness\",\"Happiness\",\"Sadness\",\"Happiness\",\"Anxiety\",\"Happiness\",\"Neutral\",\"Happiness\",\"Boredom\",\"Happiness\",\"Happiness\",\"Happiness\",\"Anger\",\"Happiness\",\"Neutral\",\"Happiness\",\"Sadness\",\"Happiness\",\"Anxiety\",\"Happiness\",\"Anxiety\",\"Happiness\",\"Boredom\",\"Happiness\",\"Sadness\",\"Happiness\",\"Happiness\",\"Happiness\",\"Boredom\",\"Happiness\",\"Happiness\",\"Happiness\",\"Anger\",\"Happiness\",\"Neutral\",\"Happiness\",\"Anxiety\",\"Happiness\",\"Sadness\",\"Happiness\",\"Boredom\",\"Happiness\",\"Happiness\",\"Happiness\",\"Neutral\",\"Happiness\",\"Anxiety\",\"Happiness\",\"Sadness\",\"Happiness\",\"Happiness\",\"Happiness\",\"Boredom\",\"Happiness\",\"Neutral\",\"Happiness\",\"Anger\",\"Happiness\",\"Neutral\",\"Happiness\",\"Anxiety\",\"Happiness\",\"Happiness\",\"Happiness\",\"Sadness\",\"Happiness\",\"Anxiety\",\"Happiness\",\"Neutral\",\"Happiness\",\"Sadness\",\"Happiness\",\"Happiness\",\"Happiness\",\"Anger\",\"Happiness\",\"Neutral\",\"Happiness\",\"Boredom\",\"Happiness\",\"Anxiety\",\"Happiness\",\"Sadness\",\"Happiness\",\"Neutral\",\"Happiness\",\"Happiness\",\"Happiness\",\"Anxiety\",\"Happiness\",\"Boredom\",\"Happiness\",\"Anger\",\"Happiness\",\"Neutral\",\"Happiness\",\"Sadness\",\"Happiness\",\"Anxiety\",\"Happiness\",\"Boredom\",\"Happiness\",\"Neutral\",\"Happiness\",\"Happiness\",\"Happiness\",\"Anger\",\"Happiness\",\"Neutral\",\"Happiness\",\"Happiness\",\"Happiness\",\"Anger\",\"Happiness\",\"Neutral\",\"Happiness\",\"Anxiety\",\"Happiness\",\"Boredom\",\"Happiness\",\"Happiness\",\"Happiness\",\"Anger\",\"Happiness\",\"Sadness\",\"Happiness\",\"Neutral\",\"Happiness\",\"Happiness\",\"Happiness\",\"Anxiety\",\"Happiness\",\"Sadness\",\"Happiness\",\"Boredom\",\"Happiness\",\"Happiness\",\"Happiness\",\"Anger\",\"Happiness\",\"Neutral\",\"Happiness\",\"Anxiety\",\"Happiness\",\"Sadness\",\"Happiness\",\"Neutral\",\"Happiness\",\"Happiness\",\"Happiness\",\"Anxiety\",\"Happiness\",\"Anger\",\"Happiness\",\"Boredom\",\"Happiness\",\"Happiness\",\"Happiness\",\"Sadness\",\"Happiness\",\"Neutral\",\"Happiness\",\"Anxiety\",\"Happiness\",\"Happiness\",\"Happiness\",\"Anger\",\"Happiness\",\"Sadness\",\"Happiness\",\"Boredom\",\"Happiness\",\"Happiness\",\"Happiness\",\"Neutral\",\"Happiness\",\"Sadness\",\"Happiness\",\"Anxiety\",\"Happiness\",\"Boredom\",\"Happiness\",\"Happiness\",\"Happiness\",\"Anger\",\"Happiness\",\"Neutral\",\"Happiness\",\"Anxiety\",\"Happiness\",\"Sadness\",\"Happiness\",\"Happiness\",\"Happiness\",\"Anger\",\"Happiness\",\"Neutral\",\"Happiness\",\"Boredom\",\"Happiness\",\"Happiness\",\"Happiness\",\"Sadness\",\"Happiness\",\"Anxiety\",\"Happiness\",\"Neutral\",\"Happiness\",\"Boredom\",\"Happiness\",\"Happiness\",\"Happiness\",\"Anger\",\"Happiness\",\"Neutral\",\"Happiness\",\"Sadness\",\"Happiness\",\"Anxiety\",\"Happiness\",\"Anxiety\",\"Happiness\",\"Boredom\",\"Happiness\",\"Sadness\",\"Happiness\",\"Happiness\",\"Happiness\",\"Boredom\",\"Happiness\",\"Happiness\",\"Happiness\",\"Anger\",\"Happiness\",\"Neutral\",\"Happiness\",\"Anxiety\",\"Happiness\",\"Sadness\",\"Happiness\",\"Boredom\",\"Happiness\",\"Happiness\",\"Happiness\",\"Neutral\",\"Happiness\",\"Anxiety\",\"Happiness\",\"Sadness\",\"Happiness\",\"Happiness\",\"Happiness\",\"Boredom\",\"Happiness\",\"Neutral\",\"Happiness\",\"Anger\",\"Happiness\",\"Neutral\",\"Happiness\",\"Anxiety\",\"Happiness\",\"Happiness\",\"Happiness\",\"Sadness\",\"Happiness\",\"Anxiety\",\"Happiness\",\"Neutral\",\"Happiness\",\"Sadness\",\"Happiness\",\"Happiness\",\"Happiness\",\"Anger\",\"Happiness\",\"Neutral\",\"Happiness\",\"Boredom\",\"Happiness\",\"Anxiety\",\"Happiness\",\"Sadness\",\"Happiness\",\"Neutral\",\"Happiness\",\"Happiness\",\"Happiness\",\"Anxiety\",\"Happiness\",\"Boredom\",\"Happiness\",\"Anger\",\"Happiness\",\"Neutral\",\"Happiness\",\"Sadness\",\"Happiness\",\"Anxiety\",\"Happiness\",\"Boredom\",\"Happiness\",\"Neutral\",\"Happiness\",\"Happiness\",\"Happiness\",\"Anger\",\"Happiness\",\"Neutral\"],\"legendgroup\":\"\",\"name\":\"\",\"showlegend\":true,\"type\":\"pie\",\"textinfo\":\"percent+label\",\"textposition\":\"inside\"}],                        {\"template\":{\"data\":{\"histogram2dcontour\":[{\"type\":\"histogram2dcontour\",\"colorbar\":{\"outlinewidth\":0,\"ticks\":\"\"},\"colorscale\":[[0.0,\"#0d0887\"],[0.1111111111111111,\"#46039f\"],[0.2222222222222222,\"#7201a8\"],[0.3333333333333333,\"#9c179e\"],[0.4444444444444444,\"#bd3786\"],[0.5555555555555556,\"#d8576b\"],[0.6666666666666666,\"#ed7953\"],[0.7777777777777778,\"#fb9f3a\"],[0.8888888888888888,\"#fdca26\"],[1.0,\"#f0f921\"]]}],\"choropleth\":[{\"type\":\"choropleth\",\"colorbar\":{\"outlinewidth\":0,\"ticks\":\"\"}}],\"histogram2d\":[{\"type\":\"histogram2d\",\"colorbar\":{\"outlinewidth\":0,\"ticks\":\"\"},\"colorscale\":[[0.0,\"#0d0887\"],[0.1111111111111111,\"#46039f\"],[0.2222222222222222,\"#7201a8\"],[0.3333333333333333,\"#9c179e\"],[0.4444444444444444,\"#bd3786\"],[0.5555555555555556,\"#d8576b\"],[0.6666666666666666,\"#ed7953\"],[0.7777777777777778,\"#fb9f3a\"],[0.8888888888888888,\"#fdca26\"],[1.0,\"#f0f921\"]]}],\"heatmap\":[{\"type\":\"heatmap\",\"colorbar\":{\"outlinewidth\":0,\"ticks\":\"\"},\"colorscale\":[[0.0,\"#0d0887\"],[0.1111111111111111,\"#46039f\"],[0.2222222222222222,\"#7201a8\"],[0.3333333333333333,\"#9c179e\"],[0.4444444444444444,\"#bd3786\"],[0.5555555555555556,\"#d8576b\"],[0.6666666666666666,\"#ed7953\"],[0.7777777777777778,\"#fb9f3a\"],[0.8888888888888888,\"#fdca26\"],[1.0,\"#f0f921\"]]}],\"heatmapgl\":[{\"type\":\"heatmapgl\",\"colorbar\":{\"outlinewidth\":0,\"ticks\":\"\"},\"colorscale\":[[0.0,\"#0d0887\"],[0.1111111111111111,\"#46039f\"],[0.2222222222222222,\"#7201a8\"],[0.3333333333333333,\"#9c179e\"],[0.4444444444444444,\"#bd3786\"],[0.5555555555555556,\"#d8576b\"],[0.6666666666666666,\"#ed7953\"],[0.7777777777777778,\"#fb9f3a\"],[0.8888888888888888,\"#fdca26\"],[1.0,\"#f0f921\"]]}],\"contourcarpet\":[{\"type\":\"contourcarpet\",\"colorbar\":{\"outlinewidth\":0,\"ticks\":\"\"}}],\"contour\":[{\"type\":\"contour\",\"colorbar\":{\"outlinewidth\":0,\"ticks\":\"\"},\"colorscale\":[[0.0,\"#0d0887\"],[0.1111111111111111,\"#46039f\"],[0.2222222222222222,\"#7201a8\"],[0.3333333333333333,\"#9c179e\"],[0.4444444444444444,\"#bd3786\"],[0.5555555555555556,\"#d8576b\"],[0.6666666666666666,\"#ed7953\"],[0.7777777777777778,\"#fb9f3a\"],[0.8888888888888888,\"#fdca26\"],[1.0,\"#f0f921\"]]}],\"surface\":[{\"type\":\"surface\",\"colorbar\":{\"outlinewidth\":0,\"ticks\":\"\"},\"colorscale\":[[0.0,\"#0d0887\"],[0.1111111111111111,\"#46039f\"],[0.2222222222222222,\"#7201a8\"],[0.3333333333333333,\"#9c179e\"],[0.4444444444444444,\"#bd3786\"],[0.5555555555555556,\"#d8576b\"],[0.6666666666666666,\"#ed7953\"],[0.7777777777777778,\"#fb9f3a\"],[0.8888888888888888,\"#fdca26\"],[1.0,\"#f0f921\"]]}],\"mesh3d\":[{\"type\":\"mesh3d\",\"colorbar\":{\"outlinewidth\":0,\"ticks\":\"\"}}],\"scatter\":[{\"fillpattern\":{\"fillmode\":\"overlay\",\"size\":10,\"solidity\":0.2},\"type\":\"scatter\"}],\"parcoords\":[{\"type\":\"parcoords\",\"line\":{\"colorbar\":{\"outlinewidth\":0,\"ticks\":\"\"}}}],\"scatterpolargl\":[{\"type\":\"scatterpolargl\",\"marker\":{\"colorbar\":{\"outlinewidth\":0,\"ticks\":\"\"}}}],\"bar\":[{\"error_x\":{\"color\":\"#2a3f5f\"},\"error_y\":{\"color\":\"#2a3f5f\"},\"marker\":{\"line\":{\"color\":\"#E5ECF6\",\"width\":0.5},\"pattern\":{\"fillmode\":\"overlay\",\"size\":10,\"solidity\":0.2}},\"type\":\"bar\"}],\"scattergeo\":[{\"type\":\"scattergeo\",\"marker\":{\"colorbar\":{\"outlinewidth\":0,\"ticks\":\"\"}}}],\"scatterpolar\":[{\"type\":\"scatterpolar\",\"marker\":{\"colorbar\":{\"outlinewidth\":0,\"ticks\":\"\"}}}],\"histogram\":[{\"marker\":{\"pattern\":{\"fillmode\":\"overlay\",\"size\":10,\"solidity\":0.2}},\"type\":\"histogram\"}],\"scattergl\":[{\"type\":\"scattergl\",\"marker\":{\"colorbar\":{\"outlinewidth\":0,\"ticks\":\"\"}}}],\"scatter3d\":[{\"type\":\"scatter3d\",\"line\":{\"colorbar\":{\"outlinewidth\":0,\"ticks\":\"\"}},\"marker\":{\"colorbar\":{\"outlinewidth\":0,\"ticks\":\"\"}}}],\"scattermapbox\":[{\"type\":\"scattermapbox\",\"marker\":{\"colorbar\":{\"outlinewidth\":0,\"ticks\":\"\"}}}],\"scatterternary\":[{\"type\":\"scatterternary\",\"marker\":{\"colorbar\":{\"outlinewidth\":0,\"ticks\":\"\"}}}],\"scattercarpet\":[{\"type\":\"scattercarpet\",\"marker\":{\"colorbar\":{\"outlinewidth\":0,\"ticks\":\"\"}}}],\"carpet\":[{\"aaxis\":{\"endlinecolor\":\"#2a3f5f\",\"gridcolor\":\"white\",\"linecolor\":\"white\",\"minorgridcolor\":\"white\",\"startlinecolor\":\"#2a3f5f\"},\"baxis\":{\"endlinecolor\":\"#2a3f5f\",\"gridcolor\":\"white\",\"linecolor\":\"white\",\"minorgridcolor\":\"white\",\"startlinecolor\":\"#2a3f5f\"},\"type\":\"carpet\"}],\"table\":[{\"cells\":{\"fill\":{\"color\":\"#EBF0F8\"},\"line\":{\"color\":\"white\"}},\"header\":{\"fill\":{\"color\":\"#C8D4E3\"},\"line\":{\"color\":\"white\"}},\"type\":\"table\"}],\"barpolar\":[{\"marker\":{\"line\":{\"color\":\"#E5ECF6\",\"width\":0.5},\"pattern\":{\"fillmode\":\"overlay\",\"size\":10,\"solidity\":0.2}},\"type\":\"barpolar\"}],\"pie\":[{\"automargin\":true,\"type\":\"pie\"}]},\"layout\":{\"autotypenumbers\":\"strict\",\"colorway\":[\"#636efa\",\"#EF553B\",\"#00cc96\",\"#ab63fa\",\"#FFA15A\",\"#19d3f3\",\"#FF6692\",\"#B6E880\",\"#FF97FF\",\"#FECB52\"],\"font\":{\"color\":\"#2a3f5f\"},\"hovermode\":\"closest\",\"hoverlabel\":{\"align\":\"left\"},\"paper_bgcolor\":\"white\",\"plot_bgcolor\":\"#E5ECF6\",\"polar\":{\"bgcolor\":\"#E5ECF6\",\"angularaxis\":{\"gridcolor\":\"white\",\"linecolor\":\"white\",\"ticks\":\"\"},\"radialaxis\":{\"gridcolor\":\"white\",\"linecolor\":\"white\",\"ticks\":\"\"}},\"ternary\":{\"bgcolor\":\"#E5ECF6\",\"aaxis\":{\"gridcolor\":\"white\",\"linecolor\":\"white\",\"ticks\":\"\"},\"baxis\":{\"gridcolor\":\"white\",\"linecolor\":\"white\",\"ticks\":\"\"},\"caxis\":{\"gridcolor\":\"white\",\"linecolor\":\"white\",\"ticks\":\"\"}},\"coloraxis\":{\"colorbar\":{\"outlinewidth\":0,\"ticks\":\"\"}},\"colorscale\":{\"sequential\":[[0.0,\"#0d0887\"],[0.1111111111111111,\"#46039f\"],[0.2222222222222222,\"#7201a8\"],[0.3333333333333333,\"#9c179e\"],[0.4444444444444444,\"#bd3786\"],[0.5555555555555556,\"#d8576b\"],[0.6666666666666666,\"#ed7953\"],[0.7777777777777778,\"#fb9f3a\"],[0.8888888888888888,\"#fdca26\"],[1.0,\"#f0f921\"]],\"sequentialminus\":[[0.0,\"#0d0887\"],[0.1111111111111111,\"#46039f\"],[0.2222222222222222,\"#7201a8\"],[0.3333333333333333,\"#9c179e\"],[0.4444444444444444,\"#bd3786\"],[0.5555555555555556,\"#d8576b\"],[0.6666666666666666,\"#ed7953\"],[0.7777777777777778,\"#fb9f3a\"],[0.8888888888888888,\"#fdca26\"],[1.0,\"#f0f921\"]],\"diverging\":[[0,\"#8e0152\"],[0.1,\"#c51b7d\"],[0.2,\"#de77ae\"],[0.3,\"#f1b6da\"],[0.4,\"#fde0ef\"],[0.5,\"#f7f7f7\"],[0.6,\"#e6f5d0\"],[0.7,\"#b8e186\"],[0.8,\"#7fbc41\"],[0.9,\"#4d9221\"],[1,\"#276419\"]]},\"xaxis\":{\"gridcolor\":\"white\",\"linecolor\":\"white\",\"ticks\":\"\",\"title\":{\"standoff\":15},\"zerolinecolor\":\"white\",\"automargin\":true,\"zerolinewidth\":2},\"yaxis\":{\"gridcolor\":\"white\",\"linecolor\":\"white\",\"ticks\":\"\",\"title\":{\"standoff\":15},\"zerolinecolor\":\"white\",\"automargin\":true,\"zerolinewidth\":2},\"scene\":{\"xaxis\":{\"backgroundcolor\":\"#E5ECF6\",\"gridcolor\":\"white\",\"linecolor\":\"white\",\"showbackground\":true,\"ticks\":\"\",\"zerolinecolor\":\"white\",\"gridwidth\":2},\"yaxis\":{\"backgroundcolor\":\"#E5ECF6\",\"gridcolor\":\"white\",\"linecolor\":\"white\",\"showbackground\":true,\"ticks\":\"\",\"zerolinecolor\":\"white\",\"gridwidth\":2},\"zaxis\":{\"backgroundcolor\":\"#E5ECF6\",\"gridcolor\":\"white\",\"linecolor\":\"white\",\"showbackground\":true,\"ticks\":\"\",\"zerolinecolor\":\"white\",\"gridwidth\":2}},\"shapedefaults\":{\"line\":{\"color\":\"#2a3f5f\"}},\"annotationdefaults\":{\"arrowcolor\":\"#2a3f5f\",\"arrowhead\":0,\"arrowwidth\":1},\"geo\":{\"bgcolor\":\"white\",\"landcolor\":\"#E5ECF6\",\"subunitcolor\":\"white\",\"showland\":true,\"showlakes\":true,\"lakecolor\":\"white\"},\"title\":{\"x\":0.05},\"mapbox\":{\"style\":\"light\"}}},\"legend\":{\"tracegroupgap\":0},\"title\":{\"text\":\"Dominant Emotion Distribution\"}},                        {\"responsive\": true}                    ).then(function(){\n",
              "                            \n",
              "var gd = document.getElementById('6916454c-22fb-4d9f-81e8-c753bd44ad4a');\n",
              "var x = new MutationObserver(function (mutations, observer) {{\n",
              "        var display = window.getComputedStyle(gd).display;\n",
              "        if (!display || display === 'none') {{\n",
              "            console.log([gd, 'removed!']);\n",
              "            Plotly.purge(gd);\n",
              "            observer.disconnect();\n",
              "        }}\n",
              "}});\n",
              "\n",
              "// Listen for the removal of the full notebook cells\n",
              "var notebookContainer = gd.closest('#notebook-container');\n",
              "if (notebookContainer) {{\n",
              "    x.observe(notebookContainer, {childList: true});\n",
              "}}\n",
              "\n",
              "// Listen for the clearing of the current output cell\n",
              "var outputEl = gd.closest('.output');\n",
              "if (outputEl) {{\n",
              "    x.observe(outputEl, {childList: true});\n",
              "}}\n",
              "\n",
              "                        })                };                            </script>        </div>\n",
              "</body>\n",
              "</html>"
            ]
          },
          "metadata": {}
        }
      ]
    },
    {
      "cell_type": "markdown",
      "source": [
        "## Relationship Between Variables"
      ],
      "metadata": {
        "id": "slfeAgMcFBgo"
      }
    },
    {
      "cell_type": "markdown",
      "source": [
        "### Gender and Platform"
      ],
      "metadata": {
        "id": "Z7mHNQuOFBgo"
      }
    },
    {
      "cell_type": "code",
      "source": [
        "# Group the data by gender and platform\n",
        "grouped = train_df.groupby(['Gender', 'Platform'])\n",
        "\n",
        "# Count the number of rows in each group\n",
        "counts = grouped.size()\n",
        "\n",
        "# Print the counts\n",
        "print(counts)"
      ],
      "metadata": {
        "id": "cCqNdMR6FBgo",
        "outputId": "0d54f63a-2375-4215-f12a-7e06bf052466",
        "colab": {
          "base_uri": "https://localhost:8080/"
        }
      },
      "execution_count": null,
      "outputs": [
        {
          "output_type": "stream",
          "name": "stdout",
          "text": [
            "Gender      Platform \n",
            "Female      Facebook       10\n",
            "            Instagram     150\n",
            "            LinkedIn       40\n",
            "            Snapchat       28\n",
            "            Twitter        66\n",
            "            Whatsapp       50\n",
            "Male        Facebook       38\n",
            "            Instagram      76\n",
            "            LinkedIn       48\n",
            "            Telegram       50\n",
            "            Twitter       102\n",
            "            Whatsapp       18\n",
            "Non-binary  Facebook      130\n",
            "            Instagram      10\n",
            "            LinkedIn       30\n",
            "            Snapchat       40\n",
            "            Telegram       18\n",
            "            Twitter        20\n",
            "Unknown     Facebook       12\n",
            "            Instagram    1018\n",
            "            LinkedIn        2\n",
            "            Snapchat       12\n",
            "            Telegram       12\n",
            "            Twitter        12\n",
            "            Whatsapp       12\n",
            "dtype: int64\n"
          ]
        }
      ]
    },
    {
      "cell_type": "code",
      "source": [
        "plt = px.histogram(train_df, x='Gender', color='Platform', title='Platform by Gender Usage')\n",
        "plt.show()"
      ],
      "metadata": {
        "id": "sjspAAssFBgp",
        "outputId": "476f328d-a3c5-4f04-f894-320298cbdf96",
        "colab": {
          "base_uri": "https://localhost:8080/",
          "height": 542
        }
      },
      "execution_count": null,
      "outputs": [
        {
          "output_type": "display_data",
          "data": {
            "text/html": [
              "<html>\n",
              "<head><meta charset=\"utf-8\" /></head>\n",
              "<body>\n",
              "    <div>            <script src=\"https://cdnjs.cloudflare.com/ajax/libs/mathjax/2.7.5/MathJax.js?config=TeX-AMS-MML_SVG\"></script><script type=\"text/javascript\">if (window.MathJax && window.MathJax.Hub && window.MathJax.Hub.Config) {window.MathJax.Hub.Config({SVG: {font: \"STIX-Web\"}});}</script>                <script type=\"text/javascript\">window.PlotlyConfig = {MathJaxConfig: 'local'};</script>\n",
              "        <script charset=\"utf-8\" src=\"https://cdn.plot.ly/plotly-2.35.2.min.js\"></script>                <div id=\"bfb2a5c4-1a00-4f85-bb9c-52745b9abd8a\" class=\"plotly-graph-div\" style=\"height:525px; width:100%;\"></div>            <script type=\"text/javascript\">                                    window.PLOTLYENV=window.PLOTLYENV || {};                                    if (document.getElementById(\"bfb2a5c4-1a00-4f85-bb9c-52745b9abd8a\")) {                    Plotly.newPlot(                        \"bfb2a5c4-1a00-4f85-bb9c-52745b9abd8a\",                        [{\"alignmentgroup\":\"True\",\"bingroup\":\"x\",\"hovertemplate\":\"Platform=Instagram\\u003cbr\\u003eGender=%{x}\\u003cbr\\u003ecount=%{y}\\u003cextra\\u003e\\u003c\\u002fextra\\u003e\",\"legendgroup\":\"Instagram\",\"marker\":{\"color\":\"#636efa\",\"pattern\":{\"shape\":\"\"}},\"name\":\"Instagram\",\"offsetgroup\":\"Instagram\",\"orientation\":\"v\",\"showlegend\":true,\"x\":[\"Unknown\",\"Female\",\"Unknown\",\"Unknown\",\"Unknown\",\"Female\",\"Unknown\",\"Unknown\",\"Male\",\"Unknown\",\"Unknown\",\"Unknown\",\"Unknown\",\"Male\",\"Unknown\",\"Unknown\",\"Unknown\",\"Unknown\",\"Female\",\"Unknown\",\"Unknown\",\"Unknown\",\"Female\",\"Unknown\",\"Unknown\",\"Unknown\",\"Female\",\"Unknown\",\"Unknown\",\"Unknown\",\"Unknown\",\"Non-binary\",\"Unknown\",\"Unknown\",\"Unknown\",\"Unknown\",\"Female\",\"Unknown\",\"Unknown\",\"Unknown\",\"Unknown\",\"Male\",\"Unknown\",\"Unknown\",\"Female\",\"Unknown\",\"Unknown\",\"Unknown\",\"Female\",\"Unknown\",\"Unknown\",\"Female\",\"Unknown\",\"Unknown\",\"Unknown\",\"Female\",\"Unknown\",\"Unknown\",\"Unknown\",\"Unknown\",\"Male\",\"Unknown\",\"Unknown\",\"Unknown\",\"Male\",\"Unknown\",\"Unknown\",\"Male\",\"Unknown\",\"Unknown\",\"Unknown\",\"Female\",\"Unknown\",\"Unknown\",\"Unknown\",\"Unknown\",\"Unknown\",\"Unknown\",\"Unknown\",\"Female\",\"Unknown\",\"Unknown\",\"Unknown\",\"Unknown\",\"Unknown\",\"Unknown\",\"Male\",\"Unknown\",\"Unknown\",\"Unknown\",\"Unknown\",\"Female\",\"Unknown\",\"Unknown\",\"Unknown\",\"Unknown\",\"Unknown\",\"Unknown\",\"Female\",\"Unknown\",\"Unknown\",\"Unknown\",\"Unknown\",\"Unknown\",\"Unknown\",\"Female\",\"Unknown\",\"Unknown\",\"Unknown\",\"Unknown\",\"Unknown\",\"Unknown\",\"Female\",\"Unknown\",\"Unknown\",\"Unknown\",\"Unknown\",\"Unknown\",\"Unknown\",\"Male\",\"Unknown\",\"Unknown\",\"Unknown\",\"Unknown\",\"Unknown\",\"Unknown\",\"Female\",\"Unknown\",\"Unknown\",\"Unknown\",\"Female\",\"Unknown\",\"Unknown\",\"Male\",\"Unknown\",\"Unknown\",\"Unknown\",\"Unknown\",\"Male\",\"Unknown\",\"Unknown\",\"Unknown\",\"Unknown\",\"Female\",\"Unknown\",\"Unknown\",\"Unknown\",\"Female\",\"Unknown\",\"Unknown\",\"Unknown\",\"Female\",\"Unknown\",\"Unknown\",\"Unknown\",\"Unknown\",\"Non-binary\",\"Unknown\",\"Unknown\",\"Unknown\",\"Unknown\",\"Female\",\"Unknown\",\"Unknown\",\"Unknown\",\"Unknown\",\"Male\",\"Unknown\",\"Unknown\",\"Female\",\"Unknown\",\"Unknown\",\"Unknown\",\"Female\",\"Unknown\",\"Unknown\",\"Female\",\"Unknown\",\"Unknown\",\"Unknown\",\"Female\",\"Unknown\",\"Unknown\",\"Unknown\",\"Unknown\",\"Male\",\"Unknown\",\"Unknown\",\"Unknown\",\"Male\",\"Unknown\",\"Unknown\",\"Male\",\"Unknown\",\"Unknown\",\"Unknown\",\"Female\",\"Unknown\",\"Unknown\",\"Unknown\",\"Unknown\",\"Unknown\",\"Unknown\",\"Unknown\",\"Female\",\"Unknown\",\"Unknown\",\"Unknown\",\"Unknown\",\"Unknown\",\"Unknown\",\"Male\",\"Unknown\",\"Unknown\",\"Unknown\",\"Unknown\",\"Female\",\"Unknown\",\"Unknown\",\"Unknown\",\"Unknown\",\"Unknown\",\"Unknown\",\"Female\",\"Unknown\",\"Unknown\",\"Unknown\",\"Unknown\",\"Unknown\",\"Unknown\",\"Female\",\"Unknown\",\"Unknown\",\"Unknown\",\"Unknown\",\"Unknown\",\"Unknown\",\"Female\",\"Unknown\",\"Unknown\",\"Unknown\",\"Unknown\",\"Unknown\",\"Unknown\",\"Male\",\"Unknown\",\"Unknown\",\"Unknown\",\"Unknown\",\"Unknown\",\"Unknown\",\"Female\",\"Unknown\",\"Unknown\",\"Unknown\",\"Female\",\"Unknown\",\"Unknown\",\"Male\",\"Unknown\",\"Unknown\",\"Unknown\",\"Unknown\",\"Male\",\"Unknown\",\"Unknown\",\"Unknown\",\"Unknown\",\"Female\",\"Unknown\",\"Unknown\",\"Unknown\",\"Female\",\"Unknown\",\"Unknown\",\"Unknown\",\"Female\",\"Unknown\",\"Unknown\",\"Unknown\",\"Unknown\",\"Non-binary\",\"Unknown\",\"Unknown\",\"Unknown\",\"Unknown\",\"Female\",\"Unknown\",\"Unknown\",\"Unknown\",\"Unknown\",\"Male\",\"Unknown\",\"Unknown\",\"Female\",\"Unknown\",\"Unknown\",\"Unknown\",\"Female\",\"Unknown\",\"Unknown\",\"Female\",\"Unknown\",\"Unknown\",\"Unknown\",\"Female\",\"Unknown\",\"Unknown\",\"Unknown\",\"Unknown\",\"Male\",\"Unknown\",\"Unknown\",\"Unknown\",\"Male\",\"Unknown\",\"Unknown\",\"Unknown\",\"Unknown\",\"Unknown\",\"Unknown\",\"Unknown\",\"Unknown\",\"Unknown\",\"Unknown\",\"Unknown\",\"Unknown\",\"Unknown\",\"Unknown\",\"Unknown\",\"Unknown\",\"Unknown\",\"Unknown\",\"Unknown\",\"Unknown\",\"Unknown\",\"Unknown\",\"Unknown\",\"Unknown\",\"Unknown\",\"Unknown\",\"Unknown\",\"Unknown\",\"Unknown\",\"Unknown\",\"Unknown\",\"Unknown\",\"Unknown\",\"Unknown\",\"Unknown\",\"Unknown\",\"Unknown\",\"Unknown\",\"Unknown\",\"Unknown\",\"Unknown\",\"Unknown\",\"Unknown\",\"Unknown\",\"Unknown\",\"Unknown\",\"Unknown\",\"Female\",\"Unknown\",\"Unknown\",\"Unknown\",\"Unknown\",\"Unknown\",\"Unknown\",\"Male\",\"Unknown\",\"Unknown\",\"Unknown\",\"Unknown\",\"Unknown\",\"Unknown\",\"Female\",\"Unknown\",\"Unknown\",\"Unknown\",\"Female\",\"Unknown\",\"Unknown\",\"Male\",\"Unknown\",\"Unknown\",\"Unknown\",\"Unknown\",\"Male\",\"Unknown\",\"Unknown\",\"Unknown\",\"Unknown\",\"Female\",\"Unknown\",\"Unknown\",\"Unknown\",\"Female\",\"Unknown\",\"Unknown\",\"Unknown\",\"Female\",\"Unknown\",\"Unknown\",\"Unknown\",\"Unknown\",\"Non-binary\",\"Unknown\",\"Unknown\",\"Unknown\",\"Unknown\",\"Female\",\"Unknown\",\"Unknown\",\"Unknown\",\"Unknown\",\"Male\",\"Unknown\",\"Unknown\",\"Female\",\"Unknown\",\"Unknown\",\"Unknown\",\"Female\",\"Unknown\",\"Unknown\",\"Female\",\"Unknown\",\"Unknown\",\"Unknown\",\"Female\",\"Unknown\",\"Unknown\",\"Unknown\",\"Unknown\",\"Male\",\"Unknown\",\"Unknown\",\"Unknown\",\"Male\",\"Unknown\",\"Unknown\",\"Male\",\"Unknown\",\"Unknown\",\"Unknown\",\"Female\",\"Unknown\",\"Unknown\",\"Unknown\",\"Unknown\",\"Unknown\",\"Unknown\",\"Unknown\",\"Female\",\"Unknown\",\"Unknown\",\"Unknown\",\"Unknown\",\"Unknown\",\"Unknown\",\"Male\",\"Unknown\",\"Unknown\",\"Unknown\",\"Unknown\",\"Female\",\"Unknown\",\"Unknown\",\"Unknown\",\"Unknown\",\"Unknown\",\"Unknown\",\"Female\",\"Unknown\",\"Unknown\",\"Unknown\",\"Unknown\",\"Unknown\",\"Unknown\",\"Female\",\"Unknown\",\"Unknown\",\"Unknown\",\"Unknown\",\"Unknown\",\"Unknown\",\"Female\",\"Unknown\",\"Unknown\",\"Unknown\",\"Unknown\",\"Unknown\",\"Unknown\",\"Male\",\"Unknown\",\"Unknown\",\"Unknown\",\"Unknown\",\"Unknown\",\"Unknown\",\"Female\",\"Unknown\",\"Unknown\",\"Unknown\",\"Female\",\"Unknown\",\"Unknown\",\"Male\",\"Unknown\",\"Unknown\",\"Unknown\",\"Unknown\",\"Male\",\"Unknown\",\"Unknown\",\"Unknown\",\"Unknown\",\"Female\",\"Unknown\",\"Unknown\",\"Unknown\",\"Female\",\"Unknown\",\"Unknown\",\"Unknown\",\"Female\",\"Unknown\",\"Unknown\",\"Unknown\",\"Unknown\",\"Non-binary\",\"Unknown\",\"Unknown\",\"Unknown\",\"Unknown\",\"Female\",\"Unknown\",\"Unknown\",\"Unknown\",\"Unknown\",\"Male\",\"Unknown\",\"Unknown\",\"Female\",\"Unknown\",\"Unknown\",\"Unknown\",\"Female\",\"Unknown\",\"Unknown\",\"Female\",\"Unknown\",\"Unknown\",\"Unknown\",\"Female\",\"Unknown\",\"Unknown\",\"Unknown\",\"Unknown\",\"Male\",\"Unknown\",\"Unknown\",\"Unknown\",\"Male\",\"Unknown\",\"Unknown\",\"Male\",\"Unknown\",\"Unknown\",\"Unknown\",\"Female\",\"Unknown\",\"Unknown\",\"Unknown\",\"Unknown\",\"Unknown\",\"Unknown\",\"Unknown\",\"Female\",\"Unknown\",\"Unknown\",\"Unknown\",\"Unknown\",\"Unknown\",\"Unknown\",\"Male\",\"Unknown\",\"Unknown\",\"Unknown\",\"Unknown\",\"Female\",\"Unknown\",\"Unknown\",\"Unknown\",\"Unknown\",\"Unknown\",\"Unknown\",\"Female\",\"Unknown\",\"Unknown\",\"Unknown\",\"Unknown\",\"Unknown\",\"Unknown\",\"Female\",\"Unknown\",\"Unknown\",\"Unknown\",\"Unknown\",\"Unknown\",\"Unknown\",\"Female\",\"Unknown\",\"Unknown\",\"Unknown\",\"Unknown\",\"Unknown\",\"Unknown\",\"Male\",\"Unknown\",\"Unknown\",\"Unknown\",\"Unknown\",\"Unknown\",\"Unknown\",\"Female\",\"Unknown\",\"Unknown\",\"Unknown\",\"Female\",\"Unknown\",\"Unknown\",\"Male\",\"Unknown\",\"Unknown\",\"Unknown\",\"Unknown\",\"Male\",\"Unknown\",\"Unknown\",\"Unknown\",\"Unknown\",\"Female\",\"Unknown\",\"Unknown\",\"Unknown\",\"Female\",\"Unknown\",\"Unknown\",\"Unknown\",\"Female\",\"Unknown\",\"Unknown\",\"Unknown\",\"Unknown\",\"Non-binary\",\"Unknown\",\"Unknown\",\"Unknown\",\"Unknown\",\"Female\",\"Unknown\",\"Unknown\",\"Unknown\",\"Unknown\",\"Male\",\"Unknown\",\"Unknown\",\"Female\",\"Unknown\",\"Unknown\",\"Unknown\",\"Female\",\"Unknown\",\"Unknown\",\"Female\",\"Unknown\",\"Unknown\",\"Unknown\",\"Female\",\"Unknown\",\"Unknown\",\"Unknown\",\"Unknown\",\"Male\",\"Unknown\",\"Unknown\",\"Unknown\",\"Male\",\"Unknown\",\"Unknown\",\"Male\",\"Unknown\",\"Unknown\",\"Unknown\",\"Female\",\"Unknown\",\"Unknown\",\"Unknown\",\"Unknown\",\"Unknown\",\"Unknown\",\"Unknown\",\"Female\",\"Unknown\",\"Unknown\",\"Unknown\",\"Unknown\",\"Unknown\",\"Unknown\",\"Male\",\"Unknown\",\"Unknown\",\"Unknown\",\"Unknown\",\"Female\",\"Unknown\",\"Unknown\",\"Unknown\",\"Unknown\",\"Unknown\",\"Unknown\",\"Female\",\"Unknown\",\"Unknown\",\"Unknown\",\"Unknown\",\"Unknown\",\"Unknown\",\"Female\",\"Unknown\",\"Unknown\",\"Unknown\",\"Unknown\",\"Unknown\",\"Unknown\",\"Female\",\"Unknown\",\"Unknown\",\"Unknown\",\"Unknown\",\"Unknown\",\"Unknown\",\"Male\",\"Unknown\",\"Unknown\",\"Unknown\",\"Unknown\",\"Unknown\",\"Unknown\",\"Female\",\"Unknown\",\"Unknown\",\"Unknown\",\"Female\",\"Unknown\",\"Unknown\",\"Male\",\"Unknown\",\"Unknown\",\"Unknown\",\"Unknown\",\"Male\",\"Unknown\",\"Unknown\",\"Unknown\",\"Unknown\",\"Female\",\"Unknown\",\"Unknown\",\"Unknown\",\"Female\",\"Unknown\",\"Unknown\",\"Unknown\",\"Female\",\"Unknown\",\"Unknown\",\"Unknown\",\"Unknown\",\"Non-binary\",\"Unknown\",\"Unknown\",\"Unknown\",\"Unknown\",\"Female\",\"Unknown\",\"Unknown\",\"Unknown\",\"Unknown\",\"Male\",\"Unknown\",\"Unknown\",\"Female\",\"Unknown\",\"Unknown\",\"Unknown\",\"Female\",\"Unknown\",\"Unknown\",\"Female\",\"Unknown\",\"Unknown\",\"Unknown\",\"Unknown\",\"Unknown\",\"Unknown\",\"Unknown\",\"Female\",\"Unknown\",\"Unknown\",\"Unknown\",\"Unknown\",\"Male\",\"Unknown\",\"Unknown\",\"Unknown\",\"Male\",\"Unknown\",\"Unknown\",\"Male\",\"Unknown\",\"Unknown\",\"Unknown\",\"Female\",\"Unknown\",\"Unknown\",\"Unknown\",\"Unknown\",\"Unknown\",\"Unknown\",\"Unknown\",\"Female\",\"Unknown\",\"Unknown\",\"Unknown\",\"Unknown\",\"Unknown\",\"Unknown\",\"Male\",\"Unknown\",\"Unknown\",\"Unknown\",\"Unknown\",\"Female\",\"Unknown\",\"Unknown\",\"Unknown\",\"Unknown\",\"Unknown\",\"Unknown\",\"Female\",\"Unknown\",\"Unknown\",\"Unknown\",\"Unknown\",\"Unknown\",\"Unknown\",\"Female\",\"Unknown\",\"Unknown\",\"Unknown\",\"Unknown\",\"Unknown\",\"Unknown\",\"Female\",\"Unknown\",\"Unknown\",\"Unknown\",\"Unknown\",\"Unknown\",\"Unknown\",\"Male\",\"Unknown\",\"Unknown\",\"Unknown\",\"Unknown\",\"Unknown\",\"Unknown\",\"Female\",\"Unknown\",\"Unknown\",\"Unknown\",\"Female\",\"Unknown\",\"Unknown\",\"Male\",\"Unknown\",\"Unknown\",\"Unknown\",\"Unknown\",\"Male\",\"Unknown\",\"Unknown\",\"Unknown\",\"Unknown\",\"Female\",\"Unknown\",\"Unknown\",\"Unknown\",\"Female\",\"Unknown\",\"Unknown\",\"Unknown\",\"Female\",\"Unknown\",\"Unknown\",\"Unknown\",\"Unknown\",\"Non-binary\",\"Unknown\",\"Unknown\",\"Unknown\",\"Unknown\",\"Female\",\"Unknown\",\"Unknown\",\"Unknown\",\"Unknown\",\"Male\",\"Unknown\",\"Unknown\",\"Female\",\"Unknown\",\"Unknown\",\"Unknown\",\"Female\",\"Unknown\",\"Unknown\",\"Female\",\"Unknown\",\"Unknown\",\"Unknown\",\"Female\",\"Unknown\",\"Unknown\",\"Unknown\",\"Unknown\",\"Male\",\"Unknown\",\"Unknown\",\"Unknown\",\"Male\",\"Unknown\",\"Unknown\",\"Unknown\",\"Unknown\",\"Unknown\",\"Unknown\",\"Unknown\",\"Unknown\",\"Unknown\",\"Unknown\",\"Unknown\",\"Unknown\",\"Unknown\",\"Unknown\",\"Unknown\",\"Unknown\",\"Unknown\",\"Unknown\",\"Unknown\",\"Unknown\",\"Unknown\",\"Unknown\",\"Unknown\",\"Unknown\",\"Unknown\",\"Unknown\",\"Unknown\",\"Unknown\",\"Unknown\",\"Unknown\",\"Unknown\",\"Unknown\",\"Unknown\",\"Unknown\",\"Unknown\",\"Unknown\",\"Unknown\",\"Unknown\",\"Unknown\",\"Unknown\",\"Unknown\",\"Unknown\",\"Unknown\",\"Unknown\",\"Unknown\",\"Unknown\",\"Unknown\",\"Female\",\"Unknown\",\"Unknown\",\"Unknown\",\"Unknown\",\"Unknown\",\"Unknown\",\"Male\",\"Unknown\",\"Unknown\",\"Unknown\",\"Unknown\",\"Unknown\",\"Unknown\",\"Female\",\"Unknown\",\"Unknown\",\"Unknown\",\"Female\",\"Unknown\",\"Unknown\",\"Male\",\"Unknown\",\"Unknown\",\"Unknown\",\"Unknown\",\"Male\",\"Unknown\",\"Unknown\",\"Unknown\",\"Unknown\",\"Female\",\"Unknown\",\"Unknown\",\"Unknown\",\"Female\",\"Unknown\",\"Unknown\",\"Unknown\",\"Female\",\"Unknown\",\"Unknown\",\"Unknown\",\"Unknown\",\"Non-binary\",\"Unknown\",\"Unknown\",\"Unknown\",\"Unknown\",\"Female\",\"Unknown\",\"Unknown\",\"Unknown\",\"Unknown\",\"Male\",\"Unknown\",\"Unknown\",\"Female\",\"Unknown\",\"Unknown\",\"Unknown\",\"Female\",\"Unknown\",\"Unknown\",\"Female\",\"Unknown\",\"Unknown\",\"Unknown\",\"Female\",\"Unknown\",\"Unknown\",\"Unknown\",\"Unknown\",\"Male\",\"Unknown\",\"Unknown\",\"Unknown\",\"Male\",\"Unknown\",\"Unknown\",\"Male\",\"Unknown\",\"Unknown\",\"Unknown\",\"Female\",\"Unknown\",\"Unknown\",\"Unknown\",\"Unknown\",\"Unknown\",\"Unknown\",\"Unknown\",\"Female\",\"Unknown\",\"Unknown\",\"Unknown\",\"Unknown\",\"Unknown\",\"Unknown\",\"Male\",\"Unknown\",\"Unknown\",\"Unknown\",\"Unknown\",\"Female\",\"Unknown\",\"Unknown\",\"Unknown\",\"Unknown\",\"Unknown\",\"Unknown\",\"Female\",\"Unknown\",\"Unknown\",\"Unknown\",\"Unknown\",\"Unknown\",\"Unknown\",\"Female\",\"Unknown\",\"Unknown\",\"Unknown\",\"Unknown\",\"Unknown\",\"Unknown\",\"Female\",\"Unknown\",\"Unknown\",\"Unknown\",\"Unknown\",\"Unknown\",\"Unknown\",\"Male\",\"Unknown\",\"Unknown\",\"Unknown\",\"Unknown\",\"Unknown\",\"Unknown\",\"Female\",\"Unknown\",\"Unknown\",\"Unknown\",\"Female\",\"Unknown\",\"Unknown\",\"Male\",\"Unknown\",\"Unknown\",\"Unknown\",\"Unknown\",\"Male\",\"Unknown\",\"Unknown\",\"Unknown\",\"Unknown\",\"Female\",\"Unknown\",\"Unknown\",\"Unknown\",\"Female\",\"Unknown\",\"Unknown\",\"Unknown\",\"Female\",\"Unknown\",\"Unknown\",\"Unknown\",\"Unknown\",\"Non-binary\",\"Unknown\",\"Unknown\",\"Unknown\",\"Unknown\",\"Female\",\"Unknown\",\"Unknown\",\"Unknown\",\"Unknown\",\"Male\",\"Unknown\",\"Unknown\",\"Female\",\"Unknown\",\"Unknown\",\"Unknown\",\"Female\",\"Unknown\",\"Unknown\",\"Female\",\"Unknown\",\"Unknown\",\"Unknown\",\"Female\",\"Unknown\",\"Unknown\",\"Unknown\",\"Unknown\",\"Male\",\"Unknown\",\"Unknown\",\"Unknown\",\"Male\",\"Unknown\",\"Unknown\",\"Male\",\"Unknown\",\"Unknown\",\"Unknown\",\"Female\",\"Unknown\",\"Unknown\",\"Unknown\",\"Unknown\",\"Unknown\",\"Unknown\",\"Unknown\",\"Female\",\"Unknown\",\"Unknown\",\"Unknown\",\"Unknown\",\"Unknown\",\"Unknown\",\"Male\",\"Unknown\",\"Unknown\",\"Unknown\",\"Unknown\",\"Female\",\"Unknown\",\"Unknown\",\"Unknown\",\"Unknown\",\"Unknown\",\"Unknown\",\"Female\",\"Unknown\",\"Unknown\",\"Unknown\",\"Unknown\",\"Unknown\",\"Unknown\",\"Female\",\"Unknown\",\"Unknown\",\"Unknown\",\"Unknown\",\"Unknown\",\"Unknown\",\"Female\",\"Unknown\",\"Unknown\",\"Unknown\",\"Unknown\",\"Unknown\",\"Unknown\",\"Male\",\"Unknown\",\"Unknown\",\"Unknown\",\"Unknown\",\"Unknown\"],\"xaxis\":\"x\",\"yaxis\":\"y\",\"type\":\"histogram\"},{\"alignmentgroup\":\"True\",\"bingroup\":\"x\",\"hovertemplate\":\"Platform=Twitter\\u003cbr\\u003eGender=%{x}\\u003cbr\\u003ecount=%{y}\\u003cextra\\u003e\\u003c\\u002fextra\\u003e\",\"legendgroup\":\"Twitter\",\"marker\":{\"color\":\"#EF553B\",\"pattern\":{\"shape\":\"\"}},\"name\":\"Twitter\",\"offsetgroup\":\"Twitter\",\"orientation\":\"v\",\"showlegend\":true,\"x\":[\"Male\",\"Female\",\"Female\",\"Male\",\"Male\",\"Female\",\"Female\",\"Male\",\"Non-binary\",\"Male\",\"Male\",\"Female\",\"Female\",\"Female\",\"Male\",\"Male\",\"Male\",\"Male\",\"Male\",\"Non-binary\",\"Male\",\"Female\",\"Female\",\"Male\",\"Male\",\"Female\",\"Female\",\"Male\",\"Non-binary\",\"Male\",\"Male\",\"Female\",\"Female\",\"Female\",\"Male\",\"Male\",\"Male\",\"Male\",\"Male\",\"Non-binary\",\"Male\",\"Female\",\"Female\",\"Male\",\"Male\",\"Female\",\"Female\",\"Male\",\"Non-binary\",\"Male\",\"Male\",\"Female\",\"Unknown\",\"Unknown\",\"Unknown\",\"Unknown\",\"Unknown\",\"Unknown\",\"Male\",\"Non-binary\",\"Male\",\"Female\",\"Female\",\"Male\",\"Male\",\"Female\",\"Female\",\"Male\",\"Non-binary\",\"Male\",\"Male\",\"Female\",\"Female\",\"Female\",\"Male\",\"Male\",\"Male\",\"Male\",\"Male\",\"Non-binary\",\"Male\",\"Female\",\"Female\",\"Male\",\"Male\",\"Female\",\"Female\",\"Male\",\"Non-binary\",\"Male\",\"Male\",\"Female\",\"Female\",\"Female\",\"Male\",\"Male\",\"Male\",\"Male\",\"Male\",\"Non-binary\",\"Male\",\"Female\",\"Female\",\"Male\",\"Male\",\"Female\",\"Female\",\"Male\",\"Non-binary\",\"Male\",\"Male\",\"Female\",\"Female\",\"Female\",\"Male\",\"Male\",\"Male\",\"Male\",\"Male\",\"Non-binary\",\"Male\",\"Female\",\"Female\",\"Male\",\"Male\",\"Female\",\"Female\",\"Male\",\"Non-binary\",\"Male\",\"Male\",\"Female\",\"Female\",\"Female\",\"Male\",\"Male\",\"Male\",\"Male\",\"Male\",\"Non-binary\",\"Male\",\"Female\",\"Female\",\"Male\",\"Male\",\"Female\",\"Female\",\"Male\",\"Non-binary\",\"Male\",\"Male\",\"Female\",\"Unknown\",\"Unknown\",\"Unknown\",\"Unknown\",\"Unknown\",\"Unknown\",\"Male\",\"Non-binary\",\"Male\",\"Female\",\"Female\",\"Male\",\"Male\",\"Female\",\"Female\",\"Male\",\"Non-binary\",\"Male\",\"Male\",\"Female\",\"Female\",\"Female\",\"Male\",\"Male\",\"Male\",\"Male\",\"Male\",\"Non-binary\",\"Male\",\"Female\",\"Female\",\"Male\",\"Male\",\"Female\",\"Female\",\"Male\",\"Non-binary\",\"Male\",\"Male\",\"Female\",\"Female\",\"Female\",\"Male\",\"Male\",\"Male\",\"Male\",\"Male\",\"Non-binary\"],\"xaxis\":\"x\",\"yaxis\":\"y\",\"type\":\"histogram\"},{\"alignmentgroup\":\"True\",\"bingroup\":\"x\",\"hovertemplate\":\"Platform=Facebook\\u003cbr\\u003eGender=%{x}\\u003cbr\\u003ecount=%{y}\\u003cextra\\u003e\\u003c\\u002fextra\\u003e\",\"legendgroup\":\"Facebook\",\"marker\":{\"color\":\"#00cc96\",\"pattern\":{\"shape\":\"\"}},\"name\":\"Facebook\",\"offsetgroup\":\"Facebook\",\"orientation\":\"v\",\"showlegend\":true,\"x\":[\"Non-binary\",\"Non-binary\",\"Non-binary\",\"Non-binary\",\"Male\",\"Male\",\"Non-binary\",\"Male\",\"Non-binary\",\"Non-binary\",\"Non-binary\",\"Non-binary\",\"Male\",\"Non-binary\",\"Non-binary\",\"Non-binary\",\"Non-binary\",\"Non-binary\",\"Female\",\"Non-binary\",\"Non-binary\",\"Non-binary\",\"Non-binary\",\"Male\",\"Male\",\"Non-binary\",\"Male\",\"Non-binary\",\"Non-binary\",\"Non-binary\",\"Non-binary\",\"Male\",\"Non-binary\",\"Non-binary\",\"Non-binary\",\"Non-binary\",\"Non-binary\",\"Female\",\"Non-binary\",\"Non-binary\",\"Non-binary\",\"Non-binary\",\"Male\",\"Male\",\"Non-binary\",\"Male\",\"Non-binary\",\"Non-binary\",\"Non-binary\",\"Unknown\",\"Unknown\",\"Unknown\",\"Unknown\",\"Unknown\",\"Unknown\",\"Non-binary\",\"Female\",\"Non-binary\",\"Non-binary\",\"Non-binary\",\"Non-binary\",\"Male\",\"Male\",\"Non-binary\",\"Male\",\"Non-binary\",\"Non-binary\",\"Non-binary\",\"Non-binary\",\"Male\",\"Non-binary\",\"Non-binary\",\"Non-binary\",\"Non-binary\",\"Non-binary\",\"Female\",\"Non-binary\",\"Non-binary\",\"Non-binary\",\"Non-binary\",\"Male\",\"Male\",\"Non-binary\",\"Male\",\"Non-binary\",\"Non-binary\",\"Non-binary\",\"Non-binary\",\"Male\",\"Non-binary\",\"Non-binary\",\"Non-binary\",\"Non-binary\",\"Non-binary\",\"Female\",\"Non-binary\",\"Non-binary\",\"Non-binary\",\"Non-binary\",\"Male\",\"Male\",\"Non-binary\",\"Male\",\"Non-binary\",\"Non-binary\",\"Non-binary\",\"Non-binary\",\"Male\",\"Non-binary\",\"Non-binary\",\"Non-binary\",\"Non-binary\",\"Non-binary\",\"Female\",\"Non-binary\",\"Non-binary\",\"Non-binary\",\"Non-binary\",\"Male\",\"Male\",\"Non-binary\",\"Male\",\"Non-binary\",\"Non-binary\",\"Non-binary\",\"Non-binary\",\"Male\",\"Non-binary\",\"Non-binary\",\"Non-binary\",\"Non-binary\",\"Non-binary\",\"Female\",\"Non-binary\",\"Non-binary\",\"Non-binary\",\"Non-binary\",\"Male\",\"Male\",\"Non-binary\",\"Male\",\"Non-binary\",\"Non-binary\",\"Non-binary\",\"Unknown\",\"Unknown\",\"Unknown\",\"Unknown\",\"Unknown\",\"Unknown\",\"Non-binary\",\"Female\",\"Non-binary\",\"Non-binary\",\"Non-binary\",\"Non-binary\",\"Male\",\"Male\",\"Non-binary\",\"Male\",\"Non-binary\",\"Non-binary\",\"Non-binary\",\"Non-binary\",\"Male\",\"Non-binary\",\"Non-binary\",\"Non-binary\",\"Non-binary\",\"Non-binary\",\"Female\",\"Non-binary\",\"Non-binary\",\"Non-binary\",\"Non-binary\",\"Male\",\"Male\",\"Non-binary\",\"Male\",\"Non-binary\",\"Non-binary\",\"Non-binary\",\"Non-binary\",\"Male\",\"Non-binary\",\"Non-binary\",\"Non-binary\",\"Non-binary\",\"Non-binary\",\"Female\"],\"xaxis\":\"x\",\"yaxis\":\"y\",\"type\":\"histogram\"},{\"alignmentgroup\":\"True\",\"bingroup\":\"x\",\"hovertemplate\":\"Platform=LinkedIn\\u003cbr\\u003eGender=%{x}\\u003cbr\\u003ecount=%{y}\\u003cextra\\u003e\\u003c\\u002fextra\\u003e\",\"legendgroup\":\"LinkedIn\",\"marker\":{\"color\":\"#ab63fa\",\"pattern\":{\"shape\":\"\"}},\"name\":\"LinkedIn\",\"offsetgroup\":\"LinkedIn\",\"orientation\":\"v\",\"showlegend\":true,\"x\":[\"Male\",\"Female\",\"Male\",\"Non-binary\",\"Male\",\"Non-binary\",\"Female\",\"Non-binary\",\"Male\",\"Female\",\"Female\",\"Male\",\"Male\",\"Female\",\"Male\",\"Non-binary\",\"Male\",\"Non-binary\",\"Female\",\"Non-binary\",\"Male\",\"Female\",\"Female\",\"Male\",\"Male\",\"Female\",\"Male\",\"Non-binary\",\"Male\",\"Non-binary\",\"Female\",\"Non-binary\",\"Male\",\"Female\",\"Female\",\"Unknown\",\"Male\",\"Female\",\"Male\",\"Non-binary\",\"Male\",\"Non-binary\",\"Female\",\"Non-binary\",\"Male\",\"Female\",\"Female\",\"Male\",\"Male\",\"Female\",\"Male\",\"Non-binary\",\"Male\",\"Non-binary\",\"Female\",\"Non-binary\",\"Male\",\"Female\",\"Female\",\"Male\",\"Male\",\"Female\",\"Male\",\"Non-binary\",\"Male\",\"Non-binary\",\"Female\",\"Non-binary\",\"Male\",\"Female\",\"Female\",\"Male\",\"Male\",\"Female\",\"Male\",\"Non-binary\",\"Male\",\"Non-binary\",\"Female\",\"Non-binary\",\"Male\",\"Female\",\"Female\",\"Male\",\"Male\",\"Female\",\"Male\",\"Non-binary\",\"Male\",\"Non-binary\",\"Female\",\"Non-binary\",\"Male\",\"Female\",\"Female\",\"Unknown\",\"Male\",\"Female\",\"Male\",\"Non-binary\",\"Male\",\"Non-binary\",\"Female\",\"Non-binary\",\"Male\",\"Female\",\"Female\",\"Male\",\"Male\",\"Female\",\"Male\",\"Non-binary\",\"Male\",\"Non-binary\",\"Female\",\"Non-binary\",\"Male\",\"Female\",\"Female\",\"Male\"],\"xaxis\":\"x\",\"yaxis\":\"y\",\"type\":\"histogram\"},{\"alignmentgroup\":\"True\",\"bingroup\":\"x\",\"hovertemplate\":\"Platform=Whatsapp\\u003cbr\\u003eGender=%{x}\\u003cbr\\u003ecount=%{y}\\u003cextra\\u003e\\u003c\\u002fextra\\u003e\",\"legendgroup\":\"Whatsapp\",\"marker\":{\"color\":\"#FFA15A\",\"pattern\":{\"shape\":\"\"}},\"name\":\"Whatsapp\",\"offsetgroup\":\"Whatsapp\",\"orientation\":\"v\",\"showlegend\":true,\"x\":[\"Female\",\"Male\",\"Female\",\"Female\",\"Female\",\"Female\",\"Female\",\"Male\",\"Female\",\"Male\",\"Female\",\"Female\",\"Female\",\"Female\",\"Female\",\"Male\",\"Unknown\",\"Unknown\",\"Unknown\",\"Unknown\",\"Unknown\",\"Unknown\",\"Female\",\"Male\",\"Female\",\"Male\",\"Female\",\"Female\",\"Female\",\"Female\",\"Female\",\"Male\",\"Female\",\"Male\",\"Female\",\"Female\",\"Female\",\"Female\",\"Female\",\"Male\",\"Female\",\"Male\",\"Female\",\"Female\",\"Female\",\"Female\",\"Female\",\"Male\",\"Female\",\"Male\",\"Female\",\"Female\",\"Female\",\"Female\",\"Female\",\"Male\",\"Unknown\",\"Unknown\",\"Unknown\",\"Unknown\",\"Unknown\",\"Unknown\",\"Female\",\"Male\",\"Female\",\"Male\",\"Female\",\"Female\",\"Female\",\"Female\",\"Female\",\"Male\",\"Female\",\"Male\",\"Female\",\"Female\",\"Female\",\"Female\",\"Female\",\"Male\"],\"xaxis\":\"x\",\"yaxis\":\"y\",\"type\":\"histogram\"},{\"alignmentgroup\":\"True\",\"bingroup\":\"x\",\"hovertemplate\":\"Platform=Telegram\\u003cbr\\u003eGender=%{x}\\u003cbr\\u003ecount=%{y}\\u003cextra\\u003e\\u003c\\u002fextra\\u003e\",\"legendgroup\":\"Telegram\",\"marker\":{\"color\":\"#19d3f3\",\"pattern\":{\"shape\":\"\"}},\"name\":\"Telegram\",\"offsetgroup\":\"Telegram\",\"orientation\":\"v\",\"showlegend\":true,\"x\":[\"Male\",\"Non-binary\",\"Male\",\"Male\",\"Male\",\"Male\",\"Male\",\"Non-binary\",\"Male\",\"Non-binary\",\"Male\",\"Male\",\"Male\",\"Male\",\"Male\",\"Non-binary\",\"Unknown\",\"Unknown\",\"Unknown\",\"Unknown\",\"Unknown\",\"Unknown\",\"Male\",\"Non-binary\",\"Male\",\"Non-binary\",\"Male\",\"Male\",\"Male\",\"Male\",\"Male\",\"Non-binary\",\"Male\",\"Non-binary\",\"Male\",\"Male\",\"Male\",\"Male\",\"Male\",\"Non-binary\",\"Male\",\"Non-binary\",\"Male\",\"Male\",\"Male\",\"Male\",\"Male\",\"Non-binary\",\"Male\",\"Non-binary\",\"Male\",\"Male\",\"Male\",\"Male\",\"Male\",\"Non-binary\",\"Unknown\",\"Unknown\",\"Unknown\",\"Unknown\",\"Unknown\",\"Unknown\",\"Male\",\"Non-binary\",\"Male\",\"Non-binary\",\"Male\",\"Male\",\"Male\",\"Male\",\"Male\",\"Non-binary\",\"Male\",\"Non-binary\",\"Male\",\"Male\",\"Male\",\"Male\",\"Male\",\"Non-binary\"],\"xaxis\":\"x\",\"yaxis\":\"y\",\"type\":\"histogram\"},{\"alignmentgroup\":\"True\",\"bingroup\":\"x\",\"hovertemplate\":\"Platform=Snapchat\\u003cbr\\u003eGender=%{x}\\u003cbr\\u003ecount=%{y}\\u003cextra\\u003e\\u003c\\u002fextra\\u003e\",\"legendgroup\":\"Snapchat\",\"marker\":{\"color\":\"#FF6692\",\"pattern\":{\"shape\":\"\"}},\"name\":\"Snapchat\",\"offsetgroup\":\"Snapchat\",\"orientation\":\"v\",\"showlegend\":true,\"x\":[\"Non-binary\",\"Female\",\"Non-binary\",\"Non-binary\",\"Non-binary\",\"Non-binary\",\"Female\",\"Female\",\"Non-binary\",\"Female\",\"Non-binary\",\"Non-binary\",\"Non-binary\",\"Non-binary\",\"Female\",\"Female\",\"Unknown\",\"Unknown\",\"Unknown\",\"Unknown\",\"Unknown\",\"Unknown\",\"Female\",\"Female\",\"Non-binary\",\"Female\",\"Non-binary\",\"Non-binary\",\"Non-binary\",\"Non-binary\",\"Female\",\"Female\",\"Non-binary\",\"Female\",\"Non-binary\",\"Non-binary\",\"Non-binary\",\"Non-binary\",\"Female\",\"Female\",\"Non-binary\",\"Female\",\"Non-binary\",\"Non-binary\",\"Non-binary\",\"Non-binary\",\"Female\",\"Female\",\"Non-binary\",\"Female\",\"Non-binary\",\"Non-binary\",\"Non-binary\",\"Non-binary\",\"Female\",\"Female\",\"Unknown\",\"Unknown\",\"Unknown\",\"Unknown\",\"Unknown\",\"Unknown\",\"Female\",\"Female\",\"Non-binary\",\"Female\",\"Non-binary\",\"Non-binary\",\"Non-binary\",\"Non-binary\",\"Female\",\"Female\",\"Non-binary\",\"Female\",\"Non-binary\",\"Non-binary\",\"Non-binary\",\"Non-binary\",\"Female\",\"Female\"],\"xaxis\":\"x\",\"yaxis\":\"y\",\"type\":\"histogram\"}],                        {\"template\":{\"data\":{\"histogram2dcontour\":[{\"type\":\"histogram2dcontour\",\"colorbar\":{\"outlinewidth\":0,\"ticks\":\"\"},\"colorscale\":[[0.0,\"#0d0887\"],[0.1111111111111111,\"#46039f\"],[0.2222222222222222,\"#7201a8\"],[0.3333333333333333,\"#9c179e\"],[0.4444444444444444,\"#bd3786\"],[0.5555555555555556,\"#d8576b\"],[0.6666666666666666,\"#ed7953\"],[0.7777777777777778,\"#fb9f3a\"],[0.8888888888888888,\"#fdca26\"],[1.0,\"#f0f921\"]]}],\"choropleth\":[{\"type\":\"choropleth\",\"colorbar\":{\"outlinewidth\":0,\"ticks\":\"\"}}],\"histogram2d\":[{\"type\":\"histogram2d\",\"colorbar\":{\"outlinewidth\":0,\"ticks\":\"\"},\"colorscale\":[[0.0,\"#0d0887\"],[0.1111111111111111,\"#46039f\"],[0.2222222222222222,\"#7201a8\"],[0.3333333333333333,\"#9c179e\"],[0.4444444444444444,\"#bd3786\"],[0.5555555555555556,\"#d8576b\"],[0.6666666666666666,\"#ed7953\"],[0.7777777777777778,\"#fb9f3a\"],[0.8888888888888888,\"#fdca26\"],[1.0,\"#f0f921\"]]}],\"heatmap\":[{\"type\":\"heatmap\",\"colorbar\":{\"outlinewidth\":0,\"ticks\":\"\"},\"colorscale\":[[0.0,\"#0d0887\"],[0.1111111111111111,\"#46039f\"],[0.2222222222222222,\"#7201a8\"],[0.3333333333333333,\"#9c179e\"],[0.4444444444444444,\"#bd3786\"],[0.5555555555555556,\"#d8576b\"],[0.6666666666666666,\"#ed7953\"],[0.7777777777777778,\"#fb9f3a\"],[0.8888888888888888,\"#fdca26\"],[1.0,\"#f0f921\"]]}],\"heatmapgl\":[{\"type\":\"heatmapgl\",\"colorbar\":{\"outlinewidth\":0,\"ticks\":\"\"},\"colorscale\":[[0.0,\"#0d0887\"],[0.1111111111111111,\"#46039f\"],[0.2222222222222222,\"#7201a8\"],[0.3333333333333333,\"#9c179e\"],[0.4444444444444444,\"#bd3786\"],[0.5555555555555556,\"#d8576b\"],[0.6666666666666666,\"#ed7953\"],[0.7777777777777778,\"#fb9f3a\"],[0.8888888888888888,\"#fdca26\"],[1.0,\"#f0f921\"]]}],\"contourcarpet\":[{\"type\":\"contourcarpet\",\"colorbar\":{\"outlinewidth\":0,\"ticks\":\"\"}}],\"contour\":[{\"type\":\"contour\",\"colorbar\":{\"outlinewidth\":0,\"ticks\":\"\"},\"colorscale\":[[0.0,\"#0d0887\"],[0.1111111111111111,\"#46039f\"],[0.2222222222222222,\"#7201a8\"],[0.3333333333333333,\"#9c179e\"],[0.4444444444444444,\"#bd3786\"],[0.5555555555555556,\"#d8576b\"],[0.6666666666666666,\"#ed7953\"],[0.7777777777777778,\"#fb9f3a\"],[0.8888888888888888,\"#fdca26\"],[1.0,\"#f0f921\"]]}],\"surface\":[{\"type\":\"surface\",\"colorbar\":{\"outlinewidth\":0,\"ticks\":\"\"},\"colorscale\":[[0.0,\"#0d0887\"],[0.1111111111111111,\"#46039f\"],[0.2222222222222222,\"#7201a8\"],[0.3333333333333333,\"#9c179e\"],[0.4444444444444444,\"#bd3786\"],[0.5555555555555556,\"#d8576b\"],[0.6666666666666666,\"#ed7953\"],[0.7777777777777778,\"#fb9f3a\"],[0.8888888888888888,\"#fdca26\"],[1.0,\"#f0f921\"]]}],\"mesh3d\":[{\"type\":\"mesh3d\",\"colorbar\":{\"outlinewidth\":0,\"ticks\":\"\"}}],\"scatter\":[{\"fillpattern\":{\"fillmode\":\"overlay\",\"size\":10,\"solidity\":0.2},\"type\":\"scatter\"}],\"parcoords\":[{\"type\":\"parcoords\",\"line\":{\"colorbar\":{\"outlinewidth\":0,\"ticks\":\"\"}}}],\"scatterpolargl\":[{\"type\":\"scatterpolargl\",\"marker\":{\"colorbar\":{\"outlinewidth\":0,\"ticks\":\"\"}}}],\"bar\":[{\"error_x\":{\"color\":\"#2a3f5f\"},\"error_y\":{\"color\":\"#2a3f5f\"},\"marker\":{\"line\":{\"color\":\"#E5ECF6\",\"width\":0.5},\"pattern\":{\"fillmode\":\"overlay\",\"size\":10,\"solidity\":0.2}},\"type\":\"bar\"}],\"scattergeo\":[{\"type\":\"scattergeo\",\"marker\":{\"colorbar\":{\"outlinewidth\":0,\"ticks\":\"\"}}}],\"scatterpolar\":[{\"type\":\"scatterpolar\",\"marker\":{\"colorbar\":{\"outlinewidth\":0,\"ticks\":\"\"}}}],\"histogram\":[{\"marker\":{\"pattern\":{\"fillmode\":\"overlay\",\"size\":10,\"solidity\":0.2}},\"type\":\"histogram\"}],\"scattergl\":[{\"type\":\"scattergl\",\"marker\":{\"colorbar\":{\"outlinewidth\":0,\"ticks\":\"\"}}}],\"scatter3d\":[{\"type\":\"scatter3d\",\"line\":{\"colorbar\":{\"outlinewidth\":0,\"ticks\":\"\"}},\"marker\":{\"colorbar\":{\"outlinewidth\":0,\"ticks\":\"\"}}}],\"scattermapbox\":[{\"type\":\"scattermapbox\",\"marker\":{\"colorbar\":{\"outlinewidth\":0,\"ticks\":\"\"}}}],\"scatterternary\":[{\"type\":\"scatterternary\",\"marker\":{\"colorbar\":{\"outlinewidth\":0,\"ticks\":\"\"}}}],\"scattercarpet\":[{\"type\":\"scattercarpet\",\"marker\":{\"colorbar\":{\"outlinewidth\":0,\"ticks\":\"\"}}}],\"carpet\":[{\"aaxis\":{\"endlinecolor\":\"#2a3f5f\",\"gridcolor\":\"white\",\"linecolor\":\"white\",\"minorgridcolor\":\"white\",\"startlinecolor\":\"#2a3f5f\"},\"baxis\":{\"endlinecolor\":\"#2a3f5f\",\"gridcolor\":\"white\",\"linecolor\":\"white\",\"minorgridcolor\":\"white\",\"startlinecolor\":\"#2a3f5f\"},\"type\":\"carpet\"}],\"table\":[{\"cells\":{\"fill\":{\"color\":\"#EBF0F8\"},\"line\":{\"color\":\"white\"}},\"header\":{\"fill\":{\"color\":\"#C8D4E3\"},\"line\":{\"color\":\"white\"}},\"type\":\"table\"}],\"barpolar\":[{\"marker\":{\"line\":{\"color\":\"#E5ECF6\",\"width\":0.5},\"pattern\":{\"fillmode\":\"overlay\",\"size\":10,\"solidity\":0.2}},\"type\":\"barpolar\"}],\"pie\":[{\"automargin\":true,\"type\":\"pie\"}]},\"layout\":{\"autotypenumbers\":\"strict\",\"colorway\":[\"#636efa\",\"#EF553B\",\"#00cc96\",\"#ab63fa\",\"#FFA15A\",\"#19d3f3\",\"#FF6692\",\"#B6E880\",\"#FF97FF\",\"#FECB52\"],\"font\":{\"color\":\"#2a3f5f\"},\"hovermode\":\"closest\",\"hoverlabel\":{\"align\":\"left\"},\"paper_bgcolor\":\"white\",\"plot_bgcolor\":\"#E5ECF6\",\"polar\":{\"bgcolor\":\"#E5ECF6\",\"angularaxis\":{\"gridcolor\":\"white\",\"linecolor\":\"white\",\"ticks\":\"\"},\"radialaxis\":{\"gridcolor\":\"white\",\"linecolor\":\"white\",\"ticks\":\"\"}},\"ternary\":{\"bgcolor\":\"#E5ECF6\",\"aaxis\":{\"gridcolor\":\"white\",\"linecolor\":\"white\",\"ticks\":\"\"},\"baxis\":{\"gridcolor\":\"white\",\"linecolor\":\"white\",\"ticks\":\"\"},\"caxis\":{\"gridcolor\":\"white\",\"linecolor\":\"white\",\"ticks\":\"\"}},\"coloraxis\":{\"colorbar\":{\"outlinewidth\":0,\"ticks\":\"\"}},\"colorscale\":{\"sequential\":[[0.0,\"#0d0887\"],[0.1111111111111111,\"#46039f\"],[0.2222222222222222,\"#7201a8\"],[0.3333333333333333,\"#9c179e\"],[0.4444444444444444,\"#bd3786\"],[0.5555555555555556,\"#d8576b\"],[0.6666666666666666,\"#ed7953\"],[0.7777777777777778,\"#fb9f3a\"],[0.8888888888888888,\"#fdca26\"],[1.0,\"#f0f921\"]],\"sequentialminus\":[[0.0,\"#0d0887\"],[0.1111111111111111,\"#46039f\"],[0.2222222222222222,\"#7201a8\"],[0.3333333333333333,\"#9c179e\"],[0.4444444444444444,\"#bd3786\"],[0.5555555555555556,\"#d8576b\"],[0.6666666666666666,\"#ed7953\"],[0.7777777777777778,\"#fb9f3a\"],[0.8888888888888888,\"#fdca26\"],[1.0,\"#f0f921\"]],\"diverging\":[[0,\"#8e0152\"],[0.1,\"#c51b7d\"],[0.2,\"#de77ae\"],[0.3,\"#f1b6da\"],[0.4,\"#fde0ef\"],[0.5,\"#f7f7f7\"],[0.6,\"#e6f5d0\"],[0.7,\"#b8e186\"],[0.8,\"#7fbc41\"],[0.9,\"#4d9221\"],[1,\"#276419\"]]},\"xaxis\":{\"gridcolor\":\"white\",\"linecolor\":\"white\",\"ticks\":\"\",\"title\":{\"standoff\":15},\"zerolinecolor\":\"white\",\"automargin\":true,\"zerolinewidth\":2},\"yaxis\":{\"gridcolor\":\"white\",\"linecolor\":\"white\",\"ticks\":\"\",\"title\":{\"standoff\":15},\"zerolinecolor\":\"white\",\"automargin\":true,\"zerolinewidth\":2},\"scene\":{\"xaxis\":{\"backgroundcolor\":\"#E5ECF6\",\"gridcolor\":\"white\",\"linecolor\":\"white\",\"showbackground\":true,\"ticks\":\"\",\"zerolinecolor\":\"white\",\"gridwidth\":2},\"yaxis\":{\"backgroundcolor\":\"#E5ECF6\",\"gridcolor\":\"white\",\"linecolor\":\"white\",\"showbackground\":true,\"ticks\":\"\",\"zerolinecolor\":\"white\",\"gridwidth\":2},\"zaxis\":{\"backgroundcolor\":\"#E5ECF6\",\"gridcolor\":\"white\",\"linecolor\":\"white\",\"showbackground\":true,\"ticks\":\"\",\"zerolinecolor\":\"white\",\"gridwidth\":2}},\"shapedefaults\":{\"line\":{\"color\":\"#2a3f5f\"}},\"annotationdefaults\":{\"arrowcolor\":\"#2a3f5f\",\"arrowhead\":0,\"arrowwidth\":1},\"geo\":{\"bgcolor\":\"white\",\"landcolor\":\"#E5ECF6\",\"subunitcolor\":\"white\",\"showland\":true,\"showlakes\":true,\"lakecolor\":\"white\"},\"title\":{\"x\":0.05},\"mapbox\":{\"style\":\"light\"}}},\"xaxis\":{\"anchor\":\"y\",\"domain\":[0.0,1.0],\"title\":{\"text\":\"Gender\"}},\"yaxis\":{\"anchor\":\"x\",\"domain\":[0.0,1.0],\"title\":{\"text\":\"count\"}},\"legend\":{\"title\":{\"text\":\"Platform\"},\"tracegroupgap\":0},\"title\":{\"text\":\"Platform by Gender Usage\"},\"barmode\":\"relative\"},                        {\"responsive\": true}                    ).then(function(){\n",
              "                            \n",
              "var gd = document.getElementById('bfb2a5c4-1a00-4f85-bb9c-52745b9abd8a');\n",
              "var x = new MutationObserver(function (mutations, observer) {{\n",
              "        var display = window.getComputedStyle(gd).display;\n",
              "        if (!display || display === 'none') {{\n",
              "            console.log([gd, 'removed!']);\n",
              "            Plotly.purge(gd);\n",
              "            observer.disconnect();\n",
              "        }}\n",
              "}});\n",
              "\n",
              "// Listen for the removal of the full notebook cells\n",
              "var notebookContainer = gd.closest('#notebook-container');\n",
              "if (notebookContainer) {{\n",
              "    x.observe(notebookContainer, {childList: true});\n",
              "}}\n",
              "\n",
              "// Listen for the clearing of the current output cell\n",
              "var outputEl = gd.closest('.output');\n",
              "if (outputEl) {{\n",
              "    x.observe(outputEl, {childList: true});\n",
              "}}\n",
              "\n",
              "                        })                };                            </script>        </div>\n",
              "</body>\n",
              "</html>"
            ]
          },
          "metadata": {}
        }
      ]
    },
    {
      "cell_type": "markdown",
      "source": [
        "### Age and Gender"
      ],
      "metadata": {
        "id": "Xhr0LHMzFBgp"
      }
    },
    {
      "cell_type": "code",
      "source": [
        "# grouping age with gender\n",
        "grouped = train_df.groupby(['Age', 'Gender'])\n",
        "\n",
        "# count the number of rows in each group\n",
        "counts = grouped.size()\n",
        "\n",
        "# print the counts\n",
        "print(counts)"
      ],
      "metadata": {
        "id": "mFMwYcGSFBgp",
        "outputId": "032db5dc-46bb-4226-fea2-27afd561f27b",
        "colab": {
          "base_uri": "https://localhost:8080/"
        }
      },
      "execution_count": null,
      "outputs": [
        {
          "output_type": "stream",
          "name": "stdout",
          "text": [
            "Age   Gender    \n",
            "21.0  Female          20\n",
            "      Male            10\n",
            "      Non-binary      26\n",
            "22.0  Female          48\n",
            "      Male             8\n",
            "      Non-binary      18\n",
            "23.0  Female          10\n",
            "      Male             8\n",
            "      Non-binary      30\n",
            "24.0  Female          26\n",
            "      Male            10\n",
            "      Non-binary      28\n",
            "25.0  Female          40\n",
            "      Male            24\n",
            "26.0  Female           8\n",
            "      Male            28\n",
            "      Non-binary      30\n",
            "27.0  Female          28\n",
            "      Male            44\n",
            "      Non-binary      20\n",
            "      Unknown       1080\n",
            "28.0  Female          36\n",
            "      Male            28\n",
            "      Non-binary      28\n",
            "29.0  Female          28\n",
            "      Male            30\n",
            "      Non-binary      32\n",
            "30.0  Female           8\n",
            "      Male            40\n",
            "31.0  Female           8\n",
            "      Male            54\n",
            "32.0  Female          28\n",
            "      Male            10\n",
            "33.0  Female          18\n",
            "      Male            10\n",
            "      Non-binary      28\n",
            "34.0  Female          18\n",
            "      Male            10\n",
            "      Non-binary       8\n",
            "35.0  Female          20\n",
            "      Male            18\n",
            "dtype: int64\n"
          ]
        }
      ]
    },
    {
      "cell_type": "code",
      "source": [
        "plt = px.histogram(train_df, x='Age', color='Gender', title='Age by Gender')\n",
        "plt.show()"
      ],
      "metadata": {
        "id": "H3VP5PCLFBgp",
        "outputId": "63c79453-2fab-411e-f44f-1d4e16a16590",
        "colab": {
          "base_uri": "https://localhost:8080/",
          "height": 542
        }
      },
      "execution_count": null,
      "outputs": [
        {
          "output_type": "display_data",
          "data": {
            "text/html": [
              "<html>\n",
              "<head><meta charset=\"utf-8\" /></head>\n",
              "<body>\n",
              "    <div>            <script src=\"https://cdnjs.cloudflare.com/ajax/libs/mathjax/2.7.5/MathJax.js?config=TeX-AMS-MML_SVG\"></script><script type=\"text/javascript\">if (window.MathJax && window.MathJax.Hub && window.MathJax.Hub.Config) {window.MathJax.Hub.Config({SVG: {font: \"STIX-Web\"}});}</script>                <script type=\"text/javascript\">window.PlotlyConfig = {MathJaxConfig: 'local'};</script>\n",
              "        <script charset=\"utf-8\" src=\"https://cdn.plot.ly/plotly-2.35.2.min.js\"></script>                <div id=\"911fdbc8-3b49-4988-a310-28047b23a594\" class=\"plotly-graph-div\" style=\"height:525px; width:100%;\"></div>            <script type=\"text/javascript\">                                    window.PLOTLYENV=window.PLOTLYENV || {};                                    if (document.getElementById(\"911fdbc8-3b49-4988-a310-28047b23a594\")) {                    Plotly.newPlot(                        \"911fdbc8-3b49-4988-a310-28047b23a594\",                        [{\"alignmentgroup\":\"True\",\"bingroup\":\"x\",\"hovertemplate\":\"Gender=Unknown\\u003cbr\\u003eAge=%{x}\\u003cbr\\u003ecount=%{y}\\u003cextra\\u003e\\u003c\\u002fextra\\u003e\",\"legendgroup\":\"Unknown\",\"marker\":{\"color\":\"#636efa\",\"pattern\":{\"shape\":\"\"}},\"name\":\"Unknown\",\"offsetgroup\":\"Unknown\",\"orientation\":\"v\",\"showlegend\":true,\"x\":[27.0,27.0,27.0,27.0,27.0,27.0,27.0,27.0,27.0,27.0,27.0,27.0,27.0,27.0,27.0,27.0,27.0,27.0,27.0,27.0,27.0,27.0,27.0,27.0,27.0,27.0,27.0,27.0,27.0,27.0,27.0,27.0,27.0,27.0,27.0,27.0,27.0,27.0,27.0,27.0,27.0,27.0,27.0,27.0,27.0,27.0,27.0,27.0,27.0,27.0,27.0,27.0,27.0,27.0,27.0,27.0,27.0,27.0,27.0,27.0,27.0,27.0,27.0,27.0,27.0,27.0,27.0,27.0,27.0,27.0,27.0,27.0,27.0,27.0,27.0,27.0,27.0,27.0,27.0,27.0,27.0,27.0,27.0,27.0,27.0,27.0,27.0,27.0,27.0,27.0,27.0,27.0,27.0,27.0,27.0,27.0,27.0,27.0,27.0,27.0,27.0,27.0,27.0,27.0,27.0,27.0,27.0,27.0,27.0,27.0,27.0,27.0,27.0,27.0,27.0,27.0,27.0,27.0,27.0,27.0,27.0,27.0,27.0,27.0,27.0,27.0,27.0,27.0,27.0,27.0,27.0,27.0,27.0,27.0,27.0,27.0,27.0,27.0,27.0,27.0,27.0,27.0,27.0,27.0,27.0,27.0,27.0,27.0,27.0,27.0,27.0,27.0,27.0,27.0,27.0,27.0,27.0,27.0,27.0,27.0,27.0,27.0,27.0,27.0,27.0,27.0,27.0,27.0,27.0,27.0,27.0,27.0,27.0,27.0,27.0,27.0,27.0,27.0,27.0,27.0,27.0,27.0,27.0,27.0,27.0,27.0,27.0,27.0,27.0,27.0,27.0,27.0,27.0,27.0,27.0,27.0,27.0,27.0,27.0,27.0,27.0,27.0,27.0,27.0,27.0,27.0,27.0,27.0,27.0,27.0,27.0,27.0,27.0,27.0,27.0,27.0,27.0,27.0,27.0,27.0,27.0,27.0,27.0,27.0,27.0,27.0,27.0,27.0,27.0,27.0,27.0,27.0,27.0,27.0,27.0,27.0,27.0,27.0,27.0,27.0,27.0,27.0,27.0,27.0,27.0,27.0,27.0,27.0,27.0,27.0,27.0,27.0,27.0,27.0,27.0,27.0,27.0,27.0,27.0,27.0,27.0,27.0,27.0,27.0,27.0,27.0,27.0,27.0,27.0,27.0,27.0,27.0,27.0,27.0,27.0,27.0,27.0,27.0,27.0,27.0,27.0,27.0,27.0,27.0,27.0,27.0,27.0,27.0,27.0,27.0,27.0,27.0,27.0,27.0,27.0,27.0,27.0,27.0,27.0,27.0,27.0,27.0,27.0,27.0,27.0,27.0,27.0,27.0,27.0,27.0,27.0,27.0,27.0,27.0,27.0,27.0,27.0,27.0,27.0,27.0,27.0,27.0,27.0,27.0,27.0,27.0,27.0,27.0,27.0,27.0,27.0,27.0,27.0,27.0,27.0,27.0,27.0,27.0,27.0,27.0,27.0,27.0,27.0,27.0,27.0,27.0,27.0,27.0,27.0,27.0,27.0,27.0,27.0,27.0,27.0,27.0,27.0,27.0,27.0,27.0,27.0,27.0,27.0,27.0,27.0,27.0,27.0,27.0,27.0,27.0,27.0,27.0,27.0,27.0,27.0,27.0,27.0,27.0,27.0,27.0,27.0,27.0,27.0,27.0,27.0,27.0,27.0,27.0,27.0,27.0,27.0,27.0,27.0,27.0,27.0,27.0,27.0,27.0,27.0,27.0,27.0,27.0,27.0,27.0,27.0,27.0,27.0,27.0,27.0,27.0,27.0,27.0,27.0,27.0,27.0,27.0,27.0,27.0,27.0,27.0,27.0,27.0,27.0,27.0,27.0,27.0,27.0,27.0,27.0,27.0,27.0,27.0,27.0,27.0,27.0,27.0,27.0,27.0,27.0,27.0,27.0,27.0,27.0,27.0,27.0,27.0,27.0,27.0,27.0,27.0,27.0,27.0,27.0,27.0,27.0,27.0,27.0,27.0,27.0,27.0,27.0,27.0,27.0,27.0,27.0,27.0,27.0,27.0,27.0,27.0,27.0,27.0,27.0,27.0,27.0,27.0,27.0,27.0,27.0,27.0,27.0,27.0,27.0,27.0,27.0,27.0,27.0,27.0,27.0,27.0,27.0,27.0,27.0,27.0,27.0,27.0,27.0,27.0,27.0,27.0,27.0,27.0,27.0,27.0,27.0,27.0,27.0,27.0,27.0,27.0,27.0,27.0,27.0,27.0,27.0,27.0,27.0,27.0,27.0,27.0,27.0,27.0,27.0,27.0,27.0,27.0,27.0,27.0,27.0,27.0,27.0,27.0,27.0,27.0,27.0,27.0,27.0,27.0,27.0,27.0,27.0,27.0,27.0,27.0,27.0,27.0,27.0,27.0,27.0,27.0,27.0,27.0,27.0,27.0,27.0,27.0,27.0,27.0,27.0,27.0,27.0,27.0,27.0,27.0,27.0,27.0,27.0,27.0,27.0,27.0,27.0,27.0,27.0,27.0,27.0,27.0,27.0,27.0,27.0,27.0,27.0,27.0,27.0,27.0,27.0,27.0,27.0,27.0,27.0,27.0,27.0,27.0,27.0,27.0,27.0,27.0,27.0,27.0,27.0,27.0,27.0,27.0,27.0,27.0,27.0,27.0,27.0,27.0,27.0,27.0,27.0,27.0,27.0,27.0,27.0,27.0,27.0,27.0,27.0,27.0,27.0,27.0,27.0,27.0,27.0,27.0,27.0,27.0,27.0,27.0,27.0,27.0,27.0,27.0,27.0,27.0,27.0,27.0,27.0,27.0,27.0,27.0,27.0,27.0,27.0,27.0,27.0,27.0,27.0,27.0,27.0,27.0,27.0,27.0,27.0,27.0,27.0,27.0,27.0,27.0,27.0,27.0,27.0,27.0,27.0,27.0,27.0,27.0,27.0,27.0,27.0,27.0,27.0,27.0,27.0,27.0,27.0,27.0,27.0,27.0,27.0,27.0,27.0,27.0,27.0,27.0,27.0,27.0,27.0,27.0,27.0,27.0,27.0,27.0,27.0,27.0,27.0,27.0,27.0,27.0,27.0,27.0,27.0,27.0,27.0,27.0,27.0,27.0,27.0,27.0,27.0,27.0,27.0,27.0,27.0,27.0,27.0,27.0,27.0,27.0,27.0,27.0,27.0,27.0,27.0,27.0,27.0,27.0,27.0,27.0,27.0,27.0,27.0,27.0,27.0,27.0,27.0,27.0,27.0,27.0,27.0,27.0,27.0,27.0,27.0,27.0,27.0,27.0,27.0,27.0,27.0,27.0,27.0,27.0,27.0,27.0,27.0,27.0,27.0,27.0,27.0,27.0,27.0,27.0,27.0,27.0,27.0,27.0,27.0,27.0,27.0,27.0,27.0,27.0,27.0,27.0,27.0,27.0,27.0,27.0,27.0,27.0,27.0,27.0,27.0,27.0,27.0,27.0,27.0,27.0,27.0,27.0,27.0,27.0,27.0,27.0,27.0,27.0,27.0,27.0,27.0,27.0,27.0,27.0,27.0,27.0,27.0,27.0,27.0,27.0,27.0,27.0,27.0,27.0,27.0,27.0,27.0,27.0,27.0,27.0,27.0,27.0,27.0,27.0,27.0,27.0,27.0,27.0,27.0,27.0,27.0,27.0,27.0,27.0,27.0,27.0,27.0,27.0,27.0,27.0,27.0,27.0,27.0,27.0,27.0,27.0,27.0,27.0,27.0,27.0,27.0,27.0,27.0,27.0,27.0,27.0,27.0,27.0,27.0,27.0,27.0,27.0,27.0,27.0,27.0,27.0,27.0,27.0,27.0,27.0,27.0,27.0,27.0,27.0,27.0,27.0,27.0,27.0,27.0,27.0,27.0,27.0,27.0,27.0,27.0,27.0,27.0,27.0,27.0,27.0,27.0,27.0,27.0,27.0,27.0,27.0,27.0,27.0,27.0,27.0,27.0,27.0,27.0,27.0,27.0,27.0,27.0,27.0,27.0,27.0,27.0,27.0,27.0,27.0,27.0,27.0,27.0,27.0,27.0,27.0,27.0,27.0,27.0,27.0,27.0,27.0,27.0,27.0,27.0,27.0,27.0,27.0,27.0,27.0,27.0,27.0,27.0,27.0,27.0,27.0,27.0,27.0,27.0,27.0,27.0,27.0,27.0,27.0,27.0,27.0,27.0,27.0,27.0,27.0,27.0,27.0,27.0,27.0,27.0,27.0,27.0,27.0,27.0,27.0,27.0,27.0,27.0,27.0,27.0,27.0,27.0,27.0,27.0,27.0,27.0,27.0,27.0,27.0,27.0,27.0,27.0,27.0,27.0,27.0,27.0,27.0,27.0,27.0,27.0,27.0,27.0,27.0,27.0,27.0,27.0,27.0,27.0,27.0,27.0,27.0,27.0,27.0,27.0,27.0,27.0,27.0,27.0,27.0,27.0,27.0,27.0,27.0,27.0,27.0,27.0,27.0,27.0,27.0,27.0,27.0,27.0,27.0,27.0,27.0,27.0,27.0,27.0,27.0,27.0,27.0,27.0,27.0,27.0,27.0,27.0,27.0,27.0,27.0,27.0,27.0,27.0,27.0,27.0,27.0,27.0,27.0,27.0,27.0,27.0,27.0,27.0,27.0,27.0,27.0,27.0,27.0,27.0,27.0,27.0,27.0,27.0,27.0,27.0,27.0,27.0,27.0,27.0,27.0,27.0,27.0,27.0,27.0,27.0,27.0,27.0,27.0,27.0,27.0,27.0,27.0],\"xaxis\":\"x\",\"yaxis\":\"y\",\"type\":\"histogram\"},{\"alignmentgroup\":\"True\",\"bingroup\":\"x\",\"hovertemplate\":\"Gender=Female\\u003cbr\\u003eAge=%{x}\\u003cbr\\u003ecount=%{y}\\u003cextra\\u003e\\u003c\\u002fextra\\u003e\",\"legendgroup\":\"Female\",\"marker\":{\"color\":\"#EF553B\",\"pattern\":{\"shape\":\"\"}},\"name\":\"Female\",\"offsetgroup\":\"Female\",\"orientation\":\"v\",\"showlegend\":true,\"x\":[25.0,28.0,27.0,29.0,23.0,22.0,35.0,32.0,24.0,22.0,25.0,34.0,21.0,33.0,22.0,25.0,35.0,21.0,28.0,24.0,33.0,22.0,28.0,30.0,26.0,31.0,24.0,29.0,32.0,27.0,34.0,28.0,25.0,32.0,29.0,22.0,27.0,25.0,28.0,27.0,29.0,23.0,22.0,35.0,32.0,24.0,22.0,25.0,34.0,21.0,33.0,22.0,25.0,35.0,21.0,28.0,24.0,33.0,22.0,28.0,30.0,26.0,31.0,24.0,29.0,32.0,27.0,34.0,28.0,25.0,32.0,29.0,22.0,27.0,25.0,28.0,27.0,29.0,23.0,22.0,35.0,32.0,24.0,22.0,25.0,34.0,21.0,33.0,22.0,25.0,35.0,21.0,28.0,25.0,32.0,29.0,22.0,27.0,25.0,28.0,27.0,29.0,23.0,22.0,35.0,32.0,24.0,22.0,25.0,34.0,21.0,33.0,22.0,25.0,35.0,21.0,28.0,24.0,33.0,22.0,28.0,30.0,26.0,31.0,24.0,29.0,32.0,27.0,34.0,28.0,25.0,32.0,29.0,22.0,27.0,25.0,28.0,27.0,29.0,23.0,22.0,35.0,32.0,24.0,22.0,25.0,34.0,21.0,33.0,22.0,25.0,35.0,21.0,28.0,24.0,33.0,22.0,28.0,30.0,26.0,31.0,24.0,29.0,32.0,27.0,34.0,28.0,25.0,32.0,29.0,22.0,27.0,25.0,28.0,27.0,29.0,23.0,22.0,35.0,32.0,24.0,22.0,25.0,34.0,21.0,33.0,22.0,25.0,35.0,21.0,28.0,24.0,33.0,22.0,28.0,30.0,26.0,31.0,24.0,29.0,32.0,27.0,34.0,28.0,25.0,32.0,29.0,22.0,27.0,25.0,28.0,27.0,29.0,23.0,22.0,35.0,32.0,24.0,22.0,25.0,34.0,21.0,33.0,22.0,25.0,35.0,21.0,28.0,24.0,33.0,22.0,28.0,30.0,26.0,31.0,24.0,29.0,32.0,27.0,34.0,28.0,25.0,32.0,29.0,22.0,27.0,25.0,28.0,27.0,29.0,23.0,22.0,35.0,32.0,24.0,22.0,25.0,34.0,21.0,33.0,22.0,25.0,35.0,21.0,28.0,25.0,32.0,29.0,22.0,27.0,25.0,28.0,27.0,29.0,23.0,22.0,35.0,32.0,24.0,22.0,25.0,34.0,21.0,33.0,22.0,25.0,35.0,21.0,28.0,24.0,33.0,22.0,28.0,30.0,26.0,31.0,24.0,29.0,32.0,27.0,34.0,28.0,25.0,32.0,29.0,22.0,27.0,25.0,28.0,27.0,29.0,23.0,22.0,35.0,32.0,24.0,22.0,25.0,34.0,21.0,33.0,22.0,25.0,35.0,21.0,28.0,24.0,33.0,22.0,28.0,30.0,26.0,31.0,24.0,29.0,32.0,27.0,34.0,28.0,25.0,32.0,29.0,22.0,27.0],\"xaxis\":\"x\",\"yaxis\":\"y\",\"type\":\"histogram\"},{\"alignmentgroup\":\"True\",\"bingroup\":\"x\",\"hovertemplate\":\"Gender=Male\\u003cbr\\u003eAge=%{x}\\u003cbr\\u003ecount=%{y}\\u003cextra\\u003e\\u003c\\u002fextra\\u003e\",\"legendgroup\":\"Male\",\"marker\":{\"color\":\"#00cc96\",\"pattern\":{\"shape\":\"\"}},\"name\":\"Male\",\"offsetgroup\":\"Male\",\"orientation\":\"v\",\"showlegend\":true,\"x\":[30.0,33.0,21.0,31.0,34.0,28.0,27.0,26.0,29.0,31.0,30.0,28.0,29.0,27.0,31.0,29.0,30.0,32.0,27.0,31.0,25.0,27.0,23.0,25.0,28.0,27.0,35.0,25.0,26.0,31.0,22.0,31.0,30.0,24.0,26.0,35.0,30.0,33.0,21.0,31.0,34.0,28.0,27.0,26.0,29.0,31.0,30.0,28.0,29.0,27.0,31.0,29.0,30.0,32.0,27.0,31.0,25.0,27.0,23.0,25.0,28.0,27.0,35.0,25.0,26.0,31.0,22.0,31.0,30.0,24.0,26.0,35.0,30.0,33.0,21.0,31.0,34.0,28.0,27.0,26.0,29.0,31.0,30.0,28.0,29.0,27.0,31.0,29.0,30.0,32.0,30.0,24.0,26.0,35.0,30.0,33.0,21.0,31.0,34.0,28.0,27.0,26.0,29.0,31.0,30.0,28.0,29.0,27.0,31.0,29.0,30.0,32.0,27.0,31.0,25.0,27.0,23.0,25.0,28.0,27.0,35.0,25.0,26.0,31.0,22.0,31.0,30.0,24.0,26.0,35.0,30.0,33.0,21.0,31.0,34.0,28.0,27.0,26.0,29.0,31.0,30.0,28.0,29.0,27.0,31.0,29.0,30.0,32.0,27.0,31.0,25.0,27.0,23.0,25.0,28.0,27.0,35.0,25.0,26.0,31.0,22.0,31.0,30.0,24.0,26.0,35.0,30.0,33.0,21.0,31.0,34.0,28.0,27.0,26.0,29.0,31.0,30.0,28.0,29.0,27.0,31.0,29.0,30.0,32.0,27.0,31.0,25.0,27.0,23.0,25.0,28.0,27.0,35.0,25.0,26.0,31.0,22.0,31.0,30.0,24.0,26.0,35.0,30.0,33.0,21.0,31.0,34.0,28.0,27.0,26.0,29.0,31.0,30.0,28.0,29.0,27.0,31.0,29.0,30.0,32.0,27.0,31.0,25.0,27.0,23.0,25.0,28.0,27.0,35.0,25.0,26.0,31.0,22.0,31.0,30.0,24.0,26.0,35.0,30.0,33.0,21.0,31.0,34.0,28.0,27.0,26.0,29.0,31.0,30.0,28.0,29.0,27.0,31.0,29.0,30.0,32.0,30.0,24.0,26.0,35.0,30.0,33.0,21.0,31.0,34.0,28.0,27.0,26.0,29.0,31.0,30.0,28.0,29.0,27.0,31.0,29.0,30.0,32.0,27.0,31.0,25.0,27.0,23.0,25.0,28.0,27.0,35.0,25.0,26.0,31.0,22.0,31.0,30.0,24.0,26.0,35.0,30.0,33.0,21.0,31.0,34.0,28.0,27.0,26.0,29.0,31.0,30.0,28.0,29.0,27.0,31.0,29.0,30.0,32.0,27.0,31.0,25.0,27.0,23.0,25.0,28.0,27.0,35.0,25.0,26.0,31.0,22.0,31.0,30.0,24.0,26.0,35.0],\"xaxis\":\"x\",\"yaxis\":\"y\",\"type\":\"histogram\"},{\"alignmentgroup\":\"True\",\"bingroup\":\"x\",\"hovertemplate\":\"Gender=Non-binary\\u003cbr\\u003eAge=%{x}\\u003cbr\\u003ecount=%{y}\\u003cextra\\u003e\\u003c\\u002fextra\\u003e\",\"legendgroup\":\"Non-binary\",\"marker\":{\"color\":\"#ab63fa\",\"pattern\":{\"shape\":\"\"}},\"name\":\"Non-binary\",\"offsetgroup\":\"Non-binary\",\"orientation\":\"v\",\"showlegend\":true,\"x\":[22.0,24.0,26.0,21.0,23.0,33.0,27.0,26.0,23.0,24.0,28.0,23.0,26.0,29.0,29.0,34.0,29.0,22.0,21.0,28.0,33.0,24.0,29.0,21.0,27.0,33.0,28.0,22.0,24.0,26.0,21.0,23.0,33.0,27.0,26.0,23.0,24.0,28.0,23.0,26.0,29.0,29.0,34.0,29.0,22.0,21.0,28.0,33.0,24.0,29.0,21.0,27.0,33.0,28.0,22.0,24.0,26.0,21.0,23.0,33.0,27.0,26.0,23.0,24.0,28.0,23.0,26.0,27.0,33.0,28.0,22.0,24.0,26.0,21.0,23.0,33.0,27.0,26.0,23.0,24.0,28.0,23.0,26.0,29.0,29.0,34.0,29.0,22.0,21.0,28.0,33.0,24.0,29.0,21.0,27.0,33.0,28.0,22.0,24.0,26.0,21.0,23.0,33.0,27.0,26.0,23.0,24.0,28.0,23.0,26.0,29.0,29.0,34.0,29.0,22.0,21.0,28.0,33.0,24.0,29.0,21.0,27.0,33.0,28.0,22.0,24.0,26.0,21.0,23.0,33.0,27.0,26.0,23.0,24.0,28.0,23.0,26.0,29.0,29.0,34.0,29.0,22.0,21.0,28.0,33.0,24.0,29.0,21.0,27.0,33.0,28.0,22.0,24.0,26.0,21.0,23.0,33.0,27.0,26.0,23.0,24.0,28.0,23.0,26.0,29.0,29.0,34.0,29.0,22.0,21.0,28.0,33.0,24.0,29.0,21.0,27.0,33.0,28.0,22.0,24.0,26.0,21.0,23.0,33.0,27.0,26.0,23.0,24.0,28.0,23.0,26.0,27.0,33.0,28.0,22.0,24.0,26.0,21.0,23.0,33.0,27.0,26.0,23.0,24.0,28.0,23.0,26.0,29.0,29.0,34.0,29.0,22.0,21.0,28.0,33.0,24.0,29.0,21.0,27.0,33.0,28.0,22.0,24.0,26.0,21.0,23.0,33.0,27.0,26.0,23.0,24.0,28.0,23.0,26.0,29.0,29.0,34.0,29.0,22.0,21.0,28.0,33.0,24.0,29.0,21.0,27.0,33.0,28.0],\"xaxis\":\"x\",\"yaxis\":\"y\",\"type\":\"histogram\"}],                        {\"template\":{\"data\":{\"histogram2dcontour\":[{\"type\":\"histogram2dcontour\",\"colorbar\":{\"outlinewidth\":0,\"ticks\":\"\"},\"colorscale\":[[0.0,\"#0d0887\"],[0.1111111111111111,\"#46039f\"],[0.2222222222222222,\"#7201a8\"],[0.3333333333333333,\"#9c179e\"],[0.4444444444444444,\"#bd3786\"],[0.5555555555555556,\"#d8576b\"],[0.6666666666666666,\"#ed7953\"],[0.7777777777777778,\"#fb9f3a\"],[0.8888888888888888,\"#fdca26\"],[1.0,\"#f0f921\"]]}],\"choropleth\":[{\"type\":\"choropleth\",\"colorbar\":{\"outlinewidth\":0,\"ticks\":\"\"}}],\"histogram2d\":[{\"type\":\"histogram2d\",\"colorbar\":{\"outlinewidth\":0,\"ticks\":\"\"},\"colorscale\":[[0.0,\"#0d0887\"],[0.1111111111111111,\"#46039f\"],[0.2222222222222222,\"#7201a8\"],[0.3333333333333333,\"#9c179e\"],[0.4444444444444444,\"#bd3786\"],[0.5555555555555556,\"#d8576b\"],[0.6666666666666666,\"#ed7953\"],[0.7777777777777778,\"#fb9f3a\"],[0.8888888888888888,\"#fdca26\"],[1.0,\"#f0f921\"]]}],\"heatmap\":[{\"type\":\"heatmap\",\"colorbar\":{\"outlinewidth\":0,\"ticks\":\"\"},\"colorscale\":[[0.0,\"#0d0887\"],[0.1111111111111111,\"#46039f\"],[0.2222222222222222,\"#7201a8\"],[0.3333333333333333,\"#9c179e\"],[0.4444444444444444,\"#bd3786\"],[0.5555555555555556,\"#d8576b\"],[0.6666666666666666,\"#ed7953\"],[0.7777777777777778,\"#fb9f3a\"],[0.8888888888888888,\"#fdca26\"],[1.0,\"#f0f921\"]]}],\"heatmapgl\":[{\"type\":\"heatmapgl\",\"colorbar\":{\"outlinewidth\":0,\"ticks\":\"\"},\"colorscale\":[[0.0,\"#0d0887\"],[0.1111111111111111,\"#46039f\"],[0.2222222222222222,\"#7201a8\"],[0.3333333333333333,\"#9c179e\"],[0.4444444444444444,\"#bd3786\"],[0.5555555555555556,\"#d8576b\"],[0.6666666666666666,\"#ed7953\"],[0.7777777777777778,\"#fb9f3a\"],[0.8888888888888888,\"#fdca26\"],[1.0,\"#f0f921\"]]}],\"contourcarpet\":[{\"type\":\"contourcarpet\",\"colorbar\":{\"outlinewidth\":0,\"ticks\":\"\"}}],\"contour\":[{\"type\":\"contour\",\"colorbar\":{\"outlinewidth\":0,\"ticks\":\"\"},\"colorscale\":[[0.0,\"#0d0887\"],[0.1111111111111111,\"#46039f\"],[0.2222222222222222,\"#7201a8\"],[0.3333333333333333,\"#9c179e\"],[0.4444444444444444,\"#bd3786\"],[0.5555555555555556,\"#d8576b\"],[0.6666666666666666,\"#ed7953\"],[0.7777777777777778,\"#fb9f3a\"],[0.8888888888888888,\"#fdca26\"],[1.0,\"#f0f921\"]]}],\"surface\":[{\"type\":\"surface\",\"colorbar\":{\"outlinewidth\":0,\"ticks\":\"\"},\"colorscale\":[[0.0,\"#0d0887\"],[0.1111111111111111,\"#46039f\"],[0.2222222222222222,\"#7201a8\"],[0.3333333333333333,\"#9c179e\"],[0.4444444444444444,\"#bd3786\"],[0.5555555555555556,\"#d8576b\"],[0.6666666666666666,\"#ed7953\"],[0.7777777777777778,\"#fb9f3a\"],[0.8888888888888888,\"#fdca26\"],[1.0,\"#f0f921\"]]}],\"mesh3d\":[{\"type\":\"mesh3d\",\"colorbar\":{\"outlinewidth\":0,\"ticks\":\"\"}}],\"scatter\":[{\"fillpattern\":{\"fillmode\":\"overlay\",\"size\":10,\"solidity\":0.2},\"type\":\"scatter\"}],\"parcoords\":[{\"type\":\"parcoords\",\"line\":{\"colorbar\":{\"outlinewidth\":0,\"ticks\":\"\"}}}],\"scatterpolargl\":[{\"type\":\"scatterpolargl\",\"marker\":{\"colorbar\":{\"outlinewidth\":0,\"ticks\":\"\"}}}],\"bar\":[{\"error_x\":{\"color\":\"#2a3f5f\"},\"error_y\":{\"color\":\"#2a3f5f\"},\"marker\":{\"line\":{\"color\":\"#E5ECF6\",\"width\":0.5},\"pattern\":{\"fillmode\":\"overlay\",\"size\":10,\"solidity\":0.2}},\"type\":\"bar\"}],\"scattergeo\":[{\"type\":\"scattergeo\",\"marker\":{\"colorbar\":{\"outlinewidth\":0,\"ticks\":\"\"}}}],\"scatterpolar\":[{\"type\":\"scatterpolar\",\"marker\":{\"colorbar\":{\"outlinewidth\":0,\"ticks\":\"\"}}}],\"histogram\":[{\"marker\":{\"pattern\":{\"fillmode\":\"overlay\",\"size\":10,\"solidity\":0.2}},\"type\":\"histogram\"}],\"scattergl\":[{\"type\":\"scattergl\",\"marker\":{\"colorbar\":{\"outlinewidth\":0,\"ticks\":\"\"}}}],\"scatter3d\":[{\"type\":\"scatter3d\",\"line\":{\"colorbar\":{\"outlinewidth\":0,\"ticks\":\"\"}},\"marker\":{\"colorbar\":{\"outlinewidth\":0,\"ticks\":\"\"}}}],\"scattermapbox\":[{\"type\":\"scattermapbox\",\"marker\":{\"colorbar\":{\"outlinewidth\":0,\"ticks\":\"\"}}}],\"scatterternary\":[{\"type\":\"scatterternary\",\"marker\":{\"colorbar\":{\"outlinewidth\":0,\"ticks\":\"\"}}}],\"scattercarpet\":[{\"type\":\"scattercarpet\",\"marker\":{\"colorbar\":{\"outlinewidth\":0,\"ticks\":\"\"}}}],\"carpet\":[{\"aaxis\":{\"endlinecolor\":\"#2a3f5f\",\"gridcolor\":\"white\",\"linecolor\":\"white\",\"minorgridcolor\":\"white\",\"startlinecolor\":\"#2a3f5f\"},\"baxis\":{\"endlinecolor\":\"#2a3f5f\",\"gridcolor\":\"white\",\"linecolor\":\"white\",\"minorgridcolor\":\"white\",\"startlinecolor\":\"#2a3f5f\"},\"type\":\"carpet\"}],\"table\":[{\"cells\":{\"fill\":{\"color\":\"#EBF0F8\"},\"line\":{\"color\":\"white\"}},\"header\":{\"fill\":{\"color\":\"#C8D4E3\"},\"line\":{\"color\":\"white\"}},\"type\":\"table\"}],\"barpolar\":[{\"marker\":{\"line\":{\"color\":\"#E5ECF6\",\"width\":0.5},\"pattern\":{\"fillmode\":\"overlay\",\"size\":10,\"solidity\":0.2}},\"type\":\"barpolar\"}],\"pie\":[{\"automargin\":true,\"type\":\"pie\"}]},\"layout\":{\"autotypenumbers\":\"strict\",\"colorway\":[\"#636efa\",\"#EF553B\",\"#00cc96\",\"#ab63fa\",\"#FFA15A\",\"#19d3f3\",\"#FF6692\",\"#B6E880\",\"#FF97FF\",\"#FECB52\"],\"font\":{\"color\":\"#2a3f5f\"},\"hovermode\":\"closest\",\"hoverlabel\":{\"align\":\"left\"},\"paper_bgcolor\":\"white\",\"plot_bgcolor\":\"#E5ECF6\",\"polar\":{\"bgcolor\":\"#E5ECF6\",\"angularaxis\":{\"gridcolor\":\"white\",\"linecolor\":\"white\",\"ticks\":\"\"},\"radialaxis\":{\"gridcolor\":\"white\",\"linecolor\":\"white\",\"ticks\":\"\"}},\"ternary\":{\"bgcolor\":\"#E5ECF6\",\"aaxis\":{\"gridcolor\":\"white\",\"linecolor\":\"white\",\"ticks\":\"\"},\"baxis\":{\"gridcolor\":\"white\",\"linecolor\":\"white\",\"ticks\":\"\"},\"caxis\":{\"gridcolor\":\"white\",\"linecolor\":\"white\",\"ticks\":\"\"}},\"coloraxis\":{\"colorbar\":{\"outlinewidth\":0,\"ticks\":\"\"}},\"colorscale\":{\"sequential\":[[0.0,\"#0d0887\"],[0.1111111111111111,\"#46039f\"],[0.2222222222222222,\"#7201a8\"],[0.3333333333333333,\"#9c179e\"],[0.4444444444444444,\"#bd3786\"],[0.5555555555555556,\"#d8576b\"],[0.6666666666666666,\"#ed7953\"],[0.7777777777777778,\"#fb9f3a\"],[0.8888888888888888,\"#fdca26\"],[1.0,\"#f0f921\"]],\"sequentialminus\":[[0.0,\"#0d0887\"],[0.1111111111111111,\"#46039f\"],[0.2222222222222222,\"#7201a8\"],[0.3333333333333333,\"#9c179e\"],[0.4444444444444444,\"#bd3786\"],[0.5555555555555556,\"#d8576b\"],[0.6666666666666666,\"#ed7953\"],[0.7777777777777778,\"#fb9f3a\"],[0.8888888888888888,\"#fdca26\"],[1.0,\"#f0f921\"]],\"diverging\":[[0,\"#8e0152\"],[0.1,\"#c51b7d\"],[0.2,\"#de77ae\"],[0.3,\"#f1b6da\"],[0.4,\"#fde0ef\"],[0.5,\"#f7f7f7\"],[0.6,\"#e6f5d0\"],[0.7,\"#b8e186\"],[0.8,\"#7fbc41\"],[0.9,\"#4d9221\"],[1,\"#276419\"]]},\"xaxis\":{\"gridcolor\":\"white\",\"linecolor\":\"white\",\"ticks\":\"\",\"title\":{\"standoff\":15},\"zerolinecolor\":\"white\",\"automargin\":true,\"zerolinewidth\":2},\"yaxis\":{\"gridcolor\":\"white\",\"linecolor\":\"white\",\"ticks\":\"\",\"title\":{\"standoff\":15},\"zerolinecolor\":\"white\",\"automargin\":true,\"zerolinewidth\":2},\"scene\":{\"xaxis\":{\"backgroundcolor\":\"#E5ECF6\",\"gridcolor\":\"white\",\"linecolor\":\"white\",\"showbackground\":true,\"ticks\":\"\",\"zerolinecolor\":\"white\",\"gridwidth\":2},\"yaxis\":{\"backgroundcolor\":\"#E5ECF6\",\"gridcolor\":\"white\",\"linecolor\":\"white\",\"showbackground\":true,\"ticks\":\"\",\"zerolinecolor\":\"white\",\"gridwidth\":2},\"zaxis\":{\"backgroundcolor\":\"#E5ECF6\",\"gridcolor\":\"white\",\"linecolor\":\"white\",\"showbackground\":true,\"ticks\":\"\",\"zerolinecolor\":\"white\",\"gridwidth\":2}},\"shapedefaults\":{\"line\":{\"color\":\"#2a3f5f\"}},\"annotationdefaults\":{\"arrowcolor\":\"#2a3f5f\",\"arrowhead\":0,\"arrowwidth\":1},\"geo\":{\"bgcolor\":\"white\",\"landcolor\":\"#E5ECF6\",\"subunitcolor\":\"white\",\"showland\":true,\"showlakes\":true,\"lakecolor\":\"white\"},\"title\":{\"x\":0.05},\"mapbox\":{\"style\":\"light\"}}},\"xaxis\":{\"anchor\":\"y\",\"domain\":[0.0,1.0],\"title\":{\"text\":\"Age\"}},\"yaxis\":{\"anchor\":\"x\",\"domain\":[0.0,1.0],\"title\":{\"text\":\"count\"}},\"legend\":{\"title\":{\"text\":\"Gender\"},\"tracegroupgap\":0},\"title\":{\"text\":\"Age by Gender\"},\"barmode\":\"relative\"},                        {\"responsive\": true}                    ).then(function(){\n",
              "                            \n",
              "var gd = document.getElementById('911fdbc8-3b49-4988-a310-28047b23a594');\n",
              "var x = new MutationObserver(function (mutations, observer) {{\n",
              "        var display = window.getComputedStyle(gd).display;\n",
              "        if (!display || display === 'none') {{\n",
              "            console.log([gd, 'removed!']);\n",
              "            Plotly.purge(gd);\n",
              "            observer.disconnect();\n",
              "        }}\n",
              "}});\n",
              "\n",
              "// Listen for the removal of the full notebook cells\n",
              "var notebookContainer = gd.closest('#notebook-container');\n",
              "if (notebookContainer) {{\n",
              "    x.observe(notebookContainer, {childList: true});\n",
              "}}\n",
              "\n",
              "// Listen for the clearing of the current output cell\n",
              "var outputEl = gd.closest('.output');\n",
              "if (outputEl) {{\n",
              "    x.observe(outputEl, {childList: true});\n",
              "}}\n",
              "\n",
              "                        })                };                            </script>        </div>\n",
              "</body>\n",
              "</html>"
            ]
          },
          "metadata": {}
        }
      ]
    },
    {
      "cell_type": "markdown",
      "source": [
        "### Gender and Platform VS Daily Usage Time (minutes)"
      ],
      "metadata": {
        "id": "qjrxGM8iFBgp"
      }
    },
    {
      "cell_type": "code",
      "source": [
        "plt = px.histogram(train_df, x='Posts_Per_Day', y='Platform' ,color='Gender', title='Posts Per Day by Gender')\n",
        "plt.show()"
      ],
      "metadata": {
        "id": "CI03z4e7FBgp",
        "outputId": "1d71f366-fc73-467d-98f3-d61ce20ad734",
        "colab": {
          "base_uri": "https://localhost:8080/",
          "height": 542
        }
      },
      "execution_count": null,
      "outputs": [
        {
          "output_type": "display_data",
          "data": {
            "text/html": [
              "<html>\n",
              "<head><meta charset=\"utf-8\" /></head>\n",
              "<body>\n",
              "    <div>            <script src=\"https://cdnjs.cloudflare.com/ajax/libs/mathjax/2.7.5/MathJax.js?config=TeX-AMS-MML_SVG\"></script><script type=\"text/javascript\">if (window.MathJax && window.MathJax.Hub && window.MathJax.Hub.Config) {window.MathJax.Hub.Config({SVG: {font: \"STIX-Web\"}});}</script>                <script type=\"text/javascript\">window.PlotlyConfig = {MathJaxConfig: 'local'};</script>\n",
              "        <script charset=\"utf-8\" src=\"https://cdn.plot.ly/plotly-2.35.2.min.js\"></script>                <div id=\"d3b24d9c-e9a4-41e7-8b33-b542ded802c8\" class=\"plotly-graph-div\" style=\"height:525px; width:100%;\"></div>            <script type=\"text/javascript\">                                    window.PLOTLYENV=window.PLOTLYENV || {};                                    if (document.getElementById(\"d3b24d9c-e9a4-41e7-8b33-b542ded802c8\")) {                    Plotly.newPlot(                        \"d3b24d9c-e9a4-41e7-8b33-b542ded802c8\",                        [{\"alignmentgroup\":\"True\",\"bingroup\":\"y\",\"histfunc\":\"sum\",\"hovertemplate\":\"Gender=Unknown\\u003cbr\\u003esum of Posts_Per_Day=%{x}\\u003cbr\\u003ePlatform=%{y}\\u003cextra\\u003e\\u003c\\u002fextra\\u003e\",\"legendgroup\":\"Unknown\",\"marker\":{\"color\":\"#636efa\",\"pattern\":{\"shape\":\"\"}},\"name\":\"Unknown\",\"offsetgroup\":\"Unknown\",\"orientation\":\"h\",\"showlegend\":true,\"x\":[2.0,2.0,2.0,2.0,2.0,2.0,2.0,2.0,2.0,2.0,2.0,2.0,2.0,2.0,2.0,2.0,2.0,2.0,2.0,2.0,2.0,2.0,2.0,2.0,2.0,2.0,2.0,2.0,2.0,2.0,2.0,2.0,2.0,2.0,2.0,2.0,2.0,2.0,2.0,2.0,2.0,2.0,2.0,2.0,2.0,2.0,2.0,2.0,2.0,2.0,2.0,2.0,2.0,2.0,2.0,2.0,2.0,2.0,2.0,2.0,2.0,2.0,2.0,2.0,2.0,2.0,2.0,2.0,2.0,2.0,2.0,2.0,2.0,2.0,2.0,2.0,2.0,2.0,2.0,2.0,2.0,2.0,2.0,2.0,2.0,2.0,2.0,2.0,2.0,2.0,2.0,2.0,2.0,2.0,2.0,2.0,2.0,2.0,2.0,2.0,2.0,2.0,2.0,2.0,2.0,2.0,2.0,2.0,2.0,2.0,2.0,2.0,2.0,2.0,2.0,2.0,2.0,2.0,2.0,2.0,2.0,2.0,2.0,2.0,2.0,2.0,2.0,2.0,2.0,2.0,2.0,2.0,2.0,2.0,2.0,2.0,2.0,2.0,2.0,2.0,2.0,2.0,2.0,2.0,2.0,2.0,2.0,2.0,2.0,2.0,2.0,2.0,2.0,2.0,2.0,2.0,2.0,2.0,2.0,2.0,2.0,2.0,2.0,2.0,2.0,2.0,2.0,2.0,2.0,2.0,2.0,2.0,2.0,2.0,2.0,2.0,2.0,2.0,2.0,2.0,2.0,2.0,2.0,2.0,2.0,2.0,2.0,2.0,2.0,2.0,2.0,2.0,2.0,2.0,2.0,2.0,2.0,2.0,2.0,2.0,2.0,2.0,2.0,2.0,2.0,2.0,2.0,2.0,2.0,2.0,2.0,2.0,2.0,2.0,2.0,2.0,2.0,2.0,2.0,2.0,2.0,2.0,2.0,2.0,2.0,2.0,2.0,2.0,2.0,2.0,2.0,2.0,2.0,2.0,2.0,2.0,2.0,2.0,2.0,2.0,2.0,2.0,2.0,2.0,2.0,2.0,2.0,2.0,2.0,2.0,2.0,6.0,2.0,3.0,2.0,2.0,2.0,4.0,2.0,1.0,2.0,2.0,2.0,3.0,2.0,2.0,2.0,4.0,2.0,1.0,2.0,6.0,2.0,3.0,2.0,2.0,2.0,4.0,2.0,6.0,2.0,1.0,2.0,5.0,2.0,2.0,2.0,3.0,2.0,2.0,2.0,4.0,2.0,1.0,2.0,3.0,2.0,2.0,2.0,4.0,2.0,3.0,2.0,6.0,2.0,2.0,2.0,1.0,2.0,4.0,2.0,2.0,2.0,3.0,2.0,5.0,2.0,1.0,2.0,2.0,2.0,4.0,2.0,3.0,2.0,1.0,2.0,2.0,2.0,2.0,2.0,2.0,2.0,2.0,2.0,2.0,2.0,2.0,2.0,2.0,2.0,2.0,2.0,2.0,2.0,2.0,2.0,2.0,2.0,2.0,2.0,2.0,2.0,2.0,2.0,2.0,2.0,2.0,2.0,2.0,2.0,2.0,2.0,2.0,2.0,2.0,2.0,2.0,2.0,2.0,2.0,2.0,2.0,2.0,2.0,2.0,2.0,2.0,2.0,2.0,2.0,2.0,2.0,2.0,2.0,2.0,2.0,2.0,2.0,2.0,2.0,2.0,2.0,2.0,2.0,2.0,2.0,2.0,2.0,2.0,2.0,2.0,2.0,2.0,2.0,2.0,2.0,2.0,2.0,2.0,2.0,2.0,2.0,2.0,2.0,2.0,2.0,2.0,2.0,2.0,2.0,2.0,2.0,2.0,2.0,2.0,2.0,2.0,2.0,2.0,2.0,2.0,2.0,2.0,2.0,2.0,2.0,2.0,2.0,2.0,2.0,2.0,2.0,2.0,2.0,2.0,2.0,2.0,2.0,2.0,2.0,2.0,2.0,2.0,2.0,2.0,2.0,2.0,2.0,2.0,2.0,2.0,2.0,2.0,2.0,2.0,2.0,2.0,2.0,2.0,2.0,2.0,2.0,2.0,2.0,2.0,2.0,2.0,2.0,2.0,2.0,2.0,2.0,2.0,2.0,2.0,2.0,2.0,2.0,2.0,2.0,2.0,2.0,2.0,2.0,2.0,2.0,2.0,2.0,2.0,2.0,2.0,2.0,2.0,2.0,2.0,2.0,2.0,2.0,2.0,2.0,2.0,2.0,2.0,2.0,2.0,2.0,2.0,2.0,2.0,2.0,2.0,2.0,2.0,2.0,2.0,2.0,2.0,2.0,2.0,2.0,2.0,2.0,2.0,2.0,2.0,2.0,2.0,2.0,2.0,2.0,2.0,2.0,2.0,2.0,2.0,2.0,2.0,2.0,2.0,2.0,2.0,2.0,2.0,2.0,2.0,2.0,2.0,2.0,2.0,2.0,2.0,2.0,2.0,2.0,2.0,2.0,2.0,2.0,2.0,2.0,2.0,2.0,2.0,2.0,2.0,2.0,2.0,2.0,2.0,2.0,2.0,2.0,2.0,2.0,2.0,2.0,2.0,2.0,2.0,2.0,2.0,2.0,2.0,2.0,2.0,2.0,2.0,2.0,2.0,2.0,2.0,2.0,2.0,2.0,2.0,2.0,2.0,2.0,2.0,2.0,2.0,2.0,2.0,2.0,2.0,2.0,2.0,2.0,2.0,2.0,2.0,2.0,2.0,2.0,2.0,2.0,2.0,2.0,2.0,2.0,2.0,2.0,2.0,2.0,2.0,2.0,2.0,2.0,2.0,2.0,2.0,2.0,2.0,2.0,2.0,2.0,2.0,2.0,2.0,2.0,2.0,2.0,2.0,2.0,2.0,2.0,2.0,2.0,2.0,2.0,2.0,2.0,2.0,2.0,2.0,2.0,2.0,2.0,2.0,2.0,2.0,2.0,2.0,2.0,2.0,2.0,2.0,2.0,2.0,2.0,2.0,2.0,2.0,2.0,2.0,2.0,2.0,2.0,2.0,2.0,2.0,2.0,2.0,2.0,2.0,2.0,2.0,2.0,2.0,2.0,2.0,2.0,2.0,2.0,2.0,2.0,2.0,2.0,2.0,2.0,2.0,2.0,2.0,2.0,2.0,2.0,2.0,2.0,2.0,2.0,2.0,2.0,2.0,2.0,2.0,2.0,2.0,2.0,2.0,2.0,2.0,2.0,2.0,2.0,2.0,2.0,2.0,2.0,2.0,2.0,2.0,2.0,2.0,2.0,2.0,2.0,2.0,2.0,2.0,2.0,2.0,2.0,2.0,2.0,2.0,2.0,2.0,2.0,2.0,2.0,2.0,2.0,2.0,2.0,2.0,2.0,2.0,2.0,2.0,2.0,2.0,2.0,2.0,2.0,2.0,2.0,2.0,2.0,2.0,2.0,2.0,2.0,2.0,2.0,2.0,2.0,2.0,2.0,2.0,2.0,2.0,2.0,6.0,2.0,3.0,2.0,2.0,2.0,4.0,2.0,1.0,2.0,2.0,2.0,3.0,2.0,2.0,2.0,4.0,2.0,1.0,2.0,6.0,2.0,3.0,2.0,2.0,2.0,4.0,2.0,6.0,2.0,1.0,2.0,5.0,2.0,2.0,2.0,3.0,2.0,2.0,2.0,4.0,2.0,1.0,2.0,3.0,2.0,2.0,2.0,4.0,2.0,3.0,2.0,6.0,2.0,2.0,2.0,1.0,2.0,4.0,2.0,2.0,2.0,3.0,2.0,5.0,2.0,1.0,2.0,2.0,2.0,4.0,2.0,3.0,2.0,1.0,2.0,2.0,2.0,2.0,2.0,2.0,2.0,2.0,2.0,2.0,2.0,2.0,2.0,2.0,2.0,2.0,2.0,2.0,2.0,2.0,2.0,2.0,2.0,2.0,2.0,2.0,2.0,2.0,2.0,2.0,2.0,2.0,2.0,2.0,2.0,2.0,2.0,2.0,2.0,2.0,2.0,2.0,2.0,2.0,2.0,2.0,2.0,2.0,2.0,2.0,2.0,2.0,2.0,2.0,2.0,2.0,2.0,2.0,2.0,2.0,2.0,2.0,2.0,2.0,2.0,2.0,2.0,2.0,2.0,2.0,2.0,2.0,2.0,2.0,2.0,2.0,2.0,2.0,2.0,2.0,2.0,2.0,2.0,2.0,2.0,2.0,2.0,2.0,2.0,2.0,2.0,2.0,2.0,2.0,2.0,2.0,2.0,2.0,2.0,2.0,2.0,2.0,2.0,2.0,2.0,2.0,2.0,2.0,2.0,2.0,2.0,2.0,2.0,2.0,2.0,2.0,2.0,2.0,2.0,2.0,2.0,2.0,2.0,2.0,2.0,2.0,2.0,2.0,2.0,2.0,2.0,2.0,2.0,2.0,2.0,2.0,2.0,2.0,2.0,2.0,2.0,2.0,2.0,2.0,2.0,2.0,2.0,2.0,2.0,2.0,2.0,2.0,2.0,2.0,2.0,2.0,2.0,2.0,2.0,2.0,2.0,2.0,2.0,2.0,2.0,2.0,2.0,2.0,2.0,2.0,2.0,2.0,2.0,2.0,2.0,2.0,2.0,2.0,2.0,2.0,2.0,2.0,2.0,2.0,2.0,2.0,2.0,2.0,2.0,2.0,2.0,2.0,2.0,2.0,2.0,2.0,2.0,2.0,2.0,2.0,2.0,2.0,2.0,2.0,2.0,2.0,2.0,2.0,2.0,2.0,2.0,2.0],\"xaxis\":\"x\",\"y\":[\"Instagram\",\"Instagram\",\"Instagram\",\"Instagram\",\"Instagram\",\"Instagram\",\"Instagram\",\"Instagram\",\"Instagram\",\"Instagram\",\"Instagram\",\"Instagram\",\"Instagram\",\"Instagram\",\"Instagram\",\"Instagram\",\"Instagram\",\"Instagram\",\"Instagram\",\"Instagram\",\"Instagram\",\"Instagram\",\"Instagram\",\"Instagram\",\"Instagram\",\"Instagram\",\"Instagram\",\"Instagram\",\"Instagram\",\"Instagram\",\"Instagram\",\"Instagram\",\"Instagram\",\"Instagram\",\"Instagram\",\"Instagram\",\"Instagram\",\"Instagram\",\"Instagram\",\"Instagram\",\"Instagram\",\"Instagram\",\"Instagram\",\"Instagram\",\"Instagram\",\"Instagram\",\"Instagram\",\"Instagram\",\"Instagram\",\"Instagram\",\"Instagram\",\"Instagram\",\"Instagram\",\"Instagram\",\"Instagram\",\"Instagram\",\"Instagram\",\"Instagram\",\"Instagram\",\"Instagram\",\"Instagram\",\"Instagram\",\"Instagram\",\"Instagram\",\"Instagram\",\"Instagram\",\"Instagram\",\"Instagram\",\"Instagram\",\"Instagram\",\"Instagram\",\"Instagram\",\"Instagram\",\"Instagram\",\"Instagram\",\"Instagram\",\"Instagram\",\"Instagram\",\"Instagram\",\"Instagram\",\"Instagram\",\"Instagram\",\"Instagram\",\"Instagram\",\"Instagram\",\"Instagram\",\"Instagram\",\"Instagram\",\"Instagram\",\"Instagram\",\"Instagram\",\"Instagram\",\"Instagram\",\"Instagram\",\"Instagram\",\"Instagram\",\"Instagram\",\"Instagram\",\"Instagram\",\"Instagram\",\"Instagram\",\"Instagram\",\"Instagram\",\"Instagram\",\"Instagram\",\"Instagram\",\"Instagram\",\"Instagram\",\"Instagram\",\"Instagram\",\"Instagram\",\"Instagram\",\"Instagram\",\"Instagram\",\"Instagram\",\"Instagram\",\"Instagram\",\"Instagram\",\"Instagram\",\"Instagram\",\"Instagram\",\"Instagram\",\"Instagram\",\"Instagram\",\"Instagram\",\"Instagram\",\"Instagram\",\"Instagram\",\"Instagram\",\"Instagram\",\"Instagram\",\"Instagram\",\"Instagram\",\"Instagram\",\"Instagram\",\"Instagram\",\"Instagram\",\"Instagram\",\"Instagram\",\"Instagram\",\"Instagram\",\"Instagram\",\"Instagram\",\"Instagram\",\"Instagram\",\"Instagram\",\"Instagram\",\"Instagram\",\"Instagram\",\"Instagram\",\"Instagram\",\"Instagram\",\"Instagram\",\"Instagram\",\"Instagram\",\"Instagram\",\"Instagram\",\"Instagram\",\"Instagram\",\"Instagram\",\"Instagram\",\"Instagram\",\"Instagram\",\"Instagram\",\"Instagram\",\"Instagram\",\"Instagram\",\"Instagram\",\"Instagram\",\"Instagram\",\"Instagram\",\"Instagram\",\"Instagram\",\"Instagram\",\"Instagram\",\"Instagram\",\"Instagram\",\"Instagram\",\"Instagram\",\"Instagram\",\"Instagram\",\"Instagram\",\"Instagram\",\"Instagram\",\"Instagram\",\"Instagram\",\"Instagram\",\"Instagram\",\"Instagram\",\"Instagram\",\"Instagram\",\"Instagram\",\"Instagram\",\"Instagram\",\"Instagram\",\"Instagram\",\"Instagram\",\"Instagram\",\"Instagram\",\"Instagram\",\"Instagram\",\"Instagram\",\"Instagram\",\"Instagram\",\"Instagram\",\"Instagram\",\"Instagram\",\"Instagram\",\"Instagram\",\"Instagram\",\"Instagram\",\"Instagram\",\"Instagram\",\"Instagram\",\"Instagram\",\"Instagram\",\"Instagram\",\"Instagram\",\"Instagram\",\"Instagram\",\"Instagram\",\"Instagram\",\"Instagram\",\"Instagram\",\"Instagram\",\"Instagram\",\"Instagram\",\"Instagram\",\"Instagram\",\"Instagram\",\"Instagram\",\"Instagram\",\"Instagram\",\"Instagram\",\"Instagram\",\"Instagram\",\"Instagram\",\"Instagram\",\"Instagram\",\"Instagram\",\"Instagram\",\"Instagram\",\"Instagram\",\"Instagram\",\"Instagram\",\"Instagram\",\"Instagram\",\"Instagram\",\"Instagram\",\"Instagram\",\"Instagram\",\"Instagram\",\"Instagram\",\"Twitter\",\"Instagram\",\"Facebook\",\"Instagram\",\"Instagram\",\"Instagram\",\"LinkedIn\",\"Instagram\",\"Whatsapp\",\"Instagram\",\"Telegram\",\"Instagram\",\"Snapchat\",\"Instagram\",\"Twitter\",\"Instagram\",\"Facebook\",\"Instagram\",\"Instagram\",\"Instagram\",\"Whatsapp\",\"Instagram\",\"Telegram\",\"Instagram\",\"Snapchat\",\"Instagram\",\"Twitter\",\"Instagram\",\"Facebook\",\"Instagram\",\"Instagram\",\"Instagram\",\"Whatsapp\",\"Instagram\",\"Telegram\",\"Instagram\",\"Snapchat\",\"Instagram\",\"Instagram\",\"Instagram\",\"Twitter\",\"Instagram\",\"Facebook\",\"Instagram\",\"Whatsapp\",\"Instagram\",\"Telegram\",\"Instagram\",\"Snapchat\",\"Instagram\",\"Instagram\",\"Instagram\",\"Twitter\",\"Instagram\",\"Facebook\",\"Instagram\",\"Whatsapp\",\"Instagram\",\"Telegram\",\"Instagram\",\"Snapchat\",\"Instagram\",\"Instagram\",\"Instagram\",\"Twitter\",\"Instagram\",\"Facebook\",\"Instagram\",\"Whatsapp\",\"Instagram\",\"Telegram\",\"Instagram\",\"Snapchat\",\"Instagram\",\"Instagram\",\"Instagram\",\"Instagram\",\"Instagram\",\"Instagram\",\"Instagram\",\"Instagram\",\"Instagram\",\"Instagram\",\"Instagram\",\"Instagram\",\"Instagram\",\"Instagram\",\"Instagram\",\"Instagram\",\"Instagram\",\"Instagram\",\"Instagram\",\"Instagram\",\"Instagram\",\"Instagram\",\"Instagram\",\"Instagram\",\"Instagram\",\"Instagram\",\"Instagram\",\"Instagram\",\"Instagram\",\"Instagram\",\"Instagram\",\"Instagram\",\"Instagram\",\"Instagram\",\"Instagram\",\"Instagram\",\"Instagram\",\"Instagram\",\"Instagram\",\"Instagram\",\"Instagram\",\"Instagram\",\"Instagram\",\"Instagram\",\"Instagram\",\"Instagram\",\"Instagram\",\"Instagram\",\"Instagram\",\"Instagram\",\"Instagram\",\"Instagram\",\"Instagram\",\"Instagram\",\"Instagram\",\"Instagram\",\"Instagram\",\"Instagram\",\"Instagram\",\"Instagram\",\"Instagram\",\"Instagram\",\"Instagram\",\"Instagram\",\"Instagram\",\"Instagram\",\"Instagram\",\"Instagram\",\"Instagram\",\"Instagram\",\"Instagram\",\"Instagram\",\"Instagram\",\"Instagram\",\"Instagram\",\"Instagram\",\"Instagram\",\"Instagram\",\"Instagram\",\"Instagram\",\"Instagram\",\"Instagram\",\"Instagram\",\"Instagram\",\"Instagram\",\"Instagram\",\"Instagram\",\"Instagram\",\"Instagram\",\"Instagram\",\"Instagram\",\"Instagram\",\"Instagram\",\"Instagram\",\"Instagram\",\"Instagram\",\"Instagram\",\"Instagram\",\"Instagram\",\"Instagram\",\"Instagram\",\"Instagram\",\"Instagram\",\"Instagram\",\"Instagram\",\"Instagram\",\"Instagram\",\"Instagram\",\"Instagram\",\"Instagram\",\"Instagram\",\"Instagram\",\"Instagram\",\"Instagram\",\"Instagram\",\"Instagram\",\"Instagram\",\"Instagram\",\"Instagram\",\"Instagram\",\"Instagram\",\"Instagram\",\"Instagram\",\"Instagram\",\"Instagram\",\"Instagram\",\"Instagram\",\"Instagram\",\"Instagram\",\"Instagram\",\"Instagram\",\"Instagram\",\"Instagram\",\"Instagram\",\"Instagram\",\"Instagram\",\"Instagram\",\"Instagram\",\"Instagram\",\"Instagram\",\"Instagram\",\"Instagram\",\"Instagram\",\"Instagram\",\"Instagram\",\"Instagram\",\"Instagram\",\"Instagram\",\"Instagram\",\"Instagram\",\"Instagram\",\"Instagram\",\"Instagram\",\"Instagram\",\"Instagram\",\"Instagram\",\"Instagram\",\"Instagram\",\"Instagram\",\"Instagram\",\"Instagram\",\"Instagram\",\"Instagram\",\"Instagram\",\"Instagram\",\"Instagram\",\"Instagram\",\"Instagram\",\"Instagram\",\"Instagram\",\"Instagram\",\"Instagram\",\"Instagram\",\"Instagram\",\"Instagram\",\"Instagram\",\"Instagram\",\"Instagram\",\"Instagram\",\"Instagram\",\"Instagram\",\"Instagram\",\"Instagram\",\"Instagram\",\"Instagram\",\"Instagram\",\"Instagram\",\"Instagram\",\"Instagram\",\"Instagram\",\"Instagram\",\"Instagram\",\"Instagram\",\"Instagram\",\"Instagram\",\"Instagram\",\"Instagram\",\"Instagram\",\"Instagram\",\"Instagram\",\"Instagram\",\"Instagram\",\"Instagram\",\"Instagram\",\"Instagram\",\"Instagram\",\"Instagram\",\"Instagram\",\"Instagram\",\"Instagram\",\"Instagram\",\"Instagram\",\"Instagram\",\"Instagram\",\"Instagram\",\"Instagram\",\"Instagram\",\"Instagram\",\"Instagram\",\"Instagram\",\"Instagram\",\"Instagram\",\"Instagram\",\"Instagram\",\"Instagram\",\"Instagram\",\"Instagram\",\"Instagram\",\"Instagram\",\"Instagram\",\"Instagram\",\"Instagram\",\"Instagram\",\"Instagram\",\"Instagram\",\"Instagram\",\"Instagram\",\"Instagram\",\"Instagram\",\"Instagram\",\"Instagram\",\"Instagram\",\"Instagram\",\"Instagram\",\"Instagram\",\"Instagram\",\"Instagram\",\"Instagram\",\"Instagram\",\"Instagram\",\"Instagram\",\"Instagram\",\"Instagram\",\"Instagram\",\"Instagram\",\"Instagram\",\"Instagram\",\"Instagram\",\"Instagram\",\"Instagram\",\"Instagram\",\"Instagram\",\"Instagram\",\"Instagram\",\"Instagram\",\"Instagram\",\"Instagram\",\"Instagram\",\"Instagram\",\"Instagram\",\"Instagram\",\"Instagram\",\"Instagram\",\"Instagram\",\"Instagram\",\"Instagram\",\"Instagram\",\"Instagram\",\"Instagram\",\"Instagram\",\"Instagram\",\"Instagram\",\"Instagram\",\"Instagram\",\"Instagram\",\"Instagram\",\"Instagram\",\"Instagram\",\"Instagram\",\"Instagram\",\"Instagram\",\"Instagram\",\"Instagram\",\"Instagram\",\"Instagram\",\"Instagram\",\"Instagram\",\"Instagram\",\"Instagram\",\"Instagram\",\"Instagram\",\"Instagram\",\"Instagram\",\"Instagram\",\"Instagram\",\"Instagram\",\"Instagram\",\"Instagram\",\"Instagram\",\"Instagram\",\"Instagram\",\"Instagram\",\"Instagram\",\"Instagram\",\"Instagram\",\"Instagram\",\"Instagram\",\"Instagram\",\"Instagram\",\"Instagram\",\"Instagram\",\"Instagram\",\"Instagram\",\"Instagram\",\"Instagram\",\"Instagram\",\"Instagram\",\"Instagram\",\"Instagram\",\"Instagram\",\"Instagram\",\"Instagram\",\"Instagram\",\"Instagram\",\"Instagram\",\"Instagram\",\"Instagram\",\"Instagram\",\"Instagram\",\"Instagram\",\"Instagram\",\"Instagram\",\"Instagram\",\"Instagram\",\"Instagram\",\"Instagram\",\"Instagram\",\"Instagram\",\"Instagram\",\"Instagram\",\"Instagram\",\"Instagram\",\"Instagram\",\"Instagram\",\"Instagram\",\"Instagram\",\"Instagram\",\"Instagram\",\"Instagram\",\"Instagram\",\"Instagram\",\"Instagram\",\"Instagram\",\"Instagram\",\"Instagram\",\"Instagram\",\"Instagram\",\"Instagram\",\"Instagram\",\"Instagram\",\"Instagram\",\"Instagram\",\"Instagram\",\"Instagram\",\"Instagram\",\"Instagram\",\"Instagram\",\"Instagram\",\"Instagram\",\"Instagram\",\"Instagram\",\"Instagram\",\"Instagram\",\"Instagram\",\"Instagram\",\"Instagram\",\"Instagram\",\"Instagram\",\"Instagram\",\"Instagram\",\"Instagram\",\"Instagram\",\"Instagram\",\"Instagram\",\"Instagram\",\"Instagram\",\"Instagram\",\"Instagram\",\"Instagram\",\"Instagram\",\"Instagram\",\"Instagram\",\"Instagram\",\"Instagram\",\"Instagram\",\"Instagram\",\"Instagram\",\"Instagram\",\"Instagram\",\"Instagram\",\"Instagram\",\"Instagram\",\"Instagram\",\"Instagram\",\"Instagram\",\"Instagram\",\"Instagram\",\"Instagram\",\"Instagram\",\"Instagram\",\"Instagram\",\"Instagram\",\"Instagram\",\"Instagram\",\"Instagram\",\"Instagram\",\"Instagram\",\"Instagram\",\"Instagram\",\"Instagram\",\"Instagram\",\"Instagram\",\"Instagram\",\"Instagram\",\"Instagram\",\"Instagram\",\"Instagram\",\"Instagram\",\"Instagram\",\"Instagram\",\"Instagram\",\"Instagram\",\"Instagram\",\"Instagram\",\"Instagram\",\"Instagram\",\"Instagram\",\"Instagram\",\"Instagram\",\"Instagram\",\"Instagram\",\"Instagram\",\"Instagram\",\"Instagram\",\"Instagram\",\"Instagram\",\"Instagram\",\"Instagram\",\"Instagram\",\"Instagram\",\"Instagram\",\"Instagram\",\"Instagram\",\"Instagram\",\"Instagram\",\"Instagram\",\"Instagram\",\"Instagram\",\"Instagram\",\"Twitter\",\"Instagram\",\"Facebook\",\"Instagram\",\"Instagram\",\"Instagram\",\"LinkedIn\",\"Instagram\",\"Whatsapp\",\"Instagram\",\"Telegram\",\"Instagram\",\"Snapchat\",\"Instagram\",\"Twitter\",\"Instagram\",\"Facebook\",\"Instagram\",\"Instagram\",\"Instagram\",\"Whatsapp\",\"Instagram\",\"Telegram\",\"Instagram\",\"Snapchat\",\"Instagram\",\"Twitter\",\"Instagram\",\"Facebook\",\"Instagram\",\"Instagram\",\"Instagram\",\"Whatsapp\",\"Instagram\",\"Telegram\",\"Instagram\",\"Snapchat\",\"Instagram\",\"Instagram\",\"Instagram\",\"Twitter\",\"Instagram\",\"Facebook\",\"Instagram\",\"Whatsapp\",\"Instagram\",\"Telegram\",\"Instagram\",\"Snapchat\",\"Instagram\",\"Instagram\",\"Instagram\",\"Twitter\",\"Instagram\",\"Facebook\",\"Instagram\",\"Whatsapp\",\"Instagram\",\"Telegram\",\"Instagram\",\"Snapchat\",\"Instagram\",\"Instagram\",\"Instagram\",\"Twitter\",\"Instagram\",\"Facebook\",\"Instagram\",\"Whatsapp\",\"Instagram\",\"Telegram\",\"Instagram\",\"Snapchat\",\"Instagram\",\"Instagram\",\"Instagram\",\"Instagram\",\"Instagram\",\"Instagram\",\"Instagram\",\"Instagram\",\"Instagram\",\"Instagram\",\"Instagram\",\"Instagram\",\"Instagram\",\"Instagram\",\"Instagram\",\"Instagram\",\"Instagram\",\"Instagram\",\"Instagram\",\"Instagram\",\"Instagram\",\"Instagram\",\"Instagram\",\"Instagram\",\"Instagram\",\"Instagram\",\"Instagram\",\"Instagram\",\"Instagram\",\"Instagram\",\"Instagram\",\"Instagram\",\"Instagram\",\"Instagram\",\"Instagram\",\"Instagram\",\"Instagram\",\"Instagram\",\"Instagram\",\"Instagram\",\"Instagram\",\"Instagram\",\"Instagram\",\"Instagram\",\"Instagram\",\"Instagram\",\"Instagram\",\"Instagram\",\"Instagram\",\"Instagram\",\"Instagram\",\"Instagram\",\"Instagram\",\"Instagram\",\"Instagram\",\"Instagram\",\"Instagram\",\"Instagram\",\"Instagram\",\"Instagram\",\"Instagram\",\"Instagram\",\"Instagram\",\"Instagram\",\"Instagram\",\"Instagram\",\"Instagram\",\"Instagram\",\"Instagram\",\"Instagram\",\"Instagram\",\"Instagram\",\"Instagram\",\"Instagram\",\"Instagram\",\"Instagram\",\"Instagram\",\"Instagram\",\"Instagram\",\"Instagram\",\"Instagram\",\"Instagram\",\"Instagram\",\"Instagram\",\"Instagram\",\"Instagram\",\"Instagram\",\"Instagram\",\"Instagram\",\"Instagram\",\"Instagram\",\"Instagram\",\"Instagram\",\"Instagram\",\"Instagram\",\"Instagram\",\"Instagram\",\"Instagram\",\"Instagram\",\"Instagram\",\"Instagram\",\"Instagram\",\"Instagram\",\"Instagram\",\"Instagram\",\"Instagram\",\"Instagram\",\"Instagram\",\"Instagram\",\"Instagram\",\"Instagram\",\"Instagram\",\"Instagram\",\"Instagram\",\"Instagram\",\"Instagram\",\"Instagram\",\"Instagram\",\"Instagram\",\"Instagram\",\"Instagram\",\"Instagram\",\"Instagram\",\"Instagram\",\"Instagram\",\"Instagram\",\"Instagram\",\"Instagram\",\"Instagram\",\"Instagram\",\"Instagram\",\"Instagram\",\"Instagram\",\"Instagram\",\"Instagram\",\"Instagram\",\"Instagram\",\"Instagram\",\"Instagram\",\"Instagram\",\"Instagram\",\"Instagram\",\"Instagram\",\"Instagram\",\"Instagram\",\"Instagram\",\"Instagram\",\"Instagram\",\"Instagram\",\"Instagram\",\"Instagram\",\"Instagram\",\"Instagram\",\"Instagram\",\"Instagram\",\"Instagram\",\"Instagram\",\"Instagram\",\"Instagram\",\"Instagram\",\"Instagram\",\"Instagram\",\"Instagram\",\"Instagram\",\"Instagram\",\"Instagram\",\"Instagram\",\"Instagram\",\"Instagram\",\"Instagram\",\"Instagram\",\"Instagram\",\"Instagram\",\"Instagram\",\"Instagram\",\"Instagram\",\"Instagram\",\"Instagram\",\"Instagram\",\"Instagram\",\"Instagram\",\"Instagram\",\"Instagram\",\"Instagram\",\"Instagram\",\"Instagram\",\"Instagram\",\"Instagram\",\"Instagram\",\"Instagram\",\"Instagram\",\"Instagram\",\"Instagram\",\"Instagram\",\"Instagram\",\"Instagram\",\"Instagram\",\"Instagram\",\"Instagram\",\"Instagram\",\"Instagram\",\"Instagram\",\"Instagram\",\"Instagram\",\"Instagram\",\"Instagram\",\"Instagram\",\"Instagram\",\"Instagram\",\"Instagram\",\"Instagram\",\"Instagram\"],\"yaxis\":\"y\",\"type\":\"histogram\"},{\"alignmentgroup\":\"True\",\"bingroup\":\"y\",\"histfunc\":\"sum\",\"hovertemplate\":\"Gender=Female\\u003cbr\\u003esum of Posts_Per_Day=%{x}\\u003cbr\\u003ePlatform=%{y}\\u003cextra\\u003e\\u003c\\u002fextra\\u003e\",\"legendgroup\":\"Female\",\"marker\":{\"color\":\"#EF553B\",\"pattern\":{\"shape\":\"\"}},\"name\":\"Female\",\"offsetgroup\":\"Female\",\"orientation\":\"h\",\"showlegend\":true,\"x\":[3.0,8.0,3.0,2.0,4.0,7.0,4.0,5.0,4.0,3.0,6.0,2.0,6.0,7.0,3.0,6.0,1.0,3.0,1.0,3.0,4.0,2.0,4.0,6.0,4.0,2.0,4.0,2.0,6.0,4.0,5.0,4.0,6.0,4.0,2.0,1.0,4.0,5.0,8.0,3.0,2.0,4.0,8.0,5.0,6.0,4.0,3.0,6.0,2.0,6.0,7.0,3.0,6.0,1.0,3.0,1.0,3.0,4.0,2.0,4.0,6.0,4.0,2.0,4.0,2.0,6.0,4.0,5.0,4.0,6.0,4.0,2.0,1.0,4.0,5.0,8.0,3.0,2.0,4.0,8.0,5.0,6.0,4.0,3.0,6.0,2.0,6.0,7.0,3.0,6.0,1.0,3.0,1.0,6.0,4.0,2.0,1.0,4.0,5.0,8.0,3.0,2.0,4.0,8.0,5.0,6.0,4.0,3.0,6.0,2.0,6.0,7.0,3.0,6.0,1.0,3.0,1.0,3.0,4.0,2.0,4.0,6.0,4.0,2.0,4.0,2.0,6.0,4.0,5.0,4.0,6.0,4.0,2.0,1.0,4.0,5.0,8.0,3.0,2.0,4.0,8.0,5.0,6.0,4.0,3.0,6.0,2.0,6.0,7.0,3.0,6.0,1.0,3.0,1.0,3.0,4.0,2.0,4.0,6.0,4.0,2.0,4.0,2.0,6.0,4.0,5.0,4.0,6.0,4.0,2.0,1.0,4.0,5.0,8.0,3.0,2.0,4.0,8.0,5.0,6.0,4.0,3.0,6.0,2.0,6.0,7.0,3.0,6.0,1.0,3.0,1.0,3.0,4.0,2.0,4.0,6.0,4.0,2.0,4.0,2.0,6.0,4.0,5.0,4.0,6.0,4.0,2.0,1.0,4.0,5.0,8.0,3.0,2.0,4.0,8.0,5.0,6.0,4.0,3.0,6.0,2.0,6.0,7.0,3.0,6.0,1.0,3.0,1.0,3.0,4.0,2.0,4.0,6.0,4.0,2.0,4.0,2.0,6.0,4.0,5.0,4.0,6.0,4.0,2.0,1.0,4.0,5.0,8.0,3.0,2.0,4.0,8.0,5.0,6.0,4.0,3.0,6.0,2.0,6.0,7.0,3.0,6.0,1.0,3.0,1.0,6.0,4.0,2.0,1.0,4.0,5.0,8.0,3.0,2.0,4.0,8.0,5.0,6.0,4.0,3.0,6.0,2.0,6.0,7.0,3.0,6.0,1.0,3.0,1.0,3.0,4.0,2.0,4.0,6.0,4.0,2.0,4.0,2.0,6.0,4.0,5.0,4.0,6.0,4.0,2.0,1.0,4.0,5.0,8.0,3.0,2.0,4.0,8.0,5.0,6.0,4.0,3.0,6.0,2.0,6.0,7.0,3.0,6.0,1.0,3.0,1.0,3.0,4.0,2.0,4.0,6.0,4.0,2.0,4.0,2.0,6.0,4.0,5.0,4.0,6.0,4.0,2.0,1.0,4.0],\"xaxis\":\"x\",\"y\":[\"Instagram\",\"Instagram\",\"Twitter\",\"LinkedIn\",\"Twitter\",\"Instagram\",\"Instagram\",\"Instagram\",\"Twitter\",\"Twitter\",\"Instagram\",\"LinkedIn\",\"Instagram\",\"Instagram\",\"Instagram\",\"Instagram\",\"LinkedIn\",\"Twitter\",\"LinkedIn\",\"Twitter\",\"Instagram\",\"Whatsapp\",\"Twitter\",\"Instagram\",\"Snapchat\",\"Whatsapp\",\"Instagram\",\"Whatsapp\",\"Instagram\",\"Whatsapp\",\"Instagram\",\"Whatsapp\",\"Instagram\",\"Whatsapp\",\"Snapchat\",\"Facebook\",\"Snapchat\",\"Instagram\",\"Instagram\",\"Twitter\",\"LinkedIn\",\"Twitter\",\"Instagram\",\"Instagram\",\"Instagram\",\"Twitter\",\"Twitter\",\"Instagram\",\"LinkedIn\",\"Instagram\",\"Instagram\",\"Instagram\",\"Instagram\",\"LinkedIn\",\"Twitter\",\"LinkedIn\",\"Twitter\",\"Instagram\",\"Whatsapp\",\"Twitter\",\"Instagram\",\"Snapchat\",\"Whatsapp\",\"Instagram\",\"Whatsapp\",\"Instagram\",\"Whatsapp\",\"Instagram\",\"Whatsapp\",\"Instagram\",\"Whatsapp\",\"Snapchat\",\"Facebook\",\"Snapchat\",\"Instagram\",\"Instagram\",\"Twitter\",\"LinkedIn\",\"Twitter\",\"Instagram\",\"Instagram\",\"Instagram\",\"Twitter\",\"Twitter\",\"Instagram\",\"LinkedIn\",\"Instagram\",\"Instagram\",\"Instagram\",\"Instagram\",\"LinkedIn\",\"Twitter\",\"LinkedIn\",\"Instagram\",\"Whatsapp\",\"Snapchat\",\"Facebook\",\"Snapchat\",\"Instagram\",\"Instagram\",\"Twitter\",\"LinkedIn\",\"Twitter\",\"Instagram\",\"Instagram\",\"Instagram\",\"Twitter\",\"Twitter\",\"Instagram\",\"LinkedIn\",\"Instagram\",\"Instagram\",\"Instagram\",\"Instagram\",\"LinkedIn\",\"Twitter\",\"LinkedIn\",\"Twitter\",\"Instagram\",\"Whatsapp\",\"Twitter\",\"Instagram\",\"Snapchat\",\"Whatsapp\",\"Instagram\",\"Whatsapp\",\"Instagram\",\"Whatsapp\",\"Instagram\",\"Whatsapp\",\"Instagram\",\"Whatsapp\",\"Snapchat\",\"Facebook\",\"Snapchat\",\"Instagram\",\"Instagram\",\"Twitter\",\"LinkedIn\",\"Twitter\",\"Instagram\",\"Instagram\",\"Instagram\",\"Twitter\",\"Twitter\",\"Instagram\",\"LinkedIn\",\"Instagram\",\"Instagram\",\"Instagram\",\"Instagram\",\"LinkedIn\",\"Twitter\",\"LinkedIn\",\"Twitter\",\"Instagram\",\"Whatsapp\",\"Twitter\",\"Instagram\",\"Snapchat\",\"Whatsapp\",\"Instagram\",\"Whatsapp\",\"Instagram\",\"Whatsapp\",\"Instagram\",\"Whatsapp\",\"Instagram\",\"Whatsapp\",\"Snapchat\",\"Facebook\",\"Snapchat\",\"Instagram\",\"Instagram\",\"Twitter\",\"LinkedIn\",\"Twitter\",\"Instagram\",\"Instagram\",\"Instagram\",\"Twitter\",\"Twitter\",\"Instagram\",\"LinkedIn\",\"Instagram\",\"Instagram\",\"Instagram\",\"Instagram\",\"LinkedIn\",\"Twitter\",\"LinkedIn\",\"Twitter\",\"Instagram\",\"Whatsapp\",\"Twitter\",\"Instagram\",\"Snapchat\",\"Whatsapp\",\"Instagram\",\"Whatsapp\",\"Instagram\",\"Whatsapp\",\"Instagram\",\"Whatsapp\",\"Instagram\",\"Whatsapp\",\"Snapchat\",\"Facebook\",\"Snapchat\",\"Instagram\",\"Instagram\",\"Twitter\",\"LinkedIn\",\"Twitter\",\"Instagram\",\"Instagram\",\"Instagram\",\"Twitter\",\"Twitter\",\"Instagram\",\"LinkedIn\",\"Instagram\",\"Instagram\",\"Instagram\",\"Instagram\",\"LinkedIn\",\"Twitter\",\"LinkedIn\",\"Twitter\",\"Instagram\",\"Whatsapp\",\"Twitter\",\"Instagram\",\"Snapchat\",\"Whatsapp\",\"Instagram\",\"Whatsapp\",\"Instagram\",\"Whatsapp\",\"Instagram\",\"Whatsapp\",\"Instagram\",\"Whatsapp\",\"Snapchat\",\"Facebook\",\"Snapchat\",\"Instagram\",\"Instagram\",\"Twitter\",\"LinkedIn\",\"Twitter\",\"Instagram\",\"Instagram\",\"Instagram\",\"Twitter\",\"Twitter\",\"Instagram\",\"LinkedIn\",\"Instagram\",\"Instagram\",\"Instagram\",\"Instagram\",\"LinkedIn\",\"Twitter\",\"LinkedIn\",\"Instagram\",\"Whatsapp\",\"Snapchat\",\"Facebook\",\"Snapchat\",\"Instagram\",\"Instagram\",\"Twitter\",\"LinkedIn\",\"Twitter\",\"Instagram\",\"Instagram\",\"Instagram\",\"Twitter\",\"Twitter\",\"Instagram\",\"LinkedIn\",\"Instagram\",\"Instagram\",\"Instagram\",\"Instagram\",\"LinkedIn\",\"Twitter\",\"LinkedIn\",\"Twitter\",\"Instagram\",\"Whatsapp\",\"Twitter\",\"Instagram\",\"Snapchat\",\"Whatsapp\",\"Instagram\",\"Whatsapp\",\"Instagram\",\"Whatsapp\",\"Instagram\",\"Whatsapp\",\"Instagram\",\"Whatsapp\",\"Snapchat\",\"Facebook\",\"Snapchat\",\"Instagram\",\"Instagram\",\"Twitter\",\"LinkedIn\",\"Twitter\",\"Instagram\",\"Instagram\",\"Instagram\",\"Twitter\",\"Twitter\",\"Instagram\",\"LinkedIn\",\"Instagram\",\"Instagram\",\"Instagram\",\"Instagram\",\"LinkedIn\",\"Twitter\",\"LinkedIn\",\"Twitter\",\"Instagram\",\"Whatsapp\",\"Twitter\",\"Instagram\",\"Snapchat\",\"Whatsapp\",\"Instagram\",\"Whatsapp\",\"Instagram\",\"Whatsapp\",\"Instagram\",\"Whatsapp\",\"Instagram\",\"Whatsapp\",\"Snapchat\",\"Facebook\",\"Snapchat\"],\"yaxis\":\"y\",\"type\":\"histogram\"},{\"alignmentgroup\":\"True\",\"bingroup\":\"y\",\"histfunc\":\"sum\",\"hovertemplate\":\"Gender=Male\\u003cbr\\u003esum of Posts_Per_Day=%{x}\\u003cbr\\u003ePlatform=%{y}\\u003cextra\\u003e\\u003c\\u002fextra\\u003e\",\"legendgroup\":\"Male\",\"marker\":{\"color\":\"#00cc96\",\"pattern\":{\"shape\":\"\"}},\"name\":\"Male\",\"offsetgroup\":\"Male\",\"orientation\":\"h\",\"showlegend\":true,\"x\":[5.0,1.0,4.0,5.0,1.0,6.0,3.0,2.0,2.0,2.0,4.0,5.0,2.0,4.0,1.0,4.0,7.0,5.0,6.0,1.0,3.0,1.0,3.0,6.0,5.0,3.0,1.0,4.0,2.0,2.0,1.0,3.0,2.0,3.0,5.0,3.0,4.0,1.0,5.0,7.0,1.0,6.0,3.0,2.0,2.0,2.0,4.0,7.0,2.0,4.0,1.0,4.0,7.0,5.0,6.0,1.0,3.0,1.0,3.0,6.0,5.0,3.0,1.0,4.0,2.0,2.0,1.0,3.0,2.0,3.0,5.0,3.0,4.0,1.0,5.0,7.0,1.0,6.0,3.0,2.0,2.0,2.0,4.0,7.0,2.0,4.0,1.0,4.0,7.0,5.0,2.0,3.0,5.0,3.0,4.0,1.0,5.0,7.0,1.0,6.0,3.0,2.0,2.0,2.0,4.0,7.0,2.0,4.0,1.0,4.0,7.0,5.0,6.0,1.0,3.0,1.0,3.0,6.0,5.0,3.0,1.0,4.0,2.0,2.0,1.0,3.0,2.0,3.0,5.0,3.0,4.0,1.0,5.0,7.0,1.0,6.0,3.0,2.0,2.0,2.0,4.0,7.0,2.0,4.0,1.0,4.0,7.0,5.0,6.0,1.0,3.0,1.0,3.0,6.0,5.0,3.0,1.0,4.0,2.0,2.0,1.0,3.0,2.0,3.0,5.0,3.0,4.0,1.0,5.0,7.0,1.0,6.0,3.0,2.0,2.0,2.0,4.0,7.0,2.0,4.0,1.0,4.0,7.0,5.0,6.0,1.0,3.0,1.0,3.0,6.0,5.0,3.0,1.0,4.0,2.0,2.0,1.0,3.0,2.0,3.0,5.0,3.0,4.0,1.0,5.0,7.0,1.0,6.0,3.0,2.0,2.0,2.0,4.0,7.0,2.0,4.0,1.0,4.0,7.0,5.0,6.0,1.0,3.0,1.0,3.0,6.0,5.0,3.0,1.0,4.0,2.0,2.0,1.0,3.0,2.0,3.0,5.0,3.0,4.0,1.0,5.0,7.0,1.0,6.0,3.0,2.0,2.0,2.0,4.0,7.0,2.0,4.0,1.0,4.0,7.0,5.0,2.0,3.0,5.0,3.0,4.0,1.0,5.0,7.0,1.0,6.0,3.0,2.0,2.0,2.0,4.0,7.0,2.0,4.0,1.0,4.0,7.0,5.0,6.0,1.0,3.0,1.0,3.0,6.0,5.0,3.0,1.0,4.0,2.0,2.0,1.0,3.0,2.0,3.0,5.0,3.0,4.0,1.0,5.0,7.0,1.0,6.0,3.0,2.0,2.0,2.0,4.0,7.0,2.0,4.0,1.0,4.0,7.0,5.0,6.0,1.0,3.0,1.0,3.0,6.0,5.0,3.0,1.0,4.0,2.0,2.0,1.0,3.0,2.0,3.0,5.0,3.0],\"xaxis\":\"x\",\"y\":[\"Twitter\",\"LinkedIn\",\"Instagram\",\"Instagram\",\"LinkedIn\",\"Twitter\",\"Twitter\",\"Facebook\",\"LinkedIn\",\"Facebook\",\"Twitter\",\"Instagram\",\"Facebook\",\"Twitter\",\"LinkedIn\",\"Twitter\",\"Instagram\",\"Instagram\",\"Instagram\",\"LinkedIn\",\"Telegram\",\"Facebook\",\"Whatsapp\",\"Twitter\",\"Instagram\",\"Telegram\",\"Twitter\",\"Telegram\",\"Twitter\",\"Telegram\",\"Twitter\",\"Telegram\",\"Twitter\",\"Telegram\",\"Instagram\",\"Whatsapp\",\"Twitter\",\"LinkedIn\",\"Instagram\",\"Instagram\",\"LinkedIn\",\"Twitter\",\"Twitter\",\"Facebook\",\"LinkedIn\",\"Facebook\",\"Twitter\",\"Instagram\",\"Facebook\",\"Twitter\",\"LinkedIn\",\"Twitter\",\"Instagram\",\"Instagram\",\"Instagram\",\"LinkedIn\",\"Telegram\",\"Facebook\",\"Whatsapp\",\"Twitter\",\"Instagram\",\"Telegram\",\"Twitter\",\"Telegram\",\"Twitter\",\"Telegram\",\"Twitter\",\"Telegram\",\"Twitter\",\"Telegram\",\"Instagram\",\"Whatsapp\",\"Twitter\",\"LinkedIn\",\"Instagram\",\"Instagram\",\"LinkedIn\",\"Twitter\",\"Twitter\",\"Facebook\",\"LinkedIn\",\"Facebook\",\"Twitter\",\"Instagram\",\"Facebook\",\"Twitter\",\"LinkedIn\",\"Twitter\",\"Instagram\",\"Instagram\",\"Twitter\",\"Telegram\",\"Instagram\",\"Whatsapp\",\"Twitter\",\"LinkedIn\",\"Instagram\",\"Instagram\",\"LinkedIn\",\"Twitter\",\"Twitter\",\"Facebook\",\"LinkedIn\",\"Facebook\",\"Twitter\",\"Instagram\",\"Facebook\",\"Twitter\",\"LinkedIn\",\"Twitter\",\"Instagram\",\"Instagram\",\"Instagram\",\"LinkedIn\",\"Telegram\",\"Facebook\",\"Whatsapp\",\"Twitter\",\"Instagram\",\"Telegram\",\"Twitter\",\"Telegram\",\"Twitter\",\"Telegram\",\"Twitter\",\"Telegram\",\"Twitter\",\"Telegram\",\"Instagram\",\"Whatsapp\",\"Twitter\",\"LinkedIn\",\"Instagram\",\"Instagram\",\"LinkedIn\",\"Twitter\",\"Twitter\",\"Facebook\",\"LinkedIn\",\"Facebook\",\"Twitter\",\"Instagram\",\"Facebook\",\"Twitter\",\"LinkedIn\",\"Twitter\",\"Instagram\",\"Instagram\",\"Instagram\",\"LinkedIn\",\"Telegram\",\"Facebook\",\"Whatsapp\",\"Twitter\",\"Instagram\",\"Telegram\",\"Twitter\",\"Telegram\",\"Twitter\",\"Telegram\",\"Twitter\",\"Telegram\",\"Twitter\",\"Telegram\",\"Instagram\",\"Whatsapp\",\"Twitter\",\"LinkedIn\",\"Instagram\",\"Instagram\",\"LinkedIn\",\"Twitter\",\"Twitter\",\"Facebook\",\"LinkedIn\",\"Facebook\",\"Twitter\",\"Instagram\",\"Facebook\",\"Twitter\",\"LinkedIn\",\"Twitter\",\"Instagram\",\"Instagram\",\"Instagram\",\"LinkedIn\",\"Telegram\",\"Facebook\",\"Whatsapp\",\"Twitter\",\"Instagram\",\"Telegram\",\"Twitter\",\"Telegram\",\"Twitter\",\"Telegram\",\"Twitter\",\"Telegram\",\"Twitter\",\"Telegram\",\"Instagram\",\"Whatsapp\",\"Twitter\",\"LinkedIn\",\"Instagram\",\"Instagram\",\"LinkedIn\",\"Twitter\",\"Twitter\",\"Facebook\",\"LinkedIn\",\"Facebook\",\"Twitter\",\"Instagram\",\"Facebook\",\"Twitter\",\"LinkedIn\",\"Twitter\",\"Instagram\",\"Instagram\",\"Instagram\",\"LinkedIn\",\"Telegram\",\"Facebook\",\"Whatsapp\",\"Twitter\",\"Instagram\",\"Telegram\",\"Twitter\",\"Telegram\",\"Twitter\",\"Telegram\",\"Twitter\",\"Telegram\",\"Twitter\",\"Telegram\",\"Instagram\",\"Whatsapp\",\"Twitter\",\"LinkedIn\",\"Instagram\",\"Instagram\",\"LinkedIn\",\"Twitter\",\"Twitter\",\"Facebook\",\"LinkedIn\",\"Facebook\",\"Twitter\",\"Instagram\",\"Facebook\",\"Twitter\",\"LinkedIn\",\"Twitter\",\"Instagram\",\"Instagram\",\"Twitter\",\"Telegram\",\"Instagram\",\"Whatsapp\",\"Twitter\",\"LinkedIn\",\"Instagram\",\"Instagram\",\"LinkedIn\",\"Twitter\",\"Twitter\",\"Facebook\",\"LinkedIn\",\"Facebook\",\"Twitter\",\"Instagram\",\"Facebook\",\"Twitter\",\"LinkedIn\",\"Twitter\",\"Instagram\",\"Instagram\",\"Instagram\",\"LinkedIn\",\"Telegram\",\"Facebook\",\"Whatsapp\",\"Twitter\",\"Instagram\",\"Telegram\",\"Twitter\",\"Telegram\",\"Twitter\",\"Telegram\",\"Twitter\",\"Telegram\",\"Twitter\",\"Telegram\",\"Instagram\",\"Whatsapp\",\"Twitter\",\"LinkedIn\",\"Instagram\",\"Instagram\",\"LinkedIn\",\"Twitter\",\"Twitter\",\"Facebook\",\"LinkedIn\",\"Facebook\",\"Twitter\",\"Instagram\",\"Facebook\",\"Twitter\",\"LinkedIn\",\"Twitter\",\"Instagram\",\"Instagram\",\"Instagram\",\"LinkedIn\",\"Telegram\",\"Facebook\",\"Whatsapp\",\"Twitter\",\"Instagram\",\"Telegram\",\"Twitter\",\"Telegram\",\"Twitter\",\"Telegram\",\"Twitter\",\"Telegram\",\"Twitter\",\"Telegram\",\"Instagram\",\"Whatsapp\"],\"yaxis\":\"y\",\"type\":\"histogram\"},{\"alignmentgroup\":\"True\",\"bingroup\":\"y\",\"histfunc\":\"sum\",\"hovertemplate\":\"Gender=Non-binary\\u003cbr\\u003esum of Posts_Per_Day=%{x}\\u003cbr\\u003ePlatform=%{y}\\u003cextra\\u003e\\u003c\\u002fextra\\u003e\",\"legendgroup\":\"Non-binary\",\"marker\":{\"color\":\"#ab63fa\",\"pattern\":{\"shape\":\"\"}},\"name\":\"Non-binary\",\"offsetgroup\":\"Non-binary\",\"orientation\":\"h\",\"showlegend\":true,\"x\":[2.0,6.0,3.0,1.0,1.0,8.0,1.0,1.0,3.0,1.0,2.0,2.0,2.0,2.0,2.0,2.0,1.0,2.0,3.0,3.0,1.0,3.0,2.0,1.0,1.0,4.0,2.0,2.0,6.0,3.0,1.0,1.0,8.0,1.0,1.0,3.0,1.0,2.0,2.0,2.0,2.0,2.0,2.0,1.0,2.0,3.0,3.0,1.0,3.0,2.0,1.0,1.0,4.0,2.0,2.0,6.0,3.0,1.0,1.0,8.0,1.0,1.0,3.0,1.0,2.0,2.0,2.0,1.0,4.0,2.0,2.0,6.0,3.0,1.0,1.0,8.0,1.0,1.0,3.0,1.0,2.0,2.0,2.0,2.0,2.0,2.0,1.0,2.0,3.0,3.0,1.0,3.0,2.0,1.0,1.0,4.0,2.0,2.0,6.0,3.0,1.0,1.0,8.0,1.0,1.0,3.0,1.0,2.0,2.0,2.0,2.0,2.0,2.0,1.0,2.0,3.0,3.0,1.0,3.0,2.0,1.0,1.0,4.0,2.0,2.0,6.0,3.0,1.0,1.0,8.0,1.0,1.0,3.0,1.0,2.0,2.0,2.0,2.0,2.0,2.0,1.0,2.0,3.0,3.0,1.0,3.0,2.0,1.0,1.0,4.0,2.0,2.0,6.0,3.0,1.0,1.0,8.0,1.0,1.0,3.0,1.0,2.0,2.0,2.0,2.0,2.0,2.0,1.0,2.0,3.0,3.0,1.0,3.0,2.0,1.0,1.0,4.0,2.0,2.0,6.0,3.0,1.0,1.0,8.0,1.0,1.0,3.0,1.0,2.0,2.0,2.0,1.0,4.0,2.0,2.0,6.0,3.0,1.0,1.0,8.0,1.0,1.0,3.0,1.0,2.0,2.0,2.0,2.0,2.0,2.0,1.0,2.0,3.0,3.0,1.0,3.0,2.0,1.0,1.0,4.0,2.0,2.0,6.0,3.0,1.0,1.0,8.0,1.0,1.0,3.0,1.0,2.0,2.0,2.0,2.0,2.0,2.0,1.0,2.0,3.0,3.0,1.0,3.0,2.0,1.0,1.0,4.0,2.0],\"xaxis\":\"x\",\"y\":[\"Facebook\",\"Facebook\",\"Facebook\",\"Facebook\",\"LinkedIn\",\"Instagram\",\"LinkedIn\",\"Facebook\",\"Twitter\",\"LinkedIn\",\"Facebook\",\"Facebook\",\"Facebook\",\"Facebook\",\"Snapchat\",\"Telegram\",\"Facebook\",\"Snapchat\",\"Facebook\",\"Snapchat\",\"Facebook\",\"Snapchat\",\"Facebook\",\"Snapchat\",\"Facebook\",\"Twitter\",\"Telegram\",\"Facebook\",\"Facebook\",\"Facebook\",\"Facebook\",\"LinkedIn\",\"Instagram\",\"LinkedIn\",\"Facebook\",\"Twitter\",\"LinkedIn\",\"Facebook\",\"Facebook\",\"Facebook\",\"Facebook\",\"Snapchat\",\"Telegram\",\"Facebook\",\"Snapchat\",\"Facebook\",\"Snapchat\",\"Facebook\",\"Snapchat\",\"Facebook\",\"Snapchat\",\"Facebook\",\"Twitter\",\"Telegram\",\"Facebook\",\"Facebook\",\"Facebook\",\"Facebook\",\"LinkedIn\",\"Instagram\",\"LinkedIn\",\"Facebook\",\"Twitter\",\"LinkedIn\",\"Facebook\",\"Facebook\",\"Facebook\",\"Facebook\",\"Twitter\",\"Telegram\",\"Facebook\",\"Facebook\",\"Facebook\",\"Facebook\",\"LinkedIn\",\"Instagram\",\"LinkedIn\",\"Facebook\",\"Twitter\",\"LinkedIn\",\"Facebook\",\"Facebook\",\"Facebook\",\"Facebook\",\"Snapchat\",\"Telegram\",\"Facebook\",\"Snapchat\",\"Facebook\",\"Snapchat\",\"Facebook\",\"Snapchat\",\"Facebook\",\"Snapchat\",\"Facebook\",\"Twitter\",\"Telegram\",\"Facebook\",\"Facebook\",\"Facebook\",\"Facebook\",\"LinkedIn\",\"Instagram\",\"LinkedIn\",\"Facebook\",\"Twitter\",\"LinkedIn\",\"Facebook\",\"Facebook\",\"Facebook\",\"Facebook\",\"Snapchat\",\"Telegram\",\"Facebook\",\"Snapchat\",\"Facebook\",\"Snapchat\",\"Facebook\",\"Snapchat\",\"Facebook\",\"Snapchat\",\"Facebook\",\"Twitter\",\"Telegram\",\"Facebook\",\"Facebook\",\"Facebook\",\"Facebook\",\"LinkedIn\",\"Instagram\",\"LinkedIn\",\"Facebook\",\"Twitter\",\"LinkedIn\",\"Facebook\",\"Facebook\",\"Facebook\",\"Facebook\",\"Snapchat\",\"Telegram\",\"Facebook\",\"Snapchat\",\"Facebook\",\"Snapchat\",\"Facebook\",\"Snapchat\",\"Facebook\",\"Snapchat\",\"Facebook\",\"Twitter\",\"Telegram\",\"Facebook\",\"Facebook\",\"Facebook\",\"Facebook\",\"LinkedIn\",\"Instagram\",\"LinkedIn\",\"Facebook\",\"Twitter\",\"LinkedIn\",\"Facebook\",\"Facebook\",\"Facebook\",\"Facebook\",\"Snapchat\",\"Telegram\",\"Facebook\",\"Snapchat\",\"Facebook\",\"Snapchat\",\"Facebook\",\"Snapchat\",\"Facebook\",\"Snapchat\",\"Facebook\",\"Twitter\",\"Telegram\",\"Facebook\",\"Facebook\",\"Facebook\",\"Facebook\",\"LinkedIn\",\"Instagram\",\"LinkedIn\",\"Facebook\",\"Twitter\",\"LinkedIn\",\"Facebook\",\"Facebook\",\"Facebook\",\"Facebook\",\"Twitter\",\"Telegram\",\"Facebook\",\"Facebook\",\"Facebook\",\"Facebook\",\"LinkedIn\",\"Instagram\",\"LinkedIn\",\"Facebook\",\"Twitter\",\"LinkedIn\",\"Facebook\",\"Facebook\",\"Facebook\",\"Facebook\",\"Snapchat\",\"Telegram\",\"Facebook\",\"Snapchat\",\"Facebook\",\"Snapchat\",\"Facebook\",\"Snapchat\",\"Facebook\",\"Snapchat\",\"Facebook\",\"Twitter\",\"Telegram\",\"Facebook\",\"Facebook\",\"Facebook\",\"Facebook\",\"LinkedIn\",\"Instagram\",\"LinkedIn\",\"Facebook\",\"Twitter\",\"LinkedIn\",\"Facebook\",\"Facebook\",\"Facebook\",\"Facebook\",\"Snapchat\",\"Telegram\",\"Facebook\",\"Snapchat\",\"Facebook\",\"Snapchat\",\"Facebook\",\"Snapchat\",\"Facebook\",\"Snapchat\",\"Facebook\",\"Twitter\",\"Telegram\"],\"yaxis\":\"y\",\"type\":\"histogram\"}],                        {\"template\":{\"data\":{\"histogram2dcontour\":[{\"type\":\"histogram2dcontour\",\"colorbar\":{\"outlinewidth\":0,\"ticks\":\"\"},\"colorscale\":[[0.0,\"#0d0887\"],[0.1111111111111111,\"#46039f\"],[0.2222222222222222,\"#7201a8\"],[0.3333333333333333,\"#9c179e\"],[0.4444444444444444,\"#bd3786\"],[0.5555555555555556,\"#d8576b\"],[0.6666666666666666,\"#ed7953\"],[0.7777777777777778,\"#fb9f3a\"],[0.8888888888888888,\"#fdca26\"],[1.0,\"#f0f921\"]]}],\"choropleth\":[{\"type\":\"choropleth\",\"colorbar\":{\"outlinewidth\":0,\"ticks\":\"\"}}],\"histogram2d\":[{\"type\":\"histogram2d\",\"colorbar\":{\"outlinewidth\":0,\"ticks\":\"\"},\"colorscale\":[[0.0,\"#0d0887\"],[0.1111111111111111,\"#46039f\"],[0.2222222222222222,\"#7201a8\"],[0.3333333333333333,\"#9c179e\"],[0.4444444444444444,\"#bd3786\"],[0.5555555555555556,\"#d8576b\"],[0.6666666666666666,\"#ed7953\"],[0.7777777777777778,\"#fb9f3a\"],[0.8888888888888888,\"#fdca26\"],[1.0,\"#f0f921\"]]}],\"heatmap\":[{\"type\":\"heatmap\",\"colorbar\":{\"outlinewidth\":0,\"ticks\":\"\"},\"colorscale\":[[0.0,\"#0d0887\"],[0.1111111111111111,\"#46039f\"],[0.2222222222222222,\"#7201a8\"],[0.3333333333333333,\"#9c179e\"],[0.4444444444444444,\"#bd3786\"],[0.5555555555555556,\"#d8576b\"],[0.6666666666666666,\"#ed7953\"],[0.7777777777777778,\"#fb9f3a\"],[0.8888888888888888,\"#fdca26\"],[1.0,\"#f0f921\"]]}],\"heatmapgl\":[{\"type\":\"heatmapgl\",\"colorbar\":{\"outlinewidth\":0,\"ticks\":\"\"},\"colorscale\":[[0.0,\"#0d0887\"],[0.1111111111111111,\"#46039f\"],[0.2222222222222222,\"#7201a8\"],[0.3333333333333333,\"#9c179e\"],[0.4444444444444444,\"#bd3786\"],[0.5555555555555556,\"#d8576b\"],[0.6666666666666666,\"#ed7953\"],[0.7777777777777778,\"#fb9f3a\"],[0.8888888888888888,\"#fdca26\"],[1.0,\"#f0f921\"]]}],\"contourcarpet\":[{\"type\":\"contourcarpet\",\"colorbar\":{\"outlinewidth\":0,\"ticks\":\"\"}}],\"contour\":[{\"type\":\"contour\",\"colorbar\":{\"outlinewidth\":0,\"ticks\":\"\"},\"colorscale\":[[0.0,\"#0d0887\"],[0.1111111111111111,\"#46039f\"],[0.2222222222222222,\"#7201a8\"],[0.3333333333333333,\"#9c179e\"],[0.4444444444444444,\"#bd3786\"],[0.5555555555555556,\"#d8576b\"],[0.6666666666666666,\"#ed7953\"],[0.7777777777777778,\"#fb9f3a\"],[0.8888888888888888,\"#fdca26\"],[1.0,\"#f0f921\"]]}],\"surface\":[{\"type\":\"surface\",\"colorbar\":{\"outlinewidth\":0,\"ticks\":\"\"},\"colorscale\":[[0.0,\"#0d0887\"],[0.1111111111111111,\"#46039f\"],[0.2222222222222222,\"#7201a8\"],[0.3333333333333333,\"#9c179e\"],[0.4444444444444444,\"#bd3786\"],[0.5555555555555556,\"#d8576b\"],[0.6666666666666666,\"#ed7953\"],[0.7777777777777778,\"#fb9f3a\"],[0.8888888888888888,\"#fdca26\"],[1.0,\"#f0f921\"]]}],\"mesh3d\":[{\"type\":\"mesh3d\",\"colorbar\":{\"outlinewidth\":0,\"ticks\":\"\"}}],\"scatter\":[{\"fillpattern\":{\"fillmode\":\"overlay\",\"size\":10,\"solidity\":0.2},\"type\":\"scatter\"}],\"parcoords\":[{\"type\":\"parcoords\",\"line\":{\"colorbar\":{\"outlinewidth\":0,\"ticks\":\"\"}}}],\"scatterpolargl\":[{\"type\":\"scatterpolargl\",\"marker\":{\"colorbar\":{\"outlinewidth\":0,\"ticks\":\"\"}}}],\"bar\":[{\"error_x\":{\"color\":\"#2a3f5f\"},\"error_y\":{\"color\":\"#2a3f5f\"},\"marker\":{\"line\":{\"color\":\"#E5ECF6\",\"width\":0.5},\"pattern\":{\"fillmode\":\"overlay\",\"size\":10,\"solidity\":0.2}},\"type\":\"bar\"}],\"scattergeo\":[{\"type\":\"scattergeo\",\"marker\":{\"colorbar\":{\"outlinewidth\":0,\"ticks\":\"\"}}}],\"scatterpolar\":[{\"type\":\"scatterpolar\",\"marker\":{\"colorbar\":{\"outlinewidth\":0,\"ticks\":\"\"}}}],\"histogram\":[{\"marker\":{\"pattern\":{\"fillmode\":\"overlay\",\"size\":10,\"solidity\":0.2}},\"type\":\"histogram\"}],\"scattergl\":[{\"type\":\"scattergl\",\"marker\":{\"colorbar\":{\"outlinewidth\":0,\"ticks\":\"\"}}}],\"scatter3d\":[{\"type\":\"scatter3d\",\"line\":{\"colorbar\":{\"outlinewidth\":0,\"ticks\":\"\"}},\"marker\":{\"colorbar\":{\"outlinewidth\":0,\"ticks\":\"\"}}}],\"scattermapbox\":[{\"type\":\"scattermapbox\",\"marker\":{\"colorbar\":{\"outlinewidth\":0,\"ticks\":\"\"}}}],\"scatterternary\":[{\"type\":\"scatterternary\",\"marker\":{\"colorbar\":{\"outlinewidth\":0,\"ticks\":\"\"}}}],\"scattercarpet\":[{\"type\":\"scattercarpet\",\"marker\":{\"colorbar\":{\"outlinewidth\":0,\"ticks\":\"\"}}}],\"carpet\":[{\"aaxis\":{\"endlinecolor\":\"#2a3f5f\",\"gridcolor\":\"white\",\"linecolor\":\"white\",\"minorgridcolor\":\"white\",\"startlinecolor\":\"#2a3f5f\"},\"baxis\":{\"endlinecolor\":\"#2a3f5f\",\"gridcolor\":\"white\",\"linecolor\":\"white\",\"minorgridcolor\":\"white\",\"startlinecolor\":\"#2a3f5f\"},\"type\":\"carpet\"}],\"table\":[{\"cells\":{\"fill\":{\"color\":\"#EBF0F8\"},\"line\":{\"color\":\"white\"}},\"header\":{\"fill\":{\"color\":\"#C8D4E3\"},\"line\":{\"color\":\"white\"}},\"type\":\"table\"}],\"barpolar\":[{\"marker\":{\"line\":{\"color\":\"#E5ECF6\",\"width\":0.5},\"pattern\":{\"fillmode\":\"overlay\",\"size\":10,\"solidity\":0.2}},\"type\":\"barpolar\"}],\"pie\":[{\"automargin\":true,\"type\":\"pie\"}]},\"layout\":{\"autotypenumbers\":\"strict\",\"colorway\":[\"#636efa\",\"#EF553B\",\"#00cc96\",\"#ab63fa\",\"#FFA15A\",\"#19d3f3\",\"#FF6692\",\"#B6E880\",\"#FF97FF\",\"#FECB52\"],\"font\":{\"color\":\"#2a3f5f\"},\"hovermode\":\"closest\",\"hoverlabel\":{\"align\":\"left\"},\"paper_bgcolor\":\"white\",\"plot_bgcolor\":\"#E5ECF6\",\"polar\":{\"bgcolor\":\"#E5ECF6\",\"angularaxis\":{\"gridcolor\":\"white\",\"linecolor\":\"white\",\"ticks\":\"\"},\"radialaxis\":{\"gridcolor\":\"white\",\"linecolor\":\"white\",\"ticks\":\"\"}},\"ternary\":{\"bgcolor\":\"#E5ECF6\",\"aaxis\":{\"gridcolor\":\"white\",\"linecolor\":\"white\",\"ticks\":\"\"},\"baxis\":{\"gridcolor\":\"white\",\"linecolor\":\"white\",\"ticks\":\"\"},\"caxis\":{\"gridcolor\":\"white\",\"linecolor\":\"white\",\"ticks\":\"\"}},\"coloraxis\":{\"colorbar\":{\"outlinewidth\":0,\"ticks\":\"\"}},\"colorscale\":{\"sequential\":[[0.0,\"#0d0887\"],[0.1111111111111111,\"#46039f\"],[0.2222222222222222,\"#7201a8\"],[0.3333333333333333,\"#9c179e\"],[0.4444444444444444,\"#bd3786\"],[0.5555555555555556,\"#d8576b\"],[0.6666666666666666,\"#ed7953\"],[0.7777777777777778,\"#fb9f3a\"],[0.8888888888888888,\"#fdca26\"],[1.0,\"#f0f921\"]],\"sequentialminus\":[[0.0,\"#0d0887\"],[0.1111111111111111,\"#46039f\"],[0.2222222222222222,\"#7201a8\"],[0.3333333333333333,\"#9c179e\"],[0.4444444444444444,\"#bd3786\"],[0.5555555555555556,\"#d8576b\"],[0.6666666666666666,\"#ed7953\"],[0.7777777777777778,\"#fb9f3a\"],[0.8888888888888888,\"#fdca26\"],[1.0,\"#f0f921\"]],\"diverging\":[[0,\"#8e0152\"],[0.1,\"#c51b7d\"],[0.2,\"#de77ae\"],[0.3,\"#f1b6da\"],[0.4,\"#fde0ef\"],[0.5,\"#f7f7f7\"],[0.6,\"#e6f5d0\"],[0.7,\"#b8e186\"],[0.8,\"#7fbc41\"],[0.9,\"#4d9221\"],[1,\"#276419\"]]},\"xaxis\":{\"gridcolor\":\"white\",\"linecolor\":\"white\",\"ticks\":\"\",\"title\":{\"standoff\":15},\"zerolinecolor\":\"white\",\"automargin\":true,\"zerolinewidth\":2},\"yaxis\":{\"gridcolor\":\"white\",\"linecolor\":\"white\",\"ticks\":\"\",\"title\":{\"standoff\":15},\"zerolinecolor\":\"white\",\"automargin\":true,\"zerolinewidth\":2},\"scene\":{\"xaxis\":{\"backgroundcolor\":\"#E5ECF6\",\"gridcolor\":\"white\",\"linecolor\":\"white\",\"showbackground\":true,\"ticks\":\"\",\"zerolinecolor\":\"white\",\"gridwidth\":2},\"yaxis\":{\"backgroundcolor\":\"#E5ECF6\",\"gridcolor\":\"white\",\"linecolor\":\"white\",\"showbackground\":true,\"ticks\":\"\",\"zerolinecolor\":\"white\",\"gridwidth\":2},\"zaxis\":{\"backgroundcolor\":\"#E5ECF6\",\"gridcolor\":\"white\",\"linecolor\":\"white\",\"showbackground\":true,\"ticks\":\"\",\"zerolinecolor\":\"white\",\"gridwidth\":2}},\"shapedefaults\":{\"line\":{\"color\":\"#2a3f5f\"}},\"annotationdefaults\":{\"arrowcolor\":\"#2a3f5f\",\"arrowhead\":0,\"arrowwidth\":1},\"geo\":{\"bgcolor\":\"white\",\"landcolor\":\"#E5ECF6\",\"subunitcolor\":\"white\",\"showland\":true,\"showlakes\":true,\"lakecolor\":\"white\"},\"title\":{\"x\":0.05},\"mapbox\":{\"style\":\"light\"}}},\"xaxis\":{\"anchor\":\"y\",\"domain\":[0.0,1.0],\"title\":{\"text\":\"sum of Posts_Per_Day\"}},\"yaxis\":{\"anchor\":\"x\",\"domain\":[0.0,1.0],\"title\":{\"text\":\"Platform\"}},\"legend\":{\"title\":{\"text\":\"Gender\"},\"tracegroupgap\":0},\"title\":{\"text\":\"Posts Per Day by Gender\"},\"barmode\":\"relative\"},                        {\"responsive\": true}                    ).then(function(){\n",
              "                            \n",
              "var gd = document.getElementById('d3b24d9c-e9a4-41e7-8b33-b542ded802c8');\n",
              "var x = new MutationObserver(function (mutations, observer) {{\n",
              "        var display = window.getComputedStyle(gd).display;\n",
              "        if (!display || display === 'none') {{\n",
              "            console.log([gd, 'removed!']);\n",
              "            Plotly.purge(gd);\n",
              "            observer.disconnect();\n",
              "        }}\n",
              "}});\n",
              "\n",
              "// Listen for the removal of the full notebook cells\n",
              "var notebookContainer = gd.closest('#notebook-container');\n",
              "if (notebookContainer) {{\n",
              "    x.observe(notebookContainer, {childList: true});\n",
              "}}\n",
              "\n",
              "// Listen for the clearing of the current output cell\n",
              "var outputEl = gd.closest('.output');\n",
              "if (outputEl) {{\n",
              "    x.observe(outputEl, {childList: true});\n",
              "}}\n",
              "\n",
              "                        })                };                            </script>        </div>\n",
              "</body>\n",
              "</html>"
            ]
          },
          "metadata": {}
        }
      ]
    },
    {
      "cell_type": "markdown",
      "source": [
        "### Gender VS Emotions"
      ],
      "metadata": {
        "id": "-KVpZSikFBgp"
      }
    },
    {
      "cell_type": "code",
      "source": [
        "# checking the Gender againest the Dominant_Emotion\n",
        "grouped = train_df.groupby(['Gender', 'Dominant_Emotion'])\n",
        "\n",
        "# count the number of rows in each group\n",
        "counts = grouped.size()\n",
        "\n",
        "# print the counts\n",
        "print(counts)"
      ],
      "metadata": {
        "id": "fvh6ouoCFBgp",
        "outputId": "35a99baa-3e9b-4bcb-99f2-be61b8ad82ca",
        "colab": {
          "base_uri": "https://localhost:8080/"
        }
      },
      "execution_count": null,
      "outputs": [
        {
          "output_type": "stream",
          "name": "stdout",
          "text": [
            "Gender      Dominant_Emotion\n",
            "Female      Anger                 54\n",
            "            Anxiety               54\n",
            "            Boredom               30\n",
            "            Happiness            102\n",
            "            Neutral               56\n",
            "            Sadness               48\n",
            "Male        Anger                 58\n",
            "            Anxiety               56\n",
            "            Boredom               54\n",
            "            Happiness             66\n",
            "            Neutral               46\n",
            "            Sadness               52\n",
            "Non-binary  Anger                 10\n",
            "            Anxiety               46\n",
            "            Boredom               46\n",
            "            Happiness             18\n",
            "            Neutral               82\n",
            "            Sadness               46\n",
            "Unknown     Anger                  8\n",
            "            Anxiety               14\n",
            "            Boredom               10\n",
            "            Happiness           1018\n",
            "            Neutral               16\n",
            "            Sadness               14\n",
            "dtype: int64\n"
          ]
        }
      ]
    },
    {
      "cell_type": "code",
      "source": [
        "# ploting\n",
        "plt = px.histogram(train_df, x='Gender', color='Dominant_Emotion', title='Dominant Emotion by Gender')\n",
        "plt.show()"
      ],
      "metadata": {
        "id": "RAcOc1f5FBgp",
        "outputId": "2ddc9309-ef01-4ca5-ead1-24608b171f6b",
        "colab": {
          "base_uri": "https://localhost:8080/",
          "height": 542
        }
      },
      "execution_count": null,
      "outputs": [
        {
          "output_type": "display_data",
          "data": {
            "text/html": [
              "<html>\n",
              "<head><meta charset=\"utf-8\" /></head>\n",
              "<body>\n",
              "    <div>            <script src=\"https://cdnjs.cloudflare.com/ajax/libs/mathjax/2.7.5/MathJax.js?config=TeX-AMS-MML_SVG\"></script><script type=\"text/javascript\">if (window.MathJax && window.MathJax.Hub && window.MathJax.Hub.Config) {window.MathJax.Hub.Config({SVG: {font: \"STIX-Web\"}});}</script>                <script type=\"text/javascript\">window.PlotlyConfig = {MathJaxConfig: 'local'};</script>\n",
              "        <script charset=\"utf-8\" src=\"https://cdn.plot.ly/plotly-2.35.2.min.js\"></script>                <div id=\"7b9d1b40-05de-412e-ba50-65a34b99551d\" class=\"plotly-graph-div\" style=\"height:525px; width:100%;\"></div>            <script type=\"text/javascript\">                                    window.PLOTLYENV=window.PLOTLYENV || {};                                    if (document.getElementById(\"7b9d1b40-05de-412e-ba50-65a34b99551d\")) {                    Plotly.newPlot(                        \"7b9d1b40-05de-412e-ba50-65a34b99551d\",                        [{\"alignmentgroup\":\"True\",\"bingroup\":\"x\",\"hovertemplate\":\"Dominant_Emotion=Happiness\\u003cbr\\u003eGender=%{x}\\u003cbr\\u003ecount=%{y}\\u003cextra\\u003e\\u003c\\u002fextra\\u003e\",\"legendgroup\":\"Happiness\",\"marker\":{\"color\":\"#636efa\",\"pattern\":{\"shape\":\"\"}},\"name\":\"Happiness\",\"offsetgroup\":\"Happiness\",\"orientation\":\"v\",\"showlegend\":true,\"x\":[\"Unknown\",\"Female\",\"Unknown\",\"Unknown\",\"Unknown\",\"Unknown\",\"Unknown\",\"Male\",\"Unknown\",\"Unknown\",\"Unknown\",\"Unknown\",\"Male\",\"Unknown\",\"Unknown\",\"Unknown\",\"Unknown\",\"Female\",\"Unknown\",\"Unknown\",\"Unknown\",\"Unknown\",\"Unknown\",\"Unknown\",\"Female\",\"Unknown\",\"Unknown\",\"Unknown\",\"Unknown\",\"Non-binary\",\"Unknown\",\"Unknown\",\"Unknown\",\"Unknown\",\"Female\",\"Unknown\",\"Unknown\",\"Unknown\",\"Unknown\",\"Male\",\"Unknown\",\"Unknown\",\"Unknown\",\"Unknown\",\"Unknown\",\"Female\",\"Unknown\",\"Unknown\",\"Unknown\",\"Unknown\",\"Unknown\",\"Female\",\"Unknown\",\"Unknown\",\"Unknown\",\"Unknown\",\"Male\",\"Unknown\",\"Unknown\",\"Unknown\",\"Unknown\",\"Unknown\",\"Male\",\"Unknown\",\"Unknown\",\"Unknown\",\"Unknown\",\"Unknown\",\"Unknown\",\"Unknown\",\"Unknown\",\"Female\",\"Unknown\",\"Unknown\",\"Female\",\"Unknown\",\"Unknown\",\"Unknown\",\"Unknown\",\"Unknown\",\"Unknown\",\"Male\",\"Unknown\",\"Unknown\",\"Unknown\",\"Unknown\",\"Female\",\"Unknown\",\"Unknown\",\"Unknown\",\"Unknown\",\"Unknown\",\"Unknown\",\"Female\",\"Unknown\",\"Unknown\",\"Unknown\",\"Unknown\",\"Unknown\",\"Non-binary\",\"Unknown\",\"Unknown\",\"Unknown\",\"Unknown\",\"Unknown\",\"Unknown\",\"Unknown\",\"Female\",\"Unknown\",\"Unknown\",\"Unknown\",\"Unknown\",\"Unknown\",\"Unknown\",\"Unknown\",\"Unknown\",\"Unknown\",\"Male\",\"Unknown\",\"Unknown\",\"Unknown\",\"Female\",\"Unknown\",\"Unknown\",\"Unknown\",\"Unknown\",\"Unknown\",\"Male\",\"Unknown\",\"Unknown\",\"Unknown\",\"Unknown\",\"Male\",\"Unknown\",\"Unknown\",\"Unknown\",\"Unknown\",\"Female\",\"Unknown\",\"Unknown\",\"Unknown\",\"Unknown\",\"Unknown\",\"Unknown\",\"Female\",\"Unknown\",\"Unknown\",\"Unknown\",\"Unknown\",\"Non-binary\",\"Unknown\",\"Unknown\",\"Unknown\",\"Unknown\",\"Female\",\"Unknown\",\"Unknown\",\"Unknown\",\"Unknown\",\"Male\",\"Unknown\",\"Unknown\",\"Unknown\",\"Unknown\",\"Unknown\",\"Female\",\"Unknown\",\"Unknown\",\"Unknown\",\"Unknown\",\"Unknown\",\"Female\",\"Unknown\",\"Unknown\",\"Unknown\",\"Unknown\",\"Male\",\"Unknown\",\"Unknown\",\"Unknown\",\"Unknown\",\"Unknown\",\"Male\",\"Unknown\",\"Unknown\",\"Unknown\",\"Unknown\",\"Unknown\",\"Unknown\",\"Unknown\",\"Unknown\",\"Female\",\"Unknown\",\"Unknown\",\"Female\",\"Unknown\",\"Unknown\",\"Unknown\",\"Unknown\",\"Unknown\",\"Unknown\",\"Male\",\"Unknown\",\"Unknown\",\"Unknown\",\"Unknown\",\"Female\",\"Unknown\",\"Unknown\",\"Unknown\",\"Unknown\",\"Unknown\",\"Unknown\",\"Female\",\"Unknown\",\"Unknown\",\"Unknown\",\"Unknown\",\"Unknown\",\"Non-binary\",\"Unknown\",\"Unknown\",\"Unknown\",\"Unknown\",\"Unknown\",\"Unknown\",\"Unknown\",\"Female\",\"Unknown\",\"Unknown\",\"Unknown\",\"Unknown\",\"Unknown\",\"Unknown\",\"Unknown\",\"Unknown\",\"Unknown\",\"Male\",\"Unknown\",\"Unknown\",\"Unknown\",\"Female\",\"Unknown\",\"Unknown\",\"Unknown\",\"Unknown\",\"Unknown\",\"Male\",\"Unknown\",\"Unknown\",\"Unknown\",\"Unknown\",\"Male\",\"Unknown\",\"Unknown\",\"Unknown\",\"Unknown\",\"Female\",\"Unknown\",\"Unknown\",\"Unknown\",\"Unknown\",\"Unknown\",\"Unknown\",\"Female\",\"Unknown\",\"Unknown\",\"Unknown\",\"Unknown\",\"Non-binary\",\"Unknown\",\"Unknown\",\"Unknown\",\"Unknown\",\"Female\",\"Unknown\",\"Unknown\",\"Unknown\",\"Unknown\",\"Male\",\"Unknown\",\"Unknown\",\"Unknown\",\"Unknown\",\"Unknown\",\"Female\",\"Unknown\",\"Unknown\",\"Unknown\",\"Unknown\",\"Unknown\",\"Female\",\"Unknown\",\"Unknown\",\"Unknown\",\"Unknown\",\"Male\",\"Unknown\",\"Unknown\",\"Unknown\",\"Unknown\",\"Unknown\",\"Unknown\",\"Unknown\",\"Unknown\",\"Unknown\",\"Unknown\",\"Unknown\",\"Unknown\",\"Unknown\",\"Unknown\",\"Unknown\",\"Unknown\",\"Unknown\",\"Unknown\",\"Unknown\",\"Unknown\",\"Unknown\",\"Unknown\",\"Unknown\",\"Unknown\",\"Unknown\",\"Unknown\",\"Unknown\",\"Unknown\",\"Unknown\",\"Unknown\",\"Unknown\",\"Unknown\",\"Unknown\",\"Unknown\",\"Unknown\",\"Unknown\",\"Unknown\",\"Unknown\",\"Unknown\",\"Unknown\",\"Unknown\",\"Unknown\",\"Unknown\",\"Unknown\",\"Unknown\",\"Unknown\",\"Unknown\",\"Unknown\",\"Unknown\",\"Unknown\",\"Female\",\"Unknown\",\"Unknown\",\"Unknown\",\"Unknown\",\"Unknown\",\"Unknown\",\"Unknown\",\"Unknown\",\"Unknown\",\"Male\",\"Unknown\",\"Unknown\",\"Unknown\",\"Female\",\"Unknown\",\"Unknown\",\"Unknown\",\"Unknown\",\"Unknown\",\"Male\",\"Unknown\",\"Unknown\",\"Unknown\",\"Unknown\",\"Male\",\"Unknown\",\"Unknown\",\"Unknown\",\"Unknown\",\"Female\",\"Unknown\",\"Unknown\",\"Unknown\",\"Unknown\",\"Unknown\",\"Unknown\",\"Female\",\"Unknown\",\"Unknown\",\"Unknown\",\"Unknown\",\"Non-binary\",\"Unknown\",\"Unknown\",\"Unknown\",\"Unknown\",\"Female\",\"Unknown\",\"Unknown\",\"Unknown\",\"Unknown\",\"Male\",\"Unknown\",\"Unknown\",\"Unknown\",\"Unknown\",\"Unknown\",\"Female\",\"Unknown\",\"Unknown\",\"Unknown\",\"Unknown\",\"Unknown\",\"Female\",\"Unknown\",\"Unknown\",\"Unknown\",\"Unknown\",\"Male\",\"Unknown\",\"Unknown\",\"Unknown\",\"Unknown\",\"Unknown\",\"Male\",\"Unknown\",\"Unknown\",\"Unknown\",\"Unknown\",\"Unknown\",\"Unknown\",\"Unknown\",\"Unknown\",\"Female\",\"Unknown\",\"Unknown\",\"Female\",\"Unknown\",\"Unknown\",\"Unknown\",\"Unknown\",\"Unknown\",\"Unknown\",\"Male\",\"Unknown\",\"Unknown\",\"Unknown\",\"Unknown\",\"Female\",\"Unknown\",\"Unknown\",\"Unknown\",\"Unknown\",\"Unknown\",\"Unknown\",\"Female\",\"Unknown\",\"Unknown\",\"Unknown\",\"Unknown\",\"Unknown\",\"Non-binary\",\"Unknown\",\"Unknown\",\"Unknown\",\"Unknown\",\"Unknown\",\"Unknown\",\"Unknown\",\"Female\",\"Unknown\",\"Unknown\",\"Unknown\",\"Unknown\",\"Unknown\",\"Unknown\",\"Unknown\",\"Unknown\",\"Unknown\",\"Male\",\"Unknown\",\"Unknown\",\"Unknown\",\"Female\",\"Unknown\",\"Unknown\",\"Unknown\",\"Unknown\",\"Unknown\",\"Male\",\"Unknown\",\"Unknown\",\"Unknown\",\"Unknown\",\"Male\",\"Unknown\",\"Unknown\",\"Unknown\",\"Unknown\",\"Female\",\"Unknown\",\"Unknown\",\"Unknown\",\"Unknown\",\"Unknown\",\"Unknown\",\"Female\",\"Unknown\",\"Unknown\",\"Unknown\",\"Unknown\",\"Non-binary\",\"Unknown\",\"Unknown\",\"Unknown\",\"Unknown\",\"Female\",\"Unknown\",\"Unknown\",\"Unknown\",\"Unknown\",\"Male\",\"Unknown\",\"Unknown\",\"Unknown\",\"Unknown\",\"Unknown\",\"Female\",\"Unknown\",\"Unknown\",\"Unknown\",\"Unknown\",\"Unknown\",\"Female\",\"Unknown\",\"Unknown\",\"Unknown\",\"Unknown\",\"Male\",\"Unknown\",\"Unknown\",\"Unknown\",\"Unknown\",\"Unknown\",\"Male\",\"Unknown\",\"Unknown\",\"Unknown\",\"Unknown\",\"Unknown\",\"Unknown\",\"Unknown\",\"Unknown\",\"Female\",\"Unknown\",\"Unknown\",\"Female\",\"Unknown\",\"Unknown\",\"Unknown\",\"Unknown\",\"Unknown\",\"Unknown\",\"Male\",\"Unknown\",\"Unknown\",\"Unknown\",\"Unknown\",\"Female\",\"Unknown\",\"Unknown\",\"Unknown\",\"Unknown\",\"Unknown\",\"Unknown\",\"Female\",\"Unknown\",\"Unknown\",\"Unknown\",\"Unknown\",\"Unknown\",\"Non-binary\",\"Unknown\",\"Unknown\",\"Unknown\",\"Unknown\",\"Unknown\",\"Unknown\",\"Unknown\",\"Female\",\"Unknown\",\"Unknown\",\"Unknown\",\"Unknown\",\"Unknown\",\"Unknown\",\"Unknown\",\"Unknown\",\"Unknown\",\"Male\",\"Unknown\",\"Unknown\",\"Unknown\",\"Female\",\"Unknown\",\"Unknown\",\"Unknown\",\"Unknown\",\"Unknown\",\"Male\",\"Unknown\",\"Unknown\",\"Unknown\",\"Unknown\",\"Male\",\"Unknown\",\"Unknown\",\"Unknown\",\"Unknown\",\"Female\",\"Unknown\",\"Unknown\",\"Unknown\",\"Unknown\",\"Unknown\",\"Unknown\",\"Female\",\"Unknown\",\"Unknown\",\"Unknown\",\"Unknown\",\"Non-binary\",\"Unknown\",\"Unknown\",\"Unknown\",\"Unknown\",\"Female\",\"Unknown\",\"Unknown\",\"Unknown\",\"Unknown\",\"Male\",\"Unknown\",\"Unknown\",\"Unknown\",\"Unknown\",\"Unknown\",\"Female\",\"Unknown\",\"Unknown\",\"Unknown\",\"Unknown\",\"Unknown\",\"Female\",\"Unknown\",\"Unknown\",\"Unknown\",\"Unknown\",\"Male\",\"Unknown\",\"Unknown\",\"Unknown\",\"Unknown\",\"Unknown\",\"Male\",\"Unknown\",\"Unknown\",\"Unknown\",\"Unknown\",\"Unknown\",\"Unknown\",\"Unknown\",\"Unknown\",\"Female\",\"Unknown\",\"Unknown\",\"Female\",\"Unknown\",\"Unknown\",\"Unknown\",\"Unknown\",\"Unknown\",\"Unknown\",\"Male\",\"Unknown\",\"Unknown\",\"Unknown\",\"Unknown\",\"Female\",\"Unknown\",\"Unknown\",\"Unknown\",\"Unknown\",\"Unknown\",\"Unknown\",\"Female\",\"Unknown\",\"Unknown\",\"Unknown\",\"Unknown\",\"Unknown\",\"Non-binary\",\"Unknown\",\"Unknown\",\"Unknown\",\"Unknown\",\"Unknown\",\"Unknown\",\"Unknown\",\"Female\",\"Unknown\",\"Unknown\",\"Unknown\",\"Unknown\",\"Unknown\",\"Unknown\",\"Unknown\",\"Unknown\",\"Unknown\",\"Male\",\"Unknown\",\"Unknown\",\"Unknown\",\"Female\",\"Unknown\",\"Unknown\",\"Unknown\",\"Unknown\",\"Unknown\",\"Male\",\"Unknown\",\"Unknown\",\"Unknown\",\"Unknown\",\"Male\",\"Unknown\",\"Unknown\",\"Unknown\",\"Unknown\",\"Female\",\"Unknown\",\"Unknown\",\"Unknown\",\"Unknown\",\"Unknown\",\"Unknown\",\"Female\",\"Unknown\",\"Unknown\",\"Unknown\",\"Unknown\",\"Non-binary\",\"Unknown\",\"Unknown\",\"Unknown\",\"Unknown\",\"Female\",\"Unknown\",\"Unknown\",\"Unknown\",\"Unknown\",\"Male\",\"Unknown\",\"Unknown\",\"Unknown\",\"Unknown\",\"Unknown\",\"Female\",\"Unknown\",\"Unknown\",\"Unknown\",\"Unknown\",\"Unknown\",\"Unknown\",\"Unknown\",\"Unknown\",\"Unknown\",\"Female\",\"Unknown\",\"Unknown\",\"Unknown\",\"Unknown\",\"Male\",\"Unknown\",\"Unknown\",\"Unknown\",\"Unknown\",\"Unknown\",\"Male\",\"Unknown\",\"Unknown\",\"Unknown\",\"Unknown\",\"Unknown\",\"Unknown\",\"Unknown\",\"Unknown\",\"Female\",\"Unknown\",\"Unknown\",\"Female\",\"Unknown\",\"Unknown\",\"Unknown\",\"Unknown\",\"Unknown\",\"Unknown\",\"Male\",\"Unknown\",\"Unknown\",\"Unknown\",\"Unknown\",\"Female\",\"Unknown\",\"Unknown\",\"Unknown\",\"Unknown\",\"Unknown\",\"Unknown\",\"Female\",\"Unknown\",\"Unknown\",\"Unknown\",\"Unknown\",\"Unknown\",\"Non-binary\",\"Unknown\",\"Unknown\",\"Unknown\",\"Unknown\",\"Unknown\",\"Unknown\",\"Unknown\",\"Female\",\"Unknown\",\"Unknown\",\"Unknown\",\"Unknown\",\"Unknown\",\"Unknown\",\"Unknown\",\"Unknown\",\"Unknown\",\"Male\",\"Unknown\",\"Unknown\",\"Unknown\",\"Female\",\"Unknown\",\"Unknown\",\"Unknown\",\"Unknown\",\"Unknown\",\"Male\",\"Unknown\",\"Unknown\",\"Unknown\",\"Unknown\",\"Male\",\"Unknown\",\"Unknown\",\"Unknown\",\"Unknown\",\"Female\",\"Unknown\",\"Unknown\",\"Unknown\",\"Unknown\",\"Unknown\",\"Unknown\",\"Female\",\"Unknown\",\"Unknown\",\"Unknown\",\"Unknown\",\"Non-binary\",\"Unknown\",\"Unknown\",\"Unknown\",\"Unknown\",\"Female\",\"Unknown\",\"Unknown\",\"Unknown\",\"Unknown\",\"Male\",\"Unknown\",\"Unknown\",\"Unknown\",\"Unknown\",\"Unknown\",\"Female\",\"Unknown\",\"Unknown\",\"Unknown\",\"Unknown\",\"Unknown\",\"Female\",\"Unknown\",\"Unknown\",\"Unknown\",\"Unknown\",\"Male\",\"Unknown\",\"Unknown\",\"Unknown\",\"Unknown\",\"Unknown\",\"Unknown\",\"Unknown\",\"Unknown\",\"Unknown\",\"Unknown\",\"Unknown\",\"Unknown\",\"Unknown\",\"Unknown\",\"Unknown\",\"Unknown\",\"Unknown\",\"Unknown\",\"Unknown\",\"Unknown\",\"Unknown\",\"Unknown\",\"Unknown\",\"Unknown\",\"Unknown\",\"Unknown\",\"Unknown\",\"Unknown\",\"Unknown\",\"Unknown\",\"Unknown\",\"Unknown\",\"Unknown\",\"Unknown\",\"Unknown\",\"Unknown\",\"Unknown\",\"Unknown\",\"Unknown\",\"Unknown\",\"Unknown\",\"Unknown\",\"Unknown\",\"Unknown\",\"Unknown\",\"Unknown\",\"Unknown\",\"Unknown\",\"Unknown\",\"Unknown\",\"Female\",\"Unknown\",\"Unknown\",\"Unknown\",\"Unknown\",\"Unknown\",\"Unknown\",\"Unknown\",\"Unknown\",\"Unknown\",\"Male\",\"Unknown\",\"Unknown\",\"Unknown\",\"Female\",\"Unknown\",\"Unknown\",\"Unknown\",\"Unknown\",\"Unknown\",\"Male\",\"Unknown\",\"Unknown\",\"Unknown\",\"Unknown\",\"Male\",\"Unknown\",\"Unknown\",\"Unknown\",\"Unknown\",\"Female\",\"Unknown\",\"Unknown\",\"Unknown\",\"Unknown\",\"Unknown\",\"Unknown\",\"Female\",\"Unknown\",\"Unknown\",\"Unknown\",\"Unknown\",\"Non-binary\",\"Unknown\",\"Unknown\",\"Unknown\",\"Unknown\",\"Female\",\"Unknown\",\"Unknown\",\"Unknown\",\"Unknown\",\"Male\",\"Unknown\",\"Unknown\",\"Unknown\",\"Unknown\",\"Unknown\",\"Female\",\"Unknown\",\"Unknown\",\"Unknown\",\"Unknown\",\"Unknown\",\"Female\",\"Unknown\",\"Unknown\",\"Unknown\",\"Unknown\",\"Male\",\"Unknown\",\"Unknown\",\"Unknown\",\"Unknown\",\"Unknown\",\"Male\",\"Unknown\",\"Unknown\",\"Unknown\",\"Unknown\",\"Unknown\",\"Unknown\",\"Unknown\",\"Unknown\",\"Female\",\"Unknown\",\"Unknown\",\"Female\",\"Unknown\",\"Unknown\",\"Unknown\",\"Unknown\",\"Unknown\",\"Unknown\",\"Male\",\"Unknown\",\"Unknown\",\"Unknown\",\"Unknown\",\"Female\",\"Unknown\",\"Unknown\",\"Unknown\",\"Unknown\",\"Unknown\",\"Unknown\",\"Female\",\"Unknown\",\"Unknown\",\"Unknown\",\"Unknown\",\"Unknown\",\"Non-binary\",\"Unknown\",\"Unknown\",\"Unknown\",\"Unknown\",\"Unknown\",\"Unknown\",\"Unknown\",\"Female\",\"Unknown\",\"Unknown\",\"Unknown\",\"Unknown\",\"Unknown\",\"Unknown\",\"Unknown\",\"Unknown\",\"Unknown\",\"Male\",\"Unknown\",\"Unknown\",\"Unknown\",\"Female\",\"Unknown\",\"Unknown\",\"Unknown\",\"Unknown\",\"Unknown\",\"Male\",\"Unknown\",\"Unknown\",\"Unknown\",\"Unknown\",\"Male\",\"Unknown\",\"Unknown\",\"Unknown\",\"Unknown\",\"Female\",\"Unknown\",\"Unknown\",\"Unknown\",\"Unknown\",\"Unknown\",\"Unknown\",\"Female\",\"Unknown\",\"Unknown\",\"Unknown\",\"Unknown\",\"Non-binary\",\"Unknown\",\"Unknown\",\"Unknown\",\"Unknown\",\"Female\",\"Unknown\",\"Unknown\",\"Unknown\",\"Unknown\",\"Male\",\"Unknown\",\"Unknown\",\"Unknown\",\"Unknown\",\"Unknown\",\"Female\",\"Unknown\",\"Unknown\",\"Unknown\",\"Unknown\",\"Unknown\",\"Female\",\"Unknown\",\"Unknown\",\"Unknown\",\"Unknown\",\"Male\",\"Unknown\",\"Unknown\",\"Unknown\",\"Unknown\",\"Unknown\",\"Male\",\"Unknown\",\"Unknown\",\"Unknown\",\"Unknown\",\"Unknown\",\"Unknown\",\"Unknown\",\"Unknown\",\"Female\",\"Unknown\",\"Unknown\",\"Female\",\"Unknown\",\"Unknown\",\"Unknown\",\"Unknown\",\"Unknown\",\"Unknown\",\"Male\",\"Unknown\",\"Unknown\",\"Unknown\",\"Unknown\",\"Female\",\"Unknown\",\"Unknown\",\"Unknown\",\"Unknown\",\"Unknown\",\"Unknown\",\"Female\",\"Unknown\",\"Unknown\",\"Unknown\",\"Unknown\",\"Unknown\",\"Non-binary\",\"Unknown\",\"Unknown\",\"Unknown\",\"Unknown\",\"Unknown\",\"Unknown\",\"Unknown\",\"Female\",\"Unknown\",\"Unknown\",\"Unknown\",\"Unknown\",\"Unknown\",\"Unknown\",\"Unknown\",\"Unknown\",\"Unknown\",\"Male\",\"Unknown\",\"Unknown\"],\"xaxis\":\"x\",\"yaxis\":\"y\",\"type\":\"histogram\"},{\"alignmentgroup\":\"True\",\"bingroup\":\"x\",\"hovertemplate\":\"Dominant_Emotion=Anger\\u003cbr\\u003eGender=%{x}\\u003cbr\\u003ecount=%{y}\\u003cextra\\u003e\\u003c\\u002fextra\\u003e\",\"legendgroup\":\"Anger\",\"marker\":{\"color\":\"#EF553B\",\"pattern\":{\"shape\":\"\"}},\"name\":\"Anger\",\"offsetgroup\":\"Anger\",\"orientation\":\"v\",\"showlegend\":true,\"x\":[\"Male\",\"Female\",\"Male\",\"Female\",\"Male\",\"Male\",\"Male\",\"Female\",\"Male\",\"Female\",\"Female\",\"Female\",\"Non-binary\",\"Male\",\"Female\",\"Male\",\"Female\",\"Male\",\"Male\",\"Male\",\"Female\",\"Male\",\"Female\",\"Female\",\"Female\",\"Non-binary\",\"Male\",\"Female\",\"Male\",\"Female\",\"Male\",\"Male\",\"Male\",\"Unknown\",\"Unknown\",\"Unknown\",\"Unknown\",\"Female\",\"Non-binary\",\"Male\",\"Female\",\"Male\",\"Female\",\"Male\",\"Male\",\"Male\",\"Female\",\"Male\",\"Female\",\"Female\",\"Female\",\"Non-binary\",\"Male\",\"Female\",\"Male\",\"Female\",\"Male\",\"Male\",\"Male\",\"Female\",\"Male\",\"Female\",\"Female\",\"Female\",\"Non-binary\",\"Male\",\"Female\",\"Male\",\"Female\",\"Male\",\"Male\",\"Male\",\"Female\",\"Male\",\"Female\",\"Female\",\"Female\",\"Non-binary\",\"Male\",\"Female\",\"Male\",\"Female\",\"Male\",\"Male\",\"Male\",\"Female\",\"Male\",\"Female\",\"Female\",\"Female\",\"Non-binary\",\"Male\",\"Female\",\"Male\",\"Female\",\"Male\",\"Male\",\"Male\",\"Unknown\",\"Unknown\",\"Unknown\",\"Unknown\",\"Female\",\"Non-binary\",\"Male\",\"Female\",\"Male\",\"Female\",\"Male\",\"Male\",\"Male\",\"Female\",\"Male\",\"Female\",\"Female\",\"Female\",\"Non-binary\",\"Male\",\"Female\",\"Male\",\"Female\",\"Male\",\"Male\",\"Male\",\"Female\",\"Male\",\"Female\",\"Female\",\"Female\",\"Non-binary\"],\"xaxis\":\"x\",\"yaxis\":\"y\",\"type\":\"histogram\"},{\"alignmentgroup\":\"True\",\"bingroup\":\"x\",\"hovertemplate\":\"Dominant_Emotion=Neutral\\u003cbr\\u003eGender=%{x}\\u003cbr\\u003ecount=%{y}\\u003cextra\\u003e\\u003c\\u002fextra\\u003e\",\"legendgroup\":\"Neutral\",\"marker\":{\"color\":\"#00cc96\",\"pattern\":{\"shape\":\"\"}},\"name\":\"Neutral\",\"offsetgroup\":\"Neutral\",\"orientation\":\"v\",\"showlegend\":true,\"x\":[\"Non-binary\",\"Female\",\"Non-binary\",\"Non-binary\",\"Male\",\"Non-binary\",\"Female\",\"Non-binary\",\"Male\",\"Non-binary\",\"Non-binary\",\"Female\",\"Non-binary\",\"Male\",\"Female\",\"Male\",\"Non-binary\",\"Male\",\"Female\",\"Female\",\"Non-binary\",\"Female\",\"Non-binary\",\"Non-binary\",\"Male\",\"Non-binary\",\"Female\",\"Non-binary\",\"Male\",\"Non-binary\",\"Non-binary\",\"Female\",\"Non-binary\",\"Male\",\"Female\",\"Male\",\"Non-binary\",\"Male\",\"Female\",\"Female\",\"Non-binary\",\"Female\",\"Non-binary\",\"Non-binary\",\"Male\",\"Non-binary\",\"Female\",\"Non-binary\",\"Male\",\"Unknown\",\"Unknown\",\"Unknown\",\"Unknown\",\"Unknown\",\"Unknown\",\"Unknown\",\"Unknown\",\"Male\",\"Female\",\"Female\",\"Non-binary\",\"Female\",\"Non-binary\",\"Non-binary\",\"Male\",\"Non-binary\",\"Female\",\"Non-binary\",\"Male\",\"Non-binary\",\"Non-binary\",\"Female\",\"Non-binary\",\"Male\",\"Female\",\"Male\",\"Non-binary\",\"Male\",\"Female\",\"Female\",\"Non-binary\",\"Female\",\"Non-binary\",\"Non-binary\",\"Male\",\"Non-binary\",\"Female\",\"Non-binary\",\"Male\",\"Non-binary\",\"Non-binary\",\"Female\",\"Non-binary\",\"Male\",\"Female\",\"Male\",\"Non-binary\",\"Male\",\"Female\",\"Female\",\"Non-binary\",\"Female\",\"Non-binary\",\"Non-binary\",\"Male\",\"Non-binary\",\"Female\",\"Non-binary\",\"Male\",\"Non-binary\",\"Non-binary\",\"Female\",\"Non-binary\",\"Male\",\"Female\",\"Male\",\"Non-binary\",\"Male\",\"Female\",\"Female\",\"Non-binary\",\"Female\",\"Non-binary\",\"Non-binary\",\"Male\",\"Non-binary\",\"Female\",\"Non-binary\",\"Male\",\"Non-binary\",\"Non-binary\",\"Female\",\"Non-binary\",\"Male\",\"Female\",\"Male\",\"Non-binary\",\"Male\",\"Female\",\"Female\",\"Non-binary\",\"Female\",\"Non-binary\",\"Non-binary\",\"Male\",\"Non-binary\",\"Female\",\"Non-binary\",\"Male\",\"Unknown\",\"Unknown\",\"Unknown\",\"Unknown\",\"Unknown\",\"Unknown\",\"Unknown\",\"Unknown\",\"Male\",\"Female\",\"Female\",\"Non-binary\",\"Female\",\"Non-binary\",\"Non-binary\",\"Male\",\"Non-binary\",\"Female\",\"Non-binary\",\"Male\",\"Non-binary\",\"Non-binary\",\"Female\",\"Non-binary\",\"Male\",\"Female\",\"Male\",\"Non-binary\",\"Male\",\"Female\",\"Female\",\"Non-binary\",\"Female\",\"Non-binary\",\"Non-binary\",\"Male\",\"Non-binary\",\"Female\",\"Non-binary\",\"Male\",\"Non-binary\",\"Non-binary\",\"Female\",\"Non-binary\",\"Male\",\"Female\",\"Male\",\"Non-binary\",\"Male\",\"Female\",\"Female\"],\"xaxis\":\"x\",\"yaxis\":\"y\",\"type\":\"histogram\"},{\"alignmentgroup\":\"True\",\"bingroup\":\"x\",\"hovertemplate\":\"Dominant_Emotion=Anxiety\\u003cbr\\u003eGender=%{x}\\u003cbr\\u003ecount=%{y}\\u003cextra\\u003e\\u003c\\u002fextra\\u003e\",\"legendgroup\":\"Anxiety\",\"marker\":{\"color\":\"#ab63fa\",\"pattern\":{\"shape\":\"\"}},\"name\":\"Anxiety\",\"offsetgroup\":\"Anxiety\",\"orientation\":\"v\",\"showlegend\":true,\"x\":[\"Female\",\"Female\",\"Female\",\"Male\",\"Non-binary\",\"Male\",\"Non-binary\",\"Non-binary\",\"Male\",\"Female\",\"Female\",\"Male\",\"Non-binary\",\"Non-binary\",\"Female\",\"Male\",\"Male\",\"Female\",\"Female\",\"Female\",\"Male\",\"Non-binary\",\"Male\",\"Non-binary\",\"Non-binary\",\"Male\",\"Female\",\"Female\",\"Male\",\"Non-binary\",\"Non-binary\",\"Female\",\"Male\",\"Male\",\"Female\",\"Female\",\"Female\",\"Male\",\"Non-binary\",\"Male\",\"Non-binary\",\"Non-binary\",\"Unknown\",\"Unknown\",\"Unknown\",\"Unknown\",\"Unknown\",\"Unknown\",\"Unknown\",\"Male\",\"Male\",\"Female\",\"Female\",\"Female\",\"Male\",\"Non-binary\",\"Male\",\"Non-binary\",\"Non-binary\",\"Male\",\"Female\",\"Female\",\"Male\",\"Non-binary\",\"Non-binary\",\"Female\",\"Male\",\"Male\",\"Female\",\"Female\",\"Female\",\"Male\",\"Non-binary\",\"Male\",\"Non-binary\",\"Non-binary\",\"Male\",\"Female\",\"Female\",\"Male\",\"Non-binary\",\"Non-binary\",\"Female\",\"Male\",\"Male\",\"Female\",\"Female\",\"Female\",\"Male\",\"Non-binary\",\"Male\",\"Non-binary\",\"Non-binary\",\"Male\",\"Female\",\"Female\",\"Male\",\"Non-binary\",\"Non-binary\",\"Female\",\"Male\",\"Male\",\"Female\",\"Female\",\"Female\",\"Male\",\"Non-binary\",\"Male\",\"Non-binary\",\"Non-binary\",\"Male\",\"Female\",\"Female\",\"Male\",\"Non-binary\",\"Non-binary\",\"Female\",\"Male\",\"Male\",\"Female\",\"Female\",\"Female\",\"Male\",\"Non-binary\",\"Male\",\"Non-binary\",\"Non-binary\",\"Unknown\",\"Unknown\",\"Unknown\",\"Unknown\",\"Unknown\",\"Unknown\",\"Unknown\",\"Male\",\"Male\",\"Female\",\"Female\",\"Female\",\"Male\",\"Non-binary\",\"Male\",\"Non-binary\",\"Non-binary\",\"Male\",\"Female\",\"Female\",\"Male\",\"Non-binary\",\"Non-binary\",\"Female\",\"Male\",\"Male\",\"Female\",\"Female\",\"Female\",\"Male\",\"Non-binary\",\"Male\",\"Non-binary\",\"Non-binary\",\"Male\",\"Female\",\"Female\",\"Male\",\"Non-binary\",\"Non-binary\",\"Female\",\"Male\",\"Male\"],\"xaxis\":\"x\",\"yaxis\":\"y\",\"type\":\"histogram\"},{\"alignmentgroup\":\"True\",\"bingroup\":\"x\",\"hovertemplate\":\"Dominant_Emotion=Boredom\\u003cbr\\u003eGender=%{x}\\u003cbr\\u003ecount=%{y}\\u003cextra\\u003e\\u003c\\u002fextra\\u003e\",\"legendgroup\":\"Boredom\",\"marker\":{\"color\":\"#FFA15A\",\"pattern\":{\"shape\":\"\"}},\"name\":\"Boredom\",\"offsetgroup\":\"Boredom\",\"orientation\":\"v\",\"showlegend\":true,\"x\":[\"Male\",\"Male\",\"Male\",\"Female\",\"Non-binary\",\"Female\",\"Female\",\"Male\",\"Male\",\"Non-binary\",\"Male\",\"Non-binary\",\"Non-binary\",\"Non-binary\",\"Male\",\"Male\",\"Male\",\"Female\",\"Non-binary\",\"Female\",\"Female\",\"Male\",\"Male\",\"Non-binary\",\"Male\",\"Non-binary\",\"Non-binary\",\"Non-binary\",\"Male\",\"Male\",\"Male\",\"Female\",\"Non-binary\",\"Female\",\"Female\",\"Unknown\",\"Unknown\",\"Unknown\",\"Unknown\",\"Unknown\",\"Non-binary\",\"Non-binary\",\"Male\",\"Male\",\"Male\",\"Female\",\"Non-binary\",\"Female\",\"Female\",\"Male\",\"Male\",\"Non-binary\",\"Male\",\"Non-binary\",\"Non-binary\",\"Non-binary\",\"Male\",\"Male\",\"Male\",\"Female\",\"Non-binary\",\"Female\",\"Female\",\"Male\",\"Male\",\"Non-binary\",\"Male\",\"Non-binary\",\"Non-binary\",\"Non-binary\",\"Male\",\"Male\",\"Male\",\"Female\",\"Non-binary\",\"Female\",\"Female\",\"Male\",\"Male\",\"Non-binary\",\"Male\",\"Non-binary\",\"Non-binary\",\"Non-binary\",\"Male\",\"Male\",\"Male\",\"Female\",\"Non-binary\",\"Female\",\"Female\",\"Male\",\"Male\",\"Non-binary\",\"Male\",\"Non-binary\",\"Non-binary\",\"Non-binary\",\"Male\",\"Male\",\"Male\",\"Female\",\"Non-binary\",\"Female\",\"Female\",\"Unknown\",\"Unknown\",\"Unknown\",\"Unknown\",\"Unknown\",\"Non-binary\",\"Non-binary\",\"Male\",\"Male\",\"Male\",\"Female\",\"Non-binary\",\"Female\",\"Female\",\"Male\",\"Male\",\"Non-binary\",\"Male\",\"Non-binary\",\"Non-binary\",\"Non-binary\",\"Male\",\"Male\",\"Male\",\"Female\",\"Non-binary\",\"Female\",\"Female\",\"Male\",\"Male\",\"Non-binary\",\"Male\",\"Non-binary\",\"Non-binary\",\"Non-binary\"],\"xaxis\":\"x\",\"yaxis\":\"y\",\"type\":\"histogram\"},{\"alignmentgroup\":\"True\",\"bingroup\":\"x\",\"hovertemplate\":\"Dominant_Emotion=Sadness\\u003cbr\\u003eGender=%{x}\\u003cbr\\u003ecount=%{y}\\u003cextra\\u003e\\u003c\\u002fextra\\u003e\",\"legendgroup\":\"Sadness\",\"marker\":{\"color\":\"#19d3f3\",\"pattern\":{\"shape\":\"\"}},\"name\":\"Sadness\",\"offsetgroup\":\"Sadness\",\"orientation\":\"v\",\"showlegend\":true,\"x\":[\"Non-binary\",\"Non-binary\",\"Male\",\"Female\",\"Non-binary\",\"Female\",\"Male\",\"Female\",\"Female\",\"Non-binary\",\"Male\",\"Non-binary\",\"Male\",\"Male\",\"Male\",\"Female\",\"Non-binary\",\"Non-binary\",\"Male\",\"Female\",\"Non-binary\",\"Female\",\"Male\",\"Female\",\"Female\",\"Non-binary\",\"Male\",\"Non-binary\",\"Male\",\"Male\",\"Male\",\"Female\",\"Non-binary\",\"Non-binary\",\"Male\",\"Female\",\"Non-binary\",\"Female\",\"Male\",\"Female\",\"Unknown\",\"Unknown\",\"Unknown\",\"Unknown\",\"Unknown\",\"Unknown\",\"Unknown\",\"Female\",\"Non-binary\",\"Non-binary\",\"Male\",\"Female\",\"Non-binary\",\"Female\",\"Male\",\"Female\",\"Female\",\"Non-binary\",\"Male\",\"Non-binary\",\"Male\",\"Male\",\"Male\",\"Female\",\"Non-binary\",\"Non-binary\",\"Male\",\"Female\",\"Non-binary\",\"Female\",\"Male\",\"Female\",\"Female\",\"Non-binary\",\"Male\",\"Non-binary\",\"Male\",\"Male\",\"Male\",\"Female\",\"Non-binary\",\"Non-binary\",\"Male\",\"Female\",\"Non-binary\",\"Female\",\"Male\",\"Female\",\"Female\",\"Non-binary\",\"Male\",\"Non-binary\",\"Male\",\"Male\",\"Male\",\"Female\",\"Non-binary\",\"Non-binary\",\"Male\",\"Female\",\"Non-binary\",\"Female\",\"Male\",\"Female\",\"Female\",\"Non-binary\",\"Male\",\"Non-binary\",\"Male\",\"Male\",\"Male\",\"Female\",\"Non-binary\",\"Non-binary\",\"Male\",\"Female\",\"Non-binary\",\"Female\",\"Male\",\"Female\",\"Unknown\",\"Unknown\",\"Unknown\",\"Unknown\",\"Unknown\",\"Unknown\",\"Unknown\",\"Female\",\"Non-binary\",\"Non-binary\",\"Male\",\"Female\",\"Non-binary\",\"Female\",\"Male\",\"Female\",\"Female\",\"Non-binary\",\"Male\",\"Non-binary\",\"Male\",\"Male\",\"Male\",\"Female\",\"Non-binary\",\"Non-binary\",\"Male\",\"Female\",\"Non-binary\",\"Female\",\"Male\",\"Female\",\"Female\",\"Non-binary\",\"Male\",\"Non-binary\",\"Male\",\"Male\",\"Male\",\"Female\"],\"xaxis\":\"x\",\"yaxis\":\"y\",\"type\":\"histogram\"}],                        {\"template\":{\"data\":{\"histogram2dcontour\":[{\"type\":\"histogram2dcontour\",\"colorbar\":{\"outlinewidth\":0,\"ticks\":\"\"},\"colorscale\":[[0.0,\"#0d0887\"],[0.1111111111111111,\"#46039f\"],[0.2222222222222222,\"#7201a8\"],[0.3333333333333333,\"#9c179e\"],[0.4444444444444444,\"#bd3786\"],[0.5555555555555556,\"#d8576b\"],[0.6666666666666666,\"#ed7953\"],[0.7777777777777778,\"#fb9f3a\"],[0.8888888888888888,\"#fdca26\"],[1.0,\"#f0f921\"]]}],\"choropleth\":[{\"type\":\"choropleth\",\"colorbar\":{\"outlinewidth\":0,\"ticks\":\"\"}}],\"histogram2d\":[{\"type\":\"histogram2d\",\"colorbar\":{\"outlinewidth\":0,\"ticks\":\"\"},\"colorscale\":[[0.0,\"#0d0887\"],[0.1111111111111111,\"#46039f\"],[0.2222222222222222,\"#7201a8\"],[0.3333333333333333,\"#9c179e\"],[0.4444444444444444,\"#bd3786\"],[0.5555555555555556,\"#d8576b\"],[0.6666666666666666,\"#ed7953\"],[0.7777777777777778,\"#fb9f3a\"],[0.8888888888888888,\"#fdca26\"],[1.0,\"#f0f921\"]]}],\"heatmap\":[{\"type\":\"heatmap\",\"colorbar\":{\"outlinewidth\":0,\"ticks\":\"\"},\"colorscale\":[[0.0,\"#0d0887\"],[0.1111111111111111,\"#46039f\"],[0.2222222222222222,\"#7201a8\"],[0.3333333333333333,\"#9c179e\"],[0.4444444444444444,\"#bd3786\"],[0.5555555555555556,\"#d8576b\"],[0.6666666666666666,\"#ed7953\"],[0.7777777777777778,\"#fb9f3a\"],[0.8888888888888888,\"#fdca26\"],[1.0,\"#f0f921\"]]}],\"heatmapgl\":[{\"type\":\"heatmapgl\",\"colorbar\":{\"outlinewidth\":0,\"ticks\":\"\"},\"colorscale\":[[0.0,\"#0d0887\"],[0.1111111111111111,\"#46039f\"],[0.2222222222222222,\"#7201a8\"],[0.3333333333333333,\"#9c179e\"],[0.4444444444444444,\"#bd3786\"],[0.5555555555555556,\"#d8576b\"],[0.6666666666666666,\"#ed7953\"],[0.7777777777777778,\"#fb9f3a\"],[0.8888888888888888,\"#fdca26\"],[1.0,\"#f0f921\"]]}],\"contourcarpet\":[{\"type\":\"contourcarpet\",\"colorbar\":{\"outlinewidth\":0,\"ticks\":\"\"}}],\"contour\":[{\"type\":\"contour\",\"colorbar\":{\"outlinewidth\":0,\"ticks\":\"\"},\"colorscale\":[[0.0,\"#0d0887\"],[0.1111111111111111,\"#46039f\"],[0.2222222222222222,\"#7201a8\"],[0.3333333333333333,\"#9c179e\"],[0.4444444444444444,\"#bd3786\"],[0.5555555555555556,\"#d8576b\"],[0.6666666666666666,\"#ed7953\"],[0.7777777777777778,\"#fb9f3a\"],[0.8888888888888888,\"#fdca26\"],[1.0,\"#f0f921\"]]}],\"surface\":[{\"type\":\"surface\",\"colorbar\":{\"outlinewidth\":0,\"ticks\":\"\"},\"colorscale\":[[0.0,\"#0d0887\"],[0.1111111111111111,\"#46039f\"],[0.2222222222222222,\"#7201a8\"],[0.3333333333333333,\"#9c179e\"],[0.4444444444444444,\"#bd3786\"],[0.5555555555555556,\"#d8576b\"],[0.6666666666666666,\"#ed7953\"],[0.7777777777777778,\"#fb9f3a\"],[0.8888888888888888,\"#fdca26\"],[1.0,\"#f0f921\"]]}],\"mesh3d\":[{\"type\":\"mesh3d\",\"colorbar\":{\"outlinewidth\":0,\"ticks\":\"\"}}],\"scatter\":[{\"fillpattern\":{\"fillmode\":\"overlay\",\"size\":10,\"solidity\":0.2},\"type\":\"scatter\"}],\"parcoords\":[{\"type\":\"parcoords\",\"line\":{\"colorbar\":{\"outlinewidth\":0,\"ticks\":\"\"}}}],\"scatterpolargl\":[{\"type\":\"scatterpolargl\",\"marker\":{\"colorbar\":{\"outlinewidth\":0,\"ticks\":\"\"}}}],\"bar\":[{\"error_x\":{\"color\":\"#2a3f5f\"},\"error_y\":{\"color\":\"#2a3f5f\"},\"marker\":{\"line\":{\"color\":\"#E5ECF6\",\"width\":0.5},\"pattern\":{\"fillmode\":\"overlay\",\"size\":10,\"solidity\":0.2}},\"type\":\"bar\"}],\"scattergeo\":[{\"type\":\"scattergeo\",\"marker\":{\"colorbar\":{\"outlinewidth\":0,\"ticks\":\"\"}}}],\"scatterpolar\":[{\"type\":\"scatterpolar\",\"marker\":{\"colorbar\":{\"outlinewidth\":0,\"ticks\":\"\"}}}],\"histogram\":[{\"marker\":{\"pattern\":{\"fillmode\":\"overlay\",\"size\":10,\"solidity\":0.2}},\"type\":\"histogram\"}],\"scattergl\":[{\"type\":\"scattergl\",\"marker\":{\"colorbar\":{\"outlinewidth\":0,\"ticks\":\"\"}}}],\"scatter3d\":[{\"type\":\"scatter3d\",\"line\":{\"colorbar\":{\"outlinewidth\":0,\"ticks\":\"\"}},\"marker\":{\"colorbar\":{\"outlinewidth\":0,\"ticks\":\"\"}}}],\"scattermapbox\":[{\"type\":\"scattermapbox\",\"marker\":{\"colorbar\":{\"outlinewidth\":0,\"ticks\":\"\"}}}],\"scatterternary\":[{\"type\":\"scatterternary\",\"marker\":{\"colorbar\":{\"outlinewidth\":0,\"ticks\":\"\"}}}],\"scattercarpet\":[{\"type\":\"scattercarpet\",\"marker\":{\"colorbar\":{\"outlinewidth\":0,\"ticks\":\"\"}}}],\"carpet\":[{\"aaxis\":{\"endlinecolor\":\"#2a3f5f\",\"gridcolor\":\"white\",\"linecolor\":\"white\",\"minorgridcolor\":\"white\",\"startlinecolor\":\"#2a3f5f\"},\"baxis\":{\"endlinecolor\":\"#2a3f5f\",\"gridcolor\":\"white\",\"linecolor\":\"white\",\"minorgridcolor\":\"white\",\"startlinecolor\":\"#2a3f5f\"},\"type\":\"carpet\"}],\"table\":[{\"cells\":{\"fill\":{\"color\":\"#EBF0F8\"},\"line\":{\"color\":\"white\"}},\"header\":{\"fill\":{\"color\":\"#C8D4E3\"},\"line\":{\"color\":\"white\"}},\"type\":\"table\"}],\"barpolar\":[{\"marker\":{\"line\":{\"color\":\"#E5ECF6\",\"width\":0.5},\"pattern\":{\"fillmode\":\"overlay\",\"size\":10,\"solidity\":0.2}},\"type\":\"barpolar\"}],\"pie\":[{\"automargin\":true,\"type\":\"pie\"}]},\"layout\":{\"autotypenumbers\":\"strict\",\"colorway\":[\"#636efa\",\"#EF553B\",\"#00cc96\",\"#ab63fa\",\"#FFA15A\",\"#19d3f3\",\"#FF6692\",\"#B6E880\",\"#FF97FF\",\"#FECB52\"],\"font\":{\"color\":\"#2a3f5f\"},\"hovermode\":\"closest\",\"hoverlabel\":{\"align\":\"left\"},\"paper_bgcolor\":\"white\",\"plot_bgcolor\":\"#E5ECF6\",\"polar\":{\"bgcolor\":\"#E5ECF6\",\"angularaxis\":{\"gridcolor\":\"white\",\"linecolor\":\"white\",\"ticks\":\"\"},\"radialaxis\":{\"gridcolor\":\"white\",\"linecolor\":\"white\",\"ticks\":\"\"}},\"ternary\":{\"bgcolor\":\"#E5ECF6\",\"aaxis\":{\"gridcolor\":\"white\",\"linecolor\":\"white\",\"ticks\":\"\"},\"baxis\":{\"gridcolor\":\"white\",\"linecolor\":\"white\",\"ticks\":\"\"},\"caxis\":{\"gridcolor\":\"white\",\"linecolor\":\"white\",\"ticks\":\"\"}},\"coloraxis\":{\"colorbar\":{\"outlinewidth\":0,\"ticks\":\"\"}},\"colorscale\":{\"sequential\":[[0.0,\"#0d0887\"],[0.1111111111111111,\"#46039f\"],[0.2222222222222222,\"#7201a8\"],[0.3333333333333333,\"#9c179e\"],[0.4444444444444444,\"#bd3786\"],[0.5555555555555556,\"#d8576b\"],[0.6666666666666666,\"#ed7953\"],[0.7777777777777778,\"#fb9f3a\"],[0.8888888888888888,\"#fdca26\"],[1.0,\"#f0f921\"]],\"sequentialminus\":[[0.0,\"#0d0887\"],[0.1111111111111111,\"#46039f\"],[0.2222222222222222,\"#7201a8\"],[0.3333333333333333,\"#9c179e\"],[0.4444444444444444,\"#bd3786\"],[0.5555555555555556,\"#d8576b\"],[0.6666666666666666,\"#ed7953\"],[0.7777777777777778,\"#fb9f3a\"],[0.8888888888888888,\"#fdca26\"],[1.0,\"#f0f921\"]],\"diverging\":[[0,\"#8e0152\"],[0.1,\"#c51b7d\"],[0.2,\"#de77ae\"],[0.3,\"#f1b6da\"],[0.4,\"#fde0ef\"],[0.5,\"#f7f7f7\"],[0.6,\"#e6f5d0\"],[0.7,\"#b8e186\"],[0.8,\"#7fbc41\"],[0.9,\"#4d9221\"],[1,\"#276419\"]]},\"xaxis\":{\"gridcolor\":\"white\",\"linecolor\":\"white\",\"ticks\":\"\",\"title\":{\"standoff\":15},\"zerolinecolor\":\"white\",\"automargin\":true,\"zerolinewidth\":2},\"yaxis\":{\"gridcolor\":\"white\",\"linecolor\":\"white\",\"ticks\":\"\",\"title\":{\"standoff\":15},\"zerolinecolor\":\"white\",\"automargin\":true,\"zerolinewidth\":2},\"scene\":{\"xaxis\":{\"backgroundcolor\":\"#E5ECF6\",\"gridcolor\":\"white\",\"linecolor\":\"white\",\"showbackground\":true,\"ticks\":\"\",\"zerolinecolor\":\"white\",\"gridwidth\":2},\"yaxis\":{\"backgroundcolor\":\"#E5ECF6\",\"gridcolor\":\"white\",\"linecolor\":\"white\",\"showbackground\":true,\"ticks\":\"\",\"zerolinecolor\":\"white\",\"gridwidth\":2},\"zaxis\":{\"backgroundcolor\":\"#E5ECF6\",\"gridcolor\":\"white\",\"linecolor\":\"white\",\"showbackground\":true,\"ticks\":\"\",\"zerolinecolor\":\"white\",\"gridwidth\":2}},\"shapedefaults\":{\"line\":{\"color\":\"#2a3f5f\"}},\"annotationdefaults\":{\"arrowcolor\":\"#2a3f5f\",\"arrowhead\":0,\"arrowwidth\":1},\"geo\":{\"bgcolor\":\"white\",\"landcolor\":\"#E5ECF6\",\"subunitcolor\":\"white\",\"showland\":true,\"showlakes\":true,\"lakecolor\":\"white\"},\"title\":{\"x\":0.05},\"mapbox\":{\"style\":\"light\"}}},\"xaxis\":{\"anchor\":\"y\",\"domain\":[0.0,1.0],\"title\":{\"text\":\"Gender\"}},\"yaxis\":{\"anchor\":\"x\",\"domain\":[0.0,1.0],\"title\":{\"text\":\"count\"}},\"legend\":{\"title\":{\"text\":\"Dominant_Emotion\"},\"tracegroupgap\":0},\"title\":{\"text\":\"Dominant Emotion by Gender\"},\"barmode\":\"relative\"},                        {\"responsive\": true}                    ).then(function(){\n",
              "                            \n",
              "var gd = document.getElementById('7b9d1b40-05de-412e-ba50-65a34b99551d');\n",
              "var x = new MutationObserver(function (mutations, observer) {{\n",
              "        var display = window.getComputedStyle(gd).display;\n",
              "        if (!display || display === 'none') {{\n",
              "            console.log([gd, 'removed!']);\n",
              "            Plotly.purge(gd);\n",
              "            observer.disconnect();\n",
              "        }}\n",
              "}});\n",
              "\n",
              "// Listen for the removal of the full notebook cells\n",
              "var notebookContainer = gd.closest('#notebook-container');\n",
              "if (notebookContainer) {{\n",
              "    x.observe(notebookContainer, {childList: true});\n",
              "}}\n",
              "\n",
              "// Listen for the clearing of the current output cell\n",
              "var outputEl = gd.closest('.output');\n",
              "if (outputEl) {{\n",
              "    x.observe(outputEl, {childList: true});\n",
              "}}\n",
              "\n",
              "                        })                };                            </script>        </div>\n",
              "</body>\n",
              "</html>"
            ]
          },
          "metadata": {}
        }
      ]
    },
    {
      "cell_type": "markdown",
      "source": [
        "### Platform VS Emotions"
      ],
      "metadata": {
        "id": "FrxYciSwFBgp"
      }
    },
    {
      "cell_type": "code",
      "source": [
        "# checking the Platformagainest the Dominant_Emotion\n",
        "grouped = train_df.groupby(['Platform', 'Dominant_Emotion'])\n",
        "\n",
        "# count the number of rows in each group\n",
        "counts = grouped.size()\n",
        "\n",
        "# print the counts\n",
        "print(counts)"
      ],
      "metadata": {
        "id": "AgR-M_i5FBgp",
        "outputId": "5f5a89dc-290d-49dd-f24a-4e23ea43c7ba",
        "colab": {
          "base_uri": "https://localhost:8080/"
        }
      },
      "execution_count": null,
      "outputs": [
        {
          "output_type": "stream",
          "name": "stdout",
          "text": [
            "Platform   Dominant_Emotion\n",
            "Facebook   Anxiety               50\n",
            "           Boredom               40\n",
            "           Neutral               70\n",
            "           Sadness               30\n",
            "Instagram  Anger                 10\n",
            "           Anxiety               30\n",
            "           Happiness           1174\n",
            "           Neutral               20\n",
            "           Sadness               20\n",
            "LinkedIn   Anxiety               20\n",
            "           Boredom               70\n",
            "           Neutral               20\n",
            "           Sadness               10\n",
            "Snapchat   Anxiety               20\n",
            "           Happiness             10\n",
            "           Neutral               20\n",
            "           Sadness               30\n",
            "Telegram   Anger                 10\n",
            "           Anxiety               10\n",
            "           Boredom               10\n",
            "           Neutral               30\n",
            "           Sadness               20\n",
            "Twitter    Anger                 80\n",
            "           Anxiety               20\n",
            "           Boredom               20\n",
            "           Happiness             10\n",
            "           Neutral               20\n",
            "           Sadness               50\n",
            "Whatsapp   Anger                 30\n",
            "           Anxiety               20\n",
            "           Happiness             10\n",
            "           Neutral               20\n",
            "dtype: int64\n"
          ]
        }
      ]
    },
    {
      "cell_type": "code",
      "source": [
        "Plt = px.histogram(train_df, x='Platform', color='Dominant_Emotion', title='Dominant Emotion by Platform')\n",
        "Plt.show()"
      ],
      "metadata": {
        "id": "0m0RXm4fFBgp",
        "outputId": "b78a24a6-b32c-4554-f3ab-fb8db65329f6",
        "colab": {
          "base_uri": "https://localhost:8080/",
          "height": 542
        }
      },
      "execution_count": null,
      "outputs": [
        {
          "output_type": "display_data",
          "data": {
            "text/html": [
              "<html>\n",
              "<head><meta charset=\"utf-8\" /></head>\n",
              "<body>\n",
              "    <div>            <script src=\"https://cdnjs.cloudflare.com/ajax/libs/mathjax/2.7.5/MathJax.js?config=TeX-AMS-MML_SVG\"></script><script type=\"text/javascript\">if (window.MathJax && window.MathJax.Hub && window.MathJax.Hub.Config) {window.MathJax.Hub.Config({SVG: {font: \"STIX-Web\"}});}</script>                <script type=\"text/javascript\">window.PlotlyConfig = {MathJaxConfig: 'local'};</script>\n",
              "        <script charset=\"utf-8\" src=\"https://cdn.plot.ly/plotly-2.35.2.min.js\"></script>                <div id=\"7e6ed0e2-9797-41a8-a7bc-113013d8c1df\" class=\"plotly-graph-div\" style=\"height:525px; width:100%;\"></div>            <script type=\"text/javascript\">                                    window.PLOTLYENV=window.PLOTLYENV || {};                                    if (document.getElementById(\"7e6ed0e2-9797-41a8-a7bc-113013d8c1df\")) {                    Plotly.newPlot(                        \"7e6ed0e2-9797-41a8-a7bc-113013d8c1df\",                        [{\"alignmentgroup\":\"True\",\"bingroup\":\"x\",\"hovertemplate\":\"Dominant_Emotion=Happiness\\u003cbr\\u003ePlatform=%{x}\\u003cbr\\u003ecount=%{y}\\u003cextra\\u003e\\u003c\\u002fextra\\u003e\",\"legendgroup\":\"Happiness\",\"marker\":{\"color\":\"#636efa\",\"pattern\":{\"shape\":\"\"}},\"name\":\"Happiness\",\"offsetgroup\":\"Happiness\",\"orientation\":\"v\",\"showlegend\":true,\"x\":[\"Instagram\",\"Instagram\",\"Instagram\",\"Instagram\",\"Instagram\",\"Instagram\",\"Instagram\",\"Instagram\",\"Instagram\",\"Instagram\",\"Instagram\",\"Instagram\",\"Instagram\",\"Instagram\",\"Instagram\",\"Instagram\",\"Instagram\",\"Instagram\",\"Instagram\",\"Instagram\",\"Instagram\",\"Instagram\",\"Instagram\",\"Instagram\",\"Instagram\",\"Instagram\",\"Instagram\",\"Instagram\",\"Instagram\",\"Instagram\",\"Instagram\",\"Instagram\",\"Instagram\",\"Instagram\",\"Instagram\",\"Instagram\",\"Instagram\",\"Instagram\",\"Instagram\",\"Instagram\",\"Instagram\",\"Instagram\",\"Instagram\",\"Instagram\",\"Instagram\",\"Instagram\",\"Instagram\",\"Instagram\",\"Instagram\",\"Instagram\",\"Instagram\",\"Instagram\",\"Instagram\",\"Instagram\",\"Instagram\",\"Instagram\",\"Instagram\",\"Instagram\",\"Instagram\",\"Instagram\",\"Instagram\",\"Instagram\",\"Instagram\",\"Instagram\",\"Instagram\",\"Instagram\",\"Instagram\",\"Instagram\",\"Instagram\",\"Instagram\",\"Instagram\",\"Twitter\",\"Instagram\",\"Instagram\",\"Instagram\",\"Instagram\",\"Instagram\",\"Instagram\",\"Instagram\",\"Instagram\",\"Instagram\",\"Instagram\",\"Instagram\",\"Instagram\",\"Instagram\",\"Instagram\",\"Instagram\",\"Instagram\",\"Instagram\",\"Instagram\",\"Instagram\",\"Instagram\",\"Instagram\",\"Instagram\",\"Instagram\",\"Instagram\",\"Instagram\",\"Instagram\",\"Instagram\",\"Snapchat\",\"Instagram\",\"Instagram\",\"Instagram\",\"Instagram\",\"Instagram\",\"Instagram\",\"Instagram\",\"Instagram\",\"Instagram\",\"Instagram\",\"Instagram\",\"Instagram\",\"Instagram\",\"Instagram\",\"Instagram\",\"Instagram\",\"Instagram\",\"Whatsapp\",\"Instagram\",\"Instagram\",\"Instagram\",\"Instagram\",\"Instagram\",\"Instagram\",\"Instagram\",\"Instagram\",\"Instagram\",\"Instagram\",\"Instagram\",\"Instagram\",\"Instagram\",\"Instagram\",\"Instagram\",\"Instagram\",\"Instagram\",\"Instagram\",\"Instagram\",\"Instagram\",\"Instagram\",\"Instagram\",\"Instagram\",\"Instagram\",\"Instagram\",\"Instagram\",\"Instagram\",\"Instagram\",\"Instagram\",\"Instagram\",\"Instagram\",\"Instagram\",\"Instagram\",\"Instagram\",\"Instagram\",\"Instagram\",\"Instagram\",\"Instagram\",\"Instagram\",\"Instagram\",\"Instagram\",\"Instagram\",\"Instagram\",\"Instagram\",\"Instagram\",\"Instagram\",\"Instagram\",\"Instagram\",\"Instagram\",\"Instagram\",\"Instagram\",\"Instagram\",\"Instagram\",\"Instagram\",\"Instagram\",\"Instagram\",\"Instagram\",\"Instagram\",\"Instagram\",\"Instagram\",\"Instagram\",\"Instagram\",\"Instagram\",\"Instagram\",\"Instagram\",\"Instagram\",\"Instagram\",\"Instagram\",\"Instagram\",\"Instagram\",\"Instagram\",\"Instagram\",\"Instagram\",\"Twitter\",\"Instagram\",\"Instagram\",\"Instagram\",\"Instagram\",\"Instagram\",\"Instagram\",\"Instagram\",\"Instagram\",\"Instagram\",\"Instagram\",\"Instagram\",\"Instagram\",\"Instagram\",\"Instagram\",\"Instagram\",\"Instagram\",\"Instagram\",\"Instagram\",\"Instagram\",\"Instagram\",\"Instagram\",\"Instagram\",\"Instagram\",\"Instagram\",\"Instagram\",\"Instagram\",\"Instagram\",\"Snapchat\",\"Instagram\",\"Instagram\",\"Instagram\",\"Instagram\",\"Instagram\",\"Instagram\",\"Instagram\",\"Instagram\",\"Instagram\",\"Instagram\",\"Instagram\",\"Instagram\",\"Instagram\",\"Instagram\",\"Instagram\",\"Instagram\",\"Instagram\",\"Whatsapp\",\"Instagram\",\"Instagram\",\"Instagram\",\"Instagram\",\"Instagram\",\"Instagram\",\"Instagram\",\"Instagram\",\"Instagram\",\"Instagram\",\"Instagram\",\"Instagram\",\"Instagram\",\"Instagram\",\"Instagram\",\"Instagram\",\"Instagram\",\"Instagram\",\"Instagram\",\"Instagram\",\"Instagram\",\"Instagram\",\"Instagram\",\"Instagram\",\"Instagram\",\"Instagram\",\"Instagram\",\"Instagram\",\"Instagram\",\"Instagram\",\"Instagram\",\"Instagram\",\"Instagram\",\"Instagram\",\"Instagram\",\"Instagram\",\"Instagram\",\"Instagram\",\"Instagram\",\"Instagram\",\"Instagram\",\"Instagram\",\"Instagram\",\"Instagram\",\"Instagram\",\"Instagram\",\"Instagram\",\"Instagram\",\"Instagram\",\"Instagram\",\"Instagram\",\"Instagram\",\"Instagram\",\"Instagram\",\"Instagram\",\"Instagram\",\"Instagram\",\"Instagram\",\"Instagram\",\"Instagram\",\"Instagram\",\"Instagram\",\"Instagram\",\"Instagram\",\"Instagram\",\"Instagram\",\"Instagram\",\"Instagram\",\"Instagram\",\"Instagram\",\"Instagram\",\"Instagram\",\"Instagram\",\"Twitter\",\"Instagram\",\"Instagram\",\"Instagram\",\"Instagram\",\"Instagram\",\"Instagram\",\"Instagram\",\"Instagram\",\"Instagram\",\"Instagram\",\"Instagram\",\"Instagram\",\"Instagram\",\"Instagram\",\"Instagram\",\"Instagram\",\"Instagram\",\"Instagram\",\"Instagram\",\"Instagram\",\"Instagram\",\"Instagram\",\"Instagram\",\"Instagram\",\"Instagram\",\"Instagram\",\"Instagram\",\"Snapchat\",\"Instagram\",\"Instagram\",\"Instagram\",\"Instagram\",\"Instagram\",\"Instagram\",\"Instagram\",\"Instagram\",\"Instagram\",\"Instagram\",\"Instagram\",\"Instagram\",\"Instagram\",\"Instagram\",\"Instagram\",\"Instagram\",\"Instagram\",\"Whatsapp\",\"Instagram\",\"Instagram\",\"Instagram\",\"Instagram\",\"Instagram\",\"Instagram\",\"Instagram\",\"Instagram\",\"Instagram\",\"Instagram\",\"Instagram\",\"Instagram\",\"Instagram\",\"Instagram\",\"Instagram\",\"Instagram\",\"Instagram\",\"Instagram\",\"Instagram\",\"Instagram\",\"Instagram\",\"Instagram\",\"Instagram\",\"Instagram\",\"Instagram\",\"Instagram\",\"Instagram\",\"Instagram\",\"Instagram\",\"Instagram\",\"Instagram\",\"Instagram\",\"Instagram\",\"Instagram\",\"Instagram\",\"Instagram\",\"Instagram\",\"Instagram\",\"Instagram\",\"Instagram\",\"Instagram\",\"Instagram\",\"Instagram\",\"Instagram\",\"Instagram\",\"Instagram\",\"Instagram\",\"Instagram\",\"Instagram\",\"Instagram\",\"Instagram\",\"Instagram\",\"Instagram\",\"Instagram\",\"Instagram\",\"Instagram\",\"Instagram\",\"Instagram\",\"Instagram\",\"Instagram\",\"Instagram\",\"Instagram\",\"Instagram\",\"Instagram\",\"Instagram\",\"Instagram\",\"Instagram\",\"Instagram\",\"Instagram\",\"Instagram\",\"Instagram\",\"Instagram\",\"Instagram\",\"Twitter\",\"Instagram\",\"Instagram\",\"Instagram\",\"Instagram\",\"Instagram\",\"Instagram\",\"Instagram\",\"Instagram\",\"Instagram\",\"Instagram\",\"Instagram\",\"Instagram\",\"Instagram\",\"Instagram\",\"Instagram\",\"Instagram\",\"Instagram\",\"Instagram\",\"Instagram\",\"Instagram\",\"Instagram\",\"Instagram\",\"Instagram\",\"Instagram\",\"Instagram\",\"Instagram\",\"Instagram\",\"Snapchat\",\"Instagram\",\"Instagram\",\"Instagram\",\"Instagram\",\"Instagram\",\"Instagram\",\"Instagram\",\"Instagram\",\"Instagram\",\"Instagram\",\"Instagram\",\"Instagram\",\"Instagram\",\"Instagram\",\"Instagram\",\"Instagram\",\"Instagram\",\"Whatsapp\",\"Instagram\",\"Instagram\",\"Instagram\",\"Instagram\",\"Instagram\",\"Instagram\",\"Instagram\",\"Instagram\",\"Instagram\",\"Instagram\",\"Instagram\",\"Instagram\",\"Instagram\",\"Instagram\",\"Instagram\",\"Instagram\",\"Instagram\",\"Instagram\",\"Instagram\",\"Instagram\",\"Instagram\",\"Instagram\",\"Instagram\",\"Instagram\",\"Instagram\",\"Instagram\",\"Instagram\",\"Instagram\",\"Instagram\",\"Instagram\",\"Instagram\",\"Instagram\",\"Instagram\",\"Instagram\",\"Instagram\",\"Instagram\",\"Instagram\",\"Instagram\",\"Instagram\",\"Instagram\",\"Instagram\",\"Instagram\",\"Instagram\",\"Instagram\",\"Instagram\",\"Instagram\",\"Instagram\",\"Instagram\",\"Instagram\",\"Instagram\",\"Instagram\",\"Instagram\",\"Instagram\",\"Instagram\",\"Instagram\",\"Instagram\",\"Instagram\",\"Instagram\",\"Instagram\",\"Instagram\",\"Instagram\",\"Instagram\",\"Instagram\",\"Instagram\",\"Instagram\",\"Instagram\",\"Instagram\",\"Instagram\",\"Instagram\",\"Instagram\",\"Instagram\",\"Instagram\",\"Instagram\",\"Twitter\",\"Instagram\",\"Instagram\",\"Instagram\",\"Instagram\",\"Instagram\",\"Instagram\",\"Instagram\",\"Instagram\",\"Instagram\",\"Instagram\",\"Instagram\",\"Instagram\",\"Instagram\",\"Instagram\",\"Instagram\",\"Instagram\",\"Instagram\",\"Instagram\",\"Instagram\",\"Instagram\",\"Instagram\",\"Instagram\",\"Instagram\",\"Instagram\",\"Instagram\",\"Instagram\",\"Instagram\",\"Snapchat\",\"Instagram\",\"Instagram\",\"Instagram\",\"Instagram\",\"Instagram\",\"Instagram\",\"Instagram\",\"Instagram\",\"Instagram\",\"Instagram\",\"Instagram\",\"Instagram\",\"Instagram\",\"Instagram\",\"Instagram\",\"Instagram\",\"Instagram\",\"Whatsapp\",\"Instagram\",\"Instagram\",\"Instagram\",\"Instagram\",\"Instagram\",\"Instagram\",\"Instagram\",\"Instagram\",\"Instagram\",\"Instagram\",\"Instagram\",\"Instagram\",\"Instagram\",\"Instagram\",\"Instagram\",\"Instagram\",\"Instagram\",\"Instagram\",\"Instagram\",\"Instagram\",\"Instagram\",\"Instagram\",\"Instagram\",\"Instagram\",\"Instagram\",\"Instagram\",\"Instagram\",\"Instagram\",\"Instagram\",\"Instagram\",\"Instagram\",\"Instagram\",\"Instagram\",\"Instagram\",\"Instagram\",\"Instagram\",\"Instagram\",\"Instagram\",\"Instagram\",\"Instagram\",\"Instagram\",\"Instagram\",\"Instagram\",\"Instagram\",\"Instagram\",\"Instagram\",\"Instagram\",\"Instagram\",\"Instagram\",\"Instagram\",\"Instagram\",\"Instagram\",\"Instagram\",\"Instagram\",\"Instagram\",\"Instagram\",\"Instagram\",\"Instagram\",\"Instagram\",\"Instagram\",\"Instagram\",\"Instagram\",\"Instagram\",\"Instagram\",\"Instagram\",\"Instagram\",\"Instagram\",\"Instagram\",\"Instagram\",\"Instagram\",\"Instagram\",\"Instagram\",\"Instagram\",\"Twitter\",\"Instagram\",\"Instagram\",\"Instagram\",\"Instagram\",\"Instagram\",\"Instagram\",\"Instagram\",\"Instagram\",\"Instagram\",\"Instagram\",\"Instagram\",\"Instagram\",\"Instagram\",\"Instagram\",\"Instagram\",\"Instagram\",\"Instagram\",\"Instagram\",\"Instagram\",\"Instagram\",\"Instagram\",\"Instagram\",\"Instagram\",\"Instagram\",\"Instagram\",\"Instagram\",\"Instagram\",\"Snapchat\",\"Instagram\",\"Instagram\",\"Instagram\",\"Instagram\",\"Instagram\",\"Instagram\",\"Instagram\",\"Instagram\",\"Instagram\",\"Instagram\",\"Instagram\",\"Instagram\",\"Instagram\",\"Instagram\",\"Instagram\",\"Instagram\",\"Instagram\",\"Whatsapp\",\"Instagram\",\"Instagram\",\"Instagram\",\"Instagram\",\"Instagram\",\"Instagram\",\"Instagram\",\"Instagram\",\"Instagram\",\"Instagram\",\"Instagram\",\"Instagram\",\"Instagram\",\"Instagram\",\"Instagram\",\"Instagram\",\"Instagram\",\"Instagram\",\"Instagram\",\"Instagram\",\"Instagram\",\"Instagram\",\"Instagram\",\"Instagram\",\"Instagram\",\"Instagram\",\"Instagram\",\"Instagram\",\"Instagram\",\"Instagram\",\"Instagram\",\"Instagram\",\"Instagram\",\"Instagram\",\"Instagram\",\"Instagram\",\"Instagram\",\"Instagram\",\"Instagram\",\"Instagram\",\"Instagram\",\"Instagram\",\"Instagram\",\"Instagram\",\"Instagram\",\"Instagram\",\"Instagram\",\"Instagram\",\"Instagram\",\"Instagram\",\"Instagram\",\"Instagram\",\"Instagram\",\"Instagram\",\"Instagram\",\"Instagram\",\"Instagram\",\"Instagram\",\"Instagram\",\"Instagram\",\"Instagram\",\"Instagram\",\"Instagram\",\"Instagram\",\"Instagram\",\"Instagram\",\"Instagram\",\"Instagram\",\"Instagram\",\"Instagram\",\"Instagram\",\"Instagram\",\"Instagram\",\"Instagram\",\"Instagram\",\"Instagram\",\"Instagram\",\"Twitter\",\"Instagram\",\"Instagram\",\"Instagram\",\"Instagram\",\"Instagram\",\"Instagram\",\"Instagram\",\"Instagram\",\"Instagram\",\"Instagram\",\"Instagram\",\"Instagram\",\"Instagram\",\"Instagram\",\"Instagram\",\"Instagram\",\"Instagram\",\"Instagram\",\"Instagram\",\"Instagram\",\"Instagram\",\"Instagram\",\"Instagram\",\"Instagram\",\"Instagram\",\"Instagram\",\"Instagram\",\"Snapchat\",\"Instagram\",\"Instagram\",\"Instagram\",\"Instagram\",\"Instagram\",\"Instagram\",\"Instagram\",\"Instagram\",\"Instagram\",\"Instagram\",\"Instagram\",\"Instagram\",\"Instagram\",\"Instagram\",\"Instagram\",\"Instagram\",\"Instagram\",\"Whatsapp\",\"Instagram\",\"Instagram\",\"Instagram\",\"Instagram\",\"Instagram\",\"Instagram\",\"Instagram\",\"Instagram\",\"Instagram\",\"Instagram\",\"Instagram\",\"Instagram\",\"Instagram\",\"Instagram\",\"Instagram\",\"Instagram\",\"Instagram\",\"Instagram\",\"Instagram\",\"Instagram\",\"Instagram\",\"Instagram\",\"Instagram\",\"Instagram\",\"Instagram\",\"Instagram\",\"Instagram\",\"Instagram\",\"Instagram\",\"Instagram\",\"Instagram\",\"Instagram\",\"Instagram\",\"Instagram\",\"Instagram\",\"Instagram\",\"Instagram\",\"Instagram\",\"Instagram\",\"Instagram\",\"Instagram\",\"Instagram\",\"Instagram\",\"Instagram\",\"Instagram\",\"Instagram\",\"Instagram\",\"Instagram\",\"Instagram\",\"Instagram\",\"Instagram\",\"Instagram\",\"Instagram\",\"Instagram\",\"Instagram\",\"Instagram\",\"Instagram\",\"Instagram\",\"Instagram\",\"Instagram\",\"Instagram\",\"Instagram\",\"Instagram\",\"Instagram\",\"Instagram\",\"Instagram\",\"Instagram\",\"Instagram\",\"Instagram\",\"Instagram\",\"Instagram\",\"Instagram\",\"Instagram\",\"Twitter\",\"Instagram\",\"Instagram\",\"Instagram\",\"Instagram\",\"Instagram\",\"Instagram\",\"Instagram\",\"Instagram\",\"Instagram\",\"Instagram\",\"Instagram\",\"Instagram\",\"Instagram\",\"Instagram\",\"Instagram\",\"Instagram\",\"Instagram\",\"Instagram\",\"Instagram\",\"Instagram\",\"Instagram\",\"Instagram\",\"Instagram\",\"Instagram\",\"Instagram\",\"Instagram\",\"Instagram\",\"Snapchat\",\"Instagram\",\"Instagram\",\"Instagram\",\"Instagram\",\"Instagram\",\"Instagram\",\"Instagram\",\"Instagram\",\"Instagram\",\"Instagram\",\"Instagram\",\"Instagram\",\"Instagram\",\"Instagram\",\"Instagram\",\"Instagram\",\"Instagram\",\"Whatsapp\",\"Instagram\",\"Instagram\",\"Instagram\",\"Instagram\",\"Instagram\",\"Instagram\",\"Instagram\",\"Instagram\",\"Instagram\",\"Instagram\",\"Instagram\",\"Instagram\",\"Instagram\",\"Instagram\",\"Instagram\",\"Instagram\",\"Instagram\",\"Instagram\",\"Instagram\",\"Instagram\",\"Instagram\",\"Instagram\",\"Instagram\",\"Instagram\",\"Instagram\",\"Instagram\",\"Instagram\",\"Instagram\",\"Instagram\",\"Instagram\",\"Instagram\",\"Instagram\",\"Instagram\",\"Instagram\",\"Instagram\",\"Instagram\",\"Instagram\",\"Instagram\",\"Instagram\",\"Instagram\",\"Instagram\",\"Instagram\",\"Instagram\",\"Instagram\",\"Instagram\",\"Instagram\",\"Instagram\",\"Instagram\",\"Instagram\",\"Instagram\",\"Instagram\",\"Instagram\",\"Instagram\",\"Instagram\",\"Instagram\",\"Instagram\",\"Instagram\",\"Instagram\",\"Instagram\",\"Instagram\",\"Instagram\",\"Instagram\",\"Instagram\",\"Instagram\",\"Instagram\",\"Instagram\",\"Instagram\",\"Instagram\",\"Instagram\",\"Instagram\",\"Instagram\",\"Instagram\",\"Instagram\",\"Twitter\",\"Instagram\",\"Instagram\",\"Instagram\",\"Instagram\",\"Instagram\",\"Instagram\",\"Instagram\",\"Instagram\",\"Instagram\",\"Instagram\",\"Instagram\",\"Instagram\",\"Instagram\",\"Instagram\",\"Instagram\",\"Instagram\",\"Instagram\",\"Instagram\",\"Instagram\",\"Instagram\",\"Instagram\",\"Instagram\",\"Instagram\",\"Instagram\",\"Instagram\",\"Instagram\",\"Instagram\",\"Snapchat\",\"Instagram\",\"Instagram\",\"Instagram\",\"Instagram\",\"Instagram\",\"Instagram\",\"Instagram\",\"Instagram\",\"Instagram\",\"Instagram\",\"Instagram\",\"Instagram\",\"Instagram\",\"Instagram\",\"Instagram\",\"Instagram\",\"Instagram\",\"Whatsapp\",\"Instagram\",\"Instagram\",\"Instagram\",\"Instagram\",\"Instagram\",\"Instagram\",\"Instagram\",\"Instagram\",\"Instagram\",\"Instagram\",\"Instagram\",\"Instagram\",\"Instagram\",\"Instagram\",\"Instagram\",\"Instagram\",\"Instagram\",\"Instagram\",\"Instagram\",\"Instagram\",\"Instagram\",\"Instagram\",\"Instagram\",\"Instagram\",\"Instagram\",\"Instagram\",\"Instagram\",\"Instagram\",\"Instagram\",\"Instagram\",\"Instagram\",\"Instagram\",\"Instagram\",\"Instagram\",\"Instagram\",\"Instagram\",\"Instagram\",\"Instagram\",\"Instagram\",\"Instagram\",\"Instagram\",\"Instagram\",\"Instagram\",\"Instagram\",\"Instagram\",\"Instagram\",\"Instagram\",\"Instagram\",\"Instagram\",\"Instagram\",\"Instagram\",\"Instagram\",\"Instagram\",\"Instagram\",\"Instagram\",\"Instagram\",\"Instagram\",\"Instagram\",\"Instagram\",\"Instagram\",\"Instagram\",\"Instagram\",\"Instagram\",\"Instagram\",\"Instagram\",\"Instagram\",\"Instagram\",\"Instagram\",\"Instagram\",\"Instagram\",\"Instagram\",\"Instagram\",\"Instagram\",\"Twitter\",\"Instagram\",\"Instagram\",\"Instagram\",\"Instagram\",\"Instagram\",\"Instagram\",\"Instagram\",\"Instagram\",\"Instagram\",\"Instagram\",\"Instagram\",\"Instagram\",\"Instagram\",\"Instagram\",\"Instagram\",\"Instagram\",\"Instagram\",\"Instagram\",\"Instagram\",\"Instagram\",\"Instagram\",\"Instagram\",\"Instagram\",\"Instagram\",\"Instagram\",\"Instagram\",\"Instagram\",\"Snapchat\",\"Instagram\",\"Instagram\",\"Instagram\",\"Instagram\",\"Instagram\",\"Instagram\",\"Instagram\",\"Instagram\",\"Instagram\",\"Instagram\",\"Instagram\",\"Instagram\",\"Instagram\",\"Instagram\",\"Instagram\",\"Instagram\",\"Instagram\",\"Whatsapp\",\"Instagram\",\"Instagram\"],\"xaxis\":\"x\",\"yaxis\":\"y\",\"type\":\"histogram\"},{\"alignmentgroup\":\"True\",\"bingroup\":\"x\",\"hovertemplate\":\"Dominant_Emotion=Anger\\u003cbr\\u003ePlatform=%{x}\\u003cbr\\u003ecount=%{y}\\u003cextra\\u003e\\u003c\\u002fextra\\u003e\",\"legendgroup\":\"Anger\",\"marker\":{\"color\":\"#EF553B\",\"pattern\":{\"shape\":\"\"}},\"name\":\"Anger\",\"offsetgroup\":\"Anger\",\"orientation\":\"v\",\"showlegend\":true,\"x\":[\"Twitter\",\"Twitter\",\"Twitter\",\"Twitter\",\"Twitter\",\"Twitter\",\"Twitter\",\"Twitter\",\"Whatsapp\",\"Whatsapp\",\"Instagram\",\"Whatsapp\",\"Telegram\",\"Twitter\",\"Twitter\",\"Twitter\",\"Twitter\",\"Twitter\",\"Twitter\",\"Twitter\",\"Twitter\",\"Whatsapp\",\"Whatsapp\",\"Instagram\",\"Whatsapp\",\"Telegram\",\"Twitter\",\"Twitter\",\"Twitter\",\"Twitter\",\"Twitter\",\"Twitter\",\"Twitter\",\"Twitter\",\"Whatsapp\",\"Whatsapp\",\"Instagram\",\"Whatsapp\",\"Telegram\",\"Twitter\",\"Twitter\",\"Twitter\",\"Twitter\",\"Twitter\",\"Twitter\",\"Twitter\",\"Twitter\",\"Whatsapp\",\"Whatsapp\",\"Instagram\",\"Whatsapp\",\"Telegram\",\"Twitter\",\"Twitter\",\"Twitter\",\"Twitter\",\"Twitter\",\"Twitter\",\"Twitter\",\"Twitter\",\"Whatsapp\",\"Whatsapp\",\"Instagram\",\"Whatsapp\",\"Telegram\",\"Twitter\",\"Twitter\",\"Twitter\",\"Twitter\",\"Twitter\",\"Twitter\",\"Twitter\",\"Twitter\",\"Whatsapp\",\"Whatsapp\",\"Instagram\",\"Whatsapp\",\"Telegram\",\"Twitter\",\"Twitter\",\"Twitter\",\"Twitter\",\"Twitter\",\"Twitter\",\"Twitter\",\"Twitter\",\"Whatsapp\",\"Whatsapp\",\"Instagram\",\"Whatsapp\",\"Telegram\",\"Twitter\",\"Twitter\",\"Twitter\",\"Twitter\",\"Twitter\",\"Twitter\",\"Twitter\",\"Twitter\",\"Whatsapp\",\"Whatsapp\",\"Instagram\",\"Whatsapp\",\"Telegram\",\"Twitter\",\"Twitter\",\"Twitter\",\"Twitter\",\"Twitter\",\"Twitter\",\"Twitter\",\"Twitter\",\"Whatsapp\",\"Whatsapp\",\"Instagram\",\"Whatsapp\",\"Telegram\",\"Twitter\",\"Twitter\",\"Twitter\",\"Twitter\",\"Twitter\",\"Twitter\",\"Twitter\",\"Twitter\",\"Whatsapp\",\"Whatsapp\",\"Instagram\",\"Whatsapp\",\"Telegram\"],\"xaxis\":\"x\",\"yaxis\":\"y\",\"type\":\"histogram\"},{\"alignmentgroup\":\"True\",\"bingroup\":\"x\",\"hovertemplate\":\"Dominant_Emotion=Neutral\\u003cbr\\u003ePlatform=%{x}\\u003cbr\\u003ecount=%{y}\\u003cextra\\u003e\\u003c\\u002fextra\\u003e\",\"legendgroup\":\"Neutral\",\"marker\":{\"color\":\"#00cc96\",\"pattern\":{\"shape\":\"\"}},\"name\":\"Neutral\",\"offsetgroup\":\"Neutral\",\"orientation\":\"v\",\"showlegend\":true,\"x\":[\"Facebook\",\"LinkedIn\",\"Facebook\",\"LinkedIn\",\"Facebook\",\"Twitter\",\"Instagram\",\"Facebook\",\"Instagram\",\"Facebook\",\"Telegram\",\"Whatsapp\",\"Facebook\",\"Telegram\",\"Whatsapp\",\"Twitter\",\"Snapchat\",\"Telegram\",\"Facebook\",\"Snapchat\",\"Facebook\",\"LinkedIn\",\"Facebook\",\"LinkedIn\",\"Facebook\",\"Twitter\",\"Instagram\",\"Facebook\",\"Instagram\",\"Facebook\",\"Telegram\",\"Whatsapp\",\"Facebook\",\"Telegram\",\"Whatsapp\",\"Twitter\",\"Snapchat\",\"Telegram\",\"Facebook\",\"Snapchat\",\"Facebook\",\"LinkedIn\",\"Facebook\",\"LinkedIn\",\"Facebook\",\"Twitter\",\"Instagram\",\"Facebook\",\"Instagram\",\"Facebook\",\"Telegram\",\"Whatsapp\",\"Facebook\",\"Telegram\",\"Whatsapp\",\"Twitter\",\"Snapchat\",\"Telegram\",\"Facebook\",\"Snapchat\",\"Facebook\",\"LinkedIn\",\"Facebook\",\"LinkedIn\",\"Facebook\",\"Twitter\",\"Instagram\",\"Facebook\",\"Instagram\",\"Facebook\",\"Telegram\",\"Whatsapp\",\"Facebook\",\"Telegram\",\"Whatsapp\",\"Twitter\",\"Snapchat\",\"Telegram\",\"Facebook\",\"Snapchat\",\"Facebook\",\"LinkedIn\",\"Facebook\",\"LinkedIn\",\"Facebook\",\"Twitter\",\"Instagram\",\"Facebook\",\"Instagram\",\"Facebook\",\"Telegram\",\"Whatsapp\",\"Facebook\",\"Telegram\",\"Whatsapp\",\"Twitter\",\"Snapchat\",\"Telegram\",\"Facebook\",\"Snapchat\",\"Facebook\",\"LinkedIn\",\"Facebook\",\"LinkedIn\",\"Facebook\",\"Twitter\",\"Instagram\",\"Facebook\",\"Instagram\",\"Facebook\",\"Telegram\",\"Whatsapp\",\"Facebook\",\"Telegram\",\"Whatsapp\",\"Twitter\",\"Snapchat\",\"Telegram\",\"Facebook\",\"Snapchat\",\"Facebook\",\"LinkedIn\",\"Facebook\",\"LinkedIn\",\"Facebook\",\"Twitter\",\"Instagram\",\"Facebook\",\"Instagram\",\"Facebook\",\"Telegram\",\"Whatsapp\",\"Facebook\",\"Telegram\",\"Whatsapp\",\"Twitter\",\"Snapchat\",\"Telegram\",\"Facebook\",\"Snapchat\",\"Facebook\",\"LinkedIn\",\"Facebook\",\"LinkedIn\",\"Facebook\",\"Twitter\",\"Instagram\",\"Facebook\",\"Instagram\",\"Facebook\",\"Telegram\",\"Whatsapp\",\"Facebook\",\"Telegram\",\"Whatsapp\",\"Twitter\",\"Snapchat\",\"Telegram\",\"Facebook\",\"Snapchat\",\"Facebook\",\"LinkedIn\",\"Facebook\",\"LinkedIn\",\"Facebook\",\"Twitter\",\"Instagram\",\"Facebook\",\"Instagram\",\"Facebook\",\"Telegram\",\"Whatsapp\",\"Facebook\",\"Telegram\",\"Whatsapp\",\"Twitter\",\"Snapchat\",\"Telegram\",\"Facebook\",\"Snapchat\",\"Facebook\",\"LinkedIn\",\"Facebook\",\"LinkedIn\",\"Facebook\",\"Twitter\",\"Instagram\",\"Facebook\",\"Instagram\",\"Facebook\",\"Telegram\",\"Whatsapp\",\"Facebook\",\"Telegram\",\"Whatsapp\",\"Twitter\",\"Snapchat\",\"Telegram\",\"Facebook\",\"Snapchat\"],\"xaxis\":\"x\",\"yaxis\":\"y\",\"type\":\"histogram\"},{\"alignmentgroup\":\"True\",\"bingroup\":\"x\",\"hovertemplate\":\"Dominant_Emotion=Anxiety\\u003cbr\\u003ePlatform=%{x}\\u003cbr\\u003ecount=%{y}\\u003cextra\\u003e\\u003c\\u002fextra\\u003e\",\"legendgroup\":\"Anxiety\",\"marker\":{\"color\":\"#ab63fa\",\"pattern\":{\"shape\":\"\"}},\"name\":\"Anxiety\",\"offsetgroup\":\"Anxiety\",\"orientation\":\"v\",\"showlegend\":true,\"x\":[\"Instagram\",\"Twitter\",\"Instagram\",\"Facebook\",\"LinkedIn\",\"Facebook\",\"Facebook\",\"Facebook\",\"LinkedIn\",\"Whatsapp\",\"Snapchat\",\"Telegram\",\"Snapchat\",\"Facebook\",\"Whatsapp\",\"Twitter\",\"Instagram\",\"Instagram\",\"Twitter\",\"Instagram\",\"Facebook\",\"LinkedIn\",\"Facebook\",\"Facebook\",\"Facebook\",\"LinkedIn\",\"Whatsapp\",\"Snapchat\",\"Telegram\",\"Snapchat\",\"Facebook\",\"Whatsapp\",\"Twitter\",\"Instagram\",\"Instagram\",\"Twitter\",\"Instagram\",\"Facebook\",\"LinkedIn\",\"Facebook\",\"Facebook\",\"Facebook\",\"LinkedIn\",\"Whatsapp\",\"Snapchat\",\"Telegram\",\"Snapchat\",\"Facebook\",\"Whatsapp\",\"Twitter\",\"Instagram\",\"Instagram\",\"Twitter\",\"Instagram\",\"Facebook\",\"LinkedIn\",\"Facebook\",\"Facebook\",\"Facebook\",\"LinkedIn\",\"Whatsapp\",\"Snapchat\",\"Telegram\",\"Snapchat\",\"Facebook\",\"Whatsapp\",\"Twitter\",\"Instagram\",\"Instagram\",\"Twitter\",\"Instagram\",\"Facebook\",\"LinkedIn\",\"Facebook\",\"Facebook\",\"Facebook\",\"LinkedIn\",\"Whatsapp\",\"Snapchat\",\"Telegram\",\"Snapchat\",\"Facebook\",\"Whatsapp\",\"Twitter\",\"Instagram\",\"Instagram\",\"Twitter\",\"Instagram\",\"Facebook\",\"LinkedIn\",\"Facebook\",\"Facebook\",\"Facebook\",\"LinkedIn\",\"Whatsapp\",\"Snapchat\",\"Telegram\",\"Snapchat\",\"Facebook\",\"Whatsapp\",\"Twitter\",\"Instagram\",\"Instagram\",\"Twitter\",\"Instagram\",\"Facebook\",\"LinkedIn\",\"Facebook\",\"Facebook\",\"Facebook\",\"LinkedIn\",\"Whatsapp\",\"Snapchat\",\"Telegram\",\"Snapchat\",\"Facebook\",\"Whatsapp\",\"Twitter\",\"Instagram\",\"Instagram\",\"Twitter\",\"Instagram\",\"Facebook\",\"LinkedIn\",\"Facebook\",\"Facebook\",\"Facebook\",\"LinkedIn\",\"Whatsapp\",\"Snapchat\",\"Telegram\",\"Snapchat\",\"Facebook\",\"Whatsapp\",\"Twitter\",\"Instagram\",\"Instagram\",\"Twitter\",\"Instagram\",\"Facebook\",\"LinkedIn\",\"Facebook\",\"Facebook\",\"Facebook\",\"LinkedIn\",\"Whatsapp\",\"Snapchat\",\"Telegram\",\"Snapchat\",\"Facebook\",\"Whatsapp\",\"Twitter\",\"Instagram\",\"Instagram\",\"Twitter\",\"Instagram\",\"Facebook\",\"LinkedIn\",\"Facebook\",\"Facebook\",\"Facebook\",\"LinkedIn\",\"Whatsapp\",\"Snapchat\",\"Telegram\",\"Snapchat\",\"Facebook\",\"Whatsapp\",\"Twitter\",\"Instagram\"],\"xaxis\":\"x\",\"yaxis\":\"y\",\"type\":\"histogram\"},{\"alignmentgroup\":\"True\",\"bingroup\":\"x\",\"hovertemplate\":\"Dominant_Emotion=Boredom\\u003cbr\\u003ePlatform=%{x}\\u003cbr\\u003ecount=%{y}\\u003cextra\\u003e\\u003c\\u002fextra\\u003e\",\"legendgroup\":\"Boredom\",\"marker\":{\"color\":\"#FFA15A\",\"pattern\":{\"shape\":\"\"}},\"name\":\"Boredom\",\"offsetgroup\":\"Boredom\",\"orientation\":\"v\",\"showlegend\":true,\"x\":[\"LinkedIn\",\"LinkedIn\",\"LinkedIn\",\"LinkedIn\",\"LinkedIn\",\"LinkedIn\",\"LinkedIn\",\"Telegram\",\"Facebook\",\"Facebook\",\"Twitter\",\"Facebook\",\"Facebook\",\"Twitter\",\"LinkedIn\",\"LinkedIn\",\"LinkedIn\",\"LinkedIn\",\"LinkedIn\",\"LinkedIn\",\"LinkedIn\",\"Telegram\",\"Facebook\",\"Facebook\",\"Twitter\",\"Facebook\",\"Facebook\",\"Twitter\",\"LinkedIn\",\"LinkedIn\",\"LinkedIn\",\"LinkedIn\",\"LinkedIn\",\"LinkedIn\",\"LinkedIn\",\"Telegram\",\"Facebook\",\"Facebook\",\"Twitter\",\"Facebook\",\"Facebook\",\"Twitter\",\"LinkedIn\",\"LinkedIn\",\"LinkedIn\",\"LinkedIn\",\"LinkedIn\",\"LinkedIn\",\"LinkedIn\",\"Telegram\",\"Facebook\",\"Facebook\",\"Twitter\",\"Facebook\",\"Facebook\",\"Twitter\",\"LinkedIn\",\"LinkedIn\",\"LinkedIn\",\"LinkedIn\",\"LinkedIn\",\"LinkedIn\",\"LinkedIn\",\"Telegram\",\"Facebook\",\"Facebook\",\"Twitter\",\"Facebook\",\"Facebook\",\"Twitter\",\"LinkedIn\",\"LinkedIn\",\"LinkedIn\",\"LinkedIn\",\"LinkedIn\",\"LinkedIn\",\"LinkedIn\",\"Telegram\",\"Facebook\",\"Facebook\",\"Twitter\",\"Facebook\",\"Facebook\",\"Twitter\",\"LinkedIn\",\"LinkedIn\",\"LinkedIn\",\"LinkedIn\",\"LinkedIn\",\"LinkedIn\",\"LinkedIn\",\"Telegram\",\"Facebook\",\"Facebook\",\"Twitter\",\"Facebook\",\"Facebook\",\"Twitter\",\"LinkedIn\",\"LinkedIn\",\"LinkedIn\",\"LinkedIn\",\"LinkedIn\",\"LinkedIn\",\"LinkedIn\",\"Telegram\",\"Facebook\",\"Facebook\",\"Twitter\",\"Facebook\",\"Facebook\",\"Twitter\",\"LinkedIn\",\"LinkedIn\",\"LinkedIn\",\"LinkedIn\",\"LinkedIn\",\"LinkedIn\",\"LinkedIn\",\"Telegram\",\"Facebook\",\"Facebook\",\"Twitter\",\"Facebook\",\"Facebook\",\"Twitter\",\"LinkedIn\",\"LinkedIn\",\"LinkedIn\",\"LinkedIn\",\"LinkedIn\",\"LinkedIn\",\"LinkedIn\",\"Telegram\",\"Facebook\",\"Facebook\",\"Twitter\",\"Facebook\",\"Facebook\",\"Twitter\"],\"xaxis\":\"x\",\"yaxis\":\"y\",\"type\":\"histogram\"},{\"alignmentgroup\":\"True\",\"bingroup\":\"x\",\"hovertemplate\":\"Dominant_Emotion=Sadness\\u003cbr\\u003ePlatform=%{x}\\u003cbr\\u003ecount=%{y}\\u003cextra\\u003e\\u003c\\u002fextra\\u003e\",\"legendgroup\":\"Sadness\",\"marker\":{\"color\":\"#19d3f3\",\"pattern\":{\"shape\":\"\"}},\"name\":\"Sadness\",\"offsetgroup\":\"Sadness\",\"orientation\":\"v\",\"showlegend\":true,\"x\":[\"Facebook\",\"Facebook\",\"Twitter\",\"Twitter\",\"Facebook\",\"Instagram\",\"LinkedIn\",\"Twitter\",\"Instagram\",\"Snapchat\",\"Twitter\",\"Snapchat\",\"Twitter\",\"Telegram\",\"Telegram\",\"Snapchat\",\"Facebook\",\"Facebook\",\"Twitter\",\"Twitter\",\"Facebook\",\"Instagram\",\"LinkedIn\",\"Twitter\",\"Instagram\",\"Snapchat\",\"Twitter\",\"Snapchat\",\"Twitter\",\"Telegram\",\"Telegram\",\"Snapchat\",\"Facebook\",\"Facebook\",\"Twitter\",\"Twitter\",\"Facebook\",\"Instagram\",\"LinkedIn\",\"Twitter\",\"Instagram\",\"Snapchat\",\"Twitter\",\"Snapchat\",\"Twitter\",\"Telegram\",\"Telegram\",\"Snapchat\",\"Facebook\",\"Facebook\",\"Twitter\",\"Twitter\",\"Facebook\",\"Instagram\",\"LinkedIn\",\"Twitter\",\"Instagram\",\"Snapchat\",\"Twitter\",\"Snapchat\",\"Twitter\",\"Telegram\",\"Telegram\",\"Snapchat\",\"Facebook\",\"Facebook\",\"Twitter\",\"Twitter\",\"Facebook\",\"Instagram\",\"LinkedIn\",\"Twitter\",\"Instagram\",\"Snapchat\",\"Twitter\",\"Snapchat\",\"Twitter\",\"Telegram\",\"Telegram\",\"Snapchat\",\"Facebook\",\"Facebook\",\"Twitter\",\"Twitter\",\"Facebook\",\"Instagram\",\"LinkedIn\",\"Twitter\",\"Instagram\",\"Snapchat\",\"Twitter\",\"Snapchat\",\"Twitter\",\"Telegram\",\"Telegram\",\"Snapchat\",\"Facebook\",\"Facebook\",\"Twitter\",\"Twitter\",\"Facebook\",\"Instagram\",\"LinkedIn\",\"Twitter\",\"Instagram\",\"Snapchat\",\"Twitter\",\"Snapchat\",\"Twitter\",\"Telegram\",\"Telegram\",\"Snapchat\",\"Facebook\",\"Facebook\",\"Twitter\",\"Twitter\",\"Facebook\",\"Instagram\",\"LinkedIn\",\"Twitter\",\"Instagram\",\"Snapchat\",\"Twitter\",\"Snapchat\",\"Twitter\",\"Telegram\",\"Telegram\",\"Snapchat\",\"Facebook\",\"Facebook\",\"Twitter\",\"Twitter\",\"Facebook\",\"Instagram\",\"LinkedIn\",\"Twitter\",\"Instagram\",\"Snapchat\",\"Twitter\",\"Snapchat\",\"Twitter\",\"Telegram\",\"Telegram\",\"Snapchat\",\"Facebook\",\"Facebook\",\"Twitter\",\"Twitter\",\"Facebook\",\"Instagram\",\"LinkedIn\",\"Twitter\",\"Instagram\",\"Snapchat\",\"Twitter\",\"Snapchat\",\"Twitter\",\"Telegram\",\"Telegram\",\"Snapchat\"],\"xaxis\":\"x\",\"yaxis\":\"y\",\"type\":\"histogram\"}],                        {\"template\":{\"data\":{\"histogram2dcontour\":[{\"type\":\"histogram2dcontour\",\"colorbar\":{\"outlinewidth\":0,\"ticks\":\"\"},\"colorscale\":[[0.0,\"#0d0887\"],[0.1111111111111111,\"#46039f\"],[0.2222222222222222,\"#7201a8\"],[0.3333333333333333,\"#9c179e\"],[0.4444444444444444,\"#bd3786\"],[0.5555555555555556,\"#d8576b\"],[0.6666666666666666,\"#ed7953\"],[0.7777777777777778,\"#fb9f3a\"],[0.8888888888888888,\"#fdca26\"],[1.0,\"#f0f921\"]]}],\"choropleth\":[{\"type\":\"choropleth\",\"colorbar\":{\"outlinewidth\":0,\"ticks\":\"\"}}],\"histogram2d\":[{\"type\":\"histogram2d\",\"colorbar\":{\"outlinewidth\":0,\"ticks\":\"\"},\"colorscale\":[[0.0,\"#0d0887\"],[0.1111111111111111,\"#46039f\"],[0.2222222222222222,\"#7201a8\"],[0.3333333333333333,\"#9c179e\"],[0.4444444444444444,\"#bd3786\"],[0.5555555555555556,\"#d8576b\"],[0.6666666666666666,\"#ed7953\"],[0.7777777777777778,\"#fb9f3a\"],[0.8888888888888888,\"#fdca26\"],[1.0,\"#f0f921\"]]}],\"heatmap\":[{\"type\":\"heatmap\",\"colorbar\":{\"outlinewidth\":0,\"ticks\":\"\"},\"colorscale\":[[0.0,\"#0d0887\"],[0.1111111111111111,\"#46039f\"],[0.2222222222222222,\"#7201a8\"],[0.3333333333333333,\"#9c179e\"],[0.4444444444444444,\"#bd3786\"],[0.5555555555555556,\"#d8576b\"],[0.6666666666666666,\"#ed7953\"],[0.7777777777777778,\"#fb9f3a\"],[0.8888888888888888,\"#fdca26\"],[1.0,\"#f0f921\"]]}],\"heatmapgl\":[{\"type\":\"heatmapgl\",\"colorbar\":{\"outlinewidth\":0,\"ticks\":\"\"},\"colorscale\":[[0.0,\"#0d0887\"],[0.1111111111111111,\"#46039f\"],[0.2222222222222222,\"#7201a8\"],[0.3333333333333333,\"#9c179e\"],[0.4444444444444444,\"#bd3786\"],[0.5555555555555556,\"#d8576b\"],[0.6666666666666666,\"#ed7953\"],[0.7777777777777778,\"#fb9f3a\"],[0.8888888888888888,\"#fdca26\"],[1.0,\"#f0f921\"]]}],\"contourcarpet\":[{\"type\":\"contourcarpet\",\"colorbar\":{\"outlinewidth\":0,\"ticks\":\"\"}}],\"contour\":[{\"type\":\"contour\",\"colorbar\":{\"outlinewidth\":0,\"ticks\":\"\"},\"colorscale\":[[0.0,\"#0d0887\"],[0.1111111111111111,\"#46039f\"],[0.2222222222222222,\"#7201a8\"],[0.3333333333333333,\"#9c179e\"],[0.4444444444444444,\"#bd3786\"],[0.5555555555555556,\"#d8576b\"],[0.6666666666666666,\"#ed7953\"],[0.7777777777777778,\"#fb9f3a\"],[0.8888888888888888,\"#fdca26\"],[1.0,\"#f0f921\"]]}],\"surface\":[{\"type\":\"surface\",\"colorbar\":{\"outlinewidth\":0,\"ticks\":\"\"},\"colorscale\":[[0.0,\"#0d0887\"],[0.1111111111111111,\"#46039f\"],[0.2222222222222222,\"#7201a8\"],[0.3333333333333333,\"#9c179e\"],[0.4444444444444444,\"#bd3786\"],[0.5555555555555556,\"#d8576b\"],[0.6666666666666666,\"#ed7953\"],[0.7777777777777778,\"#fb9f3a\"],[0.8888888888888888,\"#fdca26\"],[1.0,\"#f0f921\"]]}],\"mesh3d\":[{\"type\":\"mesh3d\",\"colorbar\":{\"outlinewidth\":0,\"ticks\":\"\"}}],\"scatter\":[{\"fillpattern\":{\"fillmode\":\"overlay\",\"size\":10,\"solidity\":0.2},\"type\":\"scatter\"}],\"parcoords\":[{\"type\":\"parcoords\",\"line\":{\"colorbar\":{\"outlinewidth\":0,\"ticks\":\"\"}}}],\"scatterpolargl\":[{\"type\":\"scatterpolargl\",\"marker\":{\"colorbar\":{\"outlinewidth\":0,\"ticks\":\"\"}}}],\"bar\":[{\"error_x\":{\"color\":\"#2a3f5f\"},\"error_y\":{\"color\":\"#2a3f5f\"},\"marker\":{\"line\":{\"color\":\"#E5ECF6\",\"width\":0.5},\"pattern\":{\"fillmode\":\"overlay\",\"size\":10,\"solidity\":0.2}},\"type\":\"bar\"}],\"scattergeo\":[{\"type\":\"scattergeo\",\"marker\":{\"colorbar\":{\"outlinewidth\":0,\"ticks\":\"\"}}}],\"scatterpolar\":[{\"type\":\"scatterpolar\",\"marker\":{\"colorbar\":{\"outlinewidth\":0,\"ticks\":\"\"}}}],\"histogram\":[{\"marker\":{\"pattern\":{\"fillmode\":\"overlay\",\"size\":10,\"solidity\":0.2}},\"type\":\"histogram\"}],\"scattergl\":[{\"type\":\"scattergl\",\"marker\":{\"colorbar\":{\"outlinewidth\":0,\"ticks\":\"\"}}}],\"scatter3d\":[{\"type\":\"scatter3d\",\"line\":{\"colorbar\":{\"outlinewidth\":0,\"ticks\":\"\"}},\"marker\":{\"colorbar\":{\"outlinewidth\":0,\"ticks\":\"\"}}}],\"scattermapbox\":[{\"type\":\"scattermapbox\",\"marker\":{\"colorbar\":{\"outlinewidth\":0,\"ticks\":\"\"}}}],\"scatterternary\":[{\"type\":\"scatterternary\",\"marker\":{\"colorbar\":{\"outlinewidth\":0,\"ticks\":\"\"}}}],\"scattercarpet\":[{\"type\":\"scattercarpet\",\"marker\":{\"colorbar\":{\"outlinewidth\":0,\"ticks\":\"\"}}}],\"carpet\":[{\"aaxis\":{\"endlinecolor\":\"#2a3f5f\",\"gridcolor\":\"white\",\"linecolor\":\"white\",\"minorgridcolor\":\"white\",\"startlinecolor\":\"#2a3f5f\"},\"baxis\":{\"endlinecolor\":\"#2a3f5f\",\"gridcolor\":\"white\",\"linecolor\":\"white\",\"minorgridcolor\":\"white\",\"startlinecolor\":\"#2a3f5f\"},\"type\":\"carpet\"}],\"table\":[{\"cells\":{\"fill\":{\"color\":\"#EBF0F8\"},\"line\":{\"color\":\"white\"}},\"header\":{\"fill\":{\"color\":\"#C8D4E3\"},\"line\":{\"color\":\"white\"}},\"type\":\"table\"}],\"barpolar\":[{\"marker\":{\"line\":{\"color\":\"#E5ECF6\",\"width\":0.5},\"pattern\":{\"fillmode\":\"overlay\",\"size\":10,\"solidity\":0.2}},\"type\":\"barpolar\"}],\"pie\":[{\"automargin\":true,\"type\":\"pie\"}]},\"layout\":{\"autotypenumbers\":\"strict\",\"colorway\":[\"#636efa\",\"#EF553B\",\"#00cc96\",\"#ab63fa\",\"#FFA15A\",\"#19d3f3\",\"#FF6692\",\"#B6E880\",\"#FF97FF\",\"#FECB52\"],\"font\":{\"color\":\"#2a3f5f\"},\"hovermode\":\"closest\",\"hoverlabel\":{\"align\":\"left\"},\"paper_bgcolor\":\"white\",\"plot_bgcolor\":\"#E5ECF6\",\"polar\":{\"bgcolor\":\"#E5ECF6\",\"angularaxis\":{\"gridcolor\":\"white\",\"linecolor\":\"white\",\"ticks\":\"\"},\"radialaxis\":{\"gridcolor\":\"white\",\"linecolor\":\"white\",\"ticks\":\"\"}},\"ternary\":{\"bgcolor\":\"#E5ECF6\",\"aaxis\":{\"gridcolor\":\"white\",\"linecolor\":\"white\",\"ticks\":\"\"},\"baxis\":{\"gridcolor\":\"white\",\"linecolor\":\"white\",\"ticks\":\"\"},\"caxis\":{\"gridcolor\":\"white\",\"linecolor\":\"white\",\"ticks\":\"\"}},\"coloraxis\":{\"colorbar\":{\"outlinewidth\":0,\"ticks\":\"\"}},\"colorscale\":{\"sequential\":[[0.0,\"#0d0887\"],[0.1111111111111111,\"#46039f\"],[0.2222222222222222,\"#7201a8\"],[0.3333333333333333,\"#9c179e\"],[0.4444444444444444,\"#bd3786\"],[0.5555555555555556,\"#d8576b\"],[0.6666666666666666,\"#ed7953\"],[0.7777777777777778,\"#fb9f3a\"],[0.8888888888888888,\"#fdca26\"],[1.0,\"#f0f921\"]],\"sequentialminus\":[[0.0,\"#0d0887\"],[0.1111111111111111,\"#46039f\"],[0.2222222222222222,\"#7201a8\"],[0.3333333333333333,\"#9c179e\"],[0.4444444444444444,\"#bd3786\"],[0.5555555555555556,\"#d8576b\"],[0.6666666666666666,\"#ed7953\"],[0.7777777777777778,\"#fb9f3a\"],[0.8888888888888888,\"#fdca26\"],[1.0,\"#f0f921\"]],\"diverging\":[[0,\"#8e0152\"],[0.1,\"#c51b7d\"],[0.2,\"#de77ae\"],[0.3,\"#f1b6da\"],[0.4,\"#fde0ef\"],[0.5,\"#f7f7f7\"],[0.6,\"#e6f5d0\"],[0.7,\"#b8e186\"],[0.8,\"#7fbc41\"],[0.9,\"#4d9221\"],[1,\"#276419\"]]},\"xaxis\":{\"gridcolor\":\"white\",\"linecolor\":\"white\",\"ticks\":\"\",\"title\":{\"standoff\":15},\"zerolinecolor\":\"white\",\"automargin\":true,\"zerolinewidth\":2},\"yaxis\":{\"gridcolor\":\"white\",\"linecolor\":\"white\",\"ticks\":\"\",\"title\":{\"standoff\":15},\"zerolinecolor\":\"white\",\"automargin\":true,\"zerolinewidth\":2},\"scene\":{\"xaxis\":{\"backgroundcolor\":\"#E5ECF6\",\"gridcolor\":\"white\",\"linecolor\":\"white\",\"showbackground\":true,\"ticks\":\"\",\"zerolinecolor\":\"white\",\"gridwidth\":2},\"yaxis\":{\"backgroundcolor\":\"#E5ECF6\",\"gridcolor\":\"white\",\"linecolor\":\"white\",\"showbackground\":true,\"ticks\":\"\",\"zerolinecolor\":\"white\",\"gridwidth\":2},\"zaxis\":{\"backgroundcolor\":\"#E5ECF6\",\"gridcolor\":\"white\",\"linecolor\":\"white\",\"showbackground\":true,\"ticks\":\"\",\"zerolinecolor\":\"white\",\"gridwidth\":2}},\"shapedefaults\":{\"line\":{\"color\":\"#2a3f5f\"}},\"annotationdefaults\":{\"arrowcolor\":\"#2a3f5f\",\"arrowhead\":0,\"arrowwidth\":1},\"geo\":{\"bgcolor\":\"white\",\"landcolor\":\"#E5ECF6\",\"subunitcolor\":\"white\",\"showland\":true,\"showlakes\":true,\"lakecolor\":\"white\"},\"title\":{\"x\":0.05},\"mapbox\":{\"style\":\"light\"}}},\"xaxis\":{\"anchor\":\"y\",\"domain\":[0.0,1.0],\"title\":{\"text\":\"Platform\"}},\"yaxis\":{\"anchor\":\"x\",\"domain\":[0.0,1.0],\"title\":{\"text\":\"count\"}},\"legend\":{\"title\":{\"text\":\"Dominant_Emotion\"},\"tracegroupgap\":0},\"title\":{\"text\":\"Dominant Emotion by Platform\"},\"barmode\":\"relative\"},                        {\"responsive\": true}                    ).then(function(){\n",
              "                            \n",
              "var gd = document.getElementById('7e6ed0e2-9797-41a8-a7bc-113013d8c1df');\n",
              "var x = new MutationObserver(function (mutations, observer) {{\n",
              "        var display = window.getComputedStyle(gd).display;\n",
              "        if (!display || display === 'none') {{\n",
              "            console.log([gd, 'removed!']);\n",
              "            Plotly.purge(gd);\n",
              "            observer.disconnect();\n",
              "        }}\n",
              "}});\n",
              "\n",
              "// Listen for the removal of the full notebook cells\n",
              "var notebookContainer = gd.closest('#notebook-container');\n",
              "if (notebookContainer) {{\n",
              "    x.observe(notebookContainer, {childList: true});\n",
              "}}\n",
              "\n",
              "// Listen for the clearing of the current output cell\n",
              "var outputEl = gd.closest('.output');\n",
              "if (outputEl) {{\n",
              "    x.observe(outputEl, {childList: true});\n",
              "}}\n",
              "\n",
              "                        })                };                            </script>        </div>\n",
              "</body>\n",
              "</html>"
            ]
          },
          "metadata": {}
        }
      ]
    },
    {
      "cell_type": "code",
      "source": [
        "# Create a contingency table\n",
        "contingency_table = pd.crosstab(train_df['Platform'], train_df['Dominant_Emotion'])\n",
        "\n",
        "# Plot the heatmap\n",
        "fig = px.imshow(contingency_table, title='Platform vs Dominant Emotion Heatmap')\n",
        "fig.show()"
      ],
      "metadata": {
        "id": "OcKc-beLFBgp",
        "outputId": "9373ab70-f25f-486a-9eca-d49aa4bb478c",
        "colab": {
          "base_uri": "https://localhost:8080/",
          "height": 542
        }
      },
      "execution_count": null,
      "outputs": [
        {
          "output_type": "display_data",
          "data": {
            "text/html": [
              "<html>\n",
              "<head><meta charset=\"utf-8\" /></head>\n",
              "<body>\n",
              "    <div>            <script src=\"https://cdnjs.cloudflare.com/ajax/libs/mathjax/2.7.5/MathJax.js?config=TeX-AMS-MML_SVG\"></script><script type=\"text/javascript\">if (window.MathJax && window.MathJax.Hub && window.MathJax.Hub.Config) {window.MathJax.Hub.Config({SVG: {font: \"STIX-Web\"}});}</script>                <script type=\"text/javascript\">window.PlotlyConfig = {MathJaxConfig: 'local'};</script>\n",
              "        <script charset=\"utf-8\" src=\"https://cdn.plot.ly/plotly-2.35.2.min.js\"></script>                <div id=\"7ca06bdb-bd86-463a-84f6-46f08dc879c1\" class=\"plotly-graph-div\" style=\"height:525px; width:100%;\"></div>            <script type=\"text/javascript\">                                    window.PLOTLYENV=window.PLOTLYENV || {};                                    if (document.getElementById(\"7ca06bdb-bd86-463a-84f6-46f08dc879c1\")) {                    Plotly.newPlot(                        \"7ca06bdb-bd86-463a-84f6-46f08dc879c1\",                        [{\"coloraxis\":\"coloraxis\",\"name\":\"0\",\"x\":[\"Anger\",\"Anxiety\",\"Boredom\",\"Happiness\",\"Neutral\",\"Sadness\"],\"y\":[\"Facebook\",\"Instagram\",\"LinkedIn\",\"Snapchat\",\"Telegram\",\"Twitter\",\"Whatsapp\"],\"z\":[[0,50,40,0,70,30],[10,30,0,1174,20,20],[0,20,70,0,20,10],[0,20,0,10,20,30],[10,10,10,0,30,20],[80,20,20,10,20,50],[30,20,0,10,20,0]],\"type\":\"heatmap\",\"xaxis\":\"x\",\"yaxis\":\"y\",\"hovertemplate\":\"Dominant_Emotion: %{x}\\u003cbr\\u003ePlatform: %{y}\\u003cbr\\u003ecolor: %{z}\\u003cextra\\u003e\\u003c\\u002fextra\\u003e\"}],                        {\"template\":{\"data\":{\"histogram2dcontour\":[{\"type\":\"histogram2dcontour\",\"colorbar\":{\"outlinewidth\":0,\"ticks\":\"\"},\"colorscale\":[[0.0,\"#0d0887\"],[0.1111111111111111,\"#46039f\"],[0.2222222222222222,\"#7201a8\"],[0.3333333333333333,\"#9c179e\"],[0.4444444444444444,\"#bd3786\"],[0.5555555555555556,\"#d8576b\"],[0.6666666666666666,\"#ed7953\"],[0.7777777777777778,\"#fb9f3a\"],[0.8888888888888888,\"#fdca26\"],[1.0,\"#f0f921\"]]}],\"choropleth\":[{\"type\":\"choropleth\",\"colorbar\":{\"outlinewidth\":0,\"ticks\":\"\"}}],\"histogram2d\":[{\"type\":\"histogram2d\",\"colorbar\":{\"outlinewidth\":0,\"ticks\":\"\"},\"colorscale\":[[0.0,\"#0d0887\"],[0.1111111111111111,\"#46039f\"],[0.2222222222222222,\"#7201a8\"],[0.3333333333333333,\"#9c179e\"],[0.4444444444444444,\"#bd3786\"],[0.5555555555555556,\"#d8576b\"],[0.6666666666666666,\"#ed7953\"],[0.7777777777777778,\"#fb9f3a\"],[0.8888888888888888,\"#fdca26\"],[1.0,\"#f0f921\"]]}],\"heatmap\":[{\"type\":\"heatmap\",\"colorbar\":{\"outlinewidth\":0,\"ticks\":\"\"},\"colorscale\":[[0.0,\"#0d0887\"],[0.1111111111111111,\"#46039f\"],[0.2222222222222222,\"#7201a8\"],[0.3333333333333333,\"#9c179e\"],[0.4444444444444444,\"#bd3786\"],[0.5555555555555556,\"#d8576b\"],[0.6666666666666666,\"#ed7953\"],[0.7777777777777778,\"#fb9f3a\"],[0.8888888888888888,\"#fdca26\"],[1.0,\"#f0f921\"]]}],\"heatmapgl\":[{\"type\":\"heatmapgl\",\"colorbar\":{\"outlinewidth\":0,\"ticks\":\"\"},\"colorscale\":[[0.0,\"#0d0887\"],[0.1111111111111111,\"#46039f\"],[0.2222222222222222,\"#7201a8\"],[0.3333333333333333,\"#9c179e\"],[0.4444444444444444,\"#bd3786\"],[0.5555555555555556,\"#d8576b\"],[0.6666666666666666,\"#ed7953\"],[0.7777777777777778,\"#fb9f3a\"],[0.8888888888888888,\"#fdca26\"],[1.0,\"#f0f921\"]]}],\"contourcarpet\":[{\"type\":\"contourcarpet\",\"colorbar\":{\"outlinewidth\":0,\"ticks\":\"\"}}],\"contour\":[{\"type\":\"contour\",\"colorbar\":{\"outlinewidth\":0,\"ticks\":\"\"},\"colorscale\":[[0.0,\"#0d0887\"],[0.1111111111111111,\"#46039f\"],[0.2222222222222222,\"#7201a8\"],[0.3333333333333333,\"#9c179e\"],[0.4444444444444444,\"#bd3786\"],[0.5555555555555556,\"#d8576b\"],[0.6666666666666666,\"#ed7953\"],[0.7777777777777778,\"#fb9f3a\"],[0.8888888888888888,\"#fdca26\"],[1.0,\"#f0f921\"]]}],\"surface\":[{\"type\":\"surface\",\"colorbar\":{\"outlinewidth\":0,\"ticks\":\"\"},\"colorscale\":[[0.0,\"#0d0887\"],[0.1111111111111111,\"#46039f\"],[0.2222222222222222,\"#7201a8\"],[0.3333333333333333,\"#9c179e\"],[0.4444444444444444,\"#bd3786\"],[0.5555555555555556,\"#d8576b\"],[0.6666666666666666,\"#ed7953\"],[0.7777777777777778,\"#fb9f3a\"],[0.8888888888888888,\"#fdca26\"],[1.0,\"#f0f921\"]]}],\"mesh3d\":[{\"type\":\"mesh3d\",\"colorbar\":{\"outlinewidth\":0,\"ticks\":\"\"}}],\"scatter\":[{\"fillpattern\":{\"fillmode\":\"overlay\",\"size\":10,\"solidity\":0.2},\"type\":\"scatter\"}],\"parcoords\":[{\"type\":\"parcoords\",\"line\":{\"colorbar\":{\"outlinewidth\":0,\"ticks\":\"\"}}}],\"scatterpolargl\":[{\"type\":\"scatterpolargl\",\"marker\":{\"colorbar\":{\"outlinewidth\":0,\"ticks\":\"\"}}}],\"bar\":[{\"error_x\":{\"color\":\"#2a3f5f\"},\"error_y\":{\"color\":\"#2a3f5f\"},\"marker\":{\"line\":{\"color\":\"#E5ECF6\",\"width\":0.5},\"pattern\":{\"fillmode\":\"overlay\",\"size\":10,\"solidity\":0.2}},\"type\":\"bar\"}],\"scattergeo\":[{\"type\":\"scattergeo\",\"marker\":{\"colorbar\":{\"outlinewidth\":0,\"ticks\":\"\"}}}],\"scatterpolar\":[{\"type\":\"scatterpolar\",\"marker\":{\"colorbar\":{\"outlinewidth\":0,\"ticks\":\"\"}}}],\"histogram\":[{\"marker\":{\"pattern\":{\"fillmode\":\"overlay\",\"size\":10,\"solidity\":0.2}},\"type\":\"histogram\"}],\"scattergl\":[{\"type\":\"scattergl\",\"marker\":{\"colorbar\":{\"outlinewidth\":0,\"ticks\":\"\"}}}],\"scatter3d\":[{\"type\":\"scatter3d\",\"line\":{\"colorbar\":{\"outlinewidth\":0,\"ticks\":\"\"}},\"marker\":{\"colorbar\":{\"outlinewidth\":0,\"ticks\":\"\"}}}],\"scattermapbox\":[{\"type\":\"scattermapbox\",\"marker\":{\"colorbar\":{\"outlinewidth\":0,\"ticks\":\"\"}}}],\"scatterternary\":[{\"type\":\"scatterternary\",\"marker\":{\"colorbar\":{\"outlinewidth\":0,\"ticks\":\"\"}}}],\"scattercarpet\":[{\"type\":\"scattercarpet\",\"marker\":{\"colorbar\":{\"outlinewidth\":0,\"ticks\":\"\"}}}],\"carpet\":[{\"aaxis\":{\"endlinecolor\":\"#2a3f5f\",\"gridcolor\":\"white\",\"linecolor\":\"white\",\"minorgridcolor\":\"white\",\"startlinecolor\":\"#2a3f5f\"},\"baxis\":{\"endlinecolor\":\"#2a3f5f\",\"gridcolor\":\"white\",\"linecolor\":\"white\",\"minorgridcolor\":\"white\",\"startlinecolor\":\"#2a3f5f\"},\"type\":\"carpet\"}],\"table\":[{\"cells\":{\"fill\":{\"color\":\"#EBF0F8\"},\"line\":{\"color\":\"white\"}},\"header\":{\"fill\":{\"color\":\"#C8D4E3\"},\"line\":{\"color\":\"white\"}},\"type\":\"table\"}],\"barpolar\":[{\"marker\":{\"line\":{\"color\":\"#E5ECF6\",\"width\":0.5},\"pattern\":{\"fillmode\":\"overlay\",\"size\":10,\"solidity\":0.2}},\"type\":\"barpolar\"}],\"pie\":[{\"automargin\":true,\"type\":\"pie\"}]},\"layout\":{\"autotypenumbers\":\"strict\",\"colorway\":[\"#636efa\",\"#EF553B\",\"#00cc96\",\"#ab63fa\",\"#FFA15A\",\"#19d3f3\",\"#FF6692\",\"#B6E880\",\"#FF97FF\",\"#FECB52\"],\"font\":{\"color\":\"#2a3f5f\"},\"hovermode\":\"closest\",\"hoverlabel\":{\"align\":\"left\"},\"paper_bgcolor\":\"white\",\"plot_bgcolor\":\"#E5ECF6\",\"polar\":{\"bgcolor\":\"#E5ECF6\",\"angularaxis\":{\"gridcolor\":\"white\",\"linecolor\":\"white\",\"ticks\":\"\"},\"radialaxis\":{\"gridcolor\":\"white\",\"linecolor\":\"white\",\"ticks\":\"\"}},\"ternary\":{\"bgcolor\":\"#E5ECF6\",\"aaxis\":{\"gridcolor\":\"white\",\"linecolor\":\"white\",\"ticks\":\"\"},\"baxis\":{\"gridcolor\":\"white\",\"linecolor\":\"white\",\"ticks\":\"\"},\"caxis\":{\"gridcolor\":\"white\",\"linecolor\":\"white\",\"ticks\":\"\"}},\"coloraxis\":{\"colorbar\":{\"outlinewidth\":0,\"ticks\":\"\"}},\"colorscale\":{\"sequential\":[[0.0,\"#0d0887\"],[0.1111111111111111,\"#46039f\"],[0.2222222222222222,\"#7201a8\"],[0.3333333333333333,\"#9c179e\"],[0.4444444444444444,\"#bd3786\"],[0.5555555555555556,\"#d8576b\"],[0.6666666666666666,\"#ed7953\"],[0.7777777777777778,\"#fb9f3a\"],[0.8888888888888888,\"#fdca26\"],[1.0,\"#f0f921\"]],\"sequentialminus\":[[0.0,\"#0d0887\"],[0.1111111111111111,\"#46039f\"],[0.2222222222222222,\"#7201a8\"],[0.3333333333333333,\"#9c179e\"],[0.4444444444444444,\"#bd3786\"],[0.5555555555555556,\"#d8576b\"],[0.6666666666666666,\"#ed7953\"],[0.7777777777777778,\"#fb9f3a\"],[0.8888888888888888,\"#fdca26\"],[1.0,\"#f0f921\"]],\"diverging\":[[0,\"#8e0152\"],[0.1,\"#c51b7d\"],[0.2,\"#de77ae\"],[0.3,\"#f1b6da\"],[0.4,\"#fde0ef\"],[0.5,\"#f7f7f7\"],[0.6,\"#e6f5d0\"],[0.7,\"#b8e186\"],[0.8,\"#7fbc41\"],[0.9,\"#4d9221\"],[1,\"#276419\"]]},\"xaxis\":{\"gridcolor\":\"white\",\"linecolor\":\"white\",\"ticks\":\"\",\"title\":{\"standoff\":15},\"zerolinecolor\":\"white\",\"automargin\":true,\"zerolinewidth\":2},\"yaxis\":{\"gridcolor\":\"white\",\"linecolor\":\"white\",\"ticks\":\"\",\"title\":{\"standoff\":15},\"zerolinecolor\":\"white\",\"automargin\":true,\"zerolinewidth\":2},\"scene\":{\"xaxis\":{\"backgroundcolor\":\"#E5ECF6\",\"gridcolor\":\"white\",\"linecolor\":\"white\",\"showbackground\":true,\"ticks\":\"\",\"zerolinecolor\":\"white\",\"gridwidth\":2},\"yaxis\":{\"backgroundcolor\":\"#E5ECF6\",\"gridcolor\":\"white\",\"linecolor\":\"white\",\"showbackground\":true,\"ticks\":\"\",\"zerolinecolor\":\"white\",\"gridwidth\":2},\"zaxis\":{\"backgroundcolor\":\"#E5ECF6\",\"gridcolor\":\"white\",\"linecolor\":\"white\",\"showbackground\":true,\"ticks\":\"\",\"zerolinecolor\":\"white\",\"gridwidth\":2}},\"shapedefaults\":{\"line\":{\"color\":\"#2a3f5f\"}},\"annotationdefaults\":{\"arrowcolor\":\"#2a3f5f\",\"arrowhead\":0,\"arrowwidth\":1},\"geo\":{\"bgcolor\":\"white\",\"landcolor\":\"#E5ECF6\",\"subunitcolor\":\"white\",\"showland\":true,\"showlakes\":true,\"lakecolor\":\"white\"},\"title\":{\"x\":0.05},\"mapbox\":{\"style\":\"light\"}}},\"xaxis\":{\"anchor\":\"y\",\"domain\":[0.0,1.0],\"scaleanchor\":\"y\",\"constrain\":\"domain\",\"title\":{\"text\":\"Dominant_Emotion\"}},\"yaxis\":{\"anchor\":\"x\",\"domain\":[0.0,1.0],\"autorange\":\"reversed\",\"constrain\":\"domain\",\"title\":{\"text\":\"Platform\"}},\"coloraxis\":{\"colorscale\":[[0.0,\"#0d0887\"],[0.1111111111111111,\"#46039f\"],[0.2222222222222222,\"#7201a8\"],[0.3333333333333333,\"#9c179e\"],[0.4444444444444444,\"#bd3786\"],[0.5555555555555556,\"#d8576b\"],[0.6666666666666666,\"#ed7953\"],[0.7777777777777778,\"#fb9f3a\"],[0.8888888888888888,\"#fdca26\"],[1.0,\"#f0f921\"]]},\"title\":{\"text\":\"Platform vs Dominant Emotion Heatmap\"}},                        {\"responsive\": true}                    ).then(function(){\n",
              "                            \n",
              "var gd = document.getElementById('7ca06bdb-bd86-463a-84f6-46f08dc879c1');\n",
              "var x = new MutationObserver(function (mutations, observer) {{\n",
              "        var display = window.getComputedStyle(gd).display;\n",
              "        if (!display || display === 'none') {{\n",
              "            console.log([gd, 'removed!']);\n",
              "            Plotly.purge(gd);\n",
              "            observer.disconnect();\n",
              "        }}\n",
              "}});\n",
              "\n",
              "// Listen for the removal of the full notebook cells\n",
              "var notebookContainer = gd.closest('#notebook-container');\n",
              "if (notebookContainer) {{\n",
              "    x.observe(notebookContainer, {childList: true});\n",
              "}}\n",
              "\n",
              "// Listen for the clearing of the current output cell\n",
              "var outputEl = gd.closest('.output');\n",
              "if (outputEl) {{\n",
              "    x.observe(outputEl, {childList: true});\n",
              "}}\n",
              "\n",
              "                        })                };                            </script>        </div>\n",
              "</body>\n",
              "</html>"
            ]
          },
          "metadata": {}
        }
      ]
    },
    {
      "cell_type": "markdown",
      "source": [
        "### Time Spent VS Emotions"
      ],
      "metadata": {
        "id": "E6-xfc_zFBgp"
      }
    },
    {
      "cell_type": "code",
      "source": [
        "# Daily Usage time by Dominant_Emotion\n",
        "plt = px.histogram(train_df, x='Daily_Usage_Time (minutes)', color='Dominant_Emotion', title='Time Usage by Dominant Emotion')\n",
        "plt.show()"
      ],
      "metadata": {
        "id": "QgMKQFR4FBgp",
        "outputId": "9ae2f46f-6f6e-47b2-f8f0-4246b7f7f3f7",
        "colab": {
          "base_uri": "https://localhost:8080/",
          "height": 542
        }
      },
      "execution_count": null,
      "outputs": [
        {
          "output_type": "display_data",
          "data": {
            "text/html": [
              "<html>\n",
              "<head><meta charset=\"utf-8\" /></head>\n",
              "<body>\n",
              "    <div>            <script src=\"https://cdnjs.cloudflare.com/ajax/libs/mathjax/2.7.5/MathJax.js?config=TeX-AMS-MML_SVG\"></script><script type=\"text/javascript\">if (window.MathJax && window.MathJax.Hub && window.MathJax.Hub.Config) {window.MathJax.Hub.Config({SVG: {font: \"STIX-Web\"}});}</script>                <script type=\"text/javascript\">window.PlotlyConfig = {MathJaxConfig: 'local'};</script>\n",
              "        <script charset=\"utf-8\" src=\"https://cdn.plot.ly/plotly-2.35.2.min.js\"></script>                <div id=\"7390ef98-6cad-44d8-b262-504ef714cb87\" class=\"plotly-graph-div\" style=\"height:525px; width:100%;\"></div>            <script type=\"text/javascript\">                                    window.PLOTLYENV=window.PLOTLYENV || {};                                    if (document.getElementById(\"7390ef98-6cad-44d8-b262-504ef714cb87\")) {                    Plotly.newPlot(                        \"7390ef98-6cad-44d8-b262-504ef714cb87\",                        [{\"alignmentgroup\":\"True\",\"bingroup\":\"x\",\"hovertemplate\":\"Dominant_Emotion=Happiness\\u003cbr\\u003eDaily_Usage_Time (minutes)=%{x}\\u003cbr\\u003ecount=%{y}\\u003cextra\\u003e\\u003c\\u002fextra\\u003e\",\"legendgroup\":\"Happiness\",\"marker\":{\"color\":\"#636efa\",\"pattern\":{\"shape\":\"\"}},\"name\":\"Happiness\",\"offsetgroup\":\"Happiness\",\"orientation\":\"v\",\"showlegend\":true,\"x\":[null,120.0,null,null,null,null,null,150.0,null,null,null,null,170.0,null,null,null,null,180.0,null,null,null,null,null,null,140.0,null,null,null,null,190.0,null,null,null,null,160.0,null,null,null,null,145.0,null,null,null,null,null,170.0,null,null,null,null,null,150.0,null,null,null,null,175.0,null,null,null,null,null,165.0,null,null,null,null,null,null,null,null,95.0,null,null,175.0,null,null,null,null,null,null,165.0,null,null,null,null,140.0,null,null,null,null,null,null,155.0,null,null,null,null,null,85.0,null,null,null,null,null,null,null,170.0,null,null,null,null,null,null,null,null,null,110.0,null,null,null,120.0,null,null,null,null,null,150.0,null,null,null,null,170.0,null,null,null,null,180.0,null,null,null,null,null,null,140.0,null,null,null,null,190.0,null,null,null,null,160.0,null,null,null,null,145.0,null,null,null,null,null,170.0,null,null,null,null,null,150.0,null,null,null,null,175.0,null,null,null,null,null,165.0,null,null,null,null,null,null,null,null,95.0,null,null,175.0,null,null,null,null,null,null,165.0,null,null,null,null,140.0,null,null,null,null,null,null,155.0,null,null,null,null,null,85.0,null,null,null,null,null,null,null,170.0,null,null,null,null,null,null,null,null,null,110.0,null,null,null,120.0,null,null,null,null,null,150.0,null,null,null,null,170.0,null,null,null,null,180.0,null,null,null,null,null,null,140.0,null,null,null,null,190.0,null,null,null,null,160.0,null,null,null,null,145.0,null,null,null,null,null,170.0,null,null,null,null,null,150.0,null,null,null,null,175.0,null,null,null,null,null,165.0,null,null,null,null,null,null,null,null,95.0,null,null,175.0,null,null,null,null,null,null,165.0,null,null,null,null,140.0,null,null,null,null,null,null,155.0,null,null,null,null,null,85.0,null,null,null,null,null,null,null,170.0,null,null,null,null,null,null,null,null,null,110.0,null,null,null,120.0,null,null,null,null,null,150.0,null,null,null,null,170.0,null,null,null,null,180.0,null,null,null,null,null,null,140.0,null,null,null,null,190.0,null,null,null,null,160.0,null,null,null,null,145.0,null,null,null,null,null,170.0,null,null,null,null,null,150.0,null,null,null,null,175.0,null,null,null,null,null,165.0,null,null,null,null,null,null,null,null,95.0,null,null,175.0,null,null,null,null,null,null,165.0,null,null,null,null,140.0,null,null,null,null,null,null,155.0,null,null,null,null,null,85.0,null,null,null,null,null,null,null,170.0,null,null,null,null,null,null,null,null,null,110.0,null,null,null,120.0,null,null,null,null,null,150.0,null,null,null,null,170.0,null,null,null,null,180.0,null,null,null,null,null,null,140.0,null,null,null,null,190.0,null,null,null,null,160.0,null,null,null,null,145.0,null,null,null,null,null,170.0,null,null,null,null,null,150.0,null,null,null,null,175.0,null,null,null,null,null,165.0,null,null,null,null,null,null,null,null,95.0,null,null,175.0,null,null,null,null,null,null,165.0,null,null,null,null,140.0,null,null,null,null,null,null,155.0,null,null,null,null,null,85.0,null,null,null,null,null,null,null,170.0,null,null,null,null,null,null,null,null,null,110.0,null,null,null,120.0,null,null,null,null,null,150.0,null,null,null,null,170.0,null,null,null,null,180.0,null,null,null,null,null,null,140.0,null,null,null,null,190.0,null,null,null,null,160.0,null,null,null,null,145.0,null,null,null,null,null,170.0,null,null,null,null,null,150.0,null,null,null,null,175.0,null,null,null,null,null,165.0,null,null,null,null,null,null,null,null,95.0,null,null,175.0,null,null,null,null,null,null,165.0,null,null,null,null,140.0,null,null,null,null,null,null,155.0,null,null,null,null,null,85.0,null,null,null,null,null,null,null,170.0,null,null,null,null,null,null,null,null,null,110.0,null,null,null,120.0,null,null,null,null,null,150.0,null,null,null,null,170.0,null,null,null,null,180.0,null,null,null,null,null,null,140.0,null,null,null,null,190.0,null,null,null,null,160.0,null,null,null,null,145.0,null,null,null,null,null,170.0,null,null,null,null,null,null,null,null,null,150.0,null,null,null,null,175.0,null,null,null,null,null,165.0,null,null,null,null,null,null,null,null,95.0,null,null,175.0,null,null,null,null,null,null,165.0,null,null,null,null,140.0,null,null,null,null,null,null,155.0,null,null,null,null,null,85.0,null,null,null,null,null,null,null,170.0,null,null,null,null,null,null,null,null,null,110.0,null,null,null,120.0,null,null,null,null,null,150.0,null,null,null,null,170.0,null,null,null,null,180.0,null,null,null,null,null,null,140.0,null,null,null,null,190.0,null,null,null,null,160.0,null,null,null,null,145.0,null,null,null,null,null,170.0,null,null,null,null,null,150.0,null,null,null,null,175.0,null,null,null,null,null,165.0,null,null,null,null,null,null,null,null,95.0,null,null,175.0,null,null,null,null,null,null,165.0,null,null,null,null,140.0,null,null,null,null,null,null,155.0,null,null,null,null,null,85.0,null,null,null,null,null,null,null,170.0,null,null,null,null,null,null,null,null,null,110.0,null,null,null,120.0,null,null,null,null,null,150.0,null,null,null,null,170.0,null,null,null,null,180.0,null,null,null,null,null,null,140.0,null,null,null,null,190.0,null,null,null,null,160.0,null,null,null,null,145.0,null,null,null,null,null,170.0,null,null,null,null,null,150.0,null,null,null,null,175.0,null,null,null,null,null,165.0,null,null,null,null,null,null,null,null,95.0,null,null,175.0,null,null,null,null,null,null,165.0,null,null,null,null,140.0,null,null,null,null,null,null,155.0,null,null,null,null,null,85.0,null,null,null,null,null,null,null,170.0,null,null,null,null,null,null,null,null,null,110.0,null,null,null,120.0,null,null,null,null,null,150.0,null,null,null,null,170.0,null,null,null,null,180.0,null,null,null,null,null,null,140.0,null,null,null,null,190.0,null,null,null,null,160.0,null,null,null,null,145.0,null,null,null,null,null,170.0,null,null,null,null,null,150.0,null,null,null,null,175.0,null,null,null,null,null,165.0,null,null,null,null,null,null,null,null,95.0,null,null,175.0,null,null,null,null,null,null,165.0,null,null,null,null,140.0,null,null,null,null,null,null,155.0,null,null,null,null,null,85.0,null,null,null,null,null,null,null,170.0,null,null,null,null,null,null,null,null,null,110.0,null,null],\"xaxis\":\"x\",\"yaxis\":\"y\",\"type\":\"histogram\"},{\"alignmentgroup\":\"True\",\"bingroup\":\"x\",\"hovertemplate\":\"Dominant_Emotion=Anger\\u003cbr\\u003eDaily_Usage_Time (minutes)=%{x}\\u003cbr\\u003ecount=%{y}\\u003cextra\\u003e\\u003c\\u002fextra\\u003e\",\"legendgroup\":\"Anger\",\"marker\":{\"color\":\"#EF553B\",\"pattern\":{\"shape\":\"\"}},\"name\":\"Anger\",\"offsetgroup\":\"Anger\",\"orientation\":\"v\",\"showlegend\":true,\"x\":[90.0,85.0,100.0,105.0,90.0,85.0,95.0,75.0,70.0,90.0,120.0,105.0,60.0,90.0,85.0,100.0,105.0,90.0,85.0,95.0,75.0,70.0,90.0,120.0,105.0,60.0,90.0,85.0,100.0,105.0,90.0,85.0,95.0,75.0,70.0,90.0,120.0,105.0,60.0,90.0,85.0,100.0,105.0,90.0,85.0,95.0,75.0,70.0,90.0,120.0,105.0,60.0,90.0,85.0,100.0,105.0,90.0,85.0,95.0,75.0,70.0,90.0,120.0,105.0,60.0,90.0,85.0,100.0,105.0,90.0,85.0,95.0,75.0,70.0,90.0,120.0,105.0,60.0,90.0,85.0,100.0,105.0,90.0,85.0,95.0,75.0,70.0,90.0,120.0,105.0,60.0,90.0,85.0,100.0,105.0,90.0,85.0,95.0,75.0,70.0,90.0,120.0,105.0,60.0,90.0,85.0,100.0,105.0,90.0,85.0,95.0,75.0,70.0,90.0,120.0,105.0,60.0,90.0,85.0,100.0,105.0,90.0,85.0,95.0,75.0,70.0,90.0,120.0,105.0,60.0],\"xaxis\":\"x\",\"yaxis\":\"y\",\"type\":\"histogram\"},{\"alignmentgroup\":\"True\",\"bingroup\":\"x\",\"hovertemplate\":\"Dominant_Emotion=Neutral\\u003cbr\\u003eDaily_Usage_Time (minutes)=%{x}\\u003cbr\\u003ecount=%{y}\\u003cextra\\u003e\\u003c\\u002fextra\\u003e\",\"legendgroup\":\"Neutral\",\"marker\":{\"color\":\"#00cc96\",\"pattern\":{\"shape\":\"\"}},\"name\":\"Neutral\",\"offsetgroup\":\"Neutral\",\"orientation\":\"v\",\"showlegend\":true,\"x\":[60.0,55.0,40.0,50.0,80.0,70.0,115.0,105.0,130.0,85.0,80.0,65.0,55.0,80.0,90.0,70.0,60.0,75.0,70.0,120.0,60.0,55.0,40.0,50.0,80.0,70.0,115.0,105.0,130.0,85.0,80.0,65.0,55.0,80.0,90.0,70.0,60.0,75.0,70.0,120.0,60.0,55.0,40.0,50.0,80.0,70.0,115.0,105.0,130.0,85.0,80.0,65.0,55.0,80.0,90.0,70.0,60.0,75.0,70.0,120.0,60.0,55.0,40.0,50.0,80.0,70.0,115.0,105.0,130.0,85.0,80.0,65.0,55.0,80.0,90.0,70.0,60.0,75.0,70.0,120.0,60.0,55.0,40.0,50.0,80.0,70.0,115.0,105.0,130.0,85.0,80.0,65.0,55.0,80.0,90.0,70.0,60.0,75.0,70.0,120.0,60.0,55.0,40.0,50.0,80.0,70.0,115.0,105.0,130.0,85.0,80.0,65.0,55.0,80.0,90.0,70.0,60.0,75.0,70.0,120.0,60.0,55.0,40.0,50.0,80.0,70.0,115.0,105.0,130.0,85.0,80.0,65.0,55.0,80.0,90.0,70.0,60.0,75.0,70.0,120.0,60.0,55.0,40.0,50.0,80.0,70.0,115.0,105.0,130.0,85.0,80.0,65.0,55.0,80.0,90.0,70.0,60.0,75.0,70.0,120.0,60.0,55.0,40.0,50.0,80.0,70.0,115.0,105.0,130.0,85.0,80.0,65.0,55.0,80.0,90.0,70.0,60.0,75.0,70.0,120.0,60.0,55.0,40.0,50.0,80.0,70.0,115.0,105.0,130.0,85.0,80.0,65.0,55.0,80.0,90.0,70.0,60.0,75.0,70.0,120.0],\"xaxis\":\"x\",\"yaxis\":\"y\",\"type\":\"histogram\"},{\"alignmentgroup\":\"True\",\"bingroup\":\"x\",\"hovertemplate\":\"Dominant_Emotion=Anxiety\\u003cbr\\u003eDaily_Usage_Time (minutes)=%{x}\\u003cbr\\u003ecount=%{y}\\u003cextra\\u003e\\u003c\\u002fextra\\u003e\",\"legendgroup\":\"Anxiety\",\"marker\":{\"color\":\"#ab63fa\",\"pattern\":{\"shape\":\"\"}},\"name\":\"Anxiety\",\"offsetgroup\":\"Anxiety\",\"orientation\":\"v\",\"showlegend\":true,\"x\":[200.0,75.0,125.0,75.0,55.0,65.0,100.0,75.0,60.0,70.0,120.0,105.0,115.0,65.0,100.0,70.0,150.0,200.0,75.0,125.0,75.0,55.0,65.0,100.0,75.0,60.0,70.0,120.0,105.0,115.0,65.0,100.0,70.0,150.0,200.0,75.0,125.0,75.0,55.0,65.0,100.0,75.0,60.0,70.0,120.0,105.0,115.0,65.0,100.0,70.0,150.0,200.0,75.0,125.0,75.0,55.0,65.0,100.0,75.0,60.0,70.0,120.0,105.0,115.0,65.0,100.0,70.0,150.0,200.0,75.0,125.0,75.0,55.0,65.0,100.0,75.0,60.0,70.0,120.0,105.0,115.0,65.0,100.0,70.0,150.0,200.0,75.0,125.0,75.0,55.0,65.0,100.0,75.0,60.0,70.0,120.0,105.0,115.0,65.0,100.0,70.0,150.0,200.0,75.0,125.0,75.0,55.0,65.0,100.0,75.0,60.0,70.0,120.0,105.0,115.0,65.0,100.0,70.0,150.0,200.0,75.0,125.0,75.0,55.0,65.0,100.0,75.0,60.0,70.0,120.0,105.0,115.0,65.0,100.0,70.0,150.0,200.0,75.0,125.0,75.0,55.0,65.0,100.0,75.0,60.0,70.0,120.0,105.0,115.0,65.0,100.0,70.0,150.0,200.0,75.0,125.0,75.0,55.0,65.0,100.0,75.0,60.0,70.0,120.0,105.0,115.0,65.0,100.0,70.0,150.0],\"xaxis\":\"x\",\"yaxis\":\"y\",\"type\":\"histogram\"},{\"alignmentgroup\":\"True\",\"bingroup\":\"x\",\"hovertemplate\":\"Dominant_Emotion=Boredom\\u003cbr\\u003eDaily_Usage_Time (minutes)=%{x}\\u003cbr\\u003ecount=%{y}\\u003cextra\\u003e\\u003c\\u002fextra\\u003e\",\"legendgroup\":\"Boredom\",\"marker\":{\"color\":\"#FFA15A\",\"pattern\":{\"shape\":\"\"}},\"name\":\"Boredom\",\"offsetgroup\":\"Boredom\",\"orientation\":\"v\",\"showlegend\":true,\"x\":[45.0,65.0,60.0,65.0,55.0,60.0,55.0,90.0,60.0,60.0,70.0,75.0,50.0,85.0,45.0,65.0,60.0,65.0,55.0,60.0,55.0,90.0,60.0,60.0,70.0,75.0,50.0,85.0,45.0,65.0,60.0,65.0,55.0,60.0,55.0,90.0,60.0,60.0,70.0,75.0,50.0,85.0,45.0,65.0,60.0,65.0,55.0,60.0,55.0,90.0,60.0,60.0,70.0,75.0,50.0,85.0,45.0,65.0,60.0,65.0,55.0,60.0,55.0,90.0,60.0,60.0,70.0,75.0,50.0,85.0,45.0,65.0,60.0,65.0,55.0,60.0,55.0,90.0,60.0,60.0,70.0,75.0,50.0,85.0,45.0,65.0,60.0,65.0,55.0,60.0,55.0,90.0,60.0,60.0,70.0,75.0,50.0,85.0,45.0,65.0,60.0,65.0,55.0,60.0,55.0,90.0,60.0,60.0,70.0,75.0,50.0,85.0,45.0,65.0,60.0,65.0,55.0,60.0,55.0,90.0,60.0,60.0,70.0,75.0,50.0,85.0,45.0,65.0,60.0,65.0,55.0,60.0,55.0,90.0,60.0,60.0,70.0,75.0,50.0,85.0],\"xaxis\":\"x\",\"yaxis\":\"y\",\"type\":\"histogram\"},{\"alignmentgroup\":\"True\",\"bingroup\":\"x\",\"hovertemplate\":\"Dominant_Emotion=Sadness\\u003cbr\\u003eDaily_Usage_Time (minutes)=%{x}\\u003cbr\\u003ecount=%{y}\\u003cextra\\u003e\\u003c\\u002fextra\\u003e\",\"legendgroup\":\"Sadness\",\"marker\":{\"color\":\"#19d3f3\",\"pattern\":{\"shape\":\"\"}},\"name\":\"Sadness\",\"offsetgroup\":\"Sadness\",\"orientation\":\"v\",\"showlegend\":true,\"x\":[110.0,95.0,90.0,70.0,45.0,130.0,45.0,90.0,145.0,50.0,90.0,75.0,75.0,50.0,85.0,95.0,110.0,95.0,90.0,70.0,45.0,130.0,45.0,90.0,145.0,50.0,90.0,75.0,75.0,50.0,85.0,95.0,110.0,95.0,90.0,70.0,45.0,130.0,45.0,90.0,145.0,50.0,90.0,75.0,75.0,50.0,85.0,95.0,110.0,95.0,90.0,70.0,45.0,130.0,45.0,90.0,145.0,50.0,90.0,75.0,75.0,50.0,85.0,95.0,110.0,95.0,90.0,70.0,45.0,130.0,45.0,90.0,145.0,50.0,90.0,75.0,75.0,50.0,85.0,95.0,110.0,95.0,90.0,70.0,45.0,130.0,45.0,90.0,145.0,50.0,90.0,75.0,75.0,50.0,85.0,95.0,110.0,95.0,90.0,70.0,45.0,130.0,45.0,90.0,145.0,50.0,90.0,75.0,75.0,50.0,85.0,95.0,110.0,95.0,90.0,70.0,45.0,130.0,45.0,90.0,145.0,50.0,90.0,75.0,75.0,50.0,85.0,95.0,110.0,95.0,90.0,70.0,45.0,130.0,45.0,90.0,145.0,50.0,90.0,75.0,75.0,50.0,85.0,95.0,110.0,95.0,90.0,70.0,45.0,130.0,45.0,90.0,145.0,50.0,90.0,75.0,75.0,50.0,85.0,95.0],\"xaxis\":\"x\",\"yaxis\":\"y\",\"type\":\"histogram\"}],                        {\"template\":{\"data\":{\"histogram2dcontour\":[{\"type\":\"histogram2dcontour\",\"colorbar\":{\"outlinewidth\":0,\"ticks\":\"\"},\"colorscale\":[[0.0,\"#0d0887\"],[0.1111111111111111,\"#46039f\"],[0.2222222222222222,\"#7201a8\"],[0.3333333333333333,\"#9c179e\"],[0.4444444444444444,\"#bd3786\"],[0.5555555555555556,\"#d8576b\"],[0.6666666666666666,\"#ed7953\"],[0.7777777777777778,\"#fb9f3a\"],[0.8888888888888888,\"#fdca26\"],[1.0,\"#f0f921\"]]}],\"choropleth\":[{\"type\":\"choropleth\",\"colorbar\":{\"outlinewidth\":0,\"ticks\":\"\"}}],\"histogram2d\":[{\"type\":\"histogram2d\",\"colorbar\":{\"outlinewidth\":0,\"ticks\":\"\"},\"colorscale\":[[0.0,\"#0d0887\"],[0.1111111111111111,\"#46039f\"],[0.2222222222222222,\"#7201a8\"],[0.3333333333333333,\"#9c179e\"],[0.4444444444444444,\"#bd3786\"],[0.5555555555555556,\"#d8576b\"],[0.6666666666666666,\"#ed7953\"],[0.7777777777777778,\"#fb9f3a\"],[0.8888888888888888,\"#fdca26\"],[1.0,\"#f0f921\"]]}],\"heatmap\":[{\"type\":\"heatmap\",\"colorbar\":{\"outlinewidth\":0,\"ticks\":\"\"},\"colorscale\":[[0.0,\"#0d0887\"],[0.1111111111111111,\"#46039f\"],[0.2222222222222222,\"#7201a8\"],[0.3333333333333333,\"#9c179e\"],[0.4444444444444444,\"#bd3786\"],[0.5555555555555556,\"#d8576b\"],[0.6666666666666666,\"#ed7953\"],[0.7777777777777778,\"#fb9f3a\"],[0.8888888888888888,\"#fdca26\"],[1.0,\"#f0f921\"]]}],\"heatmapgl\":[{\"type\":\"heatmapgl\",\"colorbar\":{\"outlinewidth\":0,\"ticks\":\"\"},\"colorscale\":[[0.0,\"#0d0887\"],[0.1111111111111111,\"#46039f\"],[0.2222222222222222,\"#7201a8\"],[0.3333333333333333,\"#9c179e\"],[0.4444444444444444,\"#bd3786\"],[0.5555555555555556,\"#d8576b\"],[0.6666666666666666,\"#ed7953\"],[0.7777777777777778,\"#fb9f3a\"],[0.8888888888888888,\"#fdca26\"],[1.0,\"#f0f921\"]]}],\"contourcarpet\":[{\"type\":\"contourcarpet\",\"colorbar\":{\"outlinewidth\":0,\"ticks\":\"\"}}],\"contour\":[{\"type\":\"contour\",\"colorbar\":{\"outlinewidth\":0,\"ticks\":\"\"},\"colorscale\":[[0.0,\"#0d0887\"],[0.1111111111111111,\"#46039f\"],[0.2222222222222222,\"#7201a8\"],[0.3333333333333333,\"#9c179e\"],[0.4444444444444444,\"#bd3786\"],[0.5555555555555556,\"#d8576b\"],[0.6666666666666666,\"#ed7953\"],[0.7777777777777778,\"#fb9f3a\"],[0.8888888888888888,\"#fdca26\"],[1.0,\"#f0f921\"]]}],\"surface\":[{\"type\":\"surface\",\"colorbar\":{\"outlinewidth\":0,\"ticks\":\"\"},\"colorscale\":[[0.0,\"#0d0887\"],[0.1111111111111111,\"#46039f\"],[0.2222222222222222,\"#7201a8\"],[0.3333333333333333,\"#9c179e\"],[0.4444444444444444,\"#bd3786\"],[0.5555555555555556,\"#d8576b\"],[0.6666666666666666,\"#ed7953\"],[0.7777777777777778,\"#fb9f3a\"],[0.8888888888888888,\"#fdca26\"],[1.0,\"#f0f921\"]]}],\"mesh3d\":[{\"type\":\"mesh3d\",\"colorbar\":{\"outlinewidth\":0,\"ticks\":\"\"}}],\"scatter\":[{\"fillpattern\":{\"fillmode\":\"overlay\",\"size\":10,\"solidity\":0.2},\"type\":\"scatter\"}],\"parcoords\":[{\"type\":\"parcoords\",\"line\":{\"colorbar\":{\"outlinewidth\":0,\"ticks\":\"\"}}}],\"scatterpolargl\":[{\"type\":\"scatterpolargl\",\"marker\":{\"colorbar\":{\"outlinewidth\":0,\"ticks\":\"\"}}}],\"bar\":[{\"error_x\":{\"color\":\"#2a3f5f\"},\"error_y\":{\"color\":\"#2a3f5f\"},\"marker\":{\"line\":{\"color\":\"#E5ECF6\",\"width\":0.5},\"pattern\":{\"fillmode\":\"overlay\",\"size\":10,\"solidity\":0.2}},\"type\":\"bar\"}],\"scattergeo\":[{\"type\":\"scattergeo\",\"marker\":{\"colorbar\":{\"outlinewidth\":0,\"ticks\":\"\"}}}],\"scatterpolar\":[{\"type\":\"scatterpolar\",\"marker\":{\"colorbar\":{\"outlinewidth\":0,\"ticks\":\"\"}}}],\"histogram\":[{\"marker\":{\"pattern\":{\"fillmode\":\"overlay\",\"size\":10,\"solidity\":0.2}},\"type\":\"histogram\"}],\"scattergl\":[{\"type\":\"scattergl\",\"marker\":{\"colorbar\":{\"outlinewidth\":0,\"ticks\":\"\"}}}],\"scatter3d\":[{\"type\":\"scatter3d\",\"line\":{\"colorbar\":{\"outlinewidth\":0,\"ticks\":\"\"}},\"marker\":{\"colorbar\":{\"outlinewidth\":0,\"ticks\":\"\"}}}],\"scattermapbox\":[{\"type\":\"scattermapbox\",\"marker\":{\"colorbar\":{\"outlinewidth\":0,\"ticks\":\"\"}}}],\"scatterternary\":[{\"type\":\"scatterternary\",\"marker\":{\"colorbar\":{\"outlinewidth\":0,\"ticks\":\"\"}}}],\"scattercarpet\":[{\"type\":\"scattercarpet\",\"marker\":{\"colorbar\":{\"outlinewidth\":0,\"ticks\":\"\"}}}],\"carpet\":[{\"aaxis\":{\"endlinecolor\":\"#2a3f5f\",\"gridcolor\":\"white\",\"linecolor\":\"white\",\"minorgridcolor\":\"white\",\"startlinecolor\":\"#2a3f5f\"},\"baxis\":{\"endlinecolor\":\"#2a3f5f\",\"gridcolor\":\"white\",\"linecolor\":\"white\",\"minorgridcolor\":\"white\",\"startlinecolor\":\"#2a3f5f\"},\"type\":\"carpet\"}],\"table\":[{\"cells\":{\"fill\":{\"color\":\"#EBF0F8\"},\"line\":{\"color\":\"white\"}},\"header\":{\"fill\":{\"color\":\"#C8D4E3\"},\"line\":{\"color\":\"white\"}},\"type\":\"table\"}],\"barpolar\":[{\"marker\":{\"line\":{\"color\":\"#E5ECF6\",\"width\":0.5},\"pattern\":{\"fillmode\":\"overlay\",\"size\":10,\"solidity\":0.2}},\"type\":\"barpolar\"}],\"pie\":[{\"automargin\":true,\"type\":\"pie\"}]},\"layout\":{\"autotypenumbers\":\"strict\",\"colorway\":[\"#636efa\",\"#EF553B\",\"#00cc96\",\"#ab63fa\",\"#FFA15A\",\"#19d3f3\",\"#FF6692\",\"#B6E880\",\"#FF97FF\",\"#FECB52\"],\"font\":{\"color\":\"#2a3f5f\"},\"hovermode\":\"closest\",\"hoverlabel\":{\"align\":\"left\"},\"paper_bgcolor\":\"white\",\"plot_bgcolor\":\"#E5ECF6\",\"polar\":{\"bgcolor\":\"#E5ECF6\",\"angularaxis\":{\"gridcolor\":\"white\",\"linecolor\":\"white\",\"ticks\":\"\"},\"radialaxis\":{\"gridcolor\":\"white\",\"linecolor\":\"white\",\"ticks\":\"\"}},\"ternary\":{\"bgcolor\":\"#E5ECF6\",\"aaxis\":{\"gridcolor\":\"white\",\"linecolor\":\"white\",\"ticks\":\"\"},\"baxis\":{\"gridcolor\":\"white\",\"linecolor\":\"white\",\"ticks\":\"\"},\"caxis\":{\"gridcolor\":\"white\",\"linecolor\":\"white\",\"ticks\":\"\"}},\"coloraxis\":{\"colorbar\":{\"outlinewidth\":0,\"ticks\":\"\"}},\"colorscale\":{\"sequential\":[[0.0,\"#0d0887\"],[0.1111111111111111,\"#46039f\"],[0.2222222222222222,\"#7201a8\"],[0.3333333333333333,\"#9c179e\"],[0.4444444444444444,\"#bd3786\"],[0.5555555555555556,\"#d8576b\"],[0.6666666666666666,\"#ed7953\"],[0.7777777777777778,\"#fb9f3a\"],[0.8888888888888888,\"#fdca26\"],[1.0,\"#f0f921\"]],\"sequentialminus\":[[0.0,\"#0d0887\"],[0.1111111111111111,\"#46039f\"],[0.2222222222222222,\"#7201a8\"],[0.3333333333333333,\"#9c179e\"],[0.4444444444444444,\"#bd3786\"],[0.5555555555555556,\"#d8576b\"],[0.6666666666666666,\"#ed7953\"],[0.7777777777777778,\"#fb9f3a\"],[0.8888888888888888,\"#fdca26\"],[1.0,\"#f0f921\"]],\"diverging\":[[0,\"#8e0152\"],[0.1,\"#c51b7d\"],[0.2,\"#de77ae\"],[0.3,\"#f1b6da\"],[0.4,\"#fde0ef\"],[0.5,\"#f7f7f7\"],[0.6,\"#e6f5d0\"],[0.7,\"#b8e186\"],[0.8,\"#7fbc41\"],[0.9,\"#4d9221\"],[1,\"#276419\"]]},\"xaxis\":{\"gridcolor\":\"white\",\"linecolor\":\"white\",\"ticks\":\"\",\"title\":{\"standoff\":15},\"zerolinecolor\":\"white\",\"automargin\":true,\"zerolinewidth\":2},\"yaxis\":{\"gridcolor\":\"white\",\"linecolor\":\"white\",\"ticks\":\"\",\"title\":{\"standoff\":15},\"zerolinecolor\":\"white\",\"automargin\":true,\"zerolinewidth\":2},\"scene\":{\"xaxis\":{\"backgroundcolor\":\"#E5ECF6\",\"gridcolor\":\"white\",\"linecolor\":\"white\",\"showbackground\":true,\"ticks\":\"\",\"zerolinecolor\":\"white\",\"gridwidth\":2},\"yaxis\":{\"backgroundcolor\":\"#E5ECF6\",\"gridcolor\":\"white\",\"linecolor\":\"white\",\"showbackground\":true,\"ticks\":\"\",\"zerolinecolor\":\"white\",\"gridwidth\":2},\"zaxis\":{\"backgroundcolor\":\"#E5ECF6\",\"gridcolor\":\"white\",\"linecolor\":\"white\",\"showbackground\":true,\"ticks\":\"\",\"zerolinecolor\":\"white\",\"gridwidth\":2}},\"shapedefaults\":{\"line\":{\"color\":\"#2a3f5f\"}},\"annotationdefaults\":{\"arrowcolor\":\"#2a3f5f\",\"arrowhead\":0,\"arrowwidth\":1},\"geo\":{\"bgcolor\":\"white\",\"landcolor\":\"#E5ECF6\",\"subunitcolor\":\"white\",\"showland\":true,\"showlakes\":true,\"lakecolor\":\"white\"},\"title\":{\"x\":0.05},\"mapbox\":{\"style\":\"light\"}}},\"xaxis\":{\"anchor\":\"y\",\"domain\":[0.0,1.0],\"title\":{\"text\":\"Daily_Usage_Time (minutes)\"}},\"yaxis\":{\"anchor\":\"x\",\"domain\":[0.0,1.0],\"title\":{\"text\":\"count\"}},\"legend\":{\"title\":{\"text\":\"Dominant_Emotion\"},\"tracegroupgap\":0},\"title\":{\"text\":\"Time Usage by Dominant Emotion\"},\"barmode\":\"relative\"},                        {\"responsive\": true}                    ).then(function(){\n",
              "                            \n",
              "var gd = document.getElementById('7390ef98-6cad-44d8-b262-504ef714cb87');\n",
              "var x = new MutationObserver(function (mutations, observer) {{\n",
              "        var display = window.getComputedStyle(gd).display;\n",
              "        if (!display || display === 'none') {{\n",
              "            console.log([gd, 'removed!']);\n",
              "            Plotly.purge(gd);\n",
              "            observer.disconnect();\n",
              "        }}\n",
              "}});\n",
              "\n",
              "// Listen for the removal of the full notebook cells\n",
              "var notebookContainer = gd.closest('#notebook-container');\n",
              "if (notebookContainer) {{\n",
              "    x.observe(notebookContainer, {childList: true});\n",
              "}}\n",
              "\n",
              "// Listen for the clearing of the current output cell\n",
              "var outputEl = gd.closest('.output');\n",
              "if (outputEl) {{\n",
              "    x.observe(outputEl, {childList: true});\n",
              "}}\n",
              "\n",
              "                        })                };                            </script>        </div>\n",
              "</body>\n",
              "</html>"
            ]
          },
          "metadata": {}
        }
      ]
    },
    {
      "cell_type": "markdown",
      "source": [
        "### Likes Received VS Emotions\n",
        "* This is the last realation I'll be looking in this data."
      ],
      "metadata": {
        "id": "af1RRGkkFBgq"
      }
    },
    {
      "cell_type": "code",
      "source": [
        "plt = px.histogram(train_df, x='Likes_Received_Per_Day', color='Dominant_Emotion', title='Likes Received vs Dominant Emotion')\n",
        "plt.show()"
      ],
      "metadata": {
        "id": "7J7AhvJxFBgq",
        "outputId": "aa6bf121-3029-4b4c-a0a1-0eba71dc3681",
        "colab": {
          "base_uri": "https://localhost:8080/",
          "height": 542
        }
      },
      "execution_count": null,
      "outputs": [
        {
          "output_type": "display_data",
          "data": {
            "text/html": [
              "<html>\n",
              "<head><meta charset=\"utf-8\" /></head>\n",
              "<body>\n",
              "    <div>            <script src=\"https://cdnjs.cloudflare.com/ajax/libs/mathjax/2.7.5/MathJax.js?config=TeX-AMS-MML_SVG\"></script><script type=\"text/javascript\">if (window.MathJax && window.MathJax.Hub && window.MathJax.Hub.Config) {window.MathJax.Hub.Config({SVG: {font: \"STIX-Web\"}});}</script>                <script type=\"text/javascript\">window.PlotlyConfig = {MathJaxConfig: 'local'};</script>\n",
              "        <script charset=\"utf-8\" src=\"https://cdn.plot.ly/plotly-2.35.2.min.js\"></script>                <div id=\"d67b4045-8099-47ad-87b8-c24bbf13d3e4\" class=\"plotly-graph-div\" style=\"height:525px; width:100%;\"></div>            <script type=\"text/javascript\">                                    window.PLOTLYENV=window.PLOTLYENV || {};                                    if (document.getElementById(\"d67b4045-8099-47ad-87b8-c24bbf13d3e4\")) {                    Plotly.newPlot(                        \"d67b4045-8099-47ad-87b8-c24bbf13d3e4\",                        [{\"alignmentgroup\":\"True\",\"bingroup\":\"x\",\"hovertemplate\":\"Dominant_Emotion=Happiness\\u003cbr\\u003eLikes_Received_Per_Day=%{x}\\u003cbr\\u003ecount=%{y}\\u003cextra\\u003e\\u003c\\u002fextra\\u003e\",\"legendgroup\":\"Happiness\",\"marker\":{\"color\":\"#636efa\",\"pattern\":{\"shape\":\"\"}},\"name\":\"Happiness\",\"offsetgroup\":\"Happiness\",\"orientation\":\"v\",\"showlegend\":true,\"x\":[30.0,45.0,30.0,30.0,30.0,30.0,30.0,60.0,30.0,30.0,30.0,30.0,80.0,30.0,30.0,30.0,30.0,90.0,30.0,30.0,30.0,30.0,30.0,30.0,70.0,30.0,30.0,30.0,30.0,95.0,30.0,30.0,30.0,30.0,85.0,30.0,30.0,30.0,30.0,75.0,30.0,30.0,30.0,30.0,30.0,90.0,30.0,30.0,30.0,30.0,30.0,80.0,30.0,30.0,30.0,30.0,85.0,30.0,30.0,30.0,30.0,30.0,78.0,30.0,30.0,30.0,30.0,30.0,30.0,30.0,30.0,45.0,30.0,30.0,70.0,30.0,30.0,30.0,30.0,30.0,30.0,75.0,30.0,30.0,30.0,30.0,60.0,30.0,30.0,30.0,30.0,30.0,30.0,72.0,30.0,30.0,30.0,30.0,30.0,30.0,30.0,30.0,30.0,30.0,30.0,30.0,30.0,78.0,30.0,30.0,30.0,30.0,30.0,30.0,30.0,30.0,30.0,45.0,30.0,30.0,30.0,50.0,30.0,30.0,30.0,30.0,30.0,65.0,30.0,30.0,30.0,30.0,90.0,30.0,30.0,30.0,30.0,100.0,30.0,30.0,30.0,30.0,30.0,30.0,75.0,30.0,30.0,30.0,30.0,105.0,30.0,30.0,30.0,30.0,85.0,30.0,30.0,30.0,30.0,80.0,30.0,30.0,30.0,30.0,30.0,95.0,30.0,30.0,30.0,30.0,30.0,90.0,30.0,30.0,30.0,30.0,100.0,30.0,30.0,30.0,30.0,30.0,85.0,30.0,30.0,30.0,30.0,30.0,30.0,30.0,30.0,48.0,30.0,30.0,72.0,30.0,30.0,30.0,30.0,30.0,30.0,78.0,30.0,30.0,30.0,30.0,65.0,30.0,30.0,30.0,30.0,30.0,30.0,75.0,30.0,30.0,30.0,30.0,30.0,33.0,30.0,30.0,30.0,30.0,30.0,30.0,30.0,83.0,30.0,30.0,30.0,30.0,30.0,30.0,30.0,30.0,30.0,50.0,30.0,30.0,30.0,50.0,30.0,30.0,30.0,30.0,30.0,65.0,30.0,30.0,30.0,30.0,90.0,30.0,30.0,30.0,30.0,100.0,30.0,30.0,30.0,30.0,30.0,30.0,75.0,30.0,30.0,30.0,30.0,105.0,30.0,30.0,30.0,30.0,85.0,30.0,30.0,30.0,30.0,80.0,30.0,30.0,30.0,30.0,30.0,95.0,30.0,30.0,30.0,30.0,30.0,90.0,30.0,30.0,30.0,30.0,100.0,30.0,30.0,30.0,30.0,30.0,85.0,30.0,30.0,30.0,30.0,30.0,30.0,30.0,30.0,48.0,30.0,30.0,72.0,30.0,30.0,30.0,30.0,30.0,30.0,78.0,30.0,30.0,30.0,30.0,65.0,30.0,30.0,30.0,30.0,30.0,30.0,75.0,30.0,30.0,30.0,30.0,30.0,33.0,30.0,30.0,30.0,30.0,30.0,30.0,30.0,83.0,30.0,30.0,30.0,30.0,30.0,30.0,30.0,30.0,30.0,50.0,30.0,30.0,30.0,50.0,30.0,30.0,30.0,30.0,30.0,65.0,30.0,30.0,30.0,30.0,90.0,30.0,30.0,30.0,30.0,100.0,30.0,30.0,30.0,30.0,30.0,30.0,75.0,30.0,30.0,30.0,30.0,105.0,30.0,30.0,30.0,30.0,85.0,30.0,30.0,30.0,30.0,80.0,30.0,30.0,30.0,30.0,30.0,95.0,30.0,30.0,30.0,30.0,30.0,90.0,30.0,30.0,30.0,30.0,100.0,30.0,30.0,30.0,30.0,30.0,85.0,30.0,30.0,30.0,30.0,30.0,30.0,30.0,30.0,48.0,30.0,30.0,72.0,30.0,30.0,30.0,30.0,30.0,30.0,78.0,30.0,30.0,30.0,30.0,65.0,30.0,30.0,30.0,30.0,30.0,30.0,75.0,30.0,30.0,30.0,30.0,30.0,33.0,30.0,30.0,30.0,30.0,30.0,30.0,30.0,83.0,30.0,30.0,30.0,30.0,30.0,30.0,30.0,30.0,30.0,50.0,30.0,30.0,30.0,50.0,30.0,30.0,30.0,30.0,30.0,65.0,30.0,30.0,30.0,30.0,90.0,30.0,30.0,30.0,30.0,100.0,30.0,30.0,30.0,30.0,30.0,30.0,75.0,30.0,30.0,30.0,30.0,105.0,30.0,30.0,30.0,30.0,85.0,30.0,30.0,30.0,30.0,80.0,30.0,30.0,30.0,30.0,30.0,95.0,30.0,30.0,30.0,30.0,30.0,90.0,30.0,30.0,30.0,30.0,100.0,30.0,30.0,30.0,30.0,30.0,85.0,30.0,30.0,30.0,30.0,30.0,30.0,30.0,30.0,48.0,30.0,30.0,72.0,30.0,30.0,30.0,30.0,30.0,30.0,78.0,30.0,30.0,30.0,30.0,65.0,30.0,30.0,30.0,30.0,30.0,30.0,75.0,30.0,30.0,30.0,30.0,30.0,33.0,30.0,30.0,30.0,30.0,30.0,30.0,30.0,83.0,30.0,30.0,30.0,30.0,30.0,30.0,30.0,30.0,30.0,50.0,30.0,30.0,30.0,50.0,30.0,30.0,30.0,30.0,30.0,65.0,30.0,30.0,30.0,30.0,90.0,30.0,30.0,30.0,30.0,100.0,30.0,30.0,30.0,30.0,30.0,30.0,75.0,30.0,30.0,30.0,30.0,105.0,30.0,30.0,30.0,30.0,85.0,30.0,30.0,30.0,30.0,80.0,30.0,30.0,30.0,30.0,30.0,95.0,30.0,30.0,30.0,30.0,30.0,90.0,30.0,30.0,30.0,30.0,100.0,30.0,30.0,30.0,30.0,30.0,85.0,30.0,30.0,30.0,30.0,30.0,30.0,30.0,30.0,48.0,30.0,30.0,72.0,30.0,30.0,30.0,30.0,30.0,30.0,78.0,30.0,30.0,30.0,30.0,65.0,30.0,30.0,30.0,30.0,30.0,30.0,75.0,30.0,30.0,30.0,30.0,30.0,33.0,30.0,30.0,30.0,30.0,30.0,30.0,30.0,83.0,30.0,30.0,30.0,30.0,30.0,30.0,30.0,30.0,30.0,50.0,30.0,30.0,30.0,50.0,30.0,30.0,30.0,30.0,30.0,65.0,30.0,30.0,30.0,30.0,90.0,30.0,30.0,30.0,30.0,100.0,30.0,30.0,30.0,30.0,30.0,30.0,75.0,30.0,30.0,30.0,30.0,105.0,30.0,30.0,30.0,30.0,85.0,30.0,30.0,30.0,30.0,80.0,30.0,30.0,30.0,30.0,30.0,95.0,30.0,30.0,30.0,30.0,30.0,30.0,30.0,30.0,30.0,90.0,30.0,30.0,30.0,30.0,100.0,30.0,30.0,30.0,30.0,30.0,85.0,30.0,30.0,30.0,30.0,30.0,30.0,30.0,30.0,48.0,30.0,30.0,72.0,30.0,30.0,30.0,30.0,30.0,30.0,78.0,30.0,30.0,30.0,30.0,65.0,30.0,30.0,30.0,30.0,30.0,30.0,75.0,30.0,30.0,30.0,30.0,30.0,33.0,30.0,30.0,30.0,30.0,30.0,30.0,30.0,83.0,30.0,30.0,30.0,30.0,30.0,30.0,30.0,30.0,30.0,50.0,30.0,30.0,30.0,50.0,30.0,30.0,30.0,30.0,30.0,65.0,30.0,30.0,30.0,30.0,90.0,30.0,30.0,30.0,30.0,100.0,30.0,30.0,30.0,30.0,30.0,30.0,75.0,30.0,30.0,30.0,30.0,105.0,30.0,30.0,30.0,30.0,85.0,30.0,30.0,30.0,30.0,80.0,30.0,30.0,30.0,30.0,30.0,95.0,30.0,30.0,30.0,30.0,30.0,90.0,30.0,30.0,30.0,30.0,100.0,30.0,30.0,30.0,30.0,30.0,85.0,30.0,30.0,30.0,30.0,30.0,30.0,30.0,30.0,48.0,30.0,30.0,72.0,30.0,30.0,30.0,30.0,30.0,30.0,78.0,30.0,30.0,30.0,30.0,65.0,30.0,30.0,30.0,30.0,30.0,30.0,75.0,30.0,30.0,30.0,30.0,30.0,33.0,30.0,30.0,30.0,30.0,30.0,30.0,30.0,83.0,30.0,30.0,30.0,30.0,30.0,30.0,30.0,30.0,30.0,50.0,30.0,30.0,30.0,50.0,30.0,30.0,30.0,30.0,30.0,65.0,30.0,30.0,30.0,30.0,90.0,30.0,30.0,30.0,30.0,100.0,30.0,30.0,30.0,30.0,30.0,30.0,75.0,30.0,30.0,30.0,30.0,105.0,30.0,30.0,30.0,30.0,85.0,30.0,30.0,30.0,30.0,80.0,30.0,30.0,30.0,30.0,30.0,95.0,30.0,30.0,30.0,30.0,30.0,90.0,30.0,30.0,30.0,30.0,100.0,30.0,30.0,30.0,30.0,30.0,85.0,30.0,30.0,30.0,30.0,30.0,30.0,30.0,30.0,48.0,30.0,30.0,72.0,30.0,30.0,30.0,30.0,30.0,30.0,78.0,30.0,30.0,30.0,30.0,65.0,30.0,30.0,30.0,30.0,30.0,30.0,75.0,30.0,30.0,30.0,30.0,30.0,33.0,30.0,30.0,30.0,30.0,30.0,30.0,30.0,83.0,30.0,30.0,30.0,30.0,30.0,30.0,30.0,30.0,30.0,50.0,30.0,30.0,30.0,50.0,30.0,30.0,30.0,30.0,30.0,65.0,30.0,30.0,30.0,30.0,90.0,30.0,30.0,30.0,30.0,100.0,30.0,30.0,30.0,30.0,30.0,30.0,75.0,30.0,30.0,30.0,30.0,105.0,30.0,30.0,30.0,30.0,85.0,30.0,30.0,30.0,30.0,80.0,30.0,30.0,30.0,30.0,30.0,95.0,30.0,30.0,30.0,30.0,30.0,90.0,30.0,30.0,30.0,30.0,100.0,30.0,30.0,30.0,30.0,30.0,85.0,30.0,30.0,30.0,30.0,30.0,30.0,30.0,30.0,48.0,30.0,30.0,72.0,30.0,30.0,30.0,30.0,30.0,30.0,78.0,30.0,30.0,30.0,30.0,65.0,30.0,30.0,30.0,30.0,30.0,30.0,75.0,30.0,30.0,30.0,30.0,30.0,33.0,30.0,30.0,30.0,30.0,30.0,30.0,30.0,83.0,30.0,30.0,30.0,30.0,30.0,30.0,30.0,30.0,30.0,50.0,30.0,30.0],\"xaxis\":\"x\",\"yaxis\":\"y\",\"type\":\"histogram\"},{\"alignmentgroup\":\"True\",\"bingroup\":\"x\",\"hovertemplate\":\"Dominant_Emotion=Anger\\u003cbr\\u003eLikes_Received_Per_Day=%{x}\\u003cbr\\u003ecount=%{y}\\u003cextra\\u003e\\u003c\\u002fextra\\u003e\",\"legendgroup\":\"Anger\",\"marker\":{\"color\":\"#EF553B\",\"pattern\":{\"shape\":\"\"}},\"name\":\"Anger\",\"offsetgroup\":\"Anger\",\"orientation\":\"v\",\"showlegend\":true,\"x\":[20.0,30.0,40.0,28.0,38.0,35.0,40.0,29.0,20.0,20.0,55.0,50.0,15.0,30.0,40.0,50.0,35.0,43.0,45.0,50.0,33.0,22.0,24.0,60.0,55.0,18.0,30.0,40.0,50.0,35.0,43.0,45.0,50.0,33.0,22.0,24.0,60.0,55.0,18.0,30.0,40.0,50.0,35.0,43.0,45.0,50.0,33.0,22.0,24.0,60.0,55.0,18.0,30.0,40.0,50.0,35.0,43.0,45.0,50.0,33.0,22.0,24.0,60.0,55.0,18.0,30.0,40.0,50.0,35.0,43.0,45.0,50.0,33.0,22.0,24.0,60.0,55.0,18.0,30.0,40.0,50.0,35.0,43.0,45.0,50.0,33.0,22.0,24.0,60.0,55.0,18.0,30.0,40.0,50.0,35.0,43.0,45.0,50.0,33.0,22.0,24.0,60.0,55.0,18.0,30.0,40.0,50.0,35.0,43.0,45.0,50.0,33.0,22.0,24.0,60.0,55.0,18.0,30.0,40.0,50.0,35.0,43.0,45.0,50.0,33.0,22.0,24.0,60.0,55.0,18.0],\"xaxis\":\"x\",\"yaxis\":\"y\",\"type\":\"histogram\"},{\"alignmentgroup\":\"True\",\"bingroup\":\"x\",\"hovertemplate\":\"Dominant_Emotion=Neutral\\u003cbr\\u003eLikes_Received_Per_Day=%{x}\\u003cbr\\u003ecount=%{y}\\u003cextra\\u003e\\u003c\\u002fextra\\u003e\",\"legendgroup\":\"Neutral\",\"marker\":{\"color\":\"#00cc96\",\"pattern\":{\"shape\":\"\"}},\"name\":\"Neutral\",\"offsetgroup\":\"Neutral\",\"orientation\":\"v\",\"showlegend\":true,\"x\":[15.0,10.0,5.0,8.0,18.0,27.0,55.0,20.0,70.0,25.0,18.0,25.0,15.0,28.0,35.0,20.0,15.0,33.0,12.0,38.0,20.0,15.0,10.0,12.0,20.0,30.0,60.0,25.0,80.0,27.0,21.0,27.0,17.0,30.0,37.0,22.0,18.0,37.0,14.0,40.0,20.0,15.0,10.0,12.0,20.0,30.0,60.0,25.0,80.0,27.0,21.0,27.0,17.0,30.0,37.0,22.0,18.0,37.0,14.0,40.0,20.0,15.0,10.0,12.0,20.0,30.0,60.0,25.0,80.0,27.0,21.0,27.0,17.0,30.0,37.0,22.0,18.0,37.0,14.0,40.0,20.0,15.0,10.0,12.0,20.0,30.0,60.0,25.0,80.0,27.0,21.0,27.0,17.0,30.0,37.0,22.0,18.0,37.0,14.0,40.0,20.0,15.0,10.0,12.0,20.0,30.0,60.0,25.0,80.0,27.0,21.0,27.0,17.0,30.0,37.0,22.0,18.0,37.0,14.0,40.0,20.0,15.0,10.0,12.0,20.0,30.0,60.0,25.0,80.0,27.0,21.0,27.0,17.0,30.0,37.0,22.0,18.0,37.0,14.0,40.0,20.0,15.0,10.0,12.0,20.0,30.0,60.0,25.0,80.0,27.0,21.0,27.0,17.0,30.0,37.0,22.0,18.0,37.0,14.0,40.0,20.0,15.0,10.0,12.0,20.0,30.0,60.0,25.0,80.0,27.0,21.0,27.0,17.0,30.0,37.0,22.0,18.0,37.0,14.0,40.0,20.0,15.0,10.0,12.0,20.0,30.0,60.0,25.0,80.0,27.0,21.0,27.0,17.0,30.0,37.0,22.0,18.0,37.0,14.0,40.0],\"xaxis\":\"x\",\"yaxis\":\"y\",\"type\":\"histogram\"},{\"alignmentgroup\":\"True\",\"bingroup\":\"x\",\"hovertemplate\":\"Dominant_Emotion=Anxiety\\u003cbr\\u003eLikes_Received_Per_Day=%{x}\\u003cbr\\u003ecount=%{y}\\u003cextra\\u003e\\u003c\\u002fextra\\u003e\",\"legendgroup\":\"Anxiety\",\"marker\":{\"color\":\"#ab63fa\",\"pattern\":{\"shape\":\"\"}},\"name\":\"Anxiety\",\"offsetgroup\":\"Anxiety\",\"orientation\":\"v\",\"showlegend\":true,\"x\":[100.0,35.0,55.0,25.0,9.0,22.0,18.0,28.0,10.0,40.0,50.0,45.0,36.0,12.0,35.0,28.0,65.0,110.0,45.0,65.0,30.0,12.0,27.0,22.0,30.0,15.0,42.0,55.0,48.0,38.0,13.0,37.0,30.0,70.0,110.0,45.0,65.0,30.0,12.0,27.0,22.0,30.0,15.0,42.0,55.0,48.0,38.0,13.0,37.0,30.0,70.0,110.0,45.0,65.0,30.0,12.0,27.0,22.0,30.0,15.0,42.0,55.0,48.0,38.0,13.0,37.0,30.0,70.0,110.0,45.0,65.0,30.0,12.0,27.0,22.0,30.0,15.0,42.0,55.0,48.0,38.0,13.0,37.0,30.0,70.0,110.0,45.0,65.0,30.0,12.0,27.0,22.0,30.0,15.0,42.0,55.0,48.0,38.0,13.0,37.0,30.0,70.0,110.0,45.0,65.0,30.0,12.0,27.0,22.0,30.0,15.0,42.0,55.0,48.0,38.0,13.0,37.0,30.0,70.0,110.0,45.0,65.0,30.0,12.0,27.0,22.0,30.0,15.0,42.0,55.0,48.0,38.0,13.0,37.0,30.0,70.0,110.0,45.0,65.0,30.0,12.0,27.0,22.0,30.0,15.0,42.0,55.0,48.0,38.0,13.0,37.0,30.0,70.0,110.0,45.0,65.0,30.0,12.0,27.0,22.0,30.0,15.0,42.0,55.0,48.0,38.0,13.0,37.0,30.0,70.0],\"xaxis\":\"x\",\"yaxis\":\"y\",\"type\":\"histogram\"},{\"alignmentgroup\":\"True\",\"bingroup\":\"x\",\"hovertemplate\":\"Dominant_Emotion=Boredom\\u003cbr\\u003eLikes_Received_Per_Day=%{x}\\u003cbr\\u003ecount=%{y}\\u003cextra\\u003e\\u003c\\u002fextra\\u003e\",\"legendgroup\":\"Boredom\",\"marker\":{\"color\":\"#FFA15A\",\"pattern\":{\"shape\":\"\"}},\"name\":\"Boredom\",\"offsetgroup\":\"Boredom\",\"orientation\":\"v\",\"showlegend\":true,\"x\":[5.0,12.0,11.0,13.0,10.0,12.0,8.0,20.0,10.0,8.0,12.0,18.0,8.0,30.0,10.0,14.0,17.0,17.0,11.0,15.0,12.0,22.0,12.0,12.0,13.0,20.0,10.0,35.0,10.0,14.0,17.0,17.0,11.0,15.0,12.0,22.0,12.0,12.0,13.0,20.0,10.0,35.0,10.0,14.0,17.0,17.0,11.0,15.0,12.0,22.0,12.0,12.0,13.0,20.0,10.0,35.0,10.0,14.0,17.0,17.0,11.0,15.0,12.0,22.0,12.0,12.0,13.0,20.0,10.0,35.0,10.0,14.0,17.0,17.0,11.0,15.0,12.0,22.0,12.0,12.0,13.0,20.0,10.0,35.0,10.0,14.0,17.0,17.0,11.0,15.0,12.0,22.0,12.0,12.0,13.0,20.0,10.0,35.0,10.0,14.0,17.0,17.0,11.0,15.0,12.0,22.0,12.0,12.0,13.0,20.0,10.0,35.0,10.0,14.0,17.0,17.0,11.0,15.0,12.0,22.0,12.0,12.0,13.0,20.0,10.0,35.0,10.0,14.0,17.0,17.0,11.0,15.0,12.0,22.0,12.0,12.0,13.0,20.0,10.0,35.0],\"xaxis\":\"x\",\"yaxis\":\"y\",\"type\":\"histogram\"},{\"alignmentgroup\":\"True\",\"bingroup\":\"x\",\"hovertemplate\":\"Dominant_Emotion=Sadness\\u003cbr\\u003eLikes_Received_Per_Day=%{x}\\u003cbr\\u003ecount=%{y}\\u003cextra\\u003e\\u003c\\u002fextra\\u003e\",\"legendgroup\":\"Sadness\",\"marker\":{\"color\":\"#19d3f3\",\"pattern\":{\"shape\":\"\"}},\"name\":\"Sadness\",\"offsetgroup\":\"Sadness\",\"orientation\":\"v\",\"showlegend\":true,\"x\":[25.0,20.0,33.0,20.0,6.0,88.0,6.0,33.0,60.0,15.0,40.0,18.0,22.0,18.0,40.0,20.0,35.0,30.0,40.0,25.0,8.0,95.0,9.0,37.0,65.0,18.0,42.0,21.0,23.0,20.0,45.0,23.0,35.0,30.0,40.0,25.0,8.0,95.0,9.0,37.0,65.0,18.0,42.0,21.0,23.0,20.0,45.0,23.0,35.0,30.0,40.0,25.0,8.0,95.0,9.0,37.0,65.0,18.0,42.0,21.0,23.0,20.0,45.0,23.0,35.0,30.0,40.0,25.0,8.0,95.0,9.0,37.0,65.0,18.0,42.0,21.0,23.0,20.0,45.0,23.0,35.0,30.0,40.0,25.0,8.0,95.0,9.0,37.0,65.0,18.0,42.0,21.0,23.0,20.0,45.0,23.0,35.0,30.0,40.0,25.0,8.0,95.0,9.0,37.0,65.0,18.0,42.0,21.0,23.0,20.0,45.0,23.0,35.0,30.0,40.0,25.0,8.0,95.0,9.0,37.0,65.0,18.0,42.0,21.0,23.0,20.0,45.0,23.0,35.0,30.0,40.0,25.0,8.0,95.0,9.0,37.0,65.0,18.0,42.0,21.0,23.0,20.0,45.0,23.0,35.0,30.0,40.0,25.0,8.0,95.0,9.0,37.0,65.0,18.0,42.0,21.0,23.0,20.0,45.0,23.0],\"xaxis\":\"x\",\"yaxis\":\"y\",\"type\":\"histogram\"}],                        {\"template\":{\"data\":{\"histogram2dcontour\":[{\"type\":\"histogram2dcontour\",\"colorbar\":{\"outlinewidth\":0,\"ticks\":\"\"},\"colorscale\":[[0.0,\"#0d0887\"],[0.1111111111111111,\"#46039f\"],[0.2222222222222222,\"#7201a8\"],[0.3333333333333333,\"#9c179e\"],[0.4444444444444444,\"#bd3786\"],[0.5555555555555556,\"#d8576b\"],[0.6666666666666666,\"#ed7953\"],[0.7777777777777778,\"#fb9f3a\"],[0.8888888888888888,\"#fdca26\"],[1.0,\"#f0f921\"]]}],\"choropleth\":[{\"type\":\"choropleth\",\"colorbar\":{\"outlinewidth\":0,\"ticks\":\"\"}}],\"histogram2d\":[{\"type\":\"histogram2d\",\"colorbar\":{\"outlinewidth\":0,\"ticks\":\"\"},\"colorscale\":[[0.0,\"#0d0887\"],[0.1111111111111111,\"#46039f\"],[0.2222222222222222,\"#7201a8\"],[0.3333333333333333,\"#9c179e\"],[0.4444444444444444,\"#bd3786\"],[0.5555555555555556,\"#d8576b\"],[0.6666666666666666,\"#ed7953\"],[0.7777777777777778,\"#fb9f3a\"],[0.8888888888888888,\"#fdca26\"],[1.0,\"#f0f921\"]]}],\"heatmap\":[{\"type\":\"heatmap\",\"colorbar\":{\"outlinewidth\":0,\"ticks\":\"\"},\"colorscale\":[[0.0,\"#0d0887\"],[0.1111111111111111,\"#46039f\"],[0.2222222222222222,\"#7201a8\"],[0.3333333333333333,\"#9c179e\"],[0.4444444444444444,\"#bd3786\"],[0.5555555555555556,\"#d8576b\"],[0.6666666666666666,\"#ed7953\"],[0.7777777777777778,\"#fb9f3a\"],[0.8888888888888888,\"#fdca26\"],[1.0,\"#f0f921\"]]}],\"heatmapgl\":[{\"type\":\"heatmapgl\",\"colorbar\":{\"outlinewidth\":0,\"ticks\":\"\"},\"colorscale\":[[0.0,\"#0d0887\"],[0.1111111111111111,\"#46039f\"],[0.2222222222222222,\"#7201a8\"],[0.3333333333333333,\"#9c179e\"],[0.4444444444444444,\"#bd3786\"],[0.5555555555555556,\"#d8576b\"],[0.6666666666666666,\"#ed7953\"],[0.7777777777777778,\"#fb9f3a\"],[0.8888888888888888,\"#fdca26\"],[1.0,\"#f0f921\"]]}],\"contourcarpet\":[{\"type\":\"contourcarpet\",\"colorbar\":{\"outlinewidth\":0,\"ticks\":\"\"}}],\"contour\":[{\"type\":\"contour\",\"colorbar\":{\"outlinewidth\":0,\"ticks\":\"\"},\"colorscale\":[[0.0,\"#0d0887\"],[0.1111111111111111,\"#46039f\"],[0.2222222222222222,\"#7201a8\"],[0.3333333333333333,\"#9c179e\"],[0.4444444444444444,\"#bd3786\"],[0.5555555555555556,\"#d8576b\"],[0.6666666666666666,\"#ed7953\"],[0.7777777777777778,\"#fb9f3a\"],[0.8888888888888888,\"#fdca26\"],[1.0,\"#f0f921\"]]}],\"surface\":[{\"type\":\"surface\",\"colorbar\":{\"outlinewidth\":0,\"ticks\":\"\"},\"colorscale\":[[0.0,\"#0d0887\"],[0.1111111111111111,\"#46039f\"],[0.2222222222222222,\"#7201a8\"],[0.3333333333333333,\"#9c179e\"],[0.4444444444444444,\"#bd3786\"],[0.5555555555555556,\"#d8576b\"],[0.6666666666666666,\"#ed7953\"],[0.7777777777777778,\"#fb9f3a\"],[0.8888888888888888,\"#fdca26\"],[1.0,\"#f0f921\"]]}],\"mesh3d\":[{\"type\":\"mesh3d\",\"colorbar\":{\"outlinewidth\":0,\"ticks\":\"\"}}],\"scatter\":[{\"fillpattern\":{\"fillmode\":\"overlay\",\"size\":10,\"solidity\":0.2},\"type\":\"scatter\"}],\"parcoords\":[{\"type\":\"parcoords\",\"line\":{\"colorbar\":{\"outlinewidth\":0,\"ticks\":\"\"}}}],\"scatterpolargl\":[{\"type\":\"scatterpolargl\",\"marker\":{\"colorbar\":{\"outlinewidth\":0,\"ticks\":\"\"}}}],\"bar\":[{\"error_x\":{\"color\":\"#2a3f5f\"},\"error_y\":{\"color\":\"#2a3f5f\"},\"marker\":{\"line\":{\"color\":\"#E5ECF6\",\"width\":0.5},\"pattern\":{\"fillmode\":\"overlay\",\"size\":10,\"solidity\":0.2}},\"type\":\"bar\"}],\"scattergeo\":[{\"type\":\"scattergeo\",\"marker\":{\"colorbar\":{\"outlinewidth\":0,\"ticks\":\"\"}}}],\"scatterpolar\":[{\"type\":\"scatterpolar\",\"marker\":{\"colorbar\":{\"outlinewidth\":0,\"ticks\":\"\"}}}],\"histogram\":[{\"marker\":{\"pattern\":{\"fillmode\":\"overlay\",\"size\":10,\"solidity\":0.2}},\"type\":\"histogram\"}],\"scattergl\":[{\"type\":\"scattergl\",\"marker\":{\"colorbar\":{\"outlinewidth\":0,\"ticks\":\"\"}}}],\"scatter3d\":[{\"type\":\"scatter3d\",\"line\":{\"colorbar\":{\"outlinewidth\":0,\"ticks\":\"\"}},\"marker\":{\"colorbar\":{\"outlinewidth\":0,\"ticks\":\"\"}}}],\"scattermapbox\":[{\"type\":\"scattermapbox\",\"marker\":{\"colorbar\":{\"outlinewidth\":0,\"ticks\":\"\"}}}],\"scatterternary\":[{\"type\":\"scatterternary\",\"marker\":{\"colorbar\":{\"outlinewidth\":0,\"ticks\":\"\"}}}],\"scattercarpet\":[{\"type\":\"scattercarpet\",\"marker\":{\"colorbar\":{\"outlinewidth\":0,\"ticks\":\"\"}}}],\"carpet\":[{\"aaxis\":{\"endlinecolor\":\"#2a3f5f\",\"gridcolor\":\"white\",\"linecolor\":\"white\",\"minorgridcolor\":\"white\",\"startlinecolor\":\"#2a3f5f\"},\"baxis\":{\"endlinecolor\":\"#2a3f5f\",\"gridcolor\":\"white\",\"linecolor\":\"white\",\"minorgridcolor\":\"white\",\"startlinecolor\":\"#2a3f5f\"},\"type\":\"carpet\"}],\"table\":[{\"cells\":{\"fill\":{\"color\":\"#EBF0F8\"},\"line\":{\"color\":\"white\"}},\"header\":{\"fill\":{\"color\":\"#C8D4E3\"},\"line\":{\"color\":\"white\"}},\"type\":\"table\"}],\"barpolar\":[{\"marker\":{\"line\":{\"color\":\"#E5ECF6\",\"width\":0.5},\"pattern\":{\"fillmode\":\"overlay\",\"size\":10,\"solidity\":0.2}},\"type\":\"barpolar\"}],\"pie\":[{\"automargin\":true,\"type\":\"pie\"}]},\"layout\":{\"autotypenumbers\":\"strict\",\"colorway\":[\"#636efa\",\"#EF553B\",\"#00cc96\",\"#ab63fa\",\"#FFA15A\",\"#19d3f3\",\"#FF6692\",\"#B6E880\",\"#FF97FF\",\"#FECB52\"],\"font\":{\"color\":\"#2a3f5f\"},\"hovermode\":\"closest\",\"hoverlabel\":{\"align\":\"left\"},\"paper_bgcolor\":\"white\",\"plot_bgcolor\":\"#E5ECF6\",\"polar\":{\"bgcolor\":\"#E5ECF6\",\"angularaxis\":{\"gridcolor\":\"white\",\"linecolor\":\"white\",\"ticks\":\"\"},\"radialaxis\":{\"gridcolor\":\"white\",\"linecolor\":\"white\",\"ticks\":\"\"}},\"ternary\":{\"bgcolor\":\"#E5ECF6\",\"aaxis\":{\"gridcolor\":\"white\",\"linecolor\":\"white\",\"ticks\":\"\"},\"baxis\":{\"gridcolor\":\"white\",\"linecolor\":\"white\",\"ticks\":\"\"},\"caxis\":{\"gridcolor\":\"white\",\"linecolor\":\"white\",\"ticks\":\"\"}},\"coloraxis\":{\"colorbar\":{\"outlinewidth\":0,\"ticks\":\"\"}},\"colorscale\":{\"sequential\":[[0.0,\"#0d0887\"],[0.1111111111111111,\"#46039f\"],[0.2222222222222222,\"#7201a8\"],[0.3333333333333333,\"#9c179e\"],[0.4444444444444444,\"#bd3786\"],[0.5555555555555556,\"#d8576b\"],[0.6666666666666666,\"#ed7953\"],[0.7777777777777778,\"#fb9f3a\"],[0.8888888888888888,\"#fdca26\"],[1.0,\"#f0f921\"]],\"sequentialminus\":[[0.0,\"#0d0887\"],[0.1111111111111111,\"#46039f\"],[0.2222222222222222,\"#7201a8\"],[0.3333333333333333,\"#9c179e\"],[0.4444444444444444,\"#bd3786\"],[0.5555555555555556,\"#d8576b\"],[0.6666666666666666,\"#ed7953\"],[0.7777777777777778,\"#fb9f3a\"],[0.8888888888888888,\"#fdca26\"],[1.0,\"#f0f921\"]],\"diverging\":[[0,\"#8e0152\"],[0.1,\"#c51b7d\"],[0.2,\"#de77ae\"],[0.3,\"#f1b6da\"],[0.4,\"#fde0ef\"],[0.5,\"#f7f7f7\"],[0.6,\"#e6f5d0\"],[0.7,\"#b8e186\"],[0.8,\"#7fbc41\"],[0.9,\"#4d9221\"],[1,\"#276419\"]]},\"xaxis\":{\"gridcolor\":\"white\",\"linecolor\":\"white\",\"ticks\":\"\",\"title\":{\"standoff\":15},\"zerolinecolor\":\"white\",\"automargin\":true,\"zerolinewidth\":2},\"yaxis\":{\"gridcolor\":\"white\",\"linecolor\":\"white\",\"ticks\":\"\",\"title\":{\"standoff\":15},\"zerolinecolor\":\"white\",\"automargin\":true,\"zerolinewidth\":2},\"scene\":{\"xaxis\":{\"backgroundcolor\":\"#E5ECF6\",\"gridcolor\":\"white\",\"linecolor\":\"white\",\"showbackground\":true,\"ticks\":\"\",\"zerolinecolor\":\"white\",\"gridwidth\":2},\"yaxis\":{\"backgroundcolor\":\"#E5ECF6\",\"gridcolor\":\"white\",\"linecolor\":\"white\",\"showbackground\":true,\"ticks\":\"\",\"zerolinecolor\":\"white\",\"gridwidth\":2},\"zaxis\":{\"backgroundcolor\":\"#E5ECF6\",\"gridcolor\":\"white\",\"linecolor\":\"white\",\"showbackground\":true,\"ticks\":\"\",\"zerolinecolor\":\"white\",\"gridwidth\":2}},\"shapedefaults\":{\"line\":{\"color\":\"#2a3f5f\"}},\"annotationdefaults\":{\"arrowcolor\":\"#2a3f5f\",\"arrowhead\":0,\"arrowwidth\":1},\"geo\":{\"bgcolor\":\"white\",\"landcolor\":\"#E5ECF6\",\"subunitcolor\":\"white\",\"showland\":true,\"showlakes\":true,\"lakecolor\":\"white\"},\"title\":{\"x\":0.05},\"mapbox\":{\"style\":\"light\"}}},\"xaxis\":{\"anchor\":\"y\",\"domain\":[0.0,1.0],\"title\":{\"text\":\"Likes_Received_Per_Day\"}},\"yaxis\":{\"anchor\":\"x\",\"domain\":[0.0,1.0],\"title\":{\"text\":\"count\"}},\"legend\":{\"title\":{\"text\":\"Dominant_Emotion\"},\"tracegroupgap\":0},\"title\":{\"text\":\"Likes Received vs Dominant Emotion\"},\"barmode\":\"relative\"},                        {\"responsive\": true}                    ).then(function(){\n",
              "                            \n",
              "var gd = document.getElementById('d67b4045-8099-47ad-87b8-c24bbf13d3e4');\n",
              "var x = new MutationObserver(function (mutations, observer) {{\n",
              "        var display = window.getComputedStyle(gd).display;\n",
              "        if (!display || display === 'none') {{\n",
              "            console.log([gd, 'removed!']);\n",
              "            Plotly.purge(gd);\n",
              "            observer.disconnect();\n",
              "        }}\n",
              "}});\n",
              "\n",
              "// Listen for the removal of the full notebook cells\n",
              "var notebookContainer = gd.closest('#notebook-container');\n",
              "if (notebookContainer) {{\n",
              "    x.observe(notebookContainer, {childList: true});\n",
              "}}\n",
              "\n",
              "// Listen for the clearing of the current output cell\n",
              "var outputEl = gd.closest('.output');\n",
              "if (outputEl) {{\n",
              "    x.observe(outputEl, {childList: true});\n",
              "}}\n",
              "\n",
              "                        })                };                            </script>        </div>\n",
              "</body>\n",
              "</html>"
            ]
          },
          "metadata": {}
        }
      ]
    },
    {
      "cell_type": "markdown",
      "source": [
        "# Model Training"
      ],
      "metadata": {
        "id": "JJhAEqQrFBgq"
      }
    },
    {
      "cell_type": "code",
      "source": [
        "# Import the necessary libraries\n",
        "from sklearn.model_selection import train_test_split\n",
        "from sklearn.preprocessing import OneHotEncoder, StandardScaler\n",
        "from sklearn.compose import ColumnTransformer\n",
        "from sklearn.pipeline import Pipeline\n",
        "from sklearn.ensemble import RandomForestClassifier\n",
        "from xgboost import XGBClassifier\n",
        "from sklearn.metrics import classification_report"
      ],
      "metadata": {
        "id": "1I-0Lap6FBgq"
      },
      "execution_count": null,
      "outputs": []
    },
    {
      "cell_type": "code",
      "source": [
        "# Checking for missing values\n",
        "train_df.isnull().sum()"
      ],
      "metadata": {
        "id": "ZbLzTAPJFBgq",
        "outputId": "e5d4aca9-f477-4030-e829-e2ca7dea2923",
        "colab": {
          "base_uri": "https://localhost:8080/",
          "height": 397
        }
      },
      "execution_count": null,
      "outputs": [
        {
          "output_type": "execute_result",
          "data": {
            "text/plain": [
              "User_ID                       1003\n",
              "Age                              0\n",
              "Gender                           0\n",
              "Platform                         0\n",
              "Daily_Usage_Time (minutes)    1004\n",
              "Posts_Per_Day                    0\n",
              "Likes_Received_Per_Day           0\n",
              "Comments_Received_Per_Day        0\n",
              "Messages_Sent_Per_Day         1004\n",
              "Dominant_Emotion                 0\n",
              "dtype: int64"
            ],
            "text/html": [
              "<div>\n",
              "<style scoped>\n",
              "    .dataframe tbody tr th:only-of-type {\n",
              "        vertical-align: middle;\n",
              "    }\n",
              "\n",
              "    .dataframe tbody tr th {\n",
              "        vertical-align: top;\n",
              "    }\n",
              "\n",
              "    .dataframe thead th {\n",
              "        text-align: right;\n",
              "    }\n",
              "</style>\n",
              "<table border=\"1\" class=\"dataframe\">\n",
              "  <thead>\n",
              "    <tr style=\"text-align: right;\">\n",
              "      <th></th>\n",
              "      <th>0</th>\n",
              "    </tr>\n",
              "  </thead>\n",
              "  <tbody>\n",
              "    <tr>\n",
              "      <th>User_ID</th>\n",
              "      <td>1003</td>\n",
              "    </tr>\n",
              "    <tr>\n",
              "      <th>Age</th>\n",
              "      <td>0</td>\n",
              "    </tr>\n",
              "    <tr>\n",
              "      <th>Gender</th>\n",
              "      <td>0</td>\n",
              "    </tr>\n",
              "    <tr>\n",
              "      <th>Platform</th>\n",
              "      <td>0</td>\n",
              "    </tr>\n",
              "    <tr>\n",
              "      <th>Daily_Usage_Time (minutes)</th>\n",
              "      <td>1004</td>\n",
              "    </tr>\n",
              "    <tr>\n",
              "      <th>Posts_Per_Day</th>\n",
              "      <td>0</td>\n",
              "    </tr>\n",
              "    <tr>\n",
              "      <th>Likes_Received_Per_Day</th>\n",
              "      <td>0</td>\n",
              "    </tr>\n",
              "    <tr>\n",
              "      <th>Comments_Received_Per_Day</th>\n",
              "      <td>0</td>\n",
              "    </tr>\n",
              "    <tr>\n",
              "      <th>Messages_Sent_Per_Day</th>\n",
              "      <td>1004</td>\n",
              "    </tr>\n",
              "    <tr>\n",
              "      <th>Dominant_Emotion</th>\n",
              "      <td>0</td>\n",
              "    </tr>\n",
              "  </tbody>\n",
              "</table>\n",
              "</div><br><label><b>dtype:</b> int64</label>"
            ]
          },
          "metadata": {},
          "execution_count": 63
        }
      ]
    },
    {
      "cell_type": "code",
      "source": [
        "# Let's drop the missing values\n",
        "train_df.dropna(inplace=True)"
      ],
      "metadata": {
        "id": "shQW4JhKFBgq"
      },
      "execution_count": null,
      "outputs": []
    },
    {
      "cell_type": "code",
      "source": [
        "# Define features and target\n",
        "X = train_df.drop(columns=['Dominant_Emotion', 'User_ID']) # Features\n",
        "y = train_df['Dominant_Emotion'] # Target\n",
        "\n",
        "# Split into training and test sets\n",
        "X_train, X_test, y_train, y_test = train_test_split(X, y, test_size=0.2, random_state=42)\n"
      ],
      "metadata": {
        "id": "iEsWp5Z5FBgq"
      },
      "execution_count": null,
      "outputs": []
    },
    {
      "cell_type": "code",
      "source": [
        "# Define preprocessing steps. Seeperating the numerical and categorical features\n",
        "numeric_features = ['Daily_Usage_Time (minutes)', 'Posts_Per_Day', 'Likes_Received_Per_Day', 'Comments_Received_Per_Day', 'Messages_Sent_Per_Day']\n",
        "categorical_features = ['Age', 'Gender', 'Platform']\n",
        "\n",
        "preprocessor = ColumnTransformer(\n",
        "    transformers=[\n",
        "        ('num', StandardScaler(), numeric_features),\n",
        "        ('cat', OneHotEncoder(), categorical_features)])"
      ],
      "metadata": {
        "id": "wmjy7oLAFBgq"
      },
      "execution_count": null,
      "outputs": []
    },
    {
      "cell_type": "markdown",
      "source": [
        "### XGBoost Classifier"
      ],
      "metadata": {
        "id": "A-tq_DXPFBgq"
      }
    },
    {
      "cell_type": "code",
      "source": [
        "from sklearn.preprocessing import LabelEncoder\n",
        "# Encode target labels as integers\n",
        "label_encoder = LabelEncoder()\n",
        "y_encoded = label_encoder.fit_transform(y)"
      ],
      "metadata": {
        "id": "7_euLpqmFBgq"
      },
      "execution_count": null,
      "outputs": []
    },
    {
      "cell_type": "code",
      "source": [
        "# Split into training and test sets\n",
        "X_train, X_test, y_train, y_test = train_test_split(X, y_encoded, test_size=0.2, random_state=42)\n",
        "\n",
        "# XGBoost Classifier\n",
        "xgb_pipeline = Pipeline(steps=[('preprocessor', preprocessor),\n",
        "                               ('classifier', XGBClassifier(random_state=42))])\n",
        "\n",
        "xgb_pipeline.fit(X_train, y_train)\n",
        "y_pred_xgb = xgb_pipeline.predict(X_test)"
      ],
      "metadata": {
        "id": "bsKoJ9m3FBgq"
      },
      "execution_count": null,
      "outputs": []
    },
    {
      "cell_type": "code",
      "source": [
        "# Decode the predicted labels back to original string labels for the report\n",
        "y_test_decoded = label_encoder.inverse_transform(np.argmax(y_test, axis=1)) # Convert one-hot encoded y_test to 1D\n",
        "y_pred_xgb_decoded = label_encoder.inverse_transform(y_pred_xgb)\n",
        "\n",
        "from sklearn.metrics import accuracy_score, classification_report\n",
        "\n",
        "accuracy = accuracy_score(y_test_decoded, y_pred_xgb_decoded)\n",
        "\n",
        "print(\"XGBoost Classifier Report:\")\n",
        "print(classification_report(y_test_decoded, y_pred_xgb_decoded))"
      ],
      "metadata": {
        "id": "tP7wenFlFBgr",
        "outputId": "e69d2733-fce8-482f-e32e-bdb9539729e9",
        "colab": {
          "base_uri": "https://localhost:8080/"
        }
      },
      "execution_count": null,
      "outputs": [
        {
          "output_type": "stream",
          "name": "stdout",
          "text": [
            "XGBoost Classifier Report:\n",
            "              precision    recall  f1-score   support\n",
            "\n",
            "       Anger       1.00      1.00      1.00        29\n",
            "     Anxiety       1.00      0.92      0.96        39\n",
            "     Boredom       0.94      1.00      0.97        31\n",
            "   Happiness       1.00      1.00      1.00        35\n",
            "     Neutral       0.98      1.00      0.99        42\n",
            "     Sadness       1.00      1.00      1.00        24\n",
            "\n",
            "    accuracy                           0.98       200\n",
            "   macro avg       0.99      0.99      0.99       200\n",
            "weighted avg       0.99      0.98      0.98       200\n",
            "\n"
          ]
        }
      ]
    }
  ]
}